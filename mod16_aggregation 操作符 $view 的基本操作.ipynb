{
 "cells": [
  {
   "cell_type": "markdown",
   "id": "f4d55965",
   "metadata": {},
   "source": [
    "# $view 的基本操作"
   ]
  },
  {
   "cell_type": "raw",
   "id": "2013e383",
   "metadata": {},
   "source": [
    "注意使用操作符 $view 需要注意以下幾點:\n",
    "\n",
    "1. view 只能讀，不能寫。\n",
    "2. 跟 collection 比有一些限制。\n",
    "3. 可使用操作符 $match 做水平切片，$project 做垂直切片。\n",
    "\n",
    "\n",
    "To create or define a view:"
   ]
  },
  {
   "cell_type": "raw",
   "id": "08e57581",
   "metadata": {},
   "source": [
    "1. Use the db.createCollection() method or the create command:\n",
    "    \n",
    "db.createCollection(\n",
    "  \"<viewName>\",\n",
    "  {\n",
    "    \"viewOn\" : \"<source>\",\n",
    "    \"pipeline\" : [<pipeline>],\n",
    "    \"collation\" : { <collation> }\n",
    "  }\n",
    ")"
   ]
  },
  {
   "cell_type": "raw",
   "id": "379f8f51",
   "metadata": {},
   "source": [
    "2. Use the db.createView() method:\n",
    "    \n",
    "db.createView(\n",
    "  \"<viewName>\",\n",
    "  \"<source>\",\n",
    "  [<pipeline>],\n",
    "  {\n",
    "    \"collation\" : { <collation> }\n",
    "  }\n",
    ")"
   ]
  },
  {
   "cell_type": "code",
   "execution_count": null,
   "id": "f9742c54",
   "metadata": {},
   "outputs": [],
   "source": [
    "# this is the command we used to create the bronze_banking view in the database\n",
    "# identical commands were used to create the silver and gold views, the only\n",
    "# change was in the $match stage\n",
    "db.createView(\"bronze_banking\", \"customers\", [\n",
    "    {\n",
    "        $match: {\n",
    "            accountType: \"bronze\"\n",
    "        }\n",
    "\n",
    "    },\n",
    "    {\n",
    "        $project: {\n",
    "            _id: 0,\n",
    "            name: {\n",
    "                $concat: [\n",
    "                    { $cond: [ { $eq: [ \"$gender\", \"female\" ] }, \"Miss\", \"Mr.\"] },\n",
    "                    \" \",\n",
    "                    \"$name.first\",\n",
    "                    \" \",\n",
    "                    \"$name.last\"\n",
    "                ]\n",
    "            },\n",
    "            phone: 1,\n",
    "            email: 1,\n",
    "            address: 1,\n",
    "            account_ending: { $sbustr: [ \"$accountNumber\", 7, -1 ]}\n",
    "\n",
    "        }\n",
    "    }\n",
    "])"
   ]
  },
  {
   "cell_type": "code",
   "execution_count": null,
   "id": "c7bc8f03",
   "metadata": {},
   "outputs": [],
   "source": [
    "# getting all collections in a database and seeing their information\n",
    "# 會有 collections 跟 views 的資訊，可從 type 分辨。\n",
    "db.getCollectionInfos()"
   ]
  },
  {
   "cell_type": "code",
   "execution_count": null,
   "id": "47e8ad5f",
   "metadata": {},
   "outputs": [],
   "source": [
    "# getting information on views only\n",
    "db.system.views.find()"
   ]
  },
  {
   "cell_type": "code",
   "execution_count": null,
   "id": "1c9aa8ae",
   "metadata": {},
   "outputs": [],
   "source": [
    "db.bronze_banking.findOne()"
   ]
  }
 ],
 "metadata": {
  "kernelspec": {
   "display_name": "Python 3",
   "language": "python",
   "name": "python3"
  },
  "language_info": {
   "codemirror_mode": {
    "name": "ipython",
    "version": 3
   },
   "file_extension": ".py",
   "mimetype": "text/x-python",
   "name": "python",
   "nbconvert_exporter": "python",
   "pygments_lexer": "ipython3",
   "version": "3.8.10"
  }
 },
 "nbformat": 4,
 "nbformat_minor": 5
}
