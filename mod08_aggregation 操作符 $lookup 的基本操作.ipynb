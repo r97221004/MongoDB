{
 "cells": [
  {
   "cell_type": "markdown",
   "id": "b60a1678",
   "metadata": {},
   "source": [
    "# $lookup 的基本操作"
   ]
  },
  {
   "cell_type": "markdown",
   "id": "dbeb7bbd",
   "metadata": {},
   "source": [
    "## 用法一"
   ]
  },
  {
   "cell_type": "raw",
   "id": "7099a871",
   "metadata": {},
   "source": [
    "注意操作符 $lookup 我們應該要知道的幾件事:\n",
    "\n",
    "1. 兩個 documents 要在同一個資料庫，且 from 端不能被 shared。\n",
    "2. localField 與 foreignField 兩個可以是值也可以是 array。\n",
    "3. as 的名字如果已經有了，資料會被 overwritten，且結果會是一個 array，因為可能匹配到很多 documents。\n",
    "4. 還有其他種寫法。"
   ]
  },
  {
   "cell_type": "raw",
   "id": "4130a663",
   "metadata": {},
   "source": [
    "Performs a left outer join to an unsharded collection in the same database to filter in documents from the \"joined\" collection for processing. To each input document, the $lookup stage adds a new array field whose elements are the matching documents from the \"joined\" collection. The $lookup stage passes these reshaped documents to the next stage.\n",
    "\n",
    "To perform an equality match between a field from the input documents with a field from the documents of the \"joined\" collection, the $lookup stage has the following syntax:"
   ]
  },
  {
   "cell_type": "code",
   "execution_count": null,
   "id": "302a432d",
   "metadata": {},
   "outputs": [],
   "source": [
    "{\n",
    "   $lookup:\n",
    "     {\n",
    "       from: <collection to join>,\n",
    "       localField: <field from the input documents>,\n",
    "       foreignField: <field from the documents of the \"from\" collection>,\n",
    "       as: <output array field>\n",
    "     }\n",
    "}"
   ]
  },
  {
   "cell_type": "code",
   "execution_count": null,
   "id": "f1693167",
   "metadata": {},
   "outputs": [],
   "source": [
    "# familiarizing with the air_alliances schema\n",
    "db.air_alliances.findOne()\n",
    "\n",
    "# familiarizing with the air_airlines schema\n",
    "db.air_airlines.findOne()\n",
    "\n",
    "# performing a lookup, joining air_alliances with air_airlines and replacing\n",
    "# the current airlines information with the new values\n",
    "db.air_alliances.aggregate([\n",
    "    {\n",
    "        $lookup: {\n",
    "            from: \"air_airlines\",\n",
    "            localField: \"airlines\",\n",
    "            foreignField: \"name\",\n",
    "            as: \"airlines\"\n",
    "        }\n",
    "    }\n",
    "]).pretty()"
   ]
  },
  {
   "cell_type": "code",
   "execution_count": null,
   "id": "670f6ba2",
   "metadata": {},
   "outputs": [],
   "source": [
    "db.air_airlines.aggregate([\n",
    "    {\n",
    "        $lookup: {\n",
    "            from: \"air_alliances\",\n",
    "            localField: \"name\",\n",
    "            foreignField: \"airlines\",\n",
    "            as: \"airliance\"\n",
    "        }\n",
    "    },\n",
    "    {\n",
    "        $match: {\n",
    "            airliance: { $elemMatch: { $exists: true }}\n",
    "        }\n",
    "    }\n",
    "]).pretty()"
   ]
  },
  {
   "cell_type": "markdown",
   "id": "df03b090",
   "metadata": {},
   "source": [
    "### 範例01"
   ]
  },
  {
   "cell_type": "raw",
   "id": "cffa8ba0",
   "metadata": {},
   "source": [
    "Which alliance from air_alliances flies the most routes with either a Boeing 747 or an Airbus A380 (abbreviated 747 and 380 in air_routes)?"
   ]
  },
  {
   "cell_type": "code",
   "execution_count": null,
   "id": "84661d39",
   "metadata": {},
   "outputs": [],
   "source": [
    "db.air_alliances.findOne()\n",
    "db.air_routes.findOne()\n",
    "\n",
    "# 要從哪一邊出發很重要\n",
    "# 注意要記得 $unwind 這一個 stage \n",
    "db.air_routes.aggregate([\n",
    "    {\n",
    "        $match: {\n",
    "            airplane: /747|380/\n",
    "        }\n",
    "    },\n",
    "    {\n",
    "        $lookup: {\n",
    "            from: \"air_alliances\",\n",
    "            localField: \"airline.name\",\n",
    "            foreignField: \"airlines\",\n",
    "            as: \"alliance\"\n",
    "        }\n",
    "    },\n",
    "    { $unwind: \"$alliance\" },\n",
    "    {\n",
    "        $group: {\n",
    "            _id: { alliance: \"$alliance.name\" },\n",
    "            num: { $sum: 1 }\n",
    "        }\n",
    "    },\n",
    "    { $sort: { num: -1 }}\n",
    "]).pretty()"
   ]
  },
  {
   "cell_type": "markdown",
   "id": "065ee083",
   "metadata": {},
   "source": [
    "### 範例02"
   ]
  },
  {
   "cell_type": "raw",
   "id": "9d8e00fc",
   "metadata": {},
   "source": [
    "Using the air_alliances and air_routes collections, find which alliance has the most unique carriers(airlines) operating between the airports JFK and LHR, in either directions.\n",
    "\n",
    "Names are distinct, i.e. Delta != Delta Air Lines\n",
    "\n",
    "src_airport and dst_airport contain the originating and terminating airport information."
   ]
  },
  {
   "cell_type": "code",
   "execution_count": null,
   "id": "97134270",
   "metadata": {},
   "outputs": [],
   "source": [
    "# 參考解答\n",
    "db.air_routes.aggregate([\n",
    "    {\n",
    "        $match: {\n",
    "            $or: [ { src_airport: \"JFK\", dst_airport: \"LHR\" }, { src_airport: \"LHR\", dst_airport: \"JFK\" }]\n",
    "        }\n",
    "    },\n",
    "    {\n",
    "        $lookup: {\n",
    "            from: \"air_alliances\",\n",
    "            localField: \"airline.name\",\n",
    "            foreignField: \"airlines\",\n",
    "            as: \"air_alliance\"\n",
    "        }\n",
    "    },\n",
    "    {\n",
    "        $match: { air_alliance: { $ne: [] }}\n",
    "    },\n",
    "    {\n",
    "        $group: {\n",
    "            _id: \"$air_alliance.name\",\n",
    "            airlines: { $addToSet: \"$airline.name\"}\n",
    "        }\n",
    "    },\n",
    "    {\n",
    "      $addFields: { airlinesNum: { $size: \"$airlines\" }}   \n",
    "    },\n",
    "    {\n",
    "        $sort: { airlines: -1 }\n",
    "    }\n",
    "]).pretty()"
   ]
  },
  {
   "cell_type": "code",
   "execution_count": null,
   "id": "a3311453",
   "metadata": {},
   "outputs": [],
   "source": [
    "# 參考解答\n",
    "db.air_routes.aggregate([\n",
    "  {\n",
    "    $match: {\n",
    "      src_airport: { $in: [\"LHR\", \"JFK\"] },\n",
    "      dst_airport: { $in: [\"LHR\", \"JFK\"] }\n",
    "    }\n",
    "  },\n",
    "  {\n",
    "    $lookup: {\n",
    "      from: \"air_alliances\",\n",
    "      foreignField: \"airlines\",\n",
    "      localField: \"airline.name\",\n",
    "      as: \"alliance\"\n",
    "    }\n",
    "  },\n",
    "  {\n",
    "    $match: { alliance: { $ne: [] } }\n",
    "  },\n",
    "  {\n",
    "    $addFields: {\n",
    "      alliance: { $arrayElemAt: [\"$alliance.name\", 0] }\n",
    "    }\n",
    "  },\n",
    "  {\n",
    "    $group: {\n",
    "      _id: \"$airline.id\",\n",
    "      alliance: { $first: \"$alliance\" }\n",
    "    }\n",
    "  },\n",
    "  {\n",
    "    $sortByCount: \"$alliance\"\n",
    "  }\n",
    "])"
   ]
  },
  {
   "cell_type": "markdown",
   "id": "4ed88ca3",
   "metadata": {},
   "source": [
    "## 用法二"
   ]
  },
  {
   "cell_type": "raw",
   "id": "581df05d",
   "metadata": {},
   "source": [
    "To perform correlated and uncorrelated subqueries with two collections, and perform other join conditions besides a single equality match, use this $lookup syntax:"
   ]
  },
  {
   "cell_type": "code",
   "execution_count": null,
   "id": "6a49a8dd",
   "metadata": {},
   "outputs": [],
   "source": [
    "{\n",
    "   $lookup:\n",
    "      {\n",
    "         from: <joined collection>,\n",
    "         let: { <var_1>: <expression>, …, <var_n>: <expression> },\n",
    "         pipeline: [ <pipeline to run on joined collection> ],\n",
    "         as: <output array field>\n",
    "      }\n",
    "}"
   ]
  },
  {
   "cell_type": "markdown",
   "id": "1dce1d75",
   "metadata": {},
   "source": [
    "### 範例01"
   ]
  },
  {
   "cell_type": "raw",
   "id": "b52c80c2",
   "metadata": {},
   "source": [
    "Create a collection orders with these documents:"
   ]
  },
  {
   "cell_type": "raw",
   "id": "f9124642",
   "metadata": {},
   "source": [
    "db.orders.insertMany( [\n",
    "  { \"_id\" : 1, \"item\" : \"almonds\", \"price\" : 12, \"ordered\" : 2 },\n",
    "  { \"_id\" : 2, \"item\" : \"pecans\", \"price\" : 20, \"ordered\" : 1 },\n",
    "  { \"_id\" : 3, \"item\" : \"cookies\", \"price\" : 10, \"ordered\" : 60 }\n",
    "] )"
   ]
  },
  {
   "cell_type": "raw",
   "id": "1ae12d1d",
   "metadata": {},
   "source": [
    "Create another collection warehouses with these documents:"
   ]
  },
  {
   "cell_type": "raw",
   "id": "fb3c0c81",
   "metadata": {},
   "source": [
    "db.warehouses.insertMany( [\n",
    "  { \"_id\" : 1, \"stock_item\" : \"almonds\", warehouse: \"A\", \"instock\" : 120 },\n",
    "  { \"_id\" : 2, \"stock_item\" : \"pecans\", warehouse: \"A\", \"instock\" : 80 },\n",
    "  { \"_id\" : 3, \"stock_item\" : \"almonds\", warehouse: \"B\", \"instock\" : 60 },\n",
    "  { \"_id\" : 4, \"stock_item\" : \"cookies\", warehouse: \"B\", \"instock\" : 40 },\n",
    "  { \"_id\" : 5, \"stock_item\" : \"cookies\", warehouse: \"A\", \"instock\" : 80 }\n",
    "] )"
   ]
  },
  {
   "cell_type": "raw",
   "id": "25ce86ac",
   "metadata": {},
   "source": [
    "The following example:\n",
    "\n",
    "1. Uses a correlated subquery with a join on the orders.item and warehouse.stock_item fields.\n",
    "2. Ensures the quantity of the item in stock can fulfill the ordered quantity."
   ]
  },
  {
   "cell_type": "code",
   "execution_count": null,
   "id": "66758919",
   "metadata": {},
   "outputs": [],
   "source": [
    "# 這題用前面的寫法，有些地方沒辦法在這一個 stage 過濾掉。\n",
    "db.orders.aggregate( [\n",
    "   {\n",
    "      $lookup:\n",
    "         {\n",
    "           from: \"warehouses\",\n",
    "           let: { order_item: \"$item\", order_qty: \"$ordered\" },\n",
    "           pipeline: [\n",
    "              { $match:\n",
    "                 { $expr:\n",
    "                    { $and:\n",
    "                       [\n",
    "                         { $eq: [ \"$stock_item\",  \"$$order_item\" ] },\n",
    "                         { $gte: [ \"$instock\", \"$$order_qty\" ] }\n",
    "                       ]\n",
    "                    }\n",
    "                 }\n",
    "              },\n",
    "              { $project: { stock_item: 0, _id: 0 } }\n",
    "           ],\n",
    "           as: \"stockdata\"\n",
    "         }\n",
    "    }\n",
    "] )"
   ]
  },
  {
   "cell_type": "raw",
   "id": "d667e0a1",
   "metadata": {},
   "source": [
    "The operation returns these documents:"
   ]
  },
  {
   "cell_type": "raw",
   "id": "f9f67328",
   "metadata": {},
   "source": [
    "{\n",
    "  _id: 1,\n",
    "  item: 'almonds',\n",
    "  price: 12,\n",
    "  ordered: 2,\n",
    "  stockdata: [\n",
    "    { warehouse: 'A', instock: 120 },\n",
    "    { warehouse: 'B', instock: 60 }\n",
    "  ]\n",
    "},\n",
    "{\n",
    "  _id: 2,\n",
    "  item: 'pecans',\n",
    "  price: 20,\n",
    "  ordered: 1,\n",
    "  stockdata: [ { warehouse: 'A', instock: 80 } ]\n",
    "},\n",
    "{\n",
    "  _id: 3,\n",
    "  item: 'cookies',\n",
    "  price: 10,\n",
    "  ordered: 60,\n",
    "  stockdata: [ { warehouse: 'A', instock: 80 } ]\n",
    "}"
   ]
  },
  {
   "cell_type": "markdown",
   "id": "6e1b0862",
   "metadata": {},
   "source": [
    "### 範例02"
   ]
  },
  {
   "cell_type": "raw",
   "id": "c55a6276",
   "metadata": {},
   "source": [
    "Create a collection absences with these documents:"
   ]
  },
  {
   "cell_type": "raw",
   "id": "39c53e9c",
   "metadata": {},
   "source": [
    "db.absences.insertMany( [\n",
    "   { \"_id\" : 1, \"student\" : \"Ann Aardvark\", sickdays: [ new Date (\"2018-05-01\"),new Date (\"2018-08-23\") ] },\n",
    "   { \"_id\" : 2, \"student\" : \"Zoe Zebra\", sickdays: [ new Date (\"2018-02-01\"),new Date (\"2018-05-23\") ] },\n",
    "] )"
   ]
  },
  {
   "cell_type": "raw",
   "id": "8c8572c6",
   "metadata": {},
   "source": [
    "Create another collection holidays with these documents:"
   ]
  },
  {
   "cell_type": "raw",
   "id": "d9994814",
   "metadata": {},
   "source": [
    "db.holidays.insertMany( [\n",
    "   { \"_id\" : 1, year: 2018, name: \"New Years\", date: new Date(\"2018-01-01\") },\n",
    "   { \"_id\" : 2, year: 2018, name: \"Pi Day\", date: new Date(\"2018-03-14\") },\n",
    "   { \"_id\" : 3, year: 2018, name: \"Ice Cream Day\", date: new Date(\"2018-07-15\") },\n",
    "   { \"_id\" : 4, year: 2017, name: \"New Years\", date: new Date(\"2017-01-01\") },\n",
    "   { \"_id\" : 5, year: 2017, name: \"Ice Cream Day\", date: new Date(\"2017-07-16\") }\n",
    "] )"
   ]
  },
  {
   "cell_type": "raw",
   "id": "ef87f84f",
   "metadata": {},
   "source": [
    "The following operation joins the absences collection with 2018 holiday information from the holidays collection:"
   ]
  },
  {
   "cell_type": "code",
   "execution_count": null,
   "id": "8946da1f",
   "metadata": {},
   "outputs": [],
   "source": [
    "db.absences.aggregate( [\n",
    "   {\n",
    "      $lookup:\n",
    "         {\n",
    "           from: \"holidays\",\n",
    "           pipeline: [\n",
    "              { $match: { year: 2018 } },\n",
    "              { $project: { _id: 0, date: { name: \"$name\", date: \"$date\" } } },\n",
    "              { $replaceRoot: { newRoot: \"$date\" } }\n",
    "           ],\n",
    "           as: \"holidays\"\n",
    "         }\n",
    "    }\n",
    "] ).pretty()"
   ]
  },
  {
   "cell_type": "raw",
   "id": "603a817d",
   "metadata": {},
   "source": [
    "The operation returns the following:"
   ]
  },
  {
   "cell_type": "raw",
   "id": "5585b8b2",
   "metadata": {},
   "source": [
    "{\n",
    "  _id: 1,\n",
    "  student: 'Ann Aardvark',\n",
    "  sickdays: [\n",
    "    ISODate(\"2018-05-01T00:00:00.000Z\"),\n",
    "    ISODate(\"2018-08-23T00:00:00.000Z\")\n",
    "  ],\n",
    "  holidays: [\n",
    "    { name: 'New Years', date: ISODate(\"2018-01-01T00:00:00.000Z\") },\n",
    "    { name: 'Pi Day', date: ISODate(\"2018-03-14T00:00:00.000Z\") },\n",
    "    { name: 'Ice Cream Day', date: ISODate(\"2018-07-15T00:00:00.000Z\")\n",
    "    }\n",
    "  ]\n",
    "},\n",
    "{\n",
    "  _id: 2,\n",
    "  student: 'Zoe Zebra',\n",
    "  sickdays: [\n",
    "    ISODate(\"2018-02-01T00:00:00.000Z\"),\n",
    "    ISODate(\"2018-05-23T00:00:00.000Z\")\n",
    "  ],\n",
    "  holidays: [\n",
    "    { name: 'New Years', date: ISODate(\"2018-01-01T00:00:00.000Z\") },\n",
    "    { name: 'Pi Day', date: ISODate(\"2018-03-14T00:00:00.000Z\") },\n",
    "    { name: 'Ice Cream Day', date: ISODate(\"2018-07-15T00:00:00.000Z\")\n",
    "    }\n",
    "  ]\n",
    "}"
   ]
  }
 ],
 "metadata": {
  "kernelspec": {
   "display_name": "Python 3",
   "language": "python",
   "name": "python3"
  },
  "language_info": {
   "codemirror_mode": {
    "name": "ipython",
    "version": 3
   },
   "file_extension": ".py",
   "mimetype": "text/x-python",
   "name": "python",
   "nbconvert_exporter": "python",
   "pygments_lexer": "ipython3",
   "version": "3.8.10"
  }
 },
 "nbformat": 4,
 "nbformat_minor": 5
}
