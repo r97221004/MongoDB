{
 "cells": [
  {
   "cell_type": "markdown",
   "id": "8e1b0edd",
   "metadata": {},
   "source": [
    "# $sample 的基本操作"
   ]
  },
  {
   "cell_type": "raw",
   "id": "374c623b",
   "metadata": {},
   "source": [
    "Randomly selects the specified number of documents from the input documents.\n",
    "The $sample stage has the following syntax:\n",
    "    \n",
    "{ $sample: { size: <positive integer N> } }\n",
    "\n",
    "注意選完不放回，且選超過不會報錯，比如只有三個 documents 卻選四個，那就只會出來三個。"
   ]
  },
  {
   "cell_type": "code",
   "execution_count": null,
   "id": "215bbd8b",
   "metadata": {},
   "outputs": [],
   "source": [
    "# sampling 200 documents of collection ``nycFacilities``\n",
    "db.nycFacilities.aggregate([\n",
    "    {\n",
    "        $sample: { size: 200 }\n",
    "    }\n",
    "]).pretty()"
   ]
  }
 ],
 "metadata": {
  "kernelspec": {
   "display_name": "Python 3",
   "language": "python",
   "name": "python3"
  },
  "language_info": {
   "codemirror_mode": {
    "name": "ipython",
    "version": 3
   },
   "file_extension": ".py",
   "mimetype": "text/x-python",
   "name": "python",
   "nbconvert_exporter": "python",
   "pygments_lexer": "ipython3",
   "version": "3.8.10"
  }
 },
 "nbformat": 4,
 "nbformat_minor": 5
}
