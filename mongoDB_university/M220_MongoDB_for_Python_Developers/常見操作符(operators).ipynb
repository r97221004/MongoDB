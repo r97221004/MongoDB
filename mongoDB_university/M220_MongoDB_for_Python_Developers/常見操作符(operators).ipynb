{
 "cells": [
  {
   "cell_type": "markdown",
   "metadata": {},
   "source": [
    "# $meta"
   ]
  },
  {
   "cell_type": "raw",
   "metadata": {},
   "source": [
    "Returns the metadata associated with a document, e.g. \"textScore\" when performing text search.\n",
    "\n",
    "A $meta expression has the following syntax:"
   ]
  },
  {
   "cell_type": "code",
   "execution_count": null,
   "metadata": {},
   "outputs": [],
   "source": [
    "{ $meta: <metaDataKeyword> }"
   ]
  },
  {
   "cell_type": "markdown",
   "metadata": {},
   "source": [
    "### 範例01"
   ]
  },
  {
   "cell_type": "raw",
   "metadata": {},
   "source": [
    "Create an articles collection with the following documents:"
   ]
  },
  {
   "cell_type": "code",
   "execution_count": null,
   "metadata": {},
   "outputs": [],
   "source": [
    "db.articles.insertMany([\n",
    "   { \"_id\" : 1, \"title\" : \"cakes and ale\" },\n",
    "   { \"_id\" : 2, \"title\" : \"more cakes\" },\n",
    "   { \"_id\" : 3, \"title\" : \"bread\" },\n",
    "   { \"_id\" : 4, \"title\" : \"some cakes\" },\n",
    "   { \"_id\" : 5, \"title\" : \"two cakes to go\" },\n",
    "   { \"_id\" : 6, \"title\" : \"pie\" }\n",
    "])"
   ]
  },
  {
   "cell_type": "raw",
   "metadata": {},
   "source": [
    "Create a text index on the title field:"
   ]
  },
  {
   "cell_type": "code",
   "execution_count": null,
   "metadata": {},
   "outputs": [],
   "source": [
    "The following aggregation operation performs a text search and uses the $meta operator to group by the text search score:"
   ]
  }
 ],
 "metadata": {
  "kernelspec": {
   "display_name": "Python 3",
   "language": "python",
   "name": "python3"
  },
  "language_info": {
   "codemirror_mode": {
    "name": "ipython",
    "version": 3
   },
   "file_extension": ".py",
   "mimetype": "text/x-python",
   "name": "python",
   "nbconvert_exporter": "python",
   "pygments_lexer": "ipython3",
   "version": "3.6.13"
  }
 },
 "nbformat": 4,
 "nbformat_minor": 2
}
