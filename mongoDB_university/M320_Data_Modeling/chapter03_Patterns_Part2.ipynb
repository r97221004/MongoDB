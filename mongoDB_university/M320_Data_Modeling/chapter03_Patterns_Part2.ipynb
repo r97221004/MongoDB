{
 "cells": [
  {
   "cell_type": "markdown",
   "id": "34dd64e0",
   "metadata": {},
   "source": [
    "# Computed Pattern"
   ]
  },
  {
   "cell_type": "raw",
   "id": "02f85f0f",
   "metadata": {},
   "source": [
    "Some computations are very expensive to do.\n",
    "\n",
    "If you store your information as base units in your database, you may find yourself redoing the same computations, manipulations, or transformations over and over.\n",
    "\n",
    "In big data systems, these kinds of repeated computations can lead to very poor performance.\n",
    "\n",
    "What kind of transformations are usually applied to data?\n",
    "\n",
    "The list is long.\n",
    "\n",
    "However, they usually fall into one of those three categories-- mathematical operations, fan out operations, and roll-up operations.\n",
    "\n",
    "We will group those under a new pattern, which we will call the computed pattern.\n",
    "\n",
    "The mathematical operations are easy to identify.\n",
    "\n",
    "These are the ones where we compute a sum or an average, find a median, et cetera.\n",
    "\n",
    "These are often associated with calling a built-in function in the server.\n",
    "\n",
    "Why does it matter that we want to apply a pattern here?\n",
    "\n",
    "Let's say we have a write operation that comes in.\n",
    "\n",
    "This piece of data is added as a document to a given collection.\n",
    "\n",
    "Another part of the application reads this collection and does, let's say, a sum on the numbers.\n",
    "\n",
    "If we are doing 1,000 times more reads than writes, the sum operation we do with those reads is identical and very often does the exact same calculation for each of those read operations.\n",
    "\n",
    "We can save ourselves from all those identical operations by calculating the results when we get a new piece of data.\n",
    "\n",
    "Once we have a new piece of data, we read the other element for the sum and store the result in another collection with documents more appropriate to keep the sum for that element.\n",
    "\n",
    "This results in much fewer computation in the system, and we also reduce the amount of data being read.\n",
    "\n",
    "See here, each sum reads all those documents.\n",
    "\n",
    "Since we don't have to do the computation that at read time, we also save on those read operations, too.\n",
    "\n",
    "In this example, that will be 1,000 fewer computation and 1,000 fewer reads."
   ]
  },
  {
   "cell_type": "markdown",
   "id": "f583abe9",
   "metadata": {},
   "source": [
    "<img src=\"img/81.png\">"
   ]
  },
  {
   "cell_type": "raw",
   "id": "5cfd4b3f",
   "metadata": {},
   "source": [
    "A good example of this will be keeping track of ticket sales and then reporting the sale numbers-- let's say for a specific movie-- on a movie website.\n",
    "\n",
    "There are likely fewer screening happening per hour, which will be all right, than page views(瀏覽量) for the given movie where we want to display the sums.\n",
    "\n",
    "So instead of summing those screenings document to display the total viewer and sales every time access the movie, we are better off keeping the information in the document and updating it every time we get a new screening document.\n",
    "\n",
    "We don't have to keep the screenings once the calculation is done.\n",
    "\n",
    "However, the idea was to regenerate the sums if needed, or give us the ability to do more analytics."
   ]
  },
  {
   "cell_type": "markdown",
   "id": "89cb5c83",
   "metadata": {},
   "source": [
    "<img src=\"img/82.png\">"
   ]
  },
  {
   "cell_type": "raw",
   "id": "9e2ce956",
   "metadata": {},
   "source": [
    "Fan out operations.\n",
    "\n",
    "First, what does fan out means?\n",
    "\n",
    "It means to do many tasks to represent one logical task.\n",
    "\n",
    "There are two basic schemes.\n",
    "\n",
    "Either you fan out on reads, which means in order to return the appropriate data, the query must fetch data from different locations, or you found out on writes, which means every logical write operation translate into several writes to different documents.\n",
    "\n",
    "In doing so, the read does not have to fan out anymore, as the data is pre-organized at write time.\n",
    "\n",
    "If you don't pay attention to this pattern, you are likely doing fan out on reads.\n",
    "\n",
    "Why would you use fan out on writes?\n",
    "\n",
    "If the system has plenty of time when the information arrives compared to the acceptable latency of returning data on read operation, then preparing the data at write time makes a lot of sense.\n",
    "\n",
    "Note that if you are doing more writes than reads so the system becomes bound by writes, this may not be a good pattern to apply."
   ]
  },
  {
   "cell_type": "markdown",
   "id": "232994d5",
   "metadata": {},
   "source": [
    "<img src=\"img/83.png\">"
   ]
  },
  {
   "cell_type": "raw",
   "id": "9807dac5",
   "metadata": {},
   "source": [
    "A good example for this pattern will be a social networking system for sharing photos.\n",
    "\n",
    "The system may copy the new photo on each follower's home page as it gets the new photo.\n",
    "\n",
    "This way, when a user load its own page, the system does not have to spend resources assembling all the information from all the people this user follows.\n",
    "\n",
    "Everything needed for the user's home page would be available via single document, which lead to a much better experience with the site."
   ]
  },
  {
   "cell_type": "markdown",
   "id": "9872de5c",
   "metadata": {},
   "source": [
    "<img src=\"img/84.png\">"
   ]
  },
  {
   "cell_type": "raw",
   "id": "4febbf40",
   "metadata": {},
   "source": [
    "Roll-up operations.\n",
    "\n",
    "We use this terminology in a position to drill-down operation.\n",
    "\n",
    "In the roll-up operation, we merge data together.\n",
    "\n",
    "For example, grouping categories together in a parent category will be a roll-up.\n",
    "\n",
    "Grouping time-based data from small intervals to large ones will be another good example of a roll-up.\n",
    "\n",
    "This type of roll-up is often seen in reporting for hourly, daily, monthly, or yearly summaries.\n",
    "\n",
    "Any operation that wants to see data at a high level is basically looking at rolling up data.\n",
    "\n",
    "Mathematical computations are roll-ups.\n",
    "\n",
    "However, roll-ups are more generic.\n",
    "\n",
    "You can often think of roll-up data as running a group operation.\n",
    "\n",
    "So similarly to mathematical computation, doing those roll-ups at right time may make more sense than having our read operation pay the costs of processing the transformations."
   ]
  },
  {
   "cell_type": "markdown",
   "id": "dd86731b",
   "metadata": {},
   "source": [
    "<img src=\"img/85.png\">"
   ]
  },
  {
   "cell_type": "raw",
   "id": "679d2783",
   "metadata": {},
   "source": [
    "Let's look at a concrete example.\n",
    "\n",
    "An inventory has different wine types.\n",
    "\n",
    "The inventory change once in a while, however, not frequently.\n",
    "\n",
    "What is more frequent is looking at the wine organized by various categories.\n",
    "\n",
    "For example, I may want to see the count of wine types per country of origin or per type so I can buy what is missing in my inventory to cover all my customer needs.\n",
    "\n",
    "If I'm looking more often at the information on the right, the non-aggregated data than the changes that are happening on my collection on the left, it makes more sense to generate this data and cache it in the appropriate documents."
   ]
  },
  {
   "cell_type": "markdown",
   "id": "91f55b89",
   "metadata": {},
   "source": [
    "<img src=\"img/86.png\">"
   ]
  },
  {
   "cell_type": "raw",
   "id": "add5c612",
   "metadata": {},
   "source": [
    "When should you apply the computed pattern?\n",
    "\n",
    "If you see you are using a lot of CPU, this may be a sign that you're doing much more than transferring data from and to the disk.\n",
    "\n",
    "Keep in mind that some tasks like compressing and decompressing data between the disk and the cache requires a lot of CPU, too.\n",
    "\n",
    "Secondly, if you have long read operation that depends on complex aggregation queries, you might want to make them run faster."
   ]
  },
  {
   "cell_type": "markdown",
   "id": "843e824e",
   "metadata": {},
   "source": [
    "<img src=\"img/87.png\">"
   ]
  },
  {
   "cell_type": "raw",
   "id": "c233a119",
   "metadata": {},
   "source": [
    "Time to formalize a computed pattern.\n",
    "\n",
    "The problem the computer pattern addresses is avoiding doing the same computation over and over, especially if they're expensive.\n",
    "\n",
    "The solution is to perform the computation and store the result in the appropriate document and collection.\n",
    "\n",
    "If you need to redo the computation or want to be able to redo them, just keep the source of your computations, meaning keep the smaller documents or piece of information.\n",
    "\n",
    "Common use cases where you may want to use the pattern are the Internet of Things, event sourcing, time series data, and any scenario where you do repeated similar aggregation queries.\n",
    "\n",
    "The benefits you get from the computed pattern are faster read and less utilization of resources, mostly CPU and disk.\n",
    "\n",
    "However, it may be difficult to diagnose that you may benefit from such patterns on a large existing cluster.\n",
    "\n",
    "It is easy to abuse the computed pattern.\n",
    "\n",
    "Use it when you need it, as the required computation may add complexity to the application code.\n",
    "\n",
    "So here it is.\n",
    "\n",
    "This is our computed pattern.\n",
    "\n",
    "In summary, the computed pattern is a useful pattern if you want to avoid performing similar operations many times."
   ]
  },
  {
   "cell_type": "markdown",
   "id": "62092080",
   "metadata": {},
   "source": [
    "### 範例01"
   ]
  },
  {
   "cell_type": "raw",
   "id": "aff48c5b",
   "metadata": {},
   "source": [
    "Which one of the following scenarios is best suited for the application of the Computed Pattern?"
   ]
  },
  {
   "cell_type": "raw",
   "id": "ff8e6c6f",
   "metadata": {},
   "source": [
    "Correct Option:\n",
    "\n",
    "# We need to calculate a value that is displayed 100 times a minute and is based on a field which updates once a minute.\n",
    "\n",
    "In this case, performing the aggregation once per minute and storing the result saves computations that would have been performed with each read operation, generating many unnecessary operations.\n",
    "\n",
    "Incorrect Options:\n",
    "\n",
    "# We need to group documents and sum on a field.\n",
    "\n",
    "Situations where data transformations are being used are central to choosing to implement the Computed Pattern. However, just performing data transformation does not necessitate the use of the Computed Pattern. Rather, recognizing that a value should be cached instead of transformed is a better indicator that we should be using this pattern\n",
    "\n",
    "# We have too much information to store in a single document.\n",
    "\n",
    "Look at either the Subset Pattern or the Bucket Pattern to address this issue.\n",
    "\n",
    "# We need to calculate a value that is displayed once per minute and is based on a field which updates 100 times per\n",
    "  minute.\n",
    "\n",
    "The Computed Pattern does not save any computation in this situation, rather it either leads to performing more calculations or to having stale data.\n",
    "\n",
    "We need to calculate a value that is displayed 100 times a minute and is based on a field which updates 100 times per minute.\n",
    "\n",
    "You could benefit by using the Computed Pattern if you decide to do the computation less than 100 times per minute. This could be accomplished by using the Approximation Pattern."
   ]
  },
  {
   "cell_type": "markdown",
   "id": "88dc9d51",
   "metadata": {},
   "source": [
    "## 範例02"
   ]
  },
  {
   "cell_type": "raw",
   "id": "1bd764ce",
   "metadata": {},
   "source": [
    "User Story\n",
    "\n",
    "Our city is going green, and we're reassessing our power plant. A lot of residents are switching to solar panels for their source of electricity and the power plant needs to be both ecologically friendly and flexible in its distribution of electricity throughout the city.\n",
    "\n",
    "A number of residents are on board with the Green New Deal and are promptly installing solar panels on their homes, which reduces the consumption of electricity from the power plant.\n",
    "\n",
    "In some cases, the new solar homes produce more energy than they use, thus selling the excess energy back to the power plant.\n",
    "\n",
    "Our database is tracking the following data about each building in the city: how much energy in kilowatts (kW) per hour it produces (if any), how much energy it consumes, and how much energy needs to be supplemented daily.\n",
    "\n",
    "In order to make our plant more flexible in adapting to the growing number of solar-powered homes and to project out to the happy date when there won't be a need for a city power plant, our computer algorithms are analyzing consumption data by city zones one day at a time."
   ]
  },
  {
   "cell_type": "code",
   "execution_count": null,
   "id": "360fde66",
   "metadata": {},
   "outputs": [],
   "source": [
    "{\n",
    "  \"_id\": ObjectId(\"5c9414f25e6aff2b8870a2d0\"),\n",
    "  \"address\": {\n",
    "    \"building number\": \"742\",\n",
    "    \"street name\": \"Evergreen Terrace\",\n",
    "    \"city\": \"Springfield\",\n",
    "    \"state\": \"MA\",\n",
    "    \"zip code\": \"01111\"\n",
    "  },\n",
    "  \"owner\": \"Homer J. Simpson\",\n",
    "  \"zone\": 13,\n",
    "  \"date\": ISODate(\"2019-03-21T23:03:31.197Z\"),\n",
    "  \"kW per day\": {\n",
    "    \"consumption\": 10,\n",
    "    \"self-produced\": 7,\n",
    "    \"city-supplemented\": 3\n",
    "  }\n",
    "}"
   ]
  },
  {
   "cell_type": "raw",
   "id": "e71cfd77",
   "metadata": {},
   "source": [
    "The problem with this design is that we need to calculate zone totals from each building's report every day, which is a lot of unnecessary calculation during reads.\n",
    "\n",
    "Every zone has anywhere from 100 to 900 buildings and we will create a zone collection using the consumption data that comes in from every unit in each zone daily."
   ]
  },
  {
   "cell_type": "raw",
   "id": "ff5e3ab3",
   "metadata": {},
   "source": [
    "Task\n",
    "\n",
    "To address this issue, we've decided to implement the Computed Pattern. We will create a separate collection that stores zone-based summaries on zone consumption, production, and city-supplemented energy metrics, which we will calculate and overwrite whenever new data comes into the system.\n",
    "\n",
    "To complete this lab:\n",
    "\n",
    "Modify the following schema to represent the schema we will store in our computed collection. Remove any fields we do not need to store in our computed collection:"
   ]
  },
  {
   "cell_type": "code",
   "execution_count": null,
   "id": "434b3bd2",
   "metadata": {},
   "outputs": [],
   "source": [
    "{\n",
    "  \"_id\": \"<objectId>\",\n",
    "  \"address\": {\n",
    "    \"building number\": \"<string>\",\n",
    "    \"street name\": \"<string>\",\n",
    "    \"city\": \"<string>\",\n",
    "    \"state\": \"<string>\",\n",
    "    \"zip code\": \"<string>\"\n",
    "  },\n",
    "  \"owner\": \"<string>\",\n",
    "  \"zone\": \"<int>\",\n",
    "  \"date\": \"<date>\",\n",
    "  \"kW per day\": {\n",
    "    \"consumption\": \"<int>\",\n",
    "    \"self-produced\": \"<int>\",\n",
    "    \"city-supplemented\": \"<int>\"\n",
    "  }\n",
    "}"
   ]
  },
  {
   "cell_type": "markdown",
   "id": "8e6b4e48",
   "metadata": {},
   "source": [
    "# Bucket Pattern"
   ]
  },
  {
   "cell_type": "markdown",
   "id": "5b9283dc",
   "metadata": {},
   "source": [
    "<img src=\"img/88.png\">"
   ]
  },
  {
   "cell_type": "raw",
   "id": "a4057702",
   "metadata": {},
   "source": [
    "In the early days of programming, you would feed the giant computers with punch cards(打孔卡), like this one on the left.\n",
    "\n",
    "Each instruction would store on a separate card.\n",
    "\n",
    "And yes, it was preferable to not draw the ordered stack of cards, especially if you did not use some kind of label to reorder them.\n",
    "\n",
    "Just a little later, the advent of terminals permitted the developers to put all these instruction in a file, like the one we have on the right.\n",
    "\n",
    "This was better.\n",
    "\n",
    "However, as programs got bigger, the files got larger, and it was not a viable solution anymore.\n",
    "\n",
    "The solution at that time was to group a set of instructions together.\n",
    "\n",
    "Call it files, classes, libraries-- this is still the system in use today.\n",
    "\n",
    "The point I want to make is that sometimes you need a middle-of-the-road solution, because both extreme are not working well and far from being optimal.\n",
    "\n",
    "The punch card is too granular, while the single file solution is too broad and does not provide enough granularity.\n",
    "\n",
    "Translating that to MongoDB and the document model, let's look at an example of Internet of things devices, which I will refer as IoT for the rest of the lesson."
   ]
  },
  {
   "cell_type": "markdown",
   "id": "139a10c0",
   "metadata": {},
   "source": [
    "<img src=\"img/89.png\">"
   ]
  },
  {
   "cell_type": "raw",
   "id": "b1525fef",
   "metadata": {},
   "source": [
    "Let's say we have 10 million temperature sensors, and each sensor is sending us a piece of data every minute, the temperature it's measuring.\n",
    "\n",
    "This is 36 billion pieces of information per hour.\n",
    "\n",
    "Trying to store each piece in a document may not work as we get too many documents to manage.\n",
    "\n",
    "On the other end, if we keep one document per device, each document is likely to reach the maximum size of 16 megabytes after a while.\n",
    "\n",
    "Even if it does not reach that size, it may still be unmanageable and not very efficient to handle these large documents.\n",
    "\n",
    "So what should we do?\n",
    "\n",
    "Here, we'll make some suggestions.\n",
    "\n",
    "However, if you recall their methodology, the suggestions make more sense if we know the workload of the problem and the main queries of our system.\n",
    "\n",
    "One suggestion is to have one document per device, per day."
   ]
  },
  {
   "cell_type": "markdown",
   "id": "ab03e80b",
   "metadata": {},
   "source": [
    " <img src=\"img/90.png\">"
   ]
  },
  {
   "cell_type": "raw",
   "id": "c9162da5",
   "metadata": {},
   "source": [
    "Each document would only carry information for a single device on a single day.\n",
    "\n",
    "Then the next day, we will create a new document.\n",
    "\n",
    "I decided to create one array per hour.\n",
    "\n",
    "This translates in an easy to understand document for a human.\n",
    "\n",
    "However, it makes it a little bit more complicated for a program.\n",
    "\n",
    "If the application wants to average a temperature for a given period, it needs to retrieve the array or the section of the array for each hour of that period and do the calculation.\n",
    "\n",
    "If this is a common query, then maybe a single array for the whole day makes more sense.\n",
    "\n",
    "Another option is to have one document per device, per hour.\n",
    "\n",
    "Here, our time stamps includes the date and the hour.\n",
    "\n",
    "We have one document for 1:00 PM and one document for 2:00 PM.\n",
    "\n",
    "There are more documents, 24 times more than this example.\n",
    "\n",
    "However, the documents are smaller.\n",
    "\n",
    "Note that I'm also using a different way to store the temperature values.\n",
    "\n",
    "Here, instead of using a single array, we use a document where the keys are the minutes.\n",
    "\n",
    "In the first set of documents, I must fill the empty positions.\n",
    "\n",
    "For example, if I don't get the data for the fifth minute, I must put something-- zero or null, but something.\n",
    "\n",
    "As for these documents, I simply insert the values I receive.\n",
    "\n",
    "In the event I did not get a piece of data for the fifth minute, the field temp dot five will not exist.\n",
    "\n",
    "Again, there are a ton of possible configurations.\n",
    "\n",
    "So unless you know the workload, it is difficult to tell which one is the best.\n",
    "\n",
    "This concept of grouping information together is called bucketing.\n",
    "\n",
    "And as you guessed, the bucket pattern is often used in the IoT scenarios.\n",
    "\n",
    "Here's another example."
   ]
  },
  {
   "cell_type": "markdown",
   "id": "0f9b6407",
   "metadata": {},
   "source": [
    "  <img src=\"img/91.png\">"
   ]
  },
  {
   "cell_type": "raw",
   "id": "b6746c51",
   "metadata": {},
   "source": [
    "We will build a collaboration platform.\n",
    "\n",
    "The platform will have chat windows that we'll call channels.\n",
    "\n",
    "One solution is to keep one document per message.\n",
    "\n",
    "However, this may become messy and may require more processing to organize the messages together.\n",
    "\n",
    "An alternative is to keep all the messages for a given chat in a single document.\n",
    "\n",
    "That may work, but over time, each document may become bigger than what we want, as we care more for a recent message than the old one.\n",
    "\n",
    "Again, the middle solution will be to arrange the messages in the bucket-- All messages for a channel for a given day."
   ]
  },
  {
   "cell_type": "markdown",
   "id": "f856b643",
   "metadata": {},
   "source": [
    " <img src=\"img/92.png\">"
   ]
  },
  {
   "cell_type": "raw",
   "id": "748db646",
   "metadata": {},
   "source": [
    "One nice thing about this design is that it's very easy to delete documents older than x days, or then archive them.\n",
    "\n",
    "I can use zone charting and move my old messages to a chart that resides on cheaper hardware.\n",
    "\n",
    "One final note on this example.\n",
    "\n",
    "When you think about bucketing, you refer to two independent variables.\n",
    "\n",
    "One will be the big container, the main document, here identified by your underscore ID.\n",
    "\n",
    "And the other part of the one-to-many relationship will be your bucket.\n",
    "\n",
    "This is where you will put N piece of data from the one many relationship in the bucket.\n",
    "\n",
    "That brings us to the last use case I want to describe.\n",
    "\n",
    "The NoSQL database family is composed of document databases like MongoDB, but also for the members like key value databases, graph databases, and column-based databases.\n",
    "\n",
    "What if our solution requires a document databases for most use scenario?\n",
    "\n",
    "But one use case scenario is better served by a column-based database.\n",
    "\n",
    "A column-based database stores information per column instead of per row or document."
   ]
  },
  {
   "cell_type": "markdown",
   "id": "6f689258",
   "metadata": {},
   "source": [
    "<img src=\"img/93.png\">"
   ]
  },
  {
   "cell_type": "raw",
   "id": "1292230d",
   "metadata": {},
   "source": [
    "So when you want to process only one column across all the documents, like it is frequently done in analytics, it's very efficient, as it brings in memory only the data it needs.\n",
    "\n",
    "As you know, MongoDB brings in memory full documents.\n",
    "\n",
    "If we have a use case that will benefit a lot from a column-based approach, we could install a separate database next to MongoDB to handle this use case.\n",
    "\n",
    "However, in order to make our deployment model as streamlined as possible, adding different technology for this alone will come with an unnecessary technical complexity.\n",
    "\n",
    "Let's use MongoDB to model data that is column-based oriented."
   ]
  },
  {
   "cell_type": "markdown",
   "id": "54f6cfe8",
   "metadata": {},
   "source": [
    "<img src=\"img/94.png\">"
   ]
  },
  {
   "cell_type": "raw",
   "id": "0a3f5605",
   "metadata": {},
   "source": [
    "Going back to our earlier example of IoT device, let's assume these device are weather station that returns a bunch of information like temperature, pressure, and lightning.\n",
    "\n",
    "If we were to store all the info for a given device in each document, we could query across variables.\n",
    "\n",
    "However, this ability is not needed.\n",
    "\n",
    "But what is really needed is to process all data regarding one field at the time, meaning one column, for example, the intensity of light.\n",
    "\n",
    "We may want to break up the measurement in many documents so processing one type of data does not require bringing everything in memory.\n",
    "\n",
    "When processing light, we bring these documents in memory.\n",
    "\n",
    "When processing pressure, we bring these documents in memory.\n",
    "\n",
    "Note that both sides are using the bucket pattern.\n",
    "\n",
    "It is just that the one on the right has a structure more similar to columns.\n",
    "\n",
    "Also, know that information for the device, like the location and anything else about the device, has been left out of the documents on the right side and put somewhere else.\n",
    "\n",
    "If you need to search or aggregate results on these fields, you should keep them in the documents.\n",
    "\n",
    "Again, this is not going to be as optimal as a column-based database system.\n",
    "\n",
    "However, it's a good work-around(變通方法) if you don't want to install two database systems.\n",
    "\n",
    "Let's look at some restriction or gotchas when using the bucket pattern."
   ]
  },
  {
   "cell_type": "markdown",
   "id": "4361ed15",
   "metadata": {},
   "source": [
    "<img src=\"img/95.png\">"
   ]
  },
  {
   "cell_type": "raw",
   "id": "d8336572",
   "metadata": {},
   "source": [
    "If you need to frequently access elements in the buckets to do updates, deletions, or want to insert in specific locations, this may not be the best pattern to use.\n",
    "\n",
    "If you need to get the data sorted in any way, it is preferable to have it sorted in the buckets themselves.\n",
    "\n",
    "In this example, all the temperature in the buckets were already sorted by date and time.\n",
    "\n",
    "Ad hoc queries may be difficult to do, as you need to understand the underlying structure.\n",
    "\n",
    "So this pattern works better when the storage representation is hidden [INAUDIBLE] by the application.\n",
    "\n",
    "Time to formalize our bucket pattern."
   ]
  },
  {
   "cell_type": "markdown",
   "id": "83aaff02",
   "metadata": {},
   "source": [
    "<img src=\"img/96.png\">"
   ]
  },
  {
   "cell_type": "raw",
   "id": "8ee803d4",
   "metadata": {},
   "source": [
    "The problems the bucket pattern address are helping us size our documents to satisfy the combination of read and write operations of our workload.\n",
    "\n",
    "This helps embed a one-to-many relationship, where the many side is too big or grows beyond bounds.\n",
    "\n",
    "The solution is to find the optimal amount of info, then store it in arrays or arrays of arrays in our main objects.\n",
    "\n",
    "The one-to-many relationship is transformed so the one side becomes N documents.\n",
    "\n",
    "What are the common use cases?\n",
    "\n",
    "Obviously IoT systems, then data warehouse is a good candidate, as you can analyze larger chunks of time-based data at once.\n",
    "\n",
    "In short, any one object that has ton of information associated to it.\n",
    "\n",
    "The right size of your documents will translate into the right number of disk accesses and the right amount of data transfer by these accesses.\n",
    "\n",
    "It makes the data more manageable.\n",
    "\n",
    "For example, it is easy to delete section of your data by simply deleting the documents corresponding to that period.\n",
    "\n",
    "On the trade-offs, ensure you know all you want to query the data.\n",
    "\n",
    "If every query translate to an aggregation query, that will first [INAUDIBLE] the data, the schema you choose may not be the right one.\n",
    "\n",
    "Also, it may not be friendly to all BI Tools, as your users need to understand the schema to do the queries.\n",
    "\n",
    "What may have been a simple MongoDB or SQL query may become much more difficult to express.\n",
    "\n",
    "So this is our bucket pattern.\n",
    "\n",
    "In summary, the bucket pattern is a great pattern if you want a middle ground solution between fully embedding and fully linking data.\n",
    "\n",
    "However, this is an advanced pattern that should be used only when you have a good grasp of your workload."
   ]
  },
  {
   "cell_type": "markdown",
   "id": "ee86078e",
   "metadata": {},
   "source": [
    "### 範例01"
   ]
  },
  {
   "cell_type": "raw",
   "id": "4024e204",
   "metadata": {},
   "source": [
    "Which one of the following requirements in our system is the best candidate to use the Bucket Pattern?"
   ]
  },
  {
   "cell_type": "raw",
   "id": "c05b56d1",
   "metadata": {},
   "source": [
    "Correct Option:\n",
    "\n",
    "# Our system ingests thousands of log lines each day for each host it monitors.\n",
    "\n",
    "Trying to keep one document per host or one document per log line may not work very well. Keeping a group of log lines per host sounds like a good design, however, knowing the details about the use cases and queries will help to confirm that this is a good model.\n",
    "\n",
    "Incorrect Options:\n",
    "\n",
    "# Our system handles 1 million IOT devices.\n",
    "\n",
    "This is not sufficient to say that we should be using this pattern. If the devices are not sending data on a regular basis that need to be grouped, then we would not need the pattern. For example, we may just have to keep track of the device, its configuration, and its state.\n",
    "\n",
    "# Our system ingests 10 million pieces of data per day from 1 million devices, with 20% coming from 10 devices.\n",
    "\n",
    "The issue seems more related to the fact that a minority of devices have different behavior than the majority of devices. Consider looking at the Outlier pattern before opting to use the Bucket Pattern in this situation.\n",
    "\n",
    "# Our system must embed a one-to-many relationship in one of our models, however, some of the result documents would be too\n",
    "  big.\n",
    "\n",
    "There is not enough information to tell us how we could group the many side of the relationship into buckets. The most likely optimal action to take is to link the relationship instead of embedding it.\n",
    "\n",
    "# Our system performs sums and averages over all elements of certain arrays.\n",
    "\n",
    "It sounds like we should look into the Computed Pattern instead."
   ]
  },
  {
   "cell_type": "markdown",
   "id": "52096068",
   "metadata": {},
   "source": [
    "### 範例02"
   ]
  },
  {
   "cell_type": "raw",
   "id": "8f14a7c9",
   "metadata": {},
   "source": [
    "Problem:\n",
    "\n",
    "In this lab, we will be applying the Bucket Pattern to address an IoT use case scenario.\n",
    "\n",
    "Scenario:\n",
    "\n",
    "You've been called in to help improve the performance profile of an application that provides a dashboard and reporting information of cell tower quality service metrics.\n",
    "\n",
    "This application collects a set of metric information sent directly from cell towers.\n",
    "\n",
    "Each cell tower emits a message similar to the following, in 1 minute intervals:"
   ]
  },
  {
   "cell_type": "code",
   "execution_count": null,
   "id": "4b584ae9",
   "metadata": {},
   "outputs": [],
   "source": [
    "{\n",
    "  \"date\": \"2019-05-01T17:23:43.042Z\",\n",
    "  \"celltower_id\": \"BBA87930-4A72-4D77-B238-2BA5899C9BEC\",\n",
    "  \"coordinates\": [\n",
    "    -8.5837984085083,\n",
    "    41.161823159286136\n",
    "  ],\n",
    "  \"established_calls\": 50013,\n",
    "  \"dropped_calls\": 1231,\n",
    "  \"data_in_gb\": 142,\n",
    "  \"data_out_gb\": 481\n",
    "}"
   ]
  },
  {
   "cell_type": "raw",
   "id": "789f6ff8",
   "metadata": {},
   "source": [
    "The information sent in each message corresponds to:\n",
    "\n",
    "# the current longitude and latitude of the cell tower - coordinates\n",
    "# a unique identifier of the cell tower - celltower_id\n",
    "# the date of the measurement - date\n",
    "# the following accumulated counters, accumulated since last reboot:\n",
    "  - the number of established cell phone calls - established_calls\n",
    "  - the number of dropped cell phone calls - dropped_calls\n",
    "  - the amount of inbound data traffic - data_in_gb\n",
    "  = the amount of outbound data traffic - data_out_gb\n",
    "\n",
    "This system needs to support the following operational requirements:\n",
    "\n",
    "# Be capable of storing measurements for at least 500 cell towers\n",
    "# Be able to produce cell tower cumulative reports on one or all four of the accumulated counters, with the following\n",
    "  specifications:\n",
    "Each of these reports consists of a plotted graph of the last 24 hours for each metric, with a granularity of 5 minutes\n",
    "The 95 percentile request latency expected for this report is 100ms"
   ]
  },
  {
   "cell_type": "raw",
   "id": "8d880da7",
   "metadata": {},
   "source": [
    "Current Implementation:\n",
    "\n",
    "The current implementation is to store documents that are very similar to the emitted messages, having all messages stored in a measurements collection:"
   ]
  },
  {
   "cell_type": "code",
   "execution_count": null,
   "id": "22e694b6",
   "metadata": {},
   "outputs": [],
   "source": [
    "db.measurements.find({\"cell_tower.id\": \"BBA87930-4A72-4D77-B238-2BA5899C9BEC\"})\n",
    "{\n",
    "  \"_id\": ObjectId(\"5cd3587395f8fbc3fab3092e\"),\n",
    "  \"date_received\": ISODate(\"2019-05-01T17:24:00.000Z\"),\n",
    "  \"message_date\": ISODate(\"2019-05-01T17:23:43.042Z\"),\n",
    "  \"cell_tower\": {\n",
    "    \"location\": {\n",
    "      \"type\": \"Point\",\n",
    "      \"coordinates\": [\n",
    "          -8.5837984085083,\n",
    "           41.161823159286136\n",
    "      ]\n",
    "    },\n",
    "    \"id\": \"BBA87930-4A72-4D77-B238-2BA5899C9BEC\"\n",
    "  },\n",
    "  \"established_calls\": 50013,\n",
    "  \"dropped_calls\": 1231,\n",
    "  \"data_in_gb\": 142,\n",
    "  \"data_out_gb\": 481\n",
    "}\n",
    "..."
   ]
  },
  {
   "cell_type": "markdown",
   "id": "1fd93a85",
   "metadata": {},
   "source": [
    "This implementation is expected to fill out the database servers disk space in one month and there is no budget left for hardware improvements in the next 12 months.\n",
    "\n",
    "The current implementation is unable to produce the reports within the required 100ms."
   ]
  },
  {
   "cell_type": "raw",
   "id": "a7f319bf",
   "metadata": {},
   "source": [
    "Your Solution:\n",
    "\n",
    "In order to resolve the issues that the current approach is facing, you need to come up with a schema design alternative that allows for:\n",
    "\n",
    "# an increase in the number of IoT devices and associated workload growth\n",
    "# all report generation to comply with the expected SLA of less than 100ms\n",
    "# allow for the application to report status for the last 24 hours, with a granularity of 5 minutes\n",
    "\n",
    "Using your pattern knowledge, consider the following three choices for the implementation:"
   ]
  },
  {
   "cell_type": "raw",
   "id": "87a69cbd",
   "metadata": {},
   "source": [
    "# A:\n",
    "\n",
    "One document per hour:"
   ]
  },
  {
   "cell_type": "code",
   "execution_count": null,
   "id": "853291c4",
   "metadata": {},
   "outputs": [],
   "source": [
    "{\n",
    "  \"_id\": ObjectId(\"5cd3587395f8fbc3fab3092e\"),\n",
    "  \"date\": ISODate(\"2019-05-01T17:00:00.000Z\"),\n",
    "  \"celltower_id\": \"BBA87930-4A72-4D77-B238-2BA5899C9BEC\",\n",
    "  \"established_calls\": {\n",
    "    \"minutes\": [\n",
    "      98, 262, 266, 106, 254, 109, 3, 32, 257, 199,\n",
    "      194, 209, 251, 269, 175, 42, 240, 169, 166, 149,\n",
    "      238, 43, 128, 119, 120, 134, 267, 87, 228, 56,\n",
    "      198, 9, 203, 281, 266, 91, 210, 55, 91, 118,\n",
    "      203, 283, 74, 19, 222, 37, 18, 249, 149, 76,\n",
    "      165, 29, 44, 94, 277, 253, 79, 100, 182, 127\n",
    "    ],\n",
    "    \"sum\": 9072\n",
    "  },\n",
    "  \"dropped_calls\": {\n",
    "    \"minutes\": [\n",
    "      0, 1, 0, 0, 1, 0, 0, 2, 0, 0,\n",
    "      0, 1, 0, 0, 0, 0, 0, 0, 0, 0,\n",
    "      0, 0, 0, 0, 1, 0, 0, 0, 0, 0,\n",
    "      0, 0, 0, 0, 0, 0, 0, 0, 0, 0,\n",
    "      0, 0, 0, 0, 0, 0, 0, 0, 0, 0,\n",
    "      0, 0, 0, 0, 0, 0, 0, 0, 0, 0\n",
    "    ],\n",
    "    \"sum\": 6\n",
    "  },\n",
    "  \"data_in_gb\": {\n",
    "    \"minutes\": [\n",
    "      5, 12, 30, 0, 24, 12, 12, 5, 16, 5,\n",
    "      4, 18, 6, 2, 13, 7, 11, 2, 8, 30, 25,\n",
    "      7, 4, 27, 2, 30, 0, 17, 17, 5,\n",
    "      9, 19, 10, 4, 13, 1, 4, 3, 3, 28,\n",
    "      12, 8, 1, 21, 6, 4, 29, 23, 3, 16,\n",
    "      0, 30, 20, 17, 2, 13, 15, 12, 16, 6\n",
    "    ],\n",
    "    \"sum\": 704\n",
    "  },\n",
    "  \"data_out_gb\": {\n",
    "    \"minutes\":[\n",
    "      43, 100, 59, 40, 7, 57, 61, 3, 94, 84, 37,\n",
    "      67, 25, 80, 40, 34, 8, 20, 69, 66,\n",
    "      94, 71, 85, 95, 54, 65, 35, 26, 33,\n",
    "      42, 19, 42, 72, 45, 100, 17, 96, 53, 50, 91,\n",
    "      34, 79, 45, 34, 51, 96, 90, 5, 12, 30, 50,\n",
    "      4, 67, 21, 54, 17, 6, 91, 19, 36\n",
    "    ],\n",
    "    \"sum\": 3020\n",
    "  }\n",
    "}"
   ]
  },
  {
   "cell_type": "raw",
   "id": "a442bb1a",
   "metadata": {},
   "source": [
    "B:\n",
    "\n",
    "One document per day per metric:"
   ]
  },
  {
   "cell_type": "code",
   "execution_count": null,
   "id": "9d7c1e25",
   "metadata": {},
   "outputs": [],
   "source": [
    "{\n",
    "  \"_id\": ObjectId(\"5cd3587395f8fbc3fab30934\"),\n",
    "  \"date\": ISODate(\"2019-05-01\"),\n",
    "  \"metric:\": \"established_calls\",\n",
    "  \"celltower_id\": \"BBA87930-4A72-4D77-B238-2BA5899C9BEC\",\n",
    "  \"measurements\": {\n",
    "    \"0\": [98, 262, 266, 106, 254, 109, 3, 32, 257, 199, ... ],\n",
    "    \"1\": [0,0,0,0,0,0,0,0,0,0,0,0,0,0,0,0,0,0,0,0,0,0,0 ...],\n",
    "    \"2\": [0,0,0,0,0,0,0,0,0,0,0,0,0,0,0,0,0,0,0,0,0,0,0 ...],\n",
    "    ...\n",
    "    \"23\": [0,0,0,0,0,0,0,0,0,0,0,0,0,0,0,0,0,0,0,0,0,0,0 ...],\n",
    "  },\n",
    "  \"sum\": 9072\n",
    "}\n",
    "{\n",
    "  \"_id\": ObjectId(\"5cd3587395f8fbc3fab30933\"),\n",
    "  \"date\": ISODate(\"2019-05-01\"),\n",
    "  \"metric:\": \"dropped_calls\",\n",
    "  \"celltower_id\": \"BBA87930-4A72-4D77-B238-2BA5899C9BEC\",\n",
    "  \"measurements\": {\n",
    "    \"0\": [ 0, 1, 0, 0, 1, 0, 0, 2, 0, 0, 0, 1, 0, 0, 0, ... ],\n",
    "    \"1\": [0,0,0,0,0,0,0,0,0,0,0,0,0,0,0,0,0,0,0,0,0,0,0 ...],\n",
    "    \"2\": [0,0,0,0,0,0,0,0,0,0,0,0,0,0,0,0,0,0,0,0,0,0,0 ...],\n",
    "    ...\n",
    "    \"23\": [0,0,0,0,0,0,0,0,0,0,0,0,0,0,0,0,0,0,0,0,0,0,0 ...]\n",
    "\n",
    "  },\n",
    "  \"sum\": 6\n",
    "}\n",
    "{\n",
    "  \"_id\": ObjectId(\"5cd3587395f8fbc3fab30932\"),\n",
    "  \"date\": ISODate(\"2019-05-01\"),\n",
    "  \"metric:\": \"data_in_gb\",\n",
    "  \"celltower_id\": \"BBA87930-4A72-4D77-B238-2BA5899C9BEC\",\n",
    "  \"measurements\": {\n",
    "    \"0\": [ 5, 12, 30, 0, 24, 12, 12, 5, 16, 5, 4, 18, 6 ...],\n",
    "    \"1\": [0,0,0,0,0,0,0,0,0,0,0,0,0,0,0,0,0,0,0,0,0,0,0 ...],\n",
    "    \"2\": [0,0,0,0,0,0,0,0,0,0,0,0,0,0,0,0,0,0,0,0,0,0,0 ...],\n",
    "    ...\n",
    "    \"23\": [0,0,0,0,0,0,0,0,0,0,0,0,0,0,0,0,0,0,0,0,0,0,0 ...],\n",
    "  },\n",
    "  \"sum\": 704\n",
    "}\n",
    "{\n",
    "  \"_id\": ObjectId(\"5cd3587395f8fbc3fab30931\"),\n",
    "  \"date\": ISODate(\"2019-05-01\"),\n",
    "  \"metric:\": \"data_out_gb\",\n",
    "  \"celltower_id\": \"BBA87930-4A72-4D77-B238-2BA5899C9BEC\",\n",
    "  \"measurements\": {\n",
    "    \"0\":[ 43, 100, 59, 40, 7, 57, 61, 3, 94, 84, 37, 67 ... ],\n",
    "    \"1\": [0,0,0,0,0,0,0,0,0,0,0,0,0,0,0,0,0,0,0,0,0,0,0 ...],\n",
    "    \"2\": [0,0,0,0,0,0,0,0,0,0,0,0,0,0,0,0,0,0,0,0,0,0,0 ...],\n",
    "    ...\n",
    "    \"23\": [0,0,0,0,0,0,0,0,0,0,0,0,0,0,0,0,0,0,0,0,0,0,0 ...],\n",
    "  },\n",
    "  \"sum\": 3020\n",
    "}"
   ]
  },
  {
   "cell_type": "raw",
   "id": "1fef97ae",
   "metadata": {},
   "source": [
    "C:\n",
    "\n",
    "One document per day:"
   ]
  },
  {
   "cell_type": "code",
   "execution_count": null,
   "id": "8bbe8505",
   "metadata": {},
   "outputs": [],
   "source": [
    "{\n",
    "  \"_id\": ObjectId(\"5cd3587395f8fbc3fab3092e\"),\n",
    "  \"date\": ISODate(\"2019-05-01\"),\n",
    "  \"celltower_id\": \"BBA87930-4A72-4D77-B238-2BA5899C9BEC\",\n",
    "  \"established_calls\": {\n",
    "    \"0\": 9072,\n",
    "    \"1\": 0,\n",
    "    \"2\": 0,\n",
    "    ...\n",
    "    \"23\": 0,\n",
    "  },\n",
    "  \"dropped_calls\": {\n",
    "    \"0\": 6,\n",
    "    \"1\": 0,\n",
    "    \"2\": 0,\n",
    "    ...\n",
    "    \"23\": 0\n",
    "  },\n",
    "  \"data_in_gb\": {\n",
    "    \"0\": 704,\n",
    "    \"1\": 0,\n",
    "    \"2\": 0,\n",
    "    ...\n",
    "    \"23\": 0,\n",
    "  },\n",
    "  \"data_out_gb\": {\n",
    "    \"0\": 3020,\n",
    "    \"1\": 0,\n",
    "    \"2\": 0,\n",
    "    ...\n",
    "    \"23\": 0,\n",
    "  }\n",
    "}"
   ]
  },
  {
   "cell_type": "raw",
   "id": "88c62e9d",
   "metadata": {},
   "source": [
    "Which of the above solutions provide a valid approach for solving the problems experienced by the application?"
   ]
  },
  {
   "cell_type": "raw",
   "id": "6456df18",
   "metadata": {},
   "source": [
    "A and B are valid implementations. Both documents allow for a correct plotting of all the necessary information to process the reports, the response time for reporting generation and metric updates is both predictable and fast, keeping a steady data growth.\n",
    "\n",
    "Option C is the most space- and write-efficient. However it is not viable because it does not allow for the specified reporting granularity of 5 minutes."
   ]
  },
  {
   "cell_type": "markdown",
   "id": "17817c21",
   "metadata": {},
   "source": [
    "# Schema Versioning Pattern"
   ]
  },
  {
   "cell_type": "raw",
   "id": "bbf5a853",
   "metadata": {},
   "source": [
    "Do you still have alter table nightmares?\n",
    "\n",
    "Memories of modifying the schema of your relational database?\n",
    "\n",
    "Performing complex tasks under pressure, so you could limit the amount of downtime for your users?\n",
    "\n",
    "If so, welcome to your new world.\n",
    "\n",
    "If you did not have any nightmares or never updated relational databases, welcome too to this bright world.\n",
    "\n",
    "You will love the pattern we will cover in this lesson.\n",
    "\n",
    "It makes modifying the schema used by your application a much smoother process."
   ]
  },
  {
   "cell_type": "markdown",
   "id": "46951cef",
   "metadata": {},
   "source": [
    "<img src=\"img/97.png\">"
   ]
  },
  {
   "cell_type": "raw",
   "id": "60886cfc",
   "metadata": {},
   "source": [
    "The question when user database is not, if you will update your schema, but when would you update it?\n",
    "\n",
    "Nearly all applications in their lifetime will require updates to their database schema.\n",
    "\n",
    "Unfortunately, those updates take time and require downtime for relational databases.\n",
    "\n",
    "If anything goes wrong when you reopen the service, it may be difficult to revert back to what you had prior to the migration."
   ]
  },
  {
   "cell_type": "raw",
   "id": "cb1d0652",
   "metadata": {},
   "source": [
    "The schema versioning pattern is based on the polyphonic aspect of documents in MongoDB.\n",
    "\n",
    "Because documents can have different shapes.\n",
    "\n",
    "By that, I refer to having different fields or different types for a given field.\n",
    "\n",
    "We construct our applications to deal with those variants."
   ]
  },
  {
   "cell_type": "markdown",
   "id": "f41e9ee6",
   "metadata": {},
   "source": [
    "<img src=\"img/98.png\">"
   ]
  },
  {
   "cell_type": "raw",
   "id": "c69da6d4",
   "metadata": {},
   "source": [
    "Let's say we have Bob White as a person in our people collection.\n",
    "\n",
    "Bob was born a while ago, and can be reached at home or at work through these phone numbers.\n",
    "\n",
    "Then we have Junior, Bob White's son.\n",
    "\n",
    "Bob is from a generation that got used to cell phones.\n",
    "\n",
    "And we need to add this information to his profile, and have our application deal with this additional information.\n",
    "\n",
    "I suspect making this change was not too painful.\n",
    "\n",
    "It would even be pretty smooth with a relational database, as adding a column is not a big deal.\n",
    "\n",
    "Now, as the next generation of White-- Bob III-- does not have a phone at home.\n",
    "\n",
    "However, has account with Skype, Google Hangouts, Viber, and who knows what next week.\n",
    "\n",
    "Well, this is becoming difficult to handle in the application.\n",
    "\n",
    "But because the developers took the wonderful class M320 on Data Modeling, they realized that the attribute pattern would be a good fit here.\n",
    "\n",
    "So instead of growing the documents with unpredictable contact methods, the attribute pattern is applied."
   ]
  },
  {
   "cell_type": "markdown",
   "id": "c39b4fc7",
   "metadata": {},
   "source": [
    "<img src=\"img/99.png\">"
   ]
  },
  {
   "cell_type": "raw",
   "id": "2f12ce16",
   "metadata": {},
   "source": [
    "The application could easily handle the differences in the Bob White documents.\n",
    "\n",
    "It just has to know the different shapes with different code path.\n",
    "\n",
    "Here, instead of dealing with an additional field, you get to see an array of contacts method when you process it accordingly.\n",
    "\n",
    "To help the application identify the shape, we will have a version field and set it to 2, the non-presence of this field being the implicit version 1.\n",
    "\n",
    "Note that this field is present in each document.\n",
    "\n",
    "This is in contrast to a relational database, where you only have one global number to track the version of the schema.\n",
    "\n",
    "Here we have each document telling us which version of the schema to adhere to.\n",
    "\n",
    "The first thing you will need to do is to change the application so it can read all the different version of the documents.\n",
    "\n",
    "You can use separate handlers or function to handle the different versions.\n",
    "\n",
    "The field schema version makes it easy to decide where to send the document.\n",
    "\n",
    "Alternatively, reshape the document when you see an old version, and then process it.\n",
    "\n",
    "Testing that functionality is relatively easy.\n",
    "\n",
    "As you start adding documents with the upcoming shape to your test environment, and then observe how the application deals with those changes.\n",
    "\n",
    "Update your application server so they use the modified application.\n",
    "\n",
    "Once the migration of all documents is completed, it's up to you to decide to remove or not the obsolete code."
   ]
  },
  {
   "cell_type": "markdown",
   "id": "aed44cd7",
   "metadata": {},
   "source": [
    "<img src=\"img/100.png\">"
   ]
  },
  {
   "cell_type": "markdown",
   "id": "4e808a56",
   "metadata": {},
   "source": [
    "<img src=\"img/101.png\">"
   ]
  },
  {
   "cell_type": "raw",
   "id": "12f44fbb",
   "metadata": {},
   "source": [
    "New documents get written in the latest schema version.\n",
    "\n",
    "For existing documents, you can piggyback on the fact that you're going to make an update to change the shape and write it in the new schema.\n",
    "\n",
    "As a matter of fact, I remember a customer that had billions of documents, a lot being inactive.\n",
    "\n",
    "And that was their only migration strategy.\n",
    "\n",
    "That means that the old obsolete documents remained unchanged, because they did not want to pay the price to update them with a job running for a few weeks.\n",
    "\n",
    "Alternatively to this selective update strategy, the most common one is to have a background task to do the updates.\n",
    "\n",
    "You can have both processes doing the migration of documents, and that will still be fine."
   ]
  },
  {
   "cell_type": "markdown",
   "id": "9308dff2",
   "metadata": {},
   "source": [
    "<img src=\"img/102.png\">"
   ]
  },
  {
   "cell_type": "raw",
   "id": "784f0e81",
   "metadata": {},
   "source": [
    "The thing to understand is that while you're updating your application server, assuming you have more than one, you won't [INAUDIBLE] any downtime.\n",
    "\n",
    "Once done, you can take the time you need to update the documents by running an updater.\n",
    "\n",
    "And that can be done in a few passes.\n",
    "\n",
    "While the documents are getting updated, your application servers can handle both schema version work well with all documents, old and new shapes.\n",
    "\n",
    "At the end, if and once all documents are updated, you can remove the code to handle the old version in your application.\n",
    "\n",
    "Some users keep it there for protection or for keeping the ability to reimport documents in the old shape.\n",
    "\n",
    "Anyway, there's a lot of possible variations of migration.\n",
    "\n",
    "Just ensure you get a plan."
   ]
  },
  {
   "cell_type": "markdown",
   "id": "ab72c2ee",
   "metadata": {},
   "source": [
    "<img src=\"img/103.png\">"
   ]
  },
  {
   "cell_type": "raw",
   "id": "f35fe705",
   "metadata": {},
   "source": [
    "Time to formalize our schema versioning pattern.\n",
    "\n",
    "The problem in schema versioning pattern addresses is avoiding downtime when using a schema update.\n",
    "\n",
    "If you have a small system with the ability to bring it down for an acceptable period of time, you may just want to do that and do your updates the old fashioned way.\n",
    "\n",
    "Updating all documents can take a long time-- hours, day, or even weeks when dealing with big data.\n",
    "\n",
    "And there is the situation where you have so many legacy documents, or any other reason for which you don't want to update everything.\n",
    "\n",
    "As illustrated in our previous screens, the solution is to use a field present in each document to keep the version number.\n",
    "\n",
    "Schema version is suggested, but not mandatory.\n",
    "\n",
    "As a matter of fact, the field can also be omitted, and have the application detect the shape or the version based on the list of fields present or missing.\n",
    "\n",
    "However, I prefer explicitly using a field to identify the version.\n",
    "\n",
    "Secondly, the application should be able to handle the different shapes of the documents.\n",
    "\n",
    "And finally, layout the strategy to migrate your documents.\n",
    "\n",
    "You are in charge.\n",
    "\n",
    "You have all the time you need to do the things correctly.\n",
    "\n",
    "As I said earlier, most application-- especially the successful ones that live for a long time-- will require schema changes.\n",
    "\n",
    "Unless you can afford downtime, this pattern is likely going to be very useful to you.\n",
    "\n",
    "On the benefits side, they are pretty evident.\n",
    "\n",
    "You can avoid downtime.\n",
    "\n",
    "You feel in control of the migration the whole time, done when you want to do it.\n",
    "\n",
    "On the trade-off side, if you have an index in the field that's not located at the same level in the document, you may need to index while you're doing the migration.\n",
    "\n",
    "And finally, unlike the fiscal debt, the technical debt, and environmental debt we are usually leaving to the next generation, at least here we can build system that should be easier to maintain and migrate by your future colleagues.\n",
    "\n",
    "In summary, the schema versioning pattern is a great pattern if you want to avoid downtime while performing schema upgrade and want to stay in control of those upgrades."
   ]
  },
  {
   "cell_type": "markdown",
   "id": "00ee3756",
   "metadata": {},
   "source": [
    "### 範例01"
   ]
  },
  {
   "cell_type": "raw",
   "id": "299326cd",
   "metadata": {},
   "source": [
    "Which one of the following scenarios is the best candidate for the use of the Schema Versioning Pattern?"
   ]
  },
  {
   "cell_type": "raw",
   "id": "72a69ad5",
   "metadata": {},
   "source": [
    "Correct Option:\n",
    "\n",
    "# I want to avoid downtime when upgrading my schema.\n",
    "\n",
    "The above is the correct answer.\n",
    "\n",
    "Incorrect Options:\n",
    "\n",
    "# I can schedule a window of downtime long enough to migrate the documents to the new version.\n",
    "\n",
    "In this situation, you may not want to do any extra work of having an app that handles many document versions or scheduling a migration over many days. In this situation, you don't have to use the Schema Versioning Pattern.\n",
    "\n",
    "# I want to keep track of the changes to my documents.\n",
    "\n",
    "The \"Document Versioning Pattern\" is a better choice for this requirement.\n",
    "\n",
    "# I have billions of documents.\n",
    "\n",
    "Having billions of documents is not a reason by itself. However, since you are likely going to change your schema, the Schema Versioning Pattern will be handy at that time.\n",
    "\n",
    "# I have many obsolete documents.\n",
    "\n",
    "The Schema Versioning Pattern does not help you with the management of obsolete documents. Though, it helps in reducing the cost of migrating them. For a solution more appropriate for managing obsolete documents, look into \"zone sharding\" in the MongoDB documentation."
   ]
  },
  {
   "cell_type": "markdown",
   "id": "7d7b27a3",
   "metadata": {},
   "source": [
    "## 範例02"
   ]
  },
  {
   "cell_type": "raw",
   "id": "44b7863b",
   "metadata": {},
   "source": [
    "Which of the following scenarios are best suited for applying the Schema Versioning Pattern?"
   ]
  },
  {
   "cell_type": "raw",
   "id": "fa0e9f70",
   "metadata": {},
   "source": [
    "Scenario A:\n",
    "\n",
    "Your team was assigned to upgrade the current schema with additional fields and transforming the type of different fields without bringing the system down for this upgrade. However, all documents need to be updated to the new shape quickly."
   ]
  },
  {
   "cell_type": "raw",
   "id": "c97c95dd",
   "metadata": {},
   "source": [
    "Scenario B:\n",
    "\n",
    "The performance of your application became suboptimal over time. Your team has identified that the most commonly used collection could profit from embedding additional information from other collections using the Subset and Computed Patterns. All documents in the commonly-used collection will need to undergo this modification. If possible, you would like the transition to be done without downtime."
   ]
  },
  {
   "cell_type": "raw",
   "id": "362e6460",
   "metadata": {},
   "source": [
    "Scenario C:\n",
    "\n",
    "Your company was bought by its slightly more successful competitor. Thankfully both your and your new owner's applications are flexible enough to handle both document shapes well. You do not have to modify the application or your document shape, but due to the merger, you have to keep documents with different structures in the same collection."
   ]
  },
  {
   "cell_type": "raw",
   "id": "b89a7879",
   "metadata": {},
   "source": [
    "Correct Options\n",
    "\n",
    "Scenario A & B both describe situations for which the schema versioning pattern is designed.\n",
    "\n",
    "Scenario A\n",
    "\n",
    "Since your team has a strict zero downtime transition requirement, it is essential to minimize the volume of writes throughout the upgrade. As a result, applying the Schema Versioning Pattern is the right solution.\n",
    "\n",
    "Scenario B\n",
    "\n",
    "Even though the modifications to the schema are significant, it is likely that you can implement them without downtime using the Schema Versioning Pattern. Having additional information in the updated documents will probably translate to a new function that will make fewer requests to the database to gather what it needs. For the documents that were migrated, the application will call this new function. For the unmigrated documents, your application can still call the old function.\n",
    "\n",
    "Incorrect Option\n",
    "\n",
    "Scenario C\n",
    "\n",
    "Since both applications can handle both schemas, there is no need to use the schema versioning pattern. However, there is still a need to somehow distinguish one document shape from another. In this case, applying the Polymorphic Pattern, which will be covered later is the more appropriate approach.\n",
    "\n",
    "Once you decide to come up with a new schema that could be common to both current schemas, then you can use the schema versioning pattern to make the transition."
   ]
  },
  {
   "cell_type": "markdown",
   "id": "0667ec04",
   "metadata": {},
   "source": [
    "# Tree Patterns"
   ]
  },
  {
   "cell_type": "raw",
   "id": "3bbbbf54",
   "metadata": {},
   "source": [
    "Hi there.\n",
    "\n",
    "In this lesson, we are going to learn about how to model hierarchical information using tree patterns and examine common situations where tree patterns can be used."
   ]
  },
  {
   "cell_type": "markdown",
   "id": "3bc8e214",
   "metadata": {},
   "source": [
    "<img src='img/104.png'>"
   ]
  },
  {
   "cell_type": "markdown",
   "id": "44c7a60d",
   "metadata": {},
   "source": [
    "<img src='img/105.png'>"
   ]
  },
  {
   "cell_type": "markdown",
   "id": "a28a32d2",
   "metadata": {},
   "source": [
    "<img src='img/106.png'>"
   ]
  },
  {
   "cell_type": "raw",
   "id": "20246f2c",
   "metadata": {},
   "source": [
    "There are several types of use cases that find hierarchies between objects or nodes and the relationship between them, use cases like company organization charts, subject areas structures in a given domain like books in a bookstore, or even a more typical example, the categories of products for a given e-commerce site or shop.\n",
    "\n",
    "All of these examples are hierarchical in nature where there is a direct relationship between the parent nodes and the child nodes."
   ]
  },
  {
   "cell_type": "markdown",
   "id": "86c46da9",
   "metadata": {},
   "source": [
    "<img src='img/107.png'>"
   ]
  },
  {
   "cell_type": "raw",
   "id": "d8895ef0",
   "metadata": {},
   "source": [
    "Each hierarchical node relationship comes associated with common operations that will be useful to us in many situations regardless of the actual content of the database, things like who are the ancestors of node X or reports to Y.\n",
    "\n",
    "Find all nodes that are under Z, or change all categories of N to under P.\n",
    "\n",
    "These are common operations applicable to any information that is hierarchical in nature.\n",
    "\n",
    "Documents, in themselves, are hierarchical structures."
   ]
  },
  {
   "cell_type": "markdown",
   "id": "5853366a",
   "metadata": {},
   "source": [
    "<img src='img/108.png'>"
   ]
  },
  {
   "cell_type": "raw",
   "id": "9d310c99",
   "metadata": {},
   "source": [
    "They contain multidimensional information within a given node, such as the relationships between a product and the stores that the product's sold at or the reviews of the same product.\n",
    "\n",
    "However, when representing the dependency and hierarchy between nodes of the same entity, like categories, it is better to use tree patterns.\n",
    "\n",
    "The document model offers a few patterns for modeling tree structures.\n",
    "\n",
    "We have the parent references, child references, arrays of ancestors, and materialized baths."
   ]
  },
  {
   "cell_type": "markdown",
   "id": "feaff0a1",
   "metadata": {},
   "source": [
    "<img src='img/109.png'>"
   ]
  },
  {
   "cell_type": "markdown",
   "id": "1a4c41f0",
   "metadata": {},
   "source": [
    "<img src='img/110.png'>"
   ]
  },
  {
   "cell_type": "markdown",
   "id": "0dabfbca",
   "metadata": {},
   "source": [
    "<img src='img/111.png'>"
   ]
  },
  {
   "cell_type": "markdown",
   "id": "5a08765b",
   "metadata": {},
   "source": [
    "<img src='img/112.png'>"
   ]
  },
  {
   "cell_type": "raw",
   "id": "6f0fe025",
   "metadata": {},
   "source": [
    "In the case of parent preferences, the document holds a reference to the parent node in the tree hierarchy.\n",
    "\n",
    "We can collect all ancestors by running an aggregation pipeline with a graph lookup stage to retrieve all subsequent parents of the immediate parents traversing the full tree.\n",
    "\n",
    "To find all reports of a given parent, we can run a find command matching for the parent and then retrieving all children nodes.\n",
    "\n",
    "In order to change all nodes that report, or are children of one parent, in other words, change all categories under N to [INAUDIBLE] children of P, we can use an update operation.\n",
    "\n",
    "For parent references, we can perform operations like who reports to Y and change all categories under N to under P using very little code and changing only one single document.\n",
    "\n",
    "To find all nodes that are under Z, that is also pretty straightforward.\n",
    "\n",
    "However, we have to iterate over a set of documents.\n",
    "\n",
    "We can also respond to questions, Who are the ancestors of node X, by resorting to a lookup, which is essentially as joined, which may not be ideal to accomplish this operation."
   ]
  },
  {
   "cell_type": "markdown",
   "id": "e8eccd95",
   "metadata": {},
   "source": [
    "<img src='img/113.png'>"
   ]
  },
  {
   "cell_type": "markdown",
   "id": "3097b6ae",
   "metadata": {},
   "source": [
    "<img src='img/114.png'>"
   ]
  },
  {
   "cell_type": "raw",
   "id": "f08cab0a",
   "metadata": {},
   "source": [
    "This is where the child reference model comes in.\n",
    "\n",
    "In the child reference model, the parent node contains a single array of all the immediate node children.\n",
    "\n",
    "In this example, the office node has three children-- books, electronics, and stickers.\n",
    "\n",
    "So to perform the operation finding all nodes that are under Z, in this case, under office becomes a less computational demanding operation for the database.\n",
    "\n",
    "A single request retrieves all of that information.\n",
    "\n",
    "However, other questions like, who are the ancestors of node X, become a bit more complicated.\n",
    "\n",
    "Finding all nodes that report to Y or even changing all categories under N to under P are not ideal for this pattern."
   ]
  },
  {
   "cell_type": "markdown",
   "id": "61279919",
   "metadata": {},
   "source": [
    "<img src='img/115.png'>"
   ]
  },
  {
   "cell_type": "markdown",
   "id": "7e28b09e",
   "metadata": {},
   "source": [
    "<img src='img/116.png'>"
   ]
  },
  {
   "cell_type": "raw",
   "id": "d0be51c8",
   "metadata": {},
   "source": [
    "Another model to represent the hierarchy of a tree is the array of ancestors model.\n",
    "\n",
    "This model uses an ordered array to store a list of all of a node's ancestors on that node.\n",
    "\n",
    "This model is very efficient for finding what are the ancestors of a given node.\n",
    "\n",
    "They are all stored in the ancestor array.\n",
    "\n",
    "We can also find out which is the immediate reporting or parent node using array position operators if we know the level that the node occupies in the tree.\n",
    "\n",
    "The next operation, which is still possible, a bit more tricky to do, is to change all categories under N to under P, since this operation requires a few more trips to the database to apply all the necessary changes."
   ]
  },
  {
   "cell_type": "markdown",
   "id": "f3c8353d",
   "metadata": {},
   "source": [
    "<img src='img/117.png'>"
   ]
  },
  {
   "cell_type": "markdown",
   "id": "a87014c2",
   "metadata": {},
   "source": [
    "<img src='img/118.png'>"
   ]
  },
  {
   "cell_type": "raw",
   "id": "6437133d",
   "metadata": {},
   "source": [
    "A variation of the array ancestors is the materialized paths pattern.\n",
    "\n",
    "In this approach, we use a string value to describe the node's ancestors with some value separator.\n",
    "\n",
    "In this example, we have a string ancestors with a value .Swag.Office.\n",
    "\n",
    "That describes the direct branch of the books node in the tree.\n",
    "\n",
    "Using the materialized path's approach comes with a great benefit.\n",
    "\n",
    "We can use a single regular expression over a single index field value for all queries prepended on the root tree node, which means that we can use a simple index in order to find a particular path of a branch in our hierarchy.\n",
    "\n",
    "In this approach, we can access our ancestor's fields to quickly answer the question, who are the ancestors of X?\n",
    "\n",
    "For the question, who reports to Y, this is a simple query but potentially not very efficient, even relaying on a single field.\n",
    "\n",
    "The index will not be used if we do not ask for the full branch matching path from root.\n",
    "\n",
    "Finding all nodes that are under Z suffers from the same problem as reports to Y.\n",
    "\n",
    "And finally, moving nodes around might be quite challenging depending on the node that we are moving and the reports that subsequent node in the hierarchy chain.\n",
    "\n",
    "For any given application that relies on hierarchical information, there is nothing stopping us from using any combination of different patterns in our model."
   ]
  },
  {
   "cell_type": "markdown",
   "id": "caba7688",
   "metadata": {},
   "source": [
    "<img src='img/119.png'>"
   ]
  },
  {
   "cell_type": "raw",
   "id": "e6e5f00d",
   "metadata": {},
   "source": [
    "As an example, here is the categories collection which represent the categories of products in our e-commerce application.\n",
    "\n",
    "In this example, we are using both the array of ancestors and the parent reference model.\n",
    "\n",
    "And why did we decide to use this combination of patterns?\n",
    "\n",
    "We want to be able to do a couple specific operations very quickly and without lots of unnecessary logic.\n",
    "\n",
    "These operations include navigating to the immediate parent node and finding all categories of products that descend from a given node."
   ]
  },
  {
   "cell_type": "markdown",
   "id": "b40b8c16",
   "metadata": {},
   "source": [
    "<img src='img/120.png'>"
   ]
  },
  {
   "cell_type": "raw",
   "id": "792bd727",
   "metadata": {},
   "source": [
    "Tree parents are used to model hierarchical data structures.\n",
    "\n",
    "There is a good variety of tree patterns that we can apply as a solution for those same hierarchical data structures modeling.\n",
    "\n",
    "These are generally used in org charts, product categories, and others.\n",
    "\n",
    "The different patterns offer different benefits.\n",
    "\n",
    "Child references are ideal to navigate the descending the hierarchical of nodes of our tree, where on each node, we can find the immediate child references.\n",
    "\n",
    "Parent reference is ideal to navigate upwards in the tree in institutions where the tree is constantly being updated or moved.\n",
    "\n",
    "Array of ancestors is ideal to get a full view of a branch of the tree structure up to the node itself, where materialized path is an alternative to use a single field index on a string value that enables the user to regular expressions to find documents in a branch of the tree.\n",
    "\n",
    "Tree patterns are an effective way of representing these use cases.\n",
    "\n",
    "But let's recap.\n",
    "\n",
    "Documents are very good data structures to represent nodes in a tree.\n",
    "\n",
    "The fact that documents can hold parts or branches of the tree within themselves allows us to represent in a very efficient way models that do not rely on suboptimal drawings to retrieve the hierarchical information we require for each node.\n",
    "\n",
    "There are several different ways to represent nodes of a tree using documents, and you can even use a combination of different patterns in your model.\n",
    "\n",
    "The choice of which patterns you use should be based on which are the most common operations that your application will be performing and optimized for those choosing the best pattern that allows you to do the most efficient queries on that particular application."
   ]
  },
  {
   "cell_type": "markdown",
   "id": "5cf37b7b",
   "metadata": {},
   "source": [
    "### 範例01"
   ]
  },
  {
   "cell_type": "raw",
   "id": "0d5cb74f",
   "metadata": {},
   "source": [
    "Which of the following scenarios would be ideal to use the Tree Pattern?"
   ]
  },
  {
   "cell_type": "raw",
   "id": "09b65ab4",
   "metadata": {},
   "source": [
    "Correct Options:\n",
    "\n",
    "Tree patterns apply to hierarchical data structures which, for example, can represent:\n",
    "\n",
    "# Company org charts\n",
    "# Product categories\n",
    "\n",
    "which are the correct options.\n",
    "\n",
    "Incorrect Option:\n",
    "\n",
    "# Contact lists of users\n",
    "\n",
    "This is generally not represented in an hierarchical structure, therefore it is not ideal to use a Tree Pattern in this use case."
   ]
  },
  {
   "cell_type": "markdown",
   "id": "7e17ded7",
   "metadata": {},
   "source": [
    "### 範例02"
   ]
  },
  {
   "cell_type": "raw",
   "id": "da7d8fe6",
   "metadata": {},
   "source": [
    "In this lab, you will be selecting a variant of the Tree Pattern to improve the performance of a common set of operations for a given application."
   ]
  },
  {
   "cell_type": "markdown",
   "id": "ba718ee1",
   "metadata": {},
   "source": [
    "# Polymorphic Pattern"
   ]
  },
  {
   "cell_type": "markdown",
   "id": "b431e7ed",
   "metadata": {},
   "source": [
    "<img src=\"img/121.png\">"
   ]
  },
  {
   "cell_type": "raw",
   "id": "f9f0bb40",
   "metadata": {},
   "source": [
    "When we want to organize objects, we can either group them by what they have in common or by their differences.\n",
    "\n",
    "This will result in either keeping the documents in the same collection or in different collections.\n",
    "\n",
    "For example, if we have a product from Canada, a product from Mexico, a customer from Canada, and a customer from Mexico, it is likely that we will group the two customers together and the two food items together.\n",
    "\n",
    "We usually group objects based on queries we want to perform on the system.\n",
    "\n",
    "A major restriction with most other base systems is that it is difficult to query objects across different tables or a collection.\n",
    "\n",
    "If there is one collection for the customers and the one collection for the products it becomes more difficult to find all things Canadians, for example.\n",
    "\n",
    "If the main query of this system is that they're determining objects and people by country, then we will probably put together everything in one collection.\n",
    "\n",
    "So we should group things together because we want to query them together."
   ]
  },
  {
   "cell_type": "markdown",
   "id": "1564b34e",
   "metadata": {},
   "source": [
    "<img src=\"img/122.png\">"
   ]
  },
  {
   "cell_type": "raw",
   "id": "4840253f",
   "metadata": {},
   "source": [
    "When grouping objects together that may have substantial differences, for example, using a vehicle collection to store cars, trucks, and boats, and other types of vehicle would lead us to query the vehicle for registration, ownership, vehicle taxes.\n",
    "\n",
    "A specific vehicle type may have specific aspects that are not shared with the other types of vehicles.\n",
    "\n",
    "A car typically has four wheels, which we can omit.\n",
    "\n",
    "Other trucks have a variable number of wheels and axles.\n",
    "\n",
    "While the boat usually has none.\n",
    "\n",
    "These differences make a car, or truck, and a boat polymorphic entities for a vehicle object.\n",
    "\n",
    "The usual implementation that represents polymorphic objects as a field that describes the name of this shape for a given document or sub-document.\n",
    "\n",
    "In our current example, a vehicle type identifies the document type and lets the application and all the expected field for a particular type or shape of the document.\n",
    "\n",
    "The document of type car will imply that the vehicle has four wheels, while the truck should have a field to identify the number of wheels in the field to identify the number of axles.\n",
    "\n",
    "Due to the nature of the document model, there is usually polymorphous in our database.\n",
    "\n",
    "We refer to the polymorphic pattern in our schema designs when we can clearly name the different entities that are represented in the same collection."
   ]
  },
  {
   "cell_type": "markdown",
   "id": "ad9f79e2",
   "metadata": {},
   "source": [
    "<img src=\"img/123.png\">"
   ]
  },
  {
   "cell_type": "raw",
   "id": "1bcd6ece",
   "metadata": {},
   "source": [
    "Another common situation when this pattern can be applied is when dealing with a product catalog application.\n",
    "\n",
    "Some products may have a color, like a shirt, for example, while describing a book by this color rarely makes sense.\n",
    "\n",
    "In this situation, we're also using polymorphism.\n",
    "\n",
    "However, in a more casual way, as there are tons of different product types.\n",
    "\n",
    "In this case, it's up to you to spell out that they are using the polymorphic pattern in your schema design.\n",
    "\n",
    "So far, we discussed a polymorphic document type in the context of a shape of a document.\n",
    "\n",
    "However, we can also apply this model to subentities, such as sub-documents."
   ]
  },
  {
   "cell_type": "markdown",
   "id": "a15761f4",
   "metadata": {},
   "source": [
    "<img src=\"img/124.png\">"
   ]
  },
  {
   "cell_type": "raw",
   "id": "b9cad428",
   "metadata": {},
   "source": [
    "For example, if we take a person, let's say, Norberto, Norberto is Portuguese and lives in New York.\n",
    "\n",
    "So he has an address in the USA.\n",
    "\n",
    "It is a typical urban address in the US, with a building number, street name, city name, and zip code.\n",
    "\n",
    "Norberto has also an address in Portugal.\n",
    "\n",
    "This structure is similar to the address in the USA.\n",
    "\n",
    "However, a well-known building in Portugal may not have a building number.\n",
    "\n",
    "Portugal does not use zip code.\n",
    "\n",
    "However, they have a critical post style, which translate to a postal code.\n",
    "\n",
    "The critical post style is 7 digits long.\n",
    "\n",
    "So if we want to have a valid data on the postal code or a zip code, they will have to be a little bit different, as they have to handle 7 and 5 digits, respectively.\n",
    "\n",
    "Because our addresses are the documents that we want to apply the polymorphic pattern to, each of these documents need a field to specify its shape.\n",
    "\n",
    "We could use an additional field, however, in this case, the country name should do it.\n",
    "\n",
    "Based on the country for a given address, we can determine the shape of that sub-document."
   ]
  },
  {
   "cell_type": "markdown",
   "id": "1b856507",
   "metadata": {},
   "source": [
    "<img src=\"img/125.png\">"
   ]
  },
  {
   "cell_type": "markdown",
   "id": "975bfedc",
   "metadata": {},
   "source": [
    "<img src=\"img/126.png\">"
   ]
  },
  {
   "cell_type": "raw",
   "id": "100551d6",
   "metadata": {},
   "source": [
    "The polymorphic pattern is commonly used when implementing a single view solution.\n",
    "\n",
    "A single view solution allow for the aggregation of data from different sources into one central location.\n",
    "\n",
    "It is common that the different sources exist because systems tend to be designed to deal with one single problem.\n",
    "\n",
    "An integrated view is key to gaining meaningful insight across all this data, but it's often difficult to merge these data sets together.\n",
    "\n",
    "A typical tabular or relational database approach to solving this problem tends to be very complex, resource intensive, and incomplete.\n",
    "\n",
    "We've seen several organizations over the years failing to create a relational schema that could accommodate data from different sources, different relational database schema, or different data sets.\n",
    "\n",
    "The complexity of this problem becomes greatly reduced when users decide to use MongoDB to create this unified view of the data.\n",
    "\n",
    "Imagine an insurance company that has acquired many other insurance companies over the years.\n",
    "\n",
    "Each acquired organization represents their insurance policies in a different way, using a different schema in their tabular or relational database.\n",
    "\n",
    "When a customer calls the insurance company, they need to specify which system the specific insurance policy is stored in and access the given system.\n",
    "\n",
    "It is possible that some customers had policy with several of these insurance companies, which means that they would have multiple policies across the different systems.\n",
    "\n",
    "For example, some home policy may be in System A, while his car policy may be in System B.\n",
    "\n",
    "Imagine the mess it creates and the impact it has on the customer, who is not able to receive a single unified policy.\n",
    "\n",
    "By creating a single view that merges all sources of data into one MongoDB database, the organization is able to see all the policies and information about the given customer on their one single system.\n",
    "\n",
    "In this example, we are bringing data from different sources into one common collection.\n",
    "\n",
    "First, we select the field that we want to use to identify the customer ID.\n",
    "\n",
    "Let's say we want to use the Social Security number.\n",
    "\n",
    "Second, maybe some fields are easy to merge.\n",
    "\n",
    "Let's say that the first and the last name of the person can be easily identified in the different sources, and they carry the same values.\n",
    "\n",
    "That will result in keeping only this shape for this field.\n",
    "\n",
    "Pick the field name you want, however, the values are the same.\n",
    "\n",
    "Finally, some fields may be more messy and difficult to merge.\n",
    "\n",
    "For example, let's say that addresses have proven to be difficult to clean and represent uniquely.\n",
    "\n",
    "For that, we can keep a list of variants found in the different databases.\n",
    "\n",
    "We can confirm the right value with the customer later or write a separate intelligent process a few months down the road to unify these three sub-documents.\n",
    "\n",
    "This approach help us be operational very quickly, and then we can improve the information we extract in an incremental fashion.\n",
    "\n",
    "Before we wrap up this lesson, let's quickly mention that this schema versioning pattern is using the polymorphic pattern.\n",
    "\n",
    "Its implementation can be described as a version field that dictates the shape of the document."
   ]
  },
  {
   "cell_type": "markdown",
   "id": "b3813989",
   "metadata": {},
   "source": [
    "<img src=\"img/127.png\">"
   ]
  },
  {
   "cell_type": "markdown",
   "id": "7ebc051e",
   "metadata": {},
   "source": [
    "<img src=\"img/128.png\">"
   ]
  },
  {
   "cell_type": "raw",
   "id": "d3615c48",
   "metadata": {},
   "source": [
    "And let's organize what we've been describing and illustrating.\n",
    "\n",
    "The problem that the polymorphic pattern addresses is allowing us to keep documents that have more common things in the same collection.\n",
    "\n",
    "The solution is to have a field that keep tracks of the shape of the document or sub-document.\n",
    "\n",
    "Then have the application use different code paths to handle the differences in the documents using that field value.\n",
    "\n",
    "If the differences are substantial, we often have subclasses allowing the different concerns in the base class to handle the similarities.\n",
    "\n",
    "This is classic object-oriented programming.\n",
    "\n",
    "The most common use cases for this pattern are single view implementations, product catalogs, and content management applications.\n",
    "\n",
    "This is a pattern that is relatively easy to implement.\n",
    "\n",
    "It reflects very well one of the main advantages that the flexible document model offers us.\n",
    "\n",
    "So this is the overview for polymorphic pattern.\n",
    "\n",
    "In summary, the polymorphic pattern is a basic pattern.\n",
    "\n",
    "A lot of other patterns are, in fact, a specialization of this pattern.\n",
    "\n",
    "We can also use the polymorphic pattern in a more generic way to store different shapes of documents within the same collection."
   ]
  },
  {
   "cell_type": "markdown",
   "id": "0133e4ed",
   "metadata": {},
   "source": [
    "### 範例01"
   ]
  },
  {
   "cell_type": "raw",
   "id": "2e806c65",
   "metadata": {},
   "source": [
    "Which one of the following scenarios is best suited for the use of the Polymorphic Pattern?"
   ]
  },
  {
   "cell_type": "raw",
   "id": "a30a0661",
   "metadata": {},
   "source": [
    "Correct Option:\n",
    "\n",
    "# The organization acquired different companies over the years, serving the same markets with the same customers and there\n",
    "  is a requirement to merge all systems into one.\n",
    "\n",
    "The above is the correct answer. It is the single view use case we described in the lesson. The databases from the different acquired companies are likely similar and the polymorphic pattern applies very well in this situation.\n",
    "\n",
    "Incorrect Options:\n",
    "\n",
    "# There is a requirement to keep many versions of a document, and these versions may have different fields for each\n",
    "  version.\n",
    "\n",
    "The Document Versioning Pattern is a better fit for this requirement. This pattern utilizes the polymorphic aspect of the document. However, we suggest a different implementation for this pattern, using two collections to store the different versions of the documents.\n",
    "\n",
    "# The application has a base class with some derived classes.\n",
    "\n",
    "This requirement may lead to using the polymorphic pattern. However, there are some other requirements to meet. For example, do different objects need to be queried together? Since we do not have enough information, this option is incorrect.\n",
    "\n",
    "# There are billions of documents.\n",
    "\n",
    "This is not enough to dictate the use of any pattern.\n",
    "\n",
    "# There is a requirement to store addresses for my customers.\n",
    "\n",
    "If the customers have addresses in different parts of the world, then this pattern would be helpful. However, this has to be a specific requirement, and since it is not mentioned in this case, then this option is incorrect."
   ]
  },
  {
   "cell_type": "markdown",
   "id": "6cae27d9",
   "metadata": {},
   "source": [
    "### 範例02"
   ]
  },
  {
   "cell_type": "raw",
   "id": "20d9c4f6",
   "metadata": {},
   "source": [
    "Apply the Polymorphic Pattern"
   ]
  },
  {
   "cell_type": "markdown",
   "id": "0ab03e09",
   "metadata": {},
   "source": [
    "# Other Patterns"
   ]
  },
  {
   "cell_type": "raw",
   "id": "a93a3cb1",
   "metadata": {},
   "source": [
    "In this lesson, we will summarize some additional patterns that may also be beneficial in your design.\n",
    "\n",
    "The following patterns are less often applied in designs than the one we have covered so far.\n",
    "\n",
    "However, it is a beneficial to be aware of them so that you can recognize them when you may need to use them.\n",
    "\n",
    "The approximation pattern is used to reduce the number of resources needed to perform some write operations.\n",
    "\n",
    "This pattern uses an approximation function to produce a result."
   ]
  },
  {
   "cell_type": "markdown",
   "id": "be25ca9f",
   "metadata": {},
   "source": [
    "<img src=\"img/129.png\">"
   ]
  },
  {
   "cell_type": "raw",
   "id": "7fafb12f",
   "metadata": {},
   "source": [
    "For example, if an application wants to track page views, it could write to the database every time a page is viewed, but this could quickly overload your database with hundreds of thousands of extra writes per day.\n",
    "\n",
    "In this case, instead, an approximation function can be used to increment the counter only once in a while, instead of doing a write for each individual page view add from the server."
   ]
  },
  {
   "cell_type": "markdown",
   "id": "744287ca",
   "metadata": {},
   "source": [
    "<img src=\"img/130.png\">"
   ]
  },
  {
   "cell_type": "raw",
   "id": "4fcf9d75",
   "metadata": {},
   "source": [
    "The approximation pattern is used whenever there is a significant tolerance to data imprecision, or when an operation is expensive to compute with very little value added by precision.\n",
    "\n",
    "Its implementation is to do fewer writes, but with a higher payload.\n",
    "\n",
    "The application can do the operation every 10 operations, 100 operations, or whatever factor makes sense.\n",
    "\n",
    "Typical use cases for the approximation pattern are web page counters, any counters with tolerance to imprecision, metric statistics.\n",
    "\n",
    "The typical benefits of this pattern are a reduction in the number of writes, less write contention while updating the same documents, statistically valid numbers, even if not exact per unit of time.\n",
    "\n",
    "The implementation of this pattern must reside in the client side application.\n",
    "\n",
    "This pattern is not specific to MongoDB.\n",
    "\n",
    "It can be used with any other databases.\n",
    "\n",
    "However, the need for this sort of optimization surfaces more often with big data applications."
   ]
  },
  {
   "cell_type": "markdown",
   "id": "06fe9c13",
   "metadata": {},
   "source": [
    "<img src=\"img/131.png\">"
   ]
  },
  {
   "cell_type": "raw",
   "id": "ab08f701",
   "metadata": {},
   "source": [
    "Our next pattern is used to handle potential outliers in your data.\n",
    "\n",
    "An outlier is something that stands out from the rest of the crowd.\n",
    "\n",
    "In the world of big data, standing out means you may have a characteristic that is few orders of magnitude higher than the norm.\n",
    "\n",
    "For example, a famous singer may have 100 million followers on the social media app, while the majority of users have less than 1,000 followers.\n",
    "\n",
    "The danger with outliers is that they could drive developers to implement a solution that is suboptimal for 99.99% percent of use cases just to accommodate the outlier.\n",
    "\n",
    "Implementing a solution like this will honestly harm the majority of queries.\n",
    "\n",
    "Do not be afraid of implementing a design that works well for the vast majority of use cases and then identifies these outliers as exceptions.\n",
    "\n",
    "The application can then be instructed to handle just these outliers differently.\n",
    "\n",
    "Here's an example of implementation where a document representing a movie has a field to store a list of extras, up to 1,000."
   ]
  },
  {
   "cell_type": "markdown",
   "id": "9862a69a",
   "metadata": {},
   "source": [
    "<img src=\"img/132.png\">"
   ]
  },
  {
   "cell_type": "markdown",
   "id": "e14ec98e",
   "metadata": {},
   "source": [
    "<img src=\"img/133.png\">"
   ]
  },
  {
   "cell_type": "raw",
   "id": "f0c84a5f",
   "metadata": {},
   "source": [
    "This will work for almost every movie.\n",
    "\n",
    "If a movie happens to have more than 1,000 extras, it refers to additional documents that contain the rest of the extras.\n",
    "\n",
    "Typical use cases for the outlier pattern are social networks and other applications related to popularity, apps containing famous people or objects.\n",
    "\n",
    "The main benefit of this pattern is that the application remains optimized for most use cases.\n",
    "\n",
    "The drawback is that the application must handle the outliers separately.\n",
    "\n",
    "And it makes it harder to write queries that can process the whole data set in the one uniform operation.\n",
    "\n",
    "As with other patterns, this one also has a handle on the client side, meaning that it can be used with any database.\n",
    "\n",
    "However, it also surfaces more often in modern and big data applications.\n",
    "\n",
    "To recap this lesson, we listed some additional patterns that may be seen less frequently, but they are still worth knowing.\n",
    "\n",
    "The first is the approximation pattern, which allows us to reduce the number of resources used by an operation that may not be crucial and can be approximated.\n",
    "\n",
    "The outlier pattern allows your apps to optimize for the most frequent use cases, while still successfully handling important outliers."
   ]
  },
  {
   "cell_type": "markdown",
   "id": "38d12227",
   "metadata": {},
   "source": [
    "### 範例01"
   ]
  },
  {
   "cell_type": "raw",
   "id": "8a842391",
   "metadata": {},
   "source": [
    "A pharmaceutical company needs to implement a design to model the relationships between the company and its partners, customers, and suppliers. A team came up with a design that works perfectly, meeting all performance requirements. However, when loading the real data in the system, they realized that one customer, the U.S. government had too many contacts to be stored into the designated array for this information.\n",
    "\n",
    "Instead of redesigning the whole system to make this customer fit well into the new data model, which pattern can you use?"
   ]
  },
  {
   "cell_type": "raw",
   "id": "e3054478",
   "metadata": {},
   "source": [
    "The Outlier Pattern\n",
    "\n",
    "In this use case, an alternative to redesigning the whole system and maybe not meeting the performance requirements already achieved, could be to use the Outlier Pattern. The list of contacts can be split into many documents once it surpasses a certain size. Also, the application may want to have a different way to display the contacts by grouping them into many pages for larger sets of contacts."
   ]
  },
  {
   "cell_type": "markdown",
   "id": "b0fef7c5",
   "metadata": {},
   "source": [
    "# Summary of Patterns"
   ]
  },
  {
   "cell_type": "raw",
   "id": "7154d072",
   "metadata": {},
   "source": [
    "What a week.\n",
    "\n",
    "Don't worry if it looks like a lot of information.\n",
    "\n",
    "You can always go back to a specific pattern later, if you forgot about it and suspect it may be a good match for the schema you're working on.\n",
    "\n",
    "Let's have a quick overview of the affinity [?\n",
    "\n",
    "for ?] patterns with the common use cases."
   ]
  },
  {
   "cell_type": "markdown",
   "id": "467201ee",
   "metadata": {},
   "source": [
    "<img src=\"img/134.png\">"
   ]
  },
  {
   "cell_type": "raw",
   "id": "b2596324",
   "metadata": {},
   "source": [
    "I want to stress the point that the patterns we identified under a given use case are not necessarily all applicable to your problem.\n",
    "\n",
    "Neither the ones not selected should be discarded.\n",
    "\n",
    "The tables simply highlights the most likely and most important ones that may appear for a given use case.\n",
    "\n",
    "For example, while working on the Internet of Things projects, the project often uses the bucket patterning.\n",
    "\n",
    "However, even if not highlighted, it may benefit from the tree pattern, If the devices organize in a hierarchy of some sort.\n",
    "\n",
    "This matrix is there to guide you toward the most likely patterns first.\n",
    "\n",
    "A special note about the computed and the schema versioning patterns-- the computed pattern is generic and applicable to most use cases.\n",
    "\n",
    "As for the schema versioning one, it is applicable to all use cases.\n",
    "\n",
    "So ensure you get a good grasp of it.\n",
    "\n",
    "Then you'll be ready to use it, when needed.\n",
    "\n",
    "In summary, in this chapter, we learned a few schema design patterns.\n",
    "\n",
    "Those act as powerful transformation, when designing schema.\n",
    "\n",
    "If you most likely care about ease of development and there's not any difficult performance requirements to meet, you may not need many of those patterns.\n",
    "\n",
    "The pattern and also provide a common language for the team.\n",
    "\n",
    "And finally, using the patterns lets you have a more predictable methodology."
   ]
  }
 ],
 "metadata": {
  "kernelspec": {
   "display_name": "Python 3",
   "language": "python",
   "name": "python3"
  },
  "language_info": {
   "codemirror_mode": {
    "name": "ipython",
    "version": 3
   },
   "file_extension": ".py",
   "mimetype": "text/x-python",
   "name": "python",
   "nbconvert_exporter": "python",
   "pygments_lexer": "ipython3",
   "version": "3.8.10"
  }
 },
 "nbformat": 4,
 "nbformat_minor": 5
}
