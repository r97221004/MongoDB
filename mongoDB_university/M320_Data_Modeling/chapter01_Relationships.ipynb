{
 "cells": [
  {
   "cell_type": "markdown",
   "id": "180059c4",
   "metadata": {},
   "source": [
    "# Introduction to Relationships"
   ]
  },
  {
   "cell_type": "raw",
   "id": "8fdadf67",
   "metadata": {},
   "source": [
    "In this chapter, we will cover auto express relationships with MongoDB.\n",
    "\n",
    "even if MongoDB is classified as a document database, the pieces of information stored in the database still have relationships between them.\n",
    "\n",
    "Old style databases are often referred to as relational databases.\n",
    "\n",
    "However, NoSQL databases are also relational, so a better name for those legacy databases is Tabular, which highlights a notion of columns and tables.\n",
    "\n",
    "Understanding how to represent relationships, and deciding between embedding and linking relationship information, is crucial.\n",
    "\n",
    "We have seen customers embedding large arrays where they should not have.\n",
    "\n",
    "Other customers creating too many collections or too few collections.\n",
    "\n",
    "Many of these customers with subpar designs ended up having huge performance issues.\n",
    "\n",
    "As we said in the introduction of this course, having a good model is the single most important thing you can do to ensure you get good performance.\n",
    "\n",
    "The face of identifying and modeling relationships correctly is a step that is not optional in the methodology.\n",
    "\n",
    "This chapter will give you the knowledge you need to do it right.\n",
    "\n",
    "What are relationships in the data model?\n",
    "\n",
    "If you look at any schema implementation in MongoDB, or any other database, you can observe objects, referred to as entities.\n",
    "\n",
    "The relationships represent all the entities and the other piece of information are related to each other.\n",
    "\n",
    "For example, a customer name and its customer ID have a one to one relationship.\n",
    "\n",
    "We often group this type of relationship in a single entity.\n",
    "\n",
    "The relationship between a customer and the invoice sent to them is a one to many relationship, as one customer has many invoice, but each invoice only belong to one customer.\n",
    "\n",
    "And the invoices and their products have a many to many relationship, as the invoice referred to many products, and a product is likely listed in many invoices.\n",
    "\n",
    "If any of this is confusing, don't worry.\n",
    "\n",
    "We'll cover it all in great detail in the following lessons.\n",
    "\n",
    "In this chapter, we will go over these different type of relationships and their implementation in MongoDB.\n",
    "\n",
    "We will start with the different types and cardinalities that describe our relationships, then we will answer one of the essential question when modeling unit of information for MongoDB.\n",
    "\n",
    "Should the information be embedded or referenced?\n",
    "\n",
    "If you are still feeling a little uncomfortable with some of the terminology and parallels we make between tabular databases and MongoDB, it is a great time to review the lists of prerequisites and references we presented at the beginning of this course."
   ]
  },
  {
   "cell_type": "markdown",
   "id": "ff8a8b01",
   "metadata": {},
   "source": [
    "<img src=\"img/17.png\">"
   ]
  },
  {
   "cell_type": "raw",
   "id": "0069ec7d",
   "metadata": {},
   "source": [
    "By the end of this chapter, you will have all the knowledge necessary to design basic MongoDB models, and you should understand why people say that MongoDB is the best database for representing relationships between units of information."
   ]
  },
  {
   "cell_type": "markdown",
   "id": "5a876fd2",
   "metadata": {},
   "source": [
    "# Relationship Types and Cardinality"
   ]
  },
  {
   "cell_type": "raw",
   "id": "177f97c7",
   "metadata": {},
   "source": [
    "In this lesson, we'll examine the type and cardinality of relationships.\n",
    "\n",
    "Most of the relationships between units of information can be classified as one-to-one, one-to-many, or as many-to-many.\n",
    "\n",
    "The relation between a customer name and their customer_id is an example of a one-to-one relationship.\n",
    "\n",
    "A customer has one name, which is associated with only one customer_id, and this customer_id can only be used to identify one customer's name.\n",
    "\n",
    "The one-to-one relations are often represented by grouping the two pieces of data in the same entity or document.\n",
    "\n",
    "Invoices associated with the customer are an example of a one-to-many relationship.\n",
    "\n",
    "A customer has many invoices, and each of these invoices is only associated with one customer.\n",
    "\n",
    "Finally, an invoice may contain many products, and each of these products is likely present in more invoices than just the one that we were looking at.\n",
    "\n",
    "This is called a many-to-many relationship."
   ]
  },
  {
   "cell_type": "markdown",
   "id": "02ef1d46",
   "metadata": {},
   "source": [
    "<img src=\"img/18.png\">"
   ]
  },
  {
   "cell_type": "raw",
   "id": "d23b499d",
   "metadata": {},
   "source": [
    "However, is this the best and complete way to describe data relationships, especially when dealing with Big Data?\n",
    "\n",
    "Let's say we look at the relationship between a mother and the children she gave birth to.\n",
    "\n",
    "Well, she may not have children, have one, have two, ten, however, the maximum is pretty limited.\n",
    "\n",
    "Very often there are two children per family.\n",
    "\n",
    "A different example is Twitter users.\n",
    "\n",
    "Some people just started their account and may have zero or one follower, while others may have 20, 100, or up to 100 million if they are a celebrity.\n",
    "\n",
    "In this case, many-to-many is a very poor way to characterize a relationship.\n",
    "\n",
    "And this might be true for an increasing number of examples in the world of Big Data.\n",
    "\n",
    "We could embed the information about the children in the document representing the mother, but it would not make sense to embed 100 million followers into one document.\n",
    "\n",
    "What we need is a more expressive way to represent the one-to-many relationship so that we know that we are dealing with large numbers and avoid mistakes associated with that distinction.\n",
    "\n",
    "Looking at earlier examples, we are missing some information.\n",
    "\n",
    "The fact that the relationship can be a large number isn't reflected clearly with the one-to-many description, the value for the maximum of many is not clear.\n",
    "\n",
    "The most likely many value for a given one-to-many relationship is also missing.\n",
    "\n",
    "Let's introduce this additional symbol for the crow foot notation, and call it zillions.\n",
    "\n",
    "It is based on the many symbol, however, with additional lines.\n",
    "\n",
    "This relationship would read as from one to zero to zillion.\n",
    "\n",
    "Or in short, one-to-zillions.\n",
    "\n",
    "This new symbol addresses the identification of large numbers."
   ]
  },
  {
   "cell_type": "markdown",
   "id": "d849a276",
   "metadata": {},
   "source": [
    "<img src=\"img/19.png\">"
   ]
  },
  {
   "cell_type": "raw",
   "id": "49e51366",
   "metadata": {},
   "source": [
    "And if we go to the trouble of identifying the maximum number, why not preserve this information in the model?\n",
    "\n",
    "For this we use a tuple of one to three values, with the following meaning.\n",
    "\n",
    "Minimum, usually zero or one, most likely value, or the median, and the maximum.\n",
    "\n",
    "If you have two values they represent the minimum and the maximum.\n",
    "\n",
    "When a single value is used it means the relationship is fixed to that number.\n",
    "\n",
    "We will use this notation to describe either arrays or reference between collections in our models."
   ]
  },
  {
   "cell_type": "markdown",
   "id": "6f0257a5",
   "metadata": {},
   "source": [
    "<img src=\"img/20.png\">"
   ]
  },
  {
   "cell_type": "raw",
   "id": "1a66bf6a",
   "metadata": {},
   "source": [
    "For example, in this diagram, a movie has a minimum of zero actors and the maximum of 1,000.\n",
    "\n",
    "The movie has exactly two sets of financial results, likely the forecast and the actuals.\n",
    "\n",
    "And the movie can receive zero to 100 reviews, with a median of 30.\n",
    "\n",
    "Let's recap this lesson one-to-one, one-to-many, and many-to-many are the usual cardinalities found in design for tabular or relational databases.\n",
    "\n",
    "However, these are not enough when dealing with Big Data, so we add the notion of one-to-zillions.\n",
    "\n",
    "With the use of maximum and most likely values in the tuple form, minimum, most likely, and maximum, you can identify relationships in a more precise way."
   ]
  },
  {
   "cell_type": "markdown",
   "id": "c3a232ca",
   "metadata": {},
   "source": [
    "# One-to-Many Relationship"
   ]
  },
  {
   "cell_type": "raw",
   "id": "55e8e8bf",
   "metadata": {},
   "source": [
    "The most interesting type of relationship is the one-to-many relationship.\n",
    "\n",
    "First, because if all our data is only composed of one-to-one relationships, a spreadsheet application like Excel could do the job, at least for a small data set.\n",
    "\n",
    "As for the many-to-many relationships, most of them can be expressed as two one-to-many relationships.\n",
    "\n",
    "We will describe this in more detail in the many-to-many relationship lesson."
   ]
  },
  {
   "cell_type": "markdown",
   "id": "4acdb048",
   "metadata": {},
   "source": [
    "<img src=\"img/21.png\">"
   ]
  },
  {
   "cell_type": "raw",
   "id": "8ea95127",
   "metadata": {},
   "source": [
    "A one-to-many relationship means that an object of a given type is associated with n objects of a second type, while the relationship in the opposite direction means that each of the objects of the second type can only be associated with one object on the one side.\n",
    "\n",
    "As an example of this relationship, we use a person and their credit cards, or a blog entry and its comments.\n",
    "\n",
    "A person has n credit cards, but each of these credit cards belongs to one and only one person."
   ]
  },
  {
   "cell_type": "markdown",
   "id": "7d420639",
   "metadata": {},
   "source": [
    "<img src=\"img/22.png\">"
   ]
  },
  {
   "cell_type": "raw",
   "id": "eb456866",
   "metadata": {},
   "source": [
    "Using MongoDB and its document model, give us a few ways to represent this kind of relationship.\n",
    "\n",
    "We can embed each document from the many side into the document on the one side.\n",
    "\n",
    "Or vise versa, we can embed the document from the one side into each document on the many side.\n",
    "\n",
    "Instead of using a single collection and embedding the information in it, we keep the documents in two separate collections and reference documents from one collection in documents of the other collection."
   ]
  },
  {
   "cell_type": "markdown",
   "id": "1b8bac76",
   "metadata": {},
   "source": [
    "<img src=\"img/23.png\">"
   ]
  },
  {
   "cell_type": "raw",
   "id": "f6e46089",
   "metadata": {},
   "source": [
    "Using our product catalog use case, let's have a look at all of these representation of the one-to-many relationship.\n",
    "\n",
    "The first representation embeds the end documents as an array of sub documents.\n",
    "\n",
    "In our product catalog, we keep the top reviews of an item within the item itself because we want to display these reviews once the item gets retrieved from the database.\n",
    "\n",
    "In other words, items are the main objects we access.\n",
    "\n",
    "And when we do so, we want to bring in all the associated top reviews with them.\n",
    "\n",
    "For simple applications where the number of embedded documents is small,, this is the most common representation.\n",
    "\n",
    "The information that is needed together stays together.\n",
    "\n",
    "As for quartering on the many side, which is now embedded, we use multi key indexes, which are designed for indexing values in array fields."
   ]
  },
  {
   "cell_type": "markdown",
   "id": "24989587",
   "metadata": {},
   "source": [
    "<img src=\"img/24.png\">"
   ]
  },
  {
   "cell_type": "raw",
   "id": "b157abd5",
   "metadata": {},
   "source": [
    "The second representation of one-to-many relationships is to embed the document from the one side in each of the documents associated with it from the many side.\n",
    "\n",
    "Let's use an as the count of document associated to our document on the one side.\n",
    "\n",
    "A good example will be an address and the order's delivery to the address.\n",
    "\n",
    "Over time, because many orders were delivered to the same address, we have a one-to-many relationship between address and orders.\n",
    "\n",
    "Application are more likely to handle orders than trying to figure out everything shipped to a given location.\n",
    "\n",
    "The access pattern's focus is on orders, not addresses.\n",
    "\n",
    "As a result, it makes more sense for us to store the address, the one side of the relationship, on every order, the many sides of the relationship, rather than the other way around.\n",
    "\n",
    "This representation is less often used.\n",
    "\n",
    "The main disadvantage of this representation is that the embedded object must be duplicated in many locations.\n",
    "\n",
    "However, the nature of the embedded information is static-- hardly ever changes-- such as the shipping address of the order.\n",
    "\n",
    "It is, in fact, better to store it in the order document itself.\n",
    "\n",
    "If the address for a given customer changes in the future, it does not that affect all the previous orders and where they got delivered."
   ]
  },
  {
   "cell_type": "markdown",
   "id": "e9948930",
   "metadata": {},
   "source": [
    "<img src=\"img/25.png\">"
   ]
  },
  {
   "cell_type": "raw",
   "id": "4cff4c08",
   "metadata": {},
   "source": [
    "The third representation is to have two collections.\n",
    "\n",
    "From the one side, we reference the many side.\n",
    "\n",
    "To do so, we need an array of references.\n",
    "\n",
    "In our zips collection, which contain our zip codes, we create an array of stores where each element in the array is a store ID value that identifies documents in the store's collection.\n",
    "\n",
    "The referencing representations are great.\n",
    "\n",
    "If we can't or don't need to embed the remaining entity information, we get to know all the references, the stores, without making a second query on the store's collection.\n",
    "\n",
    "If the entries in the array are descriptive enough, we are saving ourselves some queries.\n",
    "\n",
    "However, in this representation, we need to keep in sync the area references and their reference documents.\n",
    "\n",
    "If we need the reference document, we must also delete the reference to this document.\n",
    "\n",
    "MongoDB does not currently support foreign keys or cascade deletes, therefore there is no way for all references to automatically be removed on document deletion.\n",
    "\n",
    "The application must perform all of this sort of data management."
   ]
  },
  {
   "cell_type": "markdown",
   "id": "7480aefd",
   "metadata": {},
   "source": [
    "<img src=\"img/26.png\">"
   ]
  },
  {
   "cell_type": "raw",
   "id": "dd6c23cf",
   "metadata": {},
   "source": [
    "More commonly, references are stored in the documents on the many side of a one to many relationship.\n",
    "\n",
    "For example, we may have a collection of zip codes, each zip code adding possibly many stores in it.\n",
    "\n",
    "By adding a single field called zip in each of my stores documents, I can reference the document in the zips collection.\n",
    "\n",
    "Compared to the previous representation, if we delete a store, there is no additional reference to remove because the reference is inside the document we are removing."
   ]
  },
  {
   "cell_type": "markdown",
   "id": "ee295674",
   "metadata": {},
   "source": [
    "<img src=\"img/27.png\">"
   ]
  },
  {
   "cell_type": "raw",
   "id": "a3c7a373",
   "metadata": {},
   "source": [
    "To recap this lesson, when representing one-to-many relationships, there is a lot of choices-- embed or reference and choose the side between one and many.\n",
    "\n",
    "Duplication may occur when embedding on the many side.\n",
    "\n",
    "However, it may be OK or even preferable.\n",
    "\n",
    "Prefer embedding over referencing for simplicity, or when there is a small number of reference documents, as all related information is kept together.\n",
    "\n",
    "Embed on the side of the most queried collection.\n",
    "\n",
    "Prefer referencing when the associated documents are not always needed with the most often queried documents."
   ]
  },
  {
   "cell_type": "markdown",
   "id": "ad5bb15f",
   "metadata": {},
   "source": [
    "### 範例01"
   ]
  },
  {
   "cell_type": "markdown",
   "id": "7e8c9075",
   "metadata": {},
   "source": [
    "Consider a one-to-many relationship observed between a county and the cities in that county.\n",
    "\n",
    "Which of the following are valid ways to represent this one-to-many relationship with the document model in MongoDB?"
   ]
  },
  {
   "cell_type": "raw",
   "id": "2542c4d9",
   "metadata": {},
   "source": [
    "Correct Options:\n",
    "\n",
    "# Embed the entities for the cities as an array of sub-documents in the corresponding county document.\n",
    "\n",
    "# Have a collection for the counties and a collection for the cities with each city document having a field to reference\n",
    "  the document of its county.\n",
    "\n",
    "These are the two most common representations of a one-to-many relationship.\n",
    "\n",
    "Incorrect Option:\n",
    "\n",
    "# Embed all the fields for a city as a subdocument in the corresponding county document.\n",
    "\n",
    "The information for each city has to be grouped as a subdocument, then these subdocuments must be put into an array, not stored directly as a subdocument in its parent.\n",
    "\n",
    "This way we can have a variable number of referenced documents and use a multi-key index to search the \"many\" side."
   ]
  },
  {
   "cell_type": "markdown",
   "id": "93b65ed0",
   "metadata": {},
   "source": [
    "# Many-to-Many Relationship"
   ]
  },
  {
   "cell_type": "markdown",
   "id": "04bf4055",
   "metadata": {},
   "source": [
    "<img src=\"img/28.png\">"
   ]
  },
  {
   "cell_type": "raw",
   "id": "eea7f6c9",
   "metadata": {},
   "source": [
    "Ah, the many-to-many relationship.\n",
    "\n",
    "Here's the most complicated relationship.\n",
    "\n",
    "Or is it?\n",
    "\n",
    "It can trick us, but don't worry too much.\n",
    "\n",
    "We can also trick it.\n",
    "\n",
    "The many-to-many relationship is identified by documents on the first side being associated with many documents on the second side, and documents on the second side being associated with many documents on the first side.\n",
    "\n",
    "Looking at products sold in our stores, we can see that the given store sells many items, and each item is sold in many stores.\n",
    "\n",
    "This relationship can trick you into thinking it is a one-to-many relationship, if you only consider one side of the relationship.\n",
    "\n",
    "So ensure you ask the question of associativity from both directions, and that you review your model the few times, especially for these less apparent relationships.\n",
    "\n",
    "In a normalized relational model, you can't actually link two tables as many-to-many.\n",
    "\n",
    "However, some design tools can do the extra work for you.\n",
    "\n",
    "Under the hood, an additional relationship table needs to be created to define this relationship, sometimes referred as a jump table."
   ]
  },
  {
   "cell_type": "markdown",
   "id": "119b9abe",
   "metadata": {},
   "source": [
    "<img src=\"img/29.png\">"
   ]
  },
  {
   "cell_type": "raw",
   "id": "b86caeb1",
   "metadata": {},
   "source": [
    "It result in breaking up the many-to-many relationship into two one-to-many relationships linked together by our extra third table.\n",
    "\n",
    "For example, keeping track of the many-to-many relationship between actors and movies requires this table in between our actors and movies.\n",
    "\n",
    "Misidentifying these types of relations means creating new tables and incurring data migration costs.\n",
    "\n",
    "This type of modification, it's just not fun with traditional databases.\n",
    "\n",
    "MongoDB's flexible schema easily allows for this type of schema modification, and is more forgiving, as scatter field can easily be transformed into an array field.\n",
    "\n",
    "Let's take another example-- people and phone numbers."
   ]
  },
  {
   "cell_type": "markdown",
   "id": "65db6f20",
   "metadata": {},
   "source": [
    "<img src=\"img/30.png\">"
   ]
  },
  {
   "cell_type": "raw",
   "id": "a0836930",
   "metadata": {},
   "source": [
    "Someone may have a few phone numbers.\n",
    "\n",
    "Some of these phone numbers are exclusive, and some are not.\n",
    "\n",
    "A family's shares the home phone number.\n",
    "\n",
    "So a person can have many phone numbers, and the phone number may be owned by many people, resulting in a many-to-many relationship.\n",
    "\n",
    "Well, not so fast.\n",
    "\n",
    "We said we could also trick this relationship.\n",
    "\n",
    "We can treat the phone number for a home as uniquely owned by each member of the family by making copies of it.\n",
    "\n",
    "Now, we have a one-to-many relationship instead, which removes complexity."
   ]
  },
  {
   "cell_type": "markdown",
   "id": "ab66a8cc",
   "metadata": {},
   "source": [
    "<img src=\"img/31.png\">"
   ]
  },
  {
   "cell_type": "raw",
   "id": "a63bb925",
   "metadata": {},
   "source": [
    "with? the consequence of this duplication, if the family moves, we must modify each family's members phone numbers separately.\n",
    "\n",
    "Performing the same update multiple times may not sound like the right design, however, considered the previous design, where we store only one telephone number value in the database.\n",
    "\n",
    "If someone moves-- like the child, for example-- and updates their phone number, the update will apply to all the members of the family.\n",
    "\n",
    "We don't get the option to choose between doing multiple updates or one update that applies to all [?\n",
    "\n",
    "records.\n",
    "\n",
    "?] Duplication is better, in some occasions, especially when you want to keep control of [INAUDIBLE] data and when you want to avoid joining data.\n",
    "\n",
    "What are the different ways in which we can model this many-to-many relationship?"
   ]
  },
  {
   "cell_type": "markdown",
   "id": "64002362",
   "metadata": {},
   "source": [
    "<img src=\"img/32.png\">"
   ]
  },
  {
   "cell_type": "raw",
   "id": "69cf0ccf",
   "metadata": {},
   "source": [
    "Similarly to the other relationships, we can embed the data from the other collection, or we can reference the other collection.\n",
    "\n",
    "Embedding in one side [?\n",
    "\n",
    "or ?] [?\n",
    "\n",
    "the ?] [?\n",
    "\n",
    "other ?] is a symmetric operation.\n",
    "\n",
    "Usually we embed documents of the less queried collection inside documents of the more queried collection.\n",
    "\n",
    "Let's use the carts and items from our product catalog example."
   ]
  },
  {
   "cell_type": "markdown",
   "id": "eff8e022",
   "metadata": {},
   "source": [
    "<img src=\"img/33.png\">"
   ]
  },
  {
   "cell_type": "raw",
   "id": "96418085",
   "metadata": {},
   "source": [
    "The main entity is the cart in which we want to find the items, not the reverse.\n",
    "\n",
    "We embed the items in the cart, because we always retrieve this information together.\n",
    "\n",
    "Having copies of items in the carts period is usually fine, because they represent the state of those items at the time they were added to the cart.\n",
    "\n",
    "The same applies to addresses and orders.\n",
    "\n",
    "The address used for that order at the time of the order creation should be duplicated.\n",
    "\n",
    "Observe that we need to keep a collection for the items.\n",
    "\n",
    "Even though we embed the items in the carts, these items require a \n",
    "\n",
    "collection to hold their definition for several reasons.\n",
    "\n",
    "There will be several other access patterns in your application that utilize items without [?\n",
    "\n",
    "carrying ?] or needing the information on orders they have been added to.\n",
    "\n",
    "Item documents have different life cycle than cart documents.\n",
    "\n",
    "An item may exist without being in any carts, like an actor may be listed before being in a movie.\n",
    "\n",
    "This requirement of keeping a source of input applies only to this specific representation in the many-to-many relationship.\n",
    "\n",
    "In a one-to-many relationship, if a user is deleted with their phone numbers, we don't care about not having this phone number in any other document, because the phone number only belonged to this deleted user."
   ]
  },
  {
   "cell_type": "markdown",
   "id": "e6f8c833",
   "metadata": {},
   "source": [
    "<img src=\"img/34.png\">"
   ]
  },
  {
   "cell_type": "raw",
   "id": "b041733b",
   "metadata": {},
   "source": [
    "Instead of embedding, we can also use references.\n",
    "\n",
    "Let's start with a representation that keeps the references on the side that is the most often queried.\n",
    "\n",
    "When a document is retrieved, we will get the list of all the associated object's unique identifiers.\n",
    "\n",
    "Those are expressed in [INAUDIBLE] [?\n",
    "\n",
    "field.\n",
    "\n",
    "?] If we need to add the information on these, we can use a second query, like the [INAUDIBLE] [?\n",
    "\n",
    "IDs.\n",
    "\n",
    "?] Or we can use the \"$lookup\" operator to effectively do a join between the object ID for stores and the corresponding documents in the stores collection.\n",
    "\n",
    "This is very similar to join operations in the SQL language."
   ]
  },
  {
   "cell_type": "markdown",
   "id": "936ccdd9",
   "metadata": {},
   "source": [
    "<img src=\"img/35.png\">"
   ]
  },
  {
   "cell_type": "raw",
   "id": "28cdef5b",
   "metadata": {},
   "source": [
    "The second representation of the many-to-many relationship that uses references is the one where we keep-- as we may have guessed-- the reference in another collection.\n",
    "\n",
    "Because this representation [INAUDIBLE] [?\n",
    "\n",
    "arrays ?] of references, they are very similar.\n",
    "\n",
    "However, there are few differences.\n",
    "\n",
    "Here, each store has a field called item sold that carries a list of references to the items sold in the given store.\n",
    "\n",
    "When we retrieve an item, we still don't know where it is sold.\n",
    "\n",
    "We need a second query to get this information, which was another case in the previous representation.\n",
    "\n",
    "A query like the following will return to stores in which the item with an ID of 10 or green MongoDB T-shirt has sold.\n",
    "\n",
    "So which of those two representation that [?\n",
    "\n",
    "use ?] [?\n",
    "\n",
    "references ?] should we use?\n",
    "\n",
    "The representation that fits [?\n",
    "\n",
    "our ?] queries and also works well with the way we have the documents in our system.\n",
    "\n",
    "When we add an item, which happens more often than adding a store, is it better to add the list of store in which it is sold or to individually update all stores to add the item?\n",
    "\n",
    "How we answer this question will help us pick the right representation.\n",
    "\n",
    "To recap this lesson, ask the right questions to ensure it is a many-to-many relationship that should not be simplified.\n",
    "\n",
    "A many-to-many relationship can be replaced by two one-to-many relationship, but does not have to with the document model.\n",
    "\n",
    "Prefer embedding on the most queried side, prefer embedding for information that is primarily static over time and may profit from duplication, prefer referencing over embedding to avoid managing duplication."
   ]
  },
  {
   "cell_type": "markdown",
   "id": "07f0c697",
   "metadata": {},
   "source": [
    "<img src=\"img/36.png\">"
   ]
  },
  {
   "cell_type": "markdown",
   "id": "d9e6d556",
   "metadata": {},
   "source": [
    "### 範例01"
   ]
  },
  {
   "cell_type": "raw",
   "id": "a3200c92",
   "metadata": {},
   "source": [
    "Consider a many-to-many relationship observed between movies and the actors starring in these movies, for a system that could provide detailed information about either a movie or an actor."
   ]
  },
  {
   "cell_type": "markdown",
   "id": "11e97256",
   "metadata": {},
   "source": [
    "<img src=\"img/37.png\">"
   ]
  },
  {
   "cell_type": "raw",
   "id": "32127476",
   "metadata": {},
   "source": [
    "Which of the following are true about modeling this many-to-many relationship with the document model in MongoDB?"
   ]
  },
  {
   "cell_type": "raw",
   "id": "e5591fe7",
   "metadata": {},
   "source": [
    "Correct Options:\n",
    "\n",
    "# Embedding actors in movies creates duplication of actor information.\n",
    "\n",
    "Every actor who stars in more than one movie has their information copied in each movie document they star in. The information stored in the document may be as little as the actor's name, however it is still duplication. Any duplicate information that changed would need to be updated in more than one location.\n",
    "\n",
    "# Embedding actors in movies still requires a separate collection to store all actors.\n",
    "\n",
    "If no \"source\" collection for the actor is kept, there is a risk of losing the information about an actor if the only movie they star in gets deleted. Also, because we keep detailed information about the actor, it is likely that not all of it will be embedded in the movie documents, therefore we need a place to store this information.\n",
    "\n",
    "Incorrect Option:\n",
    "\n",
    "# When using one collection for movies and one collection for actors, all movie documents must have an array of references\n",
    "  to the actors in that movie, and all actor documents must have an array of references to the movies they appear in.\n",
    "\n",
    "When using references to represent a many-to-many relationship, there is a need for an array of references in only one collection. It is possible to have arrays of references in both collections, however, it is not necessary and creates unnecessary overhead."
   ]
  },
  {
   "cell_type": "markdown",
   "id": "b1e10646",
   "metadata": {},
   "source": [
    "### 範例02"
   ]
  },
  {
   "cell_type": "raw",
   "id": "11e03d77",
   "metadata": {},
   "source": [
    "Given the following Collection Relationship Diagram (CRD), identify the relationships that represent Many-to-Many relationships.\n",
    "\n",
    "We are asking you to identify not only direct Many-to-Many relationships, but also transitives ones. For example a user has a One-to-Many relationship with its reviews and a One-to-Many relationship with its credit cards, making a Many-to-Many relationship between the reviews and the credit cards."
   ]
  },
  {
   "cell_type": "markdown",
   "id": "b0ec62d6",
   "metadata": {},
   "source": [
    "<img src=\"img/38.png\">"
   ]
  },
  {
   "cell_type": "raw",
   "id": "f547a233",
   "metadata": {},
   "source": [
    "Correct Options:\n",
    "\n",
    "\n",
    "# stores.address.street and items.description\n",
    "\n",
    "There is one given street address for a store and one description for an item.\n",
    "\n",
    "However, the stores and items entities have a Many-to-Many relationship per the Crow's Foot symbol. To be more precise, it says that a given item can be sold at 0 to Many stores (as represented by the items.sold_at array), and a store can sell 0 to Many items (as represented by one stores._id being stored in 0 to Many items.sold_at arrays).\n",
    "\n",
    "The two directional One-to-Many readings give us a Many-to-Many relationship.\n",
    "\n",
    "In this case, linking is used to establish the relationship.\n",
    "\n",
    "# items.sold_at and items.reviews.body\n",
    "\n",
    "From an items point of view there are possibly Many values of sold_at and Many values of reviews.body.\n",
    "\n",
    "So going from one of those two fields to another, we will traverse a Many-to-One relationship, then a One-to-Many relationship, making the whole relationship a Many-to-Many relationship.\n",
    "\n",
    "Another way to look at it is to understand that a given review will be indirectly linked to all the stores that sell the product and that a given store has multiple reviews pertaining to the products it sells.\n",
    "\n",
    "# users.credit_cards.number and items.reviews.body\n",
    "\n",
    "A user writes many reviews.\n",
    "\n",
    "Reading the relationship from the other end, a review is written by only one user, however, there are many credit cards identifying this user, due to the fact that a user has an array of credit cards. So a review for a given user can be can be indirectly linked to many credit cards.\n",
    "\n",
    "Those two readings give us again a Many-to-Many relationship between those 2 fields.\n",
    "\n",
    "One thing to understand from all of the above examples of Many-to-Many relationships is that traversing a relationship through either a noted One-to-Many CRD relationship or through entering an array will identify a directional relationship as One-to-Many.\n",
    "\n",
    "This means that you don't really need to understand the domain of a system to identify potential One-to-Many relationships. Reading the relationships between collections and accounting for the traversal of arrays is enough to identify relationships.\n",
    "\n",
    "Getting One-to-Many relationships from both directions will identify the relationship as a Many-to-Many relationship.\n",
    "\n",
    "-------------------------------------------------------------------------------------------------\n",
    "Incorrect Options:\n",
    "\n",
    "\n",
    "# items.title and items.reviews.body\n",
    "\n",
    "A given item, identified by its title here, has many reviews, represented here by an array.\n",
    "\n",
    "However, a given review only applies to one item.\n",
    "\n",
    "This means we have a One-to-Many relationship between the items.title and items.reviews.body. Going from the items.reviews.body to the items.title we walk out of the array, not in, so this is One-to-One in this direction, meaning for a given reviews.body there is only one product.description to which it applies.\n",
    "\n",
    "# users.shipping_address.street and items.reviews.body\n",
    "\n",
    "For a given users.shipping_address.street there are many related items.reviews.body values, so One-to-Many from this direction.\n",
    "\n",
    "The items.reviews.body values are associated to a single user, which has a single shipping address, leading to a One-to-One relationship in this opposite direction.\n",
    "\n",
    "Overall, the relationship between users.shipping_address.street and items.reviews.body is One-to-Many."
   ]
  },
  {
   "cell_type": "markdown",
   "id": "5aa53aea",
   "metadata": {},
   "source": [
    "# One-to-One Relationship"
   ]
  },
  {
   "cell_type": "raw",
   "id": "df02bf2f",
   "metadata": {},
   "source": [
    "Commonly, a one-to-one relationship is represented by a single table in a tabular database.\n",
    "\n",
    "In general, the same applies to MongoDB.\n",
    "\n",
    "For example a person's name, date of birth, and email address would be kept together in the same document.\n",
    "\n",
    "All these fields have a one-to-one relationship with each other.\n",
    "\n",
    "A user in the system has one and only one name, has one and only one date of birth, and is associated with one and only one email address."
   ]
  },
  {
   "cell_type": "markdown",
   "id": "2ffd61cd",
   "metadata": {},
   "source": [
    "<img src=\"img/39.png\">"
   ]
  },
  {
   "cell_type": "markdown",
   "id": "01f33778",
   "metadata": {},
   "source": [
    "<img src=\"img/40.png\">"
   ]
  },
  {
   "cell_type": "raw",
   "id": "82e1d0f0",
   "metadata": {},
   "source": [
    "When we group information together, that is in two different entities, we refer to this action as embedding.\n",
    "\n",
    "This is in contrast to grouping fields together in a given entity.\n",
    "\n",
    "We refer to those fields as attributes of the entities.\n",
    "\n",
    "The group fields can appear side by side(並排) in the document.\n",
    "\n",
    "Or we can use the document model ability to add sub-documents to create logical groups of information.\n",
    "\n",
    "This capability also allows us to embed the document or entity inside another one.\n",
    "\n",
    "Alternatively to embedding the information, we can divide the fields into many documents, usually in separate collections and reference one document from another one.\n",
    "\n",
    "Using our product catalog use case, let's have a look at all these representations of our one-to-one relationship."
   ]
  },
  {
   "cell_type": "markdown",
   "id": "3c68f0f6",
   "metadata": {},
   "source": [
    "<img src=\"img/41.png\">"
   ]
  },
  {
   "cell_type": "raw",
   "id": "7502eea6",
   "metadata": {},
   "source": [
    "The most common way to represent a one-to-one relationship between pieces of data is to put the fields with their values in the document as described earlier.\n",
    "\n",
    "Using the user's collection as an example, I would keep track of a given user, the address we use for billing, and the default shipping address if different.\n",
    "\n",
    "A user as only one street address, city, and zip code for billing and only one street address, city, and zip code used as the default shipping address.\n",
    "\n",
    "This address information may profit from a little bit more organization.\n",
    "\n",
    "Using the power of the document model, regroup each set of address information into a subgroup."
   ]
  },
  {
   "cell_type": "markdown",
   "id": "eb0f3258",
   "metadata": {},
   "source": [
    "<img src=\"img/42.png\">"
   ]
  },
  {
   "cell_type": "raw",
   "id": "599727ed",
   "metadata": {},
   "source": [
    "Now, we still have a one-to-one relationship, however, we can't describe it as a user having one and only one billing address, and having one and only one shipping address.\n",
    "\n",
    "The document is now more clear and easier to understand.\n",
    "\n",
    "This is the recommended representation of a one-to-one relationship.\n",
    "\n",
    "Now let's say there is a lot of information about a given object in our product catalog like our stores."
   ]
  },
  {
   "cell_type": "markdown",
   "id": "2a6643eb",
   "metadata": {},
   "source": [
    "<img src=\"img/43.png\">"
   ]
  },
  {
   "cell_type": "raw",
   "id": "f6a01295",
   "metadata": {},
   "source": [
    "In this example, the list of staff employees is kept within the store document.\n",
    "\n",
    "If most of the time we create the stores, we don't care about the staff information, we could separate out this set of information, placing it in a second collection.\n",
    "\n",
    "Consequently this adds some complexity to our model.\n",
    "\n",
    "So we should only do it for schema optimization reasons.\n",
    "\n",
    "Once we have retrieved a given store, we would find additional information like the manager and staff by querying the store details collection using the link to the corresponding document, as we do for any relation expressed by a reference.\n",
    "\n",
    "In the case of a one-to-one relationship, it is easy to simply use the same value, here our store ID in both documents.\n",
    "\n",
    "We also want to prevent this one-to-one relationship from becoming a one-to-many relationship for subdocuments.\n",
    "\n",
    "In order to do so, we need to ensure that the values in our store ID field are unique for both collections.\n",
    "\n",
    "To recap this lesson, for one-to-one relationships, prefer embedding over referencing for simplicity.\n",
    "\n",
    "Use subdocuments to organize the fields.\n",
    "\n",
    "Use a reference for optimization purposes."
   ]
  },
  {
   "cell_type": "markdown",
   "id": "6c1d8fbd",
   "metadata": {},
   "source": [
    "### 範例01"
   ]
  },
  {
   "cell_type": "raw",
   "id": "022aadd4",
   "metadata": {},
   "source": [
    "Which of the following are valid ways to represent a one-to-one relationship with the document model in MongoDB?"
   ]
  },
  {
   "cell_type": "raw",
   "id": "df748d16",
   "metadata": {},
   "source": [
    "# Embed the fields in the document.\n",
    "# Embed the fields as a sub-document in the document.\n",
    "# Link to a single document in another collection.\n",
    "\n",
    "These three methods are the main ways to represent a one-to-one relationship using a document model."
   ]
  },
  {
   "cell_type": "markdown",
   "id": "fb0602ac",
   "metadata": {},
   "source": [
    "# Lab: One-to-One Relationship"
   ]
  },
  {
   "cell_type": "raw",
   "id": "e653a089",
   "metadata": {},
   "source": [
    "A legacy database has been ported to MongoDB, resulting in a set of collections that were mapped to their original tables. This port has been quickly identified as a poor solution.\n",
    "\n",
    "We have been tasked with redesigning the employees collection to make better use of the document model to make the information clearer."
   ]
  },
  {
   "cell_type": "markdown",
   "id": "abf17997",
   "metadata": {},
   "source": [
    "<img src=\"img/44.png\">"
   ]
  },
  {
   "cell_type": "raw",
   "id": "5b979d38",
   "metadata": {},
   "source": [
    "While we are restructuring the database, the Human Resources department would like us to move any confidential employee information to a different collection to make the information easier to protect.\n",
    "\n",
    "Consider the following potential schema designs. Each of these designs represents an individual employee and the One-to-One relationship between all of their fields.\n",
    "\n",
    "The ideal schema design should store:\n",
    "\n",
    "- address information together as an embedded sub-document\n",
    "- all of an employee's phone numbers together as an embedded sub-document\n",
    "- all salary and bonus compensation information together as an embedded sub-document\n",
    "- all confidential information in a separate collection\n",
    "\n",
    "Once you've identified the ideal design, you can deepen your knowledge by trying to explain why each of the other options is not the preferred design choice."
   ]
  },
  {
   "cell_type": "markdown",
   "id": "7c1dd962",
   "metadata": {},
   "source": [
    "<img src=\"img/45.png\">"
   ]
  },
  {
   "cell_type": "markdown",
   "id": "fa25f129",
   "metadata": {},
   "source": [
    "<img src=\"img/46.png\">"
   ]
  },
  {
   "cell_type": "markdown",
   "id": "2562f8ff",
   "metadata": {},
   "source": [
    "<img src=\"img/47.png\">"
   ]
  },
  {
   "cell_type": "markdown",
   "id": "da611eb6",
   "metadata": {},
   "source": [
    "<img src=\"img/48.png\">"
   ]
  },
  {
   "cell_type": "markdown",
   "id": "fbb4dd0a",
   "metadata": {},
   "source": [
    "<img src=\"img/49.png\">"
   ]
  },
  {
   "cell_type": "markdown",
   "id": "6ab5d9a1",
   "metadata": {},
   "source": [
    "# One-to-Zillions Relationship"
   ]
  },
  {
   "cell_type": "markdown",
   "id": "00f49263",
   "metadata": {},
   "source": [
    "<img src=\"img/50.png\">"
   ]
  },
  {
   "cell_type": "raw",
   "id": "83b50647",
   "metadata": {},
   "source": [
    "In previous lessons, we used the word zillions, and introduced a graphical notation for representing the one-to-zillions relationships.\n",
    "\n",
    "We extended the crow's foot notation by adding fingers the foot in order to easily see those zillions sides.\n",
    "\n",
    "We should also use the notation used in this course for cardinalities.\n",
    "\n",
    "One thing is to identify a relationship as one to zillions, but better still if you can quantify that same relationship.\n",
    "\n",
    "What is the minimum number of associated document?\n",
    "\n",
    "The most likely number and the maximum number.\n",
    "\n",
    "The maximum number is what we care the most about this relationship.\n",
    "\n",
    "Zillions means something is humongous, out of proportion, so watch out for it.\n",
    "\n",
    "The one-to-zillions relationship is not that different relationship, per se(本身).\n",
    "\n",
    "It is a subcase of the one-to-many relationship.\n",
    "\n",
    "If we have a one to many relationship and the many's identified as 10,000 or more, we call that relationship one to zillion.\n",
    "\n",
    "This means we need to be mindful of this relationship every place we use it in the code.\n",
    "\n",
    "The last thing you want the application to do is to retrieve a document and its zillions associated documents, then process the complete results set, unless this you like long coffee breaks.\n",
    "\n",
    "So comment those sections of the code with directives on how to handle or reduce the result set that comes back."
   ]
  },
  {
   "cell_type": "markdown",
   "id": "29fea754",
   "metadata": {},
   "source": [
    "<img src=\"img/51.png\">"
   ]
  },
  {
   "cell_type": "raw",
   "id": "874d6cfd",
   "metadata": {},
   "source": [
    "Given the cardinality of these relationships and the pressure on computational resources to process them, you need to be on the lookout for (留意) very large arrays of subdocuments or unbound arrays of references.\n",
    "\n",
    "Looking back at the representation for the one-to-many relationships, we have a single one left-- the representation where we referenced the document on the one side of the relationship from the many or zillion side."
   ]
  },
  {
   "cell_type": "markdown",
   "id": "6802480c",
   "metadata": {},
   "source": [
    "<img src=\"img/52.png\">"
   ]
  },
  {
   "cell_type": "markdown",
   "id": "019f1344",
   "metadata": {},
   "source": [
    "<img src=\"img/53.png\">"
   ]
  },
  {
   "cell_type": "raw",
   "id": "8a1ad2e9",
   "metadata": {},
   "source": [
    "As you model this relationship, make an effort to quantify it.\n",
    "\n",
    "This will become important, so that you can understand the impact of the maximum value on your resources.\n",
    "\n",
    "To recap the one-to-zillions relationship, it is a particular case of the one-to-many relationship.\n",
    "\n",
    "The only available representation is to reference a document on the one side of the relationship from the zillion side.\n",
    "\n",
    "And finally, pay extra attention to queries and code that handles zillions of documents."
   ]
  },
  {
   "cell_type": "markdown",
   "id": "7b6193eb",
   "metadata": {},
   "source": [
    "### 範例01"
   ]
  },
  {
   "cell_type": "raw",
   "id": "d5e9bc5f",
   "metadata": {},
   "source": [
    "Which of the following statements are true about one-to-zillions relationships?"
   ]
  },
  {
   "cell_type": "raw",
   "id": "507ff360",
   "metadata": {},
   "source": [
    "# The relationship representations that embed documents are not recommended.\n",
    "# We must take extra care when writing queries that retrieve data on the zillions side.\n",
    "# It is a special case of the one-to-many relationship.\n",
    "\n",
    "All of these statements are true."
   ]
  }
 ],
 "metadata": {
  "kernelspec": {
   "display_name": "Python 3",
   "language": "python",
   "name": "python3"
  },
  "language_info": {
   "codemirror_mode": {
    "name": "ipython",
    "version": 3
   },
   "file_extension": ".py",
   "mimetype": "text/x-python",
   "name": "python",
   "nbconvert_exporter": "python",
   "pygments_lexer": "ipython3",
   "version": "3.8.10"
  }
 },
 "nbformat": 4,
 "nbformat_minor": 5
}
