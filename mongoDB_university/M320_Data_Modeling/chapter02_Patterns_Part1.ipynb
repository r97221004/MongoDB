{
 "cells": [
  {
   "cell_type": "markdown",
   "id": "e0fa12a7",
   "metadata": {},
   "source": [
    "# Introduction to Patterns"
   ]
  },
  {
   "cell_type": "raw",
   "id": "c4ee7809",
   "metadata": {},
   "source": [
    "In the previous chapters, we went over the basis of data modeling for MongoDB, from defining a flexible methodology to identifying the different representation for modeling relationships.\n",
    "\n",
    "You should now have all the knowledge needed to attack this week's chapter on patterns.\n",
    "\n",
    "Patterns are very exciting because they are the most powerful tool for designing schemas for MongoDB and NoSQL.\n",
    "\n",
    "This chapter is going to help you produce solution that can scale and perform under stress.\n",
    "\n",
    "Before we go any further, let me tell you how we define the word pattern in our course.\n",
    "\n",
    "Patterns are not full solution to problems.\n",
    "\n",
    "Those are called full solutions.\n",
    "\n",
    "Patterns are a smaller section of those solutions.\n",
    "\n",
    "They are reusable units of knowledge.\n",
    "\n",
    "For those of you who are familiar with software architecture design, you probably know the Design Patterns book from the Gang of Four.\n",
    "\n",
    "This book is doing for software design what our patterns will do for data modeling and schema design for document databases.\n",
    "\n",
    "The patterns we'll go over in this chapter will become a cookbook of powerful transformation to unleash the power of MongoDB schemas.\n",
    "\n",
    "We will see how to optimize when faced with large documents with a subset pattern, use the computed pattern to avoid repeated computations, structure similar fields with the attribute pattern, handle changes to your deployment without downtime with the schema versioning pattern, and much more.\n",
    "\n",
    "Those patterns will also serve as a common language for your teams working on schema designs.\n",
    "\n",
    "Finally, having well-defined patterns and understanding when and how to use them will remove a little bit of the are in data modeling for MongoDB and make the process more predictable.\n",
    "\n",
    "This chapter will have a lesson to introduce each pattern.\n",
    "\n",
    "Then we will follow with a lab to have you put in practice the pattern you just learned about.\n",
    "\n",
    "There is a lot to cover.\n",
    "\n",
    "However, it will be fun, and you should profit a lot.\n",
    "\n",
    "So let's get going."
   ]
  },
  {
   "cell_type": "code",
   "execution_count": null,
   "id": "a1d95f6b",
   "metadata": {},
   "outputs": [],
   "source": []
  },
  {
   "cell_type": "code",
   "execution_count": null,
   "id": "bdf0f908",
   "metadata": {},
   "outputs": [],
   "source": []
  }
 ],
 "metadata": {
  "kernelspec": {
   "display_name": "Python 3",
   "language": "python",
   "name": "python3"
  },
  "language_info": {
   "codemirror_mode": {
    "name": "ipython",
    "version": 3
   },
   "file_extension": ".py",
   "mimetype": "text/x-python",
   "name": "python",
   "nbconvert_exporter": "python",
   "pygments_lexer": "ipython3",
   "version": "3.8.10"
  }
 },
 "nbformat": 4,
 "nbformat_minor": 5
}
