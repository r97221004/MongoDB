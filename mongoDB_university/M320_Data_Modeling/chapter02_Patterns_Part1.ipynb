{
 "cells": [
  {
   "cell_type": "markdown",
   "id": "e0fa12a7",
   "metadata": {},
   "source": [
    "# Introduction to Patterns"
   ]
  },
  {
   "cell_type": "raw",
   "id": "c4ee7809",
   "metadata": {},
   "source": [
    "In the previous chapters, we went over the basis of data modeling for MongoDB, from defining a flexible methodology to identifying the different representation for modeling relationships.\n",
    "\n",
    "You should now have all the knowledge needed to attack this week's chapter on patterns.\n",
    "\n",
    "Patterns are very exciting because they are the most powerful tool for designing schemas for MongoDB and NoSQL.\n",
    "\n",
    "This chapter is going to help you produce solution that can scale and perform under stress.\n",
    "\n",
    "Before we go any further, let me tell you how we define the word pattern in our course.\n",
    "\n",
    "Patterns are not full solution to problems.\n",
    "\n",
    "Those are called full solutions.\n",
    "\n",
    "Patterns are a smaller section of those solutions.\n",
    "\n",
    "They are reusable units of knowledge.\n",
    "\n",
    "For those of you who are familiar with software architecture design, you probably know the Design Patterns book from the Gang of Four.\n",
    "\n",
    "This book is doing for software design what our patterns will do for data modeling and schema design for document databases.\n",
    "\n",
    "The patterns we'll go over in this chapter will become a cookbook of powerful transformation to unleash the power of MongoDB schemas.\n",
    "\n",
    "We will see how to optimize when faced with large documents with a subset pattern, use the computed pattern to avoid repeated computations, structure similar fields with the attribute pattern, handle changes to your deployment without downtime with the schema versioning pattern, and much more.\n",
    "\n",
    "Those patterns will also serve as a common language for your teams working on schema designs.\n",
    "\n",
    "Finally, having well-defined patterns and understanding when and how to use them will remove a little bit of the are in data modeling for MongoDB and make the process more predictable.\n",
    "\n",
    "This chapter will have a lesson to introduce each pattern.\n",
    "\n",
    "Then we will follow with a lab to have you put in practice the pattern you just learned about.\n",
    "\n",
    "There is a lot to cover.\n",
    "\n",
    "However, it will be fun, and you should profit a lot.\n",
    "\n",
    "So let's get going."
   ]
  },
  {
   "cell_type": "markdown",
   "id": "b413c8d9",
   "metadata": {},
   "source": [
    "# Guide to Homework Validation"
   ]
  },
  {
   "cell_type": "markdown",
   "id": "666010a2",
   "metadata": {},
   "source": [
    "# Handling Duplication, Staleness and Integrity(完整)"
   ]
  },
  {
   "cell_type": "raw",
   "id": "a169f051",
   "metadata": {},
   "source": [
    "1. 實體完整性規則(Entity Integrity Rule)\n",
    "   指在單一資料表中，主索引鍵必須要具有【唯一性】並且也不可以為空值 (NULL)。\n",
    "\n",
    "2. 參考完整性規則(Referential Integrity Rule)\n",
    "   指在兩個資料表中，次要資料表的外鍵(FK)的資料欄位值，一定要存在於主要資料表的主鍵(PK)中的資料欄位值。\n",
    "\n",
    "3. 值域完整性規則(Domain Integrity Rule)\n",
    "   指在單一資料表中，同一資料行中的資料屬性必須要相同。"
   ]
  },
  {
   "cell_type": "markdown",
   "id": "49069168",
   "metadata": {},
   "source": [
    "<img src=\"img/54.png\">"
   ]
  },
  {
   "cell_type": "raw",
   "id": "7d90e00f",
   "metadata": {},
   "source": [
    "Let's answer some concerns the usage of patterns may arise.\n",
    "\n",
    "Patterns are a way to get the best out of your data model.\n",
    "\n",
    "Often, the main goal is to optimize your schema to respond to some performance operation or optimize it for a given use case or access pattern.\n",
    "\n",
    "Although like many things in life, good things come at a cost.\n",
    "\n",
    "Many patterns lead to some situations that would require some additional actions.\n",
    "\n",
    "For example, duplicating data across documents, accepting staleness in some pieces of data, writing extra application side logic to ensure referential integrity.\n",
    "\n",
    "Choosing a pattern to be applied to your schema requires taking into account these three concerns.\n",
    "\n",
    "If these concerns are more important than the potential simplicity of performance gains provided by the pattern, you should not use the pattern."
   ]
  },
  {
   "cell_type": "markdown",
   "id": "4fbe5339",
   "metadata": {},
   "source": [
    "# Handling Duplication"
   ]
  },
  {
   "cell_type": "markdown",
   "id": "539fc223",
   "metadata": {},
   "source": [
    "<img src=\"img/55.png\">"
   ]
  },
  {
   "cell_type": "raw",
   "id": "acee91a1",
   "metadata": {},
   "source": [
    "Let's start with the concern of duplication.\n",
    "\n",
    "Why do we have duplication?\n",
    "\n",
    "It is usually the result of embedding information in a given document for faster access.\n",
    "\n",
    "The concern is that it makes handling changes to duplicated information a challenge for correctness and consistency, where multiple documents across different collections may need to be updated.\n",
    "\n",
    "There is this general misconception that duplication should not exist.\n",
    "\n",
    "In some cases, duplication is better than no duplication.\n",
    "\n",
    "However, not all pieces of information are affected in the same way by duplication.\n",
    "\n",
    "Let's start with a situation where duplicating information is better than not doing it."
   ]
  },
  {
   "cell_type": "markdown",
   "id": "b2cd7096",
   "metadata": {},
   "source": [
    "<img src=\"img/56.png\">"
   ]
  },
  {
   "cell_type": "raw",
   "id": "43379338",
   "metadata": {},
   "source": [
    "Let's link orders of products to the address of the customer that placed the order by using a reference to a customer document.\n",
    "\n",
    "Updating the address for this customer updates information for the already fulfilled shipments, order that have been already delivered to the customer.\n",
    "\n",
    "This is not the desired behavior.\n",
    "\n",
    "The shipments were made to the customer's address at that point in time, either when the order was made or before the customer changed their address.\n",
    "\n",
    "So the address reference in a given order is unlikely to be changed.\n",
    "\n",
    "Embedding a copy of the address within the shipment document will ensure we keep the correct value.\n",
    "\n",
    "When the customer moves, we add another shipping address on file.\n",
    "\n",
    "Using this new address for new orders, does not affect the already shipped orders."
   ]
  },
  {
   "cell_type": "markdown",
   "id": "94bec17c",
   "metadata": {},
   "source": [
    "<img src=\"img/57.png\">"
   ]
  },
  {
   "cell_type": "markdown",
   "id": "a44e031f",
   "metadata": {},
   "source": [
    "---"
   ]
  },
  {
   "cell_type": "raw",
   "id": "7f69fa34",
   "metadata": {},
   "source": [
    "The next duplication situation to consider is when the copy data does not ever change.\n",
    "\n",
    "Let's say we want to model movies and actors."
   ]
  },
  {
   "cell_type": "markdown",
   "id": "2ade0c0d",
   "metadata": {},
   "source": [
    "<img src=\"img/58.png\">"
   ]
  },
  {
   "cell_type": "raw",
   "id": "bc488906",
   "metadata": {},
   "source": [
    "Movies have many actors and actors play in many movies.\n",
    "\n",
    "So this is a typical many-to-many relationship.\n",
    "\n",
    "Avoiding duplication in a many-to-many relationship requires us to keep two collections and create references between the documents in the two collections.\n",
    "\n",
    "If we list the actors in a given movie document, we are creating duplication.\n",
    "\n",
    "However, once the movie is released, the list of actors does not change.\n",
    "\n",
    "So duplication on this unchanging information is also perfectly acceptable.\n",
    "\n",
    "This leaves us with the last duplication situation, the duplication of a piece of information that needs to or may change with time."
   ]
  },
  {
   "cell_type": "markdown",
   "id": "fbf6e01a",
   "metadata": {},
   "source": [
    "<img src=\"img/59.png\">"
   ]
  },
  {
   "cell_type": "raw",
   "id": "7c6949b3",
   "metadata": {},
   "source": [
    "For this example, let's use the revenues for a given movie, which is stored within the movie, and the revenues earned per screening.\n",
    "\n",
    "Oh, yeah, with said duplication add to be a single value in two locations.\n",
    "\n",
    "In this case, we have duplication between the sum store in the movie document and the revenue store in the screening documents used to compute the total sum.\n",
    "\n",
    "This type of situation, where we must keep multiple values in sync over time, makes us ask the question is the benefit of having this sum precomputed surpassing the cost and trouble of keeping it in sync?\n",
    "\n",
    "If yes, then use this computed pattern.\n",
    "\n",
    "If not, don't use it.\n",
    "\n",
    "Here, if we want the sum to be synchronized, it may be the responsibility of the application to keep it in sync.\n",
    "\n",
    "Meaning, whenever the application writes a new document to the collection or updates the value of an existing document, it must update the sum.\n",
    "\n",
    "Alternatively, we could add another application or job to do it."
   ]
  },
  {
   "cell_type": "markdown",
   "id": "b2c6a69e",
   "metadata": {},
   "source": [
    "<img src=\"img/60.png\">"
   ]
  },
  {
   "cell_type": "raw",
   "id": "ede81d22",
   "metadata": {},
   "source": [
    "But how often should we actually recalculate the sum?\n",
    "\n",
    "This brings us to the next concern we must consider when using patterns, staleness."
   ]
  },
  {
   "cell_type": "markdown",
   "id": "8638c3c0",
   "metadata": {},
   "source": [
    "# Handling Staleness"
   ]
  },
  {
   "cell_type": "raw",
   "id": "e324e842",
   "metadata": {},
   "source": [
    "Staleness is about facing a piece of data to a user that may have been out of date.\n",
    "\n",
    "We now live in a world that has more staleness than a few years ago.\n",
    "\n",
    "Due to globalization and the world being flatter, systems are now accessed by millions of concurrent users, impacting the ability to display up-to-the-second data to all these users more challenging.\n",
    "\n",
    "For example, the availability of a product that is shown to a user may still have to be confirmed at checkout time.\n",
    "\n",
    "The same goes for prices of plane tickets or hotel rooms that change right before you book them.\n",
    "\n",
    "Why do we get this staleness?\n",
    "\n",
    "New events come along at such a fast rate that updating data constantly can cause performance issues.\n",
    "\n",
    "The main concern when solving this issue is data quality and reliability.\n",
    "\n",
    "We want to be able to trust the data that is stored in the database."
   ]
  },
  {
   "cell_type": "markdown",
   "id": "c6fb8dec",
   "metadata": {},
   "source": [
    "<img src=\"img/61.png\">"
   ]
  },
  {
   "cell_type": "raw",
   "id": "50317178",
   "metadata": {},
   "source": [
    "The right question is, for how long can the user tolerate not seeing the most up-to-date value for a specific field.\n",
    "\n",
    "For example, the user's threshold for seeing if something is still available to buy is lower than knowing how many people view or purchase a given item.\n",
    "\n",
    "When performing analytic the queries it is often understood that the data may be stale and that the data being analyzed is based on some past snapshot.\n",
    "\n",
    "Analytic queries are often run on the secondary node, which often may have stale data.\n",
    "\n",
    "It may be a fraction of a second or a few seconds out of date.\n",
    "\n",
    "However, it is enough to break any guarantee that we're looking at the latest data recorded by the system.\n",
    "\n",
    "The solution to resolve staleness in the world of big data is to batch updates.\n",
    "\n",
    "As long as the updates are run within the acceptable thresholds, staleness is not a significant problem.\n",
    "\n",
    "So, yes, every piece of data has a threshold for acceptable staleness that goes from 0 to whatever makes sense for given piece of information.\n",
    "\n",
    "A common a way to refresh stale data is to use a Change Stream to see what has changed in some documents and derive a list of dependent piece of data to be updated.\n",
    "\n",
    "Change Stream's a new application to access and respond to data changes, either in real time or in a delayed mode.\n",
    "\n",
    "Please consult our docs for a complete description of this MongoDB feature."
   ]
  },
  {
   "cell_type": "markdown",
   "id": "d5c79573",
   "metadata": {},
   "source": [
    "<img src=\"img/62.png\">"
   ]
  },
  {
   "cell_type": "markdown",
   "id": "07381ead",
   "metadata": {},
   "source": [
    "# Handling Referential Integrity"
   ]
  },
  {
   "cell_type": "raw",
   "id": "c142fd0e",
   "metadata": {},
   "source": [
    "Our third concern, when using patterns, is referential integrity.\n",
    "\n",
    "Referential integrity has some similarities to staleness.\n",
    "\n",
    "It may be OK for the system to have some extra or missing links, as long as they get corrected within the given period of time.\n",
    "\n",
    "Why do we get referential integrity issues?"
   ]
  },
  {
   "cell_type": "markdown",
   "id": "c7ed498b",
   "metadata": {},
   "source": [
    "<img src=\"img/63.png\">"
   ]
  },
  {
   "cell_type": "raw",
   "id": "c2028792",
   "metadata": {},
   "source": [
    "Frequently, it may be the result of deleting a piece of information [INAUDIBLE] document-- for example, without deleting the references to it.\n",
    "\n",
    "In the big data world, we can also associate referential integrity issues to adding distributed system, where a related piece of information live on different machines.\n",
    "\n",
    "At this time, the MongoDB server does not support foreign keys and associated cascading deletes and updates responsible for keeping referential integrity.\n",
    "\n",
    "It is the responsibility of the application to do so.\n",
    "\n",
    "Here again, the main concern is data quality and reliability.\n",
    "\n",
    "For delayed referential integrity, we can, again, rely on change streams.\n",
    "\n",
    "For keeping the referential integrity [INAUDIBLE],, we can avoid using references by embedding information in a single document, instead of linking it.\n",
    "\n",
    "Or we can use MongoDB with be multi-document transactions to update multiple documents at once [INAUDIBLE]..\n",
    "\n",
    "To recap, we can tame these three concerns-- duplication, staleness, and referential integrity-- by understanding the following for every piece of data in your database.\n",
    "\n",
    "Should or could the information be duplicated or not?\n",
    "\n",
    "And if it has to be duplicated and consistently updated, resolve the duplication with bulk updates.\n",
    "\n",
    "What is the tolerated or acceptable staleness?\n",
    "\n",
    "Resolve with updates based on change streams.\n",
    "\n",
    "Which pieces of data require referential integrity?\n",
    "\n",
    "Resolve or prevent inconsistencies with change streams or transactions."
   ]
  },
  {
   "cell_type": "markdown",
   "id": "4c49d96d",
   "metadata": {},
   "source": [
    "### 範例01"
   ]
  },
  {
   "cell_type": "markdown",
   "id": "2f969b5b",
   "metadata": {},
   "source": [
    "Which of the following are valid concerns regarding duplication, staleness and referential integrity management in a MongoDB database and appropriate resolution techniques?"
   ]
  },
  {
   "cell_type": "raw",
   "id": "3316abff",
   "metadata": {},
   "source": [
    "Correct Options:\n",
    "\n",
    "# Data integrity issues can be minimized by using multi-document transactions.\n",
    "\n",
    "When references are removed or changed, modify or remove the related documents. By doing all those changes at once in a multi-document transaction, all changes will either all occur or be aborted without leaving a subset of the changes done.\n",
    "\n",
    "# Data staleness issues can be minimized with frequent batch updates.\n",
    "\n",
    "The staleness of the data in a system can be reduced by incrementing the frequency at which updates on dependent or duplicated data is done. The minimum, or absence, of staleness happens when dependent or duplicated data is always updated when its source is changed.\n",
    "\n",
    "Incorrect Option:\n",
    "\n",
    "# Data duplication should not exist and can be avoided with multi-document transactions.\n",
    "\n",
    "Data duplication is not always a bad thing. As shown in the lesson, there are cases where duplicated data would be prefered to keeping a single value of it."
   ]
  },
  {
   "cell_type": "markdown",
   "id": "53a4f284",
   "metadata": {},
   "source": [
    "# Attribute Pattern"
   ]
  },
  {
   "cell_type": "raw",
   "id": "efc05ac8",
   "metadata": {},
   "source": [
    "The attribute pattern.\n",
    "\n",
    "Polymorphic(多型的、多態的), one of the most frequent schema design patterns used in MongoDB.\n",
    "\n",
    "Polymorphic is when you put different products, like these three examples, in one collection without going through relational acrobatics."
   ]
  },
  {
   "cell_type": "markdown",
   "id": "206ebb87",
   "metadata": {},
   "source": [
    "<img src=\"img/64.png\">"
   ]
  },
  {
   "cell_type": "raw",
   "id": "dc279c4f",
   "metadata": {},
   "source": [
    "Our products should have an identification like manufacturer, brand, sub-brand, enterprise that are common across the majority of products.\n",
    "\n",
    "Products' additional fields that are common across many products, like color and size-- either these values may have different units and means different things for the different products.\n",
    "\n",
    "For example the size of a beverage made in the US maybe measured as ounces, while the same drink in Europe will be measured in milliliters(毫升).\n",
    "\n",
    "As for MongoDB charger(充電器), well, the size is measured according to its three dimensions.\n",
    "\n",
    "For the size of a Cherry Coke six-pack, we would say 12 ounces for a single can, six times 12 ounces, or 72 ounces to count the full six-pack.\n",
    "\n",
    "Ultimately we could list the physical dimension and report the amount of the liquid in that field.\n",
    "\n",
    "Note that physical dimensions for a beverage make sense if your main concern is the storage or transportation of the product, not the drinking of it.\n",
    "\n",
    "Then there is the third list of fields, the set of fields that are not going to exist in all the products.\n",
    "\n",
    "You may not even know where they are in advance.\n",
    "\n",
    "They may exist in the new description that your supplier is providing you.\n",
    "\n",
    "For a sugary drink, you may want to know the type of sweetener, while for a battery, you are more interested in its specifications, like the amount of electricity provides.\n",
    "\n",
    "For the characteristics that are almost always present, we keep them as fields those qualify as the common schema part.\n",
    "\n",
    "Schema and indexing may appear in the third list of fields.\n",
    "\n",
    "To search effectively on one of those fields, you need an index."
   ]
  },
  {
   "cell_type": "markdown",
   "id": "475620a7",
   "metadata": {},
   "source": [
    "<img src=\"img/65.png\">"
   ]
  },
  {
   "cell_type": "raw",
   "id": "f388ae88",
   "metadata": {},
   "source": [
    "For example, searching on the capacity for my battery would require an index.\n",
    "\n",
    "Searching on the voltage(電壓) output of my battery would also require an index.\n",
    "\n",
    "If you have tons of fields, you may have a lot of indexes.\n",
    "\n",
    "Remember some of the characteristics may be very specific to a few products and the list of fields may be unpredictable.\n",
    "\n",
    "Each addition or discovery of a new characteristic may require you to add an index, modify your schema validators, and modify your user interface to show the new information.\n",
    "\n",
    "For this case you want to use the attribute pattern."
   ]
  },
  {
   "cell_type": "markdown",
   "id": "703780f3",
   "metadata": {},
   "source": [
    "<img src=\"img/66.png\">"
   ]
  },
  {
   "cell_type": "raw",
   "id": "4f1effe5",
   "metadata": {},
   "source": [
    "To use the attribute pattern you start by identifying the list of fields you want to transpose(轉置、移調).\n",
    "\n",
    "Here we transpose the fields input, output, and capacity.\n",
    "\n",
    "Then for each field in associated value, we create that pair.\n",
    "\n",
    "The name of the keys for those pairs do not matter.\n",
    "\n",
    "Only for consistency, let's use K for key and V for value, as some of our aggregation functions do.\n",
    "\n",
    "Under the field name K, we put the name of the original field as the value.\n",
    "\n",
    "For the first one, the field was named \"input,\" so that became the value for K.\n",
    "\n",
    "Then the value for input was five volts(伏特) or 1,300 milliamps, so this is the value for the field V.\n",
    "\n",
    "Repeating the same thing for the original field's output and capacity, we get three documents, each adding a K and a V in them.\n",
    "\n",
    "Because of their similar shape it is easy to place them together under an \"add_specs\" for additional specs array.\n",
    "\n",
    "Note that for the third field, not only do I transpose it to a key value pair, but that also added a third field called U to store some units separately.\n",
    "\n",
    "This third field qualifies the relationship between K and the V.\n",
    "\n",
    "The last thing to do is to create an index for all that info.\n",
    "\n",
    "This is done by creating an index on \"add_specs.k\" and \"add_specs.v.\" Let's look at another scenario."
   ]
  },
  {
   "cell_type": "markdown",
   "id": "f3eb3b03",
   "metadata": {},
   "source": [
    "<img src=\"img/67.png\">"
   ]
  },
  {
   "cell_type": "markdown",
   "id": "d5b1e4e9",
   "metadata": {},
   "source": [
    "---"
   ]
  },
  {
   "cell_type": "markdown",
   "id": "1bfcbd70",
   "metadata": {},
   "source": [
    "<img src=\"img/68.png\">"
   ]
  },
  {
   "cell_type": "raw",
   "id": "21c0ca70",
   "metadata": {},
   "source": [
    "Let's say we have a document representing a movie.\n",
    "\n",
    "In the document, there are several fields to keep track of when the movie was released.\n",
    "\n",
    "In this case, we keep track of the dates when a movie was released in the USA, in Mexico, and France, and when it appears in the San Jose movie festival-- a very nice festival.\n",
    "\n",
    "You should check it out.\n",
    "\n",
    "One thing to observe with those fields is that they share the same type of value.\n",
    "\n",
    "In this case, the type, date-- more conceptually, a release date.\n",
    "\n",
    "What if we want to find all the movies released between two dates across all countries?\n",
    "\n",
    "I would have to list all the countries in the festival for each of these, run a separate query for the given range, and aggregate all my results.\n",
    "\n",
    "Using the attribute pattern and transforming those release dates to an array of field pairs, we can change the query to this.\n",
    "\n",
    "We can now issue the following simple query to find all movies released in July 2017.\n",
    "\n",
    "For the sake of simplicity, I'm using strings to illustrate the example.\n",
    "\n",
    "In practice, you will save the date as \"date\" or \"isodate\" objects.\n",
    "\n",
    "Let's reorganize a little bit around what we've been describing and illustrating."
   ]
  },
  {
   "cell_type": "markdown",
   "id": "0e1954db",
   "metadata": {},
   "source": [
    "<img src=\"img/69.png\">"
   ]
  },
  {
   "cell_type": "raw",
   "id": "98a7daec",
   "metadata": {},
   "source": [
    "The attribute pattern addresses the problem of having a lot of similar fields in a document.\n",
    "\n",
    "Often, those fields have similar value types.\n",
    "\n",
    "Or there's a need to search across many of those fields at once.\n",
    "\n",
    "This pattern is also helpful when only a subset of the documents have many similar fields.\n",
    "\n",
    "The solution would be to transform fields from the field value form into a sub-document with two fields, a sub-document of two key value pairs.\n",
    "\n",
    "And the range contains these sub-documents.\n",
    "\n",
    "And then you can create a single index to catalog all those attributes.\n",
    "\n",
    "In this lesson, we spoke about two typical examples where we often observe this pattern.\n",
    "\n",
    "The first would be characteristics of a product, while the second highlights situations where the type was the same for many fields.\n",
    "\n",
    "And then, for example, with movies, where a different location can have different release dates.\n",
    "\n",
    "The main benefit of using the attribute pattern is that it becomes more straightforward to index all of these fields.\n",
    "\n",
    "It allows for non deterministic field names meaning we don't need to know all the possible field names in advance.\n",
    "\n",
    "We can get new ones on the fly (無需中斷一個已經運行的電腦程式而同時執行其他功能) and still use an index to optimize the queries.\n",
    "\n",
    "Finally, another advantage is the ability to qualify a relationship between a key and a value by adding a third member in our documents, representing the transformation.\n",
    "\n",
    "Here we go.\n",
    "\n",
    "This is the attribute pattern.\n",
    "\n",
    "In summary, the attribute pattern is orthogonal to polymorphic.\n",
    "\n",
    "It helps to organize fields that have either common characteristics you want to search across, or fields that are rare, or when you need to manage an influx of unpredictable properties.\n",
    "\n",
    "It potentially reduces the number of indexes.\n",
    "\n",
    "To use it, transpose the key/values of the desired properties into an array of documents."
   ]
  },
  {
   "cell_type": "raw",
   "id": "334ebcb9",
   "metadata": {},
   "source": [
    "# With the release of the Wildcard Index functionality in MongoDB 4.2, some use cases of the Attribute Pattern can be\n",
    "  replaced by this new index type."
   ]
  },
  {
   "cell_type": "markdown",
   "id": "6b223e20",
   "metadata": {},
   "source": [
    "### 範例01"
   ]
  },
  {
   "cell_type": "raw",
   "id": "529b729d",
   "metadata": {},
   "source": [
    "Which one of the following scenarios is best suited for the application of the Attribute Pattern?"
   ]
  },
  {
   "cell_type": "raw",
   "id": "5a92b195",
   "metadata": {},
   "source": [
    "Correct Option:\n",
    "\n",
    "# Some fields share a number of characteristics, and we want to search across those fields.\n",
    "\n",
    "This is one of the main reason you should use this pattern. Alternatively to using the pattern for this situation, MongoDB introduces Wildcard Indexes that allow to index together a list of fields.\n",
    "\n",
    "Incorrect Options:\n",
    "\n",
    "# The working set does not fit in memory.\n",
    "\n",
    "Having a single index for the attributes would save some memory, on disk and in RAM. However, if the multitude of indexes you originally had were of type \"partial index\", you may not see a significant difference in the amount of space.\n",
    "\n",
    "# The documents are large.\n",
    "\n",
    "Using the Attribute Pattern may give you a better organization of the fields in your documents, however, it does not reduce the size of the documents.\n",
    "\n",
    "# The documents need strict validation.\n",
    "\n",
    "While it is true that you would have a lot fewer field names to describe in your validator if you used the Attribute Pattern, it would not actually be much simpler as you are potentially moving the problem to a list of acceptable values for a given \"k\" field.\n",
    "\n",
    "# The system is accessing the disk too frequently.\n",
    "\n",
    "The Attribute Pattern is not going to be very helpful for this issue."
   ]
  },
  {
   "cell_type": "markdown",
   "id": "606c406e",
   "metadata": {},
   "source": [
    "### 範例02"
   ]
  },
  {
   "cell_type": "raw",
   "id": "5dae2f64",
   "metadata": {},
   "source": [
    "User Story\n",
    "\n",
    "The museum we work at has grown from a local attraction to one that is seen as having very popular items.\n",
    "\n",
    "For this reason, other museums in the World have started exchanging pieces of art with our museum.\n",
    "\n",
    "Our database was tracking if our pieces are on display and where they are in the museum.\n",
    "\n",
    "To track the pieces we started exchanging with other museum, we added an array called events, in which we created an entry for each date a piece was loaned and the museum it was loaned to."
   ]
  },
  {
   "cell_type": "code",
   "execution_count": null,
   "id": "6f56f2b5",
   "metadata": {},
   "outputs": [],
   "source": [
    "{\n",
    "  \"_id\": ObjectId(\"5c5348f5be09bedd4f196f18\"),\n",
    "  \"title\": \"Cookies in the sky\",\n",
    "  \"artist\": \"Michelle Vinci\",\n",
    "  \"date_acquisition\": ISODate(\"2017-12-25T00:00:00.000Z\"),\n",
    "  \"location\": \"Blue Room, 20A\",\n",
    "  \"on_display\": false,\n",
    "  \"in_house\": false,\n",
    "  \"events\": [{\n",
    "    \"moma\": ISODate(\"2019-01-31T00:00:00.000Z\"),\n",
    "    \"louvres\": ISODate(\"2020-01-01T00:00:00.000Z\")\n",
    "  }]\n",
    "}"
   ]
  },
  {
   "cell_type": "raw",
   "id": "50b28b88",
   "metadata": {},
   "source": [
    "The problem with this design is that we need to build a new index every time there is a new museum with which we start exchanging pieces. For example, when we started working with The Prado in Madrid, we needed to add this index:"
   ]
  },
  {
   "cell_type": "code",
   "execution_count": null,
   "id": "7fa0a441",
   "metadata": {},
   "outputs": [],
   "source": [
    "{ \"events.prado\" : 1 }"
   ]
  },
  {
   "cell_type": "raw",
   "id": "fc9c8c67",
   "metadata": {},
   "source": [
    "Task\n",
    "\n",
    "To address this issue, you've decided to change the schema to:\n",
    "\n",
    "# use a single index on all event dates.\n",
    "# transform the field that tracks the date when a piece was acquired, date_acquisition, so that it is also indexed with the\n",
    "  values above.\n",
    "To ensure the validator can verify your solution, use \"k\" and \"v\" as field names if needed.\n",
    "\n",
    "To complete this lab:\n",
    "\n",
    "Modify the following schema to incorporate the above changes:"
   ]
  },
  {
   "cell_type": "code",
   "execution_count": null,
   "id": "a7cc466f",
   "metadata": {},
   "outputs": [],
   "source": [
    "{\n",
    "  \"_id\": \"<objectId>\",\n",
    "  \"title\": \"<string>\",\n",
    "  \"artist\": \"<string>\",\n",
    "  \"date_acquisition\": \"<date>\",\n",
    "  \"location\": \"<string>\",\n",
    "  \"on_display\": \"<bool>\",\n",
    "  \"in_house\": \"<bool>\",\n",
    "  \"events\": [{\n",
    "    \"moma\": \"<date>\",\n",
    "    \"louvres\": \"<date>\"\n",
    "  }]\n",
    "}"
   ]
  },
  {
   "cell_type": "markdown",
   "id": "1783dffb",
   "metadata": {},
   "source": [
    "# Extended Reference Pattern"
   ]
  },
  {
   "cell_type": "raw",
   "id": "bc22221a",
   "metadata": {},
   "source": [
    "Do you have nightmares about long and complex SQL queries performing too many joins?\n",
    "\n",
    "Even if you migrated from a 10 tables relational model in the tabular database to a 3 collections model in MongoDB, you might still find yourself doing a lot of queries that need to join data from different collections.\n",
    "\n",
    "For sure, your MongoDB queries are nowhere going to be as complicated as in SQL.\n",
    "\n",
    "But in the world of big data, anything you do too often can become a liability for your performance.\n",
    "\n",
    "There are a few ways you can do joins in MongoDB."
   ]
  },
  {
   "cell_type": "markdown",
   "id": "0b225b8c",
   "metadata": {},
   "source": [
    "<img src=\"img/70.png\">"
   ]
  },
  {
   "cell_type": "raw",
   "id": "743ef776",
   "metadata": {},
   "source": [
    "Before the MongoDB servers supported any joining facilities, the only possible way was to do the joins in the application side.\n",
    "\n",
    "You retrieve a document from one collection and perform a second query that retrieved the linked documents in the second collection.\n",
    "\n",
    "Now the aggregation framework supports joins through the $lookup operation.\n",
    "\n",
    "There is also a $graphLookup operator to perform recursive queries over the same collection, a recursive self-join, similar to the ones you find in graphed other bases.\n",
    "\n",
    "But wait.\n",
    "\n",
    "There is one more method, and it is to avoid doing a physical join.\n",
    "\n",
    "You can embed a one-to-many relationship on the one side.\n",
    "\n",
    "Now, what if the join is coming from the opposite side?\n",
    "\n",
    "We want to join the one side into the many side.\n",
    "\n",
    "An example will be a collection of orders which have a many-to-one relationship with a customer.\n",
    "\n",
    "One customer can have many orders, and one order belongs to one customer.\n",
    "\n",
    "A many-to-one relationship is, in fact, a one-to-many relationship looked at from the opposite side.\n",
    "\n",
    "Let's say that our applications focus is on order management and fulfillment.\n",
    "\n",
    "And we will query for specific orders way more often than query all the orders for a given customer.\n",
    "\n",
    "In other words, the center of attention is more often the order for this type of query.\n",
    "\n",
    "If we want to embed the information from one side, for example, the address of the customer, into the order, we are duplicating this info in all orders.\n",
    "\n",
    "The preferred way to do this duplication, which we identify as our extended reference pattern, is only to copy the fields you need to access frequently, leaving the rest of the information in the source collection.\n",
    "\n",
    "Basically, instead of adding a simple reference from the document in the invoice collection to this one in the customer collection, we built an extended reference, meaning the reference is rich enough, that we will not need to perform the join most of the time."
   ]
  },
  {
   "cell_type": "markdown",
   "id": "8e020c0e",
   "metadata": {},
   "source": [
    "<img src=\"img/71.png\">"
   ]
  },
  {
   "cell_type": "markdown",
   "id": "d88ed0d8",
   "metadata": {},
   "source": [
    "---"
   ]
  },
  {
   "cell_type": "markdown",
   "id": "54f36d8a",
   "metadata": {},
   "source": [
    "<img src=\"img/72.png\">"
   ]
  },
  {
   "cell_type": "raw",
   "id": "c4922bbd",
   "metadata": {},
   "source": [
    "Every time we talk about duplicating data, it is worth understanding the consequence.\n",
    "\n",
    "The first thing to understand is how to minimize duplication.\n",
    "\n",
    "The extended reference pattern will work best if you select fields that do not change often.\n",
    "\n",
    "For example, the user ID of a person can be complemented by his name, as people rarely change their name.\n",
    "\n",
    "Also, only bring the fields you need.\n",
    "\n",
    "When we look up an invoice, we may want to see the list of products with their supplier name.\n",
    "\n",
    "But there is little reason to show the phone number of the supplier at this point.\n",
    "\n",
    "If we want additional information, we can solve the supplier collection.\n",
    "\n",
    "Then, when the source field is updated, identify what should be change, meaning the list of extended references, and the when should they be changed.\n",
    "\n",
    "For example, it may be necessary to update them right away.\n",
    "\n",
    "However, sometimes it is OK to leave the data alone and update it later in a batch, when you have available resources.\n",
    "\n",
    "For example, changing the ranking of my best-selling products does not require me to instantly update all the products that spell out the rank of the product on their page.\n",
    "\n",
    "Interesting enough, the example we use with invoices and addresses is a case where duplication is not a problem, but rather the right solution.\n",
    "\n",
    "When the invoice was created, the customer may have lived in one location, and they have moved since.\n",
    "\n",
    "If we were to keep the last address of the customer in a reference in the invoice, we will be pointing to the new address, not where the products of this invoice were shipped.\n",
    "\n",
    "In this case, we want the invoice to keep pointing to the old address.\n",
    "\n",
    "The characteristic of the invoice that make it work well are the fact that the invoice is created at a given time in the timeline, and the invoice remains static over time.\n",
    "\n",
    "Any other entity sharing those characters is likely to work the same way, in the sense that duplication is not an issue, but a good thing.\n",
    "\n",
    "Time to formalize our extended reference pattern."
   ]
  },
  {
   "cell_type": "markdown",
   "id": "e98b4c96",
   "metadata": {},
   "source": [
    "<img src=\"img/73.png\">"
   ]
  },
  {
   "cell_type": "raw",
   "id": "c2437d5c",
   "metadata": {},
   "source": [
    "The problem the extended reference pattern addresses is avoiding joining too many pieces of data at query time.\n",
    "\n",
    "If the query is frequent enough and generates a considerable amount of lookups, pre-joining the data can be done by applying this pattern.\n",
    "\n",
    "The solution is to identify the fields you are interested in on the looked up side and make a copy of those fields in the main object.\n",
    "\n",
    "You will see this pattern often used in catalogs, mobile applications, and real-time analytics.\n",
    "\n",
    "The common thread (在各種故事或情況中發現的主題或特徵) here is to reduce the latency of your read operations or avoid round trips or avoid touching too many pieces of data.\n",
    "\n",
    "You will get faster reads, due to the reduced number of joints and lookups.\n",
    "\n",
    "The price you will pay for the improvement in performance is the fact that you may have to manage a fair amount of duplication, especially if you embed Many-to-One relationships, where the fields change or mutate a lot.\n",
    "\n",
    "Here you go.\n",
    "\n",
    "This is our extended reference pattern."
   ]
  },
  {
   "cell_type": "markdown",
   "id": "ea6947a9",
   "metadata": {},
   "source": [
    "### 範例01"
   ]
  },
  {
   "cell_type": "raw",
   "id": "93716a14",
   "metadata": {},
   "source": [
    "Correct Option:\n",
    "\n",
    "# An app needs to retrieve a product and information about its supplier.\n",
    "\n",
    "This is a good scenario for the Extended Reference Pattern. It is likely that we want to carry some information about a supplier with the product, however not all of it. Having fields like the supplier's name, a reference number, and the supplier's phone number should provide all the information we need when looking at a product. Additional information like the complete address and billing contact should be left within the suppliers collection.\n",
    "\n",
    "Incorrect Options:\n",
    "\n",
    "# An app needs to retrieve a product and its ten most recent reviews.\n",
    "\n",
    "This is a better scenario for the Subset Pattern. We want to bring in only the top ten reviews. However, a product may have a lot more reviews and these would be kept in a reviews collection.\n",
    "\n",
    "# A product model needs to store a counter representing the number of times it was purchased.\n",
    "\n",
    "This is a better scenario for the Computed Pattern. We would periodically calculate the number of times a product was purchased and store the information within the product itself.\n",
    "\n",
    "# A product model needs to store references to images of the product that are kept in an external location outside the database.\n",
    "\n",
    "This is one design solution to store large binaries. In this solution, the data is stored outside the database instead of inside it. However, this is not the definition of the Extended Reference Pattern.\n",
    "\n",
    "# An order model needs to store the product ID, the price sold, and the quantity ordered for each product in an order.\n",
    "\n",
    "The price sold and the quantity ordered are qualifying the relationship between the order and the products in it. The only other field, product ID, looks like a simple reference. If we want more information like the product name and a short description to also be part of the order document, then we should use the Extended Reference Pattern."
   ]
  },
  {
   "cell_type": "markdown",
   "id": "55b221af",
   "metadata": {},
   "source": [
    "# Subset Pattern"
   ]
  },
  {
   "cell_type": "raw",
   "id": "e81f9def",
   "metadata": {},
   "source": [
    "When you see a message on your phone or your laptop telling you that you're running out of memory, this is your personal device being very communicative.\n",
    "\n",
    "However, your database server is unlikely to be that direct.\n",
    "\n",
    "Also you would expect a database server to do a better management of resources than to simply run out of memory, and reporting such message.\n",
    "\n",
    "MongoDB tries to optimize the use of RAM by pulling in memory only the document that it needs from the disk through the RAM.\n",
    "\n",
    "When there is no more memory available, it evicts (驅逐) pages that contains the document it doesn't need anymore to make room for more document it needs to process at the moment.\n",
    "\n",
    "This [?\n",
    "\n",
    "mechanism ?] allows to have the hardware configuration that does less RAM than the total size of the data on disk.\n",
    "\n",
    "As long as the size of your working set fits in RAM, you get good performance."
   ]
  },
  {
   "cell_type": "markdown",
   "id": "8a943da9",
   "metadata": {},
   "source": [
    "<img src='img/74.png'>"
   ]
  },
  {
   "cell_type": "raw",
   "id": "2d04f790",
   "metadata": {},
   "source": [
    "The working set refers to the amount of space taken by the documents and the portions of indexes that are frequently accessed.\n",
    "\n",
    "Either if you get into a situation where the working set is larger than RAM-- in this picture, the four red documents that are needed all the time, may not fit in memory.\n",
    "\n",
    "So the server finds itself often dropping documents.\n",
    "\n",
    "It will soon have to fetch back from disk.\n",
    "\n",
    "This process, of constantly ejecting documents that should stay in memory, is bad-- pretty, pretty bad.\n",
    "\n",
    "The fix can be either one of the following three solution."
   ]
  },
  {
   "cell_type": "markdown",
   "id": "19bf6ede",
   "metadata": {},
   "source": [
    "<img src=\"img/75.png\">"
   ]
  },
  {
   "cell_type": "raw",
   "id": "ff61fc30",
   "metadata": {},
   "source": [
    "A, add more RAM-- In other terms, scale your infrastructure vertically.\n",
    "\n",
    "B-- either start sharding, or add more shards if you already have a sharded cluster.\n",
    "\n",
    "Sharding has a similar effect as A, since you provide more RAM to the cluster overall, through adding machines to it.\n",
    "\n",
    "This is also called scaling horizontally.\n",
    "\n",
    "Or C-- reduce the size of the working set.\n",
    "\n",
    "This last solution tries to resolve the problem without throwing money at it.\n",
    "\n",
    "For the purpose of this lesson, we are going to consider reducing the size of the working set.\n",
    "\n",
    "The key to that is breaking up huge documents, which we only need a fraction of it."
   ]
  },
  {
   "cell_type": "markdown",
   "id": "c2bdb542",
   "metadata": {},
   "source": [
    "<img src=\"img/76.png\">"
   ]
  },
  {
   "cell_type": "raw",
   "id": "ed89a31f",
   "metadata": {},
   "source": [
    "For Example, let's say we have a system that keeps a lot of movies in memory, and each of these movies is taking a fair amount of memory.\n",
    "\n",
    "Maybe there are some information that we don't need to use that often in those documents.\n",
    "\n",
    "For example, most of the time users want to see the top actors and the top reviews, rather than all of them.\n",
    "\n",
    "As for the fields here at the bottom-- comments, quote, and release-- it's also unlikely that you need all of them, most of the time.\n",
    "\n",
    "We could keep only 20 of the cast members, the main actors-- and also 20 of each of those comments, quote, release, and reviews.\n",
    "\n",
    "The rest of the information can go into a separate collection.\n",
    "\n",
    "It means if you start with a document that has all the info in it, a field that has a one-to-one relationship-- for example, the full script-- could be moved to a new collection."
   ]
  },
  {
   "cell_type": "markdown",
   "id": "202c3046",
   "metadata": {},
   "source": [
    "<img src=\"img/77.png\">"
   ]
  },
  {
   "cell_type": "raw",
   "id": "ef9525e0",
   "metadata": {},
   "source": [
    "And you could access this information through the dollar lockup operator.\n",
    "\n",
    "As for a field that has a one-to-N relationship, you can move most of those objects to another collection and keep only a subset of the N relationship in the main document."
   ]
  },
  {
   "cell_type": "markdown",
   "id": "1e70c3fd",
   "metadata": {},
   "source": [
    "<img src=\"img/78.png\">"
   ]
  },
  {
   "cell_type": "raw",
   "id": "25ce2293",
   "metadata": {},
   "source": [
    "The result on the working set is the following.\n",
    "\n",
    "Here, each document has been split into the part that is frequently accessed and the part that is rarely accessed.\n",
    "\n",
    "Now that the documents are smaller, the whole working set can fit in memory.\n",
    "\n",
    "And we have additional memory to bring in the data we only need to rotate."
   ]
  },
  {
   "cell_type": "markdown",
   "id": "e8fc255c",
   "metadata": {},
   "source": [
    "<img src=\"img/79.png\">"
   ]
  },
  {
   "cell_type": "markdown",
   "id": "70501931",
   "metadata": {},
   "source": [
    "---"
   ]
  },
  {
   "cell_type": "markdown",
   "id": "1d82b076",
   "metadata": {},
   "source": [
    "<img src=\"img/80.png\">"
   ]
  },
  {
   "cell_type": "raw",
   "id": "7ada81e1",
   "metadata": {},
   "source": [
    "Let's organize what we've been describing and illustrating a little bit.\n",
    "\n",
    "The problem to the subset pattern addresses is that too many frequently use pieces of information-- or I checked it from memory, which can be identified by observing a working set that this too big to fit in memory.\n",
    "\n",
    "Digging into the majority of documents in memory, we can observe that we only make use of a small subset of information in those documents.\n",
    "\n",
    "So a large part of those documents is rarely needed.\n",
    "\n",
    "Our solution is to break apart the documents that are taking too much space in RAM.\n",
    "\n",
    "We will divide the fields of information into two camps-- the field that are often required by our system, and the ones that are rarely required.\n",
    "\n",
    "This division is frequently used for one-to-many or many-to-many relationship, for which you only want to keep a subset of the many associated document.\n",
    "\n",
    "In which type of applications or situation are we likely to apply this pattern?\n",
    "\n",
    "A list of reviews for a product, a movie, or news articles-- well, anything that can be discussed or reviewed.\n",
    "\n",
    "List of anything that can be long and carries much more data than anyone can or wants to process or read.\n",
    "\n",
    "If this list takes a substantial amount of memory, they are good candidates to be offload to another collection.\n",
    "\n",
    "As a result of applying the subset pattern, our working set will not only be smaller, but it will make retrieving additional documents faster since they will be smaller.\n",
    "\n",
    "On the other hand, there are some trade-offs.\n",
    "\n",
    "First, you have more documents to retrieve, which means that you may have to make more round trips between the application and the server.\n",
    "\n",
    "And second, the fact that you break documents in two and duplicate some info means that the database will require a little bit more space on disk.\n",
    "\n",
    "However, this is not a big issue as this space is much cheaper than RAM.\n",
    "\n",
    "That's it.\n",
    "\n",
    "This is how the subset pattern works.\n",
    "\n",
    "In summary, the subset pattern is a great pattern to help you reduce the size of your working set by splitting information that you want to keep in memory, versus information that you fetch on demand."
   ]
  },
  {
   "cell_type": "markdown",
   "id": "60857b54",
   "metadata": {},
   "source": [
    "### 範例01"
   ]
  },
  {
   "cell_type": "raw",
   "id": "c9164990",
   "metadata": {},
   "source": [
    "Which one of the following scenarios is the best candidate for use of the Subset Pattern?"
   ]
  },
  {
   "cell_type": "raw",
   "id": "2e571952",
   "metadata": {},
   "source": [
    "Correct Option:\n",
    "\n",
    "# The working set does not fit in memory and it is difficult to scale the hardware.\n",
    "\n",
    "Incorrect Options:\n",
    "\n",
    "# The system is running out of RAM.\n",
    "\n",
    "Running out of RAM is likely not enough of a reason to change your schema. There could be other applications running on the system or some queries doing collection scans. The action should be to find the root cause of this issue first.\n",
    "\n",
    "# The documents are too big.\n",
    "\n",
    "The database can have large documents and operate perfectly, so long as there are not too many of them, or they are not used very often. The problem arises when there are many large documents, and they are part of the working set.\n",
    "\n",
    "# The developers of the system have left and no one understands the application.\n",
    "\n",
    "This means that doing any kind of maintenance is likely expensive. Doing a schema change that requires adding new collections and moving fields around may not be the right thing to do at this time. In this situation, you may want use money to solve the problem by using sharding to scale, if possible.\n",
    "\n",
    "The system is accessing the disk too frequently.\n",
    "\n",
    "This may be an indication that your working set does not fit in memory. However, there could be other causes, like doing unneccessary collection scans or having poor indexes. The action should be to find the root cause of this issue first."
   ]
  },
  {
   "cell_type": "markdown",
   "id": "456d36c3",
   "metadata": {},
   "source": [
    "### 範例01"
   ]
  },
  {
   "cell_type": "raw",
   "id": "1627a9fd",
   "metadata": {},
   "source": [
    "Problem:\n",
    "\n",
    "You are the lead developer for an online organic recycled clothing store. Consider the following user story:"
   ]
  },
  {
   "cell_type": "raw",
   "id": "60057a24",
   "metadata": {},
   "source": [
    "User Story\n",
    "\n",
    "Due to the growing number of environmentally-conscious consumers, our store's inventory has increased exponentially. We now also have an increasingly large pool of makers and suppliers.\n",
    "\n",
    "We recently found that our shopping app is getting slower due to the fact that the frequently-used documents can no longer all fit in RAM. This is happening largely due to having all product reviews, questions, and specs stored in the same document, which grows in size as reviews and ratings keep coming in.\n",
    "\n",
    "To resolve this issue, we want to reduce the amount of data immediately available to the user in the app and only load additional data when the user asks for it.\n",
    "\n",
    "Currently a typical document in our data base looks like this:"
   ]
  },
  {
   "cell_type": "code",
   "execution_count": null,
   "id": "b9cc1695",
   "metadata": {},
   "outputs": [],
   "source": [
    "{\n",
    "  \"_id\": ObjectId(\"5c9be463f752ec6b191c3c7e\"),\n",
    "  \"item_code\": \"AS45OPD\",\n",
    "  \"name\": \"Recycled Kicks\",\n",
    "  \"maker_brand\": \"Shoes From The Gutter\",\n",
    "  \"price\": 100.00,\n",
    "  \"description\": \"These amazing Kicks are made from recycled plastics and\n",
    "  fabrics.They come in a variety of sizes and are completely unisex in design.\n",
    "  If your feet don't like them within the first 30 days, we'll return your\n",
    "  money no questions asked.\n",
    "  \",\n",
    "  \"materials\": [\n",
    "    \"recycled cotton\",\n",
    "    \"recycled plastic\",\n",
    "    \"recycled food waste\",\n",
    "  ],\n",
    "  \"country\": \"Russia\",\n",
    "  \"image\": \"https:///www.shoesfromthegutter.com/kicks/AS45OPD.img\",\n",
    "  \"available_sizes\": {\n",
    "      \"mens\": [\"5\", \"6\", \"8\", \"8W\", \"10\", \"10W\", \"11\", \"11W\", \"12\", \"12W\"],\n",
    "      \"womens\": [\"5\", \"6\", \"7\", \"8\", \"9\", \"10\", \"11\", \"12\"]\n",
    "  },\n",
    "  \"package_weight_kg\": 2.00,\n",
    "  \"average_rating\": 4.8,\n",
    "  \"reviews\": [{\n",
    "      \"author\": \"i_love_kicks\",\n",
    "      \"text\": \"best shoes ever! comfortable, awesome colors and design!\",\n",
    "      \"rating\": 5\n",
    "    },\n",
    "    {\n",
    "      \"author\": \"i_know_everything\",\n",
    "      \"text\": \"These shoes are no good because I ordered the wrong size.\",\n",
    "      \"rating\": 1\n",
    "    },\n",
    "    \"...\"\n",
    "  ],\n",
    "  \"questions\": [{\n",
    "      \"author\": \"i_love_kicks\",\n",
    "      \"text\": \"Do you guys make baby shoes?\",\n",
    "      \"likes\": 1223\n",
    "    },\n",
    "    {\n",
    "      \"author\": \"i_know_everything\",\n",
    "      \"text\": \"Why do you make shoes out of garbage?\",\n",
    "      \"likes\": 0\n",
    "    },\n",
    "    \"...\"\n",
    "  ],\n",
    "  \"stock_amount\": 10000,\n",
    "  \"maker_address\": {\n",
    "    \"building_number\": 7,\n",
    "    \"street_name\": \"Turku\",\n",
    "    \"city\": \"Saint-Petersburg\",\n",
    "    \"country\": \"RU\",\n",
    "    \"postal_code\": 172091\n",
    "  },\n",
    "  \"makers\": [\"Ilya Muromets\", \"Alyosha Popovich\", \"Ivan Grozniy\", \"Chelovek Molekula\"],\n",
    "}"
   ]
  },
  {
   "cell_type": "raw",
   "id": "75a38e21",
   "metadata": {},
   "source": [
    "Task\n",
    "\n",
    "To address this user story, you must modify the following schema so that the working set can fit in RAM:"
   ]
  },
  {
   "cell_type": "raw",
   "id": "baf21bb7",
   "metadata": {},
   "source": [
    "{\n",
    "  \"_id\": \"<objectId>\",\n",
    "  \"item_code\": \"<string>\",\n",
    "  \"name\": \"<string>\",\n",
    "  \"maker_brand\": \"<string>\",\n",
    "  \"price\": \"<decimal>\",\n",
    "  \"description\": \"<string>\",\n",
    "  \"materials\": [\"<string>\"],\n",
    "  \"country\": \"<string>\",\n",
    "  \"image\": \"<string>\",\n",
    "  \"available_sizes\": {\n",
    "    \"mens\": [\"<string>\"],\n",
    "    \"womens\": [\"<string>\"]\n",
    "  },\n",
    "  \"package_weight_kg\": \"<decimal>\",\n",
    "  \"average_rating\": \"<decimal>\",\n",
    "  \"reviews\": [{\n",
    "    \"author\": \"<string>\",\n",
    "    \"text\": \"<string>\",\n",
    "    \"rating\": \"<int>\"\n",
    "  }],\n",
    "  \"questions\": [{\n",
    "    \"author\": \"<string>\",\n",
    "    \"text\": \"<string>\",\n",
    "    \"likes\": \"<int>\"\n",
    "  }],\n",
    "  \"stock_amount\": \"<int>\",\n",
    "  \"maker_address\": {\n",
    "    \"building_number\": \"<string>\",\n",
    "    \"street_name\": \"<string>\",\n",
    "    \"city\": \"<string>\",\n",
    "    \"country\": \"<string>\",\n",
    "    \"postal_code\": \"<string>\"\n",
    "  },\n",
    "  \"makers\": [\"<string>\"]\n",
    "}"
   ]
  },
  {
   "cell_type": "raw",
   "id": "891fe196",
   "metadata": {},
   "source": [
    "You should accomplish this task by completing the following steps:\n",
    "\n",
    "# Remove the maker address and the list of makers from the schema with the intention of moving those pieces of information\n",
    "  to a separate collection.\n",
    "\n",
    "# Replace the reviews and questions fields with top_five_reviews and top_five_questions respectively."
   ]
  }
 ],
 "metadata": {
  "kernelspec": {
   "display_name": "Python 3",
   "language": "python",
   "name": "python3"
  },
  "language_info": {
   "codemirror_mode": {
    "name": "ipython",
    "version": 3
   },
   "file_extension": ".py",
   "mimetype": "text/x-python",
   "name": "python",
   "nbconvert_exporter": "python",
   "pygments_lexer": "ipython3",
   "version": "3.8.10"
  }
 },
 "nbformat": 4,
 "nbformat_minor": 5
}
