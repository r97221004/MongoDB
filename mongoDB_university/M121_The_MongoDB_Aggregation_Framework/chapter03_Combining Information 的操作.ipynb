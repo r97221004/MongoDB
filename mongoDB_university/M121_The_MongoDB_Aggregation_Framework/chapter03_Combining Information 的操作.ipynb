{
 "cells": [
  {
   "cell_type": "markdown",
   "id": "1b4bec11",
   "metadata": {},
   "source": [
    "# $group 的操作"
   ]
  },
  {
   "cell_type": "code",
   "execution_count": null,
   "id": "5a2ac652",
   "metadata": {},
   "outputs": [],
   "source": [
    "# grouping by year and getting a count per year using the { $sum: 1 } pattern\n",
    "db.movies.aggregate([\n",
    "    {\n",
    "        $group: {\n",
    "            _id: \"$year\",\n",
    "            \"numFilmsThisYear\": { $sum: 1 }\n",
    "        }\n",
    "    }\n",
    "]).pretty()"
   ]
  },
  {
   "cell_type": "code",
   "execution_count": null,
   "id": "1fe1d806",
   "metadata": {},
   "outputs": [],
   "source": [
    "# grouping as before, then sorting in descending order based on the count\n",
    "db.movies.aggregate([\n",
    "    {\n",
    "        $group: {\n",
    "            _id: \"$year\",\n",
    "            \"count\": { $sum: 1 }\n",
    "        }\n",
    "    },\n",
    "    { $sort: { count: -1 }}\n",
    "]).pretty()"
   ]
  },
  {
   "cell_type": "code",
   "execution_count": null,
   "id": "61e89780",
   "metadata": {},
   "outputs": [],
   "source": [
    "# grouping on the number of directors a film has, demonstrating that we have to\n",
    "# validate types to protect some expressions\n",
    "db.movies.aggregate([\n",
    "    {\n",
    "        $group: {\n",
    "            _id: { \"numDirectors\": { $cond: [ { $isArray: \"$directors\" }, { $size: \"$directors\" }, 0 ] } },\n",
    "            numFilms: { $sum: 1},\n",
    "            \"averageMetacritic\": { $avg: \"$metacritic\" }\n",
    "        }\n",
    "    },\n",
    "    { $sort: { \"_id.numDirectors\": -1 }}\n",
    "]).pretty()"
   ]
  },
  {
   "cell_type": "code",
   "execution_count": null,
   "id": "ef6cf890",
   "metadata": {},
   "outputs": [],
   "source": [
    "# showing how to group all documents together. By convention, we use null or an empty string, \"\"\n",
    "db.movies.aggregate([\n",
    "    {\n",
    "        $group: {\n",
    "            _id: null,\n",
    "            count: { $sum: 1 }\n",
    "        }\n",
    "    }\n",
    "])"
   ]
  },
  {
   "cell_type": "code",
   "execution_count": null,
   "id": "23bb5018",
   "metadata": {},
   "outputs": [],
   "source": [
    "# filtering results to only get documents with a numeric metacritic value\n",
    "db.movies.aggregate([\n",
    "    {\n",
    "        $match: {\n",
    "            metacritic: { $gte: 0 }\n",
    "        }\n",
    "    },\n",
    "    {\n",
    "        $group: {\n",
    "            _id: null,\n",
    "            averageMetacritic: { $avg: \"$metacritic\" }\n",
    "        }\n",
    "    }\n",
    "]).pretty()"
   ]
  },
  {
   "cell_type": "markdown",
   "id": "0398f1e4",
   "metadata": {},
   "source": [
    "# Accumulator Expressions: \\\\$sum \\\\$avg \\\\$max \\\\$min \\\\$stdDevPop \\\\$stdDevSamp 的操作"
   ]
  },
  {
   "cell_type": "code",
   "execution_count": null,
   "id": "804dbae4",
   "metadata": {},
   "outputs": [],
   "source": [
    "# using $reduce to get the highest temperature\n",
    "db.icecream_data.aggregate([\n",
    "    {\n",
    "        $project: {\n",
    "            _id: 0,\n",
    "            max_high: {\n",
    "                $reduce: {\n",
    "                    input: \"$trends\",\n",
    "                    initialValue: -Infinity,\n",
    "                    in: { $cond: [ { $gt: [ \"$$this.avg_high_tmp\", \"$$value\" ]}, \"$$this.avg_high_tmp\", \"$$value\" ]}\n",
    "                }\n",
    "            }\n",
    "        }\n",
    "    }\n",
    "])"
   ]
  },
  {
   "cell_type": "code",
   "execution_count": null,
   "id": "45db9b63",
   "metadata": {},
   "outputs": [],
   "source": [
    "# performing the inverse, grabbing the lowest temperature\n",
    "db.icecream_data.aggregate([\n",
    "    {\n",
    "        $project: {\n",
    "            _id: 0,\n",
    "            min_high: {\n",
    "                $reduce: {\n",
    "                    input: \"$trends\",\n",
    "                    initialValue: Infinity,\n",
    "                    in: { $cond: [ { $lt: [ \"$$this.avg_low_tmp\", \"$$value\" ]}, \"$$this.avg_low_tmp\", \"$$value\" ]}\n",
    "                }\n",
    "            }\n",
    "        }\n",
    "    }\n",
    "])"
   ]
  },
  {
   "cell_type": "code",
   "execution_count": null,
   "id": "6b949d8d",
   "metadata": {},
   "outputs": [],
   "source": [
    "# note that these two operations can be done with the following operations can\n",
    "# be done more simply. The following two expressions are functionally identical\n",
    "db.icecream_data.aggregate([\n",
    "    {\n",
    "        $project: {\n",
    "            _id: 0,\n",
    "            max_high: { $max: \"$trends.avg_high_tmp\" }\n",
    "        }\n",
    "    }\n",
    "])\n",
    "\n",
    "db.icecream_data.aggregate([\n",
    "    {\n",
    "        $project: {\n",
    "            _id: 0,\n",
    "            min_high: { $min: \"$trends.avg_low_tmp\" }\n",
    "        }\n",
    "    }\n",
    "])"
   ]
  },
  {
   "cell_type": "code",
   "execution_count": null,
   "id": "561c9056",
   "metadata": {},
   "outputs": [],
   "source": [
    "# getting the average and standard deviations of the consumer price index\n",
    "db.icecream_data.aggregate([\n",
    "    {\n",
    "        $project: {\n",
    "            _id: 0,\n",
    "            average_cpi: { $avg: \"$trends.icecream_cpi\"},\n",
    "            cpi_deviation: { $stdDevPop: \"$trends.icecream_cpi\" }\n",
    "        }\n",
    "    }\n",
    "])"
   ]
  },
  {
   "cell_type": "code",
   "execution_count": null,
   "id": "e094fdb5",
   "metadata": {},
   "outputs": [],
   "source": [
    "# using the $sum expression to get total yearly sales\n",
    "db.icecream_data.aggregate([\n",
    "    {\n",
    "      $project: {\n",
    "        _id: 0,\n",
    "        \"yearly_sales (millions)\": { $sum: \"$trends.icecream_sales_in_millions\" }\n",
    "      }\n",
    "    }\n",
    "  ])"
   ]
  },
  {
   "cell_type": "markdown",
   "id": "afa694f7",
   "metadata": {},
   "source": [
    "### 範例01"
   ]
  },
  {
   "cell_type": "raw",
   "id": "f10d9786",
   "metadata": {},
   "source": [
    "# 求出哪一部電影的 imdb.votes 最高，哪一部最低。"
   ]
  },
  {
   "cell_type": "code",
   "execution_count": null,
   "id": "1ca1b63d",
   "metadata": {},
   "outputs": [],
   "source": [
    "db.movies.aggregate([\n",
    "    {\n",
    "        $match: {\n",
    "            \"imdb.votes\": { $gte: 1}\n",
    "        }\n",
    "    },\n",
    "    {\n",
    "        $group: {\n",
    "            _id: null,\n",
    "            maxVotes: { $max: \"$imdb.votes\" },\n",
    "            minVotes: { $min: \"$imdb.votes\" }\n",
    "        }\n",
    "    }\n",
    "])"
   ]
  },
  {
   "cell_type": "markdown",
   "id": "d663c0c3",
   "metadata": {},
   "source": [
    "### 範例02"
   ]
  },
  {
   "cell_type": "raw",
   "id": "7152fe91",
   "metadata": {},
   "source": [
    "db.grades.insertMany([\n",
    "  { _id: 1, quizzes: [ 5, 6, 7 ] },\n",
    "  { _id: 2, quizzes: [ ] },\n",
    "  { _id: 3, quizzes: [ 3, 8, 9 ] }\n",
    "])"
   ]
  },
  {
   "cell_type": "code",
   "execution_count": null,
   "id": "664e8c63",
   "metadata": {},
   "outputs": [],
   "source": [
    "db.grades.aggregate([\n",
    "    {\n",
    "        $project: {\n",
    "            maxGrade: { $max: \"$quizzes\" }\n",
    "        }\n",
    "    }\n",
    "])"
   ]
  },
  {
   "cell_type": "raw",
   "id": "f01001a4",
   "metadata": {},
   "source": [
    "This operation returns the following results:"
   ]
  },
  {
   "cell_type": "raw",
   "id": "78293c6b",
   "metadata": {},
   "source": [
    "{ \"_id\" : 1, \"maxGrade\" : 7 }\n",
    "{ \"_id\" : 2, \"maxGrade\" : null }\n",
    "{ \"_id\" : 3, \"maxGrade\" : 9 }"
   ]
  },
  {
   "cell_type": "markdown",
   "id": "b3bd31b8",
   "metadata": {},
   "source": [
    "### 範例03"
   ]
  },
  {
   "cell_type": "raw",
   "id": "7f5930a9",
   "metadata": {},
   "source": [
    "In the last lab, we calculated a normalized rating that required us to know what the minimum and maximum values for imdb.votes were. These values were found using the $group stage!\n",
    "\n",
    "For all films that won at least 1 Oscar, calculate the standard deviation, highest, lowest, and average imdb.rating. Use the sample standard deviation expression.\n",
    "\n",
    "HINT - All movies in the collection that won an Oscar begin with a string resembling one of the following in their awards field\n",
    "\n",
    "Won 13 Oscars\n",
    "Won 1 Oscar"
   ]
  },
  {
   "cell_type": "code",
   "execution_count": null,
   "id": "eaac3188",
   "metadata": {},
   "outputs": [],
   "source": [
    "# 參考01\n",
    "db.movies.aggregate([\n",
    "    {\n",
    "        $match: { \n",
    "            awards: { $exists: true }\n",
    "        }\n",
    "    },\n",
    "    {\n",
    "        $project: {\n",
    "            _id: 0,\n",
    "            title: 1,\n",
    "            awards: { $split: [ \"$awards\", \" \" ]},\n",
    "            imdb_rating: \"$imdb.rating\" \n",
    "        }\n",
    "    },\n",
    "    {\n",
    "        $match: {\n",
    "\n",
    "            \"awards.0\": \"Won\",\n",
    "            \"awards.2\": { $in: [ \"Oscar.\", \"Oscars.\" ]}\n",
    "        }\n",
    "    },\n",
    "    {\n",
    "        $group: {\n",
    "            _id: null,\n",
    "            highest_rating: { $max: \"$imdb_rating\" },\n",
    "            lowest_rating: { $min: \"$imdb_rating\" },\n",
    "            average_rating: { $avg: \"$imdb_rating\" },\n",
    "            deviation: { $stdDevSamp: \"$imdb_rating\" }\n",
    "        }\n",
    "    }\n",
    "]).pretty()"
   ]
  },
  {
   "cell_type": "code",
   "execution_count": null,
   "id": "63273ec6",
   "metadata": {},
   "outputs": [],
   "source": [
    "# 參考02\n",
    "db.movies.aggregate([\n",
    "  {\n",
    "    $match: {\n",
    "      awards: /Won \\d{1,2} Oscars?/\n",
    "    }\n",
    "  },\n",
    "  {\n",
    "    $group: {\n",
    "      _id: null,\n",
    "      highest_rating: { $max: \"$imdb.rating\" },\n",
    "      lowest_rating: { $min: \"$imdb.rating\" },\n",
    "      average_rating: { $avg: \"$imdb.rating\" },\n",
    "      deviation: { $stdDevSamp: \"$imdb.rating\" }\n",
    "    }\n",
    "  }\n",
    "])"
   ]
  },
  {
   "cell_type": "markdown",
   "id": "b9e3730e",
   "metadata": {},
   "source": [
    "# $unwind 的操作"
   ]
  },
  {
   "cell_type": "code",
   "execution_count": null,
   "id": "909c7ca7",
   "metadata": {},
   "outputs": [],
   "source": [
    "# finding the top rated genres per year from 2010 to 2015...\n",
    "db.movies.aggregate([\n",
    "    {\n",
    "        $match: {\n",
    "            \"imdb.rating\": { $gt: 0},\n",
    "            year: { $gte: 2010, $lte: 2015},\n",
    "            runtime: { $gte: 90 }\n",
    "        }\n",
    "    },\n",
    "    { $unwind: \"$genres\" },\n",
    "    {\n",
    "        $group: {\n",
    "            _id: { year: \"$year\", genre: \"$genres\" },\n",
    "            average_rating: { $avg: \"$imdb.rating\" }\n",
    "        }\n",
    "    },\n",
    "    { $sort: { \"_id.year\": -1, average_rating: -1 }}\n",
    "\n",
    "]).pretty()"
   ]
  },
  {
   "cell_type": "code",
   "execution_count": null,
   "id": "5ed440da",
   "metadata": {},
   "outputs": [],
   "source": [
    "# unfortunately we got too many results per year back. Rather than peform some\n",
    "# other complex grouping and matching, we just append a simple group and sort\n",
    "# stage, taking advantage of the fact the documents are in the order we want\n",
    "db.movies.aggregate([\n",
    "    {\n",
    "        $match: {\n",
    "            \"imdb.rating\": { $gt: 0 },\n",
    "            year: { $gte: 2010, $lte: 2015 },\n",
    "            runtime: { $gte: 90 }\n",
    "        }\n",
    "    },\n",
    "    { $unwind: \"$genres\" },\n",
    "    {\n",
    "        $group: {\n",
    "            _id: { year: \"$year\", genre: \"$genres\" },\n",
    "            average_rating: { $avg: \"$imdb.rating\" }\n",
    "        }\n",
    "    },\n",
    "    { $sort: { \"_id.year\": -1, average_rating: -1 }},\n",
    "    {\n",
    "        $group: {\n",
    "            _id: \"$_id.year\",\n",
    "            genre: { $first: \"$_id.genre\" },\n",
    "            average_rating: { $first: \"$average_rating\" }\n",
    "        }\n",
    "    },\n",
    "    { $sort: { _id: -1 }}\n",
    "    \n",
    "]).pretty()"
   ]
  },
  {
   "cell_type": "markdown",
   "id": "8e94b8a0",
   "metadata": {},
   "source": [
    "### 範例01"
   ]
  },
  {
   "cell_type": "raw",
   "id": "ea5ab513",
   "metadata": {},
   "source": [
    "Let's use our increasing knowledge of the Aggregation Framework to explore our movies collection in more detail. We'd like to calculate how many movies every cast member has been in and get an average imdb.rating for each cast member.\n",
    "\n",
    "What is the name, number of movies, and average rating (truncated to one decimal) for the cast member that has been in the most number of movies with English as an available language?\n",
    "\n",
    "Provide the input in the following order and format"
   ]
  },
  {
   "cell_type": "code",
   "execution_count": null,
   "id": "7bc38b98",
   "metadata": {},
   "outputs": [],
   "source": [
    "# 參考01\n",
    "db.movies.aggregate([\n",
    "    {\n",
    "        $match: {\n",
    "            languages: { $in: [ \"English\" ]}\n",
    "        }\n",
    "    },\n",
    "    { $unwind: \"$cast\"},\n",
    "    {\n",
    "        $group: {\n",
    "            _id: \"$cast\",\n",
    "            numFilms: { $sum: 1 },\n",
    "            average: { $avg: \"$imdb.rating\" }\n",
    "        }\n",
    "    },\n",
    "    {\n",
    "        $project: {\n",
    "            _id: 1,\n",
    "            numFilms: 1,\n",
    "            average: { $trunc: [ \"$average\", 1 ]}\n",
    "        }\n",
    "    },\n",
    "    { $sort: { numFilms: -1 }},\n",
    "    { $limit: 1 }\n",
    "])"
   ]
  },
  {
   "cell_type": "code",
   "execution_count": null,
   "id": "148e7d47",
   "metadata": {},
   "outputs": [],
   "source": [
    "# 參考02\n",
    "db.movies.aggregate([\n",
    "  {\n",
    "    $match: {\n",
    "      languages: \"English\"\n",
    "    }\n",
    "  },\n",
    "  {\n",
    "    $project: { _id: 0, cast: 1, \"imdb.rating\": 1 }\n",
    "  },\n",
    "  {\n",
    "    $unwind: \"$cast\"\n",
    "  },\n",
    "  {\n",
    "    $group: {\n",
    "      _id: \"$cast\",\n",
    "      numFilms: { $sum: 1 },\n",
    "      average: { $avg: \"$imdb.rating\" }\n",
    "    }\n",
    "  },\n",
    "  {\n",
    "    $project: {\n",
    "      numFilms: 1,\n",
    "      average: {\n",
    "        $divide: [{ $trunc: { $multiply: [\"$average\", 10] } }, 10]\n",
    "      }\n",
    "    }\n",
    "  },\n",
    "  {\n",
    "    $sort: { numFilms: -1 }\n",
    "  },\n",
    "  {\n",
    "    $limit: 1\n",
    "  }\n",
    "])"
   ]
  },
  {
   "cell_type": "markdown",
   "id": "8485b784",
   "metadata": {},
   "source": [
    "# $lookup 的操作"
   ]
  },
  {
   "cell_type": "raw",
   "id": "95ad7add",
   "metadata": {},
   "source": [
    "Performs a left outer join to an unsharded collection in the same database to filter in documents from the \"joined\" collection for processing. To each input document, the $lookup stage adds a new array field whose elements are the matching documents from the \"joined\" collection. The $lookup stage passes these reshaped documents to the next stage."
   ]
  },
  {
   "cell_type": "raw",
   "id": "0b435130",
   "metadata": {},
   "source": [
    "To perform an equality match between a field from the input documents with a field from the documents of the \"joined\" collection, the $lookup stage has the following syntax:"
   ]
  },
  {
   "cell_type": "raw",
   "id": "43730863",
   "metadata": {},
   "source": [
    "{\n",
    "   $lookup:\n",
    "     {\n",
    "       from: <collection to join>,\n",
    "       localField: <field from the input documents>,\n",
    "       foreignField: <field from the documents of the \"from\" collection>,\n",
    "       as: <output array field>\n",
    "     }\n",
    "}"
   ]
  },
  {
   "cell_type": "code",
   "execution_count": null,
   "id": "d45231a1",
   "metadata": {},
   "outputs": [],
   "source": [
    "# familiarizing with the air_alliances schema\n",
    "db.air_alliances.findOne()\n",
    "\n",
    "# familiarizing with the air_airlines schema\n",
    "db.air_airlines.findOne()\n",
    "\n",
    "# performing a lookup, joining air_alliances with air_airlines and replacing\n",
    "# the current airlines information with the new values\n",
    "db.air_alliances.aggregate([\n",
    "    {\n",
    "        $lookup: {\n",
    "            from: \"air_airlines\",\n",
    "            localField: \"airlines\",\n",
    "            foreignField: \"name\",\n",
    "            as: \"airlines\"\n",
    "        }\n",
    "    }\n",
    "]).pretty()"
   ]
  },
  {
   "cell_type": "code",
   "execution_count": null,
   "id": "f34b2db6",
   "metadata": {},
   "outputs": [],
   "source": [
    "db.air_airlines.aggregate([\n",
    "    {\n",
    "        $lookup: {\n",
    "            from: \"air_alliances\",\n",
    "            localField: \"name\",\n",
    "            foreignField: \"airlines\",\n",
    "            as: \"airline\"\n",
    "        }\n",
    "    },\n",
    "    {\n",
    "        $match: {\n",
    "            airline: { $elemMatch: { $exists: true }}\n",
    "        }\n",
    "    }\n",
    "]).pretty()"
   ]
  },
  {
   "cell_type": "markdown",
   "id": "787faa2a",
   "metadata": {},
   "source": [
    "### 範例01"
   ]
  },
  {
   "cell_type": "raw",
   "id": "a140a57a",
   "metadata": {},
   "source": [
    "Which alliance from air_alliances flies the most routes with either a Boeing 747 or an Airbus A380 (abbreviated 747 and 380 in air_routes)?"
   ]
  },
  {
   "cell_type": "code",
   "execution_count": null,
   "id": "6997ff1d",
   "metadata": {},
   "outputs": [],
   "source": [
    "db.air_alliances.findOne()\n",
    "db.air_routes.findOne()\n",
    "\n",
    "# 注意要記得 $unwind 這一個 stage \n",
    "db.air_routes.aggregate([\n",
    "    {\n",
    "        $match: {\n",
    "            airplane: /747|380/\n",
    "        }\n",
    "    },\n",
    "    {\n",
    "        $lookup: {\n",
    "            from: \"air_alliances\",\n",
    "            localField: \"airline.name\",\n",
    "            foreignField: \"airlines\",\n",
    "            as: \"alliance\"\n",
    "        }\n",
    "    },\n",
    "    { $unwind: \"$alliance\" },\n",
    "    {\n",
    "        $group: {\n",
    "            _id: { alliance: \"$alliance.name\" },\n",
    "            num: { $sum: 1 }\n",
    "        }\n",
    "    },\n",
    "    { $sort: { num: -1 }}\n",
    "]).pretty()"
   ]
  },
  {
   "cell_type": "markdown",
   "id": "f45f5c3a",
   "metadata": {},
   "source": [
    "### 範例02"
   ]
  },
  {
   "cell_type": "raw",
   "id": "e511ef6c",
   "metadata": {},
   "source": [
    "Using the air_alliances and air_routes collections, find which alliance has the most unique carriers(airlines) operating between the airports JFK and LHR, in either directions.\n",
    "\n",
    "Names are distinct, i.e. Delta != Delta Air Lines\n",
    "\n",
    "src_airport and dst_airport contain the originating and terminating airport information."
   ]
  },
  {
   "cell_type": "code",
   "execution_count": null,
   "id": "248c1211",
   "metadata": {},
   "outputs": [],
   "source": [
    "# 參考01\n",
    "db.air_routes.aggregate([\n",
    "    {\n",
    "        $match: {\n",
    "            $or: [ { src_airport: \"JFK\", dst_airport: \"LHR\" }, { src_airport: \"LHR\", dst_airport: \"JFK\" }]\n",
    "        }\n",
    "    },\n",
    "    {\n",
    "        $lookup: {\n",
    "            from: \"air_alliances\",\n",
    "            localField: \"airline.name\",\n",
    "            foreignField: \"airlines\",\n",
    "            as: \"air_alliance\"\n",
    "        }\n",
    "    },\n",
    "    {\n",
    "        $match: { air_alliance: { $ne: [] }}\n",
    "    },\n",
    "    {\n",
    "        $group: {\n",
    "            _id: \"$air_alliance.name\",\n",
    "            airlines: { $addToSet: \"$airline.name\"}\n",
    "        }\n",
    "    },\n",
    "    {\n",
    "      $addFields: { airlinesNum: { $size: \"$airlines\" }}   \n",
    "    },\n",
    "    {\n",
    "        $sort: { airlines: -1 }\n",
    "    }\n",
    "]).pretty()"
   ]
  },
  {
   "cell_type": "code",
   "execution_count": null,
   "id": "b99cc751",
   "metadata": {},
   "outputs": [],
   "source": [
    "# 參考02\n",
    "db.air_routes.aggregate([\n",
    "  {\n",
    "    $match: {\n",
    "      src_airport: { $in: [\"LHR\", \"JFK\"] },\n",
    "      dst_airport: { $in: [\"LHR\", \"JFK\"] }\n",
    "    }\n",
    "  },\n",
    "  {\n",
    "    $lookup: {\n",
    "      from: \"air_alliances\",\n",
    "      foreignField: \"airlines\",\n",
    "      localField: \"airline.name\",\n",
    "      as: \"alliance\"\n",
    "    }\n",
    "  },\n",
    "  {\n",
    "    $match: { alliance: { $ne: [] } }\n",
    "  },\n",
    "  {\n",
    "    $addFields: {\n",
    "      alliance: { $arrayElemAt: [\"$alliance.name\", 0] }\n",
    "    }\n",
    "  },\n",
    "  {\n",
    "    $group: {\n",
    "      _id: \"$airline.id\",\n",
    "      alliance: { $first: \"$alliance\" }\n",
    "    }\n",
    "  },\n",
    "  {\n",
    "    $sortByCount: \"$alliance\"\n",
    "  }\n",
    "])"
   ]
  },
  {
   "cell_type": "markdown",
   "id": "397c875d",
   "metadata": {},
   "source": [
    "# $graphLookup 的操作"
   ]
  },
  {
   "cell_type": "raw",
   "id": "76ec76a0",
   "metadata": {},
   "source": [
    "# $graphLookup can be used in any position of the pipeline and acts in the same way as a regular $lookup."
   ]
  },
  {
   "cell_type": "code",
   "execution_count": null,
   "id": "919f1e2b",
   "metadata": {},
   "outputs": [],
   "source": [
    "db.parent_reference.find()\n",
    "\n",
    "db.parent_reference.find({ name: \"Dev\" })\n",
    "\n",
    "db.parent_reference.find({ reports_to: 1 })"
   ]
  },
  {
   "cell_type": "code",
   "execution_count": null,
   "id": "7e445bb6",
   "metadata": {},
   "outputs": [],
   "source": [
    "# 查找下屬\n",
    "db.parent_reference.aggregate([\n",
    "    { $match: { name: \"Eliot\" }},\n",
    "    {\n",
    "        $graphLookup: {\n",
    "            from: \"parent_reference\",\n",
    "            startWith: \"$_id\",\n",
    "            connectFromField: \"_id\",\n",
    "            connectToField: \"reports_to\",\n",
    "            as: \"all_reports\"\n",
    "        }\n",
    "    }\n",
    "]).pretty()"
   ]
  },
  {
   "cell_type": "code",
   "execution_count": null,
   "id": "65234f6c",
   "metadata": {},
   "outputs": [],
   "source": [
    "# 查找上屬\n",
    "db.parent_reference.aggregate([\n",
    "    { $match: { name: \"Shannon\" }},\n",
    "    {\n",
    "        $graphLookup: {\n",
    "            from: \"parent_reference\",\n",
    "            startWith: \"$reports_to\",\n",
    "            connectFromField: \"reports_to\",\n",
    "            connectToField: \"_id\",\n",
    "            as: \"bosses\"\n",
    "        }\n",
    "    }\n",
    "]).pretty()"
   ]
  },
  {
   "cell_type": "code",
   "execution_count": null,
   "id": "fcff3048",
   "metadata": {},
   "outputs": [],
   "source": [
    "db.child_reference.find()\n",
    "\n",
    "db.child_reference.findOne({ name: \"Dev\"})"
   ]
  },
  {
   "cell_type": "code",
   "execution_count": null,
   "id": "d10143a6",
   "metadata": {},
   "outputs": [],
   "source": [
    "# 查找下屬\n",
    "db.child_reference.aggregate([\n",
    "    { $match: { name: \"Dev\" }},\n",
    "    {\n",
    "        $graphLookup: {\n",
    "            from: \"child_reference\",\n",
    "            startWith: \"$direct_reports\",\n",
    "            connectFromField: \"direct_reports\",\n",
    "            connectToField: \"name\",\n",
    "            as: \"all_reports\"\n",
    "        }\n",
    "    }\n",
    "]).pretty()"
   ]
  },
  {
   "cell_type": "code",
   "execution_count": null,
   "id": "1762e9e3",
   "metadata": {},
   "outputs": [],
   "source": [
    "# 查找下屬，只找 2 層\n",
    "db.child_reference.aggregate([\n",
    "    { $match: { name: \"Dev\" }},\n",
    "    {\n",
    "        $graphLookup: {\n",
    "            from: \"child_reference\",\n",
    "            startWith: \"$direct_reports\",\n",
    "            connectFromField: \"direct_reports\",\n",
    "            connectToField: \"name\",\n",
    "            as: \"till_2_level_reports\",\n",
    "            maxDepth: 1\n",
    "        }\n",
    "    }\n",
    "]).pretty()"
   ]
  },
  {
   "cell_type": "code",
   "execution_count": null,
   "id": "8303e9f7",
   "metadata": {},
   "outputs": [],
   "source": [
    "db.child_reference.aggregate([\n",
    "    { $match: { name: \"Dev\" }},\n",
    "    {\n",
    "        $graphLookup: {\n",
    "            from: \"child_reference\",\n",
    "            startWith: \"$direct_reports\",\n",
    "            connectFromField: \"direct_reports\",\n",
    "            connectToField: \"name\",\n",
    "            as: \"till_2_level_reports\",\n",
    "            maxDepth: 1,\n",
    "            depthField: \"level\"\n",
    "        }\n",
    "    }\n",
    "]).pretty()"
   ]
  },
  {
   "cell_type": "code",
   "execution_count": null,
   "id": "7a28087c",
   "metadata": {},
   "outputs": [],
   "source": [
    "db.air_airlines.findOne()\n",
    "\n",
    "db.air_routes.findOne()"
   ]
  },
  {
   "cell_type": "code",
   "execution_count": null,
   "id": "00665f00",
   "metadata": {},
   "outputs": [],
   "source": [
    "db.air_airlines.aggregate([\n",
    "    { $match: { name: \"TAP Portugal\" }},\n",
    "    {\n",
    "        $graphLookup: {\n",
    "            from: \"air_routes\",\n",
    "            as: \"chain\",\n",
    "            startWith: \"$base\",\n",
    "            connectFromField: \"dst_airport\",\n",
    "            connectToField: \"src_airport\",\n",
    "            maxDepth: 0\n",
    "            \n",
    "        }\n",
    "    }\n",
    "    \n",
    "]).pretty()"
   ]
  },
  {
   "cell_type": "code",
   "execution_count": null,
   "id": "2da11ea1",
   "metadata": {},
   "outputs": [],
   "source": [
    "db.air_airlines.aggregate([\n",
    "    { $match: { name: \"TAP Portugal\" }},\n",
    "    {\n",
    "        $graphLookup: {\n",
    "            from: \"air_routes\",\n",
    "            as: \"chain\",\n",
    "            startWith: \"$base\",\n",
    "            connectFromField: \"dst_airport\",\n",
    "            connectToField: \"src_airport\",\n",
    "            maxDepth: 1\n",
    "            \n",
    "        }\n",
    "    }\n",
    "    \n",
    "]).pretty()"
   ]
  },
  {
   "cell_type": "code",
   "execution_count": null,
   "id": "fb9a624e",
   "metadata": {},
   "outputs": [],
   "source": [
    "db.air_airlines.aggregate([\n",
    "    { $match: { name: \"TAP Portugal\" }},\n",
    "    {\n",
    "        $graphLookup: {\n",
    "            from: \"air_routes\",\n",
    "            as: \"chain\",\n",
    "            startWith: \"$base\",\n",
    "            connectFromField: \"dst_airport\",\n",
    "            connectToField: \"src_airport\",\n",
    "            maxDepth: 1,\n",
    "            restrictSearchWithMatch: { \"airline.name\": \"TAP Portugal\"}\n",
    "            \n",
    "        }\n",
    "    }\n",
    "    \n",
    "]).pretty()"
   ]
  }
 ],
 "metadata": {
  "kernelspec": {
   "display_name": "Python 3",
   "language": "python",
   "name": "python3"
  },
  "language_info": {
   "codemirror_mode": {
    "name": "ipython",
    "version": 3
   },
   "file_extension": ".py",
   "mimetype": "text/x-python",
   "name": "python",
   "nbconvert_exporter": "python",
   "pygments_lexer": "ipython3",
   "version": "3.8.10"
  }
 },
 "nbformat": 4,
 "nbformat_minor": 5
}
