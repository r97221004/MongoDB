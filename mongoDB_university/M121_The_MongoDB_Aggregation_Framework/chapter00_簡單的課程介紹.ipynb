{
 "cells": [
  {
   "cell_type": "markdown",
   "metadata": {},
   "source": [
    "# 連接 M121 課程的 Altas Cluster"
   ]
  },
  {
   "cell_type": "code",
   "execution_count": null,
   "metadata": {},
   "outputs": [],
   "source": [
    "mongo \"mongodb://cluster0-shard-00-00-jxeqq.mongodb.net:27017,cluster0-shard-00-01-jxeqq.mongodb.net:27017,cluster0-shard-00-02-jxeqq.mongodb.net:27017/aggregations?replicaSet=Cluster0-shard-0\" --authenticationDatabase admin --ssl -u m121 -p aggregations --norc"
   ]
  },
  {
   "cell_type": "markdown",
   "metadata": {},
   "source": [
    "# 簡單的 pipeline 的結構"
   ]
  },
  {
   "cell_type": "raw",
   "metadata": {},
   "source": [
    "1. operators: $match、$project、$in、$gte、$lte、\n",
    "2. expressions: $gt (像是函數一樣，在這代入了兩個參數)\n",
    "3. options: { allowDiskUse: true }"
   ]
  },
  {
   "cell_type": "code",
   "execution_count": null,
   "metadata": {},
   "outputs": [],
   "source": [
    "db.solarSystem.aggregate([\n",
    "    {\n",
    "        $match: { \n",
    "            atmosphericComposition: { $in: [/O2/] },\n",
    "            meanTemperature: { $gte: -40, $lte: 40 }\n",
    "        }\n",
    "    },\n",
    "    {\n",
    "        $project: {\n",
    "            _id: 0,\n",
    "            name: 1,\n",
    "            hasMoons: { $gt: [\"$numberOfMoons\", 0] }\n",
    "        }\n",
    "    }\n",
    "], { allowDiskUse: true })"
   ]
  }
 ],
 "metadata": {
  "kernelspec": {
   "display_name": "Python 3",
   "language": "python",
   "name": "python3"
  },
  "language_info": {
   "codemirror_mode": {
    "name": "ipython",
    "version": 3
   },
   "file_extension": ".py",
   "mimetype": "text/x-python",
   "name": "python",
   "nbconvert_exporter": "python",
   "pygments_lexer": "ipython3",
   "version": "3.6.13"
  }
 },
 "nbformat": 4,
 "nbformat_minor": 5
}
