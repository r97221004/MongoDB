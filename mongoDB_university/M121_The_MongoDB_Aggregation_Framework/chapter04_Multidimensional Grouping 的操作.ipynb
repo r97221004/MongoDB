{
 "cells": [
  {
   "cell_type": "markdown",
   "metadata": {},
   "source": [
    "# $sortByCount 的操作"
   ]
  },
  {
   "cell_type": "code",
   "execution_count": null,
   "metadata": {},
   "outputs": [],
   "source": [
    "# find one company document\n",
    "db.companies.findOne()\n",
    "\n",
    "# create text index\n",
    "db.companies.createIndex({ description: \"text\", overview: \"text\" })"
   ]
  },
  {
   "cell_type": "code",
   "execution_count": null,
   "metadata": {},
   "outputs": [],
   "source": [
    "# find companies matching term `networking` using text search\n",
    "db.companies.aggregate([\n",
    "    {\n",
    "        $match: {\n",
    "            $text: { $search: \"network\" }\n",
    "        }\n",
    "    }\n",
    "]).pretty()"
   ]
  },
  {
   "cell_type": "code",
   "execution_count": null,
   "metadata": {},
   "outputs": [],
   "source": [
    "db.companies.aggregate([\n",
    "    {\n",
    "        $match: {\n",
    "            $text: { $search: \"network\" }\n",
    "        }\n",
    "    },\n",
    "    {\n",
    "        $group: {\n",
    "            _id: \"$category_code\",\n",
    "            count: { $sum: 1 }\n",
    "        }\n",
    "    },\n",
    "    { $sort: { count: -1 }}\n",
    "]).pretty()"
   ]
  },
  {
   "cell_type": "code",
   "execution_count": null,
   "metadata": {},
   "outputs": [],
   "source": [
    "# $sortByCount single query facet for the previous search\n",
    "db.companies.aggregate([\n",
    "    {\n",
    "        $match: {\n",
    "            $text: { $search: \"network\" }\n",
    "        }\n",
    "    },\n",
    "    { $sortByCount: \"$category_code\" }\n",
    "]).pretty()"
   ]
  },
  {
   "cell_type": "code",
   "execution_count": null,
   "metadata": {},
   "outputs": [],
   "source": [
    "# extend the pipeline for a more elaborate facet\n",
    "db.companies.aggregate([\n",
    "    {\n",
    "        $match: {\n",
    "            $text: { $search: \"network\" }\n",
    "        }\n",
    "    },\n",
    "    {\n",
    "        $unwind: \"$offices\"\n",
    "    },\n",
    "    {\n",
    "        $match: { \"offices.city\": { $ne: \"\" }}\n",
    "    },\n",
    "    {\n",
    "        $sortByCount: \"$offices.city\"\n",
    "    }\n",
    "]).pretty()"
   ]
  },
  {
   "cell_type": "markdown",
   "metadata": {},
   "source": [
    "---"
   ]
  },
  {
   "cell_type": "code",
   "execution_count": null,
   "metadata": {},
   "outputs": [],
   "source": [
    "# performing a group followed by a sort to rank occurence\n",
    "db.movies.aggregate([\n",
    "    {\n",
    "        $group: {\n",
    "            _id: \"$imdb.rating\",\n",
    "            count: { $sum: 1}\n",
    "        }\n",
    "    },\n",
    "    { $sort: { count: -1 }}\n",
    "])"
   ]
  },
  {
   "cell_type": "code",
   "execution_count": null,
   "metadata": {},
   "outputs": [],
   "source": [
    "# sortByCount is equivalent to the above. In fact, if you execute this pipeline\n",
    "# with { explain: true } you will see that it is transformed to the above!\n",
    "db.movies.aggregate([\n",
    "    {\n",
    "        $sortByCount: \"$imdb.rating\"\n",
    "    }\n",
    "])"
   ]
  },
  {
   "cell_type": "markdown",
   "metadata": {},
   "source": [
    "# $bucket 的操作"
   ]
  },
  {
   "cell_type": "code",
   "execution_count": null,
   "metadata": {},
   "outputs": [],
   "source": [
    "# create manual buckets using $ bucket\n",
    "db.companies.aggregate([\n",
    "    {\n",
    "        $match: {\n",
    "            founded_year: { $gt: 1980 },\n",
    "            number_of_employees: { $ne: null }\n",
    "        }\n",
    "    },\n",
    "    {\n",
    "        $bucket: {\n",
    "            groupBy: \"$number_of_employees\",\n",
    "            boundaries: [ 0, 20, 50, 100, 500, 1000, Infinity]\n",
    "        }\n",
    "    }\n",
    "])"
   ]
  },
  {
   "cell_type": "code",
   "execution_count": null,
   "metadata": {},
   "outputs": [],
   "source": [
    "# reproduce error message for non matching documents\n",
    "db.coll.insert({ x: \"a\" });\n",
    "db.coll.aggregate([{ $bucket: {groupBy: \"$x\", boundaries: [0, 50, 100]}}])"
   ]
  },
  {
   "cell_type": "code",
   "execution_count": null,
   "metadata": {},
   "outputs": [],
   "source": [
    "# set `default` option to collect documents that do not match boundaries\n",
    "db.companies.aggregate([\n",
    "    {\n",
    "        $match: {\n",
    "            founded_year: { $gt: 1980 }\n",
    "        }\n",
    "    },\n",
    "    {\n",
    "        $bucket: {\n",
    "            groupBy: \"$number_of_employees\",\n",
    "            boundaries: [ 0, 20, 50, 100, 500, 1000, Infinity],\n",
    "            default: \"Other\"\n",
    "        }\n",
    "    }\n",
    "])"
   ]
  },
  {
   "cell_type": "code",
   "execution_count": null,
   "metadata": {},
   "outputs": [],
   "source": [
    "# reproduce error message for inconsitent boundaries datatype\n",
    "db.coll.aggregate([{ $bucket: {groupBy: \"$x\", boundaries: [\"a\", \"b\", 100]}}])"
   ]
  },
  {
   "cell_type": "code",
   "execution_count": null,
   "metadata": {},
   "outputs": [],
   "source": [
    "# set `output` option for $bucket stage\n",
    "db.companies.aggregate([\n",
    "    {\n",
    "        $match: {\n",
    "            founded_year: { $gt: 1980 }\n",
    "        }\n",
    "    },\n",
    "    {\n",
    "        $bucket: {\n",
    "            groupBy: \"$number_of_employees\",\n",
    "            boundaries: [ 0, 20, 50, 100, 500, 1000, Infinity],\n",
    "            default: \"Other\",\n",
    "            output: {\n",
    "                total: { $sum: 1},\n",
    "                average: { $avg: \"$number_of_employees\" },\n",
    "                categories: { $addToSet: \"$category_code\" }\n",
    "            }\n",
    "        }\n",
    "    }\n",
    "]).pretty()"
   ]
  },
  {
   "cell_type": "markdown",
   "metadata": {},
   "source": [
    "# $bucketAuto 的操作"
   ]
  },
  {
   "cell_type": "code",
   "execution_count": null,
   "metadata": {},
   "outputs": [],
   "source": [
    "# generate buckets automatically with $bucktAuto stage\n",
    "db.companies.aggregate([\n",
    "    {\n",
    "        $match: {\n",
    "            \"offices.city\": \"New York\"\n",
    "        }\n",
    "    },\n",
    "    {\n",
    "        $bucketAuto: {\n",
    "            groupBy: \"$founded_year\",\n",
    "            buckets: 5\n",
    "        }\n",
    "\n",
    "    }\n",
    "])"
   ]
  },
  {
   "cell_type": "code",
   "execution_count": null,
   "metadata": {},
   "outputs": [],
   "source": [
    "# set `output` option for $bucketAuto\n",
    "db.companies.aggregate([\n",
    "    {\n",
    "        $match: {\n",
    "            \"offices.city\": \"New York\"\n",
    "        }\n",
    "    },\n",
    "    {\n",
    "        $bucketAuto: {\n",
    "            groupBy: \"$founded_year\",\n",
    "            buckets: 5,\n",
    "            output: {\n",
    "                total: { $sum: 1},\n",
    "                average: { $avg : \"$number_of_employees\" } \n",
    "            }\n",
    "        }\n",
    "\n",
    "    }\n",
    "])"
   ]
  },
  {
   "cell_type": "code",
   "execution_count": null,
   "metadata": {},
   "outputs": [],
   "source": [
    "# default $buckeAuto behaviour\n",
    "for(i=1; i <= 1000; i++) {  db.series.insert( {_id: i}  ) };\n",
    "\n",
    "db.series.aggregate([\n",
    "    {\n",
    "        $bucketAuto: {\n",
    "            groupBy: \"$_id\",\n",
    "            buckets: 5\n",
    "        }\n",
    "    }\n",
    "])"
   ]
  },
  {
   "cell_type": "code",
   "execution_count": null,
   "metadata": {},
   "outputs": [],
   "source": [
    "# generate automatic buckets using granularity numerical series R20\n",
    "db.series.aggregate([\n",
    "    {\n",
    "        $bucketAuto: {\n",
    "            groupBy: \"$_id\",\n",
    "            buckets: 5,\n",
    "            granularity: \"R20\"\n",
    "        }\n",
    "    }\n",
    "])"
   ]
  },
  {
   "cell_type": "markdown",
   "metadata": {},
   "source": [
    "# $facet 的操作"
   ]
  },
  {
   "cell_type": "raw",
   "metadata": {},
   "source": [
    "# $facet does not accept all sub-pipelines that include other $facet stages"
   ]
  },
  {
   "cell_type": "code",
   "execution_count": null,
   "metadata": {},
   "outputs": [],
   "source": [
    "# render several different facets using $facet stage\n",
    "db.companies.aggregate([\n",
    "    {\n",
    "        $match: {\n",
    "            $text: { $search: \"Databases\" }\n",
    "        }\n",
    "    },\n",
    "    {\n",
    "        $facet: {\n",
    "            Categories: [{ $sortByCount: \"$category_code\" }],\n",
    "            Employees: [\n",
    "                { $match: { founded_year: { $gt: 1980 }}},\n",
    "                {\n",
    "                    $bucket: {\n",
    "                        groupBy: \"$number_of_employees\",\n",
    "                        boundaries: [0, 20, 50, 100, 500, 1000, Infinity],\n",
    "                        default: \"Other\"\n",
    "                    }\n",
    "                }\n",
    "            ],\n",
    "            Founded: [\n",
    "                { $match: { \"offices.city\": \"New York\" }},\n",
    "                {\n",
    "                    $bucketAuto: {\n",
    "                        groupBy: \"$founded_year\",\n",
    "                        buckets: 5\n",
    "                    }\n",
    "                }\n",
    "            ]\n",
    "\n",
    "        }\n",
    "    }\n",
    "]).pretty()"
   ]
  },
  {
   "cell_type": "markdown",
   "metadata": {},
   "source": [
    "### 範例01"
   ]
  },
  {
   "cell_type": "raw",
   "metadata": {},
   "source": [
    "How many movies are in both the top ten highest rated movies according to the imdb.rating and the metacritic fields? We should get these results with exactly one access to the database.\n",
    "\n",
    "Hint: What is the intersection?"
   ]
  },
  {
   "cell_type": "code",
   "execution_count": null,
   "metadata": {},
   "outputs": [],
   "source": [
    "# 參考01\n",
    "db.movies.aggregate([\n",
    "    {\n",
    "        $match: {\n",
    "            metacritic: { $ne: null},\n",
    "            \"imdb.rating\": { $gt: 0 }\n",
    "        }\n",
    "    },\n",
    "    {\n",
    "        $project:{\n",
    "            title: 1,\n",
    "            imdb_rating: \"$imdb.rating\",\n",
    "            metacritic: 1\n",
    "        }\n",
    "    },\n",
    "    {\n",
    "        $facet: {\n",
    "            imdbTop: [\n",
    "                { $sort: { imdb_rating: -1 }},\n",
    "                { $limit: 10 }\n",
    "            ],\n",
    "            metacriticTop: [\n",
    "             { $sort: { metacritic: -1 }},\n",
    "             { $limit: 10 }\n",
    "            ]\n",
    "        }\n",
    "    },\n",
    "    {\n",
    "        $group: {\n",
    "            _id: null,\n",
    "            imdbTop: { $addToSet: \"$imdbTop.title\" },\n",
    "            metacriticTop: { $addToSet: \"$metacriticTop.title\" }\n",
    "        }\n",
    "    },\n",
    "    { $unwind: \"$imdbTop\" },\n",
    "    { $unwind: \"$metacriticTop\" },\n",
    "    {\n",
    "        $project: {\n",
    "            interSection: { $setIntersection: [ \"$imdbTop\", \"$metacriticTop\" ]}\n",
    "        }\n",
    "    }\n",
    "]).pretty()"
   ]
  },
  {
   "cell_type": "code",
   "execution_count": null,
   "metadata": {},
   "outputs": [],
   "source": [
    "# 參考02\n",
    "db.movies.aggregate([\n",
    "  {\n",
    "    $match: {\n",
    "      metacritic: { $gte: 0 },\n",
    "      \"imdb.rating\": { $gte: 0 }\n",
    "    }\n",
    "  },\n",
    "  {\n",
    "    $project: {\n",
    "      _id: 0,\n",
    "      metacritic: 1,\n",
    "      imdb: 1,\n",
    "      title: 1\n",
    "    }\n",
    "  },\n",
    "  {\n",
    "    $facet: {\n",
    "      top_metacritic: [\n",
    "        {\n",
    "          $sort: {\n",
    "            metacritic: -1,\n",
    "            title: 1\n",
    "          }\n",
    "        },\n",
    "        {\n",
    "          $limit: 10\n",
    "        },\n",
    "        {\n",
    "          $project: {\n",
    "            title: 1\n",
    "          }\n",
    "        }\n",
    "      ],\n",
    "      top_imdb: [\n",
    "        {\n",
    "          $sort: {\n",
    "            \"imdb.rating\": -1,\n",
    "            title: 1\n",
    "          }\n",
    "        },\n",
    "        {\n",
    "          $limit: 10\n",
    "        },\n",
    "        {\n",
    "          $project: {\n",
    "            title: 1\n",
    "          }\n",
    "        }\n",
    "      ]\n",
    "    }\n",
    "  },\n",
    "  {\n",
    "    $project: {\n",
    "      movies_in_both: {\n",
    "        $setIntersection: [\"$top_metacritic\", \"$top_imdb\"]\n",
    "      }\n",
    "    }\n",
    "  }\n",
    "])"
   ]
  }
 ],
 "metadata": {
  "kernelspec": {
   "display_name": "Python 3",
   "language": "python",
   "name": "python3"
  },
  "language_info": {
   "codemirror_mode": {
    "name": "ipython",
    "version": 3
   },
   "file_extension": ".py",
   "mimetype": "text/x-python",
   "name": "python",
   "nbconvert_exporter": "python",
   "pygments_lexer": "ipython3",
   "version": "3.6.13"
  }
 },
 "nbformat": 4,
 "nbformat_minor": 5
}
