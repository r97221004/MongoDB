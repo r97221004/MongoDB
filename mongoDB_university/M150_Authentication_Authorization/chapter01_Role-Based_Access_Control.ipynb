{
 "cells": [
  {
   "cell_type": "markdown",
   "id": "9d849a45",
   "metadata": {},
   "source": [
    "# Built-In Roles"
   ]
  },
  {
   "cell_type": "markdown",
   "id": "e35e4b28",
   "metadata": {},
   "source": [
    "If you want to learn about the roles that are only available from admin, visit the [All-Database roles](https://www.mongodb.com/docs/manual/reference/built-in-roles/#all-database-roles)."
   ]
  },
  {
   "cell_type": "raw",
   "id": "0e5402cf",
   "metadata": {},
   "source": [
    "Creating a global user administrator:"
   ]
  },
  {
   "cell_type": "code",
   "execution_count": null,
   "id": "e770d52e",
   "metadata": {},
   "outputs": [],
   "source": [
    "use admin\n",
    "db.createUser({\n",
    "  user: \"globalAdminUser\",\n",
    "  pwd: \"5xd49$4%0bef#6c&b*d\",\n",
    "  roles: [ {\n",
    "    role: \"userAdminAnyDatabase\",\n",
    "    db: \"admin\"\n",
    "  } ]\n",
    "});"
   ]
  },
  {
   "cell_type": "raw",
   "id": "464f8bff",
   "metadata": {},
   "source": [
    "Creating a user administrator on the inventory database:"
   ]
  },
  {
   "cell_type": "code",
   "execution_count": null,
   "id": "210067dd",
   "metadata": {},
   "outputs": [],
   "source": [
    "use admin\n",
    "db.createUser({\n",
    "  user: \"inventoryAdminUser\",\n",
    "  pwd: \"f46*5$2a3%ac&43f@17b\",\n",
    "  roles: [\n",
    "    { role: \"userAdmin\", db: \"inventory\" }\n",
    "  ]\n",
    "});"
   ]
  },
  {
   "cell_type": "raw",
   "id": "80fcde95",
   "metadata": {},
   "source": [
    "Creating a user without any privileges:"
   ]
  },
  {
   "cell_type": "code",
   "execution_count": null,
   "id": "429f7477",
   "metadata": {},
   "outputs": [],
   "source": [
    "use admin\n",
    "db.createUser({\n",
    "  user: \"inventoryAdminUser\",\n",
    "  pwd: \"4lf12$@0af0e4*9#8af\",\n",
    "  roles: [ ]\n",
    "});"
   ]
  },
  {
   "cell_type": "raw",
   "id": "af80634e",
   "metadata": {},
   "source": [
    "Granting a user the userAdmin privilege on the inventory database:"
   ]
  },
  {
   "cell_type": "code",
   "execution_count": null,
   "id": "11a2888e",
   "metadata": {},
   "outputs": [],
   "source": [
    "db.grantRolesToUser(\n",
    "   \"inventoryAdminUser\",\n",
    "   [ { role: \"userAdmin\", db: \"inventory\" } ]\n",
    ")"
   ]
  },
  {
   "cell_type": "markdown",
   "id": "2bc1ca29",
   "metadata": {},
   "source": [
    "# User-Defined Roles"
   ]
  },
  {
   "cell_type": "markdown",
   "id": "b1cdd328",
   "metadata": {},
   "source": [
    "<img src=\"img/5.png\">"
   ]
  },
  {
   "cell_type": "raw",
   "id": "c86a7110",
   "metadata": {},
   "source": [
    "In this lesson, we're going to discuss user defined roles in MongoDB.\n",
    "\n",
    "We'll start by talking about why user defined roles are important.\n",
    "\n",
    "How they compare to the built-in roles.\n",
    "\n",
    "And how to create these user defined roles in the mongo's show.\n",
    "\n",
    "So first, why would we create a user defined role?\n",
    "\n",
    "MongoDB provides 15 built-in roles for administrators to use for role based access control.\n",
    "\n",
    "Which is MongoDB's native authorization mechanism.\n",
    "\n",
    "But these roles are provided for convenience.\n",
    "\n",
    "They may not describe the required set of privileges.\n",
    "\n",
    "That doesn't mean user administrators should never use the built-in roles, you should just know that they might not address every database requirement.\n",
    "\n",
    "If the built-in roles fall short of expectations, user admins can always create new roles that have more fine grained access.\n",
    "\n",
    "User admins may want to do this because the built-in roles grant too many privileges and they want to create a role that grants fewer privileges.\n",
    "\n",
    "This allows user administrators to adhere to the principle of least privilege.\n",
    "\n",
    "This is a new vocabulary term so let's define it.\n",
    "\n",
    "The principle of least privilege says that users should have the least privilege required for their intended purpose.\n",
    "\n",
    "For example, one branch of a popular bank probably holds over 50 bank employees and every employee requires the privilege to enter the bank.\n",
    "\n",
    "But not every employee at the bank should be able to enter the bank vault.\n",
    "\n",
    "Ideally, this privilege is only granted to the one person whose job actually requires them to enter the bank vault.\n",
    "\n",
    "Let's look at the built-in role user admin."
   ]
  },
  {
   "cell_type": "markdown",
   "id": "5a25f882",
   "metadata": {},
   "source": [
    "<img src=\"img/6.png\">"
   ]
  },
  {
   "cell_type": "raw",
   "id": "2aa18a58",
   "metadata": {},
   "source": [
    "On the screen are all the privileges that are granted by this role.\n",
    "\n",
    "Privilege actions represent operations that a user with this role can perform.\n",
    "\n",
    "In the lecture notes of this lesson, you can find a link to the docs page with all of the privileged actions and the operations that are granted by each action.\n",
    "\n",
    "We're not going to go through all of them.\n",
    "\n",
    "I just want to demonstrate that each built-in role can grant many different privilege actions.\n",
    "\n",
    "The userAdmin role is designed to easily grant the ability to create and modify users and roles on the current database.\n",
    "\n",
    "Let's say that our team decides that this role encompasses too many privileges and they want to create a new role that only pertains to granting and revoking roles.\n",
    "\n",
    "I've highlighted the privilege actions that we want in our new role.\n",
    "\n",
    "GrantRole, revokeRole, and viewRole.\n",
    "\n",
    "We want our new role to be able to grant and revoke roles to any user so we included grantRole and revokeRole.\n",
    "\n",
    "But this user also needs to be able to see which roles are available so we included viewRole.\n",
    "\n",
    "This is the command that we'll use to create this new role."
   ]
  },
  {
   "cell_type": "markdown",
   "id": "f473b13c",
   "metadata": {},
   "source": [
    "<img src=\"img/7.png\">"
   ]
  },
  {
   "cell_type": "raw",
   "id": "1ccbcd68",
   "metadata": {},
   "source": [
    "It's a long command.\n",
    "\n",
    "So we'll go through it piece by piece.\n",
    "\n",
    "At the top, we can see the command is called createRole and the role field is where we put the name of our new role.\n",
    "\n",
    "Here we called it grantRevokeRolesAnyDatabase.\n",
    "\n",
    "The privilege field is an array that contains all the privileges we want our new role to have.\n",
    "\n",
    "Each privilege contains a resource field and an actions field.\n",
    "\n",
    "The resource field accepts a document with a database and a collection.\n",
    "\n",
    "This is the resource that this privilege will grant actions over.\n",
    "\n",
    "Here, we specified an empty string for both of these fields.\n",
    "\n",
    "That means we're granting actions over all collections in all databases.\n",
    "\n",
    "If we specified one database but an empty string for the collection, it would grant actions for every collection in one database.\n",
    "\n",
    "The Actions field accepts an array with all the actions over the resources that we specified.\n",
    "\n",
    "There are many different actions you can assign to roles and there's a full list of the privileged actions in the lecture notes of this lesson.\n",
    "\n",
    "The last required field is a roles array where you can specify any built-in roles to include in the new role.\n",
    "\n",
    "The new role will contain everything in the privileges array and the roles array.\n",
    "\n",
    "All right.\n",
    "\n",
    "Now let's go to the terminal and test out this new command.\n",
    "\n",
    "All right.\n",
    "\n",
    "So here I'm going to connect to MongoDB on the admin database so that my new role is created on admin."
   ]
  },
  {
   "cell_type": "markdown",
   "id": "adaf31c7",
   "metadata": {},
   "source": [
    "---"
   ]
  },
  {
   "cell_type": "code",
   "execution_count": null,
   "id": "0b7e88a9",
   "metadata": {},
   "outputs": [],
   "source": [
    "mongo admin --port 27001"
   ]
  },
  {
   "cell_type": "markdown",
   "id": "669b0b3e",
   "metadata": {},
   "source": [
    "---"
   ]
  },
  {
   "cell_type": "raw",
   "id": "01721f71",
   "metadata": {},
   "source": [
    "And here I'm authenticating to MongoDB as our global admin user because this user has the privilege to create new roles."
   ]
  },
  {
   "cell_type": "markdown",
   "id": "d24249cc",
   "metadata": {},
   "source": [
    "---"
   ]
  },
  {
   "cell_type": "code",
   "execution_count": null,
   "id": "b7c68960",
   "metadata": {},
   "outputs": [],
   "source": [
    "db.auth(\"globalAdminUser\", \"5xd49$4%0bef#6c&b*d\")"
   ]
  },
  {
   "cell_type": "markdown",
   "id": "96755f8e",
   "metadata": {},
   "source": [
    "---"
   ]
  },
  {
   "cell_type": "raw",
   "id": "c55aa439",
   "metadata": {},
   "source": [
    "And it looks like that was successful.\n",
    "\n",
    "And here's the command we'll use to create the new role.\n",
    "\n",
    "This is the same exact command that I just show on the slide so I'm not going to review it again but it should look familiar."
   ]
  },
  {
   "cell_type": "markdown",
   "id": "11fde529",
   "metadata": {},
   "source": [
    "---"
   ]
  },
  {
   "cell_type": "code",
   "execution_count": null,
   "id": "d8d5a729",
   "metadata": {},
   "outputs": [],
   "source": [
    "db.createRole(\n",
    " {\n",
    "   role: \"grantRevokeRolesAnyDatabase\",\n",
    "   privileges: [\n",
    "     {\n",
    "        resource: { db: \"\", collection: \"\" },\n",
    "        actions: [ \"grantRole\", \"revokeRole\", \"viewRole\" ]\n",
    "     }\n",
    "   ],\n",
    "   roles: []\n",
    " }\n",
    ")"
   ]
  },
  {
   "cell_type": "markdown",
   "id": "00b59c59",
   "metadata": {},
   "source": [
    "---"
   ]
  },
  {
   "cell_type": "raw",
   "id": "b3c9534b",
   "metadata": {},
   "source": [
    "And it looks like that succeeded.\n",
    "\n",
    "But let's double check.\n",
    "\n",
    "It's going to retrieve all the roles in this database and it looks like our role was created properly."
   ]
  },
  {
   "cell_type": "markdown",
   "id": "7aefe3a0",
   "metadata": {},
   "source": [
    "---"
   ]
  },
  {
   "cell_type": "code",
   "execution_count": null,
   "id": "12663d27",
   "metadata": {},
   "outputs": [],
   "source": [
    "db.getRoles()"
   ]
  },
  {
   "cell_type": "markdown",
   "id": "839f5828",
   "metadata": {},
   "source": [
    "---"
   ]
  },
  {
   "cell_type": "raw",
   "id": "93a7ebde",
   "metadata": {},
   "source": [
    "Nice.\n",
    "\n",
    "So now this role is available from the admin database."
   ]
  },
  {
   "cell_type": "markdown",
   "id": "cba0bc60",
   "metadata": {},
   "source": [
    "<img src=\"img/8.png\">"
   ]
  },
  {
   "cell_type": "raw",
   "id": "54f64af7",
   "metadata": {},
   "source": [
    "Let's recap what we learned in this lesson.\n",
    "\n",
    "Built-in roles are provided for convenient role based access control, and they may not address all the requirements for database users.\n",
    "\n",
    "For example, they may not satisfy the principle of least privilege.\n",
    "\n",
    "So user defined roles can be created with fine grained access control if the built in roles don't fit the requirements.\n",
    "\n",
    "These new roles accept any number of new privileges and each new privilege consists of a resource and actions.\n",
    "\n",
    "The resource is a database or a collection and the actions are operations that can be applied to the chosen resource."
   ]
  },
  {
   "cell_type": "markdown",
   "id": "a4803da0",
   "metadata": {},
   "source": [
    "# Updating User Information"
   ]
  },
  {
   "cell_type": "markdown",
   "id": "2a37ed4a",
   "metadata": {},
   "source": [
    "<img src=\"img/9.png\">"
   ]
  },
  {
   "cell_type": "raw",
   "id": "a9f10620",
   "metadata": {},
   "source": [
    "In this lesson we're going to discuss updating user information.\n",
    "\n",
    "There are a few different methods for updating user information and we've actually already learned two of these methods.\n",
    "\n",
    "GrantRole and revokeRole.\n",
    "\n",
    "GrantRole is used to give new roles to an existing user.\n",
    "\n",
    "While revokeRole is used to take roles away from an existing user.\n",
    "\n",
    "And these two methods are great for modifying the privileges of an existing database user.\n",
    "\n",
    "But what if we want to update something else about the user other than their privileges.\n",
    "\n",
    "The updateUser method can be used to modify any field in a user document.\n",
    "\n",
    "And unlike the two methods we've already learned, updateUser is not limited to role management.\n",
    "\n",
    "So you can use this to update any field in the user document.\n",
    "\n",
    "However the user who runs this updateUser command still requires the privilege to update other users information.\n",
    "\n",
    "So typically the updateUser command is only run by user administrators.\n",
    "\n",
    "On screen is the documentation for the updateUser command."
   ]
  },
  {
   "cell_type": "markdown",
   "id": "d730c865",
   "metadata": {},
   "source": [
    "<img src=\"img/10.png\">"
   ]
  },
  {
   "cell_type": "raw",
   "id": "326c91a8",
   "metadata": {},
   "source": [
    "We're going to talk about each piece of this command one at a time.\n",
    "\n",
    "At the top is the name of the command updateUser.\n",
    "\n",
    "The first argument to this command is a string representing the user name of the user that you want to update.\n",
    "\n",
    "The second argument is the update document.\n",
    "\n",
    "This document contains all the information to be updated about this user.\n",
    "\n",
    "There are only three fields included in this update document but there are several other fields that you can use to modify user information.\n",
    "\n",
    "For example, the first field in this update document is roles.\n",
    "\n",
    "This may seem similar to the grantRole method but it is slightly different.\n",
    "\n",
    "The roles array in the update document will overwrite all the roles currently held by this user instead of just adding new roles to the existing ones.\n",
    "\n",
    "The next field is pwd, which is short for password.\n",
    "\n",
    "This field declares a new password for the user being updated.\n",
    "\n",
    "I do want to note, issuing a new password in clear text is not very secure and MongoDB has more secure ways of retrieving the password.\n",
    "\n",
    "However, these are out of scope for this course.\n",
    "\n",
    "The final field in this update document is called mechanisms.\n",
    "\n",
    "This controls which authentication mechanisms this user can use to authenticate.\n",
    "\n",
    "So this command db.updateUser can be used to modify any field in the user document.\n",
    "\n",
    "This includes granting roles and privileges, changing a password, and updating the authentication mechanism."
   ]
  },
  {
   "cell_type": "markdown",
   "id": "b44ffd78",
   "metadata": {},
   "source": [
    "<img src=\"img/11.png\">"
   ]
  },
  {
   "cell_type": "raw",
   "id": "572ffe03",
   "metadata": {},
   "source": [
    "So let's recap what we learned.\n",
    "\n",
    "There are several different ways to update user information.\n",
    "\n",
    "For example grantRole and revokeRole can be used to modify the roles held by a user.\n",
    "\n",
    "However, updateUser can be used to update any field in the user document.\n",
    "\n",
    "This includes updating roles, like the other two methods and it also includes updating passwords and authentication mechanisms.\n",
    "\n",
    "There are many other fields that can be updated with this method.\n",
    "\n",
    "And you can find a documentation page with all of the update document fields in the lecture notes."
   ]
  }
 ],
 "metadata": {
  "kernelspec": {
   "display_name": "Python 3",
   "language": "python",
   "name": "python3"
  },
  "language_info": {
   "codemirror_mode": {
    "name": "ipython",
    "version": 3
   },
   "file_extension": ".py",
   "mimetype": "text/x-python",
   "name": "python",
   "nbconvert_exporter": "python",
   "pygments_lexer": "ipython3",
   "version": "3.8.10"
  }
 },
 "nbformat": 4,
 "nbformat_minor": 5
}
