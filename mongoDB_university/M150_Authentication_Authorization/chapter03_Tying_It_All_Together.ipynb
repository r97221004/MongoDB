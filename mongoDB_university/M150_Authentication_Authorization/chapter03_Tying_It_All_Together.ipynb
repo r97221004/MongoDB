{
 "cells": [
  {
   "cell_type": "markdown",
   "id": "04ad7f8c",
   "metadata": {},
   "source": [
    "# Tying It All Together"
   ]
  },
  {
   "cell_type": "raw",
   "id": "04f6e992",
   "metadata": {},
   "source": [
    "Welcome to chapter 4, the final chapter.\n",
    "\n",
    "We hope that you've enjoyed the course up until this point.\n",
    "\n",
    "In this chapter, you will apply everything you've learned so far in a series of activities where you will be an engineer at Big Bank Incorporated.\n",
    "\n",
    "You will be tasked with implementing authentication, authorization, and internal authentication.\n",
    "\n",
    "The first activity asks you to implement database authentication and then create a user administrator.\n",
    "\n",
    "The second activity asks you to create users with various privileges to support user management.\n",
    "\n",
    "And the third activity asks you to implement internal authentication for a replica set.\n",
    "\n",
    "Good luck.\n",
    "\n",
    "Once you finish this chapter, you are officially done with the course."
   ]
  },
  {
   "cell_type": "markdown",
   "id": "0341032f",
   "metadata": {},
   "source": [
    "### 範例01"
   ]
  },
  {
   "cell_type": "markdown",
   "id": "6f362347",
   "metadata": {},
   "source": [
    "### 範例02"
   ]
  },
  {
   "cell_type": "markdown",
   "id": "46670efa",
   "metadata": {},
   "source": [
    "### 範例03"
   ]
  }
 ],
 "metadata": {
  "kernelspec": {
   "display_name": "Python 3",
   "language": "python",
   "name": "python3"
  },
  "language_info": {
   "codemirror_mode": {
    "name": "ipython",
    "version": 3
   },
   "file_extension": ".py",
   "mimetype": "text/x-python",
   "name": "python",
   "nbconvert_exporter": "python",
   "pygments_lexer": "ipython3",
   "version": "3.8.10"
  }
 },
 "nbformat": 4,
 "nbformat_minor": 5
}
