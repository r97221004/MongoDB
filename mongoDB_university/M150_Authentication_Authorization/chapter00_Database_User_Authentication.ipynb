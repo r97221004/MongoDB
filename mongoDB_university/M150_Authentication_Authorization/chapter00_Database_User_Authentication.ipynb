{
 "cells": [
  {
   "cell_type": "markdown",
   "id": "cc85a7f1",
   "metadata": {},
   "source": [
    "# Authentication vs Authorization"
   ]
  },
  {
   "cell_type": "raw",
   "id": "774617af",
   "metadata": {},
   "source": [
    "In this lesson, we're going to define authentication and authorization.\n",
    "\n",
    "The difference between these two things and how they are represented in MongoDB.\n",
    "\n",
    "So first let's define these two terms.\n",
    "\n",
    "Authentication verifies the identity of a user.\n",
    "\n",
    "Authorization determines the verified users access to resources and operations.\n",
    "\n",
    "So let's say you're checking your bank account.\n",
    "\n",
    "Your account balances live in a database.\n",
    "\n",
    "But before you can read the balances the database needs to verify your identity as the user.\n",
    "\n",
    "So the server prompts the user to prove itself by asking the user, please enter your email address and password.\n",
    "\n",
    "The user then presents their username ilovecats@email.com and their password cats are my fav 1986.\n",
    "\n",
    "If at some point in the future this user decides that they want to change their username or change their password.\n",
    "\n",
    "That would be an example of updating this user's authentication.\n",
    "\n",
    "So after inputting the password in the username, the server will then verify this user's identity based on whether that user exists with those credentials.\n",
    "\n",
    "If the database does not recognize the credentials, it will send a message to the user saying that the authentication has failed.\n",
    "\n",
    "If the database does recognize the user's credentials then it automatically moves on to authorization.\n",
    "\n",
    "Once MongoDB verifies the identity of a user at that needs to determine this user's authorization.\n",
    "\n",
    "Coming back to our example, the database has verified the credentials for the user ilovecats@email.com.\n",
    "\n",
    "Now the database has to determine what level of access this user has.\n",
    "\n",
    "The actions that a given user is allowed to perform are referred to as privileges.\n",
    "\n",
    "In the case of a bank account or an ATM this user has access to their account balances.\n",
    "\n",
    "In other words, they are not authorized to read the balances of other users bank accounts.\n",
    "\n",
    "This user is also authorized to withdraw money from their account but there's a limit to how much money can be withdrawn each day.\n",
    "\n",
    "But you can contact your bank to raise this limit.\n",
    "\n",
    "Raising the withdrawal limit is an example of changing authorization without affecting the way that this user authenticates to the server.\n",
    "\n",
    "So now let's see how authorization and authentication are represented in MongoDB."
   ]
  },
  {
   "cell_type": "markdown",
   "id": "3b12bdd3",
   "metadata": {},
   "source": [
    "<img src=\"img/1.png\">"
   ]
  },
  {
   "cell_type": "raw",
   "id": "00cbdafc",
   "metadata": {},
   "source": [
    "On the screen is a command that creates a new user with a username and password.\n",
    "\n",
    "So the first item here is the db.createUser command.\n",
    "\n",
    "This is the command used to create new users.\n",
    "\n",
    "It only requires one parameter, the user document.\n",
    "\n",
    "The user document contains all the information that MongoDB saves about each user.\n",
    "\n",
    "The portion of the user document that is highlighted pertains to authentication.\n",
    "\n",
    "For this user, the user document contains user name account analytics and the password Lionel Messi 1987.\n",
    "\n",
    "Now the portion of the user document that is highlighted right now pertains to authorization.\n",
    "\n",
    "Below the credentials is an array field called roles.\n",
    "\n",
    "Roles are one of the primary ways of granting privileges to a user.\n",
    "\n",
    "Each role is an alias for a collection of privileges.\n",
    "\n",
    "The roles that you see here read and readWrite are built in roles, meaning that they're included with MongoDB being so you don't need to create these roles by yourself.\n",
    "\n",
    "MongoDB be created these roles so administrators can easily group privileges together.\n",
    "\n",
    "But admins also have the ability to create their own custom roles with any privileges that they choose.\n",
    "\n",
    "So the first role was the readRole on the accounts database.\n",
    "\n",
    "Having the role and no other privileges on the accounts database means that the account analytics user can read data from the accounts database but it can't write any new data.\n",
    "\n",
    "This user also has the readWrite role on the analytics database.\n",
    "\n",
    "This means that our user can read data and the analytics database as well as writing new data to that database.\n",
    "\n",
    "MongoDB's access control system allows us to issue permissions to users in this granular way.\n",
    "\n",
    "So administrators have greater control over what actions users are allowed to perform."
   ]
  },
  {
   "cell_type": "markdown",
   "id": "d1a245aa",
   "metadata": {},
   "source": [
    "<img src=\"img/2.png\">"
   ]
  },
  {
   "cell_type": "raw",
   "id": "2b34905a",
   "metadata": {},
   "source": [
    "Let's recap what we learned.\n",
    "\n",
    "Authentication is the process of determining who you are.\n",
    "\n",
    "The database prompts users for credentials to prove their trust and users can send a username and password as their credentials.\n",
    "\n",
    "Authorization is the process of determining what you can do.\n",
    "\n",
    "Different users have varying levels of database access.\n",
    "\n",
    "And MongoDB contains built in roles for specific users such as read and readWrite."
   ]
  },
  {
   "cell_type": "markdown",
   "id": "8588cb23",
   "metadata": {},
   "source": [
    "### 範例01"
   ]
  },
  {
   "cell_type": "raw",
   "id": "8c1252aa",
   "metadata": {},
   "source": [
    "Label each operation depending on whether they are representative of authentication, authorization, or both:"
   ]
  },
  {
   "cell_type": "raw",
   "id": "702a2e88",
   "metadata": {},
   "source": [
    "[ authentication ] Resetting the wifi password.\n",
    "[ authorization ] Preventing students from seeing each others' grades on your school's grading platform.\n",
    "[ ahthorization ] Requesting permission to view a colleague's e-document.\n",
    "[ ahthentication ] Receiving a \"wrong password\" error when trying to login to your bank account.\n",
    "[ both ] Allowing your friend to login to your account on a TV streaming service, so they can watch their\n",
    "                   favorite show.\n",
    "[ authentication ] Keeping your email account credentials written down on a piece of paper."
   ]
  },
  {
   "cell_type": "markdown",
   "id": "d6fe34b6",
   "metadata": {},
   "source": [
    "# Review the QA Feedback"
   ]
  },
  {
   "cell_type": "raw",
   "id": "b1818db6",
   "metadata": {},
   "source": [
    "Opening the file mongod.conf:"
   ]
  },
  {
   "cell_type": "code",
   "execution_count": null,
   "id": "2a06fb0d",
   "metadata": {},
   "outputs": [],
   "source": [
    "vi mongod.conf"
   ]
  },
  {
   "cell_type": "raw",
   "id": "77f216db",
   "metadata": {},
   "source": [
    "The new section of the configuration file that enables authentication and authorization:"
   ]
  },
  {
   "cell_type": "code",
   "execution_count": null,
   "id": "a24007a5",
   "metadata": {},
   "outputs": [],
   "source": [
    "security:\n",
    "  authorization: enabled"
   ]
  },
  {
   "cell_type": "raw",
   "id": "b406f768",
   "metadata": {},
   "source": [
    "Shutting down the server:"
   ]
  },
  {
   "cell_type": "code",
   "execution_count": null,
   "id": "ff533317",
   "metadata": {},
   "outputs": [],
   "source": [
    "mongo admin --port 27001 --eval 'db.shutdownServer()'"
   ]
  },
  {
   "cell_type": "raw",
   "id": "f4ef316c",
   "metadata": {},
   "source": [
    "Restarting the server with mongod.conf:"
   ]
  },
  {
   "cell_type": "code",
   "execution_count": null,
   "id": "cefe194a",
   "metadata": {},
   "outputs": [],
   "source": [
    "mongod -f mongod.conf"
   ]
  },
  {
   "cell_type": "raw",
   "id": "5e1b65cd",
   "metadata": {},
   "source": [
    "Connecting to MongoDB on port 27001:"
   ]
  },
  {
   "cell_type": "code",
   "execution_count": null,
   "id": "b727249d",
   "metadata": {},
   "outputs": [],
   "source": [
    "mongo --port 27001"
   ]
  },
  {
   "cell_type": "raw",
   "id": "c246ec6e",
   "metadata": {},
   "source": [
    "Running a find() query on the accounts database:"
   ]
  },
  {
   "cell_type": "code",
   "execution_count": null,
   "id": "1cc1b4d2",
   "metadata": {},
   "outputs": [],
   "source": [
    "db.accounts.find( {}, { name: 1, ssn: 1 } )"
   ]
  },
  {
   "cell_type": "markdown",
   "id": "abb75c33",
   "metadata": {},
   "source": [
    "# Creating the First User"
   ]
  },
  {
   "cell_type": "raw",
   "id": "710a5f21",
   "metadata": {},
   "source": [
    "In this lesson, we'll discuss creating the first user in MongoDB while authentication is enabled, and then we'll log in or authenticate as that user.\n",
    "\n",
    "So let's briefly discuss the scenario where authentication is disabled.\n",
    "\n",
    "Here the user is trying to create a new user, Matt, with the password I love cats.\n",
    "\n",
    "In the case where authentication is disabled, we can just create a user as soon as we connect to the database.\n",
    "\n",
    "The database won't enforce authentication so anyone can perform any actions that they want.\n",
    "\n",
    "However, most database deployments require authentication all the time.\n",
    "\n",
    "If authentication is being enforced, this user will not be able to run this Create user command.\n",
    "\n",
    "The database will say, who are you?\n",
    "\n",
    "And then prompt the user for their username and password.\n",
    "\n",
    "The issue is that there are no username and password combinations that the server would accept, because the server doesn't have any users yet.\n",
    "\n",
    "Essentially, we need a way of creating the very first user on the database while the database is still enforcing authentication.\n",
    "\n",
    "To get around this, we will use something called the localhost exception.\n",
    "\n",
    "And this is a new term, so let's discuss it."
   ]
  },
  {
   "cell_type": "markdown",
   "id": "65ce626a",
   "metadata": {},
   "source": [
    "<img src=\"img/3.png\">"
   ]
  },
  {
   "cell_type": "raw",
   "id": "aac8217b",
   "metadata": {},
   "source": [
    "The localhost exception is an exception that allows you to create one single user without having to authenticate first.\n",
    "\n",
    "It says, that while authentication is enabled, allow for the creation of one user.\n",
    "\n",
    "This directly pertains to the scenario where authentication is enabled but no users exist yet.\n",
    "\n",
    "The caveat here is that it must be the very first user.\n",
    "\n",
    "If a user already exists in the database, the localhost exception cannot be used.\n",
    "\n",
    "The next important thing to note is that you must be connected via localhost in order to use the localhost exception.\n",
    "\n",
    "Localhost is a special type of connection that can only be made locally.\n",
    "\n",
    "Meaning that if you want to connect to a machine via localhost, you have to already have access to the physical machine.\n",
    "\n",
    "The idea is if we can't enforce authentication for creating the first user, we can at least ensure that whoever creates that first user has access to the physical server, where MongoDB is running.\n",
    "\n",
    "This is usually an administrator or some other database owner.\n",
    "\n",
    "OK.\n",
    "\n",
    "Now that we've discussed how the localhost exception works, let's use it to create our first database user.\n",
    "\n",
    "So I'm just going to print out the configuration file that I use to start MongoDB.\n",
    "\n",
    "You can see that I've already enabled authentication here."
   ]
  },
  {
   "cell_type": "markdown",
   "id": "38956477",
   "metadata": {},
   "source": [
    "---"
   ]
  },
  {
   "cell_type": "code",
   "execution_count": null,
   "id": "8cd92b47",
   "metadata": {},
   "outputs": [],
   "source": [
    "Printing out the configuration file:"
   ]
  },
  {
   "cell_type": "code",
   "execution_count": null,
   "id": "624abeb2",
   "metadata": {},
   "outputs": [],
   "source": [
    "cat ~/workspace/mongod.conf"
   ]
  },
  {
   "cell_type": "markdown",
   "id": "52e83653",
   "metadata": {},
   "source": [
    "---"
   ]
  },
  {
   "cell_type": "raw",
   "id": "bf11dc6c",
   "metadata": {},
   "source": [
    "This means that MongoDB should prompt us to authenticate before we can do anything.\n",
    "\n",
    "However, there aren't any users on the server yet, which means that we'll need to use the localhost exception to create the very first user.\n",
    "\n",
    "So I'll connect via localhost to MongoDB.\n",
    "\n",
    "By the way, you can find the commands that I'm typing in the lecture notes for this lesson.\n",
    "\n",
    "You can use these commands as you complete the assignments throughout this course."
   ]
  },
  {
   "cell_type": "markdown",
   "id": "7178c923",
   "metadata": {},
   "source": [
    "---"
   ]
  },
  {
   "cell_type": "raw",
   "id": "7333e594",
   "metadata": {},
   "source": [
    "Connecting to MongoDB:"
   ]
  },
  {
   "cell_type": "code",
   "execution_count": null,
   "id": "f9fc9577",
   "metadata": {},
   "outputs": [],
   "source": [
    "mongo --host localhost:27001"
   ]
  },
  {
   "cell_type": "raw",
   "id": "0d643e76",
   "metadata": {},
   "source": [
    "Retrieving all users:"
   ]
  },
  {
   "cell_type": "code",
   "execution_count": null,
   "id": "87fb627c",
   "metadata": {},
   "outputs": [],
   "source": [
    "db.getUsers()"
   ]
  },
  {
   "cell_type": "markdown",
   "id": "4919f779",
   "metadata": {},
   "source": [
    "---"
   ]
  },
  {
   "cell_type": "raw",
   "id": "63deea2c",
   "metadata": {},
   "source": [
    "So because we enabled the authentication this time, we can't run any operations without authenticating first, it's going to tell us that we're not authorized.\n",
    "\n",
    "The first user I create should always be a global user administrator, and I need to create this first user on the admin database.\n",
    "\n",
    "So I'm just going to switch to admin.\n",
    "\n",
    "So here's the command I'll use to create the very first user."
   ]
  },
  {
   "cell_type": "markdown",
   "id": "31eae7aa",
   "metadata": {},
   "source": [
    "---"
   ]
  },
  {
   "cell_type": "raw",
   "id": "bb2dfaa9",
   "metadata": {},
   "source": [
    "Switching to the admin database:"
   ]
  },
  {
   "cell_type": "code",
   "execution_count": null,
   "id": "c094a303",
   "metadata": {},
   "outputs": [],
   "source": [
    "use admin"
   ]
  },
  {
   "cell_type": "raw",
   "id": "165a7522",
   "metadata": {},
   "source": [
    "Creating the user administrator:"
   ]
  },
  {
   "cell_type": "code",
   "execution_count": null,
   "id": "8270c6dd",
   "metadata": {},
   "outputs": [],
   "source": [
    "db.createUser({\n",
    "  user: \"globalAdminUser\",\n",
    "  pwd: \"5xd49$4%0bef#6c&b*d\",\n",
    "  roles: [ { role: \"userAdminAnyDatabase\", db: \"admin\" } ]\n",
    "});"
   ]
  },
  {
   "cell_type": "markdown",
   "id": "dcde0de4",
   "metadata": {},
   "source": [
    "---"
   ]
  },
  {
   "cell_type": "raw",
   "id": "676f4e7f",
   "metadata": {},
   "source": [
    "I've chosen the name Global admin user, the password, which is secure password.\n",
    "\n",
    "And the only role that I've specified for this user is the user admin any database role on the admin database.\n",
    "\n",
    "And it looks like that was successful.\n",
    "\n",
    "So just as a reminder, the localhost exception is only available once.\n",
    "\n",
    "So if I try to create a second user right away it will tell me that I need to authenticate first.\n",
    "\n",
    "This is because we have created the very first user but we haven't actually authenticated as that user yet.\n",
    "\n",
    "So now I'm authenticated as a user with the role user admin any database."
   ]
  },
  {
   "cell_type": "markdown",
   "id": "5257ef54",
   "metadata": {},
   "source": [
    "---"
   ]
  },
  {
   "cell_type": "code",
   "execution_count": null,
   "id": "64c9dd2f",
   "metadata": {},
   "outputs": [],
   "source": [
    "# 會失敗\n",
    "db.createUser({\n",
    "  user: \"clusterAdminAny\",\n",
    "  pwd: \"a*0f7@2c6#b4f%$d6c^c7d\",\n",
    "  roles: [ \"clusterAdmin\" ]\n",
    "})"
   ]
  },
  {
   "cell_type": "raw",
   "id": "e3431fcb",
   "metadata": {},
   "source": [
    "Authenticating as the user administrator:"
   ]
  },
  {
   "cell_type": "code",
   "execution_count": null,
   "id": "0032d59e",
   "metadata": {},
   "outputs": [],
   "source": [
    "db.auth( \"globalAdminUser\", \"5xd49$4%0bef#6c&b*d\" )"
   ]
  },
  {
   "cell_type": "raw",
   "id": "20659a41",
   "metadata": {},
   "source": [
    "Creating a cluster administrator:"
   ]
  },
  {
   "cell_type": "code",
   "execution_count": null,
   "id": "22e7f4b2",
   "metadata": {},
   "outputs": [],
   "source": [
    "db.createUser({\n",
    "  user: \"clusterAdminAny\",\n",
    "  pwd: \"a*0f7@2c6#b4f%$d6c^c7d\",\n",
    "  roles: [ \"clusterAdmin\" ]\n",
    "})"
   ]
  },
  {
   "cell_type": "markdown",
   "id": "ab15076e",
   "metadata": {},
   "source": [
    "---"
   ]
  },
  {
   "cell_type": "raw",
   "id": "3aac747a",
   "metadata": {},
   "source": [
    "But if I want to run other cluster wide operations like replicating the data or distributing it, I need to create another user.\n",
    "\n",
    "So now that I'm authenticated I can create this second user.\n",
    "\n",
    "The role that I've assigned this user, cluster admin is one of the most powerful roles in the cluster and it's only available from the admin database.\n",
    "\n",
    "And it looks like that was successful.\n",
    "\n",
    "So now we have two users.\n",
    "\n",
    "We have our very first user used to administer other users and we also have a user to administer the cluster.\n",
    "\n",
    "So we would normally go on to create any additional users needed by the developers who use the database, but for now let's just recap.\n",
    "\n",
    "To create the initial database users in MongoDB while authentication is enabled, we have to connect to MongoDB via localhost, create a user administrator with the role user admin any database, and then authenticate as the new user administrator.\n",
    "\n",
    "And then we can go on to create additional users as the new user administrator."
   ]
  },
  {
   "cell_type": "markdown",
   "id": "99f4e5ae",
   "metadata": {},
   "source": [
    "<img src=\"img/4.png\">"
   ]
  }
 ],
 "metadata": {
  "kernelspec": {
   "display_name": "Python 3",
   "language": "python",
   "name": "python3"
  },
  "language_info": {
   "codemirror_mode": {
    "name": "ipython",
    "version": 3
   },
   "file_extension": ".py",
   "mimetype": "text/x-python",
   "name": "python",
   "nbconvert_exporter": "python",
   "pygments_lexer": "ipython3",
   "version": "3.8.10"
  }
 },
 "nbformat": 4,
 "nbformat_minor": 5
}
