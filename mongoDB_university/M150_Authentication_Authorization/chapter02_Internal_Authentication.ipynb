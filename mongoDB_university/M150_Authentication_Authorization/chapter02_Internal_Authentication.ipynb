{
 "cells": [
  {
   "cell_type": "markdown",
   "id": "e1dfecea",
   "metadata": {},
   "source": [
    "# Internal Authentication"
   ]
  },
  {
   "cell_type": "raw",
   "id": "663b37a7",
   "metadata": {},
   "source": [
    "In this lesson we'll discuss internal authentication.\n",
    "\n",
    "We'll start by defining the term internal authentication.\n",
    "\n",
    "Then we'll discuss why it's important and what could happen if we don't enable it.\n",
    "\n",
    "So until this point, we've discussed how users from outside MongoDB connect to MongoDB and then authenticate.\n",
    "\n",
    "By asking outside users to authenticate, MongoDB can verify a user's identity before they connect to MongoDB.\n",
    "\n",
    "But a MongoDB cluster often consists of more than one instance of MongoDB.\n",
    "\n",
    "So let's look at an example.\n",
    "\n",
    "A MongoDB replica set is a group of MongoDB instances that together provide high availability.\n",
    "\n",
    "And these different instances need to communicate with each other.\n",
    "\n",
    "The outside users are still authenticating to MongoDB, so the connection from the user to the replica set is still secure.\n",
    "\n",
    "But we also need to secure the connection between each instance of MongoDB.\n",
    "\n",
    "The way internal connections are secured in MongoDB is called internal authentication and this is a new vocab word so let's define it."
   ]
  },
  {
   "cell_type": "markdown",
   "id": "55747367",
   "metadata": {},
   "source": [
    "<img src=\"img/12.png\">"
   ]
  },
  {
   "cell_type": "raw",
   "id": "1110ca42",
   "metadata": {},
   "source": [
    "Internal authentication verifies the identity of one MongoDB instance to another.\n",
    "\n",
    "Internal authentication is very important to the security of a MongoDB replica set because it prevents unauthorized MongoDB instances from joining the set and then replicating data.\n",
    "\n",
    "In a replica set where internal authentication is not enabled there is no mechanism for verifying new MongoDB instances that join the cluster.\n",
    "\n",
    "So the replica set members don't know who they can trust.\n",
    "\n",
    "Theoretically, an attacker might be able to add a rogue secondary member to this replica set, and then siphon any data that was being replicated from the primary.\n",
    "\n",
    "This could allow someone to read sensitive data from a replica set.\n",
    "\n",
    "Let's explore how a person could do this."
   ]
  },
  {
   "cell_type": "markdown",
   "id": "40486ca3",
   "metadata": {},
   "source": [
    "<img src=\"img/13.png\">"
   ]
  },
  {
   "cell_type": "raw",
   "id": "c6c3152f",
   "metadata": {},
   "source": [
    "In order to add a rogue member to this replica set, the attacker would need to do two things first.\n",
    "\n",
    "One they would have to connect to the primary node in this replica set and two they would need to authenticate to the primary as a cluster admin or some other user with the privilege to add new members to the replica set.\n",
    "\n",
    "Let's recap what we learned.\n",
    "\n",
    "Internal authentication verifies the identity of one MongoDB instance to another.\n",
    "\n",
    "Without internal authentication somebody could add a rogue member to a replica set.\n",
    "\n",
    "But a rogue member can only be added if the attacker has access to the primary node and the login credentials for a cluster admin user."
   ]
  },
  {
   "cell_type": "markdown",
   "id": "a2a3825a",
   "metadata": {},
   "source": [
    "### 範例01"
   ]
  },
  {
   "cell_type": "raw",
   "id": "c34fd8a3",
   "metadata": {},
   "source": [
    "There is a small company called Bingo that uses a replica set to store customer account data. However, their replica set does not use internal authentication, which exposes their data to outside intruders."
   ]
  },
  {
   "cell_type": "raw",
   "id": "e5c7dd16",
   "metadata": {},
   "source": [
    "Sort the following steps so they follow the process a hacker would use to exploit a replica set that doesn't use internal authentication.\n",
    "\n",
    "The first step is given to you here:\n",
    "\n",
    "Gain access to the login credentials for the clusterAdmin user of the replica set.\n",
    "\n",
    "Note: ClusterAdmin doesn't grant the privilege to read data, but it does grant the privilege to create a secondary member that reads data."
   ]
  },
  {
   "cell_type": "raw",
   "id": "7cc4457b",
   "metadata": {},
   "source": [
    "1. Gain access to the login credentials for the clusterAdmin user of the replica set.\n",
    "\n",
    "Without valid login credentials for a user with the clusterAdmin role, a hacker cannot add a rogue secondary member.\n",
    "\n",
    "2. Connect to the primary member of the replica set.\n",
    "\n",
    "In order to add a rogue secondary member, the hacker must first connect to the primary member of the replica set.\n",
    "\n",
    "3. Authenticate as the cluster administrator.\n",
    "\n",
    "Once connected to the primary member of the replica set, the hacker needs to authenticate as a user with the privilege to add new members to the replica set.\n",
    "\n",
    "4. Deploy and add the rogue member to the replica set.\n",
    "\n",
    "Once the hacker is connected to the primary member and authenticated as the clusterAdmin user, they can deploy a rogue replica set member and add it to the replica set."
   ]
  },
  {
   "cell_type": "markdown",
   "id": "f03a01a1",
   "metadata": {},
   "source": [
    "# Internal Authentication with Keyfiles"
   ]
  },
  {
   "cell_type": "raw",
   "id": "be364570",
   "metadata": {},
   "source": [
    "Now that we've covered the importance of internal authentication and what might happen if we don't enable it, we're going to cover how to implement it.\n",
    "\n",
    "So let's look at an example of a replica set.\n",
    "\n",
    "Currently, the members of this replica set don't have to authenticate to each other when joining the replica set or replicating data from the primary.\n",
    "\n",
    "This is dangerous, because if a bad actor gains admin access to the primary, they could potentially add their own rogue member to the replica set.\n",
    "\n",
    "So to mitigate this, we're going to implement SCRAM internal authentication.\n",
    "\n",
    "We've actually already looked at SCRAM authentication in chapter 1 when we discuss usernames and passwords as credentials for authentication.\n",
    "\n",
    "However, when SCRAM is used for internal authentication, it accepts keyfiles as credentials instead.\n",
    "\n",
    "A keyfile is a file with a very long password.\n",
    "\n",
    "The keyfile is copied over to each member of the replica set and it must be presented to other members during authentication.\n",
    "\n",
    "So now that we've seen a diagram of SCRAM internal authentication, let's move to the command line and start implementing it.\n",
    "\n",
    "All right, so to begin, I'm going to identify the keyfiles that each member will use to authenticate.\n",
    "\n",
    "So here's the keyfile for the first member, here's the keyfile for the second member, and here's the keyfile for the third member.\n",
    "\n",
    "So all these keyfiles have the same contents, but I just want to note that we have three copies of it."
   ]
  },
  {
   "cell_type": "markdown",
   "id": "91f74c03",
   "metadata": {},
   "source": [
    "---"
   ]
  },
  {
   "cell_type": "raw",
   "id": "e81ab522",
   "metadata": {},
   "source": [
    "Identifying one of the keyfiles in the Unix shell:"
   ]
  },
  {
   "cell_type": "code",
   "execution_count": null,
   "id": "bac4288c",
   "metadata": {},
   "outputs": [],
   "source": [
    "ls /var/mongodb/pki/1/mongod-keyfile"
   ]
  },
  {
   "cell_type": "markdown",
   "id": "d75662a8",
   "metadata": {},
   "source": [
    "---"
   ]
  },
  {
   "cell_type": "raw",
   "id": "57d696d3",
   "metadata": {},
   "source": [
    "All right, so now that we know that our keyfiles are in place, we can modify the configuration files to include links to these keyfiles.\n",
    "\n",
    "I'm going to open this first configuration file using vi, but if you're doing this in the IDE later, you can use the file editor instead of opening this file from the command line.\n",
    "\n",
    "So I'm going to edit the firs t member's configuration to use the keyfile.\n",
    "\n",
    "And as a note, the keyfile configuration option implicitly turns on authentication for replica set members and MongoDB users.\n",
    "\n",
    "So instead of writing \"authorization enabled\" in addition to the keyfile option, we can just write \"keyfile\" to enforce both types of authentication.\n",
    "\n",
    "So now I'm going to edit the second member's configuration.\n",
    "\n",
    "And now I'll update the third member's configuration."
   ]
  },
  {
   "cell_type": "markdown",
   "id": "bd1034f7",
   "metadata": {},
   "source": [
    "---"
   ]
  },
  {
   "cell_type": "raw",
   "id": "b11ddb78",
   "metadata": {},
   "source": [
    "The new section of the configuration file that enables internal authentication:"
   ]
  },
  {
   "cell_type": "code",
   "execution_count": null,
   "id": "b1d4e468",
   "metadata": {},
   "outputs": [],
   "source": [
    "security:\n",
    "  keyFile: /var/mongodb/pki/1/mongod-keyfile"
   ]
  },
  {
   "cell_type": "markdown",
   "id": "f0b68acd",
   "metadata": {},
   "source": [
    "---"
   ]
  },
  {
   "cell_type": "raw",
   "id": "e0102140",
   "metadata": {},
   "source": [
    "OK, so at this stage, all three configuration files have been modified to use keyfiles for internal authentication.\n",
    "\n",
    "Now we just need to start each replica set member with the new configuration.\n",
    "\n",
    "So here's the first one, it looks OK.\n",
    "\n",
    "Here's the second one, it looks OK.\n",
    "\n",
    "And the third one, yep, looks OK."
   ]
  },
  {
   "cell_type": "markdown",
   "id": "4aeeb4f3",
   "metadata": {},
   "source": [
    "---"
   ]
  },
  {
   "cell_type": "raw",
   "id": "fe696614",
   "metadata": {},
   "source": [
    "Deploying MongoDB with mongod1-auth.conf:"
   ]
  },
  {
   "cell_type": "code",
   "execution_count": null,
   "id": "85d7f455",
   "metadata": {},
   "outputs": [],
   "source": [
    "mongod -f mongod1-auth.conf"
   ]
  },
  {
   "cell_type": "markdown",
   "id": "2981da42",
   "metadata": {},
   "source": [
    "---"
   ]
  },
  {
   "cell_type": "raw",
   "id": "969c8858",
   "metadata": {},
   "source": [
    "So now that all the members are up and running, I'm going to initiate the replica set.\n",
    "\n",
    "So first, I'll connect to one of the members of the replica set, and I will run rs.initiate to initiate the replica set.\n",
    "\n",
    "So it looks like the set has been initiated, so after a few seconds it should tell me that I'm connected to the primary node."
   ]
  },
  {
   "cell_type": "markdown",
   "id": "d1e0cb16",
   "metadata": {},
   "source": [
    "---"
   ]
  },
  {
   "cell_type": "raw",
   "id": "ab9d0e1f",
   "metadata": {},
   "source": [
    "Connecting to MongoDB on port 27001:"
   ]
  },
  {
   "cell_type": "code",
   "execution_count": null,
   "id": "c4929127",
   "metadata": {},
   "outputs": [],
   "source": [
    "mongo admin --host localhost:27001"
   ]
  },
  {
   "cell_type": "raw",
   "id": "4c5c700c",
   "metadata": {},
   "source": [
    "Initiating the replica set:"
   ]
  },
  {
   "cell_type": "code",
   "execution_count": null,
   "id": "86d7c744",
   "metadata": {},
   "outputs": [],
   "source": [
    "rs.initiate()"
   ]
  },
  {
   "cell_type": "markdown",
   "id": "5c5d9774",
   "metadata": {},
   "source": [
    "---"
   ]
  },
  {
   "cell_type": "raw",
   "id": "eccc13eb",
   "metadata": {},
   "source": [
    "So now, because we connected to this member over localhost, I can create the first user using the localhost exception.\n",
    "\n",
    "So I'm going to switch to the admin database, and I'll create our user administrator on the admin database.\n",
    "\n",
    "And it looks like it was successful.\n",
    "\n",
    "So that's our first user."
   ]
  },
  {
   "cell_type": "markdown",
   "id": "a8ad3c58",
   "metadata": {},
   "source": [
    "---"
   ]
  },
  {
   "cell_type": "raw",
   "id": "4b1538f6",
   "metadata": {},
   "source": [
    "Creating the global user administrator:"
   ]
  },
  {
   "cell_type": "code",
   "execution_count": null,
   "id": "ab1c86c0",
   "metadata": {},
   "outputs": [],
   "source": [
    "db.createUser({\n",
    "  user: \"globalUserAdmin\",\n",
    "  pwd: \"5xd49$4%0bef#6c&b*d\",\n",
    "  roles: [ \"userAdminAnyDatabase\" ]\n",
    "});"
   ]
  },
  {
   "cell_type": "markdown",
   "id": "c9d6d8a9",
   "metadata": {},
   "source": [
    "---"
   ]
  },
  {
   "cell_type": "raw",
   "id": "e7212667",
   "metadata": {},
   "source": [
    "Let's just authenticate as that user now.\n",
    "\n",
    "And it was successful."
   ]
  },
  {
   "cell_type": "markdown",
   "id": "a7b918a3",
   "metadata": {},
   "source": [
    "---"
   ]
  },
  {
   "cell_type": "raw",
   "id": "b57c8730",
   "metadata": {},
   "source": [
    "Authenticating as the user administrator:"
   ]
  },
  {
   "cell_type": "code",
   "execution_count": null,
   "id": "6fa832cf",
   "metadata": {},
   "outputs": [],
   "source": [
    "db.auth( \"globalUserAdmin\", \"5xd49$4%0bef#6c&b*d\" )"
   ]
  },
  {
   "cell_type": "markdown",
   "id": "96c1353f",
   "metadata": {},
   "source": [
    "---"
   ]
  },
  {
   "cell_type": "raw",
   "id": "b0bb5096",
   "metadata": {},
   "source": [
    "So at this point, the user administrator can do their job and create other users.\n",
    "\n",
    "So, we're done.\n",
    "\n",
    "So let's recap what we learned.\n",
    "\n",
    "To implement internal authentication in a three-member replica set using keyfiles, you must have three copies of the keyfile, with one available to each member, modify all three configuration files to link each keyfile, and then restart MongoDB with the new configuration, and lastly, create the first user using the localhost exception."
   ]
  },
  {
   "cell_type": "markdown",
   "id": "be47c673",
   "metadata": {},
   "source": [
    "# x.509: An Alternative to SCRAM"
   ]
  },
  {
   "cell_type": "raw",
   "id": "b7fc0cf2",
   "metadata": {},
   "source": [
    "In this lesson, we're going to discuss x.509, which is an alternative authentication mechanism to SCRAM.\n",
    "\n",
    "SCRAM is the default authentication mechanism, and it requires a username and a password as credentials.\n",
    "\n",
    "x.509 is another authentication mechanism, and it requires certificates as the credentials.\n",
    "\n",
    "A certificate is generally considered to be more secure than a username and a password, because it's longer and more complex.\n",
    "\n",
    "But first, what is an x.509 certificate?\n",
    "\n",
    "x.509 certificates are files that are primarily used for enabling Transport Layer Security, or TLS, between two servers.\n",
    "\n",
    "In this case, the two servers are the MongoDB server and the user connecting to MongoDB."
   ]
  },
  {
   "cell_type": "markdown",
   "id": "f6ce07a6",
   "metadata": {},
   "source": [
    "<img src=\"img/14.png\">"
   ]
  },
  {
   "cell_type": "raw",
   "id": "77256d9a",
   "metadata": {},
   "source": [
    "TLS is an encryption mechanism that scrambles(打亂) data while it's being sent over a network.\n",
    "\n",
    "By scrambling the data while it's in transit, outside intruders cannot understand what is being communicated.\n",
    "\n",
    "By using x.509 authentication, MongoDB can verify that both authentication and encryption are being used.\n",
    "\n",
    "When using x.509 internal authentication, each replica set member contains an x.509 certificate which is used to authenticate to the other members.\n",
    "\n",
    "This is different from SCRAM internal authentication, where the credential is a key file that is shared between all the members.\n",
    "\n",
    "And, in addition to the authentication happening internally, TLS is used for encryption between each member of this replica set."
   ]
  },
  {
   "cell_type": "markdown",
   "id": "d444f4ba",
   "metadata": {},
   "source": [
    "<img src=\"img/15.png\">"
   ]
  },
  {
   "cell_type": "raw",
   "id": "88054e6a",
   "metadata": {},
   "source": [
    "OK, let's recap what we've learned.\n",
    "\n",
    "x.509 internal authentication uses x.509 certificates as credentials instead of key files.\n",
    "\n",
    "By using x.509 internal authentication, MongoDB can verify that the members of a replica set are authenticating to each other, and it can encrypt the data sent over the network."
   ]
  },
  {
   "cell_type": "markdown",
   "id": "108157e6",
   "metadata": {},
   "source": [
    "### 範例01"
   ]
  },
  {
   "cell_type": "raw",
   "id": "cdfe1abf",
   "metadata": {},
   "source": [
    "In MongoDB, x.509 certificates can be used to enable:"
   ]
  },
  {
   "cell_type": "raw",
   "id": "e1ea7265",
   "metadata": {},
   "source": [
    "# Internal authentication\n",
    "\n",
    "This option is correct. When MongoDB is configured to use x.509 certificates, it can enable x.509 internal authentication.\n",
    "\n",
    "# TLS encryption\n",
    "\n",
    "This option is correct. X.509 certificates enable the use of TLS encryption.\n",
    "\n",
    "# SCRAM internal authentication\n",
    "\n",
    "This option is incorrect. X.509 certificates are not used for implementing SCRAM authentication.\n",
    "\n",
    "# 2-factor authentication\n",
    "\n",
    "This option is incorrect. X.509 certificates are not used for implementing 2-factor authentication."
   ]
  }
 ],
 "metadata": {
  "kernelspec": {
   "display_name": "Python 3",
   "language": "python",
   "name": "python3"
  },
  "language_info": {
   "codemirror_mode": {
    "name": "ipython",
    "version": 3
   },
   "file_extension": ".py",
   "mimetype": "text/x-python",
   "name": "python",
   "nbconvert_exporter": "python",
   "pygments_lexer": "ipython3",
   "version": "3.8.10"
  }
 },
 "nbformat": 4,
 "nbformat_minor": 5
}
