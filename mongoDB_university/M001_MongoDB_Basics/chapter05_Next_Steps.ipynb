{
 "cells": [
  {
   "cell_type": "markdown",
   "id": "b80f4c0e",
   "metadata": {},
   "source": [
    "# Atlas Features - More Data Explorer"
   ]
  },
  {
   "cell_type": "markdown",
   "id": "f559341e",
   "metadata": {},
   "source": [
    "### Atlas Features - More Data Explorer"
   ]
  },
  {
   "cell_type": "markdown",
   "id": "e50db5e6",
   "metadata": {},
   "source": [
    "### 範例01"
   ]
  },
  {
   "cell_type": "raw",
   "id": "37eef1b1",
   "metadata": {},
   "source": [
    "What actions are available to you via the Aggregation Builder in the Atlas Data Explorer?"
   ]
  },
  {
   "cell_type": "raw",
   "id": "d9f587f8",
   "metadata": {},
   "source": [
    "# Export pipeline to a programming language.\n",
    "\n",
    "This is correct.\n",
    "\n",
    "You can choose to export the pipeline to one of four programming languages, and select to view the import statements that are needed in the application for this pipeline to work.\n",
    "\n",
    "# Syntax for each selected aggregation stage.\n",
    "\n",
    "This is correct.\n",
    "\n",
    "When you select a stage the space to enter stage instructions has a syntax outline to help you recall what information the stage requires and in what format.\n",
    "\n",
    "# A preview of the data in the pipeline at each selected stage.\n",
    "\n",
    "This is correct.\n",
    "\n",
    "There is a sample of data, or the whole result set to the right of every stage that uses correct syntax in the aggregation pipeline builder in Atlas.\n",
    "\n",
    "# An indication of which indexes are used by the pipeline.\n",
    "\n",
    "This is incorrect.\n",
    "\n",
    "There is no information pertaining to indexes in the Atlas Aggregation Builder."
   ]
  },
  {
   "cell_type": "markdown",
   "id": "95c757fa",
   "metadata": {},
   "source": [
    "### Atlas Products and Options"
   ]
  },
  {
   "cell_type": "markdown",
   "id": "ca994fdc",
   "metadata": {},
   "source": [
    "### 範例01"
   ]
  },
  {
   "cell_type": "raw",
   "id": "4217e92a",
   "metadata": {},
   "source": [
    "What is MongoDB Charts?"
   ]
  },
  {
   "cell_type": "raw",
   "id": "ad531362",
   "metadata": {},
   "source": [
    "# A product that helps you build visualizations of the data stored in your Atlas Cluster.\n",
    "\n",
    "This is correct.\n",
    "\n",
    "Charts is available for all MongoDB Atlas Clusters and allows you to build visualizations of your data using the aggregation pipeline or even the MQL to filter data before creating charts.\n",
    "\n",
    "# A feature that displays performance data about your Atlas Cluster.\n",
    "\n",
    "This is incorrect.\n",
    "\n",
    "Atlas has a Performance advisor with regards to the index use, and schema anti-patterns. You can also see cluster performance metrics in Atlas, but that is not part of the Charts product.\n",
    "\n",
    "# An app that allows you to embed visualizations that are created in other applications into your website.\n",
    "\n",
    "This is incorrect.\n",
    "\n",
    "Charts allows you to embed dashboards into your application or website, but those dashboards are created in Charts, not in other applications."
   ]
  },
  {
   "cell_type": "markdown",
   "id": "1f6bb66d",
   "metadata": {},
   "source": [
    "### What is MongoDB Compass?"
   ]
  }
 ],
 "metadata": {
  "kernelspec": {
   "display_name": "Python 3",
   "language": "python",
   "name": "python3"
  },
  "language_info": {
   "codemirror_mode": {
    "name": "ipython",
    "version": 3
   },
   "file_extension": ".py",
   "mimetype": "text/x-python",
   "name": "python",
   "nbconvert_exporter": "python",
   "pygments_lexer": "ipython3",
   "version": "3.8.10"
  }
 },
 "nbformat": 4,
 "nbformat_minor": 5
}
