{
 "cells": [
  {
   "cell_type": "markdown",
   "id": "ae095216",
   "metadata": {},
   "source": [
    "# Comparison Operators"
   ]
  },
  {
   "cell_type": "markdown",
   "id": "6f60b2eb",
   "metadata": {},
   "source": [
    "<img src=\"img/4.png\">"
   ]
  },
  {
   "cell_type": "markdown",
   "id": "68d4171e",
   "metadata": {},
   "source": [
    "<img src=\"img/5.png\">"
   ]
  },
  {
   "cell_type": "raw",
   "id": "23dea4d0",
   "metadata": {},
   "source": [
    "Switch to this database:"
   ]
  },
  {
   "cell_type": "code",
   "execution_count": null,
   "id": "6e2fee4d",
   "metadata": {},
   "outputs": [],
   "source": [
    "use sample_training"
   ]
  },
  {
   "cell_type": "raw",
   "id": "5b122cfa",
   "metadata": {},
   "source": [
    "Find all documents where the tripduration was less than or equal to 70 seconds and the usertype was not Subscriber:"
   ]
  },
  {
   "cell_type": "code",
   "execution_count": null,
   "id": "df5eb0a1",
   "metadata": {},
   "outputs": [],
   "source": [
    "db.trips.find({\n",
    "    tripduration: { \"$lte\": 70 },\n",
    "    usertype: { \"$ne\": \"Subscriber\" }\n",
    "    \n",
    "}).pretty()"
   ]
  },
  {
   "cell_type": "raw",
   "id": "2091b6b7",
   "metadata": {},
   "source": [
    "Find all documents where the tripduration was less than or equal to 70 seconds and the usertype was Customer using a redundant equality operator:"
   ]
  },
  {
   "cell_type": "code",
   "execution_count": null,
   "id": "8e7677c0",
   "metadata": {},
   "outputs": [],
   "source": [
    "db.trips.find({ \n",
    "    \"tripduration\": { \"$lte\" : 70 },\n",
    "    \"usertype\": { \"$eq\": \"Customer\" }\n",
    "}).pretty()"
   ]
  },
  {
   "cell_type": "raw",
   "id": "41f7c7de",
   "metadata": {},
   "source": [
    "Find all documents where the tripduration was less than or equal to 70 seconds and the usertype was Customer using the implicit equality operator:"
   ]
  },
  {
   "cell_type": "code",
   "execution_count": null,
   "id": "8f154b7a",
   "metadata": {},
   "outputs": [],
   "source": [
    "db.trips.find({ \"tripduration\": { \"$lte\" : 70 },\n",
    "                \"usertype\": \"Customer\" }).pretty()"
   ]
  },
  {
   "cell_type": "markdown",
   "id": "4f22b98d",
   "metadata": {},
   "source": [
    "---"
   ]
  },
  {
   "cell_type": "raw",
   "id": "7ea6291c",
   "metadata": {},
   "source": [
    "# Query operators provide addtional ways to locate data within the database\n",
    "# Comparison operators specifically allow us to find data within a certain range\n",
    "  { <field>: { <operator>: <value> }}\n",
    "# \"$eq\" is used as the default operator when an operator is not specified"
   ]
  },
  {
   "cell_type": "markdown",
   "id": "b2728abe",
   "metadata": {},
   "source": [
    "### 範例01"
   ]
  },
  {
   "cell_type": "raw",
   "id": "81e342a1",
   "metadata": {},
   "source": [
    "How many documents in the sample_training.zips collection have fewer than 1000 people listed in the pop field?"
   ]
  },
  {
   "cell_type": "code",
   "execution_count": null,
   "id": "dd2d1712",
   "metadata": {},
   "outputs": [],
   "source": [
    "db.zips.find({\n",
    "    pop: { \"$lt\": 1000 }\n",
    "}).count()"
   ]
  },
  {
   "cell_type": "markdown",
   "id": "fa227e29",
   "metadata": {},
   "source": [
    "### 範例02"
   ]
  },
  {
   "cell_type": "raw",
   "id": "ebc44fce",
   "metadata": {},
   "source": [
    "What is the difference between the number of people born in 1998 and the number of people born after 1998 in the sample_training.trips collection?"
   ]
  },
  {
   "cell_type": "code",
   "execution_count": null,
   "id": "629e66d2",
   "metadata": {},
   "outputs": [],
   "source": [
    "db.trips.find({\n",
    "    \"birth year\": 1998\n",
    "}).count()\n",
    "\n",
    "\n",
    "db.trips.find({\n",
    "    \"birth year\": { \"$gt\": 1998 }\n",
    "}).count()"
   ]
  },
  {
   "cell_type": "markdown",
   "id": "78168759",
   "metadata": {},
   "source": [
    "# Logic Operators"
   ]
  },
  {
   "cell_type": "markdown",
   "id": "e44aaf76",
   "metadata": {},
   "source": [
    "<img src=\"img/6.png\">"
   ]
  },
  {
   "cell_type": "markdown",
   "id": "ea3d94fd",
   "metadata": {},
   "source": [
    "<img src=\"img/7.png\">"
   ]
  },
  {
   "cell_type": "code",
   "execution_count": null,
   "id": "7d878b80",
   "metadata": {},
   "outputs": [],
   "source": [
    "db.inspections.find({\n",
    "    \"$nor\": [ { result: \"No Violation Issued\" }, { result: \"Violation Issued\"}]\n",
    "}).pretty()"
   ]
  },
  {
   "cell_type": "markdown",
   "id": "373b2c34",
   "metadata": {},
   "source": [
    "### Implict $and"
   ]
  },
  {
   "cell_type": "raw",
   "id": "944f14e8",
   "metadata": {},
   "source": [
    "$and is used as the default operator when an operator is not specified\n",
    "{ sector: \"Mobile Food  Vendor - 881\", result: \"Warning\"}\n",
    "\n",
    "is the same as:\n",
    "{ \"$and\": [ { sector: \"Mobile Food  Vendor - 881\" }, { result: \"Warning\" }]}"
   ]
  },
  {
   "cell_type": "raw",
   "id": "ca550433",
   "metadata": {},
   "source": [
    "Find which student ids are > 25 and < 100 in the sample_training.grades collection\n",
    "{ \"$and\": [ { \"student_id\": { \"$gt\": 25}}, { \"student_id\": { \"$lt\": 100 }}]}\n",
    "\n",
    "better\n",
    "\n",
    "{ \"student_id\": { \"$gt\": 25, \"$lt\": 100 }}"
   ]
  },
  {
   "cell_type": "markdown",
   "id": "b30d7c99",
   "metadata": {},
   "source": [
    "### Explicit $and"
   ]
  },
  {
   "cell_type": "raw",
   "id": "bb6c22d1",
   "metadata": {},
   "source": [
    "When you need to include the same operator more than once in a query\n",
    "Using the routes collection find out how many CR2 and A81 airplanes come through the KNZ airport\n",
    "\n",
    "{ \"$or\": [ { \"dst_airport\": \"KZN\" }, { \"src_airport\": \"KZN\" }]}\n",
    "\n",
    "and\n",
    "\n",
    "{ \"$or\" [ { \"airplane\": \"CR2\" }, { \"airplane\": \"A81\" }]}"
   ]
  },
  {
   "cell_type": "code",
   "execution_count": null,
   "id": "e3c8b40f",
   "metadata": {},
   "outputs": [],
   "source": [
    "db.routes.find({ \"$and\": [ { \"$or\" :[ { \"dst_airport\": \"KZN\" },\n",
    "                                    { \"src_airport\": \"KZN\" }\n",
    "                                  ] },\n",
    "                          { \"$or\" :[ { \"airplane\": \"CR2\" },\n",
    "                                     { \"airplane\": \"A81\" } ] }\n",
    "                         ]}).pretty()"
   ]
  },
  {
   "cell_type": "markdown",
   "id": "ae890a8e",
   "metadata": {},
   "source": [
    "### 範例01"
   ]
  },
  {
   "cell_type": "raw",
   "id": "e9159b47",
   "metadata": {},
   "source": [
    "How many businesses in the sample_training.inspections dataset have the inspection result \"Out of Business\" and belong to the \"Home Improvement Contractor - 100\" sector?"
   ]
  },
  {
   "cell_type": "code",
   "execution_count": null,
   "id": "7a110b78",
   "metadata": {},
   "outputs": [],
   "source": [
    "db.inspections.find({\n",
    "    result: \"Out of Business\",\n",
    "    sector: \"Home Improvement Contractor - 100\"\n",
    "}).count()"
   ]
  },
  {
   "cell_type": "markdown",
   "id": "78268374",
   "metadata": {},
   "source": [
    "### 範例02"
   ]
  },
  {
   "cell_type": "raw",
   "id": "d57a6fa3",
   "metadata": {},
   "source": [
    "Which is the most succinct query to return all documents from the sample_training.inspections collection where the inspection date is either \"Feb 20 2015\", or \"Feb 21 2015\" and the company is not part of the \"Cigarette Retail Dealer - 127\" sector?"
   ]
  },
  {
   "cell_type": "code",
   "execution_count": null,
   "id": "9e4af8c5",
   "metadata": {},
   "outputs": [],
   "source": [
    "db.inspections.find({\n",
    "    \"$or\": [{ date: \"Feb 20 2015\"}, { date: \"Feb 21 2015\" }],\n",
    "    sector: { \"$ne\": \"Cigarette Retail Dealer - 127\" }\n",
    "}).pretty()"
   ]
  },
  {
   "cell_type": "markdown",
   "id": "e529d6b0",
   "metadata": {},
   "source": [
    "### 範例03"
   ]
  },
  {
   "cell_type": "raw",
   "id": "32cab1b2",
   "metadata": {},
   "source": [
    "How many zips in the sample_training.zips dataset are neither over-populated nor under-populated?\n",
    "\n",
    "In this case, we consider population of more than 1,000,000 to be over- populated and less than 5,000 to be under-populated."
   ]
  },
  {
   "cell_type": "code",
   "execution_count": null,
   "id": "9be7e1e1",
   "metadata": {},
   "outputs": [],
   "source": [
    "db.zips.find({\n",
    "    pop: { \"$gte\": 5000, \"$lte\": 1000000 }\n",
    "}).count()"
   ]
  },
  {
   "cell_type": "raw",
   "id": "c10e6b05",
   "metadata": {},
   "source": [
    "You could also use the $nor operator if you want to use a logic operator like so:"
   ]
  },
  {
   "cell_type": "code",
   "execution_count": null,
   "id": "4f1982fd",
   "metadata": {},
   "outputs": [],
   "source": [
    "db.zips.find({ \"$nor\": [ { \"pop\": { \"$lt\":5000 } },\n",
    "             { \"pop\": { \"$gt\": 1000000 } } ] } ).count()"
   ]
  },
  {
   "cell_type": "markdown",
   "id": "2065df87",
   "metadata": {},
   "source": [
    "### 範例04"
   ]
  },
  {
   "cell_type": "raw",
   "id": "d9216df5",
   "metadata": {},
   "source": [
    "How many companies in the sample_training.companies dataset were\n",
    "either founded in 2004\n",
    "       [and] either have the social category_code [or] web category_code,\n",
    "[or] were founded in the month of October\n",
    "       [and] also either have the social category_code [or] web category_code?"
   ]
  },
  {
   "cell_type": "code",
   "execution_count": null,
   "id": "8110c1df",
   "metadata": {},
   "outputs": [],
   "source": [
    "db.companies.find({\n",
    "    \"$and\": [{ \"$or\": [ { founded_year: 2004}, { founded_month: 10 }]}, { \"$or\": [ { category_code: \"web\" }, { category_code: \"social\" } ]}]\n",
    "}).count()"
   ]
  },
  {
   "cell_type": "markdown",
   "id": "92b73d83",
   "metadata": {},
   "source": [
    "# Expressive Query Operator"
   ]
  },
  {
   "cell_type": "markdown",
   "id": "8df1d1cf",
   "metadata": {},
   "source": [
    "### Expressive $expr"
   ]
  },
  {
   "cell_type": "raw",
   "id": "768755f8",
   "metadata": {},
   "source": [
    "$expr allows the use of aggregation expressions within the query language\n",
    "{ \"$expr\": { <expression> }}\n",
    "\n",
    "$expr allows us to use variables and conditional statements\n",
    "\n",
    "Can We compare fields within the same document to each other"
   ]
  },
  {
   "cell_type": "raw",
   "id": "87995d4e",
   "metadata": {},
   "source": [
    "Switch to this database:"
   ]
  },
  {
   "cell_type": "code",
   "execution_count": null,
   "id": "f633c351",
   "metadata": {},
   "outputs": [],
   "source": [
    "use sample_training"
   ]
  },
  {
   "cell_type": "raw",
   "id": "7ad362fd",
   "metadata": {},
   "source": [
    "Find all documents where the trip started and ended at the same station:"
   ]
  },
  {
   "cell_type": "code",
   "execution_count": null,
   "id": "8e197c14",
   "metadata": {},
   "outputs": [],
   "source": [
    "db.trips.find({\n",
    "    \"$expr\": {\n",
    "        \"$eq\": [ \"$end station id\", \"$start station id\"]\n",
    "    }\n",
    "}).count()"
   ]
  },
  {
   "cell_type": "raw",
   "id": "2fabaa64",
   "metadata": {},
   "source": [
    "Find all documents where the trip lasted longer than 1200 seconds, and started and ended at the same station:"
   ]
  },
  {
   "cell_type": "code",
   "execution_count": null,
   "id": "1bf5c3d8",
   "metadata": {},
   "outputs": [],
   "source": [
    "db.trips.find({\n",
    "    \"$expr\": {\n",
    "        \"$and\": [{ \"$eq\": [ \"$end station id\", \"$start station id\" ]}, { \"$gt\": [ \"$tripduration\", 1200 ]}]\n",
    "    }\n",
    "}).count()"
   ]
  },
  {
   "cell_type": "markdown",
   "id": "b226cc91",
   "metadata": {},
   "source": [
    "<img src=\"img/8.png\">"
   ]
  },
  {
   "cell_type": "markdown",
   "id": "e5ea6473",
   "metadata": {},
   "source": [
    "---"
   ]
  },
  {
   "cell_type": "raw",
   "id": "d4d7cfcf",
   "metadata": {},
   "source": [
    "# Allows for more complex queries and for comparing fields within a document\n",
    "# The $ can be used to access the field value\n",
    "# Syntax for comparison operators using aggregation:\n",
    "  { <operator>: { <field>, <value> }}"
   ]
  },
  {
   "cell_type": "markdown",
   "id": "195a15b8",
   "metadata": {},
   "source": [
    "### 範例01"
   ]
  },
  {
   "cell_type": "raw",
   "id": "453038df",
   "metadata": {},
   "source": [
    "Which of the following statements will find all the companies that have more employees than the year in which they were founded?"
   ]
  },
  {
   "cell_type": "code",
   "execution_count": null,
   "id": "c880a501",
   "metadata": {},
   "outputs": [],
   "source": [
    "(勾) db.companies.find(\n",
    "    { \"$expr\": { \"$lt\": [ \"$founded_year\", \"$number_of_employees\" ] } }\n",
    "  ).count()"
   ]
  },
  {
   "cell_type": "code",
   "execution_count": null,
   "id": "a53328c7",
   "metadata": {},
   "outputs": [],
   "source": [
    "( ) db.companies.find({ \"number_of_employees\": { \"$gt\":  \"$founded_year\" }\n",
    "                  }).count()"
   ]
  },
  {
   "cell_type": "code",
   "execution_count": null,
   "id": "015064dd",
   "metadata": {},
   "outputs": [],
   "source": [
    "( ) db.companies.find(\n",
    "  { \"$expr\": { \"$gt\": [ \"$founded_year\", \"$number_of_employees\" ] } }\n",
    ").count()"
   ]
  },
  {
   "cell_type": "code",
   "execution_count": null,
   "id": "256dac93",
   "metadata": {},
   "outputs": [],
   "source": [
    "(勾) db.companies.find(\n",
    "    { \"$expr\": { \"$gt\": [ \"$number_of_employees\", \"$founded_year\" ]} }\n",
    "  ).count()"
   ]
  },
  {
   "cell_type": "markdown",
   "id": "71a05881",
   "metadata": {},
   "source": [
    "### 範例02"
   ]
  },
  {
   "cell_type": "raw",
   "id": "9a656777",
   "metadata": {},
   "source": [
    "How many companies in the sample_training.companies collection have the same permalink as their twitter_username?"
   ]
  },
  {
   "cell_type": "code",
   "execution_count": null,
   "id": "6a018d53",
   "metadata": {},
   "outputs": [],
   "source": [
    "db.companies.find({\n",
    "    \"$expr\": { \"$eq\": [ \"$permalink\", \"$twitter_username\" ]}\n",
    "}).count()"
   ]
  },
  {
   "cell_type": "markdown",
   "id": "d6a10745",
   "metadata": {},
   "source": [
    "# Array Operators"
   ]
  },
  {
   "cell_type": "raw",
   "id": "8b9ba8ec",
   "metadata": {},
   "source": [
    "Querying an array field using an array returns only exact array matches"
   ]
  },
  {
   "cell_type": "code",
   "execution_count": null,
   "id": "d45023f0",
   "metadata": {},
   "outputs": [],
   "source": [
    "db.listingsAndReviews.find({\n",
    "    amenities: [ \"Shampoo\" ]\n",
    "}).pretty()"
   ]
  },
  {
   "cell_type": "raw",
   "id": "df84c851",
   "metadata": {},
   "source": [
    "Querying an array field using a single element will return all documents where the specified array field contains this given element"
   ]
  },
  {
   "cell_type": "code",
   "execution_count": null,
   "id": "0a05f43a",
   "metadata": {},
   "outputs": [],
   "source": [
    "db.listingsAndReviews.find({\n",
    "    amenities: \"Shampoo\" \n",
    "}).pretty()"
   ]
  },
  {
   "cell_type": "raw",
   "id": "9a598108",
   "metadata": {},
   "source": [
    "{ <array field>: { $size\": <number> }}\n",
    "Returns a cursor with all documents where the specified array field is exactly the given length"
   ]
  },
  {
   "cell_type": "code",
   "execution_count": null,
   "id": "749151ff",
   "metadata": {},
   "outputs": [],
   "source": [
    "db.listingsAndReviews.find({\n",
    "    amenities: { \"$size\": 20 }\n",
    "})"
   ]
  },
  {
   "cell_type": "raw",
   "id": "f52e4ba5",
   "metadata": {},
   "source": [
    "{ <array field>: { \"$all\": <array> }}\n",
    "Returns a cursor with all documents in which the specified array field contains all the given elements regardless of their order in the array"
   ]
  },
  {
   "cell_type": "code",
   "execution_count": null,
   "id": "92bc24b6",
   "metadata": {},
   "outputs": [],
   "source": [
    "db.listingsAndReviews.find({\n",
    "    amenities: { \"$all\": [ \"Shampoo\", \"Wifi\" ] }\n",
    "}).pretty()"
   ]
  },
  {
   "cell_type": "markdown",
   "id": "5e915c5c",
   "metadata": {},
   "source": [
    "### 範例01"
   ]
  },
  {
   "cell_type": "raw",
   "id": "a8421ca0",
   "metadata": {},
   "source": [
    "What is the name of the listing in the sample_airbnb.listingsAndReviews dataset that accommodates more than 6 people and has exactly 50 reviews?"
   ]
  },
  {
   "cell_type": "code",
   "execution_count": null,
   "id": "60c7e915",
   "metadata": {},
   "outputs": [],
   "source": [
    "db.listingsAndReviews.find({\n",
    "    accommodates: { \"$gt\": 6 },\n",
    "    reviews: { \"$size\": 50 }\n",
    "}, {_id: 0, name: 1}).pretty()"
   ]
  },
  {
   "cell_type": "markdown",
   "id": "23d25dde",
   "metadata": {},
   "source": [
    "### 範例02"
   ]
  },
  {
   "cell_type": "raw",
   "id": "d97c392c",
   "metadata": {},
   "source": [
    "Using the sample_airbnb.listingsAndReviews collection find out how many documents have the \"property_type\" \"House\", and include \"Changing table\" as one of the \"amenities\"?"
   ]
  },
  {
   "cell_type": "code",
   "execution_count": null,
   "id": "bc04ebed",
   "metadata": {},
   "outputs": [],
   "source": [
    "db.listingsAndReviews.find({\n",
    "    property_type: \"House\",\n",
    "    amenities: \"Changing table\"\n",
    "}).count()"
   ]
  },
  {
   "cell_type": "markdown",
   "id": "8034c1df",
   "metadata": {},
   "source": [
    "### 範例03"
   ]
  },
  {
   "cell_type": "raw",
   "id": "54c8f8f1",
   "metadata": {},
   "source": [
    "Which of the following queries will return all listings that have \"Free parking on premises\", \"Air conditioning\", and \"Wifi\" as part of their amenities, and have at least 2 bedrooms in the sample_airbnb.listingsAndReviews collection?"
   ]
  },
  {
   "cell_type": "code",
   "execution_count": null,
   "id": "5ca9aa04",
   "metadata": {},
   "outputs": [],
   "source": [
    "db.listingsAndReviews.find({\n",
    "    \"amenities\": { \"$all\": [ \"Free parking on premises\", \"Wifi\", \"Airconditioning\" ] }, \n",
    "    \"bedrooms\": { \"$gte\":  2 } \n",
    "}).pretty()"
   ]
  },
  {
   "cell_type": "markdown",
   "id": "c0c2946d",
   "metadata": {},
   "source": [
    "# Array Operators and Projection"
   ]
  },
  {
   "cell_type": "raw",
   "id": "89274d7e",
   "metadata": {},
   "source": [
    "Switch to this database:"
   ]
  },
  {
   "cell_type": "code",
   "execution_count": null,
   "id": "09ff52bd",
   "metadata": {},
   "outputs": [],
   "source": [
    "use sample_airbnb"
   ]
  },
  {
   "cell_type": "raw",
   "id": "faab5d80",
   "metadata": {},
   "source": [
    "Find all documents with exactly 20 amenities which include all the amenities listed in the query array, and display their price and address:"
   ]
  },
  {
   "cell_type": "code",
   "execution_count": null,
   "id": "e2792d1a",
   "metadata": {},
   "outputs": [],
   "source": [
    "db.listingsAndReviews.find({ \"amenities\":\n",
    "        { \"$size\": 20, \"$all\": [ \"Internet\", \"Wifi\",  \"Kitchen\", \"Heating\",\n",
    "                                 \"Family/kid friendly\", \"Washer\", \"Dryer\",\n",
    "                                 \"Essentials\", \"Shampoo\", \"Hangers\",\n",
    "                                 \"Hair dryer\", \"Iron\",\n",
    "                                 \"Laptop friendly workspace\" ] } },\n",
    "                            {\"price\": 1, \"address\": 1}).pretty()"
   ]
  },
  {
   "cell_type": "raw",
   "id": "811f3788",
   "metadata": {},
   "source": [
    "Find all documents that have Wifi as one of the amenities only include price and address in the resulting cursor:"
   ]
  },
  {
   "cell_type": "code",
   "execution_count": null,
   "id": "74c4fdbf",
   "metadata": {},
   "outputs": [],
   "source": [
    "db.listingsAndReviews.find({ \"amenities\": \"Wifi\" },\n",
    "                           { \"price\": 1, \"address\": 1, \"_id\": 0 }).pretty()"
   ]
  },
  {
   "cell_type": "raw",
   "id": "5228d414",
   "metadata": {},
   "source": [
    "Find all documents that have Wifi as one of the amenities only include price and address in the resulting cursor, also exclude ``\"maximum_nights\"``. **This will be an error:*"
   ]
  },
  {
   "cell_type": "code",
   "execution_count": null,
   "id": "68ef120c",
   "metadata": {},
   "outputs": [],
   "source": [
    "db.listingsAndReviews.find({ \"amenities\": \"Wifi\" },\n",
    "                           { \"price\": 1, \"address\": 1,\n",
    "                             \"_id\": 0, \"maximum_nights\":0 }).pretty()"
   ]
  },
  {
   "cell_type": "raw",
   "id": "9a01aebf",
   "metadata": {},
   "source": [
    "Switch to this database:"
   ]
  },
  {
   "cell_type": "code",
   "execution_count": null,
   "id": "126ff0ed",
   "metadata": {},
   "outputs": [],
   "source": [
    "use sample_training"
   ]
  },
  {
   "cell_type": "raw",
   "id": "979e158b",
   "metadata": {},
   "source": [
    "Get one document from the collection:"
   ]
  },
  {
   "cell_type": "code",
   "execution_count": null,
   "id": "4ed095c8",
   "metadata": {},
   "outputs": [],
   "source": [
    "db.grades.findOne()"
   ]
  },
  {
   "cell_type": "raw",
   "id": "b67d8c31",
   "metadata": {},
   "source": [
    "Find all documents where the student in class 431 received a grade higher than 85 for any type of assignment:"
   ]
  },
  {
   "cell_type": "code",
   "execution_count": null,
   "id": "610af7db",
   "metadata": {},
   "outputs": [],
   "source": [
    "# 在做 projection，使用 $elemMatch\n",
    "db.grades.find({\n",
    "    class_id: 431\n",
    "}, {scores: { \"$elemMatch\": { \"score\": { \"$gt\": 85 }}}} ).pretty()"
   ]
  },
  {
   "cell_type": "raw",
   "id": "45de72d8",
   "metadata": {},
   "source": [
    "Find all documents where the student had an extra credit score:"
   ]
  },
  {
   "cell_type": "code",
   "execution_count": null,
   "id": "ac65ad7b",
   "metadata": {},
   "outputs": [],
   "source": [
    "db.grades.find({\n",
    "    scores: { \"$elemMatch\": { \"type\": \"extra credit\" }}\n",
    "}).pretty()"
   ]
  },
  {
   "cell_type": "markdown",
   "id": "82afc236",
   "metadata": {},
   "source": [
    "<img src=\"img/9.png\">"
   ]
  },
  {
   "cell_type": "markdown",
   "id": "6cc005a6",
   "metadata": {},
   "source": [
    "### 範例01"
   ]
  },
  {
   "cell_type": "raw",
   "id": "fb1849be",
   "metadata": {},
   "source": [
    "How many companies in the sample_training.companies collection have offices in the city of Seattle?"
   ]
  },
  {
   "cell_type": "code",
   "execution_count": null,
   "id": "87e63b75",
   "metadata": {},
   "outputs": [],
   "source": [
    "db.companies.find({\n",
    "    offices: { \"$elemMatch\": { \"city\": \"Seattle\" }}\n",
    "}).count()"
   ]
  },
  {
   "cell_type": "markdown",
   "id": "4cfdd025",
   "metadata": {},
   "source": [
    "# Array Operators and Sub-Documents"
   ]
  },
  {
   "cell_type": "code",
   "execution_count": null,
   "id": "9f5b5259",
   "metadata": {},
   "outputs": [],
   "source": [
    "use sample_training"
   ]
  },
  {
   "cell_type": "code",
   "execution_count": null,
   "id": "4d1814c9",
   "metadata": {},
   "outputs": [],
   "source": [
    "# 用 . 可以到 sub-document \n",
    "db.trips.findOne({ \"start station location.type\": \"Point\" })"
   ]
  },
  {
   "cell_type": "code",
   "execution_count": null,
   "id": "d84dee78",
   "metadata": {},
   "outputs": [],
   "source": [
    "# 用數字來表示要 array 的第幾個元素\n",
    "db.companies.find({ \"relationships.0.person.last_name\": \"Zuckerberg\" },\n",
    "                  { \"name\": 1 }).pretty()"
   ]
  },
  {
   "cell_type": "code",
   "execution_count": null,
   "id": "f33e6444",
   "metadata": {},
   "outputs": [],
   "source": [
    "db.companies.find({ \"relationships.0.person.first_name\": \"Mark\",\n",
    "                    \"relationships.0.title\": { \"$regex\": \"CEO\" } },\n",
    "                  { \"name\": 1 }).pretty()"
   ]
  },
  {
   "cell_type": "code",
   "execution_count": null,
   "id": "61438fc5",
   "metadata": {},
   "outputs": [],
   "source": [
    "db.companies.find({ \"relationships\":\n",
    "                      { \"$elemMatch\": { \"is_past\": true,\n",
    "                                        \"person.first_name\": \"Mark\" } } },\n",
    "                  { \"name\": 1 }).pretty()"
   ]
  },
  {
   "cell_type": "raw",
   "id": "2d88283a",
   "metadata": {},
   "source": [
    "All senior executives named Mark listed in the relationships array who no longer work at their company"
   ]
  },
  {
   "cell_type": "code",
   "execution_count": null,
   "id": "f70e7d8e",
   "metadata": {},
   "outputs": [],
   "source": [
    "db.companies.find({\n",
    "    relationships: { \"$elemMatch\": {\"is_past\": true, \"person.first_name\": \"Mark\" } }\n",
    "}, { name: 1})"
   ]
  },
  {
   "cell_type": "markdown",
   "id": "ae5257e9",
   "metadata": {},
   "source": [
    "### 範例01"
   ]
  },
  {
   "cell_type": "raw",
   "id": "3cdd407b",
   "metadata": {},
   "source": [
    "How many trips in the sample_training.trips collection started at stations that are to the west of the -74 longitude coordinate?\n",
    "\n",
    "Longitude decreases in value as you move west.\n",
    "\n",
    "Note: We always list the longitude first and then latitude in the coordinate pairs; i.e.\n",
    "<field_name>: [ <longitude>, <latitude> ]"
   ]
  },
  {
   "cell_type": "code",
   "execution_count": null,
   "id": "04974510",
   "metadata": {},
   "outputs": [],
   "source": [
    "db.trips.find({\n",
    "    \"start station location.coordinates.0\": { \"$lte\": -74 }\n",
    "}).count()"
   ]
  },
  {
   "cell_type": "markdown",
   "id": "956fe03d",
   "metadata": {},
   "source": [
    "### 範例02"
   ]
  },
  {
   "cell_type": "raw",
   "id": "564e65e6",
   "metadata": {},
   "source": [
    "How many inspections from the sample_training.inspections collection were conducted in the city of NEW YORK?"
   ]
  },
  {
   "cell_type": "code",
   "execution_count": null,
   "id": "bb365ae5",
   "metadata": {},
   "outputs": [],
   "source": [
    "db.inspections.find({\n",
    "    \"address.city\": \"NEW YORK\"\n",
    "}).count()"
   ]
  },
  {
   "cell_type": "markdown",
   "id": "64d6ad11",
   "metadata": {},
   "source": [
    "---"
   ]
  },
  {
   "cell_type": "raw",
   "id": "36a69782",
   "metadata": {},
   "source": [
    "# MOL uses dot-notation to specify the address of nested elements in  a document\n",
    "# To use dot-notation in arrays specify the position of the element in the array\n",
    "# db.collection.find({ \"field 1.other field.also a field\": \"valuse\" })"
   ]
  }
 ],
 "metadata": {
  "kernelspec": {
   "display_name": "Python 3",
   "language": "python",
   "name": "python3"
  },
  "language_info": {
   "codemirror_mode": {
    "name": "ipython",
    "version": 3
   },
   "file_extension": ".py",
   "mimetype": "text/x-python",
   "name": "python",
   "nbconvert_exporter": "python",
   "pygments_lexer": "ipython3",
   "version": "3.8.10"
  }
 },
 "nbformat": 4,
 "nbformat_minor": 5
}
