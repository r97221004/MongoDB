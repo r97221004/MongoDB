{
 "cells": [
  {
   "cell_type": "markdown",
   "id": "053e77bb",
   "metadata": {},
   "source": [
    "# Aggregation Framework"
   ]
  },
  {
   "cell_type": "raw",
   "id": "7b8356ed",
   "metadata": {},
   "source": [
    "# Why aggregation?"
   ]
  },
  {
   "cell_type": "markdown",
   "id": "da055cde",
   "metadata": {},
   "source": [
    "<img src=\"img/10.png\">"
   ]
  },
  {
   "cell_type": "raw",
   "id": "2ca61f40",
   "metadata": {},
   "source": [
    "Switch to this database:"
   ]
  },
  {
   "cell_type": "code",
   "execution_count": null,
   "id": "16862220",
   "metadata": {},
   "outputs": [],
   "source": [
    "use sample_airbnb"
   ]
  },
  {
   "cell_type": "raw",
   "id": "01412709",
   "metadata": {},
   "source": [
    "Find all documents that have Wifi as one of the amenities. Only include price and address in the resulting cursor."
   ]
  },
  {
   "cell_type": "code",
   "execution_count": null,
   "id": "5d1b6a75",
   "metadata": {},
   "outputs": [],
   "source": [
    "db.listingsAndReviews.find({ \"amenities\": \"Wifi\" },\n",
    "                           { \"price\": 1, \"address\": 1, \"_id\": 0 }).pretty()"
   ]
  },
  {
   "cell_type": "raw",
   "id": "8c4e540b",
   "metadata": {},
   "source": [
    "Using the aggregation framework find all documents that have Wifi as one of the amenities``*. Only include* ``price and address in the resulting cursor."
   ]
  },
  {
   "cell_type": "code",
   "execution_count": null,
   "id": "799243d6",
   "metadata": {},
   "outputs": [],
   "source": [
    "db.listingsAndReviews.aggregate([\n",
    "    {\n",
    "        \"$match\": { amenities: \"Wifi\" }\n",
    "    },\n",
    "    {\n",
    "        \"$project\": { \"_id\": 0, \"price\": 1, \"address\": 1 }\n",
    "    }\n",
    "]).pretty()"
   ]
  },
  {
   "cell_type": "raw",
   "id": "e15f78e9",
   "metadata": {},
   "source": [
    "Find one document in the collection and only include the address field in the resulting cursor."
   ]
  },
  {
   "cell_type": "code",
   "execution_count": null,
   "id": "108381ee",
   "metadata": {},
   "outputs": [],
   "source": [
    "db.listingsAndReviews.findOne({ },{ \"address\": 1, \"_id\": 0 })"
   ]
  },
  {
   "cell_type": "raw",
   "id": "b6066d1f",
   "metadata": {},
   "source": [
    "Project only the address field value for each document, then group all documents into one document per address.country value."
   ]
  },
  {
   "cell_type": "code",
   "execution_count": null,
   "id": "e9da6d19",
   "metadata": {},
   "outputs": [],
   "source": [
    "db.listingsAndReviews.aggregate([\n",
    "    {\n",
    "        \"$project\": {\n",
    "            _id: 0,\n",
    "            address: 1\n",
    "        }\n",
    "    },\n",
    "    {\n",
    "        \"$group\": {\n",
    "            _id: \"$address.country\"\n",
    "        }\n",
    "    }\n",
    "])"
   ]
  },
  {
   "cell_type": "raw",
   "id": "01b53c5b",
   "metadata": {},
   "source": [
    "Project only the address field value for each document, then group all documents into one document per address.country value, and count one for each document in each group."
   ]
  },
  {
   "cell_type": "code",
   "execution_count": null,
   "id": "bb9d931b",
   "metadata": {},
   "outputs": [],
   "source": [
    "db.listingsAndReviews.aggregate([\n",
    "    {\n",
    "        \"$project\": {\n",
    "            _id: 0,\n",
    "            address: 1\n",
    "        }\n",
    "    },\n",
    "    {\n",
    "        \"$group\": {\n",
    "            _id: \"$address.country\",\n",
    "            count: { \"$sum\": 1}\n",
    "        }\n",
    "    }\n",
    "])"
   ]
  },
  {
   "cell_type": "markdown",
   "id": "8a3c3cad",
   "metadata": {},
   "source": [
    "### 範例01"
   ]
  },
  {
   "cell_type": "markdown",
   "id": "01c3cbd1",
   "metadata": {},
   "source": [
    "What room types are present in the sample_airbnb.listingsAndReviews collection?"
   ]
  },
  {
   "cell_type": "code",
   "execution_count": null,
   "id": "cfe2aba7",
   "metadata": {},
   "outputs": [],
   "source": [
    "db.listingsAndReviews.aggregate([\n",
    "    {\n",
    "        \"$group\": {\n",
    "            _id: \"$room_type\"\n",
    "        }\n",
    "    }\n",
    "]).pretty()"
   ]
  },
  {
   "cell_type": "markdown",
   "id": "ddf1a993",
   "metadata": {},
   "source": [
    "### sort() and limit()"
   ]
  },
  {
   "cell_type": "raw",
   "id": "d208b1e3",
   "metadata": {},
   "source": [
    "# cursor.limit().sort() means cursor.sort().limit()"
   ]
  },
  {
   "cell_type": "code",
   "execution_count": null,
   "id": "092623cb",
   "metadata": {},
   "outputs": [],
   "source": [
    "use sample_training"
   ]
  },
  {
   "cell_type": "code",
   "execution_count": null,
   "id": "9c69c95d",
   "metadata": {},
   "outputs": [],
   "source": [
    "db.zips.find().sort({ \"pop\": 1 }).limit(1)"
   ]
  },
  {
   "cell_type": "code",
   "execution_count": null,
   "id": "8b674434",
   "metadata": {},
   "outputs": [],
   "source": [
    "# 看看 pop 是 0 的共有幾個\n",
    "db.zips.find({ \"pop\": 0 }).count()"
   ]
  },
  {
   "cell_type": "code",
   "execution_count": null,
   "id": "96e82f63",
   "metadata": {},
   "outputs": [],
   "source": [
    "db.zips.find().sort({ \"pop\": -1 }).limit(1)"
   ]
  },
  {
   "cell_type": "code",
   "execution_count": null,
   "id": "42535af2",
   "metadata": {},
   "outputs": [],
   "source": [
    "db.zips.find().sort({ \"pop\": -1 }).limit(10)"
   ]
  },
  {
   "cell_type": "code",
   "execution_count": null,
   "id": "b6ba9356",
   "metadata": {},
   "outputs": [],
   "source": [
    "# sort 可以放不只一個 key\n",
    "db.zips.find().sort({ \"pop\": 1, \"city\": -1 })"
   ]
  },
  {
   "cell_type": "markdown",
   "id": "17398d52",
   "metadata": {},
   "source": [
    "### 範例01"
   ]
  },
  {
   "cell_type": "raw",
   "id": "203cf347",
   "metadata": {},
   "source": [
    "Which of the following commands will return the name and founding year for the 5 oldest companies in the sample_training.companies collection?"
   ]
  },
  {
   "cell_type": "code",
   "execution_count": null,
   "id": "65237822",
   "metadata": {},
   "outputs": [],
   "source": [
    "( ) db.companies.find({ },{ \"name\": 1, \"founded_year\": 1 }\n",
    "                 ).sort({ \"founded_year\": 1 }).limit(5)"
   ]
  },
  {
   "cell_type": "code",
   "execution_count": null,
   "id": "e3b46a04",
   "metadata": {},
   "outputs": [],
   "source": [
    "( ) db.companies.find({ \"name\": 1, \"founded_year\": 1 }\n",
    "                  ).sort({ \"founded_year\": 1 }).limit(5)"
   ]
  },
  {
   "cell_type": "code",
   "execution_count": null,
   "id": "25b2f7c5",
   "metadata": {},
   "outputs": [],
   "source": [
    "(勾) db.companies.find({ \"founded_year\": { \"$ne\": null }},\n",
    "                  { \"name\": 1, \"founded_year\": 1 }\n",
    "                 ).sort({ \"founded_year\": 1 }).limit(5)"
   ]
  },
  {
   "cell_type": "code",
   "execution_count": null,
   "id": "6e335313",
   "metadata": {},
   "outputs": [],
   "source": [
    "\n",
    "(勾) db.companies.find({ \"founded_year\": { \"$ne\": null }},\n",
    "                  { \"name\": 1, \"founded_year\": 1 }\n",
    "                 ).limit(5).sort({ \"founded_year\": 1 })"
   ]
  },
  {
   "cell_type": "markdown",
   "id": "dd5fcb10",
   "metadata": {},
   "source": [
    "### 範例02"
   ]
  },
  {
   "cell_type": "markdown",
   "id": "79735c83",
   "metadata": {},
   "source": [
    "In what year was the youngest bike rider from the sample_training.trips collection born?"
   ]
  },
  {
   "cell_type": "code",
   "execution_count": null,
   "id": "421993e4",
   "metadata": {},
   "outputs": [],
   "source": [
    "# 要記得先過濾空的!\n",
    "db.trips.find({ \"birth year\": { \"$ne\": \"\" }}, { _id: 0, \"birth year\": 1 }).sort({ \"birth year\": -1}).limit(1)"
   ]
  },
  {
   "cell_type": "markdown",
   "id": "9c39c0de",
   "metadata": {},
   "source": [
    "# Introduction to Indexes"
   ]
  },
  {
   "cell_type": "code",
   "execution_count": null,
   "id": "a856b339",
   "metadata": {},
   "outputs": [],
   "source": [
    "use sample_training"
   ]
  },
  {
   "cell_type": "code",
   "execution_count": null,
   "id": "77d9f703",
   "metadata": {},
   "outputs": [],
   "source": [
    "db.trips.find({ \"birth year\": 1989 })"
   ]
  },
  {
   "cell_type": "code",
   "execution_count": null,
   "id": "44013e4c",
   "metadata": {},
   "outputs": [],
   "source": [
    "db.trips.createIndex({ \"birth year\": 1 })"
   ]
  },
  {
   "cell_type": "code",
   "execution_count": null,
   "id": "5431e475",
   "metadata": {},
   "outputs": [],
   "source": [
    "db.trips.find({ \"birth year\": 1989 })"
   ]
  },
  {
   "cell_type": "code",
   "execution_count": null,
   "id": "e4613c49",
   "metadata": {},
   "outputs": [],
   "source": [
    "db.trips.createIndex({ \"start station id\": 1, \"birth year\": 1 })"
   ]
  },
  {
   "cell_type": "code",
   "execution_count": null,
   "id": "7396a300",
   "metadata": {},
   "outputs": [],
   "source": [
    "db.trips.find({ \"start station id\": 476 }).sort( { \"birth year\": 1 } )"
   ]
  },
  {
   "cell_type": "markdown",
   "id": "14afc3e5",
   "metadata": {},
   "source": [
    "# Introduction to Data Modeling"
   ]
  },
  {
   "cell_type": "raw",
   "id": "ba4c8de4",
   "metadata": {},
   "source": [
    "In this lesson, we'll discuss data modeling.\n",
    "\n",
    "MongoDB doesn't enforce how data is organized by default.\n",
    "\n",
    "So how can we decide what structure to use to store our data?\n",
    "\n",
    "Where should we create subdocuments?\n",
    "\n",
    "And where should we use arrays of values?\n",
    "\n",
    "At which point should the data get its own collection?\n",
    "\n",
    "Making these decisions about the shape and structure of your data is called data modeling.\n",
    "\n",
    "More specifically, data modeling is a way to organize fields in a document to support your application performance and querying capabilities.\n",
    "\n",
    "Today, I'll introduce data modeling for MongoDB.\n",
    "\n",
    "The most important rule of thumb in data modeling with MongoDB is that data is stored in the way that it is used.\n",
    "\n",
    "This notion determines the decision that you make about the shape of your document and the number of your collections.\n",
    "\n",
    "For example, say we're building an application that stores patient information.\n",
    "\n",
    "Each patient has a varied amount of information associated with them.\n",
    "\n",
    "One might have multiple phone numbers, prescriptions, and visit history but prefer to be contacted by email, or another might have zero prescriptions in their medical history and no patient visit records.\n",
    "\n",
    "Just from this, we can see how the document sizes will vary per patient-- that is, if we were to store all patient-pertaining information in one collection.\n",
    "\n",
    "We now have a general idea of what kind of data we're looking to store, such as contact info, visit history, prescriptions, age, gender, which is great but not enough to make any data modeling decisions just yet.\n",
    "\n",
    "The other important and probably the most important consideration is how this data will be queried.\n",
    "\n",
    "Who is using our application, and how?\n",
    "\n",
    "Let's consider that this application is being used by doctors in a network of medical facilities.\n",
    "\n",
    "It is most useful for the doctor to see the current prescriptions, diagnosis, and patient contact information when they pull up their record.\n",
    "\n",
    "Occasionally, depending on the patient, it would also be helpful to look up and cross-reference medication that the patient is taking for side effects, allergies, and other information.\n",
    "\n",
    "We can organize data in any way that we please.\n",
    "\n",
    "But if we want to optimize for fast and easy data retrieval, we can have a collection called patient records where we structure data as is most helpful for our application and another collection containing information about various medications.\n",
    "\n",
    "This way, when a doctor is looking for patient information to create a new prescription, contact them, or prepare for their next visit, all the relevant information is already in one collection and one document and therefore doesn't have to be gathered from across multiple sources, thus taking too long.\n",
    "\n",
    "Everything that is regularly queried together is stored together for fast retrieval.\n",
    "\n",
    "In this lesson, we learned that when data modeling with MongoDB, data that is accessed together should be stored together.\n",
    "\n",
    "It's also important to keep in mind that as your application is changing and evolving, your data model should also be evolving.\n",
    "\n",
    "And MongoDB is built for quick data model changes and evolution.\n",
    "\n",
    "To learn more about data modeling with MongoDB, take our Data Modeling course as your next venture into the land of MongoDB."
   ]
  },
  {
   "cell_type": "markdown",
   "id": "24f2f829",
   "metadata": {},
   "source": [
    "### 範例01"
   ]
  },
  {
   "cell_type": "raw",
   "id": "57f7fe53",
   "metadata": {},
   "source": [
    "What is data modeling?"
   ]
  },
  {
   "cell_type": "raw",
   "id": "f52399e3",
   "metadata": {},
   "source": [
    "# a way to organize fields in a document to support your application performance and querying capabilities\n",
    "\n",
    "This is correct.\n",
    "\n",
    "Data modeling is a way to organize your data, which includes making decisions about fields, collections, and datatypes\n",
    "that will be used in each collection.\n",
    "\n",
    "# a way to decide whether to store your data in the cloud or locally\n",
    "\n",
    "This is incorrect.\n",
    "\n",
    "The decision about what type of storage you are going to use pertains more to the area of security and systems engineering and does not relate to data modeling.\n",
    "\n",
    "# a way to build your application based on how your data is stored\n",
    "\n",
    "This is incorrect.\n",
    "\n",
    "You can build your application however you see fit. When using some databases you may have to build your application around how the data is stored, but that is not the case for MongoDB. Here, you use data modeling to make decisions that work best with your application and not the other way around.\n",
    "\n",
    "# a way to show off your amazing data to everyone using graphs and illustrations\n",
    "\n",
    "This is incorrect.\n",
    "\n",
    "Showing off data using graphs and illustrations is called data visualization and is not part of data modeling."
   ]
  },
  {
   "cell_type": "markdown",
   "id": "db688ea6",
   "metadata": {},
   "source": [
    "### Upsert - Update or Insert?"
   ]
  },
  {
   "cell_type": "markdown",
   "id": "fa556906",
   "metadata": {},
   "source": [
    "<img src=\"img/11.png\">"
   ]
  },
  {
   "cell_type": "markdown",
   "id": "69fb82ac",
   "metadata": {},
   "source": [
    "<img src=\"img/12.png\">"
   ]
  },
  {
   "cell_type": "markdown",
   "id": "8c493f6a",
   "metadata": {},
   "source": [
    "<img src=\"img/13.png\">"
   ]
  },
  {
   "cell_type": "raw",
   "id": "e456157e",
   "metadata": {},
   "source": [
    "# 要注意如果是 insert 進去的話，會 insert 那些 fields"
   ]
  },
  {
   "cell_type": "markdown",
   "id": "8cbcbc3f",
   "metadata": {},
   "source": [
    "### 範例01"
   ]
  },
  {
   "cell_type": "raw",
   "id": "6ece8758",
   "metadata": {},
   "source": [
    "How does the upsert option work?"
   ]
  },
  {
   "cell_type": "raw",
   "id": "42b6f28a",
   "metadata": {},
   "source": [
    "# It is used with the update operator, and needs to have its value specified every time that the update operator is called.\n",
    "\n",
    "This is incorrect.\n",
    "The upsert option only needs its value specified if you want to change the default false setting to true.\n",
    "\n",
    "# By default upsert is set to false.\n",
    "\n",
    "This is correct.\n",
    "If the upsert option is not specified, then it will have the value of false by default.\n",
    "\n",
    "# When upsert is set to true and the query predicate returns an empty cursor, the update operation creates a new document\n",
    "  using the directive from the query predicate and the update predicate.\n",
    "\n",
    "This is correct.\n",
    "When upsert is set to true it can perform an insert if the query predicate doesn't return a matching document.\n",
    "\n",
    "# When upsert is set to false and the query predicate returns an empty cursor then there will be no updated documents as a\n",
    "  result of this operation.\n",
    "\n",
    "This is correct.\n",
    "When upsert is set to false an update will happen only when the query predicate is matched with a document from the collection."
   ]
  }
 ],
 "metadata": {
  "kernelspec": {
   "display_name": "Python 3",
   "language": "python",
   "name": "python3"
  },
  "language_info": {
   "codemirror_mode": {
    "name": "ipython",
    "version": 3
   },
   "file_extension": ".py",
   "mimetype": "text/x-python",
   "name": "python",
   "nbconvert_exporter": "python",
   "pygments_lexer": "ipython3",
   "version": "3.8.10"
  }
 },
 "nbformat": 4,
 "nbformat_minor": 5
}
