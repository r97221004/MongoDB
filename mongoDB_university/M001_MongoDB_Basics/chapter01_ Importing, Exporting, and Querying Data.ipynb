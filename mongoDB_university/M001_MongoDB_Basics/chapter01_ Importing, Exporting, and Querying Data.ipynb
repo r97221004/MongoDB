{
 "cells": [
  {
   "cell_type": "markdown",
   "id": "41944e0f",
   "metadata": {},
   "source": [
    "# JSON vs. BSON"
   ]
  },
  {
   "cell_type": "raw",
   "id": "dad01287",
   "metadata": {},
   "source": [
    "# MongoDB stores data in BSON, and you can then view it in JSON.\n",
    "# BSON is faster to parse and lighter to store than JSON.\n",
    "# JSON supports fewer data types than BSON."
   ]
  }
 ],
 "metadata": {
  "kernelspec": {
   "display_name": "Python 3",
   "language": "python",
   "name": "python3"
  },
  "language_info": {
   "codemirror_mode": {
    "name": "ipython",
    "version": 3
   },
   "file_extension": ".py",
   "mimetype": "text/x-python",
   "name": "python",
   "nbconvert_exporter": "python",
   "pygments_lexer": "ipython3",
   "version": "3.8.10"
  }
 },
 "nbformat": 4,
 "nbformat_minor": 5
}
