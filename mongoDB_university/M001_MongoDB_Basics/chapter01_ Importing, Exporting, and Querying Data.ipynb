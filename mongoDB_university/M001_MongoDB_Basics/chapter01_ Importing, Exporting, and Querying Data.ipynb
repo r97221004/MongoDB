{
 "cells": [
  {
   "cell_type": "markdown",
   "id": "41944e0f",
   "metadata": {},
   "source": [
    "# How does MongoDB store data?"
   ]
  },
  {
   "cell_type": "markdown",
   "id": "02b126ed",
   "metadata": {},
   "source": [
    "### JSON"
   ]
  },
  {
   "cell_type": "raw",
   "id": "0380f87e",
   "metadata": {},
   "source": [
    "# Pros of JSON: Friendly, Readable, Familiar\n",
    "# Cons of JSON: Text-based, Space-consuming, Limited"
   ]
  },
  {
   "cell_type": "markdown",
   "id": "5d6e512e",
   "metadata": {},
   "source": [
    "### BSON"
   ]
  },
  {
   "cell_type": "raw",
   "id": "2f5d5737",
   "metadata": {},
   "source": [
    "# Bridges the gap between binary representation and JSON format\n",
    "# Optimized for: \n",
    "    Speed\n",
    "    Space\n",
    "    Flexibility\n",
    "# High performance\n",
    "# General-purpose focus"
   ]
  },
  {
   "cell_type": "markdown",
   "id": "2325dd2c",
   "metadata": {},
   "source": [
    "<img src=\"img/1.png\">"
   ]
  },
  {
   "cell_type": "raw",
   "id": "dad01287",
   "metadata": {},
   "source": [
    "# MongoDB stores data in BSON, and you can then view it in JSON.\n",
    "# BSON is faster to parse and lighter to store than JSON.\n",
    "# JSON supports fewer data types than BSON."
   ]
  },
  {
   "cell_type": "markdown",
   "id": "b3ac8e42",
   "metadata": {},
   "source": [
    "# Importing and Exporting Data"
   ]
  },
  {
   "cell_type": "code",
   "execution_count": null,
   "id": "54408ed4",
   "metadata": {},
   "outputs": [],
   "source": [
    "mongoexport --uri=\"mongodb+srv://<your username>:<your password>@<your cluster>.mongodb.net/sample_supplies\" --collection=sales --out=sales.json\n",
    "mongoimport --uri=\"mongodb+srv://<your username>:<your password>@<your cluster>.mongodb.net/sample_supplies\" --drop sales.json"
   ]
  },
  {
   "cell_type": "code",
   "execution_count": null,
   "id": "f91e132c",
   "metadata": {},
   "outputs": [],
   "source": [
    "mongodump --uri \"mongodb+srv://<your username>:<your password>@<your cluster>.mongodb.net/sample_supplies\"\n",
    "mongorestore --uri \"mongodb+srv://<your username>:<your password>@<your cluster>.mongodb.net/sample_supplies\"  --drop dump"
   ]
  },
  {
   "cell_type": "markdown",
   "id": "24bbde7b",
   "metadata": {},
   "source": [
    "# Data Explorer"
   ]
  },
  {
   "cell_type": "code",
   "execution_count": null,
   "id": "8b5102de",
   "metadata": {},
   "outputs": [],
   "source": [
    "Namespace - The concatenation of the database name and collection name is called a namespace."
   ]
  },
  {
   "cell_type": "raw",
   "id": "0838574b",
   "metadata": {},
   "source": [
    "# Atlas UI provides us with Data Explorer so that we can query data using the GUI\n",
    "# Queries must use valid JSON\n",
    "# Returned documents will contain the requested field:value pairs in them "
   ]
  },
  {
   "cell_type": "markdown",
   "id": "3bb2467a",
   "metadata": {},
   "source": [
    "# Find Command"
   ]
  },
  {
   "cell_type": "raw",
   "id": "a21b7d0f",
   "metadata": {},
   "source": [
    "# Use show dbs and show collections for available namespaces\n",
    "# find() returns a cursor with documents that match the find query\n",
    "# count() returns the number of documents that match the find query\n",
    "# pretty() formats the documents in the cursor"
   ]
  }
 ],
 "metadata": {
  "kernelspec": {
   "display_name": "Python 3",
   "language": "python",
   "name": "python3"
  },
  "language_info": {
   "codemirror_mode": {
    "name": "ipython",
    "version": 3
   },
   "file_extension": ".py",
   "mimetype": "text/x-python",
   "name": "python",
   "nbconvert_exporter": "python",
   "pygments_lexer": "ipython3",
   "version": "3.8.10"
  }
 },
 "nbformat": 4,
 "nbformat_minor": 5
}
