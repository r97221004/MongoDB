{
 "cells": [
  {
   "cell_type": "markdown",
   "id": "941aaca9",
   "metadata": {},
   "source": [
    "# MongoDB"
   ]
  },
  {
   "cell_type": "raw",
   "id": "02ec9636",
   "metadata": {},
   "source": [
    "# NoSQL means that the database does not employ tables, rows and columns for data organization, which is true about\n",
    "  MongoDB.\n",
    "# A database implies that there is a structured way to store and organize data.\n",
    "# Document - a way to organize and store data as a set of field-value pairs.\n",
    "# Field - a unique identifier for a datapoint.\n",
    "# Value - data related to a given identifier.\n",
    "# Collection - an organized store of documents in MongoDB, usually with common fields between documents. There can be many   collections per database and many documents per collection.\n",
    "# Collections consist of one or many documents.\n",
    "# Replica Set - a few connected machines that store the same data to ensure that if something happens to one of the\n",
    "  machines the data will remain intact. Comes from the word replicate - to copy something.\n",
    "# Instance - a single machine locally or in the cloud, running a certain software, in our case it is the MongoDB database.\n",
    "# Cluster - group of servers that store your data.\n",
    "# Atlas has many tools and services within it that are built specifically for the MongoDB Database."
   ]
  },
  {
   "cell_type": "markdown",
   "id": "12b75416",
   "metadata": {},
   "source": [
    "# Atlas User Interface"
   ]
  },
  {
   "cell_type": "markdown",
   "id": "718d9e75",
   "metadata": {},
   "source": [
    "[Atlas連結](https://cloud.mongodb.com/v2/625ccc939bc6263074568297#clusters) <br>\n",
    "shell 連結: mongosh \"mongodb+srv://sandbox.llitr.mongodb.net/myFirstDatabase\" --apiVersion 1 --username m001-student <br>\n",
    "密碼: m001-mongodb-basics"
   ]
  }
 ],
 "metadata": {
  "kernelspec": {
   "display_name": "Python 3",
   "language": "python",
   "name": "python3"
  },
  "language_info": {
   "codemirror_mode": {
    "name": "ipython",
    "version": 3
   },
   "file_extension": ".py",
   "mimetype": "text/x-python",
   "name": "python",
   "nbconvert_exporter": "python",
   "pygments_lexer": "ipython3",
   "version": "3.8.10"
  }
 },
 "nbformat": 4,
 "nbformat_minor": 5
}
