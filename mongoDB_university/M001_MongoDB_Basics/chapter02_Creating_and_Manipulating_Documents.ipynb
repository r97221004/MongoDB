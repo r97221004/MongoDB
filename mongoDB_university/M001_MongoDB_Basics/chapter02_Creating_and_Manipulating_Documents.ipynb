{
 "cells": [
  {
   "cell_type": "markdown",
   "id": "6d4ae6b1",
   "metadata": {},
   "source": [
    "# Inserting New Documents - ObjectId"
   ]
  },
  {
   "cell_type": "raw",
   "id": "0e5adc72",
   "metadata": {},
   "source": [
    "# \"_id\" unique identifier for a document in a collection\n",
    "# \"_id\" required in every MongoDB document\n",
    "#  ObjectID() is the default value for the \"_id\" field unless otherwise specified"
   ]
  },
  {
   "cell_type": "markdown",
   "id": "db6ef364",
   "metadata": {},
   "source": [
    "# Inserting New Documents - insert() and errors"
   ]
  },
  {
   "cell_type": "raw",
   "id": "40002060",
   "metadata": {},
   "source": [
    "# Identical documents can exist in the same collection as long as their _id values are different\n",
    "# MongoDB has schema validation functionality allows you to enforce document structure "
   ]
  },
  {
   "cell_type": "markdown",
   "id": "1e19647c",
   "metadata": {},
   "source": [
    "# Inserting New Documents - insert() order"
   ]
  },
  {
   "cell_type": "raw",
   "id": "aa127ce4",
   "metadata": {},
   "source": [
    "In this lesson we used the following commands:\n",
    "Insert three test documents:"
   ]
  },
  {
   "cell_type": "code",
   "execution_count": null,
   "id": "bdeb0711",
   "metadata": {},
   "outputs": [],
   "source": [
    "db.inspections.insert([ { \"test\": 1 }, { \"test\": 2 }, { \"test\": 3 } ])"
   ]
  },
  {
   "cell_type": "raw",
   "id": "67d2e290",
   "metadata": {},
   "source": [
    "Insert three test documents but specify the _id values:"
   ]
  },
  {
   "cell_type": "code",
   "execution_count": null,
   "id": "2c4ffc81",
   "metadata": {},
   "outputs": [],
   "source": [
    "# 第二個之後會失敗，現在是 {ordered: true}\n",
    "db.inspections.insert([{ \"_id\": 1, \"test\": 1 },{ \"_id\": 1, \"test\": 2 },\n",
    "                       { \"_id\": 3, \"test\": 3 }])"
   ]
  },
  {
   "cell_type": "raw",
   "id": "60d0fc63",
   "metadata": {},
   "source": [
    "Find the documents with _id: 1"
   ]
  },
  {
   "cell_type": "code",
   "execution_count": null,
   "id": "a7231494",
   "metadata": {},
   "outputs": [],
   "source": [
    "db.inspections.find({ \"_id\": 1 })"
   ]
  },
  {
   "cell_type": "raw",
   "id": "a33d38f3",
   "metadata": {},
   "source": [
    "Insert multiple documents specifying the _id values, and using the \"ordered\": false option."
   ]
  },
  {
   "cell_type": "code",
   "execution_count": null,
   "id": "014fe9f0",
   "metadata": {},
   "outputs": [],
   "source": [
    "# 第一與第三會成功\n",
    "db.inspections.insert([{ \"_id\": 1, \"test\": 1 },{ \"_id\": 1, \"test\": 2 },\n",
    "                       { \"_id\": 3, \"test\": 3 }],{ \"ordered\": false })"
   ]
  },
  {
   "cell_type": "raw",
   "id": "9fe2a6c3",
   "metadata": {},
   "source": [
    "Insert multiple documents with _id: 1 with the default \"ordered\": true setting"
   ]
  },
  {
   "cell_type": "code",
   "execution_count": null,
   "id": "af0190dc",
   "metadata": {},
   "outputs": [],
   "source": [
    "# inspection 少了一個s，所以會成功\n",
    "db.inspection.insert([{ \"_id\": 1, \"test\": 1 },{ \"_id\": 3, \"test\": 3 }])"
   ]
  },
  {
   "cell_type": "raw",
   "id": "fdfc2873",
   "metadata": {},
   "source": [
    "View collections in the active db"
   ]
  },
  {
   "cell_type": "code",
   "execution_count": null,
   "id": "7dd54015",
   "metadata": {},
   "outputs": [],
   "source": [
    "show collections"
   ]
  },
  {
   "cell_type": "raw",
   "id": "fb637d8c",
   "metadata": {},
   "source": [
    "Switch the active db to training"
   ]
  },
  {
   "cell_type": "code",
   "execution_count": null,
   "id": "11e15f5b",
   "metadata": {},
   "outputs": [],
   "source": [
    "use training"
   ]
  },
  {
   "cell_type": "raw",
   "id": "1188814f",
   "metadata": {},
   "source": [
    "View all available databases"
   ]
  },
  {
   "cell_type": "code",
   "execution_count": null,
   "id": "6ce003b0",
   "metadata": {},
   "outputs": [],
   "source": [
    "# training database 不會出現，因為現在還沒有任何 document\n",
    "show dbs"
   ]
  },
  {
   "cell_type": "markdown",
   "id": "6683591e",
   "metadata": {},
   "source": [
    "### 範例01"
   ]
  },
  {
   "cell_type": "raw",
   "id": "aaab5baf",
   "metadata": {},
   "source": [
    "Which of the following commands will successfully insert 3 new documents into an empty pets collection?"
   ]
  },
  {
   "cell_type": "code",
   "execution_count": null,
   "id": "dc5cab09",
   "metadata": {},
   "outputs": [],
   "source": [
    "(勾) db.pets.insert([{ \"_id\": 1, \"pet\": \"cat\" },\n",
    "                { \"_id\": 1, \"pet\": \"dog\" },\n",
    "                { \"_id\": 3, \"pet\": \"fish\" },\n",
    "                { \"_id\": 4, \"pet\": \"snake\" }], { \"ordered\": false })"
   ]
  },
  {
   "cell_type": "code",
   "execution_count": null,
   "id": "6349cf55",
   "metadata": {},
   "outputs": [],
   "source": [
    "( )  db.pets.insert([{ \"_id\": 1, \"pet\": \"cat\" },\n",
    "                { \"_id\": 1, \"pet\": \"dog\" },\n",
    "                { \"_id\": 3, \"pet\": \"fish\" },\n",
    "                { \"_id\": 4, \"pet\": \"snake\" }], { \"ordered\": true })"
   ]
  },
  {
   "cell_type": "code",
   "execution_count": null,
   "id": "8c004819",
   "metadata": {},
   "outputs": [],
   "source": [
    "(勾) db.pets.insert([{ \"pet\": \"cat\" }, { \"pet\": \"dog\" },\n",
    "                { \"pet\": \"fish\" }])"
   ]
  },
  {
   "cell_type": "code",
   "execution_count": null,
   "id": "d75f8387",
   "metadata": {},
   "outputs": [],
   "source": [
    "(勾) db.pets.insert([{ \"_id\": 1, \"pet\": \"cat\" },\n",
    "                { \"_id\": 2, \"pet\": \"dog\" },\n",
    "                { \"_id\": 3, \"pet\": \"fish\" },\n",
    "                { \"_id\": 3, \"pet\": \"snake\" }])"
   ]
  },
  {
   "cell_type": "markdown",
   "id": "9e080898",
   "metadata": {},
   "source": [
    "# Updating Documents - Data Explorer"
   ]
  },
  {
   "cell_type": "markdown",
   "id": "d9b8f855",
   "metadata": {},
   "source": [
    "# Updating Documents - mongo shell"
   ]
  },
  {
   "cell_type": "raw",
   "id": "866c9ea4",
   "metadata": {},
   "source": [
    "Use the sample_training database as your database in the following commands."
   ]
  },
  {
   "cell_type": "code",
   "execution_count": null,
   "id": "5302cc9a",
   "metadata": {},
   "outputs": [],
   "source": [
    "use sample_training"
   ]
  },
  {
   "cell_type": "raw",
   "id": "bf4123a8",
   "metadata": {},
   "source": [
    "Find all documents in the zips collection where the zip field is equal to \"12434\"."
   ]
  },
  {
   "cell_type": "code",
   "execution_count": null,
   "id": "95248d9f",
   "metadata": {},
   "outputs": [],
   "source": [
    "db.zips.find({ \"zip\": \"12534\" }).pretty()"
   ]
  },
  {
   "cell_type": "raw",
   "id": "c7fa4f5b",
   "metadata": {},
   "source": [
    "Find all documents in the zips collection where the city field is equal to \"HUDSON\"."
   ]
  },
  {
   "cell_type": "code",
   "execution_count": null,
   "id": "18dc9a4e",
   "metadata": {},
   "outputs": [],
   "source": [
    "db.zips.find({ \"city\": \"HUDSON\" }).pretty()"
   ]
  },
  {
   "cell_type": "raw",
   "id": "2b53e46a",
   "metadata": {},
   "source": [
    "Find how many documents in the zips collection have the city field equal to \"HUDSON\"."
   ]
  },
  {
   "cell_type": "code",
   "execution_count": null,
   "id": "2bf4b37b",
   "metadata": {},
   "outputs": [],
   "source": [
    "db.zips.find({ \"city\": \"HUDSON\" }).count()"
   ]
  },
  {
   "cell_type": "raw",
   "id": "2cdee50b",
   "metadata": {},
   "source": [
    "Update all documents in the zips collection where the city field is equal to \"HUDSON\" by adding 10 to the current value of the \"pop\" field."
   ]
  },
  {
   "cell_type": "code",
   "execution_count": null,
   "id": "91985550",
   "metadata": {},
   "outputs": [],
   "source": [
    "db.zips.updateMany({ \"city\": \"HUDSON\" }, { \"$inc\": { \"pop\": 10 } })"
   ]
  },
  {
   "cell_type": "raw",
   "id": "9abf1542",
   "metadata": {},
   "source": [
    "Update a single document in the zips collection where the zip field is equal to \"12534\" by setting the value of the \"pop\" field to 17630."
   ]
  },
  {
   "cell_type": "code",
   "execution_count": null,
   "id": "f99fac2a",
   "metadata": {},
   "outputs": [],
   "source": [
    "db.zips.updateOne({ \"zip\": \"12534\" }, { \"$set\": { \"pop\": 17630 } })"
   ]
  },
  {
   "cell_type": "raw",
   "id": "ae3490e7",
   "metadata": {},
   "source": [
    "Find all documents in the grades collection where the student_id field is 151 , and the class_id field is 339."
   ]
  },
  {
   "cell_type": "code",
   "execution_count": null,
   "id": "76d0a107",
   "metadata": {},
   "outputs": [],
   "source": [
    "db.grades.find({ \"student_id\": 151, \"class_id\": 339 }).pretty()"
   ]
  },
  {
   "cell_type": "raw",
   "id": "3bf0fcad",
   "metadata": {},
   "source": [
    "Find all documents in the grades collection where the student_id field is 250 , and the class_id field is 339."
   ]
  },
  {
   "cell_type": "code",
   "execution_count": null,
   "id": "80081ee1",
   "metadata": {},
   "outputs": [],
   "source": [
    "db.grades.find({ \"student_id\": 250, \"class_id\": 339 }).pretty()"
   ]
  },
  {
   "cell_type": "raw",
   "id": "ee896e28",
   "metadata": {},
   "source": [
    "Update one document in the grades collection where the student_id is ``250`` *, and the class_id field is 339 , by adding a document element to the \"scores\" array."
   ]
  },
  {
   "cell_type": "raw",
   "id": "c8c77973",
   "metadata": {},
   "source": [
    "db.grades.updateOne({ \"student_id\": 250, \"class_id\": 339 },\n",
    "                    { \"$push\": { \"scores\": { \"type\": \"extra credit\",\n",
    "                                             \"score\": 100 }\n",
    "                                }\n",
    "                     })"
   ]
  },
  {
   "cell_type": "markdown",
   "id": "86560662",
   "metadata": {},
   "source": [
    "<img src=\"img/2.png\">"
   ]
  },
  {
   "cell_type": "markdown",
   "id": "f285d2fe",
   "metadata": {},
   "source": [
    "# Deleting Documents and Collections"
   ]
  },
  {
   "cell_type": "markdown",
   "id": "0c7687ea",
   "metadata": {},
   "source": [
    "<img src=\"img/3.png\">"
   ]
  },
  {
   "cell_type": "code",
   "execution_count": null,
   "id": "3870c514",
   "metadata": {},
   "outputs": [],
   "source": [
    "use sample_training"
   ]
  },
  {
   "cell_type": "raw",
   "id": "a2b2f3f1",
   "metadata": {},
   "source": [
    "Look at all the docs that have test field equal to 1."
   ]
  },
  {
   "cell_type": "code",
   "execution_count": null,
   "id": "ac56a545",
   "metadata": {},
   "outputs": [],
   "source": [
    "db.inspections.find({ \"test\": 1 }).pretty()"
   ]
  },
  {
   "cell_type": "raw",
   "id": "e8af0721",
   "metadata": {},
   "source": [
    "Look at all the docs that have test field equal to 3."
   ]
  },
  {
   "cell_type": "code",
   "execution_count": null,
   "id": "f7711282",
   "metadata": {},
   "outputs": [],
   "source": [
    "db.inspections.find({ \"test\": 3 }).pretty()"
   ]
  },
  {
   "cell_type": "raw",
   "id": "53a51589",
   "metadata": {},
   "source": [
    "Delete all the documents that have test field equal to 1."
   ]
  },
  {
   "cell_type": "code",
   "execution_count": null,
   "id": "6c159cf0",
   "metadata": {},
   "outputs": [],
   "source": [
    "db.inspections.deleteMany({ \"test\": 1 })"
   ]
  },
  {
   "cell_type": "raw",
   "id": "e10a1851",
   "metadata": {},
   "source": [
    "Delete one document that has test field equal to 3."
   ]
  },
  {
   "cell_type": "code",
   "execution_count": null,
   "id": "53fc22ca",
   "metadata": {},
   "outputs": [],
   "source": [
    "db.inspections.deleteOne({ \"test\": 3 })"
   ]
  },
  {
   "cell_type": "raw",
   "id": "8cf87973",
   "metadata": {},
   "source": [
    "Inspect what is left of the inspection collection."
   ]
  },
  {
   "cell_type": "code",
   "execution_count": null,
   "id": "c4282729",
   "metadata": {},
   "outputs": [],
   "source": [
    "db.inspection.find().pretty()"
   ]
  },
  {
   "cell_type": "raw",
   "id": "785a48a3",
   "metadata": {},
   "source": [
    "View what collections are present in the sample_training collection."
   ]
  },
  {
   "cell_type": "code",
   "execution_count": null,
   "id": "d0d25983",
   "metadata": {},
   "outputs": [],
   "source": [
    "show collections"
   ]
  },
  {
   "cell_type": "raw",
   "id": "13b8e429",
   "metadata": {},
   "source": [
    "Drop the inspection collection."
   ]
  },
  {
   "cell_type": "code",
   "execution_count": null,
   "id": "3bd37c8f",
   "metadata": {},
   "outputs": [],
   "source": [
    "db.inspection.drop()"
   ]
  }
 ],
 "metadata": {
  "kernelspec": {
   "display_name": "Python 3",
   "language": "python",
   "name": "python3"
  },
  "language_info": {
   "codemirror_mode": {
    "name": "ipython",
    "version": 3
   },
   "file_extension": ".py",
   "mimetype": "text/x-python",
   "name": "python",
   "nbconvert_exporter": "python",
   "pygments_lexer": "ipython3",
   "version": "3.8.10"
  }
 },
 "nbformat": 4,
 "nbformat_minor": 5
}
