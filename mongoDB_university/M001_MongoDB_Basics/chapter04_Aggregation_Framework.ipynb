{
 "cells": [
  {
   "cell_type": "markdown",
   "id": "053e77bb",
   "metadata": {},
   "source": [
    "# Aggregation Framework"
   ]
  },
  {
   "cell_type": "raw",
   "id": "2ca61f40",
   "metadata": {},
   "source": [
    "Switch to this database:"
   ]
  },
  {
   "cell_type": "code",
   "execution_count": null,
   "id": "16862220",
   "metadata": {},
   "outputs": [],
   "source": [
    "use sample_airbnb"
   ]
  },
  {
   "cell_type": "raw",
   "id": "01412709",
   "metadata": {},
   "source": [
    "Find all documents that have Wifi as one of the amenities. Only include price and address in the resulting cursor."
   ]
  },
  {
   "cell_type": "code",
   "execution_count": null,
   "id": "5d1b6a75",
   "metadata": {},
   "outputs": [],
   "source": [
    "db.listingsAndReviews.find({ \"amenities\": \"Wifi\" },\n",
    "                           { \"price\": 1, \"address\": 1, \"_id\": 0 }).pretty()"
   ]
  },
  {
   "cell_type": "raw",
   "id": "8c4e540b",
   "metadata": {},
   "source": [
    "Using the aggregation framework find all documents that have Wifi as one of the amenities``*. Only include* ``price and address in the resulting cursor."
   ]
  },
  {
   "cell_type": "code",
   "execution_count": null,
   "id": "799243d6",
   "metadata": {},
   "outputs": [],
   "source": [
    "db.listingsAndReviews.aggregate([\n",
    "    {\n",
    "        \"$match\": { amenities: \"Wifi\" }\n",
    "    },\n",
    "    {\n",
    "        \"$project\": { \"_id\": 0, \"price\": 1, \"address\": 1 }\n",
    "    }\n",
    "]).pretty()"
   ]
  },
  {
   "cell_type": "raw",
   "id": "e15f78e9",
   "metadata": {},
   "source": [
    "Find one document in the collection and only include the address field in the resulting cursor."
   ]
  },
  {
   "cell_type": "code",
   "execution_count": null,
   "id": "108381ee",
   "metadata": {},
   "outputs": [],
   "source": [
    "db.listingsAndReviews.findOne({ },{ \"address\": 1, \"_id\": 0 })"
   ]
  },
  {
   "cell_type": "raw",
   "id": "b6066d1f",
   "metadata": {},
   "source": [
    "Project only the address field value for each document, then group all documents into one document per address.country value."
   ]
  }
 ],
 "metadata": {
  "kernelspec": {
   "display_name": "Python 3",
   "language": "python",
   "name": "python3"
  },
  "language_info": {
   "codemirror_mode": {
    "name": "ipython",
    "version": 3
   },
   "file_extension": ".py",
   "mimetype": "text/x-python",
   "name": "python",
   "nbconvert_exporter": "python",
   "pygments_lexer": "ipython3",
   "version": "3.8.10"
  }
 },
 "nbformat": 4,
 "nbformat_minor": 5
}
