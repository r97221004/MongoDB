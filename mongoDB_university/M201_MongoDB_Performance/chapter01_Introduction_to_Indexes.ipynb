{
 "cells": [
  {
   "cell_type": "markdown",
   "id": "44e9cc83",
   "metadata": {},
   "source": [
    "# Introduction to Indexes"
   ]
  },
  {
   "cell_type": "raw",
   "id": "11fbc3c0",
   "metadata": {},
   "source": [
    "# 如果沒有建立 index\n",
    "\n",
    "- Order of N operation\n",
    "- O(N)\n",
    "- Linear running time"
   ]
  },
  {
   "cell_type": "markdown",
   "id": "cee41af7",
   "metadata": {},
   "source": [
    "<img src=\"img/2.png\">"
   ]
  },
  {
   "cell_type": "raw",
   "id": "14db4446",
   "metadata": {},
   "source": [
    "# 如果有建立 index"
   ]
  },
  {
   "cell_type": "markdown",
   "id": "e57c63e5",
   "metadata": {},
   "source": [
    "<img src=\"img/1.png\">"
   ]
  },
  {
   "cell_type": "raw",
   "id": "5779b997",
   "metadata": {},
   "source": [
    "# MongoDB uses a data structure called a b-tree to store its indexes. B-trees can be used to find target values with very\n",
    "  few comparisons.\n",
    "# we need to be careful when creating indexes. We don't want to have too many unnecessary indexes in a collection because\n",
    "  there would then be an unnecessary loss in insert, update, and delete performance."
   ]
  },
  {
   "cell_type": "markdown",
   "id": "803259d0",
   "metadata": {},
   "source": [
    "<img src=\"img/3.png\">"
   ]
  },
  {
   "cell_type": "markdown",
   "id": "25e014ba",
   "metadata": {},
   "source": [
    "---"
   ]
  },
  {
   "cell_type": "raw",
   "id": "de3cafb9",
   "metadata": {},
   "source": [
    "# Indexes are used to increase the speed of our queries.\n",
    "# The _id field is automatically indexed on all collections.\n",
    "# Indexes reduce the number of documents MongoDB needs to examine to satisfy a query.\n",
    "# Indexes can decrease write, update, and delete performance."
   ]
  },
  {
   "cell_type": "markdown",
   "id": "77f10040",
   "metadata": {},
   "source": [
    "# How Data is Stored on Disk"
   ]
  },
  {
   "cell_type": "raw",
   "id": "56484797",
   "metadata": {},
   "source": [
    "Databases tend to have this nice feature that allows data to be persisted using the server's file system.\n",
    "\n",
    "But how do they do it?\n",
    "\n",
    "Which files do they write information to?\n",
    "\n",
    "How these files are organized?\n",
    "\n",
    "How do databases collections, indexes, get to get organized within the data structures and storage engines that support the persistency layer of your database?\n",
    "\n",
    "These are the topics we're going to discuss in this lesson.\n",
    "\n",
    "The way that MongoDB stores data will differ between the different storage engines that MongoDB supports.\n",
    "\n",
    "The particular details of how each storage engine organize data in detail are out of scope, but let's review at a high level how the different storage engines organize data.\n",
    "\n",
    "Now, MongoDB allows us to create a few data management objects.\n",
    "\n",
    "We have databases, which are logical groups of collections, collections, which are operational units that group documents together.\n",
    "\n",
    "We're going to have indexes on collections over [INAUDIBLE] presence on documents.\n",
    "\n",
    "And obviously, we're going to have documents, atomic units of information used by applications.\n",
    "\n",
    "But before we jump into the overview of the data structures, let's have a peek into the dbpath content of our MongoDB directory.\n",
    "\n",
    "Here, I'm going to start my mongod, pointing my dbpath to data/db.\n",
    "\n",
    "Now, this is the default MongoDB data path.\n",
    "\n",
    "But I just want to reinforce the fact that you can change it to another alternative dbpath if you wish to do so.\n",
    "\n",
    "All right.\n",
    "\n",
    "I started the process.\n",
    "\n",
    "And this is going to be a very short lived instruction, because I'm going to shut down the server again.\n",
    "\n",
    "If we ls that data/db folder, we can see that immediately MongoDB stores and starts writing a bunch of different documents in some directories.\n",
    "\n",
    "For each collection, or index, the WiredTiger storage engine will write an individual file.\n",
    "\n",
    "We start with a MDB catalog file that contains the catalog of all different collections and indexes that this particular mongod contains."
   ]
  },
  {
   "cell_type": "markdown",
   "id": "edccd3dc",
   "metadata": {},
   "source": [
    "<img src=\"img/4.png\">"
   ]
  },
  {
   "cell_type": "markdown",
   "id": "af13b0ed",
   "metadata": {},
   "source": [
    "<img src=\"img/5.png\">"
   ]
  },
  {
   "cell_type": "raw",
   "id": "bc015217",
   "metadata": {},
   "source": [
    "But we can have a little bit more elaborate file system in data structures than this plain flat organization.\n",
    "\n",
    "Let's go ahead and remove that data/db folder, remove all its content.\n",
    "\n",
    "Let's recreate the folder again.\n",
    "\n",
    "And now let's launch the mongod with a little with more flavor.\n",
    "\n",
    "I'm going to use the same dbpath, the same logpath as well, the same file for logging.\n",
    "\n",
    "I'm also going to fork the process.\n",
    "\n",
    "And I'm going to add this directoryperdb instruction.\n",
    "\n",
    "Once I do that, I'm also going to write a single document on a particular new collection that doesn't exist at the moment, hello, and inserting it on collection a.\n",
    "\n",
    "And then, I'm just going to go ahead and shut down the server.\n",
    "\n",
    "If I look into the folder, my dbpath again, I can see that now I have a slightly different organization of data."
   ]
  },
  {
   "cell_type": "markdown",
   "id": "339bb71a",
   "metadata": {},
   "source": [
    "<img src=\"img/6.png\">"
   ]
  },
  {
   "cell_type": "raw",
   "id": "ea24d98f",
   "metadata": {},
   "source": [
    "I'm going to have these three new folders, admin, local, and hello.\n",
    "\n",
    "Admin and local are default databases that MongoDB creates.\n",
    "\n",
    "Hello is the newly created database that we've created on the previous instruction.\n",
    "\n",
    "By specifying dash dash directoryperdb, we'll get slightly different organization in the way that we are going to have a folder for each single database that this mongod raised.\n",
    "\n",
    "If we look into the subfolder inside of our dbpath for our newly created database, we will see that we are going to have one collection and one index file.\n",
    "\n",
    "Collection for our a database collection, and obviously you will always have an underscore there's ID index.\n",
    "\n",
    "So this is the file that we have created.\n",
    "\n",
    "But we can go a little bit step forward in terms of organization of our data, especially on WiredTiger.\n",
    "\n",
    "I repeated exactly the same process.\n",
    "\n",
    "I created, again, our hello database.\n",
    "\n",
    "And here, I've shut down our mongod again.\n",
    "\n",
    "If we look into our database folder, our dbpath, we can see that we're still creating one single folder for each database that our mongod holds.\n",
    "\n",
    "But if we're looking at the hello database now, we're going to have a different organization.\n",
    "\n",
    "We're going to have a single directory for collections and one for all index files.\n",
    "\n",
    "So that sounds cool and all, but what does this have to do with performance anyway?\n",
    "\n",
    "Well, if you have several disks in your server, this will enable a great deal of I/O paralyzation.\n",
    "\n",
    "To do this, we create symbolic links to mount points on different physical drives.\n",
    "\n",
    "Every time you write or read from our database, we will most likely be using the two data structures, the collections and the indexes that support our queries, or when we need to be updated, we will write the data to the collection and to the indexes too.\n",
    "\n",
    "Paralyzation of I/O can improve the overall throughput of our persistency layer, and therefore, positively impacting the performance of operations.\n",
    "\n",
    "Mongod also offers compression while storing information on disc.\n",
    "\n",
    "We instruct our storage engine to store data on disk using a compression algorithm.\n",
    "\n",
    "This has a direct impact on performance by performing smaller I/O operations, which means that smaller data is faster I/O, at the cost of CPU cycles.\n",
    "\n",
    "Before writing data to disk, data will be allocated in memory.\n",
    "\n",
    "Without getting ourselves too overwhelmed in details of memory allocation, all data is eventually written to this, for persistency reasons.\n",
    "\n",
    "This process will be triggered by two main ways, user side, by specifying a particular writeConcorn, or forcing an [INAUDIBLE] sync operation within administration command, or by the periodical internal process that regulates how data needs to be flushed and synced into the data file.\n",
    "\n",
    "This is defined by sync periods.\n",
    "\n",
    "Journaling is as well an essential component of our persistency mechanism.\n",
    "\n",
    "The journal file acts as a safeguard against data corruption caused by incomplete data file writes.\n",
    "\n",
    "The system suffers a shut down and expected data stored in the journal will be used to recover into a consistent correct state.\n",
    "\n",
    "Now, journal has its own file structure that include individual write operations.\n",
    "\n",
    "To minimize the performance impact of journal, the journal flushes our performed using group commits in a compressed format.\n",
    "\n",
    "All writes to the journal file are atomic, ensuring consistency of on this journal files.\n",
    "\n",
    "From the application perspective, and taking performance of operations in mind, we can also force data to be synced to journal before acknowledging a write.\n",
    "\n",
    "This is using j equals true in our writeConcern.\n",
    "\n",
    "That said, keep in mind that these will have some impact in the performance of your application.\n",
    "\n",
    "We will wait till the sync is done to disk, and then confirm back that the write has been acknowledged.\n",
    "\n",
    "And this is how data is stored on disk."
   ]
  },
  {
   "cell_type": "markdown",
   "id": "e0c36325",
   "metadata": {},
   "source": [
    "# Single Field Indexes"
   ]
  },
  {
   "cell_type": "raw",
   "id": "e0953395",
   "metadata": {},
   "source": [
    "# Simplest indexes in MongoDB\n",
    "# db.<collection>.createIndex({ <field>: <direction> })\n",
    "\n",
    "# Key features\n",
    " - Keys from only one field\n",
    " - Can find a single value for the indexed field\n",
    " - Can find a range of values\n",
    " - Can use dot notation to index fields in subdocuments\n",
    " - Can be used to find several distinct values in a single query"
   ]
  },
  {
   "cell_type": "code",
   "execution_count": null,
   "id": "6d99f098",
   "metadata": {},
   "outputs": [],
   "source": [
    "# execute the following query and collect execution statistics\n",
    "db.people.find({ \"ssn\" : \"720-38-5636\" }).explain(\"executionStats\")"
   ]
  },
  {
   "cell_type": "markdown",
   "id": "40d4d0c6",
   "metadata": {},
   "source": [
    "<img src=\"img/7.png\">"
   ]
  },
  {
   "cell_type": "markdown",
   "id": "ef6a4ad1",
   "metadata": {},
   "source": [
    "<img src=\"img/8.png\">"
   ]
  },
  {
   "cell_type": "code",
   "execution_count": null,
   "id": "8b50ee26",
   "metadata": {},
   "outputs": [],
   "source": [
    "# create an ascending index on ssn\n",
    "db.people.createIndex( { ssn : 1 } )"
   ]
  },
  {
   "cell_type": "code",
   "execution_count": null,
   "id": "cf3df69c",
   "metadata": {},
   "outputs": [],
   "source": [
    "# create an explainable object for the people collection\n",
    "exp = db.people.explain(\"executionStats\")\n",
    "\n",
    "# execute the same query again (should use an index)\n",
    "exp.find( { \"ssn\" : \"720-38-5636\" } ) "
   ]
  },
  {
   "cell_type": "markdown",
   "id": "c03a014c",
   "metadata": {},
   "source": [
    "<img src=\"img/9.png\">"
   ]
  },
  {
   "cell_type": "markdown",
   "id": "6f6d0df6",
   "metadata": {},
   "source": [
    "<img src=\"img/10.png\">"
   ]
  },
  {
   "cell_type": "code",
   "execution_count": null,
   "id": "e1b5ed0d",
   "metadata": {},
   "outputs": [],
   "source": [
    "# execute a new query on the explainable object (can't use the index)\n",
    "exp.find( { last_name : \"Acevedo\" } )"
   ]
  },
  {
   "cell_type": "markdown",
   "id": "d102d965",
   "metadata": {},
   "source": [
    "<img src=\"img/11.png\">"
   ]
  },
  {
   "cell_type": "markdown",
   "id": "d069e297",
   "metadata": {},
   "source": [
    "<img src=\"img/12.png\">"
   ]
  },
  {
   "cell_type": "code",
   "execution_count": null,
   "id": "f5ffcbf9",
   "metadata": {},
   "outputs": [],
   "source": [
    "# insert a documents with an embedded document\n",
    "db.examples.insertOne( { _id : 0, subdoc : { indexedField: \"value\", otherField : \"value\" } } )\n",
    "db.examples.insertOne( { _id : 1, subdoc : { indexedField : \"wrongValue\", otherField : \"value\" } } )\n",
    "\n",
    "# create an index using dot-notation\n",
    "db.examples.createIndex( { \"subdoc.indexedField\" : 1 } )\n",
    "\n",
    "# explain a query using dot-notation\n",
    "db.examples.explain(\"executionStats\").find( { \"subdoc.indexedField\" : \"value\" } )"
   ]
  },
  {
   "cell_type": "markdown",
   "id": "f7f59f5b",
   "metadata": {},
   "source": [
    "<img src=\"img/13.png\">"
   ]
  },
  {
   "cell_type": "raw",
   "id": "49273299",
   "metadata": {},
   "source": [
    "Because doing so, we'd have to query on the entire sub-document. It's much better to use dot notation when querying because we can just query on the fields that we care about in our sub-documents.\n",
    "\n",
    "If you do need to index on more than one field, you can use a compound index, which we'll learn about in another lesson."
   ]
  },
  {
   "cell_type": "code",
   "execution_count": null,
   "id": "552e0d13",
   "metadata": {},
   "outputs": [],
   "source": [
    "# explain a range query (using an index)\n",
    "exp.find( { ssn : { $gte : \"555-00-0000\", $lt : \"556-00-0000\" } } )"
   ]
  },
  {
   "cell_type": "code",
   "execution_count": null,
   "id": "22e7e84e",
   "metadata": {},
   "outputs": [],
   "source": [
    "# explain a query on a set of values\n",
    "exp.find( { \"ssn\" : { $in : [ \"001-29-9184\", \"177-45-0950\", \"265-67-9973\" ] } } )"
   ]
  },
  {
   "cell_type": "code",
   "execution_count": null,
   "id": "09c3c6ea",
   "metadata": {},
   "outputs": [],
   "source": [
    "# explain a query where only part of the predicates use a index\n",
    "exp.find( { \"ssn\" : { $in : [ \"001-29-9184\", \"177-45-0950\", \"265-67-9973\" ] }, last_name : { $gte : \"H\" } } )"
   ]
  },
  {
   "cell_type": "raw",
   "id": "054df08f",
   "metadata": {},
   "source": [
    "# If a query is matching documents on two or more fields, but the database only has a single field index for one of them,\n",
    "  what will happen is the database will filter using the index and then it will then look at those documents and fetch only\n",
    "  the ones that match the other predicates."
   ]
  },
  {
   "cell_type": "markdown",
   "id": "10e84998",
   "metadata": {},
   "source": [
    "# Understanding Explain"
   ]
  },
  {
   "cell_type": "code",
   "execution_count": null,
   "id": "41b32897",
   "metadata": {},
   "outputs": [],
   "source": [
    "# switch to the m201 database\n",
    "use m201"
   ]
  },
  {
   "cell_type": "code",
   "execution_count": null,
   "id": "5ae45a07",
   "metadata": {},
   "outputs": [],
   "source": [
    "# create an explainable object with no parameters\n",
    "# 越下面的情況回復的越複雜\n",
    "# 下面這種寫法是還沒有 execute前看看 performance\n",
    "exp = db.people.explain()"
   ]
  },
  {
   "cell_type": "code",
   "execution_count": null,
   "id": "3e0035c5",
   "metadata": {},
   "outputs": [],
   "source": [
    "# create an explainable object with the 'executionStats' parameter\n",
    "# 但是這個就會 execute\n",
    "expRun = db.people.explain(\"executionStats\")"
   ]
  },
  {
   "cell_type": "code",
   "execution_count": null,
   "id": "c12531c6",
   "metadata": {},
   "outputs": [],
   "source": [
    "# and one final explainable object with the 'allPlansExecution' parameter\n",
    "# 這個也會 execute\n",
    "expRunVerbose = db.people.explain(\"allPlansExecution\")"
   ]
  },
  {
   "cell_type": "code",
   "execution_count": null,
   "id": "6b0667e7",
   "metadata": {},
   "outputs": [],
   "source": [
    "# execute and explain the query, collecting execution statistics\n",
    "expRun.find({\"last_name\":\"Johnson\", \"address.state\":\"New York\"})"
   ]
  },
  {
   "cell_type": "code",
   "execution_count": null,
   "id": "83d11094",
   "metadata": {},
   "outputs": [],
   "source": [
    "# create an index on last_name\n",
    "db.people.createIndex({last_name:1})"
   ]
  },
  {
   "cell_type": "code",
   "execution_count": null,
   "id": "e57c9e56",
   "metadata": {},
   "outputs": [],
   "source": [
    "# rerun the query (uses the index)\n",
    "# 不錯但不是最好\n",
    "expRun.find({\"last_name\":\"Johnson\", \"address.state\":\"New York\"})"
   ]
  },
  {
   "cell_type": "code",
   "execution_count": null,
   "id": "4621c40c",
   "metadata": {},
   "outputs": [],
   "source": [
    "# create a compound index\n",
    "db.people.createIndex({\"address.state\": 1, last_name: 1})"
   ]
  },
  {
   "cell_type": "code",
   "execution_count": null,
   "id": "04252de8",
   "metadata": {},
   "outputs": [],
   "source": [
    "# rerun the query (uses the new index)\n",
    "# 更好的表現\n",
    "# 會有 rejectedplan\n",
    "expRun.find({\"last_name\":\"Johnson\", \"address.state\":\"New York\"})"
   ]
  },
  {
   "cell_type": "code",
   "execution_count": null,
   "id": "da95e29f",
   "metadata": {},
   "outputs": [],
   "source": [
    "# run a sort query\n",
    "var res = db.people.find({\"last_name\":\"Johnson\", \"address.state\":\"New York\"}).sort({\"birthday\":1}).explain(\"executionStats\")"
   ]
  },
  {
   "cell_type": "code",
   "execution_count": null,
   "id": "9fad0d83",
   "metadata": {},
   "outputs": [],
   "source": [
    "# checkout the execution stages (doing an in-memory sort)\n",
    "# executionStages 是由下往上看，所以最後一步是 sort\n",
    "res.executionStats.executionStages"
   ]
  },
  {
   "cell_type": "markdown",
   "id": "2e16312d",
   "metadata": {},
   "source": [
    "<img src=\"img/14.png\">"
   ]
  },
  {
   "cell_type": "raw",
   "id": "23380e5a",
   "metadata": {},
   "source": [
    "we can see that we're doing an index scan.\n",
    "\n",
    "But after our index scan, we're doing a fetch.\n",
    "\n",
    "And after that fetch, we're doing sort key generator.\n",
    "\n",
    "And this means that we're doing an in memory sort.\n",
    "\n",
    "And this is because we don't have any indexes to support our sorting.\n",
    "\n",
    "So there's two things I want to point out here.\n",
    "\n",
    "First, there is memory usage, which is how much memory was used by the sort.\n",
    "\n",
    "Here, we are using about 2.8k.\n",
    "\n",
    "And there's also the memory limit.\n",
    "\n",
    "And this is 32 megabytes.\n",
    "\n",
    "And what this means is, is if we ever have a sort that uses more than 32 megabytes, then the server is going to cancel that query.\n",
    "\n",
    "And so we can do some simple math.\n",
    "\n",
    "We can say, OK, how many documents are we returning?\n",
    "\n",
    "What's the average size of our documents?\n",
    "\n",
    "And if we multiply those two numbers together, and that's bigger than 32 megabytes, then we can predict that the sort is going to cancel."
   ]
  },
  {
   "cell_type": "markdown",
   "id": "c780631b",
   "metadata": {},
   "source": [
    "### 範例01"
   ]
  },
  {
   "cell_type": "raw",
   "id": "8fdc3de7",
   "metadata": {},
   "source": [
    "If you observe the following lines in the output of explain('executionStats'), what can you deduce?"
   ]
  },
  {
   "cell_type": "code",
   "execution_count": null,
   "id": "af541c84",
   "metadata": {},
   "outputs": [],
   "source": [
    "\"executionStats\" : {\n",
    "  \"executionSuccess\" : true,\n",
    "  \"nReturned\" : 23217,\n",
    "  \"executionTimeMillis\" : 91,\n",
    "  \"totalKeysExamined\" : 23217,\n",
    "  \"totalDocsExamined\" : 23217,\n",
    "  \"executionStages\" : {\n",
    "    \"stage\" : \"SORT\",\n",
    "    \"nReturned\" : 23217,\n",
    "    \"executionTimeMillisEstimate\" : 26,\n",
    "    \"works\" : 46437,\n",
    "    \"advanced\" : 23217,\n",
    "    \"needTime\" : 23219,\n",
    "    \"needYield\" : 0,\n",
    "    \"saveState\" : 363,\n",
    "    \"restoreState\" : 363,\n",
    "    \"isEOF\" : 1,\n",
    "    \"sortPattern\" : {\n",
    "      \"stars\" : 1\n",
    "    },\n",
    "    \"memUsage\" : 32522511,\n",
    "    \"memLimit\" : 33554432,"
   ]
  },
  {
   "cell_type": "raw",
   "id": "3974fb05",
   "metadata": {},
   "source": [
    "# The index selected for the query was not useful for the sort part of the query\n",
    "  Because we have \"totalKeysExamined\" : 23217, we know an index was used.\n",
    "  The \"stage\" : \"SORT\" tells us the index was not use for the sort and the system needed to create an additional stage to\n",
    "  perform it.\n",
    "\n",
    "# An in-memory sort was performed\n",
    "  The \"stage\" : \"SORT\" tells us the index was not use for the sort and a sort had to done, so it had to be done in memory.\n",
    "\n",
    "# The system came very close to throwing an exception instead of returning results\n",
    "  \"memUsage\" : 32522511, \"memLimit\" : 33554432 tells us that 32,522,511 bytes out of a maximum available of 33,554,432 were\n",
    "  used to perform the sort in memory. If the sort operation would have just a few more documents, it may have gone over the\n",
    "  limit. In this case, the sort stage is aborted and an exception is thrown to the client application. This means that you\n",
    "  need to avoid operations that perform in-memory sort. They may seem to work in your test environment with smaller\n",
    "  dataset, however, they will fail with a large production dataset."
   ]
  },
  {
   "cell_type": "markdown",
   "id": "380a4291",
   "metadata": {},
   "source": [
    "# Understanding Explain for Sharded Clusters"
   ]
  },
  {
   "cell_type": "code",
   "execution_count": null,
   "id": "197d78aa",
   "metadata": {},
   "outputs": [],
   "source": [
    "# switch to the m201 database\n",
    "use m201"
   ]
  },
  {
   "cell_type": "code",
   "execution_count": null,
   "id": "624c6b2b",
   "metadata": {},
   "outputs": [],
   "source": [
    "# enable sharding on the m201 database\n",
    "sh.enableSharding(\"m201\")"
   ]
  },
  {
   "cell_type": "code",
   "execution_count": null,
   "id": "bd22ea8d",
   "metadata": {},
   "outputs": [],
   "source": [
    "# shard the people collection on the _id index\n",
    "sh.shardCollection(\"m201.people\", {_id: 1})"
   ]
  },
  {
   "cell_type": "code",
   "execution_count": null,
   "id": "9118ea1e",
   "metadata": {},
   "outputs": [],
   "source": [
    "# after the import, check the shard distribution (data should be on both shards)\n",
    "db.people.getShardDistribution()"
   ]
  },
  {
   "cell_type": "code",
   "execution_count": null,
   "id": "4972e6d9",
   "metadata": {},
   "outputs": [],
   "source": [
    "# checkout the explain output for a sharded collection\n",
    "db.people.find({\"last_name\":\"Johnson\", \"address.state\":\"New York\"}).explain(\"executionStats\")"
   ]
  },
  {
   "cell_type": "raw",
   "id": "5342c05f",
   "metadata": {},
   "source": [
    "ow, when this query is ran on the mongos, not much is happening on that mongos itself.\n",
    "\n",
    "The mongos is going to send the query to each shard and then each shard is going to evaluate the query, select a plan, and then all that information will be aggregated back on the mongos(有些會在指定的 shard 上執行).\n",
    "\n",
    "So most of the time, we would expect that the same plan be chosen for each shard.\n",
    "\n",
    "But it may happen that a shard chose a different plan simply because it had less or more data to process.\n",
    "\n",
    "And this output is very similar to what we've been seeing.\n",
    "\n",
    "If we go up to the winningPlan, we will see that the last stage is to this shard merge.\n",
    "\n",
    "And so when we drill in here, we can see that we have this shards array, and we first have shard 1.\n",
    "\n",
    "And shard 1 has a winning plan which was to do a collection scan.\n",
    "\n",
    "And then there's also shard 2, whose winning plan was also to do a collection scan.\n",
    "\n",
    "So all those documents were passed back up to the mongos, where they were merged together."
   ]
  },
  {
   "cell_type": "raw",
   "id": "6cef3f66",
   "metadata": {},
   "source": [
    "我們應該特別關注\n",
    "# Execution time \n",
    "# Number of keys read, documents read and documents returns\n",
    "# plans selected and rejected"
   ]
  },
  {
   "cell_type": "markdown",
   "id": "e8d9007f",
   "metadata": {},
   "source": [
    "---"
   ]
  },
  {
   "cell_type": "raw",
   "id": "f312fb0f",
   "metadata": {},
   "source": [
    "What you've learned\n",
    "\n",
    "# What information explain() provides us\n",
    "# How it works\n",
    "# What the oupput looks like in a sharded cluster\n",
    "# Explain() in MongoDB Compass"
   ]
  },
  {
   "cell_type": "markdown",
   "id": "311e877a",
   "metadata": {},
   "source": [
    "### 範例01"
   ]
  },
  {
   "cell_type": "raw",
   "id": "1a11bbb6",
   "metadata": {},
   "source": [
    "With the output of an explain command, what can you deduce?"
   ]
  },
  {
   "cell_type": "raw",
   "id": "51fe0ed9",
   "metadata": {},
   "source": [
    "# The index used by the chosen plan\n",
    "\n",
    "Yes, additional information will be the direction the index is used, the bounds of the values looked at and the number of keys examined.\n",
    "\n",
    "# If a sort was performed by walking the index or done in memory\n",
    "\n",
    "Yes.\n",
    "\n",
    "# All the available indexes for this collection\n",
    "\n",
    "No, you will be able to see the ones considered by the other plans that were rejected with the \"allExecutionPlans\" option, but this is possibly only a subset of all indexes.\n",
    "\n",
    "# All the different stages the query needs to go through with details about the time it takes, the number of documents\n",
    "  processed and returned to the next stage in the pipeline\n",
    "\n",
    "Yes.\n",
    "\n",
    "# The estimation of the cardinalities of the distribution of the values\n",
    "\n",
    "No, while some RDBMS use this kind of statistics to select indexes, MongoDB executes all select plans for a short duration of time and picks the best based on execution results."
   ]
  },
  {
   "cell_type": "markdown",
   "id": "93069a5d",
   "metadata": {},
   "source": [
    "# Sorting with Indexes"
   ]
  },
  {
   "cell_type": "raw",
   "id": "d549394a",
   "metadata": {},
   "source": [
    "Methods for sorting\n",
    "\n",
    "- in memory\n",
    "- Using an index"
   ]
  },
  {
   "cell_type": "markdown",
   "id": "2620fc74",
   "metadata": {},
   "source": [
    "<img src=\"img/15.png\">"
   ]
  },
  {
   "cell_type": "markdown",
   "id": "078431a0",
   "metadata": {},
   "source": [
    "<img src=\"img/16.png\">"
   ]
  },
  {
   "cell_type": "code",
   "execution_count": null,
   "id": "4232dd10",
   "metadata": {},
   "outputs": [],
   "source": [
    "# switch to the m201 database\n",
    "use m201"
   ]
  },
  {
   "cell_type": "code",
   "execution_count": null,
   "id": "8deae182",
   "metadata": {},
   "outputs": [],
   "source": [
    "db.people.dropIndexes()"
   ]
  },
  {
   "cell_type": "code",
   "execution_count": null,
   "id": "e8a1c0c7",
   "metadata": {},
   "outputs": [],
   "source": [
    "db.people.getIndexes()"
   ]
  },
  {
   "cell_type": "code",
   "execution_count": null,
   "id": "22c3ee37",
   "metadata": {},
   "outputs": [],
   "source": [
    "db.people.createIndex({ \"ssn\": 1 })"
   ]
  },
  {
   "cell_type": "code",
   "execution_count": null,
   "id": "a95e65cf",
   "metadata": {},
   "outputs": [],
   "source": [
    "# find all documents and sort them by ssn\n",
    "db.people.find({}, { _id : 0, last_name: 1, first_name: 1, ssn: 1 }).sort({ ssn: 1 })"
   ]
  },
  {
   "cell_type": "code",
   "execution_count": null,
   "id": "51b25976",
   "metadata": {},
   "outputs": [],
   "source": [
    "# create an explainable object for the people collection\n",
    "var exp = db.people.explain('executionStats')\n",
    "\n",
    "# and rerun the query (uses the index for sorting)\n",
    "exp.find({}, { _id : 0, last_name: 1, first_name: 1, ssn: 1 }).sort({ ssn: 1 })"
   ]
  },
  {
   "cell_type": "raw",
   "id": "0ce16e5d",
   "metadata": {},
   "source": [
    "# IXSCAN -> FETCH ->  PROJECTION_SIMPLE "
   ]
  },
  {
   "cell_type": "markdown",
   "id": "fa04e197",
   "metadata": {},
   "source": [
    "<img src=\"img/17.png\">"
   ]
  },
  {
   "cell_type": "code",
   "execution_count": null,
   "id": "9330f6ce",
   "metadata": {},
   "outputs": [],
   "source": [
    "# this time, sort by first_name (didn't use the index for sorting)\n",
    "exp.find({}, { _id : 0, last_name: 1, first_name: 1, ssn: 1 }).sort({ first_name: 1 })"
   ]
  },
  {
   "cell_type": "raw",
   "id": "404e4cf8",
   "metadata": {},
   "source": [
    "# COLLSCAN -> PROJECTION_SIMPLE -> SORT (sort in memory)"
   ]
  },
  {
   "cell_type": "markdown",
   "id": "2b4f0598",
   "metadata": {},
   "source": [
    "<img src=\"img/18.png\">"
   ]
  },
  {
   "cell_type": "code",
   "execution_count": null,
   "id": "fbb4e1be",
   "metadata": {},
   "outputs": [],
   "source": [
    "# and rerun the first query, but sort descending (walks the index backward)\n",
    "exp.find({}, { _id : 0, last_name: 1, first_name: 1, ssn: 1 }).sort({ ssn: -1 })"
   ]
  },
  {
   "cell_type": "raw",
   "id": "573690f6",
   "metadata": {},
   "source": [
    "# IXSCAN(direction: \"backword\") -> FETCH ->  PROJECTION_SIMPLE "
   ]
  },
  {
   "cell_type": "code",
   "execution_count": null,
   "id": "89ddd86c",
   "metadata": {},
   "outputs": [],
   "source": [
    "# filtering and sorting in the same query (both using the index, backward)\n",
    "exp.find( { ssn : /^555/ }, { _id : 0, last_name: 1, first_name: 1, ssn: 1 } ).sort( { ssn : -1 } )"
   ]
  },
  {
   "cell_type": "raw",
   "id": "60e5cfb1",
   "metadata": {},
   "source": [
    "# IXSCAN(direction: \"backword\") -> FETCH ->  PROJECTION_SIMPLE "
   ]
  },
  {
   "cell_type": "markdown",
   "id": "9a8d127a",
   "metadata": {},
   "source": [
    "<img src=\"img/19.png\">"
   ]
  },
  {
   "cell_type": "code",
   "execution_count": null,
   "id": "abce1089",
   "metadata": {},
   "outputs": [],
   "source": [
    "# drop all indexes\n",
    "db.people.dropIndexes()\n",
    "\n",
    "# create a new descending (instead of ascending) index on ssn\n",
    "db.people.createIndex({ ssn: -1 })"
   ]
  },
  {
   "cell_type": "code",
   "execution_count": null,
   "id": "987403e2",
   "metadata": {},
   "outputs": [],
   "source": [
    "# rerun the same query, now walking the index forward\n",
    "exp.find( { ssn : /^555/ }, { _id : 0, last_name: 1, first_name: 1, ssn: 1 } ).sort( { ssn : -1 } )"
   ]
  },
  {
   "cell_type": "raw",
   "id": "9f35be3e",
   "metadata": {},
   "source": [
    "# IXSCAN(direction: \"forword\") -> FETCH ->  PROJECTION_SIMPLE "
   ]
  },
  {
   "cell_type": "markdown",
   "id": "d8a0e709",
   "metadata": {},
   "source": [
    "---"
   ]
  },
  {
   "cell_type": "raw",
   "id": "4ed68017",
   "metadata": {},
   "source": [
    "# Use indexes to sort\n",
    "# Use indexes to both match and sort on a single query\n",
    "# Create indexes that can be used for a combination of ascending and descending sorting orders"
   ]
  },
  {
   "cell_type": "markdown",
   "id": "50f14132",
   "metadata": {},
   "source": [
    "# Querying on Compound Indexes "
   ]
  },
  {
   "cell_type": "raw",
   "id": "e2eaaa1c",
   "metadata": {},
   "source": [
    "# 注意 Compound Indexes 前面的 field 比後面的重要\n",
    "# 而且是 one dimension"
   ]
  },
  {
   "cell_type": "markdown",
   "id": "c80a55da",
   "metadata": {},
   "source": [
    "<img src=\"img/20.png\">"
   ]
  },
  {
   "cell_type": "raw",
   "id": "69a7df57",
   "metadata": {},
   "source": [
    "# 沒有使用 Index"
   ]
  },
  {
   "cell_type": "markdown",
   "id": "e1b928f6",
   "metadata": {},
   "source": [
    "<img src=\"img/21.png\">"
   ]
  },
  {
   "cell_type": "raw",
   "id": "25ce912e",
   "metadata": {},
   "source": [
    "# db.createIndex({ last_name: 1 })"
   ]
  },
  {
   "cell_type": "markdown",
   "id": "92a22b0d",
   "metadata": {},
   "source": [
    "<img src=\"img/22.png\">"
   ]
  },
  {
   "cell_type": "raw",
   "id": "7378d938",
   "metadata": {},
   "source": [
    "# db.createIndex({ last_name: 1, first_name: 1 })"
   ]
  },
  {
   "cell_type": "markdown",
   "id": "4b1e571a",
   "metadata": {},
   "source": [
    "<img src=\"img/23.png\">"
   ]
  },
  {
   "cell_type": "raw",
   "id": "5d949461",
   "metadata": {},
   "source": [
    "# range search"
   ]
  },
  {
   "cell_type": "markdown",
   "id": "69943352",
   "metadata": {},
   "source": [
    "<img src=\"img/24.png\">"
   ]
  },
  {
   "cell_type": "markdown",
   "id": "79d6fd4e",
   "metadata": {},
   "source": [
    "### Index Prefixes"
   ]
  },
  {
   "cell_type": "markdown",
   "id": "5a018fac",
   "metadata": {},
   "source": [
    "<img src=\"img/25.png\">"
   ]
  },
  {
   "cell_type": "raw",
   "id": "5ed2fce4",
   "metadata": {},
   "source": [
    "# db.createIndex({ job: 1, employer: 1, last_name: 1, first_name: 1})"
   ]
  },
  {
   "cell_type": "markdown",
   "id": "4f8d0b71",
   "metadata": {},
   "source": [
    "<img src=\"img/26.png\">"
   ]
  },
  {
   "cell_type": "markdown",
   "id": "443968ce",
   "metadata": {},
   "source": [
    "<img src=\"img/27.png\">"
   ]
  },
  {
   "cell_type": "markdown",
   "id": "1880da27",
   "metadata": {},
   "source": [
    "<img src=\"img/28.png\">"
   ]
  },
  {
   "cell_type": "markdown",
   "id": "f5be341e",
   "metadata": {},
   "source": [
    "<img src=\"img/29.png\">"
   ]
  },
  {
   "cell_type": "markdown",
   "id": "776c334e",
   "metadata": {},
   "source": [
    "# When you can sort with Indexes"
   ]
  },
  {
   "cell_type": "raw",
   "id": "037cdb70",
   "metadata": {},
   "source": [
    "# db.createIndex({ job: 1, employer: 1, last_name: 1, first_name: 1})"
   ]
  },
  {
   "cell_type": "code",
   "execution_count": null,
   "id": "ede92ea9",
   "metadata": {},
   "outputs": [],
   "source": [
    "# confirm you still have an index on job, employer, last_name, & first_name\n",
    "db.people.getIndexes()"
   ]
  },
  {
   "cell_type": "code",
   "execution_count": null,
   "id": "f0fc51e7",
   "metadata": {},
   "outputs": [],
   "source": [
    "# create an explainable object for the people collection\n",
    "var exp = db.people.explain(\"executionStats\")"
   ]
  },
  {
   "cell_type": "code",
   "execution_count": null,
   "id": "a7d753ec",
   "metadata": {},
   "outputs": [],
   "source": [
    "# sort all documents using the verbatim index key pattern\n",
    "exp.find({}).sort({ job: 1, employer: 1, last_name : 1, first_name : 1 })"
   ]
  },
  {
   "cell_type": "code",
   "execution_count": null,
   "id": "7c059cff",
   "metadata": {},
   "outputs": [],
   "source": [
    "# sort all documents using the first two fields of the index (uses the index)\n",
    "exp.find({}).sort({ job: 1, employer: 1 })"
   ]
  },
  {
   "cell_type": "code",
   "execution_count": null,
   "id": "c4f22c30",
   "metadata": {},
   "outputs": [],
   "source": [
    "# sort all documents, swapping employer and job (doesn't use the index)\n",
    "exp.find({}).sort({ employer: 1, job: 1 })"
   ]
  },
  {
   "cell_type": "code",
   "execution_count": null,
   "id": "6f2f6d8b",
   "metadata": {},
   "outputs": [],
   "source": [
    "# all of these queries can use the index\n",
    "db.people.find({}).sort({ job: 1 })\n",
    "db.people.find({}).sort({ job: 1, employer: 1 })\n",
    "db.people.find({}).sort({ job: 1, employer: 1, last_name: 1 })"
   ]
  },
  {
   "cell_type": "code",
   "execution_count": null,
   "id": "a311840f",
   "metadata": {},
   "outputs": [],
   "source": [
    "# will still use the index (for sorting)\n",
    "exp.find({ email:\"jenniferfreeman@hotmail.com\" }).sort({ job: 1 })"
   ]
  },
  {
   "cell_type": "code",
   "execution_count": null,
   "id": "cf2cfde1",
   "metadata": {},
   "outputs": [],
   "source": [
    "# use the index for filtering and sorting\n",
    "# 重要\n",
    "# 如果第二個 index 是有 range 應該就沒辦法用 index 去 sort\n",
    "exp.find({ job: 'Graphic designer', employer: 'Wilson Ltd' }).sort({ last_name: 1 })"
   ]
  },
  {
   "cell_type": "code",
   "execution_count": null,
   "id": "0cad3fe6",
   "metadata": {},
   "outputs": [],
   "source": [
    "# doesn't follow an index prefix, and can't use the index for sorting, only filtering\n",
    "exp.find({ job: 'Graphic designer' }).sort({ last_name: 1 })"
   ]
  },
  {
   "cell_type": "markdown",
   "id": "83a557dc",
   "metadata": {},
   "source": [
    "---"
   ]
  },
  {
   "cell_type": "code",
   "execution_count": null,
   "id": "b719218b",
   "metadata": {},
   "outputs": [],
   "source": [
    "# create a new compound index\n",
    "db.coll.createIndex({ a: 1, b: -1, c: 1 })"
   ]
  },
  {
   "cell_type": "code",
   "execution_count": null,
   "id": "71cf39a5",
   "metadata": {},
   "outputs": [],
   "source": [
    "# walk the index forward\n",
    "db.coll.find().sort({ a: 1, b: -1, c: 1 })"
   ]
  },
  {
   "cell_type": "code",
   "execution_count": null,
   "id": "25957bfc",
   "metadata": {},
   "outputs": [],
   "source": [
    "# walk the index backward, by inverting the sort predicate\n",
    "db.coll.find().sort({ a: -1, b: 1, c: -1 })"
   ]
  },
  {
   "cell_type": "code",
   "execution_count": null,
   "id": "4c9a31e3",
   "metadata": {},
   "outputs": [],
   "source": [
    "# all of these queries use the index for sorting\n",
    "db.coll.find().sort({ a: 1 })\n",
    "db.coll.find().sort({ a: 1, b: -1 })\n",
    "db.coll.find().sort({ a: -1 })\n",
    "db.coll.find().sort({ a: -1, b: 1 })"
   ]
  },
  {
   "cell_type": "code",
   "execution_count": null,
   "id": "95d3623f",
   "metadata": {},
   "outputs": [],
   "source": [
    "# uses the index for sorting\n",
    "exp.find().sort({job: -1, employer: -1})"
   ]
  },
  {
   "cell_type": "code",
   "execution_count": null,
   "id": "de2c4991",
   "metadata": {},
   "outputs": [],
   "source": [
    "# sorting is done in-memory\n",
    "exp.find().sort({job: -1, employer: 1})"
   ]
  },
  {
   "cell_type": "markdown",
   "id": "0fceea83",
   "metadata": {},
   "source": [
    "---"
   ]
  },
  {
   "cell_type": "raw",
   "id": "79ea9cd2",
   "metadata": {},
   "source": [
    "# We can sort our queries by using index prefixes in our sort predicates\n",
    "# We can filter and sort our queries by splitting up our index predix between the query and sort predicates\n",
    "# We can sort our documents with an index if our sort predicate inverts our index keys or their on of their prefixes"
   ]
  },
  {
   "cell_type": "raw",
   "id": "fe3a0c84",
   "metadata": {},
   "source": [
    "# Index prefixes can be used in query predicates to increase index utilization.\n",
    "# Index prefixes can be used in sort predicates to prevent in-memory sorts.\n",
    "# We can invert the keys of an index in our sort predicate to utilize an index by walking it backwards.\n",
    "# It's possible to have a sorted query use an index for both sorting and filtering."
   ]
  },
  {
   "cell_type": "markdown",
   "id": "a3df8613",
   "metadata": {},
   "source": [
    "# Multikey Indexes"
   ]
  },
  {
   "cell_type": "raw",
   "id": "f2a945ef",
   "metadata": {},
   "source": [
    "In this lesson, we're going to talk about multikey indexes.\n",
    "\n",
    "Because of MongoDB's flexible data model, we're able to embed arrays into our documents. And when we index on a field that is an array, this is what we call a multikey index."
   ]
  },
  {
   "cell_type": "code",
   "execution_count": null,
   "id": "d81171d1",
   "metadata": {},
   "outputs": [],
   "source": [
    "# switch to the m201 database\n",
    "use m201"
   ]
  },
  {
   "cell_type": "code",
   "execution_count": null,
   "id": "17294760",
   "metadata": {},
   "outputs": [],
   "source": [
    "# insert a document into the products collection\n",
    "db.products.insert({\n",
    "  productName: \"MongoDB Short Sleeve T-Shirt\",\n",
    "  categories: [\"T-Shirts\", \"Clothing\", \"Apparel\"],\n",
    "  stock: { size: \"L\", color: \"green\", quantity: 100 }\n",
    "})"
   ]
  },
  {
   "cell_type": "code",
   "execution_count": null,
   "id": "4b930c5e",
   "metadata": {},
   "outputs": [],
   "source": [
    "# create an index on stock.quantity\n",
    "db.products.createIndex({ \"stock.quantity\": 1})"
   ]
  },
  {
   "cell_type": "code",
   "execution_count": null,
   "id": "92f20194",
   "metadata": {},
   "outputs": [],
   "source": [
    "# create an explainable object on the products collection\n",
    "var exp = db.products.explain()\n",
    "\n",
    "# look at the explain output for the query (uses an index, isMultiKey is false)\n",
    "exp.find({ \"stock.quantity\": 100 })"
   ]
  },
  {
   "cell_type": "code",
   "execution_count": null,
   "id": "86a02683",
   "metadata": {},
   "outputs": [],
   "source": [
    "# insert a document where stock is now an array\n",
    "db.products.insert({\n",
    "  productName: \"MongoDB Long Sleeve T-Shirt\",\n",
    "  categories: [\"T-Shirts\", \"Clothing\", \"Apparel\"],\n",
    "  stock: [\n",
    "    { size: \"S\", color: \"red\", quantity: 25 },\n",
    "    { size: \"S\", color: \"blue\", quantity: 10 },\n",
    "    { size: \"M\", color: \"blue\", quantity: 50 }\n",
    "  ]\n",
    "})"
   ]
  },
  {
   "cell_type": "code",
   "execution_count": null,
   "id": "304cb925",
   "metadata": {},
   "outputs": [],
   "source": [
    "# rerun our same query (still uses an index, but isMultiKey is now true)\n",
    "exp.find({ \"stock.quantity\": 100 })"
   ]
  },
  {
   "cell_type": "code",
   "execution_count": null,
   "id": "bb4feef4",
   "metadata": {},
   "outputs": [],
   "source": [
    "# creating an index on two array fields will fail\n",
    "db.products.createIndex({ categories: 1, \"stock.quantity\": 1 })"
   ]
  },
  {
   "cell_type": "code",
   "execution_count": null,
   "id": "86c29e46",
   "metadata": {},
   "outputs": [],
   "source": [
    "# but compound indexes with only 1 array field are good\n",
    "db.products.createIndex({ productName: 1, \"stock.quantity\": 1 })"
   ]
  },
  {
   "cell_type": "code",
   "execution_count": null,
   "id": "1f48f9bc",
   "metadata": {},
   "outputs": [],
   "source": [
    "# productName can be an array if stock isn't\n",
    "db.products.insert({\n",
    "  productName: [\n",
    "    \"MongoDB Short Sleeve T-Shirt\",\n",
    "    \"MongoDB Short Sleeve Shirt\"\n",
    "  ],\n",
    "  categories: [\"T-Shirts\", \"Clothing\", \"Apparel\"],\n",
    "  stock: { size: \"L\", color: \"green\", quantity: 100 }\n",
    "});"
   ]
  },
  {
   "cell_type": "code",
   "execution_count": null,
   "id": "09b8ffd9",
   "metadata": {},
   "outputs": [],
   "source": [
    "# but this will fail, because both productName and stock are arrays\n",
    "db.products.insert({\n",
    "  productName: [\n",
    "    \"MongoDB Short Sleeve T-Shirt\",\n",
    "    \"MongoDB Short Sleeve Shirt\"\n",
    "  ],\n",
    "  categories: [\"T-Shirts\", \"Clothing\", \"Apparel\"],\n",
    "  stock: [\n",
    "    { size: \"S\", color: \"red\", quantity: 25 },\n",
    "    { size: \"S\", color: \"blue\", quantity: 10 },\n",
    "    { size: \"M\", color: \"blue\", quantity: 50 }\n",
    "  ]\n",
    "})"
   ]
  },
  {
   "cell_type": "markdown",
   "id": "18d78b33",
   "metadata": {},
   "source": [
    "---"
   ]
  },
  {
   "cell_type": "raw",
   "id": "519f66e9",
   "metadata": {},
   "source": [
    "# How to create and use multikey indexes\n",
    "# The implications of multikey indexes in terms of index size\n",
    "# The limitations of multikey indexes"
   ]
  },
  {
   "cell_type": "markdown",
   "id": "4bbda57e",
   "metadata": {},
   "source": [
    "### 範例01"
   ]
  },
  {
   "cell_type": "raw",
   "id": "5267c46b",
   "metadata": {},
   "source": [
    "Given the following index:"
   ]
  },
  {
   "cell_type": "code",
   "execution_count": null,
   "id": "109b398d",
   "metadata": {},
   "outputs": [],
   "source": [
    "{ name: 1, emails: 1 }"
   ]
  },
  {
   "cell_type": "raw",
   "id": "a36a25db",
   "metadata": {},
   "source": [
    "When the following document is inserted, how many index entries will be created?"
   ]
  },
  {
   "cell_type": "code",
   "execution_count": null,
   "id": "4dc34699",
   "metadata": {},
   "outputs": [],
   "source": [
    "{\n",
    "  \"name\": \"Beatrice McBride\",\n",
    "  \"age\": 26,\n",
    "  \"emails\": [\n",
    "      \"puovvid@wamaw.kp\",\n",
    "      \"todujufo@zoehed.mh\",\n",
    "      \"fakmir@cebfirvot.pm\"\n",
    "  ]\n",
    "}"
   ]
  },
  {
   "cell_type": "raw",
   "id": "bfd421f5",
   "metadata": {},
   "source": [
    "Three is the correct answer. There would be the following index entries:"
   ]
  },
  {
   "cell_type": "code",
   "execution_count": null,
   "id": "d8c95388",
   "metadata": {},
   "outputs": [],
   "source": [
    "\"Beatrice McBride\", \"puovvid@wamaw.kp\"\n",
    "\"Beatrice McBride\", \"todujufo@zoehed.mh\"\n",
    "\"Beatrice McBride\", \"fakmir@cebfirvot.pm\""
   ]
  },
  {
   "cell_type": "markdown",
   "id": "8d591e12",
   "metadata": {},
   "source": [
    "# Partial Indexes"
   ]
  },
  {
   "cell_type": "markdown",
   "id": "d6e0c9ce",
   "metadata": {},
   "source": [
    "<img src=\"img/30.png\">"
   ]
  },
  {
   "cell_type": "markdown",
   "id": "d53d963f",
   "metadata": {},
   "source": [
    "<img src=\"img/31.png\">"
   ]
  },
  {
   "cell_type": "markdown",
   "id": "f2e4ac3f",
   "metadata": {},
   "source": [
    "### Partial Index Restrictions"
   ]
  },
  {
   "cell_type": "raw",
   "id": "6e337980",
   "metadata": {},
   "source": [
    "# You cannot specify both the partialFilterExpression and the sparse options\n",
    "# _id indexes cannot be partial indexes\n",
    "# Shard key indexes cannot be partial indexes"
   ]
  },
  {
   "cell_type": "code",
   "execution_count": null,
   "id": "d9305800",
   "metadata": {},
   "outputs": [],
   "source": [
    "# switch to the m201 database\n",
    "use m201"
   ]
  },
  {
   "cell_type": "code",
   "execution_count": null,
   "id": "902b6231",
   "metadata": {},
   "outputs": [],
   "source": [
    "# insert a restaurant document\n",
    "db.restaurants.insert({\n",
    "   \"name\" : \"Han Dynasty\",\n",
    "   \"cuisine\" : \"Sichuan\",\n",
    "   \"stars\" : 4.4,\n",
    "   \"address\" : {\n",
    "      \"street\" : \"90 3rd Ave\",\n",
    "      \"city\" : \"New York\",\n",
    "      \"state\" : \"NY\",\n",
    "      \"zipcode\" : \"10003\"\n",
    "   }\n",
    "})"
   ]
  },
  {
   "cell_type": "code",
   "execution_count": null,
   "id": "fac0e2e3",
   "metadata": {},
   "outputs": [],
   "source": [
    "# and run a find query on city and cuisine\n",
    "db.restaurants.find({'address.city': 'New York', 'cuisine': 'Sichuan'})"
   ]
  },
  {
   "cell_type": "code",
   "execution_count": null,
   "id": "33cb8650",
   "metadata": {},
   "outputs": [],
   "source": [
    "# create an explainable object\n",
    "var exp = db.restaurants.explain()\n",
    "\n",
    "# and rerun the query\n",
    "exp.find({'address.city': 'New York', cuisine: 'Sichuan'})"
   ]
  },
  {
   "cell_type": "code",
   "execution_count": null,
   "id": "4c0e1aab",
   "metadata": {},
   "outputs": [],
   "source": [
    "# create a partial index\n",
    "db.restaurants.createIndex(\n",
    "  { \"address.city\": 1, cuisine: 1 },\n",
    "  { partialFilterExpression: { 'stars': { $gte: 3.5 } } }\n",
    ")"
   ]
  },
  {
   "cell_type": "code",
   "execution_count": null,
   "id": "92c55f90",
   "metadata": {},
   "outputs": [],
   "source": [
    "# rerun the query (doesn't use the partial index)\n",
    "db.restaurants.find({'address.city': 'New York', 'cuisine': 'Sichuan'})"
   ]
  },
  {
   "cell_type": "code",
   "execution_count": null,
   "id": "d02aef83",
   "metadata": {},
   "outputs": [],
   "source": [
    "exp.find({'address.city': 'New York', 'cuisine': 'Sichuan'})"
   ]
  },
  {
   "cell_type": "code",
   "execution_count": null,
   "id": "3c28dea2",
   "metadata": {},
   "outputs": [],
   "source": [
    "# adding the stars predicate allows us to use the partial index\n",
    "# 要是子集\n",
    "exp.find({'address.city': 'New York', cuisine: 'Sichuan', stars: { $gt: 4.0 }})"
   ]
  },
  {
   "cell_type": "markdown",
   "id": "10a03ae5",
   "metadata": {},
   "source": [
    "---"
   ]
  },
  {
   "cell_type": "raw",
   "id": "4b008fe5",
   "metadata": {},
   "source": [
    "# How to create and use partial indexes\n",
    "# The advantages and disadvantages of partial indexes\n",
    "# How to predict when a query will ignore the existence of a partial index\n",
    "# How to emulate a sparse index with a partial index"
   ]
  },
  {
   "cell_type": "markdown",
   "id": "fda6cfb4",
   "metadata": {},
   "source": [
    "### 範例01"
   ]
  },
  {
   "cell_type": "raw",
   "id": "82116f42",
   "metadata": {},
   "source": [
    "All of the following are true:\n",
    "\n",
    "# Partial indexes represent a superset of the functionality of sparse indexes.\n",
    "# Partial indexes can be used to reduce the number of keys in an index.\n",
    "# Partial indexes support compound indexes.\n",
    "\n",
    "The following is not true:\n",
    "\n",
    "# Partial indexes don't support a uniqueness constraint.\n",
    "\n",
    "No, you can still specify a uniqueness constraint with a partial index. However, uniqueness will be limited to the keys covered by the partial filter expression."
   ]
  },
  {
   "cell_type": "markdown",
   "id": "8abcaeaa",
   "metadata": {},
   "source": [
    "# Text Indexes"
   ]
  },
  {
   "cell_type": "raw",
   "id": "d85ea9ff",
   "metadata": {},
   "source": [
    "# 正規表達式有 bad performance"
   ]
  },
  {
   "cell_type": "markdown",
   "id": "fa96bdcd",
   "metadata": {},
   "source": [
    "<img src=\"img/32.png\">"
   ]
  },
  {
   "cell_type": "raw",
   "id": "051e12d1",
   "metadata": {},
   "source": [
    "# 可以使用 text indexes"
   ]
  },
  {
   "cell_type": "markdown",
   "id": "6c6174a1",
   "metadata": {},
   "source": [
    "<img src=\"img/33.png\">"
   ]
  },
  {
   "cell_type": "raw",
   "id": "889e3329",
   "metadata": {},
   "source": [
    "# 類似 multikey indexes\n",
    "# 預設都當成小寫"
   ]
  },
  {
   "cell_type": "markdown",
   "id": "77e7be4c",
   "metadata": {},
   "source": [
    "<img src=\"img/34.png\">"
   ]
  },
  {
   "cell_type": "markdown",
   "id": "b0e0c262",
   "metadata": {},
   "source": [
    "### Many index keys"
   ]
  },
  {
   "cell_type": "raw",
   "id": "ab8b350d",
   "metadata": {},
   "source": [
    "# More keys to examine\n",
    "# Increased index size\n",
    "# Increased time to build index\n",
    "# Decreased write performance"
   ]
  },
  {
   "cell_type": "raw",
   "id": "3c350c86",
   "metadata": {},
   "source": [
    "# 使用 a Compound text 是一種解決方式"
   ]
  },
  {
   "cell_type": "markdown",
   "id": "954810c8",
   "metadata": {},
   "source": [
    "<img src=\"img/35.png\">"
   ]
  },
  {
   "cell_type": "code",
   "execution_count": null,
   "id": "9d1ff7b7",
   "metadata": {},
   "outputs": [],
   "source": [
    "# switch to the m201 database\n",
    "use m201"
   ]
  },
  {
   "cell_type": "code",
   "execution_count": null,
   "id": "2f318da4",
   "metadata": {},
   "outputs": [],
   "source": [
    "# insert 2 example documents\n",
    "db.textExample.insertOne({ \"statement\": \"MongoDB is the best\" })\n",
    "db.textExample.insertOne({ \"statement\": \"MongoDB is the worst.\" })"
   ]
  },
  {
   "cell_type": "code",
   "execution_count": null,
   "id": "3e9d2f21",
   "metadata": {},
   "outputs": [],
   "source": [
    "# create a text index on \"statement\"\n",
    "db.textExample.createIndex({ statement: \"text\" })"
   ]
  },
  {
   "cell_type": "code",
   "execution_count": null,
   "id": "c46b4bf1",
   "metadata": {},
   "outputs": [],
   "source": [
    "# Search for the phrase \"MongoDB best\"\n",
    "# 注意是會找有 MongoDB or best\n",
    "db.textExample.find({ $text: { $search: \"MongoDB best\" } })"
   ]
  },
  {
   "cell_type": "code",
   "execution_count": null,
   "id": "09abe77f",
   "metadata": {},
   "outputs": [],
   "source": [
    "# Display each document with it's \"textScore\"\n",
    "db.textExample.find({ $text: { $search : \"MongoDB best\" } }, { score: { $meta: \"textScore\" } })"
   ]
  },
  {
   "cell_type": "code",
   "execution_count": null,
   "id": "4673f97c",
   "metadata": {},
   "outputs": [],
   "source": [
    "# Sort the documents by their textScore so that the most relevant documents return first\n",
    "db.textExample.find({ $text: { $search : \"MongoDB best\" } }, { score: { $meta: \"textScore\" } }).sort({ score: { $meta: \"textScore\" } })"
   ]
  },
  {
   "cell_type": "markdown",
   "id": "2a98d9f1",
   "metadata": {},
   "source": [
    "---"
   ]
  },
  {
   "cell_type": "raw",
   "id": "307fc42e",
   "metadata": {},
   "source": [
    "# How to create/query\n",
    "# Implications on number of index keys\n",
    "# Costs associated with text searches"
   ]
  },
  {
   "cell_type": "markdown",
   "id": "162b2da3",
   "metadata": {},
   "source": [
    "### 範例01"
   ]
  },
  {
   "cell_type": "raw",
   "id": "4ba251a1",
   "metadata": {},
   "source": [
    "Which other type of index is mostly closely related to text indexes?"
   ]
  },
  {
   "cell_type": "raw",
   "id": "fb86f7ef",
   "metadata": {},
   "source": [
    "The correct answer was: Multi-key indexes.\n",
    "\n",
    "Yes, both multi-key and text indexes can potentially create many more index keys for each document in the collection."
   ]
  },
  {
   "cell_type": "markdown",
   "id": "c5bac175",
   "metadata": {},
   "source": [
    "# Collations"
   ]
  },
  {
   "cell_type": "markdown",
   "id": "ca600b23",
   "metadata": {},
   "source": [
    "<img src=\"img/36.png\">"
   ]
  },
  {
   "cell_type": "code",
   "execution_count": null,
   "id": "8b76cd10",
   "metadata": {},
   "outputs": [],
   "source": [
    "# switch to the m201 database\n",
    "use m201"
   ]
  },
  {
   "cell_type": "code",
   "execution_count": null,
   "id": "b172995a",
   "metadata": {},
   "outputs": [],
   "source": [
    "# create a collection-level collation for Portuguese\n",
    "db.createCollection( \"foreign_text\", {collation: {locale: \"pt\"}})"
   ]
  },
  {
   "cell_type": "code",
   "execution_count": null,
   "id": "d9a81b74",
   "metadata": {},
   "outputs": [],
   "source": [
    "# insert an example document\n",
    "db.foreign_text.insert({ \"name\": \"Máximo\", \"text\": \"Bom dia minha gente!\"})"
   ]
  },
  {
   "cell_type": "code",
   "execution_count": null,
   "id": "abfb9a91",
   "metadata": {},
   "outputs": [],
   "source": [
    "# explain the following query (uses the Portuguese collation)\n",
    "db.foreign_text.find({ _id: {$exists:1 } } ).explain()"
   ]
  },
  {
   "cell_type": "markdown",
   "id": "03aa3946",
   "metadata": {},
   "source": [
    "<img src=\"img/37.png\">"
   ]
  },
  {
   "cell_type": "code",
   "execution_count": null,
   "id": "f04b0571",
   "metadata": {},
   "outputs": [],
   "source": [
    "# specify an Italian collation for a find query\n",
    "db.foreign_text.find({ _id: {$exists:1 } }).collation({locale: 'it'})"
   ]
  },
  {
   "cell_type": "code",
   "execution_count": null,
   "id": "a3605e19",
   "metadata": {},
   "outputs": [],
   "source": [
    "# specify a Spanish collation for an aggregation query\n",
    "db.foreign_text.aggregate([ {$match: { _id: {$exists:1 }  }}], {collation: {locale: 'es'}})"
   ]
  },
  {
   "cell_type": "code",
   "execution_count": null,
   "id": "d35baa70",
   "metadata": {},
   "outputs": [],
   "source": [
    "# create an index with a collation that differs from the collection collation\n",
    "db.foreign_text.createIndex( {name: 1},  {collation: {locale: 'it'}} )"
   ]
  },
  {
   "cell_type": "code",
   "execution_count": null,
   "id": "db29baf4",
   "metadata": {},
   "outputs": [],
   "source": [
    "# uses the collection collation (Portuguese)\n",
    "db.foreign_text.find( {name: 'Máximo'}).explain()"
   ]
  },
  {
   "cell_type": "markdown",
   "id": "748e4697",
   "metadata": {},
   "source": [
    "<img src=\"img/38.png\">"
   ]
  },
  {
   "cell_type": "markdown",
   "id": "67e4fdd5",
   "metadata": {},
   "source": [
    "<img src=\"img/39.png\">"
   ]
  },
  {
   "cell_type": "code",
   "execution_count": null,
   "id": "9dbabc77",
   "metadata": {},
   "outputs": [],
   "source": [
    "# uses the index collation (Italian)\n",
    "db.foreign_text.find( {name: 'Máximo'}).collation({locale: 'it'}).explain()"
   ]
  },
  {
   "cell_type": "markdown",
   "id": "ae6511aa",
   "metadata": {},
   "source": [
    "<img src=\"img/40.png\">"
   ]
  },
  {
   "cell_type": "raw",
   "id": "da053762",
   "metadata": {},
   "source": [
    "# Collations\n",
    "\n",
    "- Correctness\n",
    "- Marginal performance impact\n",
    "- Case insensitive indexes"
   ]
  },
  {
   "cell_type": "code",
   "execution_count": null,
   "id": "9bcdd93b",
   "metadata": {},
   "outputs": [],
   "source": [
    "# create a case-insensitive index via collations\n",
    "db.createCollection( \"no_sensitivity\", {collation: {locale: 'en', strength: 1}})"
   ]
  },
  {
   "cell_type": "code",
   "execution_count": null,
   "id": "22332d1c",
   "metadata": {},
   "outputs": [],
   "source": [
    "# insert some documents\n",
    "db.no_sensitivity.insert({name: 'aaaaa'})\n",
    "db.no_sensitivity.insert({name: 'aAAaa'})\n",
    "db.no_sensitivity.insert({name: 'AaAaa'})"
   ]
  },
  {
   "cell_type": "code",
   "execution_count": null,
   "id": "6b4aebfd",
   "metadata": {},
   "outputs": [],
   "source": [
    "# sort them by name ascending\n",
    "db.no_sensitivity.find().sort({name:1})"
   ]
  },
  {
   "cell_type": "code",
   "execution_count": null,
   "id": "1d9f3f4b",
   "metadata": {},
   "outputs": [],
   "source": [
    "# even if we change the sort-order, the documents will be returned in the same\n",
    "# order because of the case-insensitive collation\n",
    "db.no_sensitivity.find().sort({name:-1})"
   ]
  },
  {
   "cell_type": "markdown",
   "id": "ff5b70c4",
   "metadata": {},
   "source": [
    "### 範例01"
   ]
  },
  {
   "cell_type": "raw",
   "id": "e646e87e",
   "metadata": {},
   "source": [
    "Which of the following statements are true regarding collations on indexes?"
   ]
  },
  {
   "cell_type": "markdown",
   "id": "874b5f38",
   "metadata": {},
   "source": [
    "( ) MongoDB only allows collations to be defined at collection level\n",
    "\n",
    "(勾) Collations allow the creation of case insensitive indexes\n",
    "\n",
    "( ) Creating an index with a different collation from the base collection\n",
    "    implies overriding the base collection collation.\n",
    "\n",
    "(勾) We can define specific collations in an index"
   ]
  },
  {
   "cell_type": "markdown",
   "id": "fed1bc9d",
   "metadata": {},
   "source": [
    "# Wildcard Index Type"
   ]
  },
  {
   "cell_type": "raw",
   "id": "f41cf79d",
   "metadata": {},
   "source": [
    "# 對所有的 fields 做 indexes"
   ]
  },
  {
   "cell_type": "markdown",
   "id": "5c2e1ede",
   "metadata": {},
   "source": [
    "<img src=\"img/41.png\">"
   ]
  },
  {
   "cell_type": "code",
   "execution_count": null,
   "id": "4c8d35e5",
   "metadata": {},
   "outputs": [],
   "source": [
    "db.data.createIndex({ \"$**\": 1 })"
   ]
  },
  {
   "cell_type": "code",
   "execution_count": null,
   "id": "60122c99",
   "metadata": {},
   "outputs": [],
   "source": [
    "db.data.find({ \"waveMeasurement.waves.height\": 0.5 }).pretty()"
   ]
  },
  {
   "cell_type": "markdown",
   "id": "b9957a0a",
   "metadata": {},
   "source": [
    "<img src=\"img/42.png\">"
   ]
  },
  {
   "cell_type": "code",
   "execution_count": null,
   "id": "195b7dfa",
   "metadata": {},
   "outputs": [],
   "source": [
    "db.data.find({ \"waveMeasurement.waves.height\": 0.5, \"waveMeasurement.seaState.quality\": \"9\" }).pretty()"
   ]
  },
  {
   "cell_type": "markdown",
   "id": "415928fb",
   "metadata": {},
   "source": [
    "<img src=\"img/43.png\">"
   ]
  },
  {
   "cell_type": "raw",
   "id": "4be2606f",
   "metadata": {},
   "source": [
    "# 對一部分的 fields 做 indexes"
   ]
  },
  {
   "cell_type": "markdown",
   "id": "573a4ba2",
   "metadata": {},
   "source": [
    "<img src=\"img/44.png\">"
   ]
  },
  {
   "cell_type": "code",
   "execution_count": null,
   "id": "2a506fdc",
   "metadata": {},
   "outputs": [],
   "source": [
    "# 只對 waveMeasurement 裡面的 fields 做 indexes\n",
    "db.data.createIndex({ \"$**\": 1 }, { \"wildcardProjection\": { waveMeasurement: 1 } })"
   ]
  },
  {
   "cell_type": "markdown",
   "id": "3635ebac",
   "metadata": {},
   "source": [
    "<img src=\"img/45.png\">"
   ]
  },
  {
   "cell_type": "code",
   "execution_count": null,
   "id": "f32de7ff",
   "metadata": {},
   "outputs": [],
   "source": [
    "# 另一種寫法\n",
    "db.data.createIndex({ \"waveMeasurement.waves.$**\": 1 })"
   ]
  },
  {
   "cell_type": "markdown",
   "id": "ab198811",
   "metadata": {},
   "source": [
    "<img src=\"img/46.png\">"
   ]
  },
  {
   "cell_type": "markdown",
   "id": "88813725",
   "metadata": {},
   "source": [
    "<img src=\"img/47.png\">"
   ]
  },
  {
   "cell_type": "markdown",
   "id": "48e18343",
   "metadata": {},
   "source": [
    "---"
   ]
  },
  {
   "cell_type": "raw",
   "id": "b88f5a76",
   "metadata": {},
   "source": [
    "# Useful for unpredictable workloads\n",
    "# Not a replacement for traditional indexes\n",
    "# Can index all fields in a collection\n",
    "# Can use dot notation and wildcard projections to index a subset of fields in each document"
   ]
  },
  {
   "cell_type": "markdown",
   "id": "4ff6ab5a",
   "metadata": {},
   "source": [
    "# Wildcard Index Use Cases"
   ]
  },
  {
   "cell_type": "raw",
   "id": "2034d65d",
   "metadata": {},
   "source": [
    "1. Unpredictable query shapes\n",
    "2. Attribute pattern"
   ]
  },
  {
   "cell_type": "markdown",
   "id": "91e2be87",
   "metadata": {},
   "source": [
    "<img src=\"img/48.png\">"
   ]
  },
  {
   "cell_type": "markdown",
   "id": "f97d5921",
   "metadata": {},
   "source": [
    "---"
   ]
  },
  {
   "cell_type": "raw",
   "id": "936b09fa",
   "metadata": {},
   "source": [
    "# 使用 a compound index"
   ]
  },
  {
   "cell_type": "markdown",
   "id": "816f3d3a",
   "metadata": {},
   "source": [
    "<img src=\"img/49.png\">"
   ]
  },
  {
   "cell_type": "raw",
   "id": "8fb3f78a",
   "metadata": {},
   "source": [
    "# 簡化的方法"
   ]
  },
  {
   "cell_type": "markdown",
   "id": "8bd94654",
   "metadata": {},
   "source": [
    "<img src=\"img/50.png\">"
   ]
  },
  {
   "cell_type": "markdown",
   "id": "099e1dbe",
   "metadata": {},
   "source": [
    "<img src=\"img/51.png\">"
   ]
  },
  {
   "cell_type": "markdown",
   "id": "a70a2745",
   "metadata": {},
   "source": [
    "---"
   ]
  },
  {
   "cell_type": "raw",
   "id": "a8eb00e6",
   "metadata": {},
   "source": [
    "# The new wildcard index indexes all fields in a document or subdocument\n",
    "# This is particularly useful when:\n",
    "  - A collection's exact queries are unpredicatle\n",
    "  - Implementing the attribute pattern"
   ]
  },
  {
   "cell_type": "markdown",
   "id": "9b5855eb",
   "metadata": {},
   "source": [
    "### 範例01"
   ]
  },
  {
   "cell_type": "markdown",
   "id": "9a9d674c",
   "metadata": {},
   "source": [
    "In this lab you're going to determine which queries are able to successfully use a given index for both filtering and sorting.\n",
    "\n",
    "Given the following index:"
   ]
  },
  {
   "cell_type": "code",
   "execution_count": null,
   "id": "e4ca45cc",
   "metadata": {},
   "outputs": [],
   "source": [
    "{ \"first_name\": 1, \"address.state\": -1, \"address.city\": -1, \"ssn\": 1 }"
   ]
  },
  {
   "cell_type": "raw",
   "id": "611cccb0",
   "metadata": {},
   "source": [
    "Which of the following queries are able to use it for both filtering and sorting?"
   ]
  },
  {
   "cell_type": "raw",
   "id": "21c53b40",
   "metadata": {},
   "source": [
    "The key to this lab is to identify the prefixes for the given index, and to take your time and think about each query one by one.\n",
    "\n",
    "Here's an explanation for each query:\n",
    "\n",
    "# db.people.find({ \"first_name\": { $gt: \"J\" } }).sort({ \"address.city\": -1 })\n",
    "\n",
    "No, this query doesn't use equality on the index prefix. When using an index for filtering and sorting the query must include equality conditions on all the prefix keys that precede the sort keys. Moreover, on the sort predicate it skipped the next key in the prefix \"address.state\".\n",
    "\n",
    "# db.people.find({ \"first_name\": \"Jessica\" }).sort({ \"address.state\": 1, \"address.city\": 1 })\n",
    "\n",
    "Yes, this query matches with equality on the query predicate with an index prefix, and continues the prefix in the sort predicate by walking the index backward.\n",
    "\n",
    "# db.people.find({ \"first_name\": \"Jessica\", \"address.state\": { $lt: \"S\"} }).sort({ \"address.state\": 1 })\n",
    "\n",
    "Yes, while this query fails to use equality on the \"address.state\" field of the index prefix, it uses the same field for sorting.\n",
    "\n",
    "# db.people.find({ \"address.city\": \"West Cindy\" }).sort({ \"address.city\": -1 })\n",
    "\n",
    "No, this query does not use an index prefix.\n",
    "\n",
    "# db.people.find({ \"address.state\": \"South Dakota\", \"first_name\": \"Jessica\" }).sort({ \"address.city\": -1 })\n",
    "\n",
    "Yes, this query is able to use the index prefix. The order of the fields in the query predicate does not matter. Since both address.state and first_name are part of the index prefix, this query can utilize the index for the equality condition."
   ]
  },
  {
   "cell_type": "markdown",
   "id": "ba8b52ff",
   "metadata": {},
   "source": [
    "### 範例02"
   ]
  },
  {
   "cell_type": "raw",
   "id": "f837990b",
   "metadata": {},
   "source": [
    "In this lab you're going to examine several example queries and determine which compound index will best service them."
   ]
  },
  {
   "cell_type": "code",
   "execution_count": null,
   "id": "607ff792",
   "metadata": {},
   "outputs": [],
   "source": [
    "> db.people.find({\n",
    "    \"address.state\": \"Nebraska\",\n",
    "    \"last_name\": /^G/,\n",
    "    \"job\": \"Police officer\"\n",
    "  })"
   ]
  },
  {
   "cell_type": "code",
   "execution_count": null,
   "id": "6e1ba6c9",
   "metadata": {},
   "outputs": [],
   "source": [
    "> db.people.find({\n",
    "    \"job\": /^P/,\n",
    "    \"first_name\": /^C/,\n",
    "    \"address.state\": \"Indiana\"\n",
    "  }).sort({ \"last_name\": 1 })"
   ]
  },
  {
   "cell_type": "code",
   "execution_count": null,
   "id": "a965f221",
   "metadata": {},
   "outputs": [],
   "source": [
    "> db.people.find({\n",
    "    \"address.state\": \"Connecticut\",\n",
    "    \"birthday\": {\n",
    "      \"$gte\": ISODate(\"2010-01-01T00:00:00.000Z\"),\n",
    "      \"$lt\": ISODate(\"2011-01-01T00:00:00.000Z\")\n",
    "    }\n",
    "  })"
   ]
  },
  {
   "cell_type": "raw",
   "id": "84813f07",
   "metadata": {},
   "source": [
    "If you had to build one index on the people collection, which of the following indexes would best service all 3 queries?"
   ]
  },
  {
   "cell_type": "raw",
   "id": "6f8349bc",
   "metadata": {},
   "source": [
    "The key to this lab is to determine which index will provide the most index prefixes that can be utilized by the 3 example queries.\n",
    "\n",
    "Let's analyze each option:\n",
    "\n",
    "# { \"address.state\": 1, \"job\": 1 }\n",
    "\n",
    "No, while this index would be able to service all 3 of the example queries, there's a better index that can be used on the first query, and the second query has to do an in-memory sort.\n",
    "\n",
    "# { \"address.state\": 1, \"job\": 1, \"first_name\": 1 }\n",
    "\n",
    "No, this index is better than the first, but it still doesn't help with the sort on the second query.\n",
    "\n",
    "# { \"address.state\": 1, \"last_name\": 1, \"job\": 1 }\n",
    "\n",
    "Yes, this is the best index. This index matches the first query, can be used for sorting on the second, and has an prefix for the 3rd query.\n",
    "\n",
    "# { \"job\": 1, \"address.state\": 1 }\n",
    "\n",
    "No, this index can only be used by the first two queries.\n",
    "\n",
    "# { \"job\": 1, \"address.state\": 1, \"first_name\": 1 }\n",
    "\n",
    "No, while this index is better than the one directly above it, this index still cannot be used by the 3rd query at all.\n",
    "\n",
    "# { \"job\": 1, \"address.state\": 1, \"last_name\": 1 }\n",
    "\n",
    "No, this index has the same issues as the index directly above it."
   ]
  }
 ],
 "metadata": {
  "kernelspec": {
   "display_name": "Python 3",
   "language": "python",
   "name": "python3"
  },
  "language_info": {
   "codemirror_mode": {
    "name": "ipython",
    "version": 3
   },
   "file_extension": ".py",
   "mimetype": "text/x-python",
   "name": "python",
   "nbconvert_exporter": "python",
   "pygments_lexer": "ipython3",
   "version": "3.8.10"
  }
 },
 "nbformat": 4,
 "nbformat_minor": 5
}
