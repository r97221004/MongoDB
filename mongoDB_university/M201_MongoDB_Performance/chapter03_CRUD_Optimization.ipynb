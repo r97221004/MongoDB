{
 "cells": [
  {
   "cell_type": "markdown",
   "id": "58704f26",
   "metadata": {},
   "source": [
    "# Optimizing your CRUD Operations"
   ]
  },
  {
   "cell_type": "raw",
   "id": "8cd50c07",
   "metadata": {},
   "source": [
    "# index Selectivity\n",
    "# Equality, Sort, Range\n",
    "# Performance Tradeoffs"
   ]
  },
  {
   "cell_type": "code",
   "execution_count": null,
   "id": "767a40ac",
   "metadata": {},
   "outputs": [],
   "source": [
    "# use the m201 database\n",
    "use m201"
   ]
  },
  {
   "cell_type": "code",
   "execution_count": null,
   "id": "43cfe9c3",
   "metadata": {},
   "outputs": [],
   "source": [
    "# create an explainable object\n",
    "var exp = db.restaurants.explain(\"executionStats\")"
   ]
  },
  {
   "cell_type": "code",
   "execution_count": null,
   "id": "976c3c08",
   "metadata": {},
   "outputs": [],
   "source": [
    "# run an explained query (COLLSCAN & in-memory sort)\n",
    "exp.find({ \"address.zipcode\": { $gt: '50000' }, cuisine: 'Sushi' }).sort({ stars: -1 })"
   ]
  },
  {
   "cell_type": "code",
   "execution_count": null,
   "id": "6d5c357e",
   "metadata": {},
   "outputs": [],
   "source": [
    "# create a naive index\n",
    "db.restaurants.createIndex({\"address.zipcode\": 1,\"cuisine\": 1,\"stars\": 1})"
   ]
  },
  {
   "cell_type": "code",
   "execution_count": null,
   "id": "0097fc7f",
   "metadata": {},
   "outputs": [],
   "source": [
    "# rerun the query (uses the index, but isn't very selective and still does an \n",
    "# in-memory sort)\n",
    "exp.find({ \"address.zipcode\": { $gt: '50000' }, cuisine: 'Sushi' }).sort({ stars: -1 })"
   ]
  },
  {
   "cell_type": "code",
   "execution_count": null,
   "id": "437dc7c4",
   "metadata": {},
   "outputs": [],
   "source": [
    "# see how many documents match 50000 for zipcode (10)\n",
    "db.restaurants.find({ \"address.zipcode\": '50000' }).count()"
   ]
  },
  {
   "cell_type": "code",
   "execution_count": null,
   "id": "39a07582",
   "metadata": {},
   "outputs": [],
   "source": [
    "# see how many documents match our range (about half)\n",
    "db.restaurants.find({ \"address.zipcode\": { $gt: '50000' } }).count()"
   ]
  },
  {
   "cell_type": "code",
   "execution_count": null,
   "id": "d5c91ef0",
   "metadata": {},
   "outputs": [],
   "source": [
    "# see how many documents match an equality condition on cuisine (~2%)\n",
    "db.restaurants.find({ cuisine: 'Sushi' }).count()"
   ]
  },
  {
   "cell_type": "code",
   "execution_count": null,
   "id": "8e6bda13",
   "metadata": {},
   "outputs": [],
   "source": [
    "# reorder the index key pattern to be more selective\n",
    "db.restaurants.createIndex({ \"cuisine\": 1, \"address.zipcode\": 1, \"stars\": 1 })"
   ]
  },
  {
   "cell_type": "code",
   "execution_count": null,
   "id": "ca4bcca6",
   "metadata": {},
   "outputs": [],
   "source": [
    "# and rerun the query (faster, still doing an in-memory sort)\n",
    "exp.find({ \"address.zipcode\": { $gt: '50000' }, cuisine: 'Sushi' }).sort({ stars: -1 })"
   ]
  },
  {
   "cell_type": "code",
   "execution_count": null,
   "id": "def3f576",
   "metadata": {},
   "outputs": [],
   "source": [
    "# swap stars and zipcode to prevent an in-memory sort\n",
    "db.restaurants.createIndex({ \"cuisine\": 1, \"stars\": 1, \"address.zipcode\": 1 })"
   ]
  },
  {
   "cell_type": "code",
   "execution_count": null,
   "id": "0f6958a2",
   "metadata": {},
   "outputs": [],
   "source": [
    "# awesome, no more in-memory sort! (uses the equality, sort, range rule)\n",
    "exp.find({ \"address.zipcode\": { $gt: '50000' }, cuisine: 'Sushi' }).sort({ stars: -1 })"
   ]
  },
  {
   "cell_type": "markdown",
   "id": "e0273ce5",
   "metadata": {},
   "source": [
    "<img src=\"img/58.png\">"
   ]
  },
  {
   "cell_type": "markdown",
   "id": "f5f8b746",
   "metadata": {},
   "source": [
    "<img src=\"img/59.png\">"
   ]
  },
  {
   "cell_type": "markdown",
   "id": "48f5b0cd",
   "metadata": {},
   "source": [
    "# Covered Queries"
   ]
  },
  {
   "cell_type": "raw",
   "id": "5e2dba17",
   "metadata": {},
   "source": [
    "# What covered queries are\n",
    "# How covered queries work\n",
    "# Important caveats"
   ]
  },
  {
   "cell_type": "raw",
   "id": "8068b20b",
   "metadata": {},
   "source": [
    "What are covered queries\n",
    "\n",
    "- Very performant\n",
    "- Satisfied entirely by index keys\n",
    "- 0 documents need to be examined"
   ]
  },
  {
   "cell_type": "markdown",
   "id": "083d574b",
   "metadata": {},
   "source": [
    "<img src=\"img/60.png\">"
   ]
  },
  {
   "cell_type": "code",
   "execution_count": null,
   "id": "35848d0c",
   "metadata": {},
   "outputs": [],
   "source": [
    "# use the m201 database\n",
    "use m201"
   ]
  },
  {
   "cell_type": "code",
   "execution_count": null,
   "id": "5816ba24",
   "metadata": {},
   "outputs": [],
   "source": [
    "# create an explainable object\n",
    "var exp = db.restaurants.explain(\"executionStats\")"
   ]
  },
  {
   "cell_type": "code",
   "execution_count": null,
   "id": "073f3be0",
   "metadata": {},
   "outputs": [],
   "source": [
    "# create a compound index on three fields\n",
    "db.restaurants.createIndex({name: 1, cuisine: 1, stars: 1})"
   ]
  },
  {
   "cell_type": "code",
   "execution_count": null,
   "id": "b5a8c511",
   "metadata": {},
   "outputs": [],
   "source": [
    "# checkout a projected query\n",
    "db.restaurants.find({name: { $gt: 'L' }, cuisine: 'Sushi', stars: { $gte: 4.0 } }, { _id: 0, name: 1, cuisine: 1, stars: 1 })"
   ]
  },
  {
   "cell_type": "code",
   "execution_count": null,
   "id": "c6e412f6",
   "metadata": {},
   "outputs": [],
   "source": [
    "# and look at it's explain output (it's covered, no docs examined)\n",
    "exp.find({name: { $gt: 'L' }, cuisine: 'Sushi', stars: { $gte: 4.0 } }, { _id: 0, name: 1, cuisine: 1, stars: 1 })"
   ]
  },
  {
   "cell_type": "code",
   "execution_count": null,
   "id": "9649e3a5",
   "metadata": {},
   "outputs": [],
   "source": [
    "# get the same output as the first query\n",
    "# 注意這個 projection 跟之前的差別\n",
    "db.restaurants.find({name: { $gt: 'L' }, cuisine: 'Sushi', stars: { $gte: 4.0 } }, { _id: 0, address: 0 })"
   ]
  },
  {
   "cell_type": "code",
   "execution_count": null,
   "id": "1170655d",
   "metadata": {},
   "outputs": [],
   "source": [
    "# but when looking at the explain output we see that it's not a covered query\n",
    "exp.find({name: { $gt: 'L' }, cuisine: 'Sushi', stars: { $gte: 4.0 } }, { _id: 0, address: 0 })"
   ]
  },
  {
   "cell_type": "markdown",
   "id": "69f8832f",
   "metadata": {},
   "source": [
    "---"
   ]
  },
  {
   "cell_type": "raw",
   "id": "20f28757",
   "metadata": {},
   "source": [
    "You can't cover a query if\n",
    "\n",
    "- Any of the indexed fields are arrays\n",
    "- Any of the indexed fields are embedded documents\n",
    "- When run against a mongos if the index does not contain the shard\n",
    "  key"
   ]
  },
  {
   "cell_type": "markdown",
   "id": "4802238a",
   "metadata": {},
   "source": [
    "### 範例01"
   ]
  },
  {
   "cell_type": "raw",
   "id": "3f4f8236",
   "metadata": {},
   "source": [
    "Given the following indexes:"
   ]
  },
  {
   "cell_type": "code",
   "execution_count": null,
   "id": "6a40b66b",
   "metadata": {},
   "outputs": [],
   "source": [
    "{ _id: 1 }\n",
    "{ name: 1, dob: 1 }\n",
    "{ hair: 1, name: 1 }"
   ]
  },
  {
   "cell_type": "raw",
   "id": "7ae1364b",
   "metadata": {},
   "source": [
    "Which of the following queries could be covered by one of the given indexes?"
   ]
  },
  {
   "cell_type": "raw",
   "id": "3569b2db",
   "metadata": {},
   "source": [
    "# db.example.find( { _id : 1117008 }, { _id : 0, name : 1, dob : 1 } )\n",
    "\n",
    "No, this query would use the _id index, which doesn't match the projected fields.\n",
    "\n",
    "# db.example.find( { name : { $in : [ \"Alfred\", \"Bruce\" ] } }, { name : 1, hair : 1 } )\n",
    "\n",
    "No, this query would use the { name: 1, dob: 1 } index, but it forgets to omit the _id field.\n",
    "\n",
    "# db.example.find( { name : { $in : [ \"Bart\", \"Homer\" ] } }, {_id : 0, hair : 1, name : 1} )\n",
    "\n",
    "No, this query would use the { name: 1, dob: 1 } index, but it is projecting the hair field.\n",
    "\n",
    "# db.example.find( { name : { $in : [ \"Bart\", \"Homer\" ] } }, {_id : 0, dob : 1, name : 1} )\n",
    "\n",
    "Yes, this query would use the { name: 1, dob: 1 } index, which matches the fields in the projection."
   ]
  },
  {
   "cell_type": "markdown",
   "id": "9a7c2eab",
   "metadata": {},
   "source": [
    "# Regex Performance"
   ]
  },
  {
   "cell_type": "raw",
   "id": "b2e31341",
   "metadata": {},
   "source": [
    "In this lesson, we're going to discuss regular expression performance in MongoDB.\n",
    "\n",
    "Specifically, we're going to discuss how we can utilize indexes on regex conditions.\n",
    "\n",
    "In the lesson on text indexes, we learned that we can create indexes on string fields to support queries using the $text and $search operators.\n",
    "\n",
    "But sometimes we don't want to add the overhead of text indexes to our deployment.\n",
    "\n",
    "In these cases, we can fall back on using vanilla indexes and using regular expressions.\n",
    "\n",
    "Unfortunately, regex's don't always have the best performance."
   ]
  },
  {
   "cell_type": "markdown",
   "id": "d23cbf8a",
   "metadata": {},
   "source": [
    "<img src=\"img/61.png\">"
   ]
  },
  {
   "cell_type": "raw",
   "id": "e33239cf",
   "metadata": {},
   "source": [
    "In this example, if there isn't an index on username, then we need to do a collection scan.\n",
    "\n",
    "We'd have to touch every single document in our collection and apply that regular expression against each of these documents.\n",
    "\n",
    "Like with traditionally quality conditions, we can improve the performance of this query by creating an index on the queried field.\n",
    "\n",
    "Now we only need to apply our regular expression against every index key instead of against the whole document.\n",
    "\n",
    "While this will increase the performance of the query, we still need to look at every index key of our index.\n",
    "\n",
    "This somewhat defeats the purpose of indexes.\n",
    "\n",
    "Indexes are stored as b-trees because of their ability to reduce the search space to an ordered subset of the entire index.\n",
    "\n",
    "We can take advantage of this feature of indexes by adding a carrot at the beginning of our regex condition.\n",
    "\n",
    "The carrot means that we only want to return documents where the following characters start at the beginning of the string."
   ]
  },
  {
   "cell_type": "markdown",
   "id": "dc366af0",
   "metadata": {},
   "source": [
    "<img src=\"img/62.png\">"
   ]
  },
  {
   "cell_type": "raw",
   "id": "2df3f636",
   "metadata": {},
   "source": [
    "In this case, I want to find documents where the user name begins with Kirby.\n",
    "\n",
    "By doing this, we're effectively ignoring all the branches of the b-tree that don't begin with Kirby.\n",
    "\n",
    "And so we're able to dramatically reduce the number of index keys that need to be examined and therefore increase our overall query performance.\n",
    "\n",
    "This might be obvious, but I want to point out that this optimization will only work if you're matching at the beginning of a string.\n",
    "\n",
    "For example, with this wildcard regex, we need to check every single index key because we can't limit ourselves to just where it starts with Kirby.\n",
    "\n",
    "There could be an index key that is a-i-r-b-y, or k-i-r-b-y, or r-r-i-b-y, or s-i-r-b-y.\n",
    "\n",
    "We have to look at all these index keys.\n",
    "\n",
    "Let's recap what we've learned.\n",
    "\n",
    "We've talked about how to utilize indexes using regular expression conditions in MongoDB."
   ]
  },
  {
   "cell_type": "markdown",
   "id": "30790204",
   "metadata": {},
   "source": [
    "### 範例01"
   ]
  },
  {
   "cell_type": "raw",
   "id": "4d34ea46",
   "metadata": {},
   "source": [
    "Given the following index:"
   ]
  },
  {
   "cell_type": "code",
   "execution_count": null,
   "id": "7625b888",
   "metadata": {},
   "outputs": [],
   "source": [
    "db.products.createIndex({ productName: 1 })"
   ]
  },
  {
   "cell_type": "raw",
   "id": "0fb9f42b",
   "metadata": {},
   "source": [
    "And the following query:"
   ]
  },
  {
   "cell_type": "code",
   "execution_count": null,
   "id": "78a068c0",
   "metadata": {},
   "outputs": [],
   "source": [
    "db.products.find({ productName: /^Craftsman/ })"
   ]
  },
  {
   "cell_type": "raw",
   "id": "d1f4421a",
   "metadata": {},
   "source": [
    "Which of the following are true?"
   ]
  },
  {
   "cell_type": "raw",
   "id": "3317e5de",
   "metadata": {},
   "source": [
    "# The query will need to do a collection scan.\n",
    "\n",
    "No, there is an index on productName.\n",
    "\n",
    "# The query will do an index scan.\n",
    "\n",
    "Yes, there is an index on productName.\n",
    "\n",
    "# The query will likely need to look at all index keys.\n",
    "\n",
    "No, the use of the caret at the beginning reduces the number of keys examined.\n",
    "\n",
    "# The query would match a productName of \"Screwdriver - Craftsman Brand\"\n",
    "\n",
    "No, the query only matches strings that begin with \"Craftsman\"."
   ]
  },
  {
   "cell_type": "markdown",
   "id": "a0486477",
   "metadata": {},
   "source": [
    "# Aggregation Performance"
   ]
  },
  {
   "cell_type": "raw",
   "id": "26b00e61",
   "metadata": {},
   "source": [
    "# Index usage\n",
    "# Memory Constraints"
   ]
  },
  {
   "cell_type": "markdown",
   "id": "27866bd0",
   "metadata": {},
   "source": [
    "<img src=\"img/63.png\">"
   ]
  },
  {
   "cell_type": "markdown",
   "id": "0a8b31b7",
   "metadata": {},
   "source": [
    "<img src=\"img/64.png\">"
   ]
  },
  {
   "cell_type": "raw",
   "id": "bbea78f5",
   "metadata": {},
   "source": [
    "In this lesson, we're going talk about aggregation performance.\n",
    "\n",
    "And specifically, we're going to discuss how we can utilize indexes when we run aggregation queries.\n",
    "\n",
    "And we're also going to discuss some of the memory constraints that apply to aggregation in MongoDB.\n",
    "\n",
    "Before we get into these different topics, I first want to point out that there are two high-level categories of aggregation queries.\n",
    "\n",
    "First of all, there are real time processing queries and then there are batch processed queries.\n",
    "\n",
    "\"real time\" is in quotes here because you can never have truly real time processing.\n",
    "\n",
    "There will always be some kind of delay between when a query is executed and when that query responds.\n",
    "\n",
    "Real time processing is so that we can provide data to applications.\n",
    "\n",
    "This means that performance is more important.\n",
    "\n",
    "A user is going to perform some kind of action, the action is going to trigger an aggregation query, and then the results of that query need to be provided back to the user in a reasonable amount of time.\n",
    "\n",
    "With batch processing, on the other hand, we're generally talking about doing aggregation to provide analytics.\n",
    "\n",
    "And since we're providing analytics, that means that these jobs are typically run on some kind of periodic basis.\n",
    "\n",
    "And the results are not inspected until minutes, hours, or even days later from when that query was actually ran.\n",
    "\n",
    "This means that query performance is less important than with real time processing.\n",
    "\n",
    "Throughout this lesson, we're going to focus on the first type, real time processing.\n",
    "\n",
    "Now some of these principles will also apply to the batch processing category.\n",
    "\n",
    "But for the most part we'll be discussing strategies to optimize aggregation performance for real time processing.\n",
    "\n",
    "Now with that out of the way, let's go ahead and discuss the meat of this lesson, index usage for aggregation queries.\n",
    "\n",
    "Now as you come to learn in this course, indexes are a vital part of good query performance.\n",
    "\n",
    "And this same idea applies to aggregation queries.\n",
    "\n",
    "Basically, we want to ensure that our aggregation queries are able to use indexes as much as possible.\n",
    "\n",
    "Now naturally, since aggregation is a bit different than your typical find query, determining index usage is a bit different as well.\n",
    "\n",
    "With an aggregation query, we form a pipeline of different aggregation operators, which transform our data into the format that we desire.\n",
    "\n",
    "Now some of these aggregation operators are able to use indexes, and some of them are not.\n",
    "\n",
    "But more importantly, since data moves through our pipeline from the first operator to the last, once the server encounters a stage that is not able to use indexes, all of the following stages will no longer be able to use indexes either.\n",
    "\n",
    "Fortunately for us, the query optimizer tries its best to detect when a stage can be moved forward so that indexes can be utilized.\n",
    "\n",
    "But if you understand the underlying principles of how this works, you can be more confident in your query performance, and you'll have to rely less on the query optimizer.\n",
    "\n",
    "In order for us to determine how aggregation queries is are executed and whether or not indexes are being utilized, we can pass the explain true document as an option to the aggregation method.\n",
    "\n",
    "This will produce an explain output similar to what we are used to seeing with find.\n",
    "\n",
    "Now for the rest of these examples, we're going to be dealing with this hypothetical orders collection.\n",
    "\n",
    "And we're going to go ahead and assume that we have an index on customer ID.\n",
    "\n",
    "Unsurprisingly, the $match operator is able to utilize indexes.\n",
    "\n",
    "This is especially true if it's at the beginning of a pipeline.\n",
    "\n",
    "You'll see a natural theme here of that we want to see operators that use indexes at the front of our pipelines.\n",
    "\n",
    "Similarly, we're always going to want to put sort stages as close to the front as possible.\n",
    "\n",
    "We saw with find queries how serious our performance can be degraded when sorting isn't able to use an index.\n",
    "\n",
    "For this reason, we want to make sure that our sort stages come before any kind of transformations so that we can make sure that we utilize indexes for sorting.\n",
    "\n",
    "If you're doing a limit and doing a sort, you want to make sure that they're near each other and at the front of the pipeline.\n",
    "\n",
    "When this happens, the server is able to do a top-k sort.\n",
    "\n",
    "This is when the server is able to only allocate memory for the final number of documents, in this case, 10.\n",
    "\n",
    "This can happen even without indexes.\n",
    "\n",
    "This is one of the most highly performant non-index situations that you can be in.\n",
    "\n",
    "Optimizations like this are performed by the query optimizer whenever possible.\n",
    "\n",
    "But if there is a chance that this optimization can change the output it results, then the query engine will not perform this kind of optimization.\n",
    "\n",
    "That's why understanding these underlying principles is important.\n",
    "\n",
    "Now those are the basic aggregation optimizations that you can do.\n",
    "\n",
    "Now let's discuss some of the memory constraints that you should be aware of when doing aggregation.\n",
    "\n",
    "First of all, your results are all subject to the 16 megabyte document limit that exist in MongoDB.\n",
    "\n",
    "Aggregation generally outputs a single document, and that single document will be susceptible to this limit.\n",
    "\n",
    "Now this limit does not apply to documents as they flow through the pipeline.\n",
    "\n",
    "As you transform documents, they can actually exceed the 16 megabyte limit, but whatever is actually returned will still fall under the 16 megabyte limit.\n",
    "\n",
    "The best way to mitigate this issue is by using $limit and $project to reduce your resulting document size.\n",
    "\n",
    "Another limitation that you're going to want to be aware of is that for each stage in our pipeline, there's a 100 megabyte limit of RAM usage.\n",
    "\n",
    "Now the absolute best way to mitigate this is to ensure that your largest stages are able to utilize indexes.\n",
    "\n",
    "This will reduce your memory requirements, since indexes are generally much smaller than the documents they reference.\n",
    "\n",
    "Moreover, with sorting, they dramatically reduce memory requirements, because you don't need to allocate extra memory for that sorting.\n",
    "\n",
    "Now if you're still running into this 100 megabyte limit even if you're using indexes, then there's an additional way to get around it.\n",
    "\n",
    "And that is by specifying allowDiskUse true on your aggregation query.\n",
    "\n",
    "This will allow you to spill to disk, rather than doing everything in memory.\n",
    "\n",
    "Now this is important to understand that this is a absolute last resort measure.\n",
    "\n",
    "Hard drives are thousands of times slower to access than memory, so by splitting to disk, you're going to see serious performance degration.\n",
    "\n",
    "In some situations, this is necessary, but you need to be aware that this will seriously decrease performance.\n",
    "\n",
    "Since allowDiskUse true will seriously impact performance, you'll see this more often on the batch processing kind of jobs, rather than real time processing.\n",
    "\n",
    "And the last thing I want to point out here is that allow disk usage does not work with $ graphLookup, and that's because $graphLookup doesn't currently support splitting to disk.\n",
    "\n",
    "Let's recap what we've learned.\n",
    "\n",
    "So in this lesson, we discussed some of the different optimization strategies for utilizing indexes with your queries for aggregation, and we also discussed some of the member constraints that apply to aggregation, and how you can mitigate and get around those issues."
   ]
  },
  {
   "cell_type": "markdown",
   "id": "aacc9228",
   "metadata": {},
   "source": [
    "### 範例01"
   ]
  },
  {
   "cell_type": "raw",
   "id": "07c7e6a9",
   "metadata": {},
   "source": [
    "With regards to aggregation performance, which of the following are true?"
   ]
  },
  {
   "cell_type": "raw",
   "id": "f1365f8e",
   "metadata": {},
   "source": [
    "# You can increase index usage by moving $match stages to the end of your pipeline\n",
    "\n",
    "No, you should move $match stages to the beginning of your pipelines!\n",
    "\n",
    "# Passing allowDiskUsage to your aggregation queries will seriously increase their performance\n",
    "\n",
    "No, allowDiskUsage will decrease query performance, but it will be necessary to circumvent the 100MB per stage limit.\n",
    "\n",
    "# When $limit and $sort are close together a very performant top-k sort can be performed\n",
    "\n",
    "Yes, this is true!\n",
    "\n",
    "# Transforming data in a pipeline stage prevents us from using indexes in the stages that follow\n",
    "\n",
    "Yes, this is true. That's why it's important to put all your index using operators at the front of your pipelines!"
   ]
  },
  {
   "cell_type": "markdown",
   "id": "8433a214",
   "metadata": {},
   "source": [
    "### 範例02"
   ]
  },
  {
   "cell_type": "raw",
   "id": "25b643da",
   "metadata": {},
   "source": [
    "In this lab you're going to use the equality, sort, range rule to determine which index best supports a given query.\n",
    "\n",
    "Given the following query:"
   ]
  },
  {
   "cell_type": "code",
   "execution_count": null,
   "id": "5ae4c06b",
   "metadata": {},
   "outputs": [],
   "source": [
    "db.accounts.find( { accountBalance : { $gte : NumberDecimal(100000.00) }, city: \"New York\" } )\n",
    "           .sort( { lastName: 1, firstName: 1 } )"
   ]
  },
  {
   "cell_type": "raw",
   "id": "d968e747",
   "metadata": {},
   "source": [
    "Which of the following indexes best supports this query with regards to the equality, sort, range rule."
   ]
  },
  {
   "cell_type": "code",
   "execution_count": null,
   "id": "8e4834ff",
   "metadata": {},
   "outputs": [],
   "source": [
    "{ city: 1, lastName: 1, firstName: 1, accountBalance: 1 }"
   ]
  }
 ],
 "metadata": {
  "kernelspec": {
   "display_name": "Python 3",
   "language": "python",
   "name": "python3"
  },
  "language_info": {
   "codemirror_mode": {
    "name": "ipython",
    "version": 3
   },
   "file_extension": ".py",
   "mimetype": "text/x-python",
   "name": "python",
   "nbconvert_exporter": "python",
   "pygments_lexer": "ipython3",
   "version": "3.8.10"
  }
 },
 "nbformat": 4,
 "nbformat_minor": 5
}
