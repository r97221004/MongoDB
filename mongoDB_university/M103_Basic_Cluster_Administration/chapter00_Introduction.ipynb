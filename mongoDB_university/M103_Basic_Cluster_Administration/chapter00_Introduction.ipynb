{
 "cells": [
  {
   "cell_type": "markdown",
   "id": "4bbc0677",
   "metadata": {},
   "source": [
    "# Basics of Linux Directory Structure"
   ]
  },
  {
   "cell_type": "markdown",
   "id": "571b26ce",
   "metadata": {},
   "source": [
    "<img src=\"Linux+Directory+Structure.png\">"
   ]
  },
  {
   "cell_type": "raw",
   "id": "b75a747c",
   "metadata": {},
   "source": [
    "# /etc : Contains the system configuration files for the host computer. You should be careful when making changes to the\n",
    "         files contained in this directory.\n",
    "\n",
    "# /home : Usually contains users personal data such as your files, notes and user-specific configuration files.\n",
    "\n",
    "# /var : The directory name stands for variable and it is used to store variable files. Files whose content is expected to\n",
    "         continually change during normal operation of the system - such as logs and lock files."
   ]
  },
  {
   "cell_type": "markdown",
   "id": "2b5a779c",
   "metadata": {},
   "source": [
    "# Important Definitions"
   ]
  },
  {
   "cell_type": "raw",
   "id": "664b93f4",
   "metadata": {},
   "source": [
    "# Current Working Directory : It is the directory in which the user is currently working in. By default, when you log into\n",
    "                              your linux system, your current working directory is set to your home directory. In this\n",
    "                              course, it will be /root/workspace. You can check your current working directory by running\n",
    "                              the pwd (Print Working Directory) command. pwd will print out the absolute path to this\n",
    "                              directory. What is an absolute path?\n",
    "# Path : A unique location to a file or a folder in a file system of an OS.\n",
    "# Absolute Path : The complete path of a file or directory in the filesystem from the root (/) directory.\n",
    "# Relative Path : The path of a file or directory relative to the current working directory."
   ]
  },
  {
   "cell_type": "markdown",
   "id": "e0012c62",
   "metadata": {},
   "source": [
    "<img src=\"Absolute+Path+and+Relative+path.jpg\">"
   ]
  },
  {
   "cell_type": "raw",
   "id": "e1f8d788",
   "metadata": {},
   "source": [
    "In the diagram shown above, mongodb is our Current Working Directory.\n",
    "Let's say that we want to find the path to the db1 directory.\n",
    "The Absolute Path of the db1 directory - /data/mongodb/database/db1\n",
    "The Relative Path to the db1 directory from the Current Working Directory of mongodb - database/db1"
   ]
  },
  {
   "cell_type": "markdown",
   "id": "12978d52",
   "metadata": {},
   "source": [
    "### Concept of users in linux"
   ]
  },
  {
   "cell_type": "raw",
   "id": "b2e46224",
   "metadata": {},
   "source": [
    "Linux is a multi-user operating system, which means that more than one user can use the Linux machine at the same time. There are three types of users in Linux - root, regular and service. In this tutorial we will discuss only two types of user root and regular.\n",
    "\n",
    "root user: This is the main user account in the Linux system. This user is automatically created during the installation and has the highest privileges in the system. The user can perform any administrative task, and is therefore, also known as superuser or administrator. In this course, you will run commands as the root user.\n",
    "\n",
    "regular user: This is the normal user account with moderate privileges. This user does not have all the privileges of root. For instance, the root user can install new softwares, change the ownership of files, and manage other users' accounts."
   ]
  },
  {
   "cell_type": "markdown",
   "id": "7853fe4e",
   "metadata": {},
   "source": [
    "### What is `sudo` and when to use it ?"
   ]
  },
  {
   "cell_type": "raw",
   "id": "9e8b10a4",
   "metadata": {},
   "source": [
    "sudo stands for \"superuser do\" and is a program that allows you to run programs with the security privileges of another user (by default, as the superuser). It allows you to execute a command with elevated privileges (usually as root). With \"sudo\", you continue to use your user account, but with root privileges. Sudo creates a thorough audit trail, so everything users do gets logged. You should use it when you are required to perform some administrative task that you cannot perform as a normal user."
   ]
  },
  {
   "cell_type": "markdown",
   "id": "1f687b82",
   "metadata": {},
   "source": [
    "### Permissions"
   ]
  },
  {
   "cell_type": "raw",
   "id": "9c57ad47",
   "metadata": {},
   "source": [
    "What makes one user different from another user on a Linux machine are the permissions. Permissions are the \"rights\" to act on a file or directory. The basic rights are read, write and execute.\n",
    "\n",
    "# Read permission on a file allows the user to view the content of a file.\n",
    "# Write permission on a file allows the user to modify the content of that file.\n",
    "# Execute permission on a file allows the user to run the file and execute a program or script."
   ]
  },
  {
   "cell_type": "raw",
   "id": "2f474615",
   "metadata": {},
   "source": [
    "Permissions can be changed using the chmod command."
   ]
  },
  {
   "cell_type": "raw",
   "id": "5075d383",
   "metadata": {},
   "source": [
    "chmod\n",
    "\n",
    "chmod command is used to change the permission of a file or directory. Permissions could be Read, Write or Execute. In this course you will be using the file permission of 400 for granting read-only access to the user."
   ]
  },
  {
   "cell_type": "raw",
   "id": "47645a56",
   "metadata": {},
   "source": [
    "chmod 400 <path-to-the-file>"
   ]
  },
  {
   "cell_type": "raw",
   "id": "bc55c6a6",
   "metadata": {},
   "source": [
    "Using flags such as 400 is an easy and short form to set permissions.\n",
    "For example, this command will change the permission of m103-keyfile file to read only."
   ]
  },
  {
   "cell_type": "raw",
   "id": "930ad3d5",
   "metadata": {},
   "source": [
    "chmod 400 /var/mongodb/pki/m103-keyfile"
   ]
  },
  {
   "cell_type": "markdown",
   "id": "8619ae96",
   "metadata": {},
   "source": [
    "### Ownership"
   ]
  },
  {
   "cell_type": "raw",
   "id": "63379177",
   "metadata": {},
   "source": [
    "Every file is owned by a specific user and a specific group in Linux. In this course the files will be mostly owned by the root user.\n",
    "\n",
    "Ownership can be changed using the chown command."
   ]
  },
  {
   "cell_type": "raw",
   "id": "c31cbf33",
   "metadata": {},
   "source": [
    "chown\n",
    "\n",
    "Chown command is used for changing the user/group ownership of a file/directory."
   ]
  },
  {
   "cell_type": "raw",
   "id": "de43a604",
   "metadata": {},
   "source": [
    "chown [new owner]:[group] <file name>"
   ]
  },
  {
   "cell_type": "raw",
   "id": "f6c74583",
   "metadata": {},
   "source": [
    "If you need to change ownership of a file or directory, you may need to use sudo if the directory is owned by root. For example, this command will change the ownership of the /var/mongodb_directory to myuser.\n",
    "\n",
    "sudo chown myuser:myuser /var/mongodb_directory"
   ]
  },
  {
   "cell_type": "markdown",
   "id": "dbdc8378",
   "metadata": {},
   "source": [
    "# Commands You Should Know"
   ]
  },
  {
   "cell_type": "markdown",
   "id": "d77c0cbc",
   "metadata": {},
   "source": [
    "### Creating a directory"
   ]
  },
  {
   "cell_type": "raw",
   "id": "faebab8e",
   "metadata": {},
   "source": [
    "mkdir\n",
    "\n",
    "The mkdir command creates new directories in the file system. The general syntax is :"
   ]
  },
  {
   "cell_type": "code",
   "execution_count": null,
   "id": "c586895a",
   "metadata": {},
   "outputs": [],
   "source": [
    "mkdir [modifiers] <name of the directory>"
   ]
  },
  {
   "cell_type": "raw",
   "id": "0ff18ed4",
   "metadata": {},
   "source": [
    "The -p modifier creates the parent directory as necessary. For example :"
   ]
  },
  {
   "cell_type": "code",
   "execution_count": null,
   "id": "7727a0ce",
   "metadata": {},
   "outputs": [],
   "source": [
    "mkdir -p /db/mongodb_data/"
   ]
  },
  {
   "cell_type": "raw",
   "id": "6a81384d",
   "metadata": {},
   "source": [
    "If db directory already exists then this command will create only mongodb_data directory. Otherwise it will create the missing directory as well.\n",
    "\n",
    "Sometimes, you will create directories inside a parent directory which is owned by root then you can use the sudo command. For example :"
   ]
  },
  {
   "cell_type": "code",
   "execution_count": null,
   "id": "389de054",
   "metadata": {},
   "outputs": [],
   "source": [
    "sudo mkdir -p /var/data"
   ]
  },
  {
   "cell_type": "markdown",
   "id": "1ef96306",
   "metadata": {},
   "source": [
    "### Deleting a directory"
   ]
  },
  {
   "cell_type": "raw",
   "id": "98cd5983",
   "metadata": {},
   "source": [
    "rm\n",
    "\n",
    "The rm command is used for removing or deleting files and directories in the Linux operating system. The general \n",
    "syntax is :"
   ]
  },
  {
   "cell_type": "code",
   "execution_count": null,
   "id": "01f0989f",
   "metadata": {},
   "outputs": [],
   "source": [
    "rm [options] [directory|file]"
   ]
  },
  {
   "cell_type": "raw",
   "id": "e98acbb5",
   "metadata": {},
   "source": [
    "If you want to delete a directory and all the sub-directories and file recursively without prompting the user then you can use this command."
   ]
  },
  {
   "cell_type": "code",
   "execution_count": null,
   "id": "acd172b8",
   "metadata": {},
   "outputs": [],
   "source": [
    "rm -rf <directory name>"
   ]
  },
  {
   "cell_type": "raw",
   "id": "0f6e8f9e",
   "metadata": {},
   "source": [
    "Warning : Be extremely careful when running this command, because once the directories and files have been deleted it cannot be recovered. By default, it will not prompt before any removal."
   ]
  },
  {
   "cell_type": "markdown",
   "id": "54778b9c",
   "metadata": {},
   "source": [
    "### File operations in linux"
   ]
  },
  {
   "cell_type": "raw",
   "id": "6555e36a",
   "metadata": {},
   "source": [
    "ls\n",
    "\n",
    "The ls command is used to list information about files and directories within the file system. The general syntax is :"
   ]
  },
  {
   "cell_type": "code",
   "execution_count": null,
   "id": "be18ce62",
   "metadata": {},
   "outputs": [],
   "source": [
    "ls"
   ]
  },
  {
   "cell_type": "raw",
   "id": "47f1270f",
   "metadata": {},
   "source": [
    "To get a long listing of every file in a directory, including the hidden files, use :"
   ]
  },
  {
   "cell_type": "code",
   "execution_count": null,
   "id": "5ca7c5a3",
   "metadata": {},
   "outputs": [],
   "source": [
    "ls -la"
   ]
  },
  {
   "cell_type": "raw",
   "id": "c528e989",
   "metadata": {},
   "source": [
    "Long listing format prints some additional information such as : The file permissions, File owner, File group etc."
   ]
  },
  {
   "cell_type": "markdown",
   "id": "bb49cd72",
   "metadata": {},
   "source": [
    "---"
   ]
  },
  {
   "cell_type": "raw",
   "id": "43908575",
   "metadata": {},
   "source": [
    "cd\n",
    "\n",
    "The cd command is used to change the current working directory. The general syntax is :"
   ]
  },
  {
   "cell_type": "code",
   "execution_count": null,
   "id": "f3b05cf5",
   "metadata": {},
   "outputs": [],
   "source": [
    "cd <directory>"
   ]
  },
  {
   "cell_type": "markdown",
   "id": "72278037",
   "metadata": {},
   "source": [
    "---"
   ]
  },
  {
   "cell_type": "raw",
   "id": "2190f907",
   "metadata": {},
   "source": [
    "cat\n",
    "\n",
    "The cat command to view the content of any file in the terminal. The general syntax is :"
   ]
  },
  {
   "cell_type": "code",
   "execution_count": null,
   "id": "75627ded",
   "metadata": {},
   "outputs": [],
   "source": [
    "cat <name of the file>"
   ]
  },
  {
   "cell_type": "raw",
   "id": "830c06d7",
   "metadata": {},
   "source": [
    "Note: If the file is not in the same directory then we can pass the absolute or relative path of the file to the current directory."
   ]
  },
  {
   "cell_type": "markdown",
   "id": "f2a1e073",
   "metadata": {},
   "source": [
    "---"
   ]
  },
  {
   "cell_type": "raw",
   "id": "f74d07c0",
   "metadata": {},
   "source": [
    "rm\n",
    "\n",
    "The rm command is used to remove a file from the current directory."
   ]
  },
  {
   "cell_type": "code",
   "execution_count": null,
   "id": "768e6d35",
   "metadata": {},
   "outputs": [],
   "source": [
    "rm <file name>"
   ]
  },
  {
   "cell_type": "raw",
   "id": "c9c1884b",
   "metadata": {},
   "source": [
    "Warning: Be extremely careful when running this command, because once the directories and files have been deleted it cannot be recovered. By default, it will not prompt before any removal."
   ]
  },
  {
   "cell_type": "markdown",
   "id": "71da0191",
   "metadata": {},
   "source": [
    "# Linux process management"
   ]
  },
  {
   "cell_type": "raw",
   "id": "6b1469c1",
   "metadata": {},
   "source": [
    "Command to check which mongo, mongod and mongos instances are currently running on your system"
   ]
  },
  {
   "cell_type": "code",
   "execution_count": null,
   "id": "40d385a0",
   "metadata": {},
   "outputs": [],
   "source": [
    "ps -ef | grep mongo\n",
    "\n",
    "ps -ef | grep mongod\n",
    "\n",
    "ps -ef | grep mongos"
   ]
  },
  {
   "cell_type": "markdown",
   "id": "43e5a961",
   "metadata": {},
   "source": [
    "<img src=\"pid.png\">"
   ]
  },
  {
   "cell_type": "raw",
   "id": "10e59555",
   "metadata": {},
   "source": [
    "Command to kill any specific process using the process id i.e. pid"
   ]
  },
  {
   "cell_type": "code",
   "execution_count": null,
   "id": "ce8a3fe5",
   "metadata": {},
   "outputs": [],
   "source": [
    "kill <pid>"
   ]
  },
  {
   "cell_type": "raw",
   "id": "401d47bb",
   "metadata": {},
   "source": [
    "For instance, let's say we want to kill the process associated with node1.conf in the above example. We can do so by running this command."
   ]
  },
  {
   "cell_type": "code",
   "execution_count": null,
   "id": "d4188ff6",
   "metadata": {},
   "outputs": [],
   "source": [
    "kill 13029"
   ]
  },
  {
   "cell_type": "raw",
   "id": "93fc6da8",
   "metadata": {},
   "source": [
    "Command to kill all the currently running mongod instances."
   ]
  },
  {
   "cell_type": "code",
   "execution_count": null,
   "id": "29c8b8ce",
   "metadata": {},
   "outputs": [],
   "source": [
    "killall mongod"
   ]
  },
  {
   "cell_type": "raw",
   "id": "c100cfde",
   "metadata": {},
   "source": [
    "Note: Be careful when running this command as it will kill all the currently running mongod instances in one go."
   ]
  }
 ],
 "metadata": {
  "kernelspec": {
   "display_name": "Python 3",
   "language": "python",
   "name": "python3"
  },
  "language_info": {
   "codemirror_mode": {
    "name": "ipython",
    "version": 3
   },
   "file_extension": ".py",
   "mimetype": "text/x-python",
   "name": "python",
   "nbconvert_exporter": "python",
   "pygments_lexer": "ipython3",
   "version": "3.8.10"
  }
 },
 "nbformat": 4,
 "nbformat_minor": 5
}
