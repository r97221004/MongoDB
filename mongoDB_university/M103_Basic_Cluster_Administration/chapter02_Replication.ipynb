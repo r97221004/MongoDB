{
 "cells": [
  {
   "cell_type": "markdown",
   "id": "3a018f7d",
   "metadata": {},
   "source": [
    "# What is Replication"
   ]
  },
  {
   "cell_type": "raw",
   "id": "ddb7527a",
   "metadata": {},
   "source": [
    "The point of replication is to make sure that, in the event your server goes down, you can still access your data.\n",
    "This concept is called availability.\n",
    "\n",
    "A database that does not use replication only has a single database server.\n",
    "And we refer to these as standalone nodes."
   ]
  },
  {
   "cell_type": "raw",
   "id": "27401e58",
   "metadata": {},
   "source": [
    "A replica set in MongoDB is a group of mongod processes that maintain the same data set. Replica sets provide redundancy and high availability, and are the basis for all production deployments."
   ]
  },
  {
   "cell_type": "raw",
   "id": "89818097",
   "metadata": {},
   "source": [
    "A replica set is a group of mongod instances that maintain the same data set. A replica set contains several data bearing nodes and optionally one arbiter node. Of the data bearing nodes, one and only one member is deemed the primary node, while the other nodes are deemed secondary nodes.\n",
    "\n",
    "The primary node receives all write operations. A replica set can have only one primary capable of confirming writes with { w: \"majority\" } write concern; although in some circumstances, another mongod instance may transiently believe itself to also be primary. [1] The primary records all changes to its data sets in its operation log, i.e. oplog. For more information on primary node operation, see Replica Set Primary."
   ]
  },
  {
   "cell_type": "markdown",
   "id": "aec13ca2",
   "metadata": {},
   "source": [
    "<img src=\"replica-set-read-write-operations-primary.bakedsvg.svg\">"
   ]
  },
  {
   "cell_type": "raw",
   "id": "a113f0f0",
   "metadata": {},
   "source": [
    "The secondaries replicate the primary's oplog and apply the operations to their data sets such that the secondaries' data sets reflect the primary's data set. If the primary is unavailable, an eligible secondary will hold an election to elect itself the new primary. For more information on secondary members, see Replica Set Secondary Members."
   ]
  },
  {
   "cell_type": "markdown",
   "id": "83940397",
   "metadata": {},
   "source": [
    "### Automatic Failover (故障轉移)"
   ]
  },
  {
   "cell_type": "raw",
   "id": "8dd2a689",
   "metadata": {},
   "source": [
    "When a primary does not communicate with the other members of the set for more than the configured electionTimeoutMillis period (10 seconds by default), an eligible secondary calls for an election to nominate itself as the new primary. The cluster attempts to complete the election of a new primary and resume normal operations."
   ]
  },
  {
   "cell_type": "markdown",
   "id": "4107cb6d",
   "metadata": {},
   "source": [
    "<img src=\"replica-set-trigger-election.bakedsvg.svg\">"
   ]
  },
  {
   "cell_type": "raw",
   "id": "28f4a1ab",
   "metadata": {},
   "source": [
    "- Replica sets use failover to provide high availability to client applications.\n",
    "- We can have up to 50 replica set members, but only 7 of those will be voting members.\n",
    "- Replica sets ensure high availability. This implies that if a given node fails, regardless of its role, the availability\n",
    "  of the system will be ensured by failing over the role of primary to an available secondary node through an election.\n",
    "- Arbiters should not be used lightly and their utilization in the set is highly discouraged."
   ]
  },
  {
   "cell_type": "markdown",
   "id": "c5aaf186",
   "metadata": {},
   "source": [
    "### Arbiter"
   ]
  },
  {
   "cell_type": "raw",
   "id": "003080de",
   "metadata": {},
   "source": [
    "In some circumstances (such as you have a primary and a secondary but cost constraints prohibit adding another secondary), you may choose to add a mongod instance to a replica set as an arbiter. An arbiter participates in elections but does not hold data (i.e. does not provide data redundancy). For more information on arbiters, see Replica Set Arbiter."
   ]
  },
  {
   "cell_type": "markdown",
   "id": "234bef86",
   "metadata": {},
   "source": [
    "<img src=\"replica-set-primary-with-secondary-and-arbiter.bakedsvg.svg\">"
   ]
  },
  {
   "cell_type": "raw",
   "id": "3a816288",
   "metadata": {},
   "source": [
    "An arbiter will always be an arbiter whereas a primary may step down and become a secondary and a secondary may become the primary during an election."
   ]
  },
  {
   "cell_type": "markdown",
   "id": "1d65ac35",
   "metadata": {},
   "source": [
    "# Hidden Replica Set Members"
   ]
  },
  {
   "cell_type": "raw",
   "id": "3b42aa82",
   "metadata": {},
   "source": [
    "A hidden member maintains a copy of the primary's data set but is invisible to client applications. Hidden members are good for workloads with different usage patterns from the other members in the replica set. Hidden members must always be priority 0 members and so cannot become primary. The db.hello() method does not display hidden members. Hidden members, however, may vote in elections.\n",
    "\n",
    "In the following five-member replica set, all four secondary members have copies of the primary's data set, but one of the secondary members is hidden."
   ]
  },
  {
   "cell_type": "markdown",
   "id": "8862b93a",
   "metadata": {},
   "source": [
    "<img src=\"replica-set-hidden-member.bakedsvg.svg\">"
   ]
  },
  {
   "cell_type": "markdown",
   "id": "387d227f",
   "metadata": {},
   "source": [
    "### 部署奇數個成員"
   ]
  },
  {
   "cell_type": "raw",
   "id": "d7e75297",
   "metadata": {},
   "source": [
    "副本集應該確保具有奇數個投票成員，如果您擁有偶數個投票成員，請部署仲裁節點，以便該集合具有奇數個投票成員。仲裁節點不存儲數據的副本並且需要更少的資源。因此，您可以在應用程序服務器或其他共享進程上運行仲裁程序。"
   ]
  },
  {
   "cell_type": "raw",
   "id": "384e30fb",
   "metadata": {},
   "source": [
    "# Replica Sets are groups of mongod\n",
    "# High Availability and Failover\n",
    "# Members can have different roles and specific purposes"
   ]
  },
  {
   "cell_type": "markdown",
   "id": "3ff0361f",
   "metadata": {},
   "source": [
    "### 範例01 Setting Up a Replica Set"
   ]
  },
  {
   "cell_type": "raw",
   "id": "595b9901",
   "metadata": {},
   "source": [
    "The configuration file for the first node (node1.conf):"
   ]
  },
  {
   "cell_type": "code",
   "execution_count": null,
   "id": "b7d671c0",
   "metadata": {},
   "outputs": [],
   "source": [
    "storage:\n",
    "  dbPath: /var/mongodb/db/node1\n",
    "net:\n",
    "  bindIp: 192.168.103.100,localhost\n",
    "  port: 27011\n",
    "security:\n",
    "  authorization: enabled\n",
    "  keyFile: /var/mongodb/pki/m103-keyfile\n",
    "systemLog:\n",
    "  destination: file\n",
    "  path: /var/mongodb/db/node1/mongod.log\n",
    "  logAppend: true\n",
    "processManagement:\n",
    "  fork: true\n",
    "replication:\n",
    "  replSetName: m103-example"
   ]
  },
  {
   "cell_type": "raw",
   "id": "88894e57",
   "metadata": {},
   "source": [
    "Creating the keyfile and setting permissions on it:"
   ]
  },
  {
   "cell_type": "code",
   "execution_count": null,
   "id": "da0c7869",
   "metadata": {},
   "outputs": [],
   "source": [
    "sudo mkdir -p /var/mongodb/pki/\n",
    "sudo chown vagrant:vagrant /var/mongodb/pki/\n",
    "openssl rand -base64 741 > /var/mongodb/pki/m103-keyfile\n",
    "chmod 400 /var/mongodb/pki/m103-keyfile"
   ]
  },
  {
   "cell_type": "raw",
   "id": "8df46194",
   "metadata": {},
   "source": [
    "Creating the dbpath for node1:"
   ]
  },
  {
   "cell_type": "code",
   "execution_count": null,
   "id": "cf5d60d3",
   "metadata": {},
   "outputs": [],
   "source": [
    "mkdir -p /var/mongodb/db/node1"
   ]
  },
  {
   "cell_type": "raw",
   "id": "9b93ca6e",
   "metadata": {},
   "source": [
    "Starting a mongod with node1.conf:"
   ]
  },
  {
   "cell_type": "code",
   "execution_count": null,
   "id": "42ea4fd5",
   "metadata": {},
   "outputs": [],
   "source": [
    "mongod -f node1.conf"
   ]
  },
  {
   "cell_type": "raw",
   "id": "118384e4",
   "metadata": {},
   "source": [
    "Copying node1.conf to node2.conf and node3.conf:"
   ]
  },
  {
   "cell_type": "code",
   "execution_count": null,
   "id": "4a7c18f1",
   "metadata": {},
   "outputs": [],
   "source": [
    "cp node1.conf node2.conf\n",
    "cp node2.conf node3.conf"
   ]
  },
  {
   "cell_type": "raw",
   "id": "68507afe",
   "metadata": {},
   "source": [
    "Editing node2.conf using vi:"
   ]
  },
  {
   "cell_type": "code",
   "execution_count": null,
   "id": "7c7cc83f",
   "metadata": {},
   "outputs": [],
   "source": [
    "vi node2.conf"
   ]
  },
  {
   "cell_type": "raw",
   "id": "5e69b15f",
   "metadata": {},
   "source": [
    "Saving the file and exiting vi:"
   ]
  },
  {
   "cell_type": "code",
   "execution_count": null,
   "id": "ebbc3d8d",
   "metadata": {},
   "outputs": [],
   "source": [
    ":wq"
   ]
  },
  {
   "cell_type": "raw",
   "id": "043bde39",
   "metadata": {},
   "source": [
    "node2.conf, after changing the dbpath, port, and logpath:"
   ]
  },
  {
   "cell_type": "code",
   "execution_count": null,
   "id": "790c38f0",
   "metadata": {},
   "outputs": [],
   "source": [
    "storage:\n",
    "  dbPath: /var/mongodb/db/node2\n",
    "net:\n",
    "  bindIp: 192.168.103.100,localhost\n",
    "  port: 27012\n",
    "security:\n",
    "  authorization: enabled\n",
    "  keyFile: /var/mongodb/pki/m103-keyfile\n",
    "systemLog:\n",
    "  destination: file\n",
    "  path: /var/mongodb/db/node2/mongod.log\n",
    "  logAppend: true\n",
    "processManagement:\n",
    "  fork: true\n",
    "replication:\n",
    "  replSetName: m103-example"
   ]
  },
  {
   "cell_type": "raw",
   "id": "9ffc2824",
   "metadata": {},
   "source": [
    "node3.conf, after changing the dbpath, port, and logpath:"
   ]
  },
  {
   "cell_type": "code",
   "execution_count": null,
   "id": "b2f197a7",
   "metadata": {},
   "outputs": [],
   "source": [
    "storage:\n",
    "  dbPath: /var/mongodb/db/node3\n",
    "net:\n",
    "  bindIp: 192.168.103.100,localhost\n",
    "  port: 27013\n",
    "security:\n",
    "  authorization: enabled\n",
    "  keyFile: /var/mongodb/pki/m103-keyfile\n",
    "systemLog:\n",
    "  destination: file\n",
    "  path: /var/mongodb/db/node3/mongod.log\n",
    "  logAppend: true\n",
    "processManagement:\n",
    "  fork: true\n",
    "replication:\n",
    "  replSetName: m103-example"
   ]
  },
  {
   "cell_type": "raw",
   "id": "e9f48ad1",
   "metadata": {},
   "source": [
    "Creating the data directories for node2 and node3:"
   ]
  },
  {
   "cell_type": "code",
   "execution_count": null,
   "id": "b399794b",
   "metadata": {},
   "outputs": [],
   "source": [
    "mkdir /var/mongodb/db/{node2,node3}"
   ]
  },
  {
   "cell_type": "raw",
   "id": "3646fcf7",
   "metadata": {},
   "source": [
    "Starting mongod processes with node2.conf and node3.conf:"
   ]
  },
  {
   "cell_type": "code",
   "execution_count": null,
   "id": "2fedc9e4",
   "metadata": {},
   "outputs": [],
   "source": [
    "mongod -f node2.conf\n",
    "mongod -f node3.conf"
   ]
  },
  {
   "cell_type": "raw",
   "id": "5824f81f",
   "metadata": {},
   "source": [
    "Connecting to node1:"
   ]
  },
  {
   "cell_type": "code",
   "execution_count": null,
   "id": "26096e96",
   "metadata": {},
   "outputs": [],
   "source": [
    "mongo --port 27011"
   ]
  },
  {
   "cell_type": "raw",
   "id": "aa486303",
   "metadata": {},
   "source": [
    "Initiating the replica set:"
   ]
  },
  {
   "cell_type": "code",
   "execution_count": null,
   "id": "f75806ac",
   "metadata": {},
   "outputs": [],
   "source": [
    "rs.initiate()"
   ]
  },
  {
   "cell_type": "raw",
   "id": "bdf66e82",
   "metadata": {},
   "source": [
    "Creating a user:"
   ]
  },
  {
   "cell_type": "code",
   "execution_count": null,
   "id": "809c73e5",
   "metadata": {},
   "outputs": [],
   "source": [
    "use admin\n",
    "db.createUser({\n",
    "  user: \"m103-admin\",\n",
    "  pwd: \"m103-pass\",\n",
    "  roles: [\n",
    "    {role: \"root\", db: \"admin\"}\n",
    "  ]\n",
    "})"
   ]
  },
  {
   "cell_type": "raw",
   "id": "088e9b0f",
   "metadata": {},
   "source": [
    "Exiting out of the Mongo shell and connecting to the entire replica set:"
   ]
  },
  {
   "cell_type": "code",
   "execution_count": null,
   "id": "81c2dfe2",
   "metadata": {},
   "outputs": [],
   "source": [
    "exit\n",
    "mongo --host \"m103-example/192.168.103.100:27011\" -u \"m103-admin\"\n",
    "-p \"m103-pass\" --authenticationDatabase \"admin\""
   ]
  },
  {
   "cell_type": "raw",
   "id": "bc0aebbe",
   "metadata": {},
   "source": [
    "Getting replica set status:"
   ]
  },
  {
   "cell_type": "code",
   "execution_count": null,
   "id": "c7eeaa1d",
   "metadata": {},
   "outputs": [],
   "source": [
    "rs.status()"
   ]
  },
  {
   "cell_type": "raw",
   "id": "68bd6aef",
   "metadata": {},
   "source": [
    "Adding other members to replica set:"
   ]
  },
  {
   "cell_type": "code",
   "execution_count": null,
   "id": "03ed208d",
   "metadata": {},
   "outputs": [],
   "source": [
    "rs.add(\"m103:27012\")\n",
    "rs.add(\"m103:27013\")"
   ]
  },
  {
   "cell_type": "raw",
   "id": "6bcd8f33",
   "metadata": {},
   "source": [
    "Getting an overview of the replica set topology:"
   ]
  },
  {
   "cell_type": "code",
   "execution_count": null,
   "id": "88f070bd",
   "metadata": {},
   "outputs": [],
   "source": [
    "rs.isMaster()"
   ]
  },
  {
   "cell_type": "raw",
   "id": "fc9621ab",
   "metadata": {},
   "source": [
    "Stepping down the current primary:"
   ]
  },
  {
   "cell_type": "code",
   "execution_count": null,
   "id": "d3396c29",
   "metadata": {},
   "outputs": [],
   "source": [
    "rs.stepDown()"
   ]
  },
  {
   "cell_type": "raw",
   "id": "c4d3708f",
   "metadata": {},
   "source": [
    "Checking replica set overview after election:"
   ]
  },
  {
   "cell_type": "code",
   "execution_count": null,
   "id": "1319d816",
   "metadata": {},
   "outputs": [],
   "source": [
    "rs.isMaster()"
   ]
  },
  {
   "cell_type": "markdown",
   "id": "f1210600",
   "metadata": {},
   "source": [
    "# Replication Configuration Document"
   ]
  },
  {
   "cell_type": "raw",
   "id": "311fd624",
   "metadata": {},
   "source": [
    "- JSON Object that defines the configuration options of our replica set\n",
    "- Can be configured manually from the shell\n",
    "- There are set of mongo shell replication helper methods that make it easier to manage\n",
    "  rs.add、rs.initiate、rs.remove、rs.reconfig、rs.config "
   ]
  },
  {
   "cell_type": "markdown",
   "id": "a1f7c3d3",
   "metadata": {},
   "source": [
    "### 簡單結構介紹"
   ]
  },
  {
   "cell_type": "raw",
   "id": "2ef376a5",
   "metadata": {},
   "source": [
    "{\n",
    "    id: <string>,      <- replica set 的名字\n",
    "    version: <int>     <- 一旦文件修改就會產生新的版本\n",
    "    members: [\n",
    "        {\n",
    "            _id: <int>,\n",
    "            host: <string>,\n",
    "            arbiterOnly: <boolean>,\n",
    "            hidden: <boolean>,\n",
    "            priority: <number>,\n",
    "            SlaveDelay: <int>   <- 以秒為單位，幾秒後才寫入這個 node\n",
    "        }\n",
    "    ]\n",
    "}"
   ]
  },
  {
   "cell_type": "raw",
   "id": "9226de19",
   "metadata": {},
   "source": [
    "# Replication Config Document is use define our Replica set\n",
    "# members field determines the topology and roles of the individual nodes\n",
    "# Basic set of configuration options"
   ]
  },
  {
   "cell_type": "markdown",
   "id": "2996e7d3",
   "metadata": {},
   "source": [
    "# Replication Commands"
   ]
  },
  {
   "cell_type": "raw",
   "id": "f9d5ddfb",
   "metadata": {},
   "source": [
    "rs.status()\n",
    "\n",
    "- Reports health on replica set nodes\n",
    "- Uses data from heartbeats"
   ]
  },
  {
   "cell_type": "markdown",
   "id": "e27d9951",
   "metadata": {},
   "source": [
    "<img src=\"7.PNG\">"
   ]
  },
  {
   "cell_type": "raw",
   "id": "e181583e",
   "metadata": {},
   "source": [
    "# self: true 表示 command run 在這個節點，所有沒有 lastHeartBeat 與 lastHeartBeatRecv 這兩個 keys"
   ]
  },
  {
   "cell_type": "markdown",
   "id": "a0fc8078",
   "metadata": {},
   "source": [
    "<img src=\"8.PNG\">"
   ]
  },
  {
   "cell_type": "markdown",
   "id": "6eb66111",
   "metadata": {},
   "source": [
    "<img src=\"9.PNG\">"
   ]
  },
  {
   "cell_type": "raw",
   "id": "f0e970ab",
   "metadata": {},
   "source": [
    "rs.isMaster()\n",
    "\n",
    "- Describes a node's role in the replica set\n",
    "- Shorter output than rs.status()"
   ]
  },
  {
   "cell_type": "markdown",
   "id": "a306e075",
   "metadata": {},
   "source": [
    "<img src=\"10.PNG\">"
   ]
  },
  {
   "cell_type": "raw",
   "id": "3f068a3e",
   "metadata": {},
   "source": [
    "db.serverStatus()[\"repl\"]\n",
    "\n",
    "- Section of the db.serverStatus() output\n",
    "- similar to the output of rs.isMaster() (多了 rbid 的 key，知道發生多少的 rollback)"
   ]
  },
  {
   "cell_type": "markdown",
   "id": "b17852d8",
   "metadata": {},
   "source": [
    "<img src=\"11.PNG\">"
   ]
  },
  {
   "cell_type": "raw",
   "id": "2ccfc635",
   "metadata": {},
   "source": [
    "rs.printReplicationInfo()\n",
    "\n",
    "- Only returns oplog data relative to current node\n",
    "- Contains timestamps for first and last oplog events"
   ]
  },
  {
   "cell_type": "markdown",
   "id": "74104443",
   "metadata": {},
   "source": [
    "<img src=\"12.png\">"
   ]
  },
  {
   "cell_type": "markdown",
   "id": "deb2628d",
   "metadata": {},
   "source": [
    "# Local DB"
   ]
  },
  {
   "cell_type": "raw",
   "id": "f18fbefe",
   "metadata": {},
   "source": [
    "Make a data directory and launch a mongod process for a standalone node:"
   ]
  },
  {
   "cell_type": "code",
   "execution_count": null,
   "id": "5f9de45b",
   "metadata": {},
   "outputs": [],
   "source": [
    "mkdir allbymyselfdb\n",
    "mongod --dbpath allbymyselfdb"
   ]
  },
  {
   "cell_type": "raw",
   "id": "057c3919",
   "metadata": {},
   "source": [
    "Display all databases (by default, only admin and local):"
   ]
  },
  {
   "cell_type": "code",
   "execution_count": null,
   "id": "5548b8d1",
   "metadata": {},
   "outputs": [],
   "source": [
    "mongo\n",
    "show dbs"
   ]
  },
  {
   "cell_type": "raw",
   "id": "b204942c",
   "metadata": {},
   "source": [
    "Display collections from the local database (this displays more collections from a replica set than from a standalone node):"
   ]
  },
  {
   "cell_type": "code",
   "execution_count": null,
   "id": "1b440e33",
   "metadata": {},
   "outputs": [],
   "source": [
    "use local\n",
    "show collections"
   ]
  },
  {
   "cell_type": "raw",
   "id": "5248cd0d",
   "metadata": {},
   "source": [
    "Query the oplog (oplog.rs) after connected to a replica set:"
   ]
  },
  {
   "cell_type": "code",
   "execution_count": null,
   "id": "5c680f7b",
   "metadata": {},
   "outputs": [],
   "source": [
    "use local\n",
    "db.oplog.rs.find()"
   ]
  },
  {
   "cell_type": "raw",
   "id": "5bcee0f1",
   "metadata": {},
   "source": [
    "Get information about the oplog (remember the oplog is a capped collection).\n",
    "\n",
    "Store oplog stats as a variable called stats:"
   ]
  },
  {
   "cell_type": "code",
   "execution_count": null,
   "id": "1abd9ac4",
   "metadata": {},
   "outputs": [],
   "source": [
    "var stats = db.oplog.rs.stats()"
   ]
  },
  {
   "cell_type": "raw",
   "id": "ca0040a3",
   "metadata": {},
   "source": [
    "Verify that this collection is capped (it will grow to a pre-configured size before it starts to overwrite the oldest entries with newer ones):"
   ]
  },
  {
   "cell_type": "code",
   "execution_count": null,
   "id": "c23fd7e7",
   "metadata": {},
   "outputs": [],
   "source": [
    "stats.capped"
   ]
  },
  {
   "cell_type": "raw",
   "id": "3071d480",
   "metadata": {},
   "source": [
    "Get current size of the oplog:"
   ]
  },
  {
   "cell_type": "code",
   "execution_count": null,
   "id": "65e56568",
   "metadata": {},
   "outputs": [],
   "source": [
    "stats.size"
   ]
  },
  {
   "cell_type": "raw",
   "id": "ec0e6185",
   "metadata": {},
   "source": [
    "Get size limit of the oplog:"
   ]
  },
  {
   "cell_type": "code",
   "execution_count": null,
   "id": "493d7c4d",
   "metadata": {},
   "outputs": [],
   "source": [
    "stats.maxSize"
   ]
  },
  {
   "cell_type": "markdown",
   "id": "0dd143c0",
   "metadata": {},
   "source": [
    "---"
   ]
  },
  {
   "cell_type": "code",
   "execution_count": null,
   "id": "d009a81b",
   "metadata": {},
   "outputs": [],
   "source": [
    "# 換單位成 MB\n",
    "# by default will take 5% of yout free disk\n",
    "var stats = db.oplog.rs.stats(1024*1024)\n",
    "stats.maxSize"
   ]
  },
  {
   "cell_type": "code",
   "execution_count": null,
   "id": "2fd186d3",
   "metadata": {},
   "outputs": [],
   "source": [
    "df -h"
   ]
  },
  {
   "cell_type": "raw",
   "id": "472871d0",
   "metadata": {},
   "source": [
    "Get current oplog data (including first and last event times, and configured oplog size):"
   ]
  },
  {
   "cell_type": "code",
   "execution_count": null,
   "id": "56b7bd6e",
   "metadata": {},
   "outputs": [],
   "source": [
    "re.printReplicationInfo()"
   ]
  },
  {
   "cell_type": "markdown",
   "id": "1c74f198",
   "metadata": {},
   "source": [
    "---"
   ]
  },
  {
   "cell_type": "raw",
   "id": "4cf04ee8",
   "metadata": {},
   "source": [
    "oplog.rs\n",
    "\n",
    "- Capped Collection\n",
    "- Replication Window is proportional to the system load\n",
    "- One operation may result in many oplog.rs entries"
   ]
  },
  {
   "cell_type": "raw",
   "id": "ee2baa3f",
   "metadata": {},
   "source": [
    "Create new namespace m103.messages:"
   ]
  },
  {
   "cell_type": "code",
   "execution_count": null,
   "id": "0ba5ce06",
   "metadata": {},
   "outputs": [],
   "source": [
    "use m103\n",
    "db.createCollection('messages')"
   ]
  },
  {
   "cell_type": "raw",
   "id": "d832b77e",
   "metadata": {},
   "source": [
    "Query the oplog, filtering out the heartbeats (\"periodic noop\") and only returning the latest entry:"
   ]
  },
  {
   "cell_type": "code",
   "execution_count": null,
   "id": "e640f0d7",
   "metadata": {},
   "outputs": [],
   "source": [
    "use local\n",
    "db.oplog.rs.find( { \"o.msg\": { $ne: \"periodic noop\" } } ).sort( { $natural: -1 } ).limit(1).pretty()"
   ]
  },
  {
   "cell_type": "raw",
   "id": "e94ab4d5",
   "metadata": {},
   "source": [
    "Insert 100 different documents:"
   ]
  },
  {
   "cell_type": "code",
   "execution_count": null,
   "id": "98601d9f",
   "metadata": {},
   "outputs": [],
   "source": [
    "use m103\n",
    "for ( i=0; i< 100; i++) { db.messages.insert( { 'msg': 'not yet', _id: i } ) }\n",
    "db.messages.count()"
   ]
  },
  {
   "cell_type": "raw",
   "id": "bc998cdf",
   "metadata": {},
   "source": [
    "Query the oplog to find all operations related to m103.messages:"
   ]
  },
  {
   "cell_type": "code",
   "execution_count": null,
   "id": "16661d10",
   "metadata": {},
   "outputs": [],
   "source": [
    "use local\n",
    "db.oplog.rs.find({\"ns\": \"m103.messages\"}).sort({$natural: -1})"
   ]
  },
  {
   "cell_type": "raw",
   "id": "fc81d32c",
   "metadata": {},
   "source": [
    "Illustrate that one update statement may generate many entries in the oplog:"
   ]
  },
  {
   "cell_type": "code",
   "execution_count": null,
   "id": "c39a0d37",
   "metadata": {},
   "outputs": [],
   "source": [
    "use m103\n",
    "db.messages.updateMany( {}, { $set: { author: 'norberto' } } )\n",
    "use local\n",
    "db.oplog.rs.find( { \"ns\": \"m103.messages\" } ).sort( { $natural: -1 } )"
   ]
  },
  {
   "cell_type": "raw",
   "id": "77ec88aa",
   "metadata": {},
   "source": [
    "Remember, even though you can write data to the local db, you should not."
   ]
  },
  {
   "cell_type": "raw",
   "id": "95d8ca0f",
   "metadata": {},
   "source": [
    "# Local database holds important information\n",
    "# oplog.rs is central to our replication mechanism\n",
    "# The size of our oplog will impact the replication window\n",
    "# Any data written to our local database does not get replicated to other nodes"
   ]
  },
  {
   "cell_type": "markdown",
   "id": "71350861",
   "metadata": {},
   "source": [
    "# Reconfiguring a Running Replica Set"
   ]
  },
  {
   "cell_type": "markdown",
   "id": "8b876bd6",
   "metadata": {},
   "source": [
    "<img src=\"13.png\">"
   ]
  },
  {
   "cell_type": "code",
   "execution_count": null,
   "id": "6fe4cb69",
   "metadata": {},
   "outputs": [],
   "source": [
    "要再多增加一個 secondary 和一個 arbiter"
   ]
  },
  {
   "cell_type": "markdown",
   "id": "dff44378",
   "metadata": {},
   "source": [
    "<img src=\"14.png\">"
   ]
  },
  {
   "cell_type": "code",
   "execution_count": null,
   "id": "a7fe540e",
   "metadata": {},
   "outputs": [],
   "source": [
    "# 去看看現在 replica set 的 topology\n",
    "rs.isMaster()"
   ]
  },
  {
   "cell_type": "code",
   "execution_count": null,
   "id": "1c86a192",
   "metadata": {},
   "outputs": [],
   "source": [
    "# node4.conf\n",
    "storage:\n",
    "  dbPath: /var/mongodb/db/node4\n",
    "net:\n",
    "  bindIp: 192.168.103.100,localhost\n",
    "  port: 27014\n",
    "systemLog:\n",
    "  destination: file\n",
    "  path: /var/mongodb/db/node4/mongod.log\n",
    "  logAppend: true\n",
    "processManagement:\n",
    "  fork: true\n",
    "replication:\n",
    "  replSetName: m103-example"
   ]
  },
  {
   "cell_type": "code",
   "execution_count": null,
   "id": "34c8a754",
   "metadata": {},
   "outputs": [],
   "source": [
    "# arbiter.conf\n",
    "storage:\n",
    "  dbPath: /var/mongodb/db/arbiter\n",
    "net:\n",
    "  bindIp: 192.168.103.100,localhost\n",
    "  port: 28000\n",
    "systemLog:\n",
    "  destination: file\n",
    "  path: /var/mongodb/db/arbiter/mongod.log\n",
    "  logAppend: true\n",
    "processManagement:\n",
    "  fork: true\n",
    "replication:\n",
    "  replSetName: m103-example"
   ]
  },
  {
   "cell_type": "raw",
   "id": "2982566d",
   "metadata": {},
   "source": [
    "Starting up mongod processes for our fourth node and arbiter:"
   ]
  },
  {
   "cell_type": "code",
   "execution_count": null,
   "id": "ac144785",
   "metadata": {},
   "outputs": [],
   "source": [
    "mongod -f node4.conf\n",
    "mongod -f arbiter.conf"
   ]
  },
  {
   "cell_type": "raw",
   "id": "c7b12481",
   "metadata": {},
   "source": [
    "From the Mongo shell of the replica set, adding the new secondary and the new arbiter:"
   ]
  },
  {
   "cell_type": "code",
   "execution_count": null,
   "id": "140d0c38",
   "metadata": {},
   "outputs": [],
   "source": [
    "rs.add(\"m103:27014\")\n",
    "rs.addArb(\"m103:28000\")"
   ]
  },
  {
   "cell_type": "raw",
   "id": "f92287c1",
   "metadata": {},
   "source": [
    "Checking replica set makeup after adding two new nodes:"
   ]
  },
  {
   "cell_type": "code",
   "execution_count": null,
   "id": "11211ebb",
   "metadata": {},
   "outputs": [],
   "source": [
    "rs.isMaster()"
   ]
  },
  {
   "cell_type": "raw",
   "id": "e1c08c06",
   "metadata": {},
   "source": [
    "Removing the"
   ]
  },
  {
   "cell_type": "code",
   "execution_count": null,
   "id": "5ff5dac3",
   "metadata": {},
   "outputs": [],
   "source": [
    "rs.remove(\"m103:28000\")"
   ]
  },
  {
   "cell_type": "code",
   "execution_count": null,
   "id": "81f5915b",
   "metadata": {},
   "outputs": [],
   "source": [
    "# 但現在我們只有 4 個成員\n",
    "rs.isMaster()"
   ]
  },
  {
   "cell_type": "raw",
   "id": "e9074947",
   "metadata": {},
   "source": [
    "Assigning the current configuration to a shell variable we can edit, in order to reconfigure the replica set:"
   ]
  },
  {
   "cell_type": "code",
   "execution_count": null,
   "id": "e7e6f2f8",
   "metadata": {},
   "outputs": [],
   "source": [
    "cfg = rs.conf()"
   ]
  },
  {
   "cell_type": "code",
   "execution_count": null,
   "id": "cc36fa61",
   "metadata": {},
   "outputs": [],
   "source": [
    "cfg"
   ]
  },
  {
   "cell_type": "raw",
   "id": "6d5f4954",
   "metadata": {},
   "source": [
    "Editing our new variable cfg to change topology - specifically, by modifying cfg.members:"
   ]
  },
  {
   "cell_type": "code",
   "execution_count": null,
   "id": "3c6a2a6e",
   "metadata": {},
   "outputs": [],
   "source": [
    "cfg.members[3].votes = 0\n",
    "cfg.members[3].hidden = true\n",
    "cfg.members[3].priority = 0"
   ]
  },
  {
   "cell_type": "raw",
   "id": "b77dfbbd",
   "metadata": {},
   "source": [
    "Updating our replica set to use the new configuration cfg:"
   ]
  },
  {
   "cell_type": "code",
   "execution_count": null,
   "id": "02f75c34",
   "metadata": {},
   "outputs": [],
   "source": [
    "# 會引發一場投票\n",
    "rs.reconfig(cfg)"
   ]
  },
  {
   "cell_type": "code",
   "execution_count": null,
   "id": "4f6ff8b5",
   "metadata": {},
   "outputs": [],
   "source": [
    "rs.conf()"
   ]
  },
  {
   "cell_type": "markdown",
   "id": "637e7a64",
   "metadata": {},
   "source": [
    "<img src=\"15.png\">"
   ]
  },
  {
   "cell_type": "raw",
   "id": "81927296",
   "metadata": {},
   "source": [
    "# When we reconfigure a replica set with rs.reconfig(), we do not need to restart any of the individual nodes.\n",
    "# When we reconfigure a replica set with rs.reconfig(), we do not need to update any of the nodes' configuration files.\n",
    "# When issuing an updated configuration to rs.reconfig(), the entire configuration document is required."
   ]
  },
  {
   "cell_type": "markdown",
   "id": "249e23f9",
   "metadata": {},
   "source": [
    "# Reads and Writes on a Replica Set"
   ]
  },
  {
   "cell_type": "raw",
   "id": "12cb0e87",
   "metadata": {},
   "source": [
    "Connecting to the replica set:"
   ]
  },
  {
   "cell_type": "code",
   "execution_count": null,
   "id": "557d93e7",
   "metadata": {},
   "outputs": [],
   "source": [
    "mongo --host \"m103-example/m103:27011\" -u \"m103-admin\" -p\n",
    "\"m103-pass\" --authenticationDatabase \"admin\""
   ]
  },
  {
   "cell_type": "raw",
   "id": "33a68e11",
   "metadata": {},
   "source": [
    "Checking replica set topology(看看誰是 primary):"
   ]
  },
  {
   "cell_type": "code",
   "execution_count": null,
   "id": "701daad5",
   "metadata": {},
   "outputs": [],
   "source": [
    "rs.isMaster()"
   ]
  },
  {
   "cell_type": "raw",
   "id": "e27be636",
   "metadata": {},
   "source": [
    "(現在在 primary) Inserting one document into a new collection:"
   ]
  },
  {
   "cell_type": "code",
   "execution_count": null,
   "id": "9aaa40ae",
   "metadata": {},
   "outputs": [],
   "source": [
    "use newDB\n",
    "db.new_collection.insert( { \"student\": \"Matt Javaly\", \"grade\": \"A+\" } )"
   ]
  },
  {
   "cell_type": "raw",
   "id": "d07c6a31",
   "metadata": {},
   "source": [
    "Connecting directly to a secondary node (this node may not be a secondary in your replica set!):"
   ]
  },
  {
   "cell_type": "code",
   "execution_count": null,
   "id": "bf73f154",
   "metadata": {},
   "outputs": [],
   "source": [
    "# 前面不能加 replica set 的名字才能到 secondary\n",
    "mongo --host \"m103:27012\" -u \"m103-admin\" -p \"m103-pass\"\n",
    "--authenticationDatabase \"admin\""
   ]
  },
  {
   "cell_type": "raw",
   "id": "b854acaa",
   "metadata": {},
   "source": [
    "Attempting to execute a read command on a secondary node (this should fail):"
   ]
  },
  {
   "cell_type": "code",
   "execution_count": null,
   "id": "37a875aa",
   "metadata": {},
   "outputs": [],
   "source": [
    "show dbs"
   ]
  },
  {
   "cell_type": "raw",
   "id": "56422fce",
   "metadata": {},
   "source": [
    "Enabling read commands on a secondary node:"
   ]
  },
  {
   "cell_type": "code",
   "execution_count": null,
   "id": "10ab0a0f",
   "metadata": {},
   "outputs": [],
   "source": [
    "rs.slaveOk()"
   ]
  },
  {
   "cell_type": "raw",
   "id": "e5ffc9da",
   "metadata": {},
   "source": [
    "Reading from a secondary node:"
   ]
  },
  {
   "cell_type": "code",
   "execution_count": null,
   "id": "87e3e9d4",
   "metadata": {},
   "outputs": [],
   "source": [
    "# write comment 有成功被複寫到 secondary node\n",
    "use newDB\n",
    "db.new_collection.find()"
   ]
  },
  {
   "cell_type": "raw",
   "id": "0260c1fd",
   "metadata": {},
   "source": [
    "Attempting to write data directly to a secondary node (this should fail, because we cannot write data directly to a secondary):"
   ]
  },
  {
   "cell_type": "code",
   "execution_count": null,
   "id": "c84d1eed",
   "metadata": {},
   "outputs": [],
   "source": [
    "db.new_collection.insert( { \"student\": \"Norberto Leite\", \"grade\": \"B+\" } )"
   ]
  },
  {
   "cell_type": "markdown",
   "id": "69aef6ec",
   "metadata": {},
   "source": [
    "---"
   ]
  },
  {
   "cell_type": "raw",
   "id": "1344362b",
   "metadata": {},
   "source": [
    "Shutting down the server (on both secondary nodes)"
   ]
  },
  {
   "cell_type": "code",
   "execution_count": null,
   "id": "fb97fc06",
   "metadata": {},
   "outputs": [],
   "source": [
    "use admin\n",
    "db.shutdownServer()"
   ]
  },
  {
   "cell_type": "raw",
   "id": "a8e37f09",
   "metadata": {},
   "source": [
    "Connecting directly to the last healthy node in our set:"
   ]
  },
  {
   "cell_type": "code",
   "execution_count": null,
   "id": "19a0087f",
   "metadata": {},
   "outputs": [],
   "source": [
    "mongo --host \"m103:27011\" -u \"m103-admin\" -p \"m103-pass\"\n",
    "--authenticationDatabase \"admin\""
   ]
  },
  {
   "cell_type": "raw",
   "id": "a962cf9e",
   "metadata": {},
   "source": [
    "Verifying that the last node stepped down to become a secondary when a majority of nodes in the set were not available:"
   ]
  },
  {
   "cell_type": "code",
   "execution_count": null,
   "id": "d7efb8d5",
   "metadata": {},
   "outputs": [],
   "source": [
    "rs.isMaster()"
   ]
  },
  {
   "cell_type": "markdown",
   "id": "f35cd245",
   "metadata": {},
   "source": [
    "# Failover and Elections"
   ]
  },
  {
   "cell_type": "raw",
   "id": "f63a2ca9",
   "metadata": {},
   "source": [
    "Failover\n",
    "\n",
    "# Rolling upgrades 會使我們沒有 primary\n",
    "# 在更新 primary 時，可以使用 rs.stepDown() 把 primary 變成 secondary"
   ]
  },
  {
   "cell_type": "raw",
   "id": "60b10df7",
   "metadata": {},
   "source": [
    "Elections\n",
    "\n",
    "# Elections take place whenever there is a change in topology\n",
    "# 有最多最新的資料的 secondaary 會在沒有 primary 時舉行投票"
   ]
  },
  {
   "cell_type": "raw",
   "id": "161e3191",
   "metadata": {},
   "source": [
    "Priority\n",
    "\n",
    "- priority = 0 不能成為 primary，但還是可以投票\n",
    "- priority 1 ~ 1000 越大越容易成為 primary (預設=1)"
   ]
  },
  {
   "cell_type": "raw",
   "id": "2344873f",
   "metadata": {},
   "source": [
    "# If a majority of nodes are unavailable, elections cannot take place.\n",
    "# Priority and recency of a node's oplog dictates which nodes are more likely to become primary."
   ]
  },
  {
   "cell_type": "markdown",
   "id": "3cbd9e8d",
   "metadata": {},
   "source": [
    "### 範例01"
   ]
  },
  {
   "cell_type": "raw",
   "id": "eedccd92",
   "metadata": {},
   "source": [
    "Storing replica set configuration as a variable cfg:"
   ]
  },
  {
   "cell_type": "code",
   "execution_count": null,
   "id": "7cc78eaa",
   "metadata": {},
   "outputs": [],
   "source": [
    "cfg = rs.conf()"
   ]
  },
  {
   "cell_type": "raw",
   "id": "863a141b",
   "metadata": {},
   "source": [
    "Setting the priority of a node to 0, so it cannot become primary (making the node \"passive\"):"
   ]
  },
  {
   "cell_type": "code",
   "execution_count": null,
   "id": "a518a006",
   "metadata": {},
   "outputs": [],
   "source": [
    "cfg.members[2].priority = 0"
   ]
  },
  {
   "cell_type": "raw",
   "id": "6b9ee16d",
   "metadata": {},
   "source": [
    "Updating our replica set to use the new configuration cfg:"
   ]
  },
  {
   "cell_type": "code",
   "execution_count": null,
   "id": "3562ad1e",
   "metadata": {},
   "outputs": [],
   "source": [
    "rs.reconfig(cfg)"
   ]
  },
  {
   "cell_type": "raw",
   "id": "d4dba453",
   "metadata": {},
   "source": [
    "Checking the new topology of our set:"
   ]
  },
  {
   "cell_type": "code",
   "execution_count": null,
   "id": "ed7a774f",
   "metadata": {},
   "outputs": [],
   "source": [
    "rs.isMaster()"
   ]
  },
  {
   "cell_type": "raw",
   "id": "633bbb51",
   "metadata": {},
   "source": [
    "Forcing an election in this replica set (although in this case, we rigged the election so only one node could become primary):\n",
    "# 因為只剩最後一個有機會當 primary"
   ]
  },
  {
   "cell_type": "code",
   "execution_count": null,
   "id": "ed8e06d2",
   "metadata": {},
   "outputs": [],
   "source": [
    "rs.stepDown()"
   ]
  },
  {
   "cell_type": "raw",
   "id": "79ee0c62",
   "metadata": {},
   "source": [
    "Checking the topology of our set after the election:"
   ]
  },
  {
   "cell_type": "code",
   "execution_count": null,
   "id": "7170ac6a",
   "metadata": {},
   "outputs": [],
   "source": [
    "rs.isMaster()"
   ]
  },
  {
   "cell_type": "markdown",
   "id": "4b9578a6",
   "metadata": {},
   "source": [
    "# Write Concerns"
   ]
  },
  {
   "cell_type": "raw",
   "id": "b0306884",
   "metadata": {},
   "source": [
    "MongoDB write concern is an acknowledgment mechanism that developers can add to write operations.\n",
    "\n",
    "# Higher levels of acknowledgment produce a stronger durability guarantee.\n",
    "# Durability means that the write has propagated to the number of replica set member nodes specified in the write concern.\n",
    "# The more replica set members that acknowledge the success of a write, the more likely that the write is durable in the\n",
    "  event of a failure."
   ]
  },
  {
   "cell_type": "markdown",
   "id": "eef0d880",
   "metadata": {},
   "source": [
    "<img src=\"16.PNG\">"
   ]
  },
  {
   "cell_type": "markdown",
   "id": "23ea51df",
   "metadata": {},
   "source": [
    "### Write Concern Levels"
   ]
  },
  {
   "cell_type": "raw",
   "id": "13188755",
   "metadata": {},
   "source": [
    "db.products.insert(\n",
    "    {...},\n",
    "    {\n",
    "        writeConcern: { w: majority }\n",
    "    }\n",
    ")\n",
    "\n",
    "\n",
    "0 - Don't wait for acknowledgement\n",
    "1(default) - Wait for acknowledgement from the primary only\n",
    ">=2 - Wait for acknowledgement from the primary and one or more secondaries\n",
    "\"majority\" - Wait for acknowledgement from a majority of replica set members"
   ]
  },
  {
   "cell_type": "markdown",
   "id": "cb01da1c",
   "metadata": {},
   "source": [
    "### Write Concern Options"
   ]
  },
  {
   "cell_type": "raw",
   "id": "08424591",
   "metadata": {},
   "source": [
    "db.products.insert(\n",
    "    {...},\n",
    "    {\n",
    "        writeConcern: { w: majority, wtimeout: 60 }\n",
    "    }\n",
    ")\n",
    "\n",
    "\n",
    "# wtimeout: <int> - the time to wait for the requested write concern before marking the operation as failed\n",
    "# j: <true | false> - requires the node to commit the write operation to the journal before returing an acknowledgement    "
   ]
  },
  {
   "cell_type": "raw",
   "id": "339d7e5d",
   "metadata": {},
   "source": [
    "# Write Concern is a system of acknowlegements that provides a level of  durability gurarntee\n",
    "# The trade off of higher write concern levels is the speed at which writes are committed\n",
    "# MongoDB supports write concern for all cluster types: standalone、replica set and sharded clusters."
   ]
  },
  {
   "cell_type": "markdown",
   "id": "45a72581",
   "metadata": {},
   "source": [
    "# Read Concerns"
   ]
  },
  {
   "cell_type": "raw",
   "id": "86ed8e21",
   "metadata": {},
   "source": [
    "Read concern is a companion to write concern, an acknowledgment mechanism for read operations where developers can direct their application to perform read operations where the returned documents meet the requested durability guarantee.\n",
    "\n",
    "Consider a replica set where applications insert a document, which is acknowledged by the primary.\n",
    "Before the document can replicate to the secondaries, the application reads that document.\n",
    "Suddenly, the primary fails. The document we have read has not yet replicated to the secondaries.\n",
    "When the old primary comes back online, that data is going to be rolled back as part of the synchronization process.\n",
    "While you can access the rolled back data manually, the application effectively has a piece of data that no longer exists in the cluster.\n",
    "\n",
    "This might cause problems in the application, depending on your architecture."
   ]
  },
  {
   "cell_type": "raw",
   "id": "33463a4d",
   "metadata": {},
   "source": [
    "Read concern provides a way of dealing with the issue of data durability during a failover event.\n",
    "\n",
    "Just like how write concern lets you specify how durable write operations should be, read concern lets your application specify a durability guarantee for documents written by a read operation. The read operation only returns data acknowledged as having been written to a number of replica set members specified in the read concern.\n",
    "\n",
    "You can choose between returning the most recent data in a cluster or the data received by a majority of members in the cluster."
   ]
  },
  {
   "cell_type": "markdown",
   "id": "94634bc9",
   "metadata": {},
   "source": [
    "### Read Concern Levels"
   ]
  },
  {
   "cell_type": "raw",
   "id": "3a851dc1",
   "metadata": {},
   "source": [
    "db.products.find({\n",
    "    name: \"things\",\n",
    "    ...\n",
    "}).readConern(\"majority\")\n",
    "\n",
    "# local\n",
    "# availabe\n",
    "# majority\n",
    "# linearizable"
   ]
  },
  {
   "cell_type": "markdown",
   "id": "da054a2b",
   "metadata": {},
   "source": [
    "<img src=\"19.PNG\">"
   ]
  },
  {
   "cell_type": "raw",
   "id": "cf2144c3",
   "metadata": {},
   "source": [
    "# Read Concern is a way of requesting data that meets a specified level of durability\n",
    "# Read Concern options: loacal/available, majority, and linearizable\n",
    "# Use with write concern for best durability guarantees"
   ]
  },
  {
   "cell_type": "markdown",
   "id": "0ea343e5",
   "metadata": {},
   "source": [
    "# Read Preferences"
   ]
  },
  {
   "cell_type": "markdown",
   "id": "0373a8c9",
   "metadata": {},
   "source": [
    "<img src=\"17.PNG\">"
   ]
  },
  {
   "cell_type": "markdown",
   "id": "d805d5a1",
   "metadata": {},
   "source": [
    "### Read Preference Models"
   ]
  },
  {
   "cell_type": "raw",
   "id": "fc86e28a",
   "metadata": {},
   "source": [
    "db.products.find({\n",
    "    name: \"Mongo 101\",\n",
    "    ...\n",
    "}).readPref(\"secondaryPreferred\")\n",
    "\n",
    "# primary(default)\n",
    "# primaryPreferred\n",
    "# secondary\n",
    "# secondaryPreferred\n",
    "# nearest"
   ]
  },
  {
   "cell_type": "markdown",
   "id": "bc960ec0",
   "metadata": {},
   "source": [
    "<img src=\"18.PNG\">"
   ]
  },
  {
   "cell_type": "raw",
   "id": "1e18352f",
   "metadata": {},
   "source": [
    "# Read Preference lets you route read operations to specific replica set members\n",
    "# Every read preference other than primary can return stale reads\n",
    "# nearest supports geographiccally local reads"
   ]
  },
  {
   "cell_type": "markdown",
   "id": "279d340f",
   "metadata": {},
   "source": [
    "### 範例01"
   ]
  },
  {
   "cell_type": "raw",
   "id": "200e8a94",
   "metadata": {},
   "source": [
    "Consider a 3-node replica set that experiences a network outage.\n",
    "Two of the three nodes were unreachable during the outage, leaving one node remaining.\n",
    "\n",
    "Which of these readPreferences will allow you to read data from this node?"
   ]
  },
  {
   "cell_type": "raw",
   "id": "7124a092",
   "metadata": {},
   "source": [
    "Ans. primaryPreferred、secondary、secondaryPreferred、nearest\n",
    "\n",
    "The key concept to understand here is that when two nodes go down in a three-node replica set, the third node becomes a secondary regardless of whether it started as a primary.\n",
    "\n",
    "Therefore, connecting to the third node is the same as connecting to a secondary node, and any readPreference will work except for primary, which requires all operations to read from the primary node."
   ]
  }
 ],
 "metadata": {
  "kernelspec": {
   "display_name": "Python 3",
   "language": "python",
   "name": "python3"
  },
  "language_info": {
   "codemirror_mode": {
    "name": "ipython",
    "version": 3
   },
   "file_extension": ".py",
   "mimetype": "text/x-python",
   "name": "python",
   "nbconvert_exporter": "python",
   "pygments_lexer": "ipython3",
   "version": "3.8.10"
  }
 },
 "nbformat": 4,
 "nbformat_minor": 5
}
