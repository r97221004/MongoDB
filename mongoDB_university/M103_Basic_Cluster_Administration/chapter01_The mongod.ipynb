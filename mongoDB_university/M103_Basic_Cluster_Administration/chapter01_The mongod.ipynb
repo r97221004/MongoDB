{
 "cells": [
  {
   "cell_type": "markdown",
   "id": "e30808bf",
   "metadata": {},
   "source": [
    "# The mongod"
   ]
  },
  {
   "cell_type": "raw",
   "id": "af3599f1",
   "metadata": {},
   "source": [
    "By default,\n",
    "\n",
    "- mongod listens on port 27017\n",
    "  This is the default port for mongod - to change this, use the --port flag.\n",
    "    \n",
    "- database files are stored in the directory /data/db/\n",
    "  This is the default data directory for mongod - to change this, use the --dbpath flag.\n",
    "    \n",
    "- mongod is only bound to localhost\n",
    "  By default, mongod is only bound to localhost, or 127.0.0.1. This means that only local clients can connect - to change this, use the --bind_ip flag.\n",
    "    \n",
    "- mongod does not enforce authentication\n",
    "  By default, mongod does not enforce authentication. To change this, use the --auth flag."
   ]
  },
  {
   "cell_type": "markdown",
   "id": "a7cca487",
   "metadata": {},
   "source": [
    "# Mongod Options"
   ]
  },
  {
   "cell_type": "raw",
   "id": "d06bcd22",
   "metadata": {},
   "source": [
    "Below are some of the available options for mongod. Note that this is not a comprehensive list of all possible mongod configurations. To see all available options, run mongod with the help flag."
   ]
  },
  {
   "cell_type": "code",
   "execution_count": null,
   "id": "cbdc8588",
   "metadata": {},
   "outputs": [],
   "source": [
    "mongod --help"
   ]
  },
  {
   "cell_type": "raw",
   "id": "6b5def47",
   "metadata": {},
   "source": [
    "This command will output the various options for mongod with a description of their functionality.\n",
    "\n",
    "Note: The --fork option is not available on the Windows operating system."
   ]
  },
  {
   "cell_type": "markdown",
   "id": "e01be215",
   "metadata": {},
   "source": [
    "### dbpath"
   ]
  },
  {
   "cell_type": "raw",
   "id": "aba4f9b6",
   "metadata": {},
   "source": [
    "The dbpath is the directory where all the data files for your database are stored. The dbpath also contains journaling logs to provide durability in case of a crash. As we saw before, the default dbpath is /data/db; however, you can specify any directory that exists on your machine. The directory must have read/write permissions since database and journaling files will be written to the directory. To use the dbpath option, include the dbpath flag and specify the name of your directory:"
   ]
  },
  {
   "cell_type": "code",
   "execution_count": null,
   "id": "70287e1e",
   "metadata": {},
   "outputs": [],
   "source": [
    "mongod --dbpath <directory path>"
   ]
  },
  {
   "cell_type": "markdown",
   "id": "6dd849b4",
   "metadata": {},
   "source": [
    "### port"
   ]
  },
  {
   "cell_type": "raw",
   "id": "d51f6adb",
   "metadata": {},
   "source": [
    "The port option allows us to specify the port on which mongod will listen for client connections. If we don't specify a port, it will default to 27017. Database clients should specify the same port to connect to mongod. To specify a port, run:"
   ]
  },
  {
   "cell_type": "code",
   "execution_count": null,
   "id": "fb1cc11e",
   "metadata": {},
   "outputs": [],
   "source": [
    "mongod --port <port number>"
   ]
  },
  {
   "cell_type": "markdown",
   "id": "5569fcb4",
   "metadata": {},
   "source": [
    "### auth"
   ]
  },
  {
   "cell_type": "raw",
   "id": "ea9aba9f",
   "metadata": {},
   "source": [
    "auth enables authentication to control which users can access the database. When auth is specified, all database clients who want to connect to mongod first need to authenticate.\n",
    "\n",
    "Before any database users have been configured, a Mongo shell running on localhost will have access to the database. We can then configure users and their permission levels using the shell. Once one or more users have been configured, the shell will no longer have default access. To enable authentication, run mongod with the auth option:"
   ]
  },
  {
   "cell_type": "code",
   "execution_count": null,
   "id": "7b54439c",
   "metadata": {},
   "outputs": [],
   "source": [
    "mongod --auth"
   ]
  },
  {
   "cell_type": "markdown",
   "id": "5cd0d5d8",
   "metadata": {},
   "source": [
    "### bind_ip"
   ]
  },
  {
   "cell_type": "raw",
   "id": "f63439f2",
   "metadata": {},
   "source": [
    "The bind_ip option allows us to specify which IP addresses mongod should bind to. When mongod binds to an IP address, clients from that address are able to connect to mongod. For instance, if we wanted to allow clients on IP address 123.123.123.123 to access our database, we'd use the following command:"
   ]
  },
  {
   "cell_type": "code",
   "execution_count": null,
   "id": "c95929b7",
   "metadata": {},
   "outputs": [],
   "source": [
    "mongod --bind_ip 123.123.123.123"
   ]
  },
  {
   "cell_type": "raw",
   "id": "9bf28757",
   "metadata": {},
   "source": [
    "To bind to multiple addresses and/or hosts, you can specify them in a comma-separated list:"
   ]
  },
  {
   "cell_type": "code",
   "execution_count": null,
   "id": "d504614e",
   "metadata": {},
   "outputs": [],
   "source": [
    "mongod --bind_ip localhost,123.123.123.123"
   ]
  },
  {
   "cell_type": "raw",
   "id": "30ded93f",
   "metadata": {},
   "source": [
    "If using the bind_ip option with external IP addresses, it's recommended to enable auth to ensure that remote clients connecting to mongod have the proper credentials.\n",
    "\n",
    "For documentation on all of the mongod options, check out the mongod Reference Page."
   ]
  },
  {
   "cell_type": "markdown",
   "id": "48d6f8d8",
   "metadata": {},
   "source": [
    "### 練習01"
   ]
  },
  {
   "cell_type": "raw",
   "id": "9adc9a3f",
   "metadata": {},
   "source": [
    "Launch your own mongod process in the IDE terminal:\n",
    "From your IDE terminal, launch a mongod instance that listens for connections on port 27000."
   ]
  },
  {
   "cell_type": "code",
   "execution_count": null,
   "id": "4133c376",
   "metadata": {},
   "outputs": [],
   "source": [
    "mongod --dbpath \"/home/spark/mongodb/data\" --port 27000"
   ]
  },
  {
   "cell_type": "markdown",
   "id": "e7d7421d",
   "metadata": {},
   "source": [
    "# Configuration File"
   ]
  },
  {
   "cell_type": "markdown",
   "id": "f8483c61",
   "metadata": {},
   "source": [
    "See MongoDB documentation for more information about [command line options](https://www.mongodb.com/docs/manual/reference/program/mongod/#options) and [configuration file options](https://www.mongodb.com/docs/manual/reference/configuration-options/)."
   ]
  },
  {
   "cell_type": "raw",
   "id": "c90899e6",
   "metadata": {},
   "source": [
    "Launch mongod using default configuration:"
   ]
  },
  {
   "cell_type": "code",
   "execution_count": null,
   "id": "91ec4957",
   "metadata": {},
   "outputs": [],
   "source": [
    "mongod"
   ]
  },
  {
   "cell_type": "raw",
   "id": "7496adb6",
   "metadata": {},
   "source": [
    "Launch mongod with specified --dbpath and --logpath:"
   ]
  },
  {
   "cell_type": "code",
   "execution_count": null,
   "id": "faf6d280",
   "metadata": {},
   "outputs": [],
   "source": [
    "mongod --dbpath /data/db --logpath /data/log/mongod.log"
   ]
  },
  {
   "cell_type": "raw",
   "id": "2161262e",
   "metadata": {},
   "source": [
    "Launch mongod and fork the process:"
   ]
  },
  {
   "cell_type": "code",
   "execution_count": null,
   "id": "994546aa",
   "metadata": {},
   "outputs": [],
   "source": [
    "mongod --dbpath /data/db --logpath /data/log/mongod.log --fork"
   ]
  },
  {
   "cell_type": "raw",
   "id": "c8dc6569",
   "metadata": {},
   "source": [
    "Launch mongod with many configuration options:\n",
    "\n",
    "Note that all \"ssl\" options have been edited to use \"tls\" instead. As of MongoDB 4.2, options using \"ssl\" have been deprecated."
   ]
  },
  {
   "cell_type": "code",
   "execution_count": null,
   "id": "e69a431b",
   "metadata": {},
   "outputs": [],
   "source": [
    "mongod --dbpath /data/db --logpath /data/log/mongod.log --fork --auth --port 27017 --replSet \"M103\" --keyFile /data/keyfile --bind_ip \"127.0.0.1,192.168.103.100\" --tlsMode requireTLS --tlsCAFile \"/etc/tls/TLSCA.pem\" --tlsCertificateKeyFile \"/etc/tls/tls.pem\""
   ]
  },
  {
   "cell_type": "raw",
   "id": "213c3c3b",
   "metadata": {},
   "source": [
    "Example configuration file, with the same configuration options as above:"
   ]
  },
  {
   "cell_type": "raw",
   "id": "bda81c75",
   "metadata": {},
   "source": [
    "storage:\n",
    "  dbPath: \"/data/db\"\n",
    "systemLog:\n",
    "  path: \"/data/log/mongod.log\"\n",
    "  destination: \"file\"\n",
    "  logAppend: true\n",
    "replication:\n",
    "  replSetName: M103\n",
    "net:\n",
    "  bindIp : \"127.0.0.1,192.168.103.100\"\n",
    "  port: 27017\n",
    "tls:\n",
    "  mode: \"requireTLS\"\n",
    "  certificateKeyFile: \"/etc/tls/tls.pem\"\n",
    "  CAFile: \"/etc/tls/TLSCA.pem\"\n",
    "security:\n",
    "  keyFile: \"/data/keyfile\"\n",
    "  authorization: \"enabled\"\n",
    "processManagement:\n",
    "  fork: true"
   ]
  },
  {
   "cell_type": "markdown",
   "id": "7924824e",
   "metadata": {},
   "source": [
    "### 啟動"
   ]
  },
  {
   "cell_type": "code",
   "execution_count": null,
   "id": "815e354b",
   "metadata": {},
   "outputs": [],
   "source": [
    "mongod --config \"/etc/mongod.conf\""
   ]
  },
  {
   "cell_type": "code",
   "execution_count": null,
   "id": "ae4f674f",
   "metadata": {},
   "outputs": [],
   "source": [
    "mongod -f \"/etc/mongod.conf\""
   ]
  },
  {
   "cell_type": "markdown",
   "id": "44829be5",
   "metadata": {},
   "source": [
    "### 練習01"
   ]
  },
  {
   "cell_type": "raw",
   "id": "c688c8a5",
   "metadata": {},
   "source": [
    "Write the configuration file. There should be an empty configuration file in your IDE File Editor, where you can specify options in YAML.\n",
    "\n",
    "As a reminder, here are the requirements of your mongod instance:\n",
    "\n",
    "- run on port 27000\n",
    "- stores its data files in /home/spark/mongodb/data/\n",
    "- listens to connections from localhost\n",
    "- authentication is enabled"
   ]
  },
  {
   "cell_type": "code",
   "execution_count": null,
   "id": "60b361d8",
   "metadata": {},
   "outputs": [],
   "source": [
    "storage:\n",
    "  dbPath: \"/home/spark/mongodb/data/\"\n",
    "systemLog:\n",
    "  path: \"/home/spark/mongodb/log/mongo.log\"\n",
    "  destination: \"file\"\n",
    "net:\n",
    "  port: 27000\n",
    "security:\n",
    "  authorization: \"enabled\""
   ]
  },
  {
   "cell_type": "markdown",
   "id": "04a72fda",
   "metadata": {},
   "source": [
    "# File Structure"
   ]
  },
  {
   "cell_type": "raw",
   "id": "97cf100f",
   "metadata": {},
   "source": [
    "# diagnostic.data and log files assist support in diagnostics\n",
    "# Do not modify files or folders in the MongoDB data directory\n",
    "# Defer to MongoDB support or documentation for instructions on interacting with these files"
   ]
  },
  {
   "cell_type": "raw",
   "id": "e6e4d744",
   "metadata": {},
   "source": [
    "List --dbpath directory:"
   ]
  },
  {
   "cell_type": "code",
   "execution_count": null,
   "id": "bd87c2dc",
   "metadata": {},
   "outputs": [],
   "source": [
    "ls -l /data/db"
   ]
  },
  {
   "cell_type": "raw",
   "id": "4332a615",
   "metadata": {},
   "source": [
    "List diagnostics data directory:"
   ]
  },
  {
   "cell_type": "code",
   "execution_count": null,
   "id": "15878b1e",
   "metadata": {},
   "outputs": [],
   "source": [
    "ls -l /data/db/diagnostic.data"
   ]
  },
  {
   "cell_type": "raw",
   "id": "ce177b1e",
   "metadata": {},
   "source": [
    "List journal directory:"
   ]
  },
  {
   "cell_type": "code",
   "execution_count": null,
   "id": "b0481742",
   "metadata": {},
   "outputs": [],
   "source": [
    "ls -l /data/db/journal"
   ]
  },
  {
   "cell_type": "raw",
   "id": "49164119",
   "metadata": {},
   "source": [
    "List socket file:"
   ]
  },
  {
   "cell_type": "code",
   "execution_count": null,
   "id": "104a94fc",
   "metadata": {},
   "outputs": [],
   "source": [
    "ls /tmp/mongodb-27017.sock"
   ]
  },
  {
   "cell_type": "markdown",
   "id": "a2797996",
   "metadata": {},
   "source": [
    "# Basic Commands"
   ]
  },
  {
   "cell_type": "raw",
   "id": "3b781176",
   "metadata": {},
   "source": [
    "# Database Commands provide foundation for intercating with MongoDB\n",
    "# Use db.runCommand() to run a database command\n",
    "# Mongo Shell provides helper methods to simplify"
   ]
  },
  {
   "cell_type": "raw",
   "id": "28d47a17",
   "metadata": {},
   "source": [
    "User management commands:"
   ]
  },
  {
   "cell_type": "code",
   "execution_count": null,
   "id": "355284c1",
   "metadata": {},
   "outputs": [],
   "source": [
    "db.createUser()\n",
    "db.dropUser()"
   ]
  },
  {
   "cell_type": "raw",
   "id": "6d527a6a",
   "metadata": {},
   "source": [
    "Collection management commands:"
   ]
  },
  {
   "cell_type": "code",
   "execution_count": null,
   "id": "ff74b0d2",
   "metadata": {},
   "outputs": [],
   "source": [
    "db.<collection>.renameCollection()\n",
    "db.<collection>.createIndex()\n",
    "db.<collection>.drop()"
   ]
  },
  {
   "cell_type": "markdown",
   "id": "3ae88412",
   "metadata": {},
   "source": [
    "### 範例01"
   ]
  },
  {
   "cell_type": "code",
   "execution_count": null,
   "id": "763d12cd",
   "metadata": {},
   "outputs": [],
   "source": [
    "# 把 rrecord 改成 record\n",
    "db.rrecord.renameCollection(\"record\")"
   ]
  },
  {
   "cell_type": "markdown",
   "id": "d53bfe20",
   "metadata": {},
   "source": [
    "---"
   ]
  },
  {
   "cell_type": "raw",
   "id": "2c3698ad",
   "metadata": {},
   "source": [
    "Database management commands:"
   ]
  },
  {
   "cell_type": "code",
   "execution_count": null,
   "id": "4f2bfe24",
   "metadata": {},
   "outputs": [],
   "source": [
    "db.dropDatabase()\n",
    "db.createCollection()"
   ]
  },
  {
   "cell_type": "markdown",
   "id": "b28657fe",
   "metadata": {},
   "source": [
    "### 範例02"
   ]
  },
  {
   "cell_type": "code",
   "execution_count": null,
   "id": "4784bde2",
   "metadata": {},
   "outputs": [],
   "source": [
    "# 建立 demoCollection ，這個指令有很多選項可選\n",
    "db.createCollection('demoCollection')"
   ]
  },
  {
   "cell_type": "markdown",
   "id": "8d1c09fb",
   "metadata": {},
   "source": [
    "---"
   ]
  },
  {
   "cell_type": "raw",
   "id": "2f81e5af",
   "metadata": {},
   "source": [
    "Database status command:"
   ]
  },
  {
   "cell_type": "code",
   "execution_count": null,
   "id": "ff038cda",
   "metadata": {},
   "outputs": [],
   "source": [
    "db.serverStatus()"
   ]
  },
  {
   "cell_type": "raw",
   "id": "f6ca5208",
   "metadata": {},
   "source": [
    "Creating index with Database Command:"
   ]
  },
  {
   "cell_type": "code",
   "execution_count": null,
   "id": "e249b2ec",
   "metadata": {},
   "outputs": [],
   "source": [
    "db.runCommand({\n",
    "   \"createIndexes\":\"<collection_name>\",\n",
    "       \"indexes\":[\n",
    "          {\n",
    "             \"key\":{ \"product\": 1 },\n",
    "             \"name\": \"name_index\"\n",
    "          }\n",
    "       ]\n",
    "    }\n",
    " )"
   ]
  },
  {
   "cell_type": "raw",
   "id": "45ed2dd5",
   "metadata": {},
   "source": [
    "Creating index with Shell Helper:"
   ]
  },
  {
   "cell_type": "code",
   "execution_count": null,
   "id": "0d4e6e53",
   "metadata": {},
   "outputs": [],
   "source": [
    "db.<collection>.createIndex(\n",
    "  { \"product\": 1 },\n",
    "  { \"name\": \"name_index\" }\n",
    ")"
   ]
  },
  {
   "cell_type": "raw",
   "id": "5412b10c",
   "metadata": {},
   "source": [
    "Introspect a Shell Helper:"
   ]
  },
  {
   "cell_type": "code",
   "execution_count": null,
   "id": "e366316e",
   "metadata": {},
   "outputs": [],
   "source": [
    "db.<collection>.createIndex"
   ]
  },
  {
   "cell_type": "markdown",
   "id": "f1f4dd5c",
   "metadata": {},
   "source": [
    "# Logging Basics"
   ]
  },
  {
   "cell_type": "raw",
   "id": "62e272d4",
   "metadata": {},
   "source": [
    "# -1: Inherit from parent\n",
    "# 0: Default verbosity, to include informational messages\n",
    "# 1-5: increases the verbosity level to include debug messages\n",
    "# Log Message Severity Levels\n",
    "  F - Fetal\n",
    "  E - Error\n",
    "  W - Warning\n",
    "  I - Informational( Verbosity Level 0 )\n",
    "  D - Debug ( Verbosity Level 1 ~ 5 )"
   ]
  },
  {
   "cell_type": "raw",
   "id": "638f55e1",
   "metadata": {},
   "source": [
    "Get the logging components:"
   ]
  },
  {
   "cell_type": "code",
   "execution_count": null,
   "id": "1ef7b568",
   "metadata": {},
   "outputs": [],
   "source": [
    "db.getLogComponents()"
   ]
  },
  {
   "cell_type": "raw",
   "id": "90aba08f",
   "metadata": {},
   "source": [
    "Change the logging level:"
   ]
  },
  {
   "cell_type": "code",
   "execution_count": null,
   "id": "0e4cf67a",
   "metadata": {},
   "outputs": [],
   "source": [
    "db.setLogLevel(0, \"index\")"
   ]
  },
  {
   "cell_type": "raw",
   "id": "f06eb929",
   "metadata": {},
   "source": [
    "View the logs through the Mongo shell:"
   ]
  },
  {
   "cell_type": "markdown",
   "id": "83501160",
   "metadata": {},
   "source": [
    "---"
   ]
  },
  {
   "cell_type": "code",
   "execution_count": null,
   "id": "06b7ff97",
   "metadata": {},
   "outputs": [],
   "source": [
    "db.adminCommand({ \"getLog\": \"global\" })"
   ]
  },
  {
   "cell_type": "raw",
   "id": "e0fc4b6e",
   "metadata": {},
   "source": [
    "View the logs through the command line:"
   ]
  },
  {
   "cell_type": "code",
   "execution_count": null,
   "id": "7da0981f",
   "metadata": {},
   "outputs": [],
   "source": [
    "tail -f /data/db/mongod.log"
   ]
  },
  {
   "cell_type": "markdown",
   "id": "36fb2701",
   "metadata": {},
   "source": [
    "---"
   ]
  },
  {
   "cell_type": "raw",
   "id": "c4a2e380",
   "metadata": {},
   "source": [
    "Update a document:"
   ]
  },
  {
   "cell_type": "code",
   "execution_count": null,
   "id": "75059822",
   "metadata": {},
   "outputs": [],
   "source": [
    "db.products.update( { \"sku\" : 6902667 }, { $set : { \"salePrice\" : 39.99} } )"
   ]
  },
  {
   "cell_type": "raw",
   "id": "2c730d43",
   "metadata": {},
   "source": [
    "Look for instructions in the log file with grep:"
   ]
  },
  {
   "cell_type": "code",
   "execution_count": null,
   "id": "7ea0ca64",
   "metadata": {},
   "outputs": [],
   "source": [
    "# 看不到修改，要去看 profiler，或者調 level\n",
    "grep -i 'update' /data/db/mongod.log"
   ]
  },
  {
   "cell_type": "markdown",
   "id": "c3831491",
   "metadata": {},
   "source": [
    "---"
   ]
  },
  {
   "cell_type": "raw",
   "id": "e440fa74",
   "metadata": {},
   "source": [
    "# MongoDB process log supports multiple components for controlling granularity of events captured\n",
    "# You can retrieve the log from the mongo shell, or using command line utilities like tail\n",
    "# You can change the verbosity of any log component from the mongo shell"
   ]
  },
  {
   "cell_type": "markdown",
   "id": "963ea6c5",
   "metadata": {},
   "source": [
    "# Profiling the Database"
   ]
  },
  {
   "cell_type": "raw",
   "id": "86b7d69a",
   "metadata": {},
   "source": [
    "Events captured by the profiler:\n",
    "- CRUD\n",
    "- Administrative operations\n",
    "- Configuration operations"
   ]
  },
  {
   "cell_type": "raw",
   "id": "2140b934",
   "metadata": {},
   "source": [
    "Level               Description\n",
    "\n",
    "0                   The profiler is off and does not collect any data.\n",
    "                    This is the default profiler level\n",
    "    \n",
    "1                   This profiler collects data for operations that take longer\n",
    "                    than the value of showms.\n",
    "    \n",
    "2                   The profiler collects data for all operations"
   ]
  },
  {
   "cell_type": "markdown",
   "id": "d6f1d629",
   "metadata": {},
   "source": [
    "### 範例01"
   ]
  },
  {
   "cell_type": "code",
   "execution_count": null,
   "id": "b587e91b",
   "metadata": {},
   "outputs": [],
   "source": [
    "# 新建一個資料庫\n",
    "use newDB\n",
    "\n",
    "# db.getProfilingLevel() 已經 Deprecated \n",
    "db.getProfilingStatus()\n",
    "\n",
    "db.setProfilingLevel(1)\n",
    "\n",
    "db.getProfilingStatus()\n",
    "\n",
    "# mongoDB 會建立一個 collection 稱作 system.profile\n",
    "show collections\n",
    "\n",
    "db.setProfilingLevel(1, { slowms: 0 })\n",
    "\n",
    "db.getProfilingStatus()\n",
    "\n",
    "db.new_collection.insertOne({ a: 1 })\n",
    "\n",
    "db.system.profile.find().pretty()\n",
    "\n",
    "db.new_collection.find({ a: 1 })\n",
    "\n",
    "db.system.profile.find().pretty()"
   ]
  },
  {
   "cell_type": "markdown",
   "id": "7c33ac69",
   "metadata": {},
   "source": [
    "---"
   ]
  },
  {
   "cell_type": "raw",
   "id": "df201542",
   "metadata": {},
   "source": [
    "To list all of the collection names you can run this command:"
   ]
  },
  {
   "cell_type": "code",
   "execution_count": null,
   "id": "7032548c",
   "metadata": {},
   "outputs": [],
   "source": [
    "# show collections 的效果\n",
    "db.runCommand({listCollections: 1})"
   ]
  },
  {
   "cell_type": "raw",
   "id": "9b612c69",
   "metadata": {},
   "source": [
    "Show collections:"
   ]
  },
  {
   "cell_type": "code",
   "execution_count": null,
   "id": "b75422b8",
   "metadata": {},
   "outputs": [],
   "source": [
    "db.getCollectionNames()  # 跟 show collections 有相同的效果"
   ]
  },
  {
   "cell_type": "markdown",
   "id": "ff9cdaf0",
   "metadata": {},
   "source": [
    "---"
   ]
  },
  {
   "cell_type": "raw",
   "id": "e45d3e1e",
   "metadata": {},
   "source": [
    "# The difference between log data and profiler data\n",
    "# How to configute the profiler\n",
    "# How to interpret output from the profiler"
   ]
  },
  {
   "cell_type": "markdown",
   "id": "b384e28d",
   "metadata": {},
   "source": [
    "### 範例02"
   ]
  },
  {
   "cell_type": "code",
   "execution_count": null,
   "id": "9795dcee",
   "metadata": {},
   "outputs": [],
   "source": [
    "Update your configuration file such that:\n",
    "\n",
    "# mongod sends logs to /home/spak/mongo/log/mongo.log\n",
    "# mongod is forked and run as a daemon (this will not work without specifying logpath)(重要)"
   ]
  },
  {
   "cell_type": "code",
   "execution_count": null,
   "id": "b4af9976",
   "metadata": {},
   "outputs": [],
   "source": [
    "storage:\n",
    "  dbPath: \"/home/spark/mongodb/data/\"\n",
    "systemLog:\n",
    "  path: \"/home/spark/mongodb/log/mongo.log\"\n",
    "  destination: \"file\"\n",
    "net:\n",
    "  bindIp: \"127.0.0.1\"\n",
    "  port: 27000\n",
    "#security:\n",
    "#  authorization: \"enabled\"\n",
    "processManagement:\n",
    "  fork: true"
   ]
  },
  {
   "cell_type": "markdown",
   "id": "5c6d7b15",
   "metadata": {},
   "source": [
    "# Basic Security"
   ]
  },
  {
   "cell_type": "raw",
   "id": "ba34207e",
   "metadata": {},
   "source": [
    "Authentication: Verifies the identity of a user (Answers the question: Who are you?) \n",
    "Authorization: Verifies the privileges of a user (What do you have access to ?)   "
   ]
  },
  {
   "cell_type": "markdown",
   "id": "3126519d",
   "metadata": {},
   "source": [
    "### Authentication Mechanisms (client)"
   ]
  },
  {
   "cell_type": "raw",
   "id": "0edb62bf",
   "metadata": {},
   "source": [
    "- SCRAM ( Salted Challenge Response Authentication Mechanism )\n",
    "- X.509\n",
    "\n",
    "MongoDB Enterprise Only\n",
    "\n",
    "- LDAP ( LightWeight Directory Access Protocol )\n",
    "- KERBEROS"
   ]
  },
  {
   "cell_type": "markdown",
   "id": "8a827eb9",
   "metadata": {},
   "source": [
    "### Authentication Mechanisms (cluster)"
   ]
  },
  {
   "cell_type": "raw",
   "id": "f804048f",
   "metadata": {},
   "source": [
    "# Like secret handshaking. we will discuss late on."
   ]
  },
  {
   "cell_type": "markdown",
   "id": "884b0b6e",
   "metadata": {},
   "source": [
    "### Authorization: Role Based Access Control"
   ]
  },
  {
   "cell_type": "raw",
   "id": "c83ab928",
   "metadata": {},
   "source": [
    "# Each user has one or more Roles.\n",
    "# Each role has one or more Privileges.\n",
    "# A Privilege represents a group of Actions and Resources those actions apply to.\n",
    "\n",
    "Roles support a high level of responsibility isolation for operational tasks."
   ]
  },
  {
   "cell_type": "markdown",
   "id": "a1f9a920",
   "metadata": {},
   "source": [
    "### 範例01"
   ]
  },
  {
   "cell_type": "raw",
   "id": "9c5fad99",
   "metadata": {},
   "source": [
    "Print configuration file:"
   ]
  },
  {
   "cell_type": "code",
   "execution_count": null,
   "id": "022a4817",
   "metadata": {},
   "outputs": [],
   "source": [
    "# 從 security 內開啟 authorization: true\n",
    "cat /etc/mongod.conf"
   ]
  },
  {
   "cell_type": "raw",
   "id": "4bfde0bb",
   "metadata": {},
   "source": [
    "Localhost Exception\n",
    "\n",
    "- Allows you to access a MongoDB server that enforces authentication but does not yet have a \n",
    "  configured user for you to authenticate with.\n",
    "- Must run Mongo shell from same host running the MongoDB server\n",
    "- The localhost exception closes after you create your first user\n",
    "- Always create a user with administrative privileges first"
   ]
  },
  {
   "cell_type": "code",
   "execution_count": null,
   "id": "bddd5d82",
   "metadata": {},
   "outputs": [],
   "source": [
    "mongo --host 127.0.0.1:27017\n",
    "    \n",
    "use admin \n",
    "\n",
    "# 授權被大大的限制\n",
    "db.stats()"
   ]
  },
  {
   "cell_type": "code",
   "execution_count": null,
   "id": "981123ab",
   "metadata": {},
   "outputs": [],
   "source": [
    "db.createUser(\n",
    "    {\n",
    "        user: \"root\",\n",
    "        pwd: \"root\",\n",
    "        roles: [ \"root\" ]\n",
    "    }\n",
    ")"
   ]
  },
  {
   "cell_type": "code",
   "execution_count": null,
   "id": "4e20b758",
   "metadata": {},
   "outputs": [],
   "source": [
    "# The localhost exception at this point in time is exhausted\n",
    "db.createUser(\n",
    "    {\n",
    "        user: \"JDoe\",\n",
    "        pwd: \"JDoe123\",\n",
    "        roles: [ \"readWrite\" ]\n",
    "    }\n",
    ")"
   ]
  },
  {
   "cell_type": "code",
   "execution_count": null,
   "id": "a5a8cf24",
   "metadata": {},
   "outputs": [],
   "source": [
    "# 也可以在 admin 資料庫用 db.auth(\"root\", \"root\") 方法\n",
    "mongo --host 127.0.0.1:27017 --username root --password root --authenticationDatabase admin"
   ]
  },
  {
   "cell_type": "code",
   "execution_count": null,
   "id": "b1621bec",
   "metadata": {},
   "outputs": [],
   "source": [
    "use admin\n",
    "\n",
    "# 現在驗證成功\n",
    "db.stats()"
   ]
  },
  {
   "cell_type": "markdown",
   "id": "967ed369",
   "metadata": {},
   "source": [
    "---"
   ]
  },
  {
   "cell_type": "raw",
   "id": "07ecf896",
   "metadata": {},
   "source": [
    "# MongoDB uses an authentication + authorization security\n",
    "# MongoDB supports multiple authentication mechanisms\n",
    "  - SCRAM and X.509 are always available\n",
    "  - LDAP and KERBEROS are Enterprise Only\n",
    "# Each user has one or more roles that define their authorized access\n",
    "# At the very minimun, you should always configure SCRAM-SHA-1 with a single administrative user protected by a strong\n",
    "  password "
   ]
  },
  {
   "cell_type": "markdown",
   "id": "bb1a2f1c",
   "metadata": {},
   "source": [
    "# Built-In Roles"
   ]
  },
  {
   "cell_type": "markdown",
   "id": "7aa8324a",
   "metadata": {},
   "source": [
    "### Roles in MongoDB"
   ]
  },
  {
   "cell_type": "raw",
   "id": "7fefa594",
   "metadata": {},
   "source": [
    "- Role Based Access Control\n",
    "- Database Users are granted roles\n",
    "- Custom Roles ( M301 會教 ) \n",
    "    Tailored roles to attend specfic needs of sets of users\n",
    "- Built-in Roles\n",
    "    Pre_packaged MongoDB Roles\n",
    "- Role Structure \n",
    "    Privileges\n",
    "    Action + Resource"
   ]
  },
  {
   "cell_type": "markdown",
   "id": "e2043f2a",
   "metadata": {},
   "source": [
    "### Privilege"
   ]
  },
  {
   "cell_type": "code",
   "execution_count": null,
   "id": "723efb66",
   "metadata": {},
   "outputs": [],
   "source": [
    "- Resource\n",
    "- Actions allowed over a resource   "
   ]
  },
  {
   "cell_type": "markdown",
   "id": "55aad0c6",
   "metadata": {},
   "source": [
    "<img src=\"2.png\">"
   ]
  },
  {
   "cell_type": "markdown",
   "id": "ddf19d19",
   "metadata": {},
   "source": [
    "<img src=\"1.png\">"
   ]
  },
  {
   "cell_type": "markdown",
   "id": "dad05fe0",
   "metadata": {},
   "source": [
    "### Built-in roles"
   ]
  },
  {
   "cell_type": "markdown",
   "id": "77934953",
   "metadata": {},
   "source": [
    "<img src=\"3.png\">"
   ]
  },
  {
   "cell_type": "markdown",
   "id": "6e5c4e21",
   "metadata": {},
   "source": [
    "<img src=\"4.png\">"
   ]
  },
  {
   "cell_type": "markdown",
   "id": "406bff52",
   "metadata": {},
   "source": [
    "### 範例01"
   ]
  },
  {
   "cell_type": "raw",
   "id": "9aea9659",
   "metadata": {},
   "source": [
    "Authenticate as root user:"
   ]
  },
  {
   "cell_type": "code",
   "execution_count": null,
   "id": "9d1c277c",
   "metadata": {},
   "outputs": [],
   "source": [
    "# 在 linux 建一個帳號有 root 的 role\n",
    "mongo admin -u root -p root123"
   ]
  },
  {
   "cell_type": "raw",
   "id": "a181f8fb",
   "metadata": {},
   "source": [
    "Create security officer:"
   ]
  },
  {
   "cell_type": "code",
   "execution_count": null,
   "id": "6f06d597",
   "metadata": {},
   "outputs": [],
   "source": [
    "# 這個腳色沒辦法操控資料\n",
    "db.createUser({\n",
    "    user: \"security_officer\",\n",
    "    pwd: \"h3110th3r3\",\n",
    "    roles: [ { db: \"admin\", role: \"userAdmin\" } ]\n",
    "})"
   ]
  },
  {
   "cell_type": "markdown",
   "id": "ad11eeae",
   "metadata": {},
   "source": [
    "<img src=\"5.PNG\">"
   ]
  },
  {
   "cell_type": "raw",
   "id": "11711315",
   "metadata": {},
   "source": [
    "Create database administrator:"
   ]
  },
  {
   "cell_type": "code",
   "execution_count": null,
   "id": "1651f4c3",
   "metadata": {},
   "outputs": [],
   "source": [
    "# 只能操作跟 db 相關的指令\n",
    "db.createUser({\n",
    "    user: \"dba\",\n",
    "    pwd: \"cllynd3rs\",\n",
    "    roles: [ { db: \"m103\", role: \"dbAdmin\" } ]\n",
    "})"
   ]
  },
  {
   "cell_type": "markdown",
   "id": "5e8b5f52",
   "metadata": {},
   "source": [
    "<img src=\"6.PNG\">"
   ]
  },
  {
   "cell_type": "raw",
   "id": "ff5f1890",
   "metadata": {},
   "source": [
    "Grant role to user:"
   ]
  },
  {
   "cell_type": "code",
   "execution_count": null,
   "id": "64fc0200",
   "metadata": {},
   "outputs": [],
   "source": [
    "# 再增加 roles 給之前創的帳號 dba\n",
    "db.grantRolesToUser( \"dba\", [ { db: \"playground\", role: \"dbOwner\" } ])"
   ]
  },
  {
   "cell_type": "code",
   "execution_count": null,
   "id": "1b31bf3d",
   "metadata": {},
   "outputs": [],
   "source": [
    "dbOwner\n",
    "\n",
    "- The database owner can perform any administrative action on the database.\n",
    "- The role combines the privileges granted by the readWrite, dbAdmin, userAdmin roles."
   ]
  },
  {
   "cell_type": "raw",
   "id": "2daba1de",
   "metadata": {},
   "source": [
    "Show role privileges:"
   ]
  },
  {
   "cell_type": "code",
   "execution_count": null,
   "id": "0ebdaca2",
   "metadata": {},
   "outputs": [],
   "source": [
    "db.runCommand({\n",
    "    rolesInfo: { role: \"dbOwner\", db: \"demo\"},\n",
    "    showPrivileges: true\n",
    "})"
   ]
  },
  {
   "cell_type": "markdown",
   "id": "6e3ecd56",
   "metadata": {},
   "source": [
    "# Server Tools Overview"
   ]
  },
  {
   "cell_type": "raw",
   "id": "a6c556bb",
   "metadata": {},
   "source": [
    "List mongodb binaries:"
   ]
  },
  {
   "cell_type": "code",
   "execution_count": null,
   "id": "d1653553",
   "metadata": {},
   "outputs": [],
   "source": [
    "find /usr/bin/ -name \"mongo*\""
   ]
  },
  {
   "cell_type": "raw",
   "id": "b9b97a34",
   "metadata": {},
   "source": [
    "Create new dbpath and launch mongod:"
   ]
  },
  {
   "cell_type": "code",
   "execution_count": null,
   "id": "80777efe",
   "metadata": {},
   "outputs": [],
   "source": [
    "mkdir -p ~/first_mongod\n",
    "mongod --port 30000 --dbpath ~/first_mongod --logpath ~/first_mongod/mongodb.log --fork"
   ]
  },
  {
   "cell_type": "raw",
   "id": "8630dd14",
   "metadata": {},
   "source": [
    "Use mongostat to get stats on a running mongod process:"
   ]
  },
  {
   "cell_type": "code",
   "execution_count": null,
   "id": "49b9a866",
   "metadata": {},
   "outputs": [],
   "source": [
    "mongostat --help\n",
    "mongostat --port 30000"
   ]
  },
  {
   "cell_type": "markdown",
   "id": "bb9ff04f",
   "metadata": {},
   "source": [
    "---"
   ]
  },
  {
   "cell_type": "markdown",
   "id": "3e65ee25",
   "metadata": {},
   "source": [
    "### mongodump 與 mongorestore 是 BSON 相關"
   ]
  },
  {
   "cell_type": "raw",
   "id": "bab489fe",
   "metadata": {},
   "source": [
    "Use mongodump to get a BSON dump of a MongoDB collection:"
   ]
  },
  {
   "cell_type": "code",
   "execution_count": null,
   "id": "df3400ca",
   "metadata": {},
   "outputs": [],
   "source": [
    "mongodump --help\n",
    "mongodump --port 30000 -u \"m103-admin\" -p \"m103-pass\" --authenticationDatabase \"admin\" --db exampleDB --collection students\n",
    "ls\n",
    "cd dump/\n",
    "ls\n",
    "cd exampleDB\n",
    "ls\n",
    "cat students.metadata.json"
   ]
  },
  {
   "cell_type": "raw",
   "id": "0b62217d",
   "metadata": {},
   "source": [
    "Use mongorestore to restore a MongoDB collection from a BSON dump:"
   ]
  },
  {
   "cell_type": "code",
   "execution_count": null,
   "id": "b5ffae1a",
   "metadata": {},
   "outputs": [],
   "source": [
    "# 不用指定 -d -c 因為資訊都被存在 dump 裡面的 metadata.json\n",
    "mongorestore --drop --port 30000 -u \"m103-admin\" -p \"m103-pass\" --authenticationDatabase \"admin\" dump/"
   ]
  },
  {
   "cell_type": "markdown",
   "id": "d353deb4",
   "metadata": {},
   "source": [
    "### mongoimport 與 mongoexport 是 JSON 相關"
   ]
  },
  {
   "cell_type": "raw",
   "id": "262dfcb3",
   "metadata": {},
   "source": [
    "Use mongoexport to export a MongoDB collection to JSON or CSV (or stdout!):"
   ]
  },
  {
   "cell_type": "code",
   "execution_count": null,
   "id": "10718a1f",
   "metadata": {},
   "outputs": [],
   "source": [
    "mongoexport --help\n",
    "# 沒有指定 output，會在螢幕顯示。\n",
    "mongoexport --port 30000 -u \"m103-admin\" -p  \"m103-pass\" --authenticationDatabase \"admin\" --db exampleDB --collection students "
   ]
  },
  {
   "cell_type": "code",
   "execution_count": null,
   "id": "91182657",
   "metadata": {},
   "outputs": [],
   "source": [
    "# 有指定 output\n",
    "mongoexport --port 30000 -u \"m103-admin\" -p  \"m103-pass\" --authenticationDatabase \"admin\" --db exampleDB --collection students -o students.json\n",
    "tail students.json"
   ]
  },
  {
   "cell_type": "raw",
   "id": "f3e25a3e",
   "metadata": {},
   "source": [
    "Tail the exported JSON file:"
   ]
  },
  {
   "cell_type": "code",
   "execution_count": null,
   "id": "be155f16",
   "metadata": {},
   "outputs": [],
   "source": [
    "tail students.json"
   ]
  },
  {
   "cell_type": "raw",
   "id": "0a3fa558",
   "metadata": {},
   "source": [
    "Use mongoimport to create a MongoDB collection from a JSON or CSV file:"
   ]
  },
  {
   "cell_type": "code",
   "execution_count": null,
   "id": "0b427f8b",
   "metadata": {},
   "outputs": [],
   "source": [
    "# 如果沒有指定 Database 跟 Collection，會被放到 test 資料庫，用檔案名當 collection 的名稱。\n",
    "# 格式如果最外面是 Array 要加個選項 --jsonArray\n",
    "mongoimport --drop  --port 30000 -u \"m103-admin\" -p \"m103-pass\" --authenticationDatabase \"admin\" students.json"
   ]
  }
 ],
 "metadata": {
  "kernelspec": {
   "display_name": "Python 3",
   "language": "python",
   "name": "python3"
  },
  "language_info": {
   "codemirror_mode": {
    "name": "ipython",
    "version": 3
   },
   "file_extension": ".py",
   "mimetype": "text/x-python",
   "name": "python",
   "nbconvert_exporter": "python",
   "pygments_lexer": "ipython3",
   "version": "3.8.10"
  }
 },
 "nbformat": 4,
 "nbformat_minor": 5
}
