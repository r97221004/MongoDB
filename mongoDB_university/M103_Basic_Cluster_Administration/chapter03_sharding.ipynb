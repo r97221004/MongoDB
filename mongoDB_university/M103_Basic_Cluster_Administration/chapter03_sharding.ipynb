{
 "cells": [
  {
   "cell_type": "markdown",
   "id": "59813ae9",
   "metadata": {},
   "source": [
    "# What is Sharding?"
   ]
  },
  {
   "cell_type": "raw",
   "id": "d878b529",
   "metadata": {},
   "source": [
    "We could increase the capacity of individual machines so they have more RAM, or disk space, or maybe a more powerful CPU.\n",
    "This is referred to as vertical scaling.\n",
    "\n",
    "In MongoDB, scaling is done horizontally, which means instead of making the individual machines better, we just add more machines and then distribute the dataset among those machines.\n",
    "The way we distribute data in MongoDB is called Sharding.\n",
    "\n",
    "And Sharding allows us to grow our dataset without worrying about being able to store it all on one server.\n",
    "Instead, we divide the dataset into pieces and then distribute the pieces across as many shards as we want.\n",
    "Together, the shards make up a Sharded Cluster.\n",
    "\n",
    "In between a Sharded Cluster and its clients, we set up a kind of router process that accepts queries from clients and then figures out which shard should receive that query.\n",
    "That router process is called the Mongos. And we have any number of Mongos processes so we can service many different applications or requests to the same Sharded Cluster.\n",
    "\n",
    "It uses the metadata about which data is contained on each shard. And that metadata is stored on the Config Servers.\n",
    "\n",
    "So that's a high level overview of Sharding in MongoDB-- the Sharded Cluster contains the shards where the data lives; the Config Servers, which contain the metadata of each shard; and the Mongos, which routes the queries to the correct shards."
   ]
  },
  {
   "cell_type": "markdown",
   "id": "4566cc30",
   "metadata": {},
   "source": [
    "# When to Shard"
   ]
  },
  {
   "cell_type": "raw",
   "id": "eaaa2297",
   "metadata": {},
   "source": [
    "Let's look into when you should definitely consider to shard.\n",
    "\n",
    "First let's understand what indicators we should check for to see if we really got to the moment for sharding.\n",
    "\n",
    "One of the first things to do is to check out if it is still economically viable to vertical scale.\n",
    "\n",
    "When we need to address a throughput performance or volume bottleneck, which are generally the technical drivers for adding more resources to your system, the first step would be to check if we can still add more resources and scale up.\n",
    "\n",
    "Great, but we need to validate that adding more of those vertical resources, such as adding more CPU, network, memory, or disk to your existing servers, is economically viable and possible.\n",
    "\n",
    "So in case we have a small set of servers, checking that, increasing that server's unit resources, in any of the identified resource bottlenecks, gives you an increased performance with very little downtime in an economical scale way.\n",
    "\n",
    "Adding 10 times more RAM to solve a memory allocation bottleneck does not cost you 100 times more, if that's the case, great.\n",
    "\n",
    "That should be your reasoning for continuing to scale up.\n",
    "\n",
    "You are still able to do so in economical viable manner, but you will eventually reach a point where vertical scaling is no longer economically viable or it's very difficult to say impossible to accomplish.\n",
    "\n",
    "Let's say that your current architecture relies on servers that cost $100 per hour.\n",
    "\n",
    "You have three member rep cassettes, so you're sitting on top of $300 per hour.\n",
    "\n",
    "The next available type of server costs $1,000 per hour, but where your overall impact in performance is only of 2x, that is probably not going to be a very wise decision.\n",
    "\n",
    "10 times the cost per server for only two times the performance overall.\n",
    "\n",
    "You will probably be way better off with a horizontal scale where you increase in cost will be, let's say, three times.\n",
    "\n",
    "Three more servers for another rep cassette, plus three more for your configuration servers, with a potential increase of performance of 2x.\n",
    "\n",
    "$900 per hour is more acceptable than $3,000 for the same performance improvement.\n",
    "\n",
    "The economics here will play a considerable weight in your decision.\n",
    "\n",
    "Another aspect to consider is the impact on your operational tasks.\n",
    "\n",
    "Let's say that you are currently considering increasing the size of your disks to allow moving from one terabyte disk space to 20 terabyte disks.\n",
    "\n",
    "The purpose of that is to scale vertically your storage capabilities, which is totally fine.\n",
    "\n",
    "But if we are expecting to run these at 75% capacity, this will mean loading up to 15 terabytes of data.\n",
    "\n",
    "Which means 15 times more data to backup.\n",
    "\n",
    "Like a quite significant amount of other aspects, this will probably mean that you will take 15 times more time to back up those servers, probably an even bigger penalty while restoring such large servers, as well as doing initial syncs between replica sets.\n",
    "\n",
    "And we have to account now for impact on the network when backing up those 15 terabytes of data.\n",
    "\n",
    "In such a scenario, having horizontal scale and distributing that amount of data across different shards, will allow getting horizontal performance gains like parallelization of the backup, restore, and initial sync processes.\n",
    "\n",
    "Remember, that even though these may be infrequent operations, they can become serious scalability issues to handle from the operational side.\n",
    "\n",
    "This same scenario will also impact your operational workload.\n",
    "\n",
    "15 times bigger dataset per MongoDB will most likely translate to at least 15 times bigger indexes.\n",
    "\n",
    "As we know, indexes are essential for the performance of our queries in a database.\n",
    "\n",
    "If they take 15 times more space per processing unit or server, they will require more RAM so that indexes can be kept in memory.\n",
    "\n",
    "A very important part of your working dataset.\n",
    "\n",
    "Increasing the size of your disks most likely will imply eventual increasing the size of your RAM, which Brings added costs or other bottlenecks to your system.\n",
    "\n",
    "In such a scenario sharding, the parallelization of your workload across shards, might be way more beneficial for your application and budget than the waterfall of potential expensive upgrades."
   ]
  },
  {
   "cell_type": "raw",
   "id": "6a2a1122",
   "metadata": {},
   "source": [
    "A general rule of thumb indicates that individual servers should contain two to 5 terabytes of data.\n",
    "\n",
    "More than that just becomes too time consuming to operate with.\n",
    "\n",
    "Finally, there are workloads that intrinsically play nicer in distributed deployments that sharing offers, like single threaded operations that can be parallelized and geographically distributed data.\n",
    "\n",
    "Data that needs to be stored in specific regional locations or will benefit from being co-located with the clients that consume such data.\n",
    "\n",
    "As an example of a single thread operations will be aggregation framework commands.\n",
    "\n",
    "If your application relies heavily on aggregation framework commands and if the response time of those commands becomes slower over time, you should consider sharding your cluster.\n",
    "\n",
    "That said, not all stages of the aggregation pipeline are parallelizable.\n",
    "\n",
    "So a deeper understanding of your pipeline is required before making that decision.\n",
    "\n",
    "You can learn all about it in our M121 MongoDB Aggregation Course.\n",
    "\n",
    "So stay tuned for that.\n",
    "\n",
    "Finally, geodistributed data is significantly simple to manage using zone sharding.\n",
    "\n",
    "Zone sharding allows us to easily distribute data that needs to be co-located.\n",
    "\n",
    "Zone sharding is out of scope for this course, but bear in mind that this is an efficient way to manage geographically distributed data sets."
   ]
  },
  {
   "cell_type": "markdown",
   "id": "35e00381",
   "metadata": {},
   "source": [
    "# Sharding Architecture"
   ]
  },
  {
   "cell_type": "markdown",
   "id": "631db3c7",
   "metadata": {},
   "source": [
    "<img src=\"31.png\">"
   ]
  },
  {
   "cell_type": "markdown",
   "id": "905225b4",
   "metadata": {},
   "source": [
    "<img src=\"32.png\">"
   ]
  },
  {
   "cell_type": "markdown",
   "id": "082eb653",
   "metadata": {},
   "source": [
    "<img src=\"33.png\">"
   ]
  },
  {
   "cell_type": "markdown",
   "id": "cad5e434",
   "metadata": {},
   "source": [
    "<img src=\"34.png\">"
   ]
  },
  {
   "cell_type": "markdown",
   "id": "85f13c1d",
   "metadata": {},
   "source": [
    "<img src=\"35.png\">"
   ]
  },
  {
   "cell_type": "markdown",
   "id": "28f07171",
   "metadata": {},
   "source": [
    "<img src=\"36.png\">"
   ]
  },
  {
   "cell_type": "raw",
   "id": "9356092d",
   "metadata": {},
   "source": [
    "In the sharded cluster, we also have this notion of a primary shard.\n",
    "\n",
    "Each database will be assigned a primary shard, and all the non-sharded collections on that database will remain on that shard. Remember, not all the collections in a sharded cluster need to be distributed. The config servers will assign a primary shard to each database once they get created.\n",
    "\n",
    "But we can also change the primary shard of a database.\n",
    "\n",
    "The primary shard also has a few other responsibilities, specifically around merge operations for aggregation commands."
   ]
  },
  {
   "cell_type": "markdown",
   "id": "40f6a2eb",
   "metadata": {},
   "source": [
    "<img src=\"37.png\">"
   ]
  },
  {
   "cell_type": "markdown",
   "id": "873ad41d",
   "metadata": {},
   "source": [
    "<img src=\"38.png\">"
   ]
  },
  {
   "cell_type": "markdown",
   "id": "6ad15f58",
   "metadata": {},
   "source": [
    "---"
   ]
  },
  {
   "cell_type": "raw",
   "id": "e50c72fe",
   "metadata": {},
   "source": [
    "# Basic responsibilities of mongos\n",
    "# The metadata contained on config servers\n",
    "# The concept of a primary shard"
   ]
  },
  {
   "cell_type": "markdown",
   "id": "8c603791",
   "metadata": {},
   "source": [
    "# Setting Up a Sharded Cluster"
   ]
  },
  {
   "cell_type": "raw",
   "id": "ba51529e",
   "metadata": {},
   "source": [
    "If you'd like to deploy a sharded cluster on your machine, you can find the commands from the lecture here:\n",
    "\n",
    "Configuration file for first config server csrs_1.conf:"
   ]
  },
  {
   "cell_type": "code",
   "execution_count": null,
   "id": "2a349b6d",
   "metadata": {},
   "outputs": [],
   "source": [
    "sharding:\n",
    "  clusterRole: configsvr\n",
    "replication:\n",
    "  replSetName: m103-csrs\n",
    "security:\n",
    "  keyFile: /var/mongodb/pki/m103-keyfile\n",
    "net:\n",
    "  bindIp: localhost,192.168.103.100\n",
    "  port: 26001\n",
    "systemLog:\n",
    "  destination: file\n",
    "  path: /var/mongodb/db/csrs1.log\n",
    "  logAppend: true\n",
    "processManagement:\n",
    "  fork: true\n",
    "storage:\n",
    "  dbPath: /var/mongodb/db/csrs1"
   ]
  },
  {
   "cell_type": "raw",
   "id": "b775cda9",
   "metadata": {},
   "source": [
    "csrs_2.conf:"
   ]
  },
  {
   "cell_type": "code",
   "execution_count": null,
   "id": "9bd59475",
   "metadata": {},
   "outputs": [],
   "source": [
    "sharding:\n",
    "  clusterRole: configsvr\n",
    "replication:\n",
    "  replSetName: m103-csrs\n",
    "security:\n",
    "  keyFile: /var/mongodb/pki/m103-keyfile\n",
    "net:\n",
    "  bindIp: localhost,192.168.103.100\n",
    "  port: 26002\n",
    "systemLog:\n",
    "  destination: file\n",
    "  path: /var/mongodb/db/csrs2.log\n",
    "  logAppend: true\n",
    "processManagement:\n",
    "  fork: true\n",
    "storage:\n",
    "  dbPath: /var/mongodb/db/csrs2"
   ]
  },
  {
   "cell_type": "raw",
   "id": "8aaf2ae1",
   "metadata": {},
   "source": [
    "csrs_3.conf:"
   ]
  },
  {
   "cell_type": "code",
   "execution_count": null,
   "id": "57cba679",
   "metadata": {},
   "outputs": [],
   "source": [
    "sharding:\n",
    "  clusterRole: configsvr\n",
    "replication:\n",
    "  replSetName: m103-csrs\n",
    "security:\n",
    "  keyFile: /var/mongodb/pki/m103-keyfile\n",
    "net:\n",
    "  bindIp: localhost,192.168.103.100\n",
    "  port: 26003\n",
    "systemLog:\n",
    "  destination: file\n",
    "  path: /var/mongodb/db/csrs3.log\n",
    "  logAppend: true\n",
    "processManagement:\n",
    "  fork: true\n",
    "storage:\n",
    "  dbPath: /var/mongodb/db/csrs3"
   ]
  },
  {
   "cell_type": "raw",
   "id": "7ec8fc7f",
   "metadata": {},
   "source": [
    "Starting the three config servers:"
   ]
  },
  {
   "cell_type": "code",
   "execution_count": null,
   "id": "423d4feb",
   "metadata": {},
   "outputs": [],
   "source": [
    "mongod -f csrs_1.conf\n",
    "mongod -f csrs_2.conf\n",
    "mongod -f csrs_3.conf"
   ]
  },
  {
   "cell_type": "raw",
   "id": "676279dd",
   "metadata": {},
   "source": [
    "Connect to one of the config servers:"
   ]
  },
  {
   "cell_type": "code",
   "execution_count": null,
   "id": "6a4b8351",
   "metadata": {},
   "outputs": [],
   "source": [
    "mongo --port 26001"
   ]
  },
  {
   "cell_type": "raw",
   "id": "2e9e17e2",
   "metadata": {},
   "source": [
    "Initiating the CSRS:"
   ]
  },
  {
   "cell_type": "code",
   "execution_count": null,
   "id": "1d4f6602",
   "metadata": {},
   "outputs": [],
   "source": [
    "rs.initiate()"
   ]
  },
  {
   "cell_type": "raw",
   "id": "0529264c",
   "metadata": {},
   "source": [
    "Creating super user on CSRS:"
   ]
  },
  {
   "cell_type": "code",
   "execution_count": null,
   "id": "84cbdc92",
   "metadata": {},
   "outputs": [],
   "source": [
    "use admin\n",
    "db.createUser({\n",
    "  user: \"m103-admin\",\n",
    "  pwd: \"m103-pass\",\n",
    "  roles: [\n",
    "    {role: \"root\", db: \"admin\"}\n",
    "  ]\n",
    "})"
   ]
  },
  {
   "cell_type": "raw",
   "id": "20a6cddb",
   "metadata": {},
   "source": [
    "Authenticating as the super user:"
   ]
  },
  {
   "cell_type": "code",
   "execution_count": null,
   "id": "6d10c5db",
   "metadata": {},
   "outputs": [],
   "source": [
    "db.auth(\"m103-admin\", \"m103-pass\")"
   ]
  },
  {
   "cell_type": "raw",
   "id": "1b4ef72b",
   "metadata": {},
   "source": [
    "Add the second and third node to the CSRS:"
   ]
  },
  {
   "cell_type": "code",
   "execution_count": null,
   "id": "8f0a9d06",
   "metadata": {},
   "outputs": [],
   "source": [
    "rs.add(\"192.168.103.100:26002\")\n",
    "rs.add(\"192.168.103.100:26003\")"
   ]
  },
  {
   "cell_type": "code",
   "execution_count": null,
   "id": "69e77a3c",
   "metadata": {},
   "outputs": [],
   "source": [
    "rs.isMaster()"
   ]
  },
  {
   "cell_type": "raw",
   "id": "66387a47",
   "metadata": {},
   "source": [
    "Mongos config (mongos.conf):"
   ]
  },
  {
   "cell_type": "markdown",
   "id": "a081d6dd",
   "metadata": {},
   "source": [
    "sharding:\n",
    "  configDB: m103-csrs/192.168.103.100:26001,192.168.103.100:26002,192.168.103.100:26003\n",
    "security:\n",
    "  keyFile: /var/mongodb/pki/m103-keyfile\n",
    "net:\n",
    "  bindIp: localhost,192.168.103.100\n",
    "  port: 26000\n",
    "systemLog:\n",
    "  destination: file\n",
    "  path: /var/mongodb/db/mongos.log\n",
    "  logAppend: true\n",
    "processManagement:\n",
    "  fork: true"
   ]
  },
  {
   "cell_type": "code",
   "execution_count": null,
   "id": "47e245c2",
   "metadata": {},
   "outputs": [],
   "source": [
    "mongos -f mongos.conf"
   ]
  },
  {
   "cell_type": "raw",
   "id": "8e736ef5",
   "metadata": {},
   "source": [
    "Connect to mongos:"
   ]
  },
  {
   "cell_type": "code",
   "execution_count": null,
   "id": "2d9b9248",
   "metadata": {},
   "outputs": [],
   "source": [
    "mongo --port 26000 --username m103-admin --password m103-pass --authenticationDatabase admin"
   ]
  },
  {
   "cell_type": "raw",
   "id": "956154a0",
   "metadata": {},
   "source": [
    "Check sharding status:"
   ]
  },
  {
   "cell_type": "code",
   "execution_count": null,
   "id": "6eccc18f",
   "metadata": {},
   "outputs": [],
   "source": [
    "sh.status()"
   ]
  },
  {
   "cell_type": "raw",
   "id": "b225651f",
   "metadata": {},
   "source": [
    "Updated configuration for node1.conf:"
   ]
  },
  {
   "cell_type": "code",
   "execution_count": null,
   "id": "52846a10",
   "metadata": {},
   "outputs": [],
   "source": [
    "sharding:\n",
    "  clusterRole: shardsvr\n",
    "storage:\n",
    "  dbPath: /var/mongodb/db/node1\n",
    "  wiredTiger:\n",
    "    engineConfig:\n",
    "      cacheSizeGB: .1\n",
    "net:\n",
    "  bindIp: 192.168.103.100,localhost\n",
    "  port: 27011\n",
    "security:\n",
    "  keyFile: /var/mongodb/pki/m103-keyfile\n",
    "systemLog:\n",
    "  destination: file\n",
    "  path: /var/mongodb/db/node1/mongod.log\n",
    "  logAppend: true\n",
    "processManagement:\n",
    "  fork: true\n",
    "replication:\n",
    "  replSetName: m103-repl"
   ]
  },
  {
   "cell_type": "raw",
   "id": "63e3ca86",
   "metadata": {},
   "source": [
    "Updated configuration for node2.conf:"
   ]
  },
  {
   "cell_type": "code",
   "execution_count": null,
   "id": "480099e4",
   "metadata": {},
   "outputs": [],
   "source": [
    "sharding:\n",
    "  clusterRole: shardsvr\n",
    "storage:\n",
    "  dbPath: /var/mongodb/db/node2\n",
    "  wiredTiger:\n",
    "    engineConfig:\n",
    "      cacheSizeGB: .1\n",
    "net:\n",
    "  bindIp: 192.168.103.100,localhost\n",
    "  port: 27012\n",
    "security:\n",
    "  keyFile: /var/mongodb/pki/m103-keyfile\n",
    "systemLog:\n",
    "  destination: file\n",
    "  path: /var/mongodb/db/node2/mongod.log\n",
    "  logAppend: true\n",
    "processManagement:\n",
    "  fork: true\n",
    "replication:\n",
    "  replSetName: m103-repl"
   ]
  },
  {
   "cell_type": "raw",
   "id": "129570b5",
   "metadata": {},
   "source": [
    "Updated configuration for node3.conf:"
   ]
  },
  {
   "cell_type": "code",
   "execution_count": null,
   "id": "f4efb294",
   "metadata": {},
   "outputs": [],
   "source": [
    "sharding:\n",
    "  clusterRole: shardsvr\n",
    "storage:\n",
    "  dbPath: /var/mongodb/db/node3\n",
    "  wiredTiger:\n",
    "    engineConfig:\n",
    "      cacheSizeGB: .1\n",
    "net:\n",
    "  bindIp: 192.168.103.100,localhost\n",
    "  port: 27013\n",
    "security:\n",
    "  keyFile: /var/mongodb/pki/m103-keyfile\n",
    "systemLog:\n",
    "  destination: file\n",
    "  path: /var/mongodb/db/node3/mongod.log\n",
    "  logAppend: true\n",
    "processManagement:\n",
    "  fork: true\n",
    "replication:\n",
    "  replSetName: m103-repl"
   ]
  },
  {
   "cell_type": "raw",
   "id": "47aa4ccb",
   "metadata": {},
   "source": [
    "Connecting directly to secondary node (note that if an election has taken place in your replica set, the specified node may have become primary):"
   ]
  },
  {
   "cell_type": "code",
   "execution_count": null,
   "id": "b0380cd4",
   "metadata": {},
   "outputs": [],
   "source": [
    "mongo --port 27012 -u \"m103-admin\" -p \"m103-pass\" --authenticationDatabase \"admin\""
   ]
  },
  {
   "cell_type": "raw",
   "id": "3bba70eb",
   "metadata": {},
   "source": [
    "Shutting down node:"
   ]
  },
  {
   "cell_type": "code",
   "execution_count": null,
   "id": "d12c9500",
   "metadata": {},
   "outputs": [],
   "source": [
    "use admin\n",
    "db.shutdownServer()"
   ]
  },
  {
   "cell_type": "raw",
   "id": "c871893a",
   "metadata": {},
   "source": [
    "Restarting node with new configuration:"
   ]
  },
  {
   "cell_type": "code",
   "execution_count": null,
   "id": "5d36130a",
   "metadata": {},
   "outputs": [],
   "source": [
    "mongod -f node2.conf"
   ]
  },
  {
   "cell_type": "code",
   "execution_count": null,
   "id": "0276501b",
   "metadata": {},
   "outputs": [],
   "source": [
    "# Do the same thing for the third node\n",
    "mongo --port 27013 -u \"m103-admin\" -p \"m103-pass\" --authenticationDatabase \"admin\""
   ]
  },
  {
   "cell_type": "code",
   "execution_count": null,
   "id": "184d0bc5",
   "metadata": {},
   "outputs": [],
   "source": [
    "use admin\n",
    "db.shutdownServer()\n",
    "\n",
    "mongod -f node3.conf"
   ]
  },
  {
   "cell_type": "code",
   "execution_count": null,
   "id": "9a77892f",
   "metadata": {},
   "outputs": [],
   "source": [
    "mongo --port 27011 -u \"m103-admin\" -p \"m103-pass\" --authenticationDatabase \"admin\""
   ]
  },
  {
   "cell_type": "raw",
   "id": "b5c53615",
   "metadata": {},
   "source": [
    "Stepping down current primary:"
   ]
  },
  {
   "cell_type": "code",
   "execution_count": null,
   "id": "fda4e1d0",
   "metadata": {},
   "outputs": [],
   "source": [
    "use admin\n",
    "rs.stepDown()"
   ]
  },
  {
   "cell_type": "code",
   "execution_count": null,
   "id": "be4e2c8c",
   "metadata": {},
   "outputs": [],
   "source": [
    "db.shutdownServer()"
   ]
  },
  {
   "cell_type": "code",
   "execution_count": null,
   "id": "1ef5fe2e",
   "metadata": {},
   "outputs": [],
   "source": [
    "mongod -f node1.conf"
   ]
  },
  {
   "cell_type": "code",
   "execution_count": null,
   "id": "eb8935b6",
   "metadata": {},
   "outputs": [],
   "source": [
    "# connect back to mongos\n",
    "mongo --port 26000 --username m103-admin --password m103-pass --authenticationDatabase admin"
   ]
  },
  {
   "cell_type": "raw",
   "id": "de0c5b6e",
   "metadata": {},
   "source": [
    "Adding new shard to cluster from mongos:"
   ]
  },
  {
   "cell_type": "code",
   "execution_count": null,
   "id": "fd7c99ee",
   "metadata": {},
   "outputs": [],
   "source": [
    "sh.addShard(\"m103-repl/192.168.103.100:27012\")"
   ]
  },
  {
   "cell_type": "code",
   "execution_count": null,
   "id": "06565d51",
   "metadata": {},
   "outputs": [],
   "source": [
    "sh.status()"
   ]
  },
  {
   "cell_type": "raw",
   "id": "57d96461",
   "metadata": {},
   "source": [
    "# Launching mongos and CSRS\n",
    "# Enabling sharding on a RS\n",
    "  Rolling upgrade!\n",
    "# Adding shards to a cluster"
   ]
  },
  {
   "cell_type": "markdown",
   "id": "521096d7",
   "metadata": {},
   "source": [
    "# Config DB"
   ]
  },
  {
   "cell_type": "raw",
   "id": "a2b57719",
   "metadata": {},
   "source": [
    "# First thing you need to know about the config DB is that you should generally never write any data to it. It's \n",
    "  maintained internally by MongoDB, and it's used internally. So, generally, you will never need to actually write any data\n",
    "  to it."
   ]
  },
  {
   "cell_type": "raw",
   "id": "50966c2c",
   "metadata": {},
   "source": [
    "I'm just connected to mongos and I'm running a quick sh.status on it just to see the typology of the sharded cluster."
   ]
  },
  {
   "cell_type": "code",
   "execution_count": null,
   "id": "a26dc625",
   "metadata": {},
   "outputs": [],
   "source": [
    "sh.status()"
   ]
  },
  {
   "cell_type": "raw",
   "id": "0c646143",
   "metadata": {},
   "source": [
    "先查看 shards、active mongoses(可以有很多個)、databases，所有這些相關資訊都被存在 config DB"
   ]
  },
  {
   "cell_type": "code",
   "execution_count": null,
   "id": "935e4271",
   "metadata": {},
   "outputs": [],
   "source": [
    "use config"
   ]
  },
  {
   "cell_type": "code",
   "execution_count": null,
   "id": "19556bd0",
   "metadata": {},
   "outputs": [],
   "source": [
    "show collections"
   ]
  },
  {
   "cell_type": "code",
   "execution_count": null,
   "id": "947e38d9",
   "metadata": {},
   "outputs": [],
   "source": [
    "# 先看看 databases 這個 collection\n",
    "db.databases.find().pretty() "
   ]
  },
  {
   "cell_type": "markdown",
   "id": "9d4538b3",
   "metadata": {},
   "source": [
    "<img src=\"20.PNG\">"
   ]
  },
  {
   "cell_type": "code",
   "execution_count": null,
   "id": "efc526b2",
   "metadata": {},
   "outputs": [],
   "source": [
    "db.collections.find().prtty()"
   ]
  },
  {
   "cell_type": "markdown",
   "id": "e13659cc",
   "metadata": {},
   "source": [
    "<img src=\"21.PNG\">"
   ]
  },
  {
   "cell_type": "raw",
   "id": "0fba96f9",
   "metadata": {},
   "source": [
    "this is only going to give us information on collections that have been sharded. But for those collections, it will tell us the shard key that we used. In this case, the m103 products collection was sharded on sale price.\n",
    "And it also tell us whether or not that key was unique."
   ]
  },
  {
   "cell_type": "code",
   "execution_count": null,
   "id": "abebd585",
   "metadata": {},
   "outputs": [],
   "source": [
    "db.shards.find().pretty()"
   ]
  },
  {
   "cell_type": "markdown",
   "id": "d4ac7124",
   "metadata": {},
   "source": [
    "<img src=\"22.PNG\">"
   ]
  },
  {
   "cell_type": "code",
   "execution_count": null,
   "id": "8c548cba",
   "metadata": {},
   "outputs": [],
   "source": [
    "db.chunks.find().pretty()"
   ]
  },
  {
   "cell_type": "markdown",
   "id": "cb22978b",
   "metadata": {},
   "source": [
    "<img src=\"23.PNG\">"
   ]
  },
  {
   "cell_type": "markdown",
   "id": "9e101476",
   "metadata": {},
   "source": [
    "<img src=\"24.PNG\">"
   ]
  },
  {
   "cell_type": "code",
   "execution_count": null,
   "id": "cbde006e",
   "metadata": {},
   "outputs": [],
   "source": [
    "db.mongos.find().pretty()"
   ]
  },
  {
   "cell_type": "markdown",
   "id": "279ecbe7",
   "metadata": {},
   "source": [
    "<img src=\"25.PNG\">"
   ]
  },
  {
   "cell_type": "markdown",
   "id": "00b06450",
   "metadata": {},
   "source": [
    "---"
   ]
  },
  {
   "cell_type": "raw",
   "id": "c8b2878c",
   "metadata": {},
   "source": [
    "Config DB\n",
    " - Shards\n",
    " - Chunks\n",
    " - Mongos\n",
    "When to write data to Config DB\n",
    " Rarely"
   ]
  },
  {
   "cell_type": "markdown",
   "id": "b1723254",
   "metadata": {},
   "source": [
    "# Shard Keys"
   ]
  },
  {
   "cell_type": "raw",
   "id": "0a4a28e2",
   "metadata": {},
   "source": [
    "資料寫入使用 shard key"
   ]
  },
  {
   "cell_type": "markdown",
   "id": "a84b40fd",
   "metadata": {},
   "source": [
    "<img src=\"26.PNG\">"
   ]
  },
  {
   "cell_type": "raw",
   "id": "993d80ff",
   "metadata": {},
   "source": [
    "# Shard key fields must exist in every document in the collection\n",
    "# read operations 盡可能的使用 shard key\n",
    "# read operations 如果沒有使用 shard key，mongos 會把 chunks 從頭到尾看一次"
   ]
  },
  {
   "cell_type": "raw",
   "id": "d90727ae",
   "metadata": {},
   "source": [
    "# Shard Key Fields must be indexed\n",
    "  indexes must exist first before you can select the indexed fields for your shard key\n",
    "# Shard Keys are immutable\n",
    "  You cannot change the shard key fields post-sharding\n",
    "  You con change the values of the shard key fields post-sharding (as of MongoDB 4.2)\n",
    "# Shard Keys are permanent\n",
    "  You cannot unshard a sharded collection"
   ]
  },
  {
   "cell_type": "markdown",
   "id": "754ed864",
   "metadata": {},
   "source": [
    "### How To Shard"
   ]
  },
  {
   "cell_type": "raw",
   "id": "28575b3a",
   "metadata": {},
   "source": [
    "1. Use sh.enableSharding(\"<database>\") to enable sharding for the specfied database\n",
    "2. Use db.collection.createIndex() to create the index for your shard key field\n",
    "3. Use sh.shardCollection(\"<databse>.<collection>\", { shard key }) to shard the collection"
   ]
  },
  {
   "cell_type": "markdown",
   "id": "33de4a11",
   "metadata": {},
   "source": [
    "### 範例01"
   ]
  },
  {
   "cell_type": "raw",
   "id": "aea12c88",
   "metadata": {},
   "source": [
    "If you'd like to shard a collection, you can find instructions to create a shard key here:"
   ]
  },
  {
   "cell_type": "code",
   "execution_count": null,
   "id": "bd92981a",
   "metadata": {},
   "outputs": [],
   "source": [
    "show dbs\n",
    "sh.status()"
   ]
  },
  {
   "cell_type": "raw",
   "id": "1e884cba",
   "metadata": {},
   "source": [
    "Show collections in m103 database:"
   ]
  },
  {
   "cell_type": "code",
   "execution_count": null,
   "id": "9eecdbf9",
   "metadata": {},
   "outputs": [],
   "source": [
    "use m103\n",
    "show collections"
   ]
  },
  {
   "cell_type": "code",
   "execution_count": null,
   "id": "cdb2e7c7",
   "metadata": {},
   "outputs": [],
   "source": [
    "Enable sharding on the m103 database:"
   ]
  },
  {
   "cell_type": "code",
   "execution_count": null,
   "id": "d710ac50",
   "metadata": {},
   "outputs": [],
   "source": [
    "sh.enableSharding(\"m103\")"
   ]
  },
  {
   "cell_type": "raw",
   "id": "aaf14e58",
   "metadata": {},
   "source": [
    "Find one document from the products collection, to help us choose a shard key:"
   ]
  },
  {
   "cell_type": "code",
   "execution_count": null,
   "id": "6aa018b8",
   "metadata": {},
   "outputs": [],
   "source": [
    "db.products.findOne()"
   ]
  },
  {
   "cell_type": "raw",
   "id": "823bfe57",
   "metadata": {},
   "source": [
    "Create an index on sku(每個 document 都要有才能當 shard key):"
   ]
  },
  {
   "cell_type": "code",
   "execution_count": null,
   "id": "c0aeea4e",
   "metadata": {},
   "outputs": [],
   "source": [
    "db.products.createIndex({ \"sku\": 1 })"
   ]
  },
  {
   "cell_type": "raw",
   "id": "82ea22d2",
   "metadata": {},
   "source": [
    "Shard the products collection on sku:"
   ]
  },
  {
   "cell_type": "code",
   "execution_count": null,
   "id": "c33e3d5a",
   "metadata": {},
   "outputs": [],
   "source": [
    "sh.shardCollection( \"m103.products\", { \"sku\": 1 })"
   ]
  },
  {
   "cell_type": "raw",
   "id": "a98e684a",
   "metadata": {},
   "source": [
    "Checking the status of the sharded cluster:"
   ]
  },
  {
   "cell_type": "code",
   "execution_count": null,
   "id": "d0276679",
   "metadata": {},
   "outputs": [],
   "source": [
    "sh.status()"
   ]
  },
  {
   "cell_type": "markdown",
   "id": "174767a8",
   "metadata": {},
   "source": [
    "<img src=\"27.PNG\">"
   ]
  },
  {
   "cell_type": "raw",
   "id": "62c6ea19",
   "metadata": {},
   "source": [
    "# Shard Keys determine data dirstribution in a sharded cluster\n",
    "# Shard Keys are immutable\n",
    "# Shard Key Values are mutable\n",
    "# Create the underlying index first before sharding on the indexed field or fields"
   ]
  },
  {
   "cell_type": "markdown",
   "id": "bb041edd",
   "metadata": {},
   "source": [
    "# Picking a Good Shard Key"
   ]
  },
  {
   "cell_type": "raw",
   "id": "0276bdea",
   "metadata": {},
   "source": [
    "# 一個允許 shard 的資料庫中，可以有些 collection shard，有些沒有 shard\n",
    "# The goal is a shard key whose values provides good write distrition\n",
    "  - Cardinality\n",
    "  - Frequence\n",
    "  - Monotonic Change"
   ]
  },
  {
   "cell_type": "raw",
   "id": "bacc6016",
   "metadata": {},
   "source": [
    "# High Cardinality = many possible unique key values\n",
    "# Low frequency = low repetition of a given unique shard key value\n",
    "# Type of Change: Avoid shard keys that change monotonically"
   ]
  },
  {
   "cell_type": "markdown",
   "id": "d45940e1",
   "metadata": {},
   "source": [
    "### read isolation"
   ]
  },
  {
   "cell_type": "raw",
   "id": "84f05de8",
   "metadata": {},
   "source": [
    "# MongoDB directs targeted queries（讀取時有包含 shard key） to a single shard\n",
    "# Without the shard key，MongoDB has to ask every shard"
   ]
  },
  {
   "cell_type": "raw",
   "id": "43d17091",
   "metadata": {},
   "source": [
    "# You cannot unshard a collection once sharded\n",
    "# You cannot update the shard key of a sharded collection\n",
    "# You cannot update the values of the shard key for any document in the sharded collection\n",
    "# Test your shard keys in a staging environment first before sharding in production environment"
   ]
  },
  {
   "cell_type": "raw",
   "id": "99bf8d83",
   "metadata": {},
   "source": [
    "# Good shard keys provide even write distribution\n",
    "# Where possible, good shard keys provide read isolation\n",
    "# High Cardinality, Low Frequency shard key values ideal\n",
    "# Avoid monotonically changing shard keys\n",
    "# Unsharding a colletion is hard - avoid it"
   ]
  },
  {
   "cell_type": "markdown",
   "id": "b0d5db2a",
   "metadata": {},
   "source": [
    "# Hashed Shard Keys"
   ]
  },
  {
   "cell_type": "markdown",
   "id": "e26dfc71",
   "metadata": {},
   "source": [
    "### Hashed Sharding Shard Key"
   ]
  },
  {
   "cell_type": "raw",
   "id": "346ed014",
   "metadata": {},
   "source": [
    "The field you choose as your hashed shard key should have a good cardinality, or large number of different values. Hashed keys are ideal for shard keys with fields that change monotonically like ObjectId values or timestamps. A good example of this is the default _id field, assuming it only contains ObjectId values."
   ]
  },
  {
   "cell_type": "markdown",
   "id": "fdbcbf98",
   "metadata": {},
   "source": [
    "### Hashed vs Ranged Sharding"
   ]
  },
  {
   "cell_type": "raw",
   "id": "510d8ffb",
   "metadata": {},
   "source": [
    "Given a collection using a monotonically increasing value X as the shard key, using ranged sharding results in a distribution of incoming inserts similar to the following:"
   ]
  },
  {
   "cell_type": "markdown",
   "id": "75e078a5",
   "metadata": {},
   "source": [
    "<img src=\"sharded-cluster-monotonic-distribution.bakedsvg.svg\">"
   ]
  },
  {
   "cell_type": "raw",
   "id": "eabf53ce",
   "metadata": {},
   "source": [
    "Since the value of X is always increasing, the chunk with an upper bound of maxKey receives the majority incoming writes. This restricts insert operations to the single shard containing this chunk, which reduces or removes the advantage of distributed writes in a sharded cluster.\n",
    "\n",
    "By using a hashed index on X, the distribution of inserts is similar to the following:"
   ]
  },
  {
   "cell_type": "markdown",
   "id": "9f7629d4",
   "metadata": {},
   "source": [
    "<img src=\"sharded-cluster-hashed-distribution.bakedsvg.svg\">"
   ]
  },
  {
   "cell_type": "raw",
   "id": "14a8c6bb",
   "metadata": {},
   "source": [
    "Since the data is now distributed more evenly, inserts are efficiently distributed throughout the cluster."
   ]
  },
  {
   "cell_type": "markdown",
   "id": "a4799ba2",
   "metadata": {},
   "source": [
    "### Hashed Shard Key Considerations"
   ]
  },
  {
   "cell_type": "raw",
   "id": "167ebc86",
   "metadata": {},
   "source": [
    "# Queries on ranges of shard key values are more likely to be scatter-gather\n",
    "# Cannot support geographically isolated read operations using zoned sharding\n",
    "# Hashed Index must be on a single non-array\n",
    "# Hashed Indexes don't support fast sorting "
   ]
  },
  {
   "cell_type": "markdown",
   "id": "18543ae6",
   "metadata": {},
   "source": [
    "### Sharding using a Hashed Shard Key"
   ]
  },
  {
   "cell_type": "raw",
   "id": "893760aa",
   "metadata": {},
   "source": [
    "# Use sh.enableSharding(\"<database>\") to enable sharding for the specified database\n",
    "# Use db.collection.createIndex({ \"<field>\": \"hashed\" }) to create the index for your shard key fields\n",
    "# Use sh.shardCollection( \"<data>.<collection>\", { <shard key field>: \"hashed\" }) to shard the collection "
   ]
  },
  {
   "cell_type": "raw",
   "id": "00169023",
   "metadata": {},
   "source": [
    "# Every distribution of shard keys on monotonically changing fields like dates\n",
    "# No fast sorts, targeted queries on ranges of shard key values, or geographically isolated workloads\n",
    "# Hashed indexs are single field, non-array"
   ]
  },
  {
   "cell_type": "markdown",
   "id": "9b455e3e",
   "metadata": {},
   "source": [
    "# Chunks"
   ]
  },
  {
   "cell_type": "raw",
   "id": "8fff6618",
   "metadata": {},
   "source": [
    "Show collections in config database:"
   ]
  },
  {
   "cell_type": "code",
   "execution_count": null,
   "id": "841dd6ef",
   "metadata": {},
   "outputs": [],
   "source": [
    "show dbs\n",
    "use config\n",
    "show collections"
   ]
  },
  {
   "cell_type": "code",
   "execution_count": null,
   "id": "3dfb76f9",
   "metadata": {},
   "outputs": [],
   "source": [
    "# Find one document from the chunks collection:\n",
    "db.chunks.findOne()"
   ]
  },
  {
   "cell_type": "markdown",
   "id": "36a7bf68",
   "metadata": {},
   "source": [
    "<img src=\"28.png\">"
   ]
  },
  {
   "cell_type": "markdown",
   "id": "79d99687",
   "metadata": {},
   "source": [
    "### ChunkSize"
   ]
  },
  {
   "cell_type": "raw",
   "id": "622a3403",
   "metadata": {},
   "source": [
    "# By default ChunkSize = 64MB\n",
    "# 我們可以手動調整 ChunkSize，但要在 1MB <= ChunkSize <= 1024MB"
   ]
  },
  {
   "cell_type": "code",
   "execution_count": null,
   "id": "0a12938e",
   "metadata": {},
   "outputs": [],
   "source": [
    "# 先看看我們現在有幾個 Chunks\n",
    "sh.status()"
   ]
  },
  {
   "cell_type": "raw",
   "id": "7ca3fe32",
   "metadata": {},
   "source": [
    "Change the chunk size:"
   ]
  },
  {
   "cell_type": "code",
   "execution_count": null,
   "id": "7971bcbe",
   "metadata": {},
   "outputs": [],
   "source": [
    "# value 的單位是 MB\n",
    "use config\n",
    "db.settings.save({_id: \"chunksize\", value: 2}) "
   ]
  },
  {
   "cell_type": "raw",
   "id": "8428fbcc",
   "metadata": {},
   "source": [
    "Check the status of the sharded cluster:"
   ]
  },
  {
   "cell_type": "code",
   "execution_count": null,
   "id": "872a6877",
   "metadata": {},
   "outputs": [],
   "source": [
    "sh.status()"
   ]
  },
  {
   "cell_type": "raw",
   "id": "e22ae1ad",
   "metadata": {},
   "source": [
    "Import the new products.part2 dataset into MongoDB:"
   ]
  },
  {
   "cell_type": "code",
   "execution_count": null,
   "id": "f6fb20db",
   "metadata": {},
   "outputs": [],
   "source": [
    "mongoimport /dataset/products.part2.json --port 26000 -u \"m103-admin\" -p \"m103-pass\" --authenticationDatabase \"admin\" --db m103 --collection products"
   ]
  },
  {
   "cell_type": "code",
   "execution_count": null,
   "id": "8879ecfa",
   "metadata": {},
   "outputs": [],
   "source": [
    "sh.status()"
   ]
  },
  {
   "cell_type": "markdown",
   "id": "65b34468",
   "metadata": {},
   "source": [
    "### Jumbo Chunks"
   ]
  },
  {
   "cell_type": "raw",
   "id": "4153c143",
   "metadata": {},
   "source": [
    "# Larger than the defined chunk size\n",
    "# Cannot move jumbo chunks\n",
    "  - Once marked as jumbo the balancer skips these\n",
    "  - chunks and avoids trying to move them\n",
    "# In some cases these will not be able to be split"
   ]
  },
  {
   "cell_type": "markdown",
   "id": "a090fe63",
   "metadata": {},
   "source": [
    "---"
   ]
  },
  {
   "cell_type": "raw",
   "id": "dbef1b2d",
   "metadata": {},
   "source": [
    "# Logical groups of documents\n",
    "# Chunk can only live at one designated shard at a time\n",
    "# Shard Key cardinaliry/frequency, chunk size will determine number of chunks"
   ]
  },
  {
   "cell_type": "markdown",
   "id": "0fb8d7c4",
   "metadata": {},
   "source": [
    "# Balancing"
   ]
  },
  {
   "cell_type": "raw",
   "id": "1ef56cc2",
   "metadata": {},
   "source": [
    "# Balancer responsible for evenly distributing chunks across the sharded cluster\n",
    "# Balancer runs on Primary member of config server replica set\n",
    "# Balancer is an automatic process and requires minimal user configuration "
   ]
  },
  {
   "cell_type": "raw",
   "id": "7034b663",
   "metadata": {},
   "source": [
    "Start the balancer:"
   ]
  },
  {
   "cell_type": "code",
   "execution_count": null,
   "id": "c3a2419a",
   "metadata": {},
   "outputs": [],
   "source": [
    "sh.startBalancer(timeout, interval)"
   ]
  },
  {
   "cell_type": "raw",
   "id": "f9216ede",
   "metadata": {},
   "source": [
    "Stop the balancer:"
   ]
  },
  {
   "cell_type": "code",
   "execution_count": null,
   "id": "ec9d0459",
   "metadata": {},
   "outputs": [],
   "source": [
    "sh.stopBalancer(timeout, interval)"
   ]
  },
  {
   "cell_type": "raw",
   "id": "cf2fcd53",
   "metadata": {},
   "source": [
    "Enable/disable the balancer:"
   ]
  },
  {
   "cell_type": "code",
   "execution_count": null,
   "id": "0273e171",
   "metadata": {},
   "outputs": [],
   "source": [
    "sh.setBalancerState(boolean)"
   ]
  },
  {
   "cell_type": "markdown",
   "id": "dc877d34",
   "metadata": {},
   "source": [
    "# Queries in a Sharded Cluster"
   ]
  },
  {
   "cell_type": "raw",
   "id": "ef465e72",
   "metadata": {},
   "source": [
    "# mongos handles all queries in the cluster\n",
    "# mongos builds a list of shards to target a query\n",
    "# momgos merges the results from each shard\n",
    "# mongos supports standard query modifier like sort, limit and skip"
   ]
  },
  {
   "cell_type": "markdown",
   "id": "7785d505",
   "metadata": {},
   "source": [
    "<img src=\"29.PNG\">"
   ]
  },
  {
   "cell_type": "markdown",
   "id": "ad8ab70d",
   "metadata": {},
   "source": [
    "<img src=\"30.PNG\">"
   ]
  },
  {
   "cell_type": "markdown",
   "id": "e65b3087",
   "metadata": {},
   "source": [
    "### Sort, Limit, Skip in sharded clusters"
   ]
  },
  {
   "cell_type": "raw",
   "id": "35daa3d8",
   "metadata": {},
   "source": [
    "# sort() - The mongos pushes the sort to each shard and merge-sorts the results\n",
    "# limit() - The mongos passes the limit to each targeted shard, then re-applies the limit to the merged set of results\n",
    "# skip() - The mongos performs the skip against the merged set of results \n",
    "# we describe how limit() and skip() are handled in a sharded cluster. When used in conjunction with a limit(), the mongos\n",
    "  will pass the limit plus the value of the skip() to the shards to ensure a sufficient number of documents are returned to\n",
    "  the mongos to apply the final limit() and skip() successfully."
   ]
  },
  {
   "cell_type": "markdown",
   "id": "a09aebf3",
   "metadata": {},
   "source": [
    "# Targeted Queries vs Scatter Gather"
   ]
  },
  {
   "cell_type": "raw",
   "id": "f5d13184",
   "metadata": {},
   "source": [
    "A find() query where the predicate matches the shard key, and the query can be targeted:"
   ]
  },
  {
   "cell_type": "code",
   "execution_count": null,
   "id": "dfbce4cd",
   "metadata": {},
   "outputs": [],
   "source": [
    "db.products.find( { \"sku\": 20009151 } )"
   ]
  },
  {
   "cell_type": "raw",
   "id": "04b3042e",
   "metadata": {},
   "source": [
    "A find() query where the predicate does not match the shard key, and the query is scatter gather:"
   ]
  },
  {
   "cell_type": "code",
   "execution_count": null,
   "id": "aad5320d",
   "metadata": {},
   "outputs": [],
   "source": [
    "db.products.find( { \"type\": \"movie\" } )"
   ]
  },
  {
   "cell_type": "raw",
   "id": "aca142f9",
   "metadata": {},
   "source": [
    "Example of a compound shard key:"
   ]
  },
  {
   "cell_type": "raw",
   "id": "ea4e850f",
   "metadata": {},
   "source": [
    "{ \"sku\": 1, \"type\": 1, \"name\": 1 }"
   ]
  },
  {
   "cell_type": "raw",
   "id": "ce23fbbd",
   "metadata": {},
   "source": [
    "Examples of queries that would be targeted with the compound shard key:"
   ]
  },
  {
   "cell_type": "code",
   "execution_count": null,
   "id": "1dfdb019",
   "metadata": {},
   "outputs": [],
   "source": [
    "# one thing to emphasize, if you're using a compound index as your \n",
    "# shard key, then you can specify each prefix up to the entire shard key and still get a targeted query.\n",
    "db.products.find( { \"sku\": ... } )\n",
    "db.products.find( { \"sku\": ... , \"type\": ... } )\n",
    "db.products.find( { \"sku\": ... , \"type\": ... , \"name\": ... } )"
   ]
  },
  {
   "cell_type": "raw",
   "id": "e62f4084",
   "metadata": {},
   "source": [
    "Examples of queries that would be scatter-gather with the compound shard key:"
   ]
  },
  {
   "cell_type": "code",
   "execution_count": null,
   "id": "551c3d36",
   "metadata": {},
   "outputs": [],
   "source": [
    "db.products.find( { \"type\": ... } )\n",
    "db.products.find( { \"name\": ... } )"
   ]
  },
  {
   "cell_type": "markdown",
   "id": "4e9ded13",
   "metadata": {},
   "source": [
    "---"
   ]
  },
  {
   "cell_type": "raw",
   "id": "0357e0d6",
   "metadata": {},
   "source": [
    "# Targeted queries require the shard key in the query\n",
    "# Ranged queries on the shard key may still require targeting every shard in the cluster\n",
    "# Without the shard key, the mongos must perform a scatter-gather query "
   ]
  },
  {
   "cell_type": "raw",
   "id": "86599f92",
   "metadata": {},
   "source": [
    "Show collections in the m103 database:"
   ]
  },
  {
   "cell_type": "code",
   "execution_count": null,
   "id": "718dfa43",
   "metadata": {},
   "outputs": [],
   "source": [
    "use m103\n",
    "show collections"
   ]
  },
  {
   "cell_type": "raw",
   "id": "d4c15137",
   "metadata": {},
   "source": [
    "Targeted query with explain() output:"
   ]
  },
  {
   "cell_type": "code",
   "execution_count": null,
   "id": "019feeb9",
   "metadata": {},
   "outputs": [],
   "source": [
    "# 跟下面得到一樣的結果，但是上面這個 query 快很多\n",
    "db.products.find({\"sku\" : 1000000749 }).explain()"
   ]
  },
  {
   "cell_type": "raw",
   "id": "7b93d043",
   "metadata": {},
   "source": [
    "Scatter gather query with explain() output:"
   ]
  },
  {
   "cell_type": "code",
   "execution_count": null,
   "id": "72d693f5",
   "metadata": {},
   "outputs": [],
   "source": [
    "db.products.find( {\n",
    "  \"name\" : \"Gods And Heroes: Rome Rising - Windows [Digital Download]\" }\n",
    ").explain()"
   ]
  }
 ],
 "metadata": {
  "kernelspec": {
   "display_name": "Python 3",
   "language": "python",
   "name": "python3"
  },
  "language_info": {
   "codemirror_mode": {
    "name": "ipython",
    "version": 3
   },
   "file_extension": ".py",
   "mimetype": "text/x-python",
   "name": "python",
   "nbconvert_exporter": "python",
   "pygments_lexer": "ipython3",
   "version": "3.8.10"
  }
 },
 "nbformat": 4,
 "nbformat_minor": 5
}
