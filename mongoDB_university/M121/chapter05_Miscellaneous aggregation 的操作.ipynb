{
 "cells": [
  {
   "cell_type": "markdown",
   "id": "fbdca43c",
   "metadata": {},
   "source": [
    "# $redact 的操作"
   ]
  },
  {
   "cell_type": "code",
   "execution_count": null,
   "id": "f501af6c",
   "metadata": {},
   "outputs": [],
   "source": [
    "# creating a variable to refer against\n",
    "var userAccess = \"Management\"\n",
    "\n",
    "# comparing whether the value/s in the userAccess variable are in the array\n",
    "# referenced by the $acl field path\n",
    "db.employees.aggregate([\n",
    "    {\n",
    "        $redact: {\n",
    "            $cond: [{ $in: [ userAccess, \"$acl\"] }, \"$$DESCEND\", \"$$PRUNE\"]\n",
    "        }\n",
    "    }\n",
    "]).pretty()"
   ]
  },
  {
   "cell_type": "markdown",
   "id": "cfc28f5b",
   "metadata": {},
   "source": [
    "# $out (aggregation) 的操作"
   ]
  },
  {
   "cell_type": "raw",
   "id": "f00f5e9a",
   "metadata": {},
   "source": [
    "Takes the documents returned by the aggregation pipeline and writes them to a specified collection. Starting in MongoDB 4.4, you can specify the output database.\n",
    "\n",
    "The $out stage must be the last stage in the pipeline. The $out operator lets the aggregation framework return result sets of any size."
   ]
  },
  {
   "cell_type": "raw",
   "id": "2b149c1f",
   "metadata": {},
   "source": [
    "The $out stage has the following syntax:"
   ]
  },
  {
   "cell_type": "raw",
   "id": "b1a96baa",
   "metadata": {},
   "source": [
    "{ $out: { db: \"<output-db>\", coll: \"<output-collection>\" } }"
   ]
  },
  {
   "cell_type": "raw",
   "id": "5249b031",
   "metadata": {},
   "source": [
    "# The $out stage must be the last stage in the pipeline. "
   ]
  },
  {
   "cell_type": "markdown",
   "id": "177f685b",
   "metadata": {},
   "source": [
    "# $merge (aggregation) 的操作"
   ]
  },
  {
   "cell_type": "raw",
   "id": "6151a27d",
   "metadata": {},
   "source": [
    "Writes the results of the aggregation pipeline to a specified collection. The $merge operator must be the last stage in the pipeline."
   ]
  },
  {
   "cell_type": "raw",
   "id": "61cf160c",
   "metadata": {},
   "source": [
    "1. Can output to a collection in the same or different database.\n",
    "2. Creates a new collection if the output collection does not already exist.\n",
    "3. Can incorporate results (insert new documents, merge documents, replace documents, keep existing documents, fail the \n",
    "   operation, process documents with a custom update pipeline) into an existing collection.\n",
    "4. Can output to a sharded collection. Input collection can also be sharded."
   ]
  },
  {
   "cell_type": "raw",
   "id": "d8a9496a",
   "metadata": {},
   "source": [
    "$merge has the following syntax:"
   ]
  },
  {
   "cell_type": "raw",
   "id": "e3f22079",
   "metadata": {},
   "source": [
    "{ $merge: {\n",
    "     into: <collection> -or- { db: <db>, coll: <collection> },\n",
    "     on: <identifier field> -or- [ <identifier field1>, ...],     // Optional\n",
    "     let: <variables>,                                            // Optional\n",
    "     whenMatched: <replace|keepExisting|merge(d)|fail|pipeline>,  // Optional\n",
    "     whenNotMatched: <insert(d)|discard|fail>                     // Optional\n",
    "} }"
   ]
  },
  {
   "cell_type": "markdown",
   "id": "209a6bcd",
   "metadata": {},
   "source": [
    "### 範例01"
   ]
  },
  {
   "cell_type": "raw",
   "id": "b5298826",
   "metadata": {},
   "source": [
    "Imcoming:\n",
    "\n",
    "{\n",
    "    _id: \"37\",\n",
    "    total: 64,\n",
    "    f1: \"x\"\n",
    "}\n",
    "\n",
    "Target:\n",
    "    \n",
    "{\n",
    "    _id: \"37\",\n",
    "    total: 245,\n",
    "    f1: \"yyy\"\n",
    "}"
   ]
  },
  {
   "cell_type": "code",
   "execution_count": null,
   "id": "1b8ae2ac",
   "metadata": {},
   "outputs": [],
   "source": [
    "{\n",
    "    $merge: {\n",
    "        into: <target>,\n",
    "        whenMathed: [\n",
    "            {\n",
    "                $set: {\n",
    "                    total: { $sum: [ \"$total\", \"$$new.total\" ]}\n",
    "                }\n",
    "            }\n",
    "        ]\n",
    "        \n",
    "    }\n",
    "}"
   ]
  },
  {
   "cell_type": "code",
   "execution_count": null,
   "id": "27f56cc0",
   "metadata": {},
   "outputs": [],
   "source": [
    "# on 如果沒有寫，用 _id 作 merge\n",
    "Result:\n",
    "{\n",
    "    _id: \"37\",\n",
    "    total: 309,\n",
    "    f1: \"yyy\"\n",
    "}"
   ]
  },
  {
   "cell_type": "markdown",
   "id": "7604cc80",
   "metadata": {},
   "source": [
    "### 範例02"
   ]
  },
  {
   "cell_type": "raw",
   "id": "e613f12f",
   "metadata": {},
   "source": [
    "Imcoming:\n",
    "\n",
    "{\n",
    "    _id: \"37\",\n",
    "    total: 64,\n",
    "    f1: \"x\"\n",
    "}\n",
    "\n",
    "Target:\n",
    "    \n",
    "{\n",
    "    _id: \"37\",\n",
    "    total: 245,\n",
    "    f1: \"yyy\"\n",
    "}"
   ]
  },
  {
   "cell_type": "code",
   "execution_count": null,
   "id": "7c9cf6d7",
   "metadata": {},
   "outputs": [],
   "source": [
    "{\n",
    "    $merge: {\n",
    "        into: <target>,\n",
    "        whenMatched: [\n",
    "            {\n",
    "                $replaceWith: {\n",
    "                    $mergeObjects: [ \"$$new\", { total: { $sum: [ \"$$new.total\", \"$total\" ]}}]\n",
    "                }\n",
    "            }\n",
    "        ]\n",
    "    }\n",
    "}"
   ]
  },
  {
   "cell_type": "code",
   "execution_count": null,
   "id": "57d0de94",
   "metadata": {},
   "outputs": [],
   "source": [
    "Result:\n",
    "{\n",
    "    _id: \"37\",\n",
    "    total: 309,\n",
    "    f1: \"x\"\n",
    "}"
   ]
  },
  {
   "cell_type": "markdown",
   "id": "1b7d9c7e",
   "metadata": {},
   "source": [
    "### 範例03"
   ]
  },
  {
   "cell_type": "raw",
   "id": "4ab016de",
   "metadata": {},
   "source": [
    "# 下面兩種程式寫法是同樣的效果\n",
    "# $total 是 (target) $$new 是 (incoming) "
   ]
  },
  {
   "cell_type": "code",
   "execution_count": null,
   "id": "98c7993f",
   "metadata": {},
   "outputs": [],
   "source": [
    "{\n",
    "    $merge: {\n",
    "        into: <target>,\n",
    "        whenMathed: [\n",
    "            {\n",
    "                $set: {\n",
    "                    total: { $sum: [ \"$total\", \"$$new.total\" ]}\n",
    "                }\n",
    "            }\n",
    "        ]\n",
    "        \n",
    "    }\n",
    "}"
   ]
  },
  {
   "cell_type": "code",
   "execution_count": null,
   "id": "750e7af3",
   "metadata": {},
   "outputs": [],
   "source": [
    "{\n",
    "    $merge: {\n",
    "        into: <target>,\n",
    "        let: { itotal: \"$total\" }\n",
    "        whenMathed: [\n",
    "            {\n",
    "                $set: {\n",
    "                    total: { $sum: [ \"$total\", \"$$itotal\" ]}\n",
    "                }\n",
    "            }\n",
    "        ]\n",
    "        \n",
    "    }\n",
    "}"
   ]
  },
  {
   "cell_type": "markdown",
   "id": "67bf2a94",
   "metadata": {},
   "source": [
    "### 範例04"
   ]
  },
  {
   "cell_type": "raw",
   "id": "49adcb81",
   "metadata": {},
   "source": [
    "# Using $merge for Single View "
   ]
  },
  {
   "cell_type": "raw",
   "id": "2a5794a1",
   "metadata": {},
   "source": [
    "sv.users: \n",
    "{\n",
    "    _id: \"user253\",\n",
    "    dob: ISODate(...),\n",
    "    f1: \"yyy\"\n",
    "}"
   ]
  },
  {
   "cell_type": "raw",
   "id": "ab15951f",
   "metadata": {},
   "source": [
    "$merge updates fields from mflix.users collection into sv.users collection. \n",
    "Our \"_id\" field is unique username\n",
    "\n",
    "mflix_pipeline = [\n",
    "    {\n",
    "        $project: {\n",
    "            \"_id\": \"$username\",\n",
    "            \"mflix\": \"$$ROOT\"\n",
    "        }\n",
    "    },\n",
    "    {\n",
    "        $merge: {\n",
    "            into: { db: \"sv\", collection: \"users\" },\n",
    "            whenNotMatched: \"discard\"\n",
    "        }\n",
    "    }\n",
    "]\n",
    "\n",
    "(in mflix) db.users.aggregate(mflix_pipeline)"
   ]
  },
  {
   "cell_type": "raw",
   "id": "173f0895",
   "metadata": {},
   "source": [
    "sv.users: \n",
    "{\n",
    "    _id: \"user253\",\n",
    "    dob: ISODate(...),\n",
    "    f1: \"yyy\",\n",
    "    mflix: {...}\n",
    "}"
   ]
  },
  {
   "cell_type": "raw",
   "id": "e8d12c27",
   "metadata": {},
   "source": [
    "$merge updates fields from mfriendbook.users collection into sv.users collection. \n",
    "Our \"_id\" field is unique username\n",
    "\n",
    "mfriendbook_pipeline = [\n",
    "    {\n",
    "        $project: {\n",
    "            \"_id\": \"$username\",\n",
    "            \"mfriendbook\": \"$$ROOT\"\n",
    "        }\n",
    "    },\n",
    "    {\n",
    "        $merge: {\n",
    "            into: { db: \"sv\", collection: \"users\" },\n",
    "            whenNotMatched: \"discard\"\n",
    "        }\n",
    "    }\n",
    "]\n",
    "\n",
    "(in mfriendbook) db.users.aggregate(mfriendbook_pipeline)"
   ]
  },
  {
   "cell_type": "raw",
   "id": "fbead160",
   "metadata": {},
   "source": [
    "sv.users: \n",
    "{\n",
    "    _id: \"user253\",\n",
    "    dob: ISODate(...),\n",
    "    f1: \"yyy\",\n",
    "    mflix: {...},\n",
    "    mfriendbook: {...}\n",
    "}"
   ]
  },
  {
   "cell_type": "markdown",
   "id": "a0b469a3",
   "metadata": {},
   "source": [
    "### 範例05"
   ]
  },
  {
   "cell_type": "raw",
   "id": "444142c8",
   "metadata": {},
   "source": [
    "Using $merge for a temporary collection"
   ]
  },
  {
   "cell_type": "raw",
   "id": "c096f626",
   "metadata": {},
   "source": [
    "# aggregate \"temp\" and append valid records to \"data\"\n",
    "# data 中如果已經有了，就失敗，沒有就 insert 進去。\n",
    "db.temp.aggregate([\n",
    "    { ... } /* pipeline to massage and cleanse data in temp */\n",
    "    {\n",
    "        $merge: {\n",
    "            into: \"data\",\n",
    "            whenMatched: fail\n",
    "        }\n",
    "    }\n",
    "])"
   ]
  },
  {
   "cell_type": "markdown",
   "id": "e9e7fc4e",
   "metadata": {},
   "source": [
    "### 範例06"
   ]
  },
  {
   "cell_type": "raw",
   "id": "acb5f0f6",
   "metadata": {},
   "source": [
    "Using $merge for Rollups"
   ]
  },
  {
   "cell_type": "markdown",
   "id": "72a54a13",
   "metadata": {},
   "source": [
    "# Views 的操作"
   ]
  },
  {
   "cell_type": "raw",
   "id": "8188cfff",
   "metadata": {},
   "source": [
    "To create or define a view:"
   ]
  },
  {
   "cell_type": "raw",
   "id": "7db8f970",
   "metadata": {},
   "source": [
    "1. Use the db.createCollection() method or the create command:\n",
    "    \n",
    "db.createCollection(\n",
    "  \"<viewName>\",\n",
    "  {\n",
    "    \"viewOn\" : \"<source>\",\n",
    "    \"pipeline\" : [<pipeline>],\n",
    "    \"collation\" : { <collation> }\n",
    "  }\n",
    ")"
   ]
  },
  {
   "cell_type": "raw",
   "id": "32ca3af9",
   "metadata": {},
   "source": [
    "2. Use the db.createView() method:\n",
    "    \n",
    "db.createView(\n",
    "  \"<viewName>\",\n",
    "  \"<source>\",\n",
    "  [<pipeline>],\n",
    "  {\n",
    "    \"collation\" : { <collation> }\n",
    "  }\n",
    ")"
   ]
  },
  {
   "cell_type": "code",
   "execution_count": null,
   "id": "ce98f5f7",
   "metadata": {},
   "outputs": [],
   "source": [
    "# this is the command we used to create the bronze_banking view in the database\n",
    "# identical commands were used to create the silver and gold views, the only\n",
    "# change was in the $match stage\n",
    "db.createView(\"bronze_banking\", \"customers\", [\n",
    "    {\n",
    "        $match: {\n",
    "            accountType: \"bronze\"\n",
    "        }\n",
    "\n",
    "    },\n",
    "    {\n",
    "        $project: {\n",
    "            _id: 0,\n",
    "            name: {\n",
    "                $concat: [\n",
    "                    { $cond: [ { $eq: [ \"$gender\", \"female\" ] }, \"Miss\", \"Mr.\"] },\n",
    "                    \" \",\n",
    "                    \"$name.first\",\n",
    "                    \" \",\n",
    "                    \"$name.last\"\n",
    "                ]\n",
    "            },\n",
    "            phone: 1,\n",
    "            email: 1,\n",
    "            address: 1,\n",
    "            account_ending: { $sbustr: [ \"$accountNumber\", 7, -1 ]}\n",
    "\n",
    "        }\n",
    "    }\n",
    "])"
   ]
  },
  {
   "cell_type": "code",
   "execution_count": null,
   "id": "97fb94f2",
   "metadata": {},
   "outputs": [],
   "source": [
    "# getting all collections in a database and seeing their information\n",
    "db.getCollectionInfos()"
   ]
  },
  {
   "cell_type": "code",
   "execution_count": null,
   "id": "a60902dc",
   "metadata": {},
   "outputs": [],
   "source": [
    "# getting information on views only\n",
    "db.system.views.find()"
   ]
  },
  {
   "cell_type": "code",
   "execution_count": null,
   "id": "7ca1005e",
   "metadata": {},
   "outputs": [],
   "source": [
    "db.bronze_banking.findOne()"
   ]
  }
 ],
 "metadata": {
  "kernelspec": {
   "display_name": "Python 3",
   "language": "python",
   "name": "python3"
  },
  "language_info": {
   "codemirror_mode": {
    "name": "ipython",
    "version": 3
   },
   "file_extension": ".py",
   "mimetype": "text/x-python",
   "name": "python",
   "nbconvert_exporter": "python",
   "pygments_lexer": "ipython3",
   "version": "3.8.10"
  }
 },
 "nbformat": 4,
 "nbformat_minor": 5
}
