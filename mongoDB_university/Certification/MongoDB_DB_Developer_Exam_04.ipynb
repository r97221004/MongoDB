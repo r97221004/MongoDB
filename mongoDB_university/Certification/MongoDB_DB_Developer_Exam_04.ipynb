{
 "cells": [
  {
   "cell_type": "markdown",
   "id": "19d164bd",
   "metadata": {},
   "source": [
    "# Data Modeling"
   ]
  },
  {
   "cell_type": "markdown",
   "id": "cedec119",
   "metadata": {},
   "source": [
    "### 問題01"
   ]
  },
  {
   "cell_type": "raw",
   "id": "65c2395f",
   "metadata": {},
   "source": [
    "Which of the following are good reasons to denormalize and create copies of your data in different collections? Check all that apply."
   ]
  },
  {
   "cell_type": "raw",
   "id": "a603b969",
   "metadata": {},
   "source": [
    "(O)1. When you want to optimize for your most common read use cases.\n",
    "(X)2. There is never a good reason to denormalize.\n",
    "(O)3 To avoid having to join data in the application layer."
   ]
  },
  {
   "cell_type": "raw",
   "id": "06857c2b",
   "metadata": {},
   "source": [
    "Detailed Answer\n",
    "\n",
    "If one of the main queries of the system is pulling related information from different collections, it usually gives better performance to group those information in a single document.\n",
    "\n",
    "Keeping the information together will remove the need to do the corresponding joins in the application. The single document may also be a better match to the representation of that object in the application.\n",
    "\n",
    "If you use MongoDB with a direct mapping of each collection to a table in the Relational model, you are not making use of some benefits brought by the document model. So, yes using a denormalized model is encouraged.\n",
    "\n",
    "As for duplicating information in different collections (think of an address in an order for example), this is perfectly acceptable if you need to do it to get good performance.\n",
    "\n",
    "To learn more, visit the following MongoDB Documentation page:"
   ]
  },
  {
   "cell_type": "markdown",
   "id": "4e255e53",
   "metadata": {},
   "source": [
    "# Indexes and Performance"
   ]
  },
  {
   "cell_type": "markdown",
   "id": "76c125a0",
   "metadata": {},
   "source": [
    "### 問題03"
   ]
  },
  {
   "cell_type": "raw",
   "id": "56738002",
   "metadata": {},
   "source": [
    "After adding a new consumer service, you begin to receive reports of poor query performance. You suspect disk latency may be a cause. Which tool can you use to confirm or rule out your suspicion?"
   ]
  },
  {
   "cell_type": "raw",
   "id": "a8190f26",
   "metadata": {},
   "source": [
    "(O)3. mongotop"
   ]
  },
  {
   "cell_type": "raw",
   "id": "15a0b3dd",
   "metadata": {},
   "source": [
    "Detailed Answer\n",
    "\n",
    "The most correct tool for this job is mongotop"
   ]
  }
 ],
 "metadata": {
  "kernelspec": {
   "display_name": "Python 3",
   "language": "python",
   "name": "python3"
  },
  "language_info": {
   "codemirror_mode": {
    "name": "ipython",
    "version": 3
   },
   "file_extension": ".py",
   "mimetype": "text/x-python",
   "name": "python",
   "nbconvert_exporter": "python",
   "pygments_lexer": "ipython3",
   "version": "3.8.10"
  }
 },
 "nbformat": 4,
 "nbformat_minor": 5
}
