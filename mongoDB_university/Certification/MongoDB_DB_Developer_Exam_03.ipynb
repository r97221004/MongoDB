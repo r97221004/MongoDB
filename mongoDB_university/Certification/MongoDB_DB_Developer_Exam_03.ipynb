{
 "cells": [
  {
   "cell_type": "markdown",
   "id": "d32cc287",
   "metadata": {},
   "source": [
    "# Indexes and Performance"
   ]
  },
  {
   "cell_type": "markdown",
   "id": "8a0fddc1",
   "metadata": {},
   "source": [
    "### 問題02"
   ]
  },
  {
   "cell_type": "raw",
   "id": "136cc013",
   "metadata": {},
   "source": [
    "What setting can be specified to disable journaling for replica set members using the WiredTiger storage engine?"
   ]
  },
  {
   "cell_type": "raw",
   "id": "c42da812",
   "metadata": {},
   "source": [
    "(O)4. Journaling cannot be disabled for replica set members"
   ]
  },
  {
   "cell_type": "raw",
   "id": "a769e3cf",
   "metadata": {},
   "source": [
    "Detailed Answer\n",
    "\n",
    "As of MongoDB 4.0, journaling cannot be disabled for replica set members."
   ]
  }
 ],
 "metadata": {
  "kernelspec": {
   "display_name": "Python 3",
   "language": "python",
   "name": "python3"
  },
  "language_info": {
   "codemirror_mode": {
    "name": "ipython",
    "version": 3
   },
   "file_extension": ".py",
   "mimetype": "text/x-python",
   "name": "python",
   "nbconvert_exporter": "python",
   "pygments_lexer": "ipython3",
   "version": "3.8.10"
  }
 },
 "nbformat": 4,
 "nbformat_minor": 5
}
