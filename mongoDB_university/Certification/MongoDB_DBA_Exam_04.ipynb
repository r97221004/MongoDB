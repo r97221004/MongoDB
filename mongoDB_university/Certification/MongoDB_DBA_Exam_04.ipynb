{
 "cells": [
  {
   "cell_type": "markdown",
   "id": "5651e8a4",
   "metadata": {},
   "source": [
    "# Indexes"
   ]
  },
  {
   "cell_type": "markdown",
   "id": "f15c2d36",
   "metadata": {},
   "source": [
    "### 問題07"
   ]
  },
  {
   "cell_type": "raw",
   "id": "1e66a12e",
   "metadata": {},
   "source": [
    "You issue the following query against our database:\n",
    "\n",
    "db.inventory.find( { \"qty\": { \"$gte\": 20 } } )\n",
    "\n",
    "Which of the following commands will create an index that will cover the query?"
   ]
  },
  {
   "cell_type": "raw",
   "id": "732a106d",
   "metadata": {},
   "source": [
    "(O)1. db.records.createIndex( { \"qty\": 1 } )\n",
    "(X)2. db.records.createIndex( { \"qty\": $range } )\n",
    "(X)3. db.records.createIndex( { \"qty\": sorted } )"
   ]
  },
  {
   "cell_type": "raw",
   "id": "8886aa5e",
   "metadata": {},
   "source": [
    "Detailed Answer\n",
    "\n",
    "Correct Option\n",
    "\n",
    "# db.records.createIndex( { \"qty\": 1 } )\n",
    "This will create an index on the \"qty\" field, which will cover the range query.\n",
    "\n",
    "Incorrect Options:\n",
    "\n",
    "# db.records.createIndex( { \"qty\": $range } )\n",
    "You cannot specify an aggregation operator when creating an index. The $range operator returns an array whose elements are a generated sequence of numbers.\n",
    "\n",
    "# db.records.createIndex( { \"qty\": sorted } )\n",
    "Sorted is not an option you can pass to an index. Indexes are already sorted, you can specify the direction of the sort using 1 or -1 when creating the index."
   ]
  },
  {
   "cell_type": "markdown",
   "id": "3fa3fbdb",
   "metadata": {},
   "source": [
    "# Server Administration"
   ]
  },
  {
   "cell_type": "raw",
   "id": "72f2234f",
   "metadata": {},
   "source": [
    "Which of the following is true in respect of the command rs.config()\n",
    "\n",
    "(X)1. Lists the nodes of all shard cluster replica sets.\n",
    "(O)2. The command is executed in the context of a replica set\n",
    "(O)3. Lists the set of nodes of a replica set"
   ]
  },
  {
   "cell_type": "raw",
   "id": "8b9fa568",
   "metadata": {},
   "source": [
    "Detailed Answer\n",
    "\n",
    "Correct Options:\n",
    "\n",
    "# Lists the set of nodes of a replica set\n",
    "rs.config() provides the current configuration of the replica set.\n",
    "\n",
    "# The command is executed in the context of a replica set\n",
    "All mongo shell command helpers that start with rs are executed in the context of a replica set cluster.\n",
    "\n",
    "Incorrect Option:\n",
    "\n",
    "# Lists the nodes of all shard cluster replica sets."
   ]
  },
  {
   "cell_type": "markdown",
   "id": "88c9cb8f",
   "metadata": {},
   "source": [
    "# Application Administration"
   ]
  },
  {
   "cell_type": "markdown",
   "id": "47bec466",
   "metadata": {},
   "source": [
    "### 問題01"
   ]
  },
  {
   "cell_type": "markdown",
   "id": "f2fb27b0",
   "metadata": {},
   "source": [
    "Which audit filter will successfully audit data manipulation language (DML) operations?"
   ]
  },
  {
   "cell_type": "raw",
   "id": "a06d52d7",
   "metadata": {},
   "source": [
    "(O)3. {\"atype\": \"authCheck\"}"
   ]
  },
  {
   "cell_type": "raw",
   "id": "7bd69f2b",
   "metadata": {},
   "source": [
    "Detailed Answer\n",
    "\n",
    "{\"atype\": \"authCheck\"}\n",
    "Most DML operations fall under the authCheck action type."
   ]
  },
  {
   "cell_type": "markdown",
   "id": "9fe143ea",
   "metadata": {},
   "source": [
    "### 問題02"
   ]
  },
  {
   "cell_type": "raw",
   "id": "bf297b7f",
   "metadata": {},
   "source": [
    "Consider the following audit filter:\n",
    "\n",
    "--auditFilter '{ \"atype\": { \"$in\": [ \"createCollection\", \"dropCollection\" ] },\n",
    "                 \"param.ns\": \"test.*\"}'\n",
    "                 \n",
    " Which of the following operations must appear in the audit log?           "
   ]
  },
  {
   "cell_type": "raw",
   "id": "b7b56f60",
   "metadata": {},
   "source": [
    "(X)1. use test\n",
    "      db.dropCollection(\"games\")\n",
    "   \n",
    "(O)2. use test\n",
    "      db.createCollection(\"games\")\n",
    "   \n",
    "(X)3. use production\n",
    "      db.createCollection(\"test\")"
   ]
  },
  {
   "cell_type": "markdown",
   "id": "74b737cc",
   "metadata": {},
   "source": [
    "### 問題09"
   ]
  },
  {
   "cell_type": "raw",
   "id": "4ac9473f",
   "metadata": {},
   "source": [
    "You want to create a user that is allowed to administer all the databases in your cluster.\n",
    "\n",
    "Which of the following built-in roles should you grant to the user?"
   ]
  },
  {
   "cell_type": "raw",
   "id": "017c9f0b",
   "metadata": {},
   "source": [
    "(X)1. clusterAdmin\n",
    "(X)2. dbOwner\n",
    "(O)3. dbAdminAnyDatabase\n",
    "(X)4. dbAdmin\n",
    "(X)5. root"
   ]
  },
  {
   "cell_type": "raw",
   "id": "030070ea",
   "metadata": {},
   "source": [
    "Detailed Answer\n",
    "\n",
    "Correct Option:\n",
    "\n",
    "# dbAdminAnyDatabase\n",
    "Following the principle of least privilege (POLP), we should grant the user the role that grants the minimal set of privileges the user needs. In this case, the user will be required to administer any database in the cluster. The role dbAdminAnyDatabase would be the most suited for the task.\n",
    "\n",
    "Incorrect Options:\n",
    "\n",
    "# root\n",
    "This role would not follow POLP and would be granting the user way too many privileges than needed.\n",
    "\n",
    "# clusterAdmin\n",
    "This role does not allow the user to perform database administration tasks.\n",
    "\n",
    "# dbAdmin\n",
    "# dbOwner\n",
    "Both these options allow for database administration, however these are local database roles, and the user is requested to be able to administer any database in the cluster."
   ]
  },
  {
   "cell_type": "markdown",
   "id": "82533ad9",
   "metadata": {},
   "source": [
    "# Replication"
   ]
  },
  {
   "cell_type": "markdown",
   "id": "a5930fe2",
   "metadata": {},
   "source": [
    "### 問題02"
   ]
  },
  {
   "cell_type": "raw",
   "id": "aca1a28b",
   "metadata": {},
   "source": [
    "What do binary and statement-based replication have in common?"
   ]
  },
  {
   "cell_type": "raw",
   "id": "5fb4ae56",
   "metadata": {},
   "source": [
    "(X)1. They are both used in MongoDB.\n",
    "(O)2. They both provide availability in a database server.\n",
    "(X)3. They both work across different operating systems."
   ]
  },
  {
   "cell_type": "raw",
   "id": "6464bb32",
   "metadata": {},
   "source": [
    "Detailed Answer\n",
    "\n",
    "Correct Answer\n",
    "\n",
    "# They both provide availability in a database server.\n",
    "Replicating data provides availability in a database server, because it keeps multiple servers up-to-date and ready to serve database requests.\n",
    "\n",
    "Incorrect Answers\n",
    "\n",
    "# They are both used in MongoDB.\n",
    "MongoDB uses statement-based replication in replica sets. This solution is agnostic of any machine-level dependencies.\n",
    "\n",
    "# They both work across different operating systems.\n",
    "Statement-based replication will work across platforms, because MongoDB commands can be understood by any operating system or software version.\n",
    "\n",
    "Binary replication will not work across different platforms, because it uses binary differences to replicate data, and any change to the platform may affect these binary differences drastically."
   ]
  }
 ],
 "metadata": {
  "kernelspec": {
   "display_name": "Python 3",
   "language": "python",
   "name": "python3"
  },
  "language_info": {
   "codemirror_mode": {
    "name": "ipython",
    "version": 3
   },
   "file_extension": ".py",
   "mimetype": "text/x-python",
   "name": "python",
   "nbconvert_exporter": "python",
   "pygments_lexer": "ipython3",
   "version": "3.8.10"
  }
 },
 "nbformat": 4,
 "nbformat_minor": 5
}
