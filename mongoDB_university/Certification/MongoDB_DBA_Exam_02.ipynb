{
 "cells": [
  {
   "cell_type": "markdown",
   "id": "97511c3b",
   "metadata": {},
   "source": [
    "# Indexes"
   ]
  },
  {
   "cell_type": "markdown",
   "id": "c71f5f65",
   "metadata": {},
   "source": [
    "### 問題04"
   ]
  },
  {
   "cell_type": "raw",
   "id": "8fcf0396",
   "metadata": {},
   "source": [
    "Given a member of a replica set that has a priority 0 and is hidden. For which operations on that member would it be acceptable and useful to have a different set of indexes?"
   ]
  },
  {
   "cell_type": "raw",
   "id": "6e44c701",
   "metadata": {},
   "source": [
    "(O)1. doing text searches\n",
    "(O)2. running analytic queries\n",
    "(X)3. running large batch inserts"
   ]
  },
  {
   "cell_type": "raw",
   "id": "1e1e3f7b",
   "metadata": {},
   "source": [
    "Detailed Answer\n",
    "\n",
    "Correct Options:\n",
    "\n",
    "# running analytic queries\n",
    "\n",
    "Some queries used for analytics may be the only ones with a given set of fields to search on. In that situation, it may make sense to only create the appropriate indexes to support those queries on that hidden secondary member.\n",
    "\n",
    "# doing text searches\n",
    "\n",
    "If those text searches are not performed on the Primary, it may make sense to build the required text indexes only on the isolated members, as those text indexes may be take a lot of space.\n",
    "\n",
    "Correct Options:\n",
    "\n",
    "# running large batch inserts\n",
    "\n",
    "Because we are on a member with a priority of 0 and hidden, we know that this member can not be a Primary, but only a Secondary. For that reason, we can't perform writes on the member."
   ]
  },
  {
   "cell_type": "markdown",
   "id": "80fc03d4",
   "metadata": {},
   "source": [
    "### 問題09"
   ]
  },
  {
   "cell_type": "raw",
   "id": "fb1aeb29",
   "metadata": {},
   "source": [
    "When creating an index on an array field, what type of index is created?"
   ]
  },
  {
   "cell_type": "raw",
   "id": "636a49e0",
   "metadata": {},
   "source": [
    "(X)1. single field index\n",
    "(X)2. geospatial index\n",
    "(X)3. hashed index\n",
    "(X)4. text index\n",
    "(O)5. multikey index"
   ]
  },
  {
   "cell_type": "raw",
   "id": "70ea51c7",
   "metadata": {},
   "source": [
    "Detailed Answer\n",
    "\n",
    "The correct answer is:\n",
    "\n",
    "# multikey index\n",
    "All other answers are incorrect because:\n",
    "\n",
    "# single field index is defined on a single field that is not an array field\n",
    "# geospatial index is used to support efficient queries of geospatial data, using 2d indexes and 2dsphere indexes to return\n",
    "  results\n",
    "# text index is supports searching for string content in a collection\n",
    "# hashed index is created to support hashed based sharding"
   ]
  },
  {
   "cell_type": "markdown",
   "id": "1b7dff54",
   "metadata": {},
   "source": [
    "### 問題11"
   ]
  },
  {
   "cell_type": "raw",
   "id": "061d8f53",
   "metadata": {},
   "source": [
    "Consider the following commands run in the mongo shell:\n",
    "    \n",
    "db.createCollection(\n",
    "  \"signs\",\n",
    "  { \"collation\": { \"locale\": \"fr\" } }\n",
    ")\n",
    "\n",
    "db.signs.createIndex(\n",
    "  { \"sign_text\": 1 },\n",
    "  { \"collation\": { \"locale\": \"es\" } }\n",
    ")\n",
    "\n",
    "db.signs.find(\n",
    "  { \"sign_text\": \"Bonjour Québec\" }\n",
    ").collation( { \"locale\": \"en\" } )   \n",
    "\n",
    "Which of the following statements is true about the final .find() commmand?"
   ]
  },
  {
   "cell_type": "raw",
   "id": "e44e7829",
   "metadata": {},
   "source": [
    "(X)1. mongod will match documents using either the English (\"en\"), French (\"fr\"), or English (\"en\") collation\n",
    "(X)2. mongod will match documents using the French (\"fr\") collation\n",
    "(X)3. mongod will throw an error\n",
    "(X)4. mongod will match documents using the Spanish (\"es\") collation\n",
    "(O)5. mongod will match documents using the English (\"en\") collation"
   ]
  },
  {
   "cell_type": "raw",
   "id": "989e218f",
   "metadata": {},
   "source": [
    "Detailed Answer\n",
    "\n",
    "Correct Option:\n",
    "\n",
    "# mongod will match documents using the English (\"en\") collation.\n",
    "\n",
    "When you specify a collation to use with .find(), that is the collation that the query will use.\n",
    "\n",
    "Incorrect Options:\n",
    "\n",
    "# mongod will match documents using the French (\"fr\") collation.\n",
    "\n",
    "The default collation specified on the collection is \"fr\", as can be seen in the .createCollection() call. If no collation had been specified to .find(), the French collation would have been used.\n",
    "\n",
    "# mongod will match documents using the Spanish (\"es\") collation.\n",
    "\n",
    "An index was created on \"sign_text\" with the Spanish collation. If a query were issued on the \"sign_text\" field using the Spanish collation, this index would be used. Otherwise, this index will not be used.\n",
    "\n",
    "# mongod will match documents using either the English (\"en\"), French (\"fr\"), or English (\"en\") collation.\n",
    "\n",
    "Only one collation can be used by a query.\n",
    "\n",
    "# mongod will throw an error.\n",
    "\n",
    "Although different collations were used in collection creation, index creation, and the .find() command, no errors will be raised. Each of these collations will be used in varying ways as described in the previous explanations."
   ]
  },
  {
   "cell_type": "markdown",
   "id": "333371e9",
   "metadata": {},
   "source": [
    "# Server Administration"
   ]
  },
  {
   "cell_type": "markdown",
   "id": "d9433798",
   "metadata": {},
   "source": [
    "### 問題03"
   ]
  },
  {
   "cell_type": "raw",
   "id": "447e2568",
   "metadata": {},
   "source": [
    "What information does the following command provide?\n",
    "\n",
    "db.runCommand({\n",
    "    rolesInfo: { role: \"dbOwner\", db: \"admin\" },\n",
    "    showPrivileges: true\n",
    "})"
   ]
  },
  {
   "cell_type": "raw",
   "id": "a02474b5",
   "metadata": {},
   "source": [
    "(X)1. List of roles granted that have privileges over the \"admin\" database\n",
    "(O)2. List of privileges dbOwner role grants to users\n",
    "(O)3. Roles that dbOwner role inherits"
   ]
  },
  {
   "cell_type": "raw",
   "id": "a0f04d6b",
   "metadata": {},
   "source": [
    "Detailed Answer\n",
    "\n",
    "Correct Options:\n",
    "\n",
    "# Roles that dbOwner role inherits\n",
    "# List of privileges dbOwner role grants to users\n",
    "\n",
    "The command db.runCommand( { rolesInfo: { role: \"dbOwner\", db: \"admin\" }, showPrivileges: true} ) provides information about roles and privileges the \"dbOwner\" role grants.\n",
    "\n",
    "Incorrect Option\n",
    "\n",
    "# List of roles granted that have privileges over the \"admin\" database"
   ]
  },
  {
   "cell_type": "markdown",
   "id": "1cbb0eb7",
   "metadata": {},
   "source": [
    "### 問題04"
   ]
  },
  {
   "cell_type": "raw",
   "id": "cf98ed9e",
   "metadata": {},
   "source": [
    "Which of the following is true in respect of the command rs.config()"
   ]
  },
  {
   "cell_type": "raw",
   "id": "a21e1c70",
   "metadata": {},
   "source": [
    "(O)1. Lists the set of nodes of a replica set\n",
    "(O)2. The command is executed in the context of a replica set\n",
    "(X)3. Lists the nodes of all shard cluster replica sets"
   ]
  },
  {
   "cell_type": "raw",
   "id": "070bc77f",
   "metadata": {},
   "source": [
    "Detailed Answer\n",
    "\n",
    "Correct Options:\n",
    "\n",
    "# Lists the set of nodes of a replica set\n",
    "rs.config() provides the current configuration of the replica set.\n",
    "\n",
    "# The command is executed in the context of a replica set\n",
    "All mongo shell command helpers that start with rs are executed in the context of a replica set cluster.\n",
    "\n",
    "Incorrect Option:\n",
    "\n",
    "# Lists the nodes of all shard cluster replica sets."
   ]
  },
  {
   "cell_type": "markdown",
   "id": "2c7340cc",
   "metadata": {},
   "source": [
    "### 問題05"
   ]
  },
  {
   "cell_type": "raw",
   "id": "2eac0aad",
   "metadata": {},
   "source": [
    "When facing an issue with your MongoDB server, which of the following items will the MongoDB support team request in order to help you troubleshoot?"
   ]
  },
  {
   "cell_type": "raw",
   "id": "99420567",
   "metadata": {},
   "source": [
    "(X)1. WiredTigerLAS.wt\n",
    "(X)2. journal\n",
    "(O)3. diagnostic.data\n",
    "(X)4. WiredTiger.lock\n",
    "(X)5. storage.bson"
   ]
  },
  {
   "cell_type": "raw",
   "id": "12d13716",
   "metadata": {},
   "source": [
    "Detailed Answer\n",
    "\n",
    "The correct answer is:\n",
    "\n",
    "# diagnostic.data\n",
    "diagnostic.data is a directory rather than a file and contains data for MongoDB support to use, though it is not human readable and shouldn't be modified.\n",
    "\n",
    "The WiredTiger.lock file acts as a safety, which helps prevent a second simultaneous MongoDB process from starting up, when one process is already running. You should not modify it or any other WiredTiger files without the express instruction from MongoDB support or a documented process.\n",
    "\n",
    "storage.bson, journal and meta data for WiredTiger should not be modified and are not the files that the support is looking for in order to help you troubleshoot a MongoDB server issue."
   ]
  },
  {
   "cell_type": "markdown",
   "id": "eed702db",
   "metadata": {},
   "source": [
    "### 問題08"
   ]
  },
  {
   "cell_type": "raw",
   "id": "3f941a0d",
   "metadata": {},
   "source": [
    "Consider the following command:\n",
    "    \n",
    "$ mongod --enableEncryption --kmipServerName localhost --kmipServerCAFile ca.pem --kmipClientCertificateFile client.pem\n",
    "\n",
    "This command enables:"
   ]
  },
  {
   "cell_type": "raw",
   "id": "f5f903b1",
   "metadata": {},
   "source": [
    "(O)1. storage encryption\n",
    "(O)2. the use of the KMIP server that is running on the local machine\n",
    "(X)3. starting the KMIP server"
   ]
  },
  {
   "cell_type": "raw",
   "id": "76ce4f29",
   "metadata": {},
   "source": [
    "Detailed Answer\n",
    "\n",
    "Correct Answers:\n",
    "\n",
    "# the use of the KMIP server that is running on the local machine\n",
    "The --kmipServerName points to the mongod process to a currently running KMIP server, which in this case is running locally, hence the name used is localhost\n",
    "\n",
    "# storage encryption\n",
    "The --enableEncryption option turns on storage encryption for a mongod process.\n",
    "\n",
    "Incorrect Answers:\n",
    "\n",
    "# starting the KMIP server\n",
    "The KMIP server is a separate program that a mongod process can connect to, but not start, hence this answer is incorrect."
   ]
  },
  {
   "cell_type": "markdown",
   "id": "02231b44",
   "metadata": {},
   "source": [
    "# Application Administration"
   ]
  },
  {
   "cell_type": "markdown",
   "id": "a9483a30",
   "metadata": {},
   "source": [
    "### 問題01"
   ]
  },
  {
   "cell_type": "raw",
   "id": "3e4f835e",
   "metadata": {},
   "source": [
    "What is the correct audit filter document that will enable logging any time a collection in a database is created or dropped?"
   ]
  },
  {
   "cell_type": "raw",
   "id": "3a798ad8",
   "metadata": {},
   "source": [
    "(O)4.{\"atype\": { \"$in\": [ \"createCollection\", \"dropCollection\" ]}}"
   ]
  },
  {
   "cell_type": "raw",
   "id": "7f034d1c",
   "metadata": {},
   "source": [
    "Detailed Answer\n",
    "\n",
    "Correct Answer:\n",
    "\n",
    "# {\"atype\": { \"$in\": [ \"createCollection\", \"dropCollection\" ]}}\n",
    "When creating an audit filter by action type, you have to use the \"atype\" field using the \"$in\" operator to list the multiple operations that you are looking to audit.\n",
    "\n",
    "All other answers have incorrect syntax for this operation."
   ]
  },
  {
   "cell_type": "markdown",
   "id": "3980ef2f",
   "metadata": {},
   "source": [
    "### 問題02"
   ]
  },
  {
   "cell_type": "raw",
   "id": "952cb91e",
   "metadata": {},
   "source": [
    "Which audit filter will successfully audit data manipulation language (DML) operations?"
   ]
  },
  {
   "cell_type": "raw",
   "id": "7e48f161",
   "metadata": {},
   "source": [
    "(X)1. {\"atype\": {\"$in\": [\"read\", \"write\" ]}}\n",
    "(X)2. {\"atype\": \"crud\"}\n",
    "(X)3. {\"atype\": \"dml\"}\n",
    "(O)4. {\"atype\": \"authCheck\"}\n",
    "(X)5. {\"atype\": {\"$in\":[\"update\", \"delete\", \"read\"]}}"
   ]
  },
  {
   "cell_type": "raw",
   "id": "cb9df456",
   "metadata": {},
   "source": [
    "Detailed Answer\n",
    "\n",
    "Correct Answer:\n",
    "\n",
    "# {\"atype\": \"authCheck\"}\n",
    "Most DML operations fall under the authCheck action type.\n",
    "\n",
    "Incorrect Answers:\n",
    "\n",
    "None of the following are valid action types.\n",
    "\n",
    "# {\"atype\": \"dml\"}\n",
    "# {\"atype\": \"crud\"}\n",
    "# {\"atype\": {\"$in\": [\"read\", \"write\" ]}}\n",
    "# {\"atype\": {\"$in\":[\"update\", \"delete\", \"read\"]}}"
   ]
  },
  {
   "cell_type": "code",
   "execution_count": null,
   "id": "a122a4ad",
   "metadata": {},
   "outputs": [],
   "source": []
  }
 ],
 "metadata": {
  "kernelspec": {
   "display_name": "Python 3",
   "language": "python",
   "name": "python3"
  },
  "language_info": {
   "codemirror_mode": {
    "name": "ipython",
    "version": 3
   },
   "file_extension": ".py",
   "mimetype": "text/x-python",
   "name": "python",
   "nbconvert_exporter": "python",
   "pygments_lexer": "ipython3",
   "version": "3.8.10"
  }
 },
 "nbformat": 4,
 "nbformat_minor": 5
}
