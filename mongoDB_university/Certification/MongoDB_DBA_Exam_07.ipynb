{
 "cells": [
  {
   "cell_type": "markdown",
   "id": "1972f108",
   "metadata": {},
   "source": [
    "# Server Administration"
   ]
  },
  {
   "cell_type": "markdown",
   "id": "74ed1504",
   "metadata": {},
   "source": [
    "### 問題5"
   ]
  },
  {
   "cell_type": "raw",
   "id": "4d4426f1",
   "metadata": {},
   "source": [
    "What is the size limit of a journal file?"
   ]
  },
  {
   "cell_type": "raw",
   "id": "4f4b8e50",
   "metadata": {},
   "source": [
    "(O)1. 100MB\n",
    "(X)2. there is no limit\n",
    "(X)3. 1GB"
   ]
  },
  {
   "cell_type": "raw",
   "id": "593df759",
   "metadata": {},
   "source": [
    "Detailed Answer\n",
    "\n",
    "The correct answer is:\n",
    "\n",
    "# 100MB\n",
    "Each journal file has a maximum size of 100MB, after which a new file is created. When a new journal file is created, WiredTiger syncs the previous journal file."
   ]
  },
  {
   "cell_type": "markdown",
   "id": "99f1aaf9",
   "metadata": {},
   "source": [
    "# Application Administration"
   ]
  },
  {
   "cell_type": "markdown",
   "id": "a11c9016",
   "metadata": {},
   "source": [
    "### 問題3"
   ]
  },
  {
   "cell_type": "raw",
   "id": "b679613a",
   "metadata": {},
   "source": [
    "When configuring a new replica set to use keyfile authentication, which of the following applies?"
   ]
  },
  {
   "cell_type": "raw",
   "id": "3622cd71",
   "metadata": {},
   "source": [
    "(X)1. The hostname in the keyfile for each node must match the hostname for the host it is running on.\n",
    "(O)2. After you have started the first member with keyfile authentication enabled, you must create the first user via the\n",
    "   localhost exception.\n",
    "(O)3. The same keyfile needs to be configured on each member"
   ]
  },
  {
   "cell_type": "raw",
   "id": "b9220a93",
   "metadata": {},
   "source": [
    "Detailed Answer\n",
    "\n",
    "Correct answers\n",
    "\n",
    "# After you have started the first member with keyfile authentication enabled, you must create the first user via the\n",
    "  localhost exception.\n",
    "\n",
    "This is true as when you enable keyfile authentication, client authentication is enabled by default.\n",
    "You must create identical keyfiles for each member.\n",
    "\n",
    "# Each keyfile for each node must match. \n",
    "If not, communication between nodes will fail due to authentication errors.\n",
    "\n",
    "Incorrect answers\n",
    "\n",
    "# The hostname in the keyfile for each node must match the hostname for the host it is running on.\n",
    "Keyfiles do not use hostnames as a means of verifying where a connection is coming from. X.509 authentication does."
   ]
  },
  {
   "cell_type": "markdown",
   "id": "2bc7b9f0",
   "metadata": {},
   "source": [
    "### 問題07"
   ]
  },
  {
   "cell_type": "raw",
   "id": "d7a1a46f",
   "metadata": {},
   "source": [
    "Consider the following custom role:\n",
    "\n",
    "db.getRole('readWriteAndDbAdmin')\n",
    "{\n",
    "  \"role\": \"readWriteAndDbAdmin\",\n",
    "  \"db\": \"products\",\n",
    "  \"isBuiltin\": false,\n",
    "  \"roles\": [\n",
    "    {\n",
    "      \"role\": \"readWrite\",\n",
    "      \"db\": \"products\"\n",
    "    }\n",
    "  ],\n",
    "  \"inheritedRoles\": [\n",
    "    {\n",
    "      \"role\": \"readWrite\",\n",
    "      \"db\": \"products\"\n",
    "    }\n",
    "  ]\n",
    "}\n",
    "\n",
    "You are requested to grant new set of privileges to this role, so you run the following command:\n",
    "\n",
    "db.grantRolesToRole(\n",
    "  \"readWriteAndDbAdmin\",\n",
    "  [ { \"role\": \"dbAdmin\", \"db\": \"products\" } ]\n",
    ")\n",
    "\n",
    "To check that the role now contains the expected privileges, you run this command:\n",
    "\n",
    "\n",
    "db.getRole(\"readWriteAndDbAdmin\")\n",
    "\n",
    "What would be the expected output of this command ?"
   ]
  },
  {
   "cell_type": "raw",
   "id": "a6da821f",
   "metadata": {},
   "source": [
    "Detailed Answer\n",
    "\n",
    "After running all of the commands, the output of the getRole() command will be the following:\n",
    "\n",
    "{\n",
    "  \"role\": \"readWriteAndDbAdmin\",\n",
    "  \"db\": \"products\",\n",
    "  \"isBuiltin\": false,\n",
    "  \"roles\": [\n",
    "    {\n",
    "      \"role\": \"readWrite\",\n",
    "      \"db\": \"products\"\n",
    "    },\n",
    "    {\n",
    "      \"role\": \"dbAdmin\",\n",
    "      \"db\": \"products\"\n",
    "    }\n",
    "  ],\n",
    "  \"inheritedRoles\": [\n",
    "    {\n",
    "      \"role\": \"dbAdmin\",\n",
    "      \"db\": \"products\"\n",
    "    },\n",
    "    {\n",
    "      \"role\": \"readWrite\",\n",
    "      \"db\": \"products\"\n",
    "    }\n",
    "  ]\n",
    "}"
   ]
  }
 ],
 "metadata": {
  "kernelspec": {
   "display_name": "Python 3",
   "language": "python",
   "name": "python3"
  },
  "language_info": {
   "codemirror_mode": {
    "name": "ipython",
    "version": 3
   },
   "file_extension": ".py",
   "mimetype": "text/x-python",
   "name": "python",
   "nbconvert_exporter": "python",
   "pygments_lexer": "ipython3",
   "version": "3.8.10"
  }
 },
 "nbformat": 4,
 "nbformat_minor": 5
}
