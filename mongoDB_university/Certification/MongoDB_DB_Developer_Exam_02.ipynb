{
 "cells": [
  {
   "cell_type": "markdown",
   "id": "e274035b",
   "metadata": {},
   "source": [
    "# Data Modeling"
   ]
  },
  {
   "cell_type": "markdown",
   "id": "953fd3b6",
   "metadata": {},
   "source": [
    "### 問題01"
   ]
  },
  {
   "cell_type": "raw",
   "id": "064ddd5f",
   "metadata": {},
   "source": [
    "When considering a good data model for your needs with MongoDB, which of the following should you prioritize?"
   ]
  },
  {
   "cell_type": "raw",
   "id": "f256dabd",
   "metadata": {},
   "source": [
    "(x)1. Deduplication of data\n",
    "(O)2. Access patterns\n",
    "(O)3. Potential growth of embedded documents"
   ]
  },
  {
   "cell_type": "raw",
   "id": "f6a778ce",
   "metadata": {},
   "source": [
    "Detailed Answer\n",
    "\n",
    "Deduplication of data should not be top of mind. Rather, access patterns and potential growth of embedded documents, which could result in documents growing larger than the default limit, are far more important."
   ]
  },
  {
   "cell_type": "markdown",
   "id": "d86d852d",
   "metadata": {},
   "source": [
    "# Indexes and Performance"
   ]
  },
  {
   "cell_type": "markdown",
   "id": "6f6c60fe",
   "metadata": {},
   "source": [
    "### 問題03"
   ]
  },
  {
   "cell_type": "raw",
   "id": "c2276de9",
   "metadata": {},
   "source": [
    "Which of the following commands are correct for exporting data into a CSV file format from a MongoDB server?"
   ]
  },
  {
   "cell_type": "raw",
   "id": "0676c5f8",
   "metadata": {},
   "source": [
    "2. mongoexport --host localhost:27017 -d catalog -c shoes --type=csv -f fields -o shoes.csv"
   ]
  },
  {
   "cell_type": "raw",
   "id": "5c86bc3e",
   "metadata": {},
   "source": [
    "Detailed Answer\n",
    "\n",
    "mongodump will export the documents in BSON. It is also the preferred way to transfer documents from one instance of MongoDB to another instance.\n",
    "\n",
    "However, if you need to export to a CSV file, you would use mongoexport.\n",
    "\n",
    "The correct answer is the one that includes --type=csv, which tells which format we want mongoexport to use for the output. The default type is JSON."
   ]
  },
  {
   "cell_type": "markdown",
   "id": "f51966ab",
   "metadata": {},
   "source": [
    "### 問題10"
   ]
  },
  {
   "cell_type": "raw",
   "id": "984f69f9",
   "metadata": {},
   "source": [
    "You have the following indexes on the things collection:\n",
    "\n",
    "[\n",
    "\t{\n",
    "\t\t\"v\" : 1,\n",
    "\t\t\"key\" : {\n",
    "\t\t\t\"_id\" : 1\n",
    "\t\t},\n",
    "\t\t\"name\" : \"_id_\",\n",
    "\t\t\"ns\" : \"test.things\"\n",
    "\t},\n",
    "\t{\n",
    "\t\t\"v\" : 1,\n",
    "\t\t\"key\" : {\n",
    "\t\t\t\"a\" : 1\n",
    "\t\t},\n",
    "\t\t\"name\" : \"a_1\",\n",
    "\t\t\"ns\" : \"test.things\"\n",
    "\t},\n",
    "\t{\n",
    "\t\t\"v\" : 1,\n",
    "\t\t\"key\" : {\n",
    "\t\t\t\"c\" : 1,\n",
    "\t\t\t\"b\" : 1,\n",
    "\t\t\t\"a\" : 1\n",
    "\t\t},\n",
    "\t\t\"name\" : \"c_1_b_1_a_1\",\n",
    "\t\t\"ns\" : \"test.things\"\n",
    "\t}\n",
    "]\n",
    "\n",
    "Which of the following queries will require that you load every document into RAM in order to fulfill the query? Assume that no data is being written during the query. Check all that apply."
   ]
  },
  {
   "cell_type": "raw",
   "id": "a0383a15",
   "metadata": {},
   "source": [
    "(O)1. db.things.find({ b: 1 }).sort({ c: 1, a: 1})\n",
    "(X)2. db.things.find({ c: 1}).sort({ a: 1, b: 1})\n",
    "(X)3. db.things.find({ a: 1}).sort({ b: 1, c: 1})"
   ]
  },
  {
   "cell_type": "raw",
   "id": "9b036482",
   "metadata": {},
   "source": [
    "Detailed Answer\n",
    "\n",
    "The query\n",
    "\n",
    "db.things.find( { b: 1} ).sort( {c: 1, a: 1} )\n",
    "\n",
    "will require every document be loaded into RAM in order to fulfill the query. This is because the initial match on the b key does not use any existing index or index prefix."
   ]
  }
 ],
 "metadata": {
  "kernelspec": {
   "display_name": "Python 3",
   "language": "python",
   "name": "python3"
  },
  "language_info": {
   "codemirror_mode": {
    "name": "ipython",
    "version": 3
   },
   "file_extension": ".py",
   "mimetype": "text/x-python",
   "name": "python",
   "nbconvert_exporter": "python",
   "pygments_lexer": "ipython3",
   "version": "3.8.10"
  }
 },
 "nbformat": 4,
 "nbformat_minor": 5
}
