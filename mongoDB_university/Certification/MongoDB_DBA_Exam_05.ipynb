{
 "cells": [
  {
   "cell_type": "markdown",
   "id": "0832713d",
   "metadata": {},
   "source": [
    "# CRUD"
   ]
  },
  {
   "cell_type": "markdown",
   "id": "055b6fbe",
   "metadata": {},
   "source": [
    "### 問題03"
   ]
  },
  {
   "cell_type": "raw",
   "id": "58ea61e6",
   "metadata": {},
   "source": [
    "Which of the following is a valid regular expression query, searching the dinosaurs collection for every name ending in odon?"
   ]
  },
  {
   "cell_type": "raw",
   "id": "429695dc",
   "metadata": {},
   "source": [
    "(O)2. db.dinosaurs.find({name: { $regex: /.*odon$/ }})"
   ]
  },
  {
   "cell_type": "raw",
   "id": "161bb5f1",
   "metadata": {},
   "source": [
    "Detailed Answer\n",
    "\n",
    "The correct answer is db.dinosaurs.find({name: { $regex: /.*odon$/ }}). This regular expression will search all dinosaur names that match \"odon\" at the end of the name because of the $ regular expression operator.\n",
    "\n",
    "Why not db.dinosaurs.find({name: { $regex: /.*odon.*/ }})? Because the end of line regular expression operator isn't specified, this would also match dinosuar names like Thecodontosaurus.\n",
    "\n",
    "All other options are incorrect, the $text and $in query operators do not accept regular expressions."
   ]
  },
  {
   "cell_type": "code",
   "execution_count": null,
   "id": "2efdf113",
   "metadata": {},
   "outputs": [],
   "source": []
  }
 ],
 "metadata": {
  "kernelspec": {
   "display_name": "Python 3",
   "language": "python",
   "name": "python3"
  },
  "language_info": {
   "codemirror_mode": {
    "name": "ipython",
    "version": 3
   },
   "file_extension": ".py",
   "mimetype": "text/x-python",
   "name": "python",
   "nbconvert_exporter": "python",
   "pygments_lexer": "ipython3",
   "version": "3.8.10"
  }
 },
 "nbformat": 4,
 "nbformat_minor": 5
}
