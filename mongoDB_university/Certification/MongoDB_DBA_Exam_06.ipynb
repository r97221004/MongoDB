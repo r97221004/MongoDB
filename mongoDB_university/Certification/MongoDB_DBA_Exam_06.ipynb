{
 "cells": [
  {
   "cell_type": "markdown",
   "id": "fbb49b6e",
   "metadata": {},
   "source": [
    "# Philosophy & Features"
   ]
  },
  {
   "cell_type": "markdown",
   "id": "eb28cb02",
   "metadata": {},
   "source": [
    "### 問題01"
   ]
  },
  {
   "cell_type": "raw",
   "id": "0082c0f5",
   "metadata": {},
   "source": [
    "Which of the following statements are true?"
   ]
  },
  {
   "cell_type": "raw",
   "id": "b9a347b0",
   "metadata": {},
   "source": [
    "(X)1. Collections can contain multiple sub-collections.\n",
    "(O)2. Databases can store many documents.\n",
    "(O)3. A namespace is composed of a database name and a collection name.\n",
    "(X)4. A document can be stored in multiple collections in a database."
   ]
  },
  {
   "cell_type": "raw",
   "id": "7caeb1a9",
   "metadata": {},
   "source": [
    "Detailed Answer\n",
    "\n",
    "Correct Answers\n",
    "\n",
    "# Databases can store many documents.\n",
    "Databases are made up of collections which each can store many documents, so this is true.\n",
    "\n",
    "# A namespace is composed of a database name and a collection name.\n",
    "A namespace refers to a collection inside a database using dot notation. For example, the movies.reviews namespace would refer to the reviews collection inside the movies database.\n",
    "\n",
    "Incorrect Answers\n",
    "\n",
    "# Collections can contain multiple sub-collections.\n",
    "A collection cannot contain collections, only documents.\n",
    "\n",
    "# A document can be stored in multiple collections in a database.\n",
    "A document is only able to be stored in a single collection. Therefore, it cannot be part of multiple collections."
   ]
  },
  {
   "cell_type": "markdown",
   "id": "2a0cd674",
   "metadata": {},
   "source": [
    "# CRUD"
   ]
  },
  {
   "cell_type": "markdown",
   "id": "d69c485b",
   "metadata": {},
   "source": [
    "### 問題01"
   ]
  },
  {
   "cell_type": "raw",
   "id": "37156fe4",
   "metadata": {},
   "source": [
    "Consider the following query:\n",
    "\n",
    "db.trucks.find(\n",
    "  {},\n",
    "  { freight_weight: 1, _id: 0 }\n",
    ").sort(\n",
    "  { freight_weight: 1 }\n",
    ")\n",
    "\n",
    "Which of the following could be the ordering of the results returned by this query?"
   ]
  },
  {
   "cell_type": "raw",
   "id": "56ee3653",
   "metadata": {},
   "source": [
    "(X)1. { \"freight_weight\": 60 }, { \"freight_weight\": null }\n",
    "(O)2. { \"freight_weight\": 40 }, { \"freight_weight\": [ 10, 20, 20 ] }\n",
    "(O)3. { \"freight_weight\": 20 }, { \"freight_weight\": 30 }"
   ]
  },
  {
   "cell_type": "raw",
   "id": "aefa798b",
   "metadata": {},
   "source": [
    "Detailed Answer\n",
    "\n",
    "Correct Answers:\n",
    "\n",
    "# { \"freight_weight\": 20 }, { \"freight_weight\": 30 }\n",
    "This answer is correct. Numerical values are sorted according to their numerical value.\n",
    "\n",
    "# { \"freight_weight\": 40 }, { \"freight_weight\": [ 10, 20, 20 ] }\n",
    "This answer is correct. In ascending order, numerical data types are sorted before strings, arrays (like this one), and objects.\n",
    "Incorrect Answers:\n",
    "\n",
    "# { \"freight_weight\": 60 }, { \"freight_weight\": null }\n",
    "This answer is incorrect. In ascending order, null values are sorted before numerical values."
   ]
  },
  {
   "cell_type": "markdown",
   "id": "0ec2395c",
   "metadata": {},
   "source": [
    "### 問題02"
   ]
  },
  {
   "cell_type": "raw",
   "id": "15b700aa",
   "metadata": {},
   "source": [
    "The following find command, run from in a client application using the default cursor settings, matches 150 documents in the server:\n",
    "\n",
    "db.users.find({ \"comments\": { \"$gte\": 200 }})\n",
    "\n",
    "Once the initial batch of results gets exhausted in the client, which command will be sent to the server?"
   ]
  },
  {
   "cell_type": "raw",
   "id": "9852b506",
   "metadata": {},
   "source": [
    "(O)1. No command will be sent if the cursor batch size is greater or equals to 150.\n",
    "(O)2. getMore command\n",
    "(X)3. find command"
   ]
  },
  {
   "cell_type": "raw",
   "id": "7fec6a5f",
   "metadata": {},
   "source": [
    "Detailed Answer\n",
    "\n",
    "Incorrect Answer\n",
    "\n",
    "# find command\n",
    "The find command is sent to open the cursor. It is not used to retrieve / iterate over batches of documents for an existing open cursor.\n",
    "\n",
    "Correct Answers\n",
    "\n",
    "# getMore command\n",
    "This is correct. After the initial batch of cursor documents gets exhausted, on client side, a new batch of documents is requested by emitting a getMore command to the server. The client application does not need to perform this operation. The driver will handle the cursor results iteration.\n",
    "\n",
    "# No command will be sent if the cursor batch size is greater or equals to 150.\n",
    "In case the the cursor gets exhausted but there are no more results to return, since the initial batch already encompasses all the matching documents, no command needs to be sent back to the server."
   ]
  },
  {
   "cell_type": "markdown",
   "id": "65bb3db1",
   "metadata": {},
   "source": [
    "### 問題04"
   ]
  },
  {
   "cell_type": "raw",
   "id": "71af87e9",
   "metadata": {},
   "source": [
    "Which of the following statements is true of the insertMany command?"
   ]
  },
  {
   "cell_type": "raw",
   "id": "8e555c62",
   "metadata": {},
   "source": [
    "(X)1. In case of duplicate key error, all document field values are replaced except for the _id.\n",
    "(X)2. Always inserts documents in the array defined order.\n",
    "(X)3. Documents passed to insertMany are required to have _id field defined.\n",
    "(O)4. It takes an array of documents to be inserted.\n",
    "(X)5. insertMany cannot insert any documents if one of the documents results in an error."
   ]
  },
  {
   "cell_type": "raw",
   "id": "982da8e0",
   "metadata": {},
   "source": [
    "Detailed Answer\n",
    "\n",
    "Correct Answers\n",
    "\n",
    "# It takes an array of documents to be inserted.\n",
    "insertMany takes an array of documents and inserts them in the specified collection.\n",
    "\n",
    "Incorrect Answers\n",
    "\n",
    "# Documents passed to insertMany are required to have _id field defined.\n",
    "The _id field behavior is the same for any insert command. If the documents in the insertMany input array do not have the _id field defined, the MongoDB server or the client driver will set the field using an ObjectId value.\n",
    "\n",
    "# insertMany cannot insert any documents if one of the documents results in an error.\n",
    "insertMany will insert all documents until an error is detected in the case of ordered inserts. In the case of unordered insert, insertMany will attempt to insert all documents, and the resulting errors are collected and reported back to the client.\n",
    "\n",
    "# Always inserts documents in the array defined order.\n",
    "insertMany will insert by default the documents in order, however it can be executed in unordered mode.\n",
    "\n",
    "# In case of duplicate key error, all document field values are replaced except for the _id.\n",
    "Incorrect, in the case of duplicate key error, the inflicting document fails to insert and the error is reported to the client."
   ]
  },
  {
   "cell_type": "markdown",
   "id": "21a5c2db",
   "metadata": {},
   "source": [
    "# Server Administration"
   ]
  },
  {
   "cell_type": "markdown",
   "id": "5a070c4d",
   "metadata": {},
   "source": [
    "### 問題11"
   ]
  },
  {
   "cell_type": "raw",
   "id": "041b4a3d",
   "metadata": {},
   "source": [
    "Consider the following command:\n",
    "\n",
    "$ mongod --enableEncryption --kmipServerName localhost --kmipServerCAFile ca.pem --kmipClientCertificateFile client.pem\n",
    "\n",
    "This command enables:"
   ]
  },
  {
   "cell_type": "raw",
   "id": "d981a0cc",
   "metadata": {},
   "source": [
    "(O)1. the use of the KMIP server that is running on the local machine\n",
    "(X)2. starting the KMIP server\n",
    "(O)3. storage encryption"
   ]
  },
  {
   "cell_type": "raw",
   "id": "62636b1d",
   "metadata": {},
   "source": [
    "Detailed Answer\n",
    "\n",
    "Correct Answers:\n",
    "\n",
    "$ the use of the KMIP server that is running on the local machine\n",
    "The --kmipServerName points to the mongod process to a currently running KMIP server, which in this case is running locally, hence the name used is localhost\n",
    "\n",
    "$ storage encryption\n",
    "The --enableEncryption option turns on storage encryption for a mongod process.\n",
    "\n",
    "Incorrect Answers:\n",
    "\n",
    "# starting the KMIP server\n",
    "The KMIP server is a separate program that a mongod process can connect to, but not start, hence this answer is incorrect."
   ]
  }
 ],
 "metadata": {
  "kernelspec": {
   "display_name": "Python 3",
   "language": "python",
   "name": "python3"
  },
  "language_info": {
   "codemirror_mode": {
    "name": "ipython",
    "version": 3
   },
   "file_extension": ".py",
   "mimetype": "text/x-python",
   "name": "python",
   "nbconvert_exporter": "python",
   "pygments_lexer": "ipython3",
   "version": "3.8.10"
  }
 },
 "nbformat": 4,
 "nbformat_minor": 5
}
