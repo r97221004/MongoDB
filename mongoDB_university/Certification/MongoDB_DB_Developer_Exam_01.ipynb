{
 "cells": [
  {
   "cell_type": "markdown",
   "id": "6767ba4b",
   "metadata": {},
   "source": [
    "# Philosophy & Features"
   ]
  },
  {
   "cell_type": "markdown",
   "id": "5bb8f98a",
   "metadata": {},
   "source": [
    "### 問題01"
   ]
  },
  {
   "cell_type": "raw",
   "id": "ef787e7a",
   "metadata": {},
   "source": [
    "Why does MongoDB use BSON rather than JSON? Check all that apply."
   ]
  },
  {
   "cell_type": "raw",
   "id": "60e1903c",
   "metadata": {},
   "source": [
    "(O)1. BSON includes metadata to describe a document/object\n",
    "(O)2. BSON supports more data types than JSON\n",
    "(X)3. BSON is more human readable than JSON "
   ]
  },
  {
   "cell_type": "raw",
   "id": "39c7e37c",
   "metadata": {},
   "source": [
    "Detailed Answer\n",
    "\n",
    "BSON extends the JSON model to provide additional data types, ordered fields, and to be efficient for encoding and decoding within different languages."
   ]
  },
  {
   "cell_type": "markdown",
   "id": "2f052f8e",
   "metadata": {},
   "source": [
    "### 問題02"
   ]
  },
  {
   "cell_type": "raw",
   "id": "aeb6fb92",
   "metadata": {},
   "source": [
    "Which of the following are valid types in BSON? Check all that apply."
   ]
  },
  {
   "cell_type": "raw",
   "id": "e33f4484",
   "metadata": {},
   "source": [
    "(O)Int64\n",
    "(O)ObjectId\n",
    "(O)Decimal128"
   ]
  },
  {
   "cell_type": "raw",
   "id": "19182e5f",
   "metadata": {},
   "source": [
    "Detailed Answer\n",
    "\n",
    "These are all valid BSON types.\n",
    "To learn more, visit the following MongoDB Documentation page:"
   ]
  },
  {
   "cell_type": "markdown",
   "id": "a69fc8be",
   "metadata": {},
   "source": [
    "[BSON Types](https://docs.mongodb.com/manual/reference/bson-types/)"
   ]
  },
  {
   "cell_type": "markdown",
   "id": "eee545a4",
   "metadata": {},
   "source": [
    "### 問題03"
   ]
  },
  {
   "cell_type": "raw",
   "id": "167cdaac",
   "metadata": {},
   "source": [
    "Which writes are atomic in MongoDB 4.0? Check all that apply."
   ]
  },
  {
   "cell_type": "raw",
   "id": "97c45f9c",
   "metadata": {},
   "source": [
    "(O)1. An update to a single document in a replica set\n",
    "(O)2. An update to multiple documents in a replica set using transactions\n",
    "(O)3. An update to a single document in a shared cluster\n",
    "(X)4. An update to multiple documents in a sharded cluster"
   ]
  },
  {
   "cell_type": "raw",
   "id": "2a668ebd",
   "metadata": {},
   "source": [
    "Detailed Answer\n",
    "\n",
    "# In version 4.2, MongoDB introduces distributed transactions, which adds support for multi-\n",
    "  document transactions on sharded clusters and incorporates the existing support for multi-\n",
    "  document transactions on replica sets.\n",
    "# MongoDB 4.0 introduced updates to multiple documents in a replica set through transactions.\n",
    "# In MongoDB 3.6, updates to single documents in replica sets or sharded clusters were atomic."
   ]
  },
  {
   "cell_type": "markdown",
   "id": "95aa3b47",
   "metadata": {},
   "source": [
    "### 問題04"
   ]
  },
  {
   "cell_type": "raw",
   "id": "ca727ba0",
   "metadata": {},
   "source": [
    "In order to ensure that you can maintain high availability in the face of server failure, you should use which of the following MongoDB feature?"
   ]
  },
  {
   "cell_type": "raw",
   "id": "3287cc20",
   "metadata": {},
   "source": [
    "(O)Replication\n",
    "(X)Sharding\n",
    "(X)Proper storage engine\n",
    "(X)Proper defined user roles\n",
    "(X)Indexes on all of the documents"
   ]
  },
  {
   "cell_type": "raw",
   "id": "0cbd0bb2",
   "metadata": {},
   "source": [
    "Detailed Answer\n",
    "\n",
    "Replication provides redundancy and increases data availability. With multiple copies of data on different database servers, replication provides a level of fault tolerance against the loss of a single database server.\n",
    "\n",
    "If a member of the replica set becomes unavailable due to maintenance or a hardware crash, the other members will still be able to provide the applications access to the documents."
   ]
  },
  {
   "cell_type": "markdown",
   "id": "039b1faf",
   "metadata": {},
   "source": [
    "# CRUD"
   ]
  },
  {
   "cell_type": "markdown",
   "id": "14fd60fb",
   "metadata": {},
   "source": [
    "### 問題01"
   ]
  },
  {
   "cell_type": "raw",
   "id": "608cb0f0",
   "metadata": {},
   "source": [
    "Consider the following example document from the sample collection. All documents in this collection have the same schema.\n",
    "\n",
    "{\n",
    "    \"_id\" : 3, \n",
    "    \"a\" : 7,\n",
    "    \"b\" : 4\n",
    "}\n",
    "\n",
    "Which of the following queries will replace this with the document,\n",
    "\n",
    "{\n",
    "    \"_id\" : 7, \n",
    "    \"c\" : 4\n",
    "}"
   ]
  },
  {
   "cell_type": "raw",
   "id": "523f0c8a",
   "metadata": {},
   "source": [
    "(X)1. db.sample.replaceOne({\"_id\": 3}, {\"_id\": 7, \"c\": 4})\n",
    "(X)2. db.sample.updateOne({\"_id\": 3}, {\"$set\": {\"_id\": 7, \"c\": 4}})\n",
    "(X)3. db.sample.updateOne({\"_id\": 3}, {\"_id\": 7, \"c\": 4, {\"$unset\": [\"a\", \"b\"] }})\n",
    "(X)4. db.sample.updateOne({\"_id\": 3}, {\"_id\": 7, \"c\": 4})\n",
    "(O)5. This operation cannot be done with a single query."
   ]
  },
  {
   "cell_type": "raw",
   "id": "6a0a08a1",
   "metadata": {},
   "source": [
    "Detailed Answer\n",
    "\n",
    "The correct answer is that this operation cannot be done in a single query.\n",
    "To understand why, recall that the _id field of a document is immutable.\n",
    "In fact, trying this operation with:\n",
    "    \n",
    "updateOne({_id: 3}, {$set: { _id: 7, c: 4 }, $unset: { a: \"\", b: \"\" }})\n",
    "\n",
    "produces the following error:\n",
    "    \n",
    "\"Performing an update on the path '_id' would modify the immutable field '_id'\""
   ]
  },
  {
   "cell_type": "markdown",
   "id": "45c9b7c0",
   "metadata": {},
   "source": [
    "### 問題02"
   ]
  },
  {
   "cell_type": "raw",
   "id": "3985d0a0",
   "metadata": {},
   "source": [
    "You perform the following query on the sayings collection, which has the index { quote : “text” }:\n",
    "\n",
    "db.sayings.find( { $text : { $search : \"fact find\" } } )\n",
    "\n",
    "Assuming the following documents are in the collection, which ones will the query return? Check all that apply."
   ]
  },
  {
   "cell_type": "raw",
   "id": "e4c92d59",
   "metadata": {},
   "source": [
    "(O)1. {_id: 1, quote: \"That's a fact, Jack.\"}()\n",
    "(O)2. {_id:2, quote: \"Find out if that fact is correct.\"}\n",
    "(X)3. {_id:3, quote: \"Nobody will ever catch me.\"}"
   ]
  },
  {
   "cell_type": "raw",
   "id": "42d58bb3",
   "metadata": {},
   "source": [
    "Detailed Answer\n",
    "\n",
    "Because the text \"Nobody will ever catch me.\" contains neither \"fact\" nor \"find\" it won't be included in the results."
   ]
  },
  {
   "cell_type": "markdown",
   "id": "ce6db8c5",
   "metadata": {},
   "source": [
    "### 問題03"
   ]
  },
  {
   "cell_type": "raw",
   "id": "b2b17b08",
   "metadata": {},
   "source": [
    "On which of the following CRUD operations can you specify a write concern? Check all that apply."
   ]
  },
  {
   "cell_type": "raw",
   "id": "baf230df",
   "metadata": {},
   "source": [
    "(O)1. db.collection.insertOne()\n",
    "(X)2. db.collection.find()\n",
    "(O)3. db.collection.updateMary()"
   ]
  },
  {
   "cell_type": "raw",
   "id": "3f8539f4",
   "metadata": {},
   "source": [
    "Detailed Answer\n",
    "\n",
    "write concerns apply to write operations. insertOne and updateMany are write operations.\n",
    "find is a read operation. Read operations can be influenced by read concerns or read preferences."
   ]
  },
  {
   "cell_type": "markdown",
   "id": "845fd8c9",
   "metadata": {},
   "source": [
    "### 問題04"
   ]
  },
  {
   "cell_type": "raw",
   "id": "701aea4f",
   "metadata": {},
   "source": [
    "Which of the documents below would be modified by the following update? Assume all documents are in the \"people\" collection. Check all that apply.\n",
    "\n",
    "db.people.updateMany( { \"city\" : \"Seattle\", \"state\" : \"WA\" }, { \"$addToSet\" : { \"likes\" : \"forest\" } } )"
   ]
  },
  {
   "cell_type": "raw",
   "id": "b3c7b53c",
   "metadata": {},
   "source": [
    "略"
   ]
  },
  {
   "cell_type": "raw",
   "id": "eadd2e8a",
   "metadata": {},
   "source": [
    "Detailed Answer\n",
    "\n",
    "檢查兩件事:\n",
    "1. 滿足 { \"city\" : \"Seattle\", \"state\" : \"WA\" }\n",
    "2. likes 這個 array 不能包含 \"forest\"，因為有包含的話，$addToSet 不會再加進去"
   ]
  },
  {
   "cell_type": "markdown",
   "id": "4fe92edf",
   "metadata": {},
   "source": [
    "### 問題05"
   ]
  },
  {
   "cell_type": "raw",
   "id": "1220c5b3",
   "metadata": {},
   "source": [
    "Which of the documents below will be retrieved by the following query? Assume the documents are stored in a collection called \"sample\". Check all that apply.\n",
    "\n",
    "db.sample.find( { \"$or\" : [ { \"a\" : { \"$in\" : [ 3, 10] } }, { \"b\" : { \"$lt\" : 2 } } ] } )"
   ]
  },
  {
   "cell_type": "raw",
   "id": "3f2f3623",
   "metadata": {},
   "source": [
    "略"
   ]
  },
  {
   "cell_type": "raw",
   "id": "b1a6491d",
   "metadata": {},
   "source": [
    "Detailed Answer\n",
    "\n",
    "The $or operator means that any document that satisfies one of the conditions will be retrieved.\n",
    "這題只要滿足兩條件其中之一就可以:\n",
    "1. a = 3 或 a = 10\n",
    "2. b < 2"
   ]
  },
  {
   "cell_type": "markdown",
   "id": "61b952b0",
   "metadata": {},
   "source": [
    "### 問題06"
   ]
  },
  {
   "cell_type": "raw",
   "id": "cbaddd43",
   "metadata": {},
   "source": [
    "Which of the following queries on the \"team\" collection will return only the first five elements of the array in the \"scores\" field?\n",
    "\n",
    "Example document (as it exists in the collection):\n",
    "\n",
    "> db.team.find()\n",
    "{ \"_id\" : 12, scores : [ 3, 5, 7, 2, 1, -4, 3, 12 ] }\n",
    "\n",
    "Document you want returned by your query:\n",
    "\n",
    "{ \"_id\" : 12, \"scores\" : [ 3, 5, 7, 2, 1 ] }"
   ]
  },
  {
   "cell_type": "raw",
   "id": "0f799d69",
   "metadata": {},
   "source": [
    "略"
   ]
  },
  {
   "cell_type": "raw",
   "id": "1c450d84",
   "metadata": {},
   "source": [
    "Detailed Answer\n",
    "\n",
    "The $slice projection operator is used to control how many elements of an array will be returned after fetching it.\n",
    "所以這題應該是要這樣: db.team.find({}, { \"scores\": { \"$slice\": [ 0, 5 ] } })\n",
    "注意: { \"Field\": { \"$slice\": [ 省略幾個, 取幾個 ] }"
   ]
  },
  {
   "cell_type": "markdown",
   "id": "e6dc087f",
   "metadata": {},
   "source": [
    "### 問題07"
   ]
  },
  {
   "cell_type": "raw",
   "id": "6cdfd087",
   "metadata": {},
   "source": [
    "You perform the following operation in the shell:\n",
    "\n",
    "db.foo.insertOne( { } )\n",
    "\n",
    "What gets inserted?"
   ]
  },
  {
   "cell_type": "raw",
   "id": "4cf58786",
   "metadata": {},
   "source": [
    "略"
   ]
  },
  {
   "cell_type": "raw",
   "id": "89b4b724",
   "metadata": {},
   "source": [
    "Detailed Answer\n",
    "\n",
    "In MongoDB, each document stored in a collection requires a unique _id field that acts as a primary key. If an inserted document omits the _id field, the MongoDB driver automatically generates an ObjectId for the _id field.\n",
    "\n",
    "In this question, a document with an _id field is inserted."
   ]
  },
  {
   "cell_type": "markdown",
   "id": "2fdc4db9",
   "metadata": {},
   "source": [
    "# Data Modeling"
   ]
  },
  {
   "cell_type": "markdown",
   "id": "136a60f2",
   "metadata": {},
   "source": [
    "### 題目01"
   ]
  },
  {
   "cell_type": "raw",
   "id": "9ccf1da3",
   "metadata": {},
   "source": [
    "Which of the following relationships is MongoDB unable to represent?"
   ]
  },
  {
   "cell_type": "raw",
   "id": "d30375b8",
   "metadata": {},
   "source": [
    "(X)1. 1-N\n",
    "(X)2. N-N\n",
    "(X)3. Graph entites\n",
    "(O)4. None of the above: MongoDB is able to represent all of these relationships"
   ]
  },
  {
   "cell_type": "markdown",
   "id": "5f6bdfa2",
   "metadata": {},
   "source": [
    "Detailed Answer\n",
    "\n",
    "MongoDB can model all of these relationships effectively.\n",
    "\n",
    "1-N\n",
    "N-N\n",
    "Graph entities"
   ]
  },
  {
   "cell_type": "markdown",
   "id": "8bfbb500",
   "metadata": {},
   "source": [
    "# Indexes and Performance"
   ]
  },
  {
   "cell_type": "markdown",
   "id": "0d66eae0",
   "metadata": {},
   "source": [
    "### 題目01"
   ]
  },
  {
   "cell_type": "raw",
   "id": "acb3fac7",
   "metadata": {},
   "source": [
    "In MongoDB, the WiredTiger storage engine provides concurrency at what level?"
   ]
  },
  {
   "cell_type": "raw",
   "id": "e89916f5",
   "metadata": {},
   "source": [
    "略"
   ]
  },
  {
   "cell_type": "raw",
   "id": "64570744",
   "metadata": {},
   "source": [
    "Detailed Answer\n",
    "\n",
    "The WiredTiger storage engine supports document-level concurrency(並發), allowing multiple documents from the same collection to be written to, simultaneously."
   ]
  },
  {
   "cell_type": "markdown",
   "id": "1cb3ab28",
   "metadata": {},
   "source": [
    "### 題目02"
   ]
  },
  {
   "cell_type": "raw",
   "id": "0263d5c1",
   "metadata": {},
   "source": [
    "Which of the following is not a feature of the WiredTiger storage engine component in MongoDB?"
   ]
  },
  {
   "cell_type": "raw",
   "id": "f2d818d1",
   "metadata": {},
   "source": [
    "(X)1. Compression of data files\n",
    "(X)2. Index predix compresssion\n",
    "(X)3. Document level concurrency\n",
    "(O)4. Replication\n",
    "(X)5. A dedicated(專用的) cache of RAM"
   ]
  },
  {
   "cell_type": "raw",
   "id": "2e41e85b",
   "metadata": {},
   "source": [
    "Detailed Answer\n",
    "\n",
    "Replication is a feature handled at a higher level in the mongod process. A storage engine has the mission to store and retrieve documents from cache and memory. Replication, Sharding, processing of MongoDB Query Language queries and more, are all done in higher layers in the mongod process."
   ]
  },
  {
   "cell_type": "markdown",
   "id": "66ce63f1",
   "metadata": {},
   "source": [
    "### 題目03"
   ]
  },
  {
   "cell_type": "raw",
   "id": "9643a93d",
   "metadata": {},
   "source": [
    "After adding a new consumer service, you begin to receive reports of poor query performance. You suspect disk latency may be a cause. Which tool can you use to confirm or rule out your suspicion?"
   ]
  },
  {
   "cell_type": "raw",
   "id": "ebb6b4fa",
   "metadata": {},
   "source": [
    "(O)1. mongostat\n",
    "(X)2. mongoreplay\n",
    "(O)3. mongotop\n",
    "(X)4. mongofiles"
   ]
  },
  {
   "cell_type": "raw",
   "id": "a6ed126b",
   "metadata": {},
   "source": [
    "Detailed Answer\n",
    "\n",
    "The most correct tool for this job is mongotop"
   ]
  },
  {
   "cell_type": "markdown",
   "id": "938aa772",
   "metadata": {},
   "source": [
    "### 題目04"
   ]
  },
  {
   "cell_type": "raw",
   "id": "90faa845",
   "metadata": {},
   "source": [
    "Which of the following must be true for a query to be a covered query? Check all that apply."
   ]
  },
  {
   "cell_type": "raw",
   "id": "dc23c72c",
   "metadata": {},
   "source": [
    "(O)1. All fields used in the selection filter of the query must be in the index that the query uses\n",
    "(O)2. All fields returned in the results must be in the index that the query uses\n",
    "(X)3. All fields returned in the results must be fields in the selection filter of the query"
   ]
  },
  {
   "cell_type": "raw",
   "id": "8b3f0c63",
   "metadata": {},
   "source": [
    "Detailed Answer\n",
    "\n",
    "All fields used in the selection filter of the query must be in the index, so the system can find the documents that satisfy the selection filter without having to retrieve the document from the collection.\n",
    "\n",
    "All fields returned in the results must be in the index, so again there is no need to retrieve the full document. A common mistake is not to provide a projection that filters out the field _id, which is returned by default. If the _id field is not a field in the index definition, it is not available, and the query system will need to fetch the full document to retrieve the value.\n",
    "\n",
    "On the other hand, it is OK to ask for more fields than the ones provided in the selection filter, as long as those are in the index values, the system has all the information needed to avoid fetching the full document from the collection."
   ]
  },
  {
   "cell_type": "markdown",
   "id": "c760992b",
   "metadata": {},
   "source": [
    "### 題目05"
   ]
  },
  {
   "cell_type": "raw",
   "id": "3f30a032",
   "metadata": {},
   "source": [
    "Which of the following statements are true of unique indexes? Check all that apply."
   ]
  },
  {
   "cell_type": "raw",
   "id": "1935141d",
   "metadata": {},
   "source": [
    "(X)1. The only possible unique index is the \"_id\" field\n",
    "(O)2. The \"unique\" constraint on an index ensures that no two (or more) documents can share a value for that field in a collection\n",
    "(O)3. Hashed indexes cannot be unique"
   ]
  },
  {
   "cell_type": "raw",
   "id": "8d96c5e8",
   "metadata": {},
   "source": [
    "Detailed Answer\n",
    "\n",
    "Unique indexes have certain properties and restrictions that you should be familiar with.\n",
    "\n",
    "For example, they ensure that no documents have the same data at the same key that carries a unique index, and you may not specify a unique constraint on a field that is specified as a hashed index."
   ]
  },
  {
   "cell_type": "markdown",
   "id": "639aa81a",
   "metadata": {},
   "source": [
    "### 題目06"
   ]
  },
  {
   "cell_type": "raw",
   "id": "1268f872",
   "metadata": {},
   "source": [
    "You have created the following index on the foo collection:\n",
    "\n",
    "> db.foo.createIndex( { a : 1, b : -1, c : -1, d: 1 } )\n",
    "\n",
    "Which of the following queries will be able to fulfill the query without an in-memory sort (i.e., it's able to use the index to sort)? Check all that apply."
   ]
  },
  {
   "cell_type": "raw",
   "id": "d0bd6513",
   "metadata": {},
   "source": [
    "(X)1. db.foo.find({  a: { \"$gt\": 100 } }).sort({ c: -1 })\n",
    "(O)2. db.foo.find({ a: 100}).sort({ b: 1, c: 1})\n",
    "(O)3. db.foo.find({ a: 200, b: { \"$lt\": 100 }}).sort({ b: 1})"
   ]
  },
  {
   "cell_type": "raw",
   "id": "f34bc932",
   "metadata": {},
   "source": [
    "Detailed Answer\n",
    "\n",
    "Recall that compound indexes should be built in the order of equality, range, sort for common operational query patterns.\n",
    "\n",
    "Also recall that as long as the query uses all keys of a compound index or a combination of index prefixes, it will make use of the existing index."
   ]
  },
  {
   "cell_type": "markdown",
   "id": "187c48f0",
   "metadata": {},
   "source": [
    "### 題目07"
   ]
  },
  {
   "cell_type": "raw",
   "id": "63f5eb55",
   "metadata": {},
   "source": [
    "You have the following indexes on the things collection:\n",
    "\n",
    "[\n",
    "\t{\n",
    "\t\t\"v\" : 1,\n",
    "\t\t\"key\" : {\n",
    "\t\t\t\"_id\" : 1\n",
    "\t\t},\n",
    "\t\t\"name\" : \"_id_\",\n",
    "\t\t\"ns\" : \"test.things\"\n",
    "\t},\n",
    "\t{\n",
    "\t\t\"v\" : 1,\n",
    "\t\t\"key\" : {\n",
    "\t\t\t\"a\" : 1\n",
    "\t\t},\n",
    "\t\t\"name\" : \"a_1\",\n",
    "\t\t\"ns\" : \"test.things\"\n",
    "\t},\n",
    "\t{\n",
    "\t\t\"v\" : 1,\n",
    "\t\t\"key\" : {\n",
    "\t\t\t\"c\" : 1,\n",
    "\t\t\t\"b\" : 1,\n",
    "\t\t\t\"a\" : 1\n",
    "\t\t},\n",
    "\t\t\"name\" : \"c_1_b_1_a_1\",\n",
    "\t\t\"ns\" : \"test.things\"\n",
    "\t}\n",
    "]\n",
    "\n",
    "Which of the following queries will require that you load every document into RAM in order to fulfill the query? Assume that no data is being written during the query. Check all that apply."
   ]
  },
  {
   "cell_type": "raw",
   "id": "baafafcb",
   "metadata": {},
   "source": [
    "(O)1. db.things.find({ b: 1 }).sort({ c: 1, a: 1})\n",
    "(X)2. db.things.find({ c: 1 }).sort({ a: 1, b: 1})\n",
    "(X)3. db.things.find({ a: 1 }).sort({ b: 1, c: 1})"
   ]
  },
  {
   "cell_type": "raw",
   "id": "2425bba6",
   "metadata": {},
   "source": [
    "Detailed Answer\n",
    "\n",
    "The query\n",
    "\n",
    "db.things.find( { b: 1} ).sort( {c: 1, a: 1} )\n",
    "\n",
    "will require every document be loaded into RAM in order to fulfill the query. This is because the initial match on the b key does not use any existing index or index prefix."
   ]
  },
  {
   "cell_type": "markdown",
   "id": "ff7bba32",
   "metadata": {},
   "source": [
    "### 題目08"
   ]
  },
  {
   "cell_type": "raw",
   "id": "b1e58515",
   "metadata": {},
   "source": [
    "Adding an index on { a : 1 } can potentially decrease the speed of which of the following operations? Check all that apply."
   ]
  },
  {
   "cell_type": "raw",
   "id": "3a0385d0",
   "metadata": {},
   "source": [
    "1. db.collection.find({ a: 232 })\n",
    "2. db.collection.updateOne({ b: 456}, { $inc: {a: 1}})\n",
    "3. db.collection.insertOne({ a: 341 })"
   ]
  },
  {
   "cell_type": "raw",
   "id": "fdd26c8f",
   "metadata": {},
   "source": [
    "Detailed Answer\n",
    "\n",
    "The operators updateOne and insertOne are correct because adding indexes does impact write performance.\n",
    "\n",
    "Remember, write operations that modify an indexed field may require MongoDB to update the indexes associated with the document.\n",
    "\n",
    "That said, not having the appropriate index for a given query will produce a collection scan on the collection, and those are undesirable."
   ]
  },
  {
   "cell_type": "markdown",
   "id": "7091706e",
   "metadata": {},
   "source": [
    "### 題目09"
   ]
  },
  {
   "cell_type": "raw",
   "id": "26c286b6",
   "metadata": {},
   "source": [
    "Suppose you have a collection \"sample\" with an index created as follows.\n",
    "\n",
    "db.sample.createIndex( { \"foo\" : -1 } )\n",
    "\n",
    "For which of the following queries can MongoDB efficiently look at only a subset of the index entries, rather than all of the index entries? Check all that apply."
   ]
  },
  {
   "cell_type": "raw",
   "id": "8c9ace2c",
   "metadata": {},
   "source": [
    "(X)1. db.sample.find({ \"foo\": /a.*b/ })\n",
    "(O)2. db.sample.find({ \"foo\": /^c.*d/ })\n",
    "(O)3. db.sample.find({ \"foo\": /^e.*f/ })"
   ]
  },
  {
   "cell_type": "raw",
   "id": "26d36e95",
   "metadata": {},
   "source": [
    "Detailed Answer\n",
    "\n",
    "By specifying the \"beginning of line\" regex operation, you constrain the query and MongoDB can efficiently navigate the index to the correct location."
   ]
  },
  {
   "cell_type": "markdown",
   "id": "d2629d74",
   "metadata": {},
   "source": [
    "### 題目10"
   ]
  },
  {
   "cell_type": "raw",
   "id": "acf8bb23",
   "metadata": {},
   "source": [
    "Which of the following is true of covered queries? Check all that apply."
   ]
  },
  {
   "cell_type": "raw",
   "id": "8278cb9c",
   "metadata": {},
   "source": [
    "(O)1. MongoDB can satisfy covered queries using only index keys.\n",
    "(X)2. MongoDB can satisfy covered queries efficiently without the use of an index\n",
    "(X)3. Covered queries ordinarily have slower response times than queries that are not covered."
   ]
  },
  {
   "cell_type": "raw",
   "id": "28357fa3",
   "metadata": {},
   "source": [
    "Detailed Answer\n",
    "\n",
    "Covered queries are the best queries!\n",
    "\n",
    "The underlying index supports the entire query, so no document information is required to be fetched from disk. With a covered query, you are servicing the operation entirely from the index, which is usually faster than examining each document."
   ]
  },
  {
   "cell_type": "markdown",
   "id": "03166c8d",
   "metadata": {},
   "source": [
    "### 題目11"
   ]
  },
  {
   "cell_type": "raw",
   "id": "fd49d61a",
   "metadata": {},
   "source": [
    "You have the following index on the toys collection:\n",
    "    \n",
    "{ \n",
    "    \"manufacturer\" : 1,\n",
    "    \"name\" : 1,\n",
    "    \"date\" : -1\n",
    "}\n",
    "\n",
    "Which of the following queries are able to use the index? Check all that apply."
   ]
  },
  {
   "cell_type": "raw",
   "id": "c80413dc",
   "metadata": {},
   "source": [
    "(O)1. db.toys.find({ manufacturer: \"Matteo\", name: \"Barbara\", date: \"2018-07-02\" })\n",
    "(O)2. db.toys.find({ name: \"Big Rig Truck\", date: \"2018-02-01\", manufacturer: \"Tanko\" })\n",
    "(O)3. db.toys.find({ date: \"2018-03-01\", manufacturer: \"Loggo\", name: \"Brick Set\"})"
   ]
  },
  {
   "cell_type": "raw",
   "id": "e05b06e0",
   "metadata": {},
   "source": [
    "Detailed Answer\n",
    "\n",
    "All answer choices are correct!\n",
    "\n",
    "Consider just the first choice. Any document that could match \"manufacturer is Matteo AND name is Barbara AND date is 2018-07-02 would have to match date is 2018-07-02 AND, name is Barbara, and manufacturer is Matteo.\n",
    "\n",
    "Because of this fact, the optimizer is able to rearrange the the search terms, using the existing index for each query."
   ]
  },
  {
   "cell_type": "markdown",
   "id": "bfb69cf0",
   "metadata": {},
   "source": [
    "### 題目12"
   ]
  },
  {
   "cell_type": "raw",
   "id": "92f348a9",
   "metadata": {},
   "source": [
    "You have the following indexes on your collection:\n",
    "    \n",
    "[\n",
    "\t{\n",
    "\t\t\"v\" : 1,\n",
    "\t\t\"key\" : {\n",
    "\t\t\t\"_id\" : 1\n",
    "\t\t},\n",
    "\t\t\"name\" : \"_id_\",\n",
    "\t\t\"ns\" : \"test.sample\"\n",
    "\t},\n",
    "\t{\n",
    "\t\t\"v\" : 1,\n",
    "\t\t\"key\" : {\n",
    "\t\t\t\"name\" : 1,\n",
    "\t\t\t\"date\" : 1,\n",
    "\t\t\t\"phone\" : 1\n",
    "\t\t},\n",
    "\t\t\"name\" : \"name_1_date_1_phone_1\",\n",
    "\t\t\"ns\" : \"test.sample\"\n",
    "\t}\n",
    "]\n",
    "\n",
    "Which of the following queries will use an index? Check all that apply."
   ]
  },
  {
   "cell_type": "raw",
   "id": "de154a9b",
   "metadata": {},
   "source": [
    "(O)1. db.sample.find({ _id: 22, date: ISODate(\"2012-07-04\") })\n",
    "(O)2. db.sample.find({ date: ISODate(\"2011-07-04\"), name: \"Alice\" })\n",
    "(X)3. db.sample.find({ title: \"DBA\" })\n",
    "(X)4. db.sample.find({ phone: \"123-456-7890, info: \"201-555-5792\" })"
   ]
  },
  {
   "cell_type": "raw",
   "id": "c2d30ec1",
   "metadata": {},
   "source": [
    "Detailed Answer\n",
    "\n",
    "There are 2 indexes:\n",
    "    \n",
    "{ _id: 1 }\n",
    "{ \"name\" : 1, \"date\" : 1, \"phone\" : 1 }\n",
    "\n",
    "The order of the fields in the index is important, however, the order of the fields in the query are not significant as the query planner will \"reorder\" the query terms to match a prefix of, or the full compound index.\n",
    "\n",
    "The query on _id will use the first index. Because _id is guaranteed to be unique, it's possible for the planner to make this optimization. To be sure, there will still be a FETCH stage to get the document and ensure the date predicate is fulfilled.\n",
    "\n",
    "The query on date, name will also use an index, the name_1_date_1_phone_1 index, because a prefix is specified (name, date).\n",
    "\n",
    "The query on title is using a field for which there is no index.\n",
    "\n",
    "As for the query on phone and info, phone is indexed, however as the third member of the compound index so won't be used."
   ]
  },
  {
   "cell_type": "markdown",
   "id": "a075a8f2",
   "metadata": {},
   "source": [
    "### 題目13"
   ]
  },
  {
   "cell_type": "raw",
   "id": "918b0e19",
   "metadata": {},
   "source": [
    "Given the following example document:\n",
    "\n",
    "{\n",
    "  \"_id\": ObjectId(\"5360c0a0a655a60674680bbe\"),\n",
    "\n",
    "  \"user\": {\n",
    "    \"login\": \"ir0n\",\n",
    "    \"description\": \"Made of metal\"\n",
    "    \"date\": ISODate(\"2014-04-30T09:16:45.836Z\"),\n",
    "  }\n",
    "}\n",
    "\n",
    "and the following index:\n",
    "\n",
    "db.users.createIndex( { \"user.login\": 1, \"user.date\": -1 }, \"myIndex\" )\n",
    "\n",
    "When performing the following query:\n",
    "\n",
    "db.users.find( { \"user.login\": /^ir.*/ }, { \"user\":1, \"_id\":0 } ).sort( { \"user.date\":1 } )\n",
    "\n",
    "Which of the following statements correctly describes how MongoDB will handle the query?"
   ]
  },
  {
   "cell_type": "raw",
   "id": "f67b016b",
   "metadata": {},
   "source": [
    "(X)1. As a covered query using \"myIndex\" because we are filtering out \"_id\" and only returning \"user.login\"\n",
    "(O)2. As an index scan that uses \"myIndex\" because field \"user.login\" is indexed\n",
    "(X)3. As an optimized sort query(no explicit sort stage) using \"myIndex\" because we are sorting on an indexed field\n",
    "(X)4. MongoDB will need to do a table/collection scan to find matching documents\n",
    "(X)5. None of the above"
   ]
  },
  {
   "cell_type": "raw",
   "id": "3f580df5",
   "metadata": {},
   "source": [
    "Detailed Answer\n",
    "\n",
    "Because the field user.login is indexed and the regex beginning of line operator is being used (^), the index myIndex will be used for this query."
   ]
  },
  {
   "cell_type": "markdown",
   "id": "aa0e48a6",
   "metadata": {},
   "source": [
    "# Aggregation"
   ]
  },
  {
   "cell_type": "markdown",
   "id": "bbecf1cf",
   "metadata": {},
   "source": [
    "### 問題01"
   ]
  },
  {
   "cell_type": "raw",
   "id": "dbe4745c",
   "metadata": {},
   "source": [
    "Suppose you have the following collection in MongoDB. The collection is named alpha.\n",
    "\n",
    "{\"_id\" : 1, \"region\" : \"NW1\", \"leads\" : 1, \"email\" : \"mlangley@co1.com\"}\n",
    "{\"_id\" : 2, \"region\" : \"NW1\", \"leads\" : 1, \"email\" : \"jpicoult@co4.com\"}\n",
    "{\"_id\" : 3, \"region\" : \"NW1\", \"leads\" : 2, \"email\" : \"zzz@company2.com\"}\n",
    "{\"_id\" : 4, \"region\" : \"SE1\", \"leads\" : 8, \"email\" : \"mary@hssu.edu\" }\n",
    "{\"_id\" : 5, \"region\" : \"SE2\", \"leads\" : 4, \"email\" : \"janet@col.edu\"}\n",
    "{\"_id\" : 6, \"region\" : \"SE2\", \"leads\" : 2, \"email\" : \"bill@uni.edu\"}\n",
    "{\"_id\" : 7, \"region\" : \"SE2\", \"leads\" : 4, \"email\" : \"iii@company1.com\"}\n",
    "{\"_id\" : 8, \"region\" : \"SW1\", \"leads\" : 1, \"email\" : \"phil@co3.com\"}\n",
    "{\"_id\" : 9, \"region\" : \"SW1\", \"leads\" : 2, \"email\" : \"thomas@company.com\"}\n",
    "{\"_id\" : 10, \"region\" : \"SW2\", \"leads\" : 2, \"email\" : \"sjohnson@uchi.edu\"}\n",
    "{\"_id\" : 11, \"region\" : \"SW2\", \"leads\" : 5, \"email\" : \"tsamuel@someco.com\"}\n",
    "\n",
    "How many documents will be returned in the result set in response to the following aggregation query?\n",
    "\n",
    "db.alpha.aggregate( [\n",
    "                   { \"$group\" : { \"_id\" : \"$region\" , \n",
    "                                  \"count\" : { \"$sum\" : 1 } } } ,\n",
    "                   { \"$match\" : { \"count\" : { \"$gte\" : 3 } } } \n",
    "                  ] )"
   ]
  },
  {
   "cell_type": "raw",
   "id": "c95891bf",
   "metadata": {},
   "source": [
    "2"
   ]
  },
  {
   "cell_type": "raw",
   "id": "c77a4729",
   "metadata": {},
   "source": [
    "Detailed Answer\n",
    "\n",
    "The first stage, $group, groups by the region and uses the $sum accumulator expression to count the number of documents in each group.\n",
    "\n",
    "Next, these documents flow into the $match stage, where documents with a count that is less than 3 (3 out of the 5 groups) are filtered out, returning two documents.\n",
    "\n",
    "{ \"_id\" : \"SE2\", \"count\" : 3 }\n",
    "{ \"_id\" : \"NW1\", \"count\" : 3 }"
   ]
  },
  {
   "cell_type": "markdown",
   "id": "122fbc8c",
   "metadata": {},
   "source": [
    "### 問題02"
   ]
  },
  {
   "cell_type": "raw",
   "id": "e28a6941",
   "metadata": {},
   "source": [
    "Suppose you have the following collection with only 2 documents:\n",
    "    \n",
    "> db.people.find()\n",
    "{ \"_id\" : \"apples\", \"traits\" : [ \"sweet\" , \"crispy\" ] }\n",
    "{ \"_id\" : \"oranges\", \"traits\" : [ \"sweet\" , \"orange\" , \"juicy\" ] }\n",
    "\n",
    "You run an aggregation query and begin with { $unwind : \"$traits\" } .\n",
    "How many documents will you have in the pipeline after the $unwind stage?"
   ]
  },
  {
   "cell_type": "raw",
   "id": "57862411",
   "metadata": {},
   "source": [
    "5"
   ]
  },
  {
   "cell_type": "raw",
   "id": "57f957d7",
   "metadata": {},
   "source": [
    "Detailed Answer\n",
    "\n",
    "$unwind takes a field (array) as its argument. It then replaces the original document by N documents, one for each value in the array. So taking the \"apple\" document, you would get 2 resulting documents:\n",
    "\n",
    "{ \"_id\" : \"apples\", \"traits\" : \"sweet\" }\n",
    "{ \"_id\" : \"apples\", \"traits\" : \"crispy\" }\n",
    "\n",
    "Similarly, the \"oranges\" document would unwind into 3 documents, for a total of 5 documents"
   ]
  },
  {
   "cell_type": "markdown",
   "id": "aeaf79da",
   "metadata": {},
   "source": [
    "### 問題03"
   ]
  },
  {
   "cell_type": "raw",
   "id": "58da608b",
   "metadata": {},
   "source": [
    "Which of the following statements are true about the $match pipeline stage? Check all that apply."
   ]
  },
  {
   "cell_type": "raw",
   "id": "7696d877",
   "metadata": {},
   "source": [
    "(O)1. You should use it as early as possible in the pipeline\n",
    "(O)2. It can be used as many times as needed\n",
    "(O)3. It has a syntax similar to find() commands"
   ]
  },
  {
   "cell_type": "raw",
   "id": "61f637ad",
   "metadata": {},
   "source": [
    "Detailed Answer\n",
    "\n",
    "You should use the $match stage as early as possible in your pipeline. The reason is that by filtering documents that are not part of the answer early will mean the rest of the pipeline will process less documents and will be faster.\n",
    "\n",
    "Most stages, except few exceptions, can be used many times in a pipeline."
   ]
  },
  {
   "cell_type": "markdown",
   "id": "7f71d862",
   "metadata": {},
   "source": [
    "### 問題04"
   ]
  },
  {
   "cell_type": "raw",
   "id": "d72a927a",
   "metadata": {},
   "source": [
    "The users collection contains the following documents:\n",
    "\n",
    "> db.users.find()\n",
    "{ \"_id\" : 1, \"name\" : \"dave123\", \"q1\" : true, \"q2\" : true }\n",
    "{ \"_id\" : 2, \"name\" : \"dave2\", \"q1\" : false, \"q2\" : false }\n",
    "{ \"_id\" : 3, \"name\" : \"ahn\", \"q1\" : true, \"q2\" : true }\n",
    "{ \"_id\" : 4, \"name\" : \"li\", \"q1\" : true, \"q2\" : false }\n",
    "{ \"_id\" : 5, \"name\" : \"annT\", \"q1\" : false, \"q2\" : true }\n",
    "{ \"_id\" : 6, \"name\" : \"li\", \"q1\" : true, \"q2\" : true }\n",
    "{ \"_id\" : 7, \"name\" : \"ty\", \"q1\" : false, \"q2\" : true }\n",
    "\n",
    "You perform the following query:\n",
    "\n",
    "db.users.aggregate( [ { $sample : { size : 3 } } ] )\n",
    "\n",
    "Which of the following are possible outputs from the database? Check all that apply."
   ]
  },
  {
   "cell_type": "raw",
   "id": "294c057e",
   "metadata": {},
   "source": [
    "略"
   ]
  },
  {
   "cell_type": "raw",
   "id": "a4b163c1",
   "metadata": {},
   "source": [
    "Detailed Answer\n",
    "\n",
    "The $sample stage in the Aggregation Framework returns a subset of documents in a random fashion. In the above pipeline, we ask the stage to return 3 documents, so the documents returned could be any document in any order.\n",
    "\n",
    "This $sample stage is useful when you want to test something against a large dataset, as processing all the documents would take too much time."
   ]
  },
  {
   "cell_type": "markdown",
   "id": "0e910ada",
   "metadata": {},
   "source": [
    "# Replication"
   ]
  },
  {
   "cell_type": "markdown",
   "id": "f1b29e66",
   "metadata": {},
   "source": [
    "### 問題01"
   ]
  },
  {
   "cell_type": "raw",
   "id": "511607f5",
   "metadata": {},
   "source": [
    "The people collection contains the following documents:\n",
    "\n",
    "{ \"_id\" : ObjectId(\"57fd59a2d630a0fd9685a148\"), \"firstName\" : \"Arthur\", \"lastName\" : \"Aaronson\", \"state\" : \"WA\", \"city\" : \"Seattle\", \"likes\" : [ \"dogs\", \"cats\" ] }\n",
    "{ \"_id\" : ObjectId(\"57fd59a2d630a0fd9685a149\"), \"firstName\" : \"Beth\", \"lastName\" : \"Barnes\", \"state\" : \"WA\", \"city\" : \"Richland\", \"likes\" : [ \"forest\", \"desert\" ] }\n",
    "{ \"_id\" : ObjectId(\"57fd59a2d630a0fd9685a14a\"), \"firstName\" : \"Charlie\", \"lastName\" : \"Carlson\", \"state\" : \"CA\", \"city\" : \"San Diego\", \"likes\" : [ \"desert\", \"beach\" ] }\n",
    "{ \"_id\" : ObjectId(\"57fd59a2d630a0fd9685a14b\"), \"firstName\" : \"Dawn\", \"lastName\" : \"Davis\", \"state\" : \"WA\", \"city\" : \"Seattle\", \"likes\" : [ \"forest\", \"mountains\" ] }\n",
    "\n",
    "You perform the following query:\n",
    "\n",
    "db.people.deleteMany( { state : \"NB\" } ) \n",
    "\n",
    "How many oplog entries are created as a result of this query?"
   ]
  },
  {
   "cell_type": "raw",
   "id": "43562744",
   "metadata": {},
   "source": [
    "0"
   ]
  },
  {
   "cell_type": "raw",
   "id": "99268a64",
   "metadata": {},
   "source": [
    "Detailed Answer\n",
    "\n",
    "The Oplog collection only contains an entry for a given write query if the operation has modified a document.\n",
    "Because the deleteMany operation is not deleting any document, there will be no Oplog entry to record.\n",
    "注意: 刪除一個 document 會在 oplog 紀錄一筆，刪除多個 documents 會在 oplog 紀錄多筆"
   ]
  },
  {
   "cell_type": "markdown",
   "id": "335f85dd",
   "metadata": {},
   "source": [
    "### 問題02"
   ]
  },
  {
   "cell_type": "raw",
   "id": "70eb50eb",
   "metadata": {},
   "source": [
    "Which of the following describe the primary reasons MongoDB supports replication? Check all that apply."
   ]
  },
  {
   "cell_type": "raw",
   "id": "2ec7c6ab",
   "metadata": {},
   "source": [
    "(O)1. To provide high availability\n",
    "(X)2. To enable horizontal scanling\n",
    "(O)3. To prevent downtime in case of a disaster at a data center"
   ]
  },
  {
   "cell_type": "raw",
   "id": "abfb4d65",
   "metadata": {},
   "source": [
    "Detailed Answer\n",
    "\n",
    "Horizontal scaling is defined as adding more servers, while vertical scaling is defined as increasing the resources of a server. Horizontal scaling is achieved by sharding, not replication\n",
    "\n",
    "A good practice when using replication is to have replicas in different geographical regions. If one region becomes unavailable due to a major failure in a data center or the network connection to it, the applications will continue to operate without downtime.\n",
    "\n",
    "Note that replication helps in case of physical disasters, but does not prevent against logical disasters like the deletion of a database. For that reason, replication does not replace backups."
   ]
  },
  {
   "cell_type": "markdown",
   "id": "7db3fd04",
   "metadata": {},
   "source": [
    "### 問題03"
   ]
  },
  {
   "cell_type": "raw",
   "id": "9b415e7f",
   "metadata": {},
   "source": [
    "What settings can be controlled by rs.reconfig()? Check all that apply."
   ]
  },
  {
   "cell_type": "raw",
   "id": "067f85a2",
   "metadata": {},
   "source": [
    "(O)1. Priority for each replica set number\n",
    "(O)2. Which replica set members are hidden\n",
    "(X)3. Which version of MongoDB each replica set member is running"
   ]
  },
  {
   "cell_type": "raw",
   "id": "efef7009",
   "metadata": {},
   "source": [
    "Detailed Answer\n",
    "\n",
    "You can not set the version of MongoDB a given replica is using. This would be a little difficult to control, as nodes may not have the desired version installed yet.\n",
    "\n",
    "The other options make more sense to be controlled in a global configuration, as you want to be able to change them from one location (the Primary), and have the changes being effective without having to restart the mongod processes."
   ]
  },
  {
   "cell_type": "markdown",
   "id": "5d4216f7",
   "metadata": {},
   "source": [
    "### 問題04"
   ]
  },
  {
   "cell_type": "raw",
   "id": "7d94314f",
   "metadata": {},
   "source": [
    "What is the principal advantage of having a delayed replica set member?"
   ]
  },
  {
   "cell_type": "raw",
   "id": "6c85715b",
   "metadata": {},
   "source": [
    "(O)5. It provides a window of time to recover from an operator error "
   ]
  },
  {
   "cell_type": "raw",
   "id": "031b16c9",
   "metadata": {},
   "source": [
    "Detailed Answer\n",
    "\n",
    "If you have a delayed member in your replica set, for example, a delay of one hour, it will take one hour before changes on the Primary are replicated to this member.\n",
    "\n",
    "If a user were to drop a collection or database on the Primary, you would have one hour to go to this delayed member to retrieve the destroyed data.\n",
    "\n",
    "You can also query older versions of your documents, however, you can't choose a historical version to retrieve as you only get the one that existed one hour ago."
   ]
  },
  {
   "cell_type": "markdown",
   "id": "3842199d",
   "metadata": {},
   "source": [
    "### 問題05"
   ]
  },
  {
   "cell_type": "raw",
   "id": "ae67473c",
   "metadata": {},
   "source": [
    "Which of the following is a correct definition for idempotence?"
   ]
  },
  {
   "cell_type": "raw",
   "id": "c75eea5b",
   "metadata": {},
   "source": [
    "2. If an action may be performed multiple times and have the same effect as if it had been performed once, it is idempotent. For example, $set: {a: 3} is idempotent, but $inc: {a: 1} is not"
   ]
  },
  {
   "cell_type": "raw",
   "id": "9ed57b3a",
   "metadata": {},
   "source": [
    "Detailed Answer\n",
    "\n",
    "The desire for the Oplog to be idempotent is to ensure that if the server needs to resume applying Oplog entries it will always get to the same end state, regardless if it reapplies some that entry already applied. For example, if the server crashes applying oplog5 and it is difficult to identify if oplog5 is applied, then idempotency let you restart at oplog4 without issues.\n",
    "\n",
    "Another goal is to have the new state of the document be independent of a previous state. This means all operators like $em, which relies on the previous value to determine the new value, needs to be transformed to the actual values seen. For example, if an increment operation results in modifying a field from the value '4' to the value '5', the operation should be transformed to simply set '5' on that field. Replaying this operation many times always lead to the same result."
   ]
  },
  {
   "cell_type": "markdown",
   "id": "108d0850",
   "metadata": {},
   "source": [
    "# Sharding"
   ]
  },
  {
   "cell_type": "markdown",
   "id": "2c1b3e65",
   "metadata": {},
   "source": [
    "### 問題01"
   ]
  },
  {
   "cell_type": "raw",
   "id": "9399dac8",
   "metadata": {},
   "source": [
    "In a sharded collection, which of the following is true of the primary shard?"
   ]
  },
  {
   "cell_type": "raw",
   "id": "2152c5a0",
   "metadata": {},
   "source": [
    "(X)1. It processes queries from the the application layer and determines the location of this data in the sharded cluster\n",
    "(X)2. It is a shard on which the primary for a replica set is found\n",
    "(O)3. It holds the unsharded collections for the database\n",
    "(X)4. It is simply the first shard initialized in a sharded cluster\n",
    "(X)5. It holds configuration information for the sharded cluster"
   ]
  },
  {
   "cell_type": "raw",
   "id": "75ab9cd8",
   "metadata": {},
   "source": [
    "Detailed Answer\n",
    "\n",
    "For a given database in a cluster, not all collections may be sharded. As a matter of fact, you are likely to shard only the very large collections. For the ease of management and to provide features like $lookup across collections, it makes sense to group all non-sharded collections together, and this location is referred to as the Primary Shard for this given database. Other databases in the cluster are likely to have a different Primary Shard to level the space and load between the shards.\n",
    "\n",
    "As a note, the term Primary Shard is used here, so be careful not to confuse this notion with the Primary replica in a replica set."
   ]
  },
  {
   "cell_type": "markdown",
   "id": "cf1679ad",
   "metadata": {},
   "source": [
    "### 問題02"
   ]
  },
  {
   "cell_type": "raw",
   "id": "0c2b26fc",
   "metadata": {},
   "source": [
    "When a chunk is in flight from one shard to another during a migration process, where are reads to that chunk directed?"
   ]
  },
  {
   "cell_type": "raw",
   "id": "42a79442",
   "metadata": {},
   "source": [
    "(O)1. To the shard from when it is being migrated \n",
    "(X)2. To both the shard from which it is being migrated and the shard to which it is being migrated\n",
    "(X)3. to the shard to which it is being migrated \n",
    "(X)4. Documents in the chunk are locked during migration. Reads are queued\n",
    "(X)5. To the config server"
   ]
  },
  {
   "cell_type": "raw",
   "id": "dc43697d",
   "metadata": {},
   "source": [
    "Detailed Answer\n",
    "\n",
    "When a chunk is in flight, reads and writes from the application can still access the documents in that chunk. Modifications on documents are propagated to the shard where it is migrated.\n",
    "\n",
    "Until the chunk is fully migrated, the shard (donor) that is sending it to another shard (receiver) is the only location where the all documents are present in their latest form. For that reason, the donor shard is processing the reads."
   ]
  },
  {
   "cell_type": "markdown",
   "id": "3546de42",
   "metadata": {},
   "source": [
    "### 問題03"
   ]
  },
  {
   "cell_type": "raw",
   "id": "8464b248",
   "metadata": {},
   "source": [
    "In which of the following situations can we assume sharding will be an effective strategy?"
   ]
  },
  {
   "cell_type": "raw",
   "id": "9ef39a1a",
   "metadata": {},
   "source": [
    "(X)1. A single MongDB instance cannot keep up with your application's write load and you have exhausted other optioins\n",
    "(X)2. Your data set is too big to fit in a single MongDB instance\n",
    "(X)3. You would like to impove read performance for your application\n",
    "(X)4. The data set is taking too much time to backup and restore\n",
    "(O)5. All of the above"
   ]
  },
  {
   "cell_type": "raw",
   "id": "df36cc39",
   "metadata": {},
   "source": [
    "Detailed Answer\n",
    "\n",
    "The common thread in the above answer choices is a bottleneck on resources, or for \"taking too much time to backup and restore\" a function of your operational requirements. Breaking the dataset over shards will mean that each server will have more resources available to handle the subset of data it owns, and operations of moving data across machines for replication, backups, restores will also be faster"
   ]
  },
  {
   "cell_type": "markdown",
   "id": "8f5395dc",
   "metadata": {},
   "source": [
    "### 問題04"
   ]
  },
  {
   "cell_type": "raw",
   "id": "3a83b579",
   "metadata": {},
   "source": [
    "Which of the following are traits of a hashed _id as a shard key, relative to an unhashed _id? Check all that apply."
   ]
  },
  {
   "cell_type": "raw",
   "id": "48e976e8",
   "metadata": {},
   "source": [
    "(O)1. Inserts on auto-generated ObjectId's will be distributed across shards\n",
    "(O)2. Range queries(to find documents created on a particular week, for example) may be less efficient\n",
    "(X)3. Increased security due to hashing"
   ]
  },
  {
   "cell_type": "raw",
   "id": "3b4c8295",
   "metadata": {},
   "source": [
    "Detailed Answer\n",
    "\n",
    "Auto-generated ObjectId's are monotonically increasing values. Using those as shard keys results in one shard getting all the insert operations. Hashing those ObjectId values will create a uniform distribution of values, therefore sending insert operations on all shards in a distributed fashion.\n",
    "\n",
    "Unfortunately, a range of documents who may have been colocated in the same chunks, will now be distributed randomly in all the chunks. The consequence is that any range query on a hashed shard key needs to be sent to all shards, making those queries less efficient, and also impacting the scalability of the system."
   ]
  },
  {
   "cell_type": "markdown",
   "id": "85c7baf6",
   "metadata": {},
   "source": [
    "### 問題05"
   ]
  },
  {
   "cell_type": "raw",
   "id": "6a4ad790",
   "metadata": {},
   "source": [
    "Suppose you have a sharded cluster with a status as follows:\n",
    "\n",
    "mongos> sh.status()\n",
    "--- Sharding Status --- \n",
    "  sharding version: {\n",
    "        \"_id\" : 1,\n",
    "        \"version\" : 3,\n",
    "        \"minCompatibleVersion\" : 3,\n",
    "        \"currentVersion\" : 4,\n",
    "        \"clusterId\" : ObjectId(\"51de8630162b88d59cd7b006\")\n",
    "}\n",
    "  shards:\n",
    "        {  \"_id\" : \"shard0000\",  \"host\" : \"localhost:30000\" }\n",
    "        {  \"_id\" : \"shard0001\",  \"host\" : \"localhost:30001\" }\n",
    "        {  \"_id\" : \"shard0002\",  \"host\" : \"localhost:30002\" }\n",
    "        {  \"_id\" : \"shard0003\",  \"host\" : \"localhost:30003\" }\n",
    "        {  \"_id\" : \"shard0004\",  \"host\" : \"localhost:30004\" }\n",
    "        {  \"_id\" : \"shard0005\",  \"host\" : \"localhost:30005\" }\n",
    "        {  \"_id\" : \"shard0006\",  \"host\" : \"localhost:30006\" }\n",
    "        {  \"_id\" : \"shard0007\",  \"host\" : \"localhost:30007\" }\n",
    "  databases:\n",
    "        {  \"_id\" : \"admin\",  \"partitioned\" : false,  \"primary\" : \"config\" }\n",
    "        {  \"_id\" : \"test\",  \"partitioned\" : true,  \"primary\" : \"shard0001\" }\n",
    "                test.products\n",
    "                        shard key: { \"productId\" : 1 }\n",
    "                        chunks:\n",
    "                                shard0000        2\n",
    "                                shard0002        2\n",
    "                                shard0003        1\n",
    "                                shard0004        1\n",
    "                                shard0005        1\n",
    "                                shard0006        1\n",
    "                                shard0007        1\n",
    "                                shard0001        2\n",
    "                        { \"productId\" : { \"$minKey\" : 1 } } -->> { \"productId\" : 9294 } on : shard0000 { \"t\" : 2, \"i\" : 0 } \n",
    "                        { \"productId\" : 9294 } -->> { \"productId\" : 18684 } on : shard0002 { \"t\" : 3, \"i\" : 0 } \n",
    "                        { \"productId\" : 18684 } -->> { \"productId\" : 27851 } on : shard0003 { \"t\" : 4, \"i\" : 0 } \n",
    "                        { \"productId\" : 27851 } -->> { \"productId\" : 36852 } on : shard0004 { \"t\" : 5, \"i\" : 0 } \n",
    "                        { \"productId\" : 36852 } -->> { \"productId\" : 46047 } on : shard0005 { \"t\" : 6, \"i\" : 0 } \n",
    "                        { \"productId\" : 46047 } -->> { \"productId\" : 55450 } on : shard0006 { \"t\" : 7, \"i\" : 0 } \n",
    "                        { \"productId\" : 55450 } -->> { \"productId\" : 64644 } on : shard0007 { \"t\" : 8, \"i\" : 0 } \n",
    "                        { \"productId\" : 64644 } -->> { \"productId\" : 73769 } on : shard0000 { \"t\" : 9, \"i\" : 0 } \n",
    "                        { \"productId\" : 73769 } -->> { \"productId\" : 82950 } on : shard0002 { \"t\" : 10, \"i\" : 0 } \n",
    "                        { \"productId\" : 82950 } -->> { \"productId\" : 91983 } on : shard0001 { \"t\" : 10, \"i\" : 1 } \n",
    "                        { \"productId\" : 91983 } -->> { \"productId\" : { \"$maxKey\" : 1 } } on : shard0001 { \"t\" : 1, \"i\" : 10 }\n",
    "                        \n",
    "Which shards would be involved in answering the following query:\n",
    "\n",
    "use test;\n",
    "db.products.find({\"productId\" : {\"$gte\" : 20000, \"$lte\" : 40000}});\n",
    "\n",
    "Check all that apply."
   ]
  },
  {
   "cell_type": "raw",
   "id": "30a6816a",
   "metadata": {},
   "source": [
    "(O)4. shard0003\n",
    "(O)5. shard0004\n",
    "(O)6. shard0005"
   ]
  },
  {
   "cell_type": "raw",
   "id": "5386dca6",
   "metadata": {},
   "source": [
    "Any chunk that covers the values in the range of 20,000 to 40,000 can be accessed by the find() query. Looking at the provided output for rs.status(), we identify the chunks for this range as:\n",
    "\n",
    "  { \"productId\" : 18684 } -->> { \"productId\" : 27851 } on : shard0003 { \"t\" : 4, \"i\" : 0 } \n",
    "  { \"productId\" : 27851 } -->> { \"productId\" : 36852 } on : shard0004 { \"t\" : 5, \"i\" : 0 } \n",
    "  { \"productId\" : 36852 } -->> { \"productId\" : 46047 } on : shard0005 { \"t\" : 6, \"i\" : 0 } \n",
    "  \n",
    "Those three chunks cover all values for 20,000 to 40,000. Because they are on three different shards, the query will have to be routed to those three shards, each shard returning the corresponding documents it has for the range."
   ]
  },
  {
   "cell_type": "markdown",
   "id": "b77370b4",
   "metadata": {},
   "source": [
    "### 問題06"
   ]
  },
  {
   "cell_type": "raw",
   "id": "f1fc9aa7",
   "metadata": {},
   "source": [
    "Your top three queries for a collection consist of the following query patterns:\n",
    "\n",
    "90% db.employees.find( { lastName : 1, firstName : 1, currentEmployee : 1, company : 1 }, { supervisor : 1, teamName : 1, position: 1, duties : 1, salary : 1 } )\n",
    "5% db.employees.updateOne( { employeeId: 1 }, { $set : { position : 1, teamName : 1, salary : 1, duties : 1 } } )\n",
    "1% db.employees.updateOne( { employeeId: 1 }, { $set : { currentEmployee : 1, hireDate: 1 } } )\n",
    "\n",
    "Your system is outgrowing the servers you currently have it running on, and you’d like to shard the collection. Which of the following shard keys will be most performant?"
   ]
  },
  {
   "cell_type": "raw",
   "id": "cc1778a5",
   "metadata": {},
   "source": [
    "(O)1. { company: 1, lastName: 1 }\n",
    "(X)2. { supervisor: 1, teamName: 1, position: 1, duties: 1, salary: 1 }\n",
    "(X)3. { employeeId: 1}\n",
    "(X)4. { currentEmployee: 1, hireDate: 1 }\n",
    "(X)5. { currentEmployee: 1, company: 1 }"
   ]
  },
  {
   "cell_type": "raw",
   "id": "49eabc90",
   "metadata": {},
   "source": [
    "Detailed Answer\n",
    "\n",
    "Because the first query account for 90% of your read workload, it should be the one driving the selection of the shard key.\n",
    "\n",
    "Combination of fields from that query would make the best shard key. Out of the two solutions that use a subset of those fields, the one using company and lastName is preferred to currentEmployee and company, as the currentEmployee field is likely a boolean leading to few values, and potentially a lot of documents with the same values, resulting in jumbo chunks (chunks too big to be splitted)."
   ]
  },
  {
   "cell_type": "markdown",
   "id": "d1534493",
   "metadata": {},
   "source": [
    "### 問題07"
   ]
  },
  {
   "cell_type": "raw",
   "id": "cf19da2b",
   "metadata": {},
   "source": [
    "An insufficiently granular (“low cardinality”) shard key can result in which type of problems? Check all that apply."
   ]
  },
  {
   "cell_type": "raw",
   "id": "74ae7900",
   "metadata": {},
   "source": [
    "(O)1. Large chunks that cannot be split\n",
    "(X)2. More shards getting hit on certain queries\n",
    "(X)3. Limits to documents size"
   ]
  },
  {
   "cell_type": "raw",
   "id": "278267db",
   "metadata": {},
   "source": [
    "Detailed Answer\n",
    "\n",
    "Documents with the same values for their shard key will be colocated in the same chunk. If a lot of documents have the same values, this may result in a very big chunk. The system is unable to split this chunk as there is no value between the bounds of the chunk. For example if a shard key is the name of a country, all documents with USA are placed in the same chunk, and this chunk can't be split, as there is no other value between USA and USA.\n",
    "\n",
    "Chunks that can not be split are called jumbo chunks."
   ]
  },
  {
   "cell_type": "markdown",
   "id": "09089002",
   "metadata": {},
   "source": [
    "### 問題08"
   ]
  },
  {
   "cell_type": "raw",
   "id": "7b42aa7e",
   "metadata": {},
   "source": [
    "In a sharded cluster, which of the following indexes should contain only unique values? Check all that apply."
   ]
  },
  {
   "cell_type": "raw",
   "id": "d143cd84",
   "metadata": {},
   "source": [
    "(O)1. The _id index\n",
    "(X)2. The shard key index\n",
    "(X)3. A single-field index"
   ]
  },
  {
   "cell_type": "raw",
   "id": "0ac623b3",
   "metadata": {},
   "source": [
    "Detailed Answer\n",
    "\n",
    "The _id must be unique in a replica set, as those values are used in the Oplog to reference documents to update. This characteristic of uniqueness is enforced by the system.\n",
    "\n",
    "In a sharded cluster, _id must also be unique across the sharded collection because documents may migrate to another shard, and identical values would prevent the document to be inserted in the receiver shard, failing the migration of the chunk. It is the responsibility of the application to ensure uniqueness on _id for a given collection in a sharded cluster if it is not the shard key.\n",
    "\n",
    "Note that if _id is used as the shard key, the system will automatically enforce the uniqueness of the values, as chunk ranges are assigned to a single shard, and the shard can ensure uniqueness on the values in that range.\n",
    "\n",
    "As for the shard key index, if it's not _id, it is perfectly acceptable to have identical values for different documents. However, beware of having too many documents with the same values, as this will lead to jumbo chunks."
   ]
  },
  {
   "cell_type": "markdown",
   "id": "4974297b",
   "metadata": {},
   "source": [
    "### 問題09"
   ]
  },
  {
   "cell_type": "raw",
   "id": "aba3e26f",
   "metadata": {},
   "source": [
    "Consider a collection of users with the following fields and possible values:\n",
    "\n",
    "* phone_number -- a 10-digit telephone number (string)\n",
    "* eye_color -- \"brown\", \"hazel\", \"blue\", \"green\", or \"other\" (string)\n",
    "* weight -- an integer in pounds; known for about half the users\n",
    "* started_driving_at -- the age at which the user got their driver's license in years. For most users this is 15, 16, 17,  \n",
    "  or 18. (integer)\n",
    "* _id -- automatically created on insert (ObjectId)\n",
    "\n",
    "Assuming the data-access patterns also support your choice, which of these fields would make the best shard key?"
   ]
  },
  {
   "cell_type": "raw",
   "id": "be97069c",
   "metadata": {},
   "source": [
    "(O)1. phone_number\n",
    "(X)2. eye_color\n",
    "(X)3. weight\n",
    "(X)4. started_diving_at\n",
    "(X)5. _id"
   ]
  },
  {
   "cell_type": "raw",
   "id": "a586687e",
   "metadata": {},
   "source": [
    "Detailed Answer\n",
    "\n",
    "Phone number is the best selection here.\n",
    "\n",
    "With weight, eye_color, and started_driving_at, we run the risk of low cardinality and wouldn't get a good distribution.\n",
    "\n",
    "_id would not make a good shard key because it isn't something meaningful we could query the database with in normal circumstances, like searching for a customer record when they call into a call center."
   ]
  }
 ],
 "metadata": {
  "kernelspec": {
   "display_name": "Python 3",
   "language": "python",
   "name": "python3"
  },
  "language_info": {
   "codemirror_mode": {
    "name": "ipython",
    "version": 3
   },
   "file_extension": ".py",
   "mimetype": "text/x-python",
   "name": "python",
   "nbconvert_exporter": "python",
   "pygments_lexer": "ipython3",
   "version": "3.8.10"
  }
 },
 "nbformat": 4,
 "nbformat_minor": 5
}
