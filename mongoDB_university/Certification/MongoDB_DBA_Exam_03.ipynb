{
 "cells": [
  {
   "cell_type": "markdown",
   "id": "d0da3898",
   "metadata": {},
   "source": [
    "# CRUD"
   ]
  },
  {
   "cell_type": "markdown",
   "id": "325082e2",
   "metadata": {},
   "source": [
    "### 問題01"
   ]
  },
  {
   "cell_type": "raw",
   "id": "3ce86003",
   "metadata": {},
   "source": [
    "Consider the following documents in collection employees:\n",
    "\n",
    "db.employees.find().sort({ \"$natural\": 1 }).pretty()\n",
    "\n",
    "{\n",
    "  _id: 1,\n",
    "  name: \"Joe\",\n",
    "  last: \"Doe\"\n",
    "}\n",
    "{\n",
    "  _id: 2,\n",
    "  name: \"Jane\",\n",
    "  last: \"Doe\"\n",
    "}\n",
    "{\n",
    "  _id: 3,\n",
    "  name: \"Jeff\",\n",
    "  last: \"Doe\"\n",
    "}\n",
    "\n",
    "Which of the following documents will be replaced as result of this replaceOne operation:\n",
    "\n",
    "db.employees.replaceOne(\n",
    "  { \"last\": \"Doe\" },\n",
    "  { \"name\": { \"first\": \"Walter\", \"last\": \"Doe\" } }\n",
    ")"
   ]
  },
  {
   "cell_type": "raw",
   "id": "f1131e6b",
   "metadata": {},
   "source": [
    "(O)1. {\n",
    "  _id: 1,\n",
    "  name: \"Joe\",\n",
    "  last: \"Doe\"\n",
    "}"
   ]
  },
  {
   "cell_type": "raw",
   "id": "7cfe5c8f",
   "metadata": {},
   "source": [
    "This would be the first document to be returned by the query filter {last: \"Doe\"} therefore the document to be replaced."
   ]
  },
  {
   "cell_type": "markdown",
   "id": "5d8160b7",
   "metadata": {},
   "source": [
    "# Server Administration"
   ]
  },
  {
   "cell_type": "markdown",
   "id": "27f8f3d7",
   "metadata": {},
   "source": [
    "### 問題05"
   ]
  },
  {
   "cell_type": "raw",
   "id": "c6de2ade",
   "metadata": {},
   "source": [
    "In the command below, what is the impact of the j: true setting?\n",
    "\n",
    "db.products.insert(\n",
    "  { item: \"envelopes\", qty : 100, type: \"A4\" },\n",
    "  { writeConcern: { w: \"majority\" ,  j: true } }\n",
    ")"
   ]
  },
  {
   "cell_type": "raw",
   "id": "3ad3d85c",
   "metadata": {},
   "source": [
    "(X)1. It enables journaling\n",
    "(X)2. You should never set j:true\n",
    "(O)3. It forces data to be synced to the journal before acknowledging a write"
   ]
  },
  {
   "cell_type": "raw",
   "id": "ee483eb7",
   "metadata": {},
   "source": [
    "Detailed Answer\n",
    "\n",
    "Correct answer:\n",
    "\n",
    "Setting {j: true} forces data to be synced to disk before acknowledging a write operation. Be aware that this may have some performance impact while the operation waits for the journal commit.\n",
    "\n",
    "Incorrect answers:\n",
    "\n",
    "# It enables journaling\n",
    "Enabling or disabling journaling is an operation done at the process level, not per operation.\n",
    "\n",
    "# You should never set j:true\n",
    "j: true is a valid write concern option. With j: true, MongoDB returns only after the requested number of members, including the primary, have written to the journal."
   ]
  },
  {
   "cell_type": "markdown",
   "id": "106f2ec9",
   "metadata": {},
   "source": [
    "# Application Administration"
   ]
  },
  {
   "cell_type": "markdown",
   "id": "8bff96d2",
   "metadata": {},
   "source": [
    "### 問題01"
   ]
  },
  {
   "cell_type": "raw",
   "id": "ec2f2e23",
   "metadata": {},
   "source": [
    "Consider the following operation:\n",
    "\n",
    "db.createUser({\n",
    " \"user\": \"appusername\",\n",
    " \"pwd\": \"apppassword\",\n",
    " \"roles\": [ { \"role\": \"readWrite\", \"db\": \"applicationDB\" } ]\n",
    "})\n",
    "\n",
    "Assume that the audit log captured this operation. By default, what information will appear in the audit log?"
   ]
  },
  {
   "cell_type": "raw",
   "id": "2368fe51",
   "metadata": {},
   "source": [
    "(O)1. The role readWrite\n",
    "(X)2. The password apppassword\n",
    "(O)3. The username appusername"
   ]
  },
  {
   "cell_type": "raw",
   "id": "e416af02",
   "metadata": {},
   "source": [
    "Detailed Answer\n",
    "\n",
    "Correct Answers\n",
    "\n",
    "# The username appusername.\n",
    "# The role readWrite.\n",
    "\n",
    "Incorrect Answers\n",
    "\n",
    "# The password apppassword.\n",
    "The password in a createUser command is redacted from the audit log by default, for security purposes."
   ]
  },
  {
   "cell_type": "markdown",
   "id": "2959ba1a",
   "metadata": {},
   "source": [
    "### 問題03"
   ]
  },
  {
   "cell_type": "raw",
   "id": "adbc1723",
   "metadata": {},
   "source": [
    "Which of the following statements are true?"
   ]
  },
  {
   "cell_type": "raw",
   "id": "9a42ad96",
   "metadata": {},
   "source": [
    "(O)1. In keyfiles, a key's length must be between 6 and 1024 characters\n",
    "(O)2. You can use X.509 to authenticate between nodes in a replica set\n",
    "(X)3. Kerberos can be used for internal authentication between nodes in a replica set."
   ]
  },
  {
   "cell_type": "raw",
   "id": "137f8c02",
   "metadata": {},
   "source": [
    "Detailed Answer\n",
    "\n",
    "The correct answers are:\n",
    "\n",
    "# You can use X.509 to authenticate between nodes in a replica set\n",
    "# In keyfiles, a key's length must be between 6 and 1024 characters\n",
    "\n",
    "Incorrect answers:\n",
    "\n",
    "#　Kerberos can be used for internal authentication between nodes in a replica set. Kerberos is not available for internal\n",
    "　　authentication　and can only be used for client authentication to a mongod."
   ]
  },
  {
   "cell_type": "markdown",
   "id": "02fde490",
   "metadata": {},
   "source": [
    "### 問題04"
   ]
  },
  {
   "cell_type": "raw",
   "id": "9c6d885d",
   "metadata": {},
   "source": [
    "In a sharded cluster with authentication enabled, a user must authenticate before accessing a mongos process.\n",
    "Where is this user data stored?"
   ]
  },
  {
   "cell_type": "raw",
   "id": "42783dbe",
   "metadata": {},
   "source": [
    "(O)2. the config servers"
   ]
  },
  {
   "cell_type": "raw",
   "id": "b7273098",
   "metadata": {},
   "source": [
    "Detailed Answer\n",
    "\n",
    "In a sharded cluster, the config servers store all user data used to authenticate to mongos."
   ]
  },
  {
   "cell_type": "markdown",
   "id": "b4504e8b",
   "metadata": {},
   "source": [
    "### 問題10"
   ]
  },
  {
   "cell_type": "raw",
   "id": "34b03ead",
   "metadata": {},
   "source": [
    "Which shell command allows to view the contents of the server.pem x509 certificate file in a readable format?"
   ]
  },
  {
   "cell_type": "raw",
   "id": "87042130",
   "metadata": {},
   "source": [
    "(O)5. openssl x509 -in server.pem -text"
   ]
  },
  {
   "cell_type": "raw",
   "id": "75d3f518",
   "metadata": {},
   "source": [
    "Detailed Answer\n",
    "\n",
    "All other answers are incorrect. For more information on working with encrypted files visit the openssl"
   ]
  },
  {
   "cell_type": "markdown",
   "id": "a399318c",
   "metadata": {},
   "source": [
    "### 問題11"
   ]
  },
  {
   "cell_type": "raw",
   "id": "f186b2d9",
   "metadata": {},
   "source": [
    "Which of the following is true in relation to the encrypted storage engine in MongoDB?"
   ]
  },
  {
   "cell_type": "raw",
   "id": "3b46b467",
   "metadata": {},
   "source": [
    "(O)1. Master keys are stored outside MongoDB\n",
    "(O)2. Database keys are stored inside MongoDB\n",
    "(X)3. Database keys can be managed using KMIP\n",
    "(X)4. Master keys are password protected"
   ]
  },
  {
   "cell_type": "raw",
   "id": "8440b481",
   "metadata": {},
   "source": [
    "Detailed Answer\n",
    "\n",
    "Correct answers\n",
    "\n",
    "# Master keys are stored outside MongoDB. \n",
    "This is true, we recommend that you use KMIP to manage these keys.\n",
    "\n",
    "# Database keys are stored inside MongoDB. \n",
    "This is also true, there is a key per database stored inside MongoDB. \n",
    "\n",
    "Incorrect answers\n",
    "\n",
    "# Database keys can be managed using KMIP. \n",
    "These keys cannot be managed using KMIP as they are stored inside MongoDB.\n",
    "\n",
    "# Master keys are password protected. \n",
    "Master keys are not password protected."
   ]
  },
  {
   "cell_type": "markdown",
   "id": "fbe9d3c8",
   "metadata": {},
   "source": [
    "# Sharding"
   ]
  },
  {
   "cell_type": "markdown",
   "id": "1201d9af",
   "metadata": {},
   "source": [
    "### 問題05"
   ]
  },
  {
   "cell_type": "raw",
   "id": "87a3ffdf",
   "metadata": {},
   "source": [
    "The config database in a sharded cluster contains information such as:"
   ]
  },
  {
   "cell_type": "raw",
   "id": "4bd2ae57",
   "metadata": {},
   "source": [
    "(X)1. Hints to improve the performance of sharded queries\n",
    "(O)2. The distribution of chunks and chunk boundaries\n",
    "(O)3. The primary shard for a database"
   ]
  },
  {
   "cell_type": "raw",
   "id": "056026fe",
   "metadata": {},
   "source": [
    "Detailed Answer\n",
    "\n",
    "The config database contains a lot of information, including which shard is the primary shard for a database and how information on chunk distribution and boundaries.\n",
    "\n",
    "It does not include performance hints."
   ]
  },
  {
   "cell_type": "markdown",
   "id": "d1283836",
   "metadata": {},
   "source": [
    "### 問題10"
   ]
  },
  {
   "cell_type": "raw",
   "id": "4ef4f9ac",
   "metadata": {},
   "source": [
    "Consider the following aggregation pipeline:\n",
    "    \n",
    "use services\n",
    "\n",
    "db.restaurants.aggregate([\n",
    "  {\n",
    "    \"$project\": {\n",
    "      \"avgRating\": { \"$sum\": \"$reviews.rating\" }\n",
    "    }\n",
    "  },\n",
    "  {\n",
    "    \"$out\": \"restaurants\"\n",
    "  }\n",
    "])\n",
    "\n",
    "If this pipeline is executed on a sharded collection, where can the $out stage be performed?"
   ]
  },
  {
   "cell_type": "raw",
   "id": "73c4c812",
   "metadata": {},
   "source": [
    "(X)1. A random shard\n",
    "(O)2. The primary shard\n",
    "(X)3. The mongos"
   ]
  },
  {
   "cell_type": "raw",
   "id": "e1c63dea",
   "metadata": {},
   "source": [
    "Detailed Answer\n",
    "\n",
    "The correct answer is the primary shard. This is because the $out stage must always be run on the primary shard for a sharded collection. All other answers are incorrect."
   ]
  }
 ],
 "metadata": {
  "kernelspec": {
   "display_name": "Python 3",
   "language": "python",
   "name": "python3"
  },
  "language_info": {
   "codemirror_mode": {
    "name": "ipython",
    "version": 3
   },
   "file_extension": ".py",
   "mimetype": "text/x-python",
   "name": "python",
   "nbconvert_exporter": "python",
   "pygments_lexer": "ipython3",
   "version": "3.8.10"
  }
 },
 "nbformat": 4,
 "nbformat_minor": 5
}
