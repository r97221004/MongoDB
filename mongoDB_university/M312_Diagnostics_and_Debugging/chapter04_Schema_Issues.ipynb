{
 "cells": [
  {
   "cell_type": "markdown",
   "id": "40a47442",
   "metadata": {},
   "source": [
    "# What Schema Design Problems Look Like in an Application"
   ]
  },
  {
   "cell_type": "raw",
   "id": "7a4e0067",
   "metadata": {},
   "source": [
    "Let's talk about schema design.\n",
    "\n",
    "Obviously this isn't a schema design course, but you do want to be able to identify some of the most obvious signs of a bad schema and what they might mean.\n",
    "\n",
    "The thing to keep in mind is that the structure of your data affects performance.\n",
    "\n",
    "This can't be emphasized enough.\n",
    "\n",
    "If you're at least aware of this fact you can be mindful when creating an application.\n",
    "\n",
    "Now, in your application evidence of schema design problems can show themselves in a few ways.\n",
    "\n",
    "First, you might have a situation where every time a user lands on a page or clicks a button or otherwise does just one thing the application fires off a whole bunch of queries.\n",
    "\n",
    "A separate problem can arise if the application is packing lots of rarely used data into it's frequently accessed documents.\n",
    "\n",
    "MongoDB needs to hold at minimum an entire document in RAM in order to read from it, and it often needs to pull multiple documents into the cache at the same time.\n",
    "\n",
    "If your application is packing rarely use data into a document that needs to be touched frequently, that means it's more likely to evict other important data from the cache when that document gets read.\n",
    "\n",
    "Multiply this across a collection and the net result is that the server could be paging a lot more data than necessary in order to service the application.\n",
    "\n",
    "In this chapter we'll investigate some examples of these issues, find their root causes, and discuss how to fix them.\n",
    "\n",
    "Let's get started."
   ]
  },
  {
   "cell_type": "markdown",
   "id": "cf350929",
   "metadata": {},
   "source": [
    "# Schema Investigation"
   ]
  },
  {
   "cell_type": "raw",
   "id": "7f134e02",
   "metadata": {},
   "source": [
    "Here's the scenario, you've got an application.\n",
    "\n",
    "And as your user base grows, your user activity grows and your server speed is dropping.\n",
    "\n",
    "You've got a dev environment that's set up just like prod, and your goal is to figure out what's going on.\n",
    "\n",
    "Let's check it out.\n",
    "\n",
    "First, let's go into our VM and start a replica set.\n",
    "\n",
    "Great.\n",
    "\n",
    "Next, let's generate our data set with this script.\n",
    "\n",
    "This might take a few minutes.\n",
    "\n",
    "OK, so the next script is going to simulate a home page for a user at an e-commerce web site.\n",
    "\n",
    "I just wrote something to print everything out in the shell, but it should give you an idea of what the web site would look like and what data it would display."
   ]
  },
  {
   "cell_type": "markdown",
   "id": "1831e739",
   "metadata": {},
   "source": [
    "<img src=\"img/183.png\">"
   ]
  },
  {
   "cell_type": "raw",
   "id": "7e6eb60c",
   "metadata": {},
   "source": [
    "OK so at this point when I hit Enter, I'm going to do a simulated user log in on my site's landing page.\n",
    "\n",
    "This is an e-commerce site.\n",
    "\n",
    "That's what it's going to display.\n",
    "\n",
    "Again, we're assuming we're doing this in a development environment.\n",
    "\n",
    "Let's turn on the profiler first.\n",
    "\n",
    "I'll do this in a new tab.\n",
    "\n",
    "OK now that my profiler is on, I'm going to go back, hit Enter, and see what happens.\n",
    "\n",
    "So I want you to imagine that a log-in page is displayed-- something like this.\n",
    "\n",
    "It's saying hello."
   ]
  },
  {
   "cell_type": "markdown",
   "id": "f0f341c2",
   "metadata": {},
   "source": [
    "<img src=\"img/184.png\">"
   ]
  },
  {
   "cell_type": "raw",
   "id": "56c15996",
   "metadata": {},
   "source": [
    "This is your name.\n",
    "\n",
    "Here's your username.\n",
    "\n",
    "I know it was generated randomly, so the user name doesn't look much like the name.\n",
    "\n",
    "Tells us when our last log-in was.\n",
    "\n",
    "Looks like we have a cart ready for checkout.\n",
    "\n",
    "We're buying some forks, pillow, etc.\n",
    "\n",
    "We've got some contact information to review, some phone numbers, an address.\n",
    "\n",
    "OK, well let's go back, shut off our profiler, and let's see how many documents we got.\n",
    "\n",
    "15."
   ]
  },
  {
   "cell_type": "markdown",
   "id": "a6a6edb0",
   "metadata": {},
   "source": [
    "<img src=\"img/185.png\">"
   ]
  },
  {
   "cell_type": "raw",
   "id": "939c0587",
   "metadata": {},
   "source": [
    "OK, so this is my first sign that something went wrong.\n",
    "\n",
    "Here, I just went to a landing page.\n",
    "\n",
    "I did one thing and I've got 15 queries that seem to have hit my database.\n",
    "\n",
    "That doesn't look good.\n",
    "\n",
    "Let's just look at these planned summaries real quick."
   ]
  },
  {
   "cell_type": "markdown",
   "id": "f9ebf0b7",
   "metadata": {},
   "source": [
    "<img src=\"img/186.png\">\n",
    "<img src=\"img/187.png\">"
   ]
  },
  {
   "cell_type": "raw",
   "id": "9e52632c",
   "metadata": {},
   "source": [
    "Index scan, index scan, ID hack, which is basically an index scan using the underscore ID field.\n",
    "\n",
    "OK everything is using an index, so that's good.\n",
    "\n",
    "My queries are efficient, it's just that I've got so many of them.\n",
    "\n",
    "Let's look a little deeper.\n",
    "\n",
    "OK, query on phone numbers.\n",
    "\n",
    "Query on phone numbers.\n",
    "\n",
    "Query on phone numbers.\n",
    "\n",
    "That's a good piece of information.\n",
    "\n",
    "When a collection is being queried multiple times, that's a sign that the application is just finding one document at a time when it might be able to find multiple ones.\n",
    "\n",
    "Right now the database is asking for these phone numbers by their underscore ID three times in a row all for a single user.\n",
    "\n",
    "And I know it was a single user because I generated this set of queries by logging in as just that user.\n",
    "\n",
    "Now, the underscore IDs that we're looking for are actually all different.\n",
    "\n",
    "Note that this one ends with a 9.\n",
    "\n",
    "This one ends with a b.\n",
    "\n",
    "This one ends with a d.\n",
    "\n",
    "So they're not quite asking the exact same question, but it's asking very similar questions all in a group.\n",
    "\n",
    "This is an anti-pattern in any database, by the way-- and that includes MongoDB, relational databases, whatever you're looking at.\n",
    "\n",
    "The problem is with how the application was written.\n",
    "\n",
    "Instead of doing a query for just one record at a time, a smart application would group together the phone number queries and then query the database for an underscore ID that matches any from that set of three underscore IDs.\n",
    "\n",
    "That's really not a schema design issue and it wouldn't require a change of schema to fix.\n",
    "\n",
    "But it is an anti-pattern and it's worth noticing.\n",
    "\n",
    "OK let's move on, I'm going to use a little aggregation to eliminate the redundant queries on each namespace."
   ]
  },
  {
   "cell_type": "markdown",
   "id": "e59ada34",
   "metadata": {},
   "source": [
    "---"
   ]
  },
  {
   "cell_type": "markdown",
   "id": "e588023c",
   "metadata": {},
   "source": [
    "<img src=\"img/188.png\">"
   ]
  },
  {
   "cell_type": "raw",
   "id": "c5e0af30",
   "metadata": {},
   "source": [
    "OK, so I can see that this logins collection appears twice.\n",
    "\n",
    "Once when I query it, once when I insert on it.\n",
    "\n",
    "So that's fine.\n",
    "\n",
    "It's everything else that's the problem.\n",
    "\n",
    "I'm counting eight collections that we're hitting just to get the information for a standard user login.\n",
    "\n",
    "That's totally unacceptable.\n",
    "\n",
    "One of the patterns of schema design is that data that is queried together should be in the same document whenever possible.\n",
    "\n",
    "It's obvious already that that's not the case here.\n",
    "\n",
    "Looking at these, I can see that I'm looking first at one and then another collection for the information that I need.\n",
    "\n",
    "Let's look at our schema for user phone numbers."
   ]
  },
  {
   "cell_type": "markdown",
   "id": "1a5b42f5",
   "metadata": {},
   "source": [
    "<img src=\"img/189.png\">"
   ]
  },
  {
   "cell_type": "raw",
   "id": "2505d300",
   "metadata": {},
   "source": [
    "Yikes.\n",
    "\n",
    "OK, I'm seeing nothing but what was obviously once a joined table in a relational database.\n",
    "\n",
    "I've got a user ID and a phone number ID and then this label field seems to have some metadata about the phone number.\n",
    "\n",
    "OK, let's look at phone numbers."
   ]
  },
  {
   "cell_type": "markdown",
   "id": "46bf9ad6",
   "metadata": {},
   "source": [
    "<img src=\"img/190.png\">"
   ]
  },
  {
   "cell_type": "raw",
   "id": "0804f56d",
   "metadata": {},
   "source": [
    "OK.\n",
    "\n",
    "So my phone number document has just a phone number and an extension.\n",
    "\n",
    "Now here's the problem.\n",
    "\n",
    "I'm not just hating on relational schemas.\n",
    "\n",
    "They're great for relational databases.\n",
    "\n",
    "My problem is that someone tried to take that, that relational schema and move it into MongoDB.\n",
    "\n",
    "And here's where the problem arises."
   ]
  },
  {
   "cell_type": "markdown",
   "id": "6b8e7421",
   "metadata": {},
   "source": [
    "<img src=\"img/191.png\">"
   ]
  },
  {
   "cell_type": "raw",
   "id": "f099c059",
   "metadata": {},
   "source": [
    "Instead of just querying the data once, they're querying users to get a user ID then querying user phone numbers to get the phone number IDs and then querying the phone numbers collection to get the phone number that really should have been in the user document itself.\n",
    "\n",
    "This is so not worth the overhead of the additional queries.\n",
    "\n",
    "This phone number should be in my user document not in a phone numbers document much less a phone numbers document with a user phone numbers document we have to query just to join these two in the application.\n",
    "\n",
    "OK let's back up and look at our user document.\n",
    "\n",
    "OK, I've got a full name, username, password, birthday, but my log in itself shows well, let's move over.\n",
    "\n",
    "Address, phone number, shopping cart, last log in.\n",
    "\n",
    "Yeah, that all should be packed into the user document.\n",
    "\n",
    "By now I've got a great deal of evidence that over normalization is the anti-pattern that caused most of these problems.\n",
    "\n",
    "By the way I also want to point out that when I look through these collections, I don't see a raise in any of them.\n",
    "\n",
    "And it looks like user phone numbers is being queried just to avoid an array of phone numbers.\n",
    "\n",
    "Again, this is the sort of thing that happens in a relational database, which makes sense.\n",
    "\n",
    "Because in a relational world, you don't just get to pack an arbitrary number of items into a record.\n",
    "\n",
    "You don't have arrays.\n",
    "\n",
    "But you can in MongoDB, and you should.\n",
    "\n",
    "Let's see our list of collections."
   ]
  },
  {
   "cell_type": "markdown",
   "id": "c50af40f",
   "metadata": {},
   "source": [
    "<img src='img/192.png'>"
   ]
  },
  {
   "cell_type": "raw",
   "id": "9aa5d78d",
   "metadata": {},
   "source": [
    "OK, so I just built the system dot profile collection but everything else is used by this schema.\n",
    "\n",
    "How do we fix this?\n",
    "\n",
    "Ultimately, this is a schema that the developers are going to have to fix.\n",
    "\n",
    "And it's probably going to be an uncomfortable conversation telling them that that's the situation.\n",
    "\n",
    "If all this data is going to be needed every time the user lands on a page, it should all get thrown into the user document.\n",
    "\n",
    "And those other collections should be eliminated.\n",
    "\n",
    "This is going to be true for phone numbers, addresses, and the shopping cart.\n",
    "\n",
    "OK.\n",
    "\n",
    "But you might ask, well, what if two people share an address?\n",
    "\n",
    "Doesn't that mean that you have to store the address twice?\n",
    "\n",
    "And the answer to that is, yes.\n",
    "\n",
    "You do have to store it twice, three times, maybe even 10 times if friends are shipping other friends they're gifts.\n",
    "\n",
    "It's worth an occasional copy of an address or phone number because you're going to need it.\n",
    "\n",
    "And you don't want to perform unnecessary joins in your application.\n",
    "\n",
    "That extra space that you have to take up is going to mean that you get a lot of extra speed in your database.\n",
    "\n",
    "By the way, I wouldn't advocate for eliminating all of these other collections.\n",
    "\n",
    "For example, I'd recommend putting just the last log in into the application and also into the logins collection.\n",
    "\n",
    "But probably not eliminating the logins collection entirely.\n",
    "\n",
    "Same for the purchase history.\n",
    "\n",
    "Why?\n",
    "\n",
    "Because while any given person is only going to have so many addresses or phone numbers, their number of logins and purchases will just continue to grow over time.\n",
    "\n",
    "Eventually, you're going to end up with documents packed with things you don't want.\n",
    "\n",
    "What I'd recommend is just storing that last log in time plus the shopping cart and the user document since that's all we need for the landing page.\n",
    "\n",
    "You can use a find an update query to reset the last log to the present, performing a read and write in a single query, and then separately insert its document into logins.\n",
    "\n",
    "Which is a cheap operation.\n",
    "\n",
    "If the user wants to see their purchase history, put that on a separate web page that they can click on.\n",
    "\n",
    "And perform the purchase history query at that point.\n",
    "\n",
    "They shouldn't need to see their full log in history every time they log in.\n",
    "\n",
    "But maybe I want to store that for analytics purposes.\n",
    "\n",
    "So we'll keep it away from the user document because that should just hold the data we need when they log in.\n",
    "\n",
    "OK."
   ]
  },
  {
   "cell_type": "markdown",
   "id": "bacc33a4",
   "metadata": {},
   "source": [
    "<img src=\"img/193.png\">"
   ]
  },
  {
   "cell_type": "raw",
   "id": "bd780da7",
   "metadata": {},
   "source": [
    "What did we learn?\n",
    "\n",
    "First, avoid round trips to the database.\n",
    "\n",
    "User events should only generate a small number of queries.\n",
    "\n",
    "Second, use arrays where needed and of course where they won't grow indefinitely.\n",
    "\n",
    "Third, a little de-normalization is OK as long as it's in the interests of speed.\n",
    "\n",
    "And forth, please don't just migrate relational schemas.\n",
    "\n",
    "There are a lot of things that are patterns for relational schemas that are anti patterns for MongoDB.\n",
    "\n",
    "And that's how we investigate a schema."
   ]
  },
  {
   "cell_type": "markdown",
   "id": "c70878ad",
   "metadata": {},
   "source": [
    "### 範例01-Investigate Schema Issues"
   ]
  },
  {
   "cell_type": "code",
   "execution_count": null,
   "id": "34dddd13",
   "metadata": {},
   "outputs": [],
   "source": []
  }
 ],
 "metadata": {
  "kernelspec": {
   "display_name": "Python 3",
   "language": "python",
   "name": "python3"
  },
  "language_info": {
   "codemirror_mode": {
    "name": "ipython",
    "version": 3
   },
   "file_extension": ".py",
   "mimetype": "text/x-python",
   "name": "python",
   "nbconvert_exporter": "python",
   "pygments_lexer": "ipython3",
   "version": "3.8.10"
  }
 },
 "nbformat": 4,
 "nbformat_minor": 5
}
