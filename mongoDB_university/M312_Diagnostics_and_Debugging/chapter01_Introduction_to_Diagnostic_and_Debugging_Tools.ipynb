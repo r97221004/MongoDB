{
 "cells": [
  {
   "cell_type": "markdown",
   "id": "ac71c616",
   "metadata": {},
   "source": [
    "# Introduction to Diagnostic and Debugging Tools"
   ]
  },
  {
   "cell_type": "raw",
   "id": "6bf92b7b",
   "metadata": {},
   "source": [
    "Let's get a sense of the tools we're going to be using in this course.\n",
    "\n",
    "When we look at scenarios going forward, this will be a basic set of MongoDB tools that we'll use to figure out what's going on and what we need to do to fix things.\n",
    "\n",
    "These tools are the main ones you should go to when a problem arises, and if you'll be diagnosing and debugging problems in MongoDB, you'll want to be familiar with all of them.\n",
    "\n",
    "First, let's look at the server tools.\n",
    "\n",
    "When I say server tools, these are some helpware programs that come with MongoDB."
   ]
  },
  {
   "cell_type": "markdown",
   "id": "7bf4c5e7",
   "metadata": {},
   "source": [
    "<img src=\"img/1.png\">"
   ]
  },
  {
   "cell_type": "raw",
   "id": "2a9438c7",
   "metadata": {},
   "source": [
    "The list includes the following programs-- mongostat, which shows incoming operations in real time; mongotop, which lets us know which collections we're spending time reading from and writing to; mongoreplay, a very useful tool, which is used to monitor, record, and replay network traffic for diagnostic and debugging purposes; and last but not least, mongo, our administrative shell, which is the main command line administration interface of MongoDB.\n",
    "\n",
    "You've already been using it to learn some of the basics of MongoDB, and we'll be showing you some of the functionality that can help you with diagnostics and debugging, including information about your indexes, the state of the server, and finding and managing long-running operations.\n",
    "\n",
    "We'll also be using the database profiler, which logs queries for us, as well as MongoDB Compass, our graphical user interface, which can be used to look at the current state of your database, and also has its own tools to help you explore what's happening on your server in terms of real-time performance metrics.\n",
    "\n",
    "We'll also be using a suite of programs that fall under the name of mtools, a public GitHub repo created by our very own Martin Rueckstiess.\n",
    "\n",
    "These tools give you the ability to spin-up replica sets and sharded clusters locally for testing purposes, and also include a number of log analysis tools to help you find issues, and workload generation tools that can help with load testing.\n",
    "\n",
    "Finally, while we won't be able to spend time on them in this course, you should at least be aware of MongoDB Cloud Manager and Ops Manager, the MongoDB solutions for cluster management.\n",
    "\n",
    "If you're interested, you can take our sister course-- M122.\n",
    "\n",
    "You'll find a link in the lecture notes.\n",
    "\n",
    "In this chapter, we're going to give you an overview of these important tools.\n",
    "\n",
    "Later on, we'll dive deep into each of them while we're exploring simulated issues.\n",
    "\n",
    "Let's get started."
   ]
  },
  {
   "cell_type": "markdown",
   "id": "280b30bd",
   "metadata": {},
   "source": [
    "### 範例01"
   ]
  },
  {
   "cell_type": "raw",
   "id": "b66cd8d7",
   "metadata": {},
   "source": [
    "If you want tools to help you parse and visualize the log files, which of the following would be the best place to look?"
   ]
  },
  {
   "cell_type": "raw",
   "id": "cdcb6fa9",
   "metadata": {},
   "source": [
    "Correct answer:\n",
    "\n",
    "# The one correct answer is mtools, which includes the log parsing tool, mlogfilter, and the visualization tools, mlogvis\n",
    "  and mplotqueries, as well as mloginfo, the log parsing tool.\n",
    "  \n",
    "Incorrect answers:\n",
    "\n",
    "# Mongostat is good for determining current activity on a server, but not for dealing with log files.\n",
    "# Mongotop is good for determining how current activity is distributed across collections/databases, but not with dealing\n",
    "  with log files.\n",
    "# Mongoreplay is good for recreating a query load at a later time and another location, but not for dealing with log files.\n",
    "# Mongooplog is for locally applying oplog entries polled from a remote server. It does not deal with the server logs, just\n",
    "  the oplog (or operations log)."
   ]
  },
  {
   "cell_type": "markdown",
   "id": "3c78b512",
   "metadata": {},
   "source": [
    "# Introducing Server Logs"
   ]
  },
  {
   "cell_type": "raw",
   "id": "7a35c928",
   "metadata": {},
   "source": [
    "Let's talk about the server logs.\n",
    "\n",
    "Imagine that something goes wrong and you suspect the problem is with your deployment.\n",
    "\n",
    "Maybe your query is just taking unexpectedly long to answer, or maybe you're suddenly missing a collection, or a server goes down and you're not sure why.\n",
    "\n",
    "The server logs are going to be the first place you look once you're aware of a problem.\n",
    "\n",
    "They're taken continuously, and with them, you can look into the past to figure out what went wrong.\n",
    "\n",
    "When people contact our technical services team asking for help with a problem, this is typically the first thing we ask for.\n",
    "\n",
    "Let's jump in and see what the logs look like.\n",
    "\n",
    "I haven't been running this mongod very long, but that's OK.\n",
    "\n",
    "From the moment the server starts up, it begins recording its story in the logs.\n",
    "\n",
    "It starts by telling us that it is starting up and logs some information.\n",
    "\n",
    "You can see this in the messages on the right."
   ]
  },
  {
   "cell_type": "markdown",
   "id": "03fa2cf8",
   "metadata": {},
   "source": [
    "<img src=\"img/2.png\">"
   ]
  },
  {
   "cell_type": "raw",
   "id": "1c6cf9a3",
   "metadata": {},
   "source": [
    "MongoDB starting.\n",
    "\n",
    "Here's my process ID.\n",
    "\n",
    "Here's the port I'm listening on.\n",
    "\n",
    "Here's my path.\n",
    "\n",
    "Here's some information that I was built from.\n",
    "\n",
    "These logs are the story our database tells about itself and its environment.\n",
    "\n",
    "And already, you have a sense of the basic format.\n",
    "\n",
    "On the left, you see a time stamp.\n",
    "\n",
    "It's in ISO 8601 local format for those of you who are curious.\n",
    "\n",
    "Next, you see the severity.\n",
    "\n",
    "These are all I, so the severity is \"informational.\" In other words, each of these entries is normal and this is the information that the server records in normal operations.\n",
    "\n",
    "After that, you have the component.\n",
    "\n",
    "Starts with control here.\n",
    "\n",
    "You can see a few of them say storage.\n",
    "\n",
    "Following that is the context in square brackets.\n",
    "\n",
    "Finally, on the right, you get the informational message itself.\n",
    "\n",
    "Let's filter out all the control lines and also the time stamp at the beginning and get to the component."
   ]
  },
  {
   "cell_type": "markdown",
   "id": "fa1a5bf6",
   "metadata": {},
   "source": [
    "<img src=\"img/3.png\">"
   ]
  },
  {
   "cell_type": "markdown",
   "id": "01bf6067",
   "metadata": {},
   "source": [
    "<img src=\"img/4.png\">"
   ]
  },
  {
   "cell_type": "raw",
   "id": "70d3a37e",
   "metadata": {},
   "source": [
    "I can see storage, FTDC, Replication, Network.\n",
    "\n",
    "Here's the full list-- access, command, control, geo, index, network, query, replication, sharding, storage, journal, and write."
   ]
  },
  {
   "cell_type": "markdown",
   "id": "264d16d5",
   "metadata": {},
   "source": [
    "<img src='img/5.png'>"
   ]
  },
  {
   "cell_type": "raw",
   "id": "176e5c22",
   "metadata": {},
   "source": [
    "This helps us narrow down what we're looking at.\n",
    "\n",
    "We'll be looking into these a bit more as they come up during the course, but definitely be aware of the fact that you can use these to filter things down a bit and to figure out what it is exactly you're looking at.\n",
    "\n",
    "It's also probably worth talking for a moment about the severity."
   ]
  },
  {
   "cell_type": "markdown",
   "id": "cd21cfa8",
   "metadata": {},
   "source": [
    "<img src=\"img/6.png\">"
   ]
  },
  {
   "cell_type": "raw",
   "id": "bf87f410",
   "metadata": {},
   "source": [
    "F is for a fatal error.\n",
    "\n",
    "This would have to come from an uncaught server exception that crashed the process.\n",
    "\n",
    "It's pretty hard to trigger.\n",
    "\n",
    "E is error, an internal uncaught server error that doesn't result in the server crashing.\n",
    "\n",
    "W is Warning-- something that might indicate a problem, but it doesn't prevent the server from doing its job.\n",
    "\n",
    "I is informational, which is everything logged by default.\n",
    "\n",
    "And d is diagnostic.\n",
    "\n",
    "This comes up when you set the verbosity level above zero, which we don't generally recommend on production databases.\n",
    "\n",
    "So how can you find the important log entries you might be looking for?\n",
    "\n",
    "Obviously, if you know when things went wrong, you can find events immediately before or after that event.\n",
    "\n",
    "Here's our server process.\n",
    "\n",
    "Let's kill it and see what the logs record-- kill -9 9332.\n",
    "\n",
    "This is going to be a hard kill signal.\n",
    "\n",
    "We wouldn't recommend this generally.\n",
    "\n",
    "And our process is down.\n",
    "\n",
    "Let's start it up again.\n",
    "\n",
    "Great.\n",
    "\n",
    "Let's look at the logs.\n",
    "\n",
    "Here, we can see that it was moving along doing its normal operations.\n",
    "\n",
    "And boom-- server restarted.\n",
    "\n",
    "And if we look for it, we should also be able to find its transition back to primary.\n",
    "\n",
    "And there it is.\n",
    "\n",
    "And close by, you can see the things that were happening just before and just afterwards.\n",
    "\n",
    "Let's go back to the terminal.\n",
    "\n",
    "And by the way, if you find that you're wanting to capture a lot more, you can always run your system with maximum verbosity.\n",
    "\n",
    "Now I can see these Debug entries appearing in my log.\n",
    "\n",
    "Usually, this will be overkill, as it'll be doing extra logging for a lot of internal processes.\n",
    "\n",
    "Our server engineers like this feature when they roll out code changes to the server and they want to make sure everything is working, but we wouldn't recommend doing this by default on your end.\n",
    "\n",
    "If something is useful, we log it at the default verbosity.\n",
    "\n",
    "You can find more information in the documentation.\n",
    "\n",
    "There will be a link in the lecture notes.\n",
    "\n",
    "We're going to go into more detail with the server logs when we look at individual scenarios, but already, you know how to find your logs and parse a bit of what they're saying."
   ]
  },
  {
   "cell_type": "markdown",
   "id": "7bbc2324",
   "metadata": {},
   "source": [
    "### 範例01"
   ]
  },
  {
   "cell_type": "raw",
   "id": "bd573ab4",
   "metadata": {},
   "source": [
    "The correct answers are:\n",
    "\n",
    "# How many connections your server has\n",
    "# Which of your queries have been long-running\n",
    "\n",
    "The incorrect answer is:\n",
    "\n",
    "# Which indexes you have\n",
    "Just to be clear, you might be able to find information on indexes you recently built from your server logs, since they store which indexes you build, but this is better learned from the db.collection.getIndexes() command in the administrative shell."
   ]
  },
  {
   "cell_type": "markdown",
   "id": "47391d3b",
   "metadata": {},
   "source": [
    "# Introducing the Mongo Shell"
   ]
  },
  {
   "cell_type": "raw",
   "id": "e9242bed",
   "metadata": {},
   "source": [
    "In this lesson, we're going to talk about the MongoDB shell, also known as Mongo.\n",
    "\n",
    "It comes with the MongoDB software package.\n",
    "\n",
    "For this course, we assume that you're familiar with the shell, most likely because you've already been using it to learn about MongoDB.\n",
    "\n",
    "But in a nutshell(簡而言之), the Mongo shell is our default server command line administration tool.\n",
    "\n",
    "From the Mongo shell, we can perform any administrative command that MongoDB provides.\n",
    "\n",
    "This includes things that will be useful from a diagnostics and debugging perspective.\n",
    "\n",
    "Throughout the course, we'll be using the Mongo shell for many tasks, including things like analyzing queries, enabling profiling, and changing server settings.\n",
    "\n",
    "Another interesting aspect of the shell is the fact that we can write JavaScript that can be used to automate administrative tasks.\n",
    "\n",
    "We do have other tools that provide or build on this functionality like Ops Manager, but the Mongo shell remains a powerful low-level tool that can help in finding and solving many of the administrative tasks that you face."
   ]
  },
  {
   "cell_type": "markdown",
   "id": "33032f54",
   "metadata": {},
   "source": [
    "### 範例01"
   ]
  },
  {
   "cell_type": "raw",
   "id": "a63fc4c3",
   "metadata": {},
   "source": [
    "What is the mongo shell?"
   ]
  },
  {
   "cell_type": "raw",
   "id": "8c3a51b9",
   "metadata": {},
   "source": [
    "# A Javascript interpreter capable of running scripts\n",
    "# An administrative interface for the MongoDB server process\n",
    "\n",
    "All of these are correct.\n",
    "You can connect to the MongoDB server, particularly for administration but also for practicing MongoDB operations, and it's also a Javascript interpreter capable of running (javascript) scripts."
   ]
  },
  {
   "cell_type": "markdown",
   "id": "588a61c7",
   "metadata": {},
   "source": [
    "# currentOp and killOp"
   ]
  },
  {
   "cell_type": "raw",
   "id": "3d9f6d3e",
   "metadata": {},
   "source": [
    "Two useful database methods are dB.currentOp, and dB.killOp.\n",
    "\n",
    "Let's go into the shell and take a look at currentOp."
   ]
  },
  {
   "cell_type": "code",
   "execution_count": null,
   "id": "8f7bddde",
   "metadata": {},
   "outputs": [],
   "source": [
    "db.currentOp()"
   ]
  },
  {
   "cell_type": "raw",
   "id": "ccf33842",
   "metadata": {},
   "source": [
    "First, we'll spin up our cluster-- great.\n",
    "\n",
    "We'll go into the shell, and we'll run currentOp.\n",
    "\n",
    "This is a large document, so let's scroll to the top.\n",
    "\n",
    "CurrentOp will tell you what the server is doing, that is, what its current operations are.\n",
    "\n",
    "You can scroll down to this inprog array, and you can see that each operation has its own document."
   ]
  },
  {
   "cell_type": "markdown",
   "id": "b2558812",
   "metadata": {},
   "source": [
    "<img src=\"img/7.png\">"
   ]
  },
  {
   "cell_type": "raw",
   "id": "5d401c9c",
   "metadata": {},
   "source": [
    "The document tells you all kinds of information about the operation, but let's focus on just a few fields.\n",
    "\n",
    "First, you've got this \"seconds running\" field.\n",
    "\n",
    "That'll let you know how long the thread has been operating.\n",
    "\n",
    "Here, it's basically zero.\n",
    "\n",
    "Next, you've got this \"op\" field, which is telling us that we're looking at a command.\n",
    "\n",
    "And you've got your \"opID\" field, which is a number.\n",
    "\n",
    "If you have an operation that's running for a long time, and you'd like to kill it, you can pass that opID to dB.killOp.\n",
    "\n",
    "let's do an example.\n",
    "\n",
    "I'm going to need three shell connections to do this.\n",
    "\n",
    "So let's open up a few terminal tabs and VagrantSSH on each of them.\n",
    "\n",
    "OK, so now I have one, two, three shell instances connected, and I'm back at the first one.\n",
    "\n",
    "I've written this function, insertDocs, and what it's going to do is it's going to hammer the database with inserts.\n",
    "\n",
    "Each document containing a string full of filler text.\n",
    "\n",
    "Each document is going to be just a hair over 80 kilobytes, and most of that is just this filler field.\n",
    "\n",
    "Let's get it started."
   ]
  },
  {
   "cell_type": "markdown",
   "id": "6ced8f0d",
   "metadata": {},
   "source": [
    "<img src=\"img/8.png\">"
   ]
  },
  {
   "cell_type": "raw",
   "id": "5913ebb0",
   "metadata": {},
   "source": [
    "We'll let that run for a few seconds, and then we're going to do a find query that is really inefficient.\n",
    "\n",
    "Let's go to a different shell terminal and run it there.\n",
    "\n",
    "All this function is going to do is it's going to run this find query, which uses regex.\n",
    "\n",
    "It's going to search for the ASDF string somewhere in that big filler field, and it's not going to find it.\n",
    "\n",
    "I have this little try except clause, so that we can print out the error that we get, and that's all that it does.\n",
    "\n",
    "Let's start it up."
   ]
  },
  {
   "cell_type": "markdown",
   "id": "085a9cb1",
   "metadata": {},
   "source": [
    "<img src=\"img/9.png\">"
   ]
  },
  {
   "cell_type": "raw",
   "id": "35403b62",
   "metadata": {},
   "source": [
    "While those are going on-- our document insertion and our query-- I'm going to go to a third connection to the database, and I'm going to use dB.currentOp."
   ]
  },
  {
   "cell_type": "markdown",
   "id": "019c90fe",
   "metadata": {},
   "source": [
    "<img src=\"img/10.png\">"
   ]
  },
  {
   "cell_type": "raw",
   "id": "81bf7793",
   "metadata": {},
   "source": [
    "OK, I have this \"op\" query on this namespace.\n",
    "\n",
    "It's a collections scan, filler ASDF, regex.\n",
    "\n",
    "Great, it's been running for 29 seconds, and it's opID is 25963.\n",
    "\n",
    "Let's kill it.\n",
    "\n",
    "OK, and if I go back to my query, that long-running find is no longer being executed.\n",
    "\n",
    "Instead, I've got this \"operation was interrupted\" error, and the query is done.\n",
    "\n",
    "And that's how you use currentOp and killOp."
   ]
  },
  {
   "cell_type": "markdown",
   "id": "c7f50ef1",
   "metadata": {},
   "source": [
    "<img src=\"img/11.png\">"
   ]
  },
  {
   "cell_type": "markdown",
   "id": "1f4eae9e",
   "metadata": {},
   "source": [
    "### 範例01"
   ]
  },
  {
   "cell_type": "raw",
   "id": "8363a2c1",
   "metadata": {},
   "source": [
    "db.currentOp() is useful for finding which of the following?"
   ]
  },
  {
   "cell_type": "raw",
   "id": "5a126cc1",
   "metadata": {},
   "source": [
    "(勾) Any long-running operations on the server\n",
    "( ) Connections that have been open for a long time\n",
    "( ) Operations that are individually short-lived, but which are hammering the server and causing performance issues\n",
    "\n",
    "\"Long-running operations\" is the only answer to which one could give an unqualified yes.\n",
    "\n",
    "Connections that have been open for a long time may not be associated with any particular operation, so they won't show up in currentOps unless they are running an operation currently.\n",
    "\n",
    "Short-lived operations may show up in currentOp, but they will only be present if it is run when the operation is in progress. In general, db.currentOp is bad at finding short-lived processes, even ones that are numerous."
   ]
  },
  {
   "cell_type": "markdown",
   "id": "982ce22e",
   "metadata": {},
   "source": [
    "# Introducing Server Status"
   ]
  },
  {
   "cell_type": "raw",
   "id": "c9a96e76",
   "metadata": {},
   "source": [
    "In this lesson, we'll be looking into the server status command.\n",
    "\n",
    "Service status does a lot.\n",
    "\n",
    "It's used under the hood of several tools and services that help manage and monitor a MongoDB instance.\n",
    "\n",
    "Tools like Cloud Manager, and Ops Manager, Compass, and MongoStat, all use this command to create snapshots or real time series data of the instance utilization and status.\n",
    "\n",
    "Server status is a MongoDB administrative command that gives us an overview of the important metrics about our database.\n",
    "\n",
    "As you can see, it's an absolutely huge document.\n",
    "\n",
    "But the output of this command can be grouped into a few different sections-- instance information, asserts, connections and network, locking, operation stats, security, replication stats, storage engine stats, and metrics."
   ]
  },
  {
   "cell_type": "markdown",
   "id": "5c35da99",
   "metadata": {},
   "source": [
    "<img src=\"img/12.png\">"
   ]
  },
  {
   "cell_type": "raw",
   "id": "e9c2e8d9",
   "metadata": {},
   "source": [
    "These sections span everything from overall information, like the instance in information, to very specific information on operation counters and storage engine stats.\n",
    "\n",
    "We're going to go on a whirlwind tour, so buckle up.\n",
    "\n",
    "Since this command gives us so much information, we'll focus on the most relevant data for debugging and diagnostics, like asserts, connections and network, operation stats, locking, and metrics.\n",
    "\n",
    "Given the server status can be a bit overwhelming, and to minimize the pixel real estate on our screen, we can also suppress any of the root level server status output document fields, much like we would when projecting information in a find query.\n",
    "\n",
    "You can see that we're going to the admin server and doing run command.\n",
    "\n",
    "That's what this admin command means.\n",
    "\n",
    "We do this by running the server status command directly.\n",
    "\n",
    "In this command, we're removing from the output, all of the replication metrics and WiredTiger information, and explicitly including locks information.\n",
    "\n",
    "It's still a huge document.\n",
    "\n",
    "A good way to keep track of the keys for such a huge document is with the object.keys function.\n",
    "\n",
    "This is just a JavaScript function that tells us what the keys of JSON object are.\n",
    "\n",
    "OK, let's dig into how server status works.\n",
    "\n",
    "To provide server status information, the MongoDB process keeps track of a set of counters and statistics, all of them counting up since that very MongoDB server process first started up, potentially quite some time ago.\n",
    "\n",
    "These counters will be reflected in this command output.\n",
    "\n",
    "Tools that run this command will be able to plot or provide statistical information, let's say, inserts per second, for a given instance by calculating the difference between two calls to server status.\n",
    "\n",
    "I'm going to go to another shell connected to the same server.\n",
    "\n",
    "Here, I'm going to set some inserts running.\n",
    "\n",
    "I'm telling it to insert 10 documents, then wait one second, and just repeat forever.\n",
    "\n",
    "Looks like it had to reconnect.\n",
    "\n",
    "And were good.\n",
    "\n",
    "Here we're looking at the opcounters.insert field, and the value is 282 inserts that have occurred since the server was started up.\n",
    "\n",
    "If we run this again, ah, we can see that it's a little higher."
   ]
  },
  {
   "cell_type": "markdown",
   "id": "255b791b",
   "metadata": {},
   "source": [
    "<img src=\"img/13.png\">"
   ]
  },
  {
   "cell_type": "raw",
   "id": "508323fa",
   "metadata": {},
   "source": [
    "And if I start doing this every second or so, I can see that it's counting up by 10 per second.\n",
    "\n",
    "Obviously, I'm a bad judge of what a second is, so they aren't totally consistent, but you get the idea.\n",
    "\n",
    "By finding the difference between the opcounters.insert field one second apart, you can get the inserts that would be shown in MongoStat.\n",
    "\n",
    "Let's look into some of the information in the output of server status."
   ]
  },
  {
   "cell_type": "markdown",
   "id": "0f99f8ca",
   "metadata": {},
   "source": [
    "<img src=\"img/14.png\">"
   ]
  },
  {
   "cell_type": "raw",
   "id": "0517a95a",
   "metadata": {},
   "source": [
    "We can get the hostname, the version number, the process, which would be either a MongoDB server or a MongoS router, the process ID on the system, and a set of values like how long the server has been running in seconds, milliseconds, and what time the server thinks it is when you ask for server status.\n",
    "\n",
    "Server status also gathers information on current established connections and the number of available connections."
   ]
  },
  {
   "cell_type": "markdown",
   "id": "98f69855",
   "metadata": {},
   "source": [
    "<img src=\"img/15.png\">"
   ]
  },
  {
   "cell_type": "raw",
   "id": "1db8fa78",
   "metadata": {},
   "source": [
    "This value will be related to the Unix ulimit values set for this host.\n",
    "\n",
    "Ulimits are set at the operating system level, and they control the maximum number of open files.\n",
    "\n",
    "Unix systems need one open file per connection.\n",
    "\n",
    "Ulimits isn't the only factor that controls the available connections.\n",
    "\n",
    "You can also limit it in the configuration of your MongoDB instance where we can control the number of allowed connections by setting the configuration option minus minus max cons.\n",
    "\n",
    "Let's exit the shell, kill our process, and run it with a lower number of maximum connections.\n",
    "\n",
    "Here's my MongoD on port 27017.\n",
    "\n",
    "I have copied the command.\n",
    "\n",
    "It's process ID is 26620-- killing it-- and starting up with max connections of, let's say, 10."
   ]
  },
  {
   "cell_type": "markdown",
   "id": "5f60290e",
   "metadata": {},
   "source": [
    "<img src=\"img/16.png\">"
   ]
  },
  {
   "cell_type": "markdown",
   "id": "16e836b3",
   "metadata": {},
   "source": [
    "<img src=\"img/17.png\">"
   ]
  },
  {
   "cell_type": "raw",
   "id": "41a36ac1",
   "metadata": {},
   "source": [
    "We'll go back in the shell.\n",
    "\n",
    "OK, we've become primary again.\n",
    "\n",
    "And now we have five connections total because we're part of a replica set.\n",
    "\n",
    "And I'm connected with the shell.\n",
    "\n",
    "We have five available, and five have been created.\n",
    "\n",
    "The connections field of server status will be useful when we look at configuration and networking issues."
   ]
  },
  {
   "cell_type": "markdown",
   "id": "268521eb",
   "metadata": {},
   "source": [
    "---"
   ]
  },
  {
   "cell_type": "raw",
   "id": "d4b89202",
   "metadata": {},
   "source": [
    "Asserts is a document that reports the number of assertion errors raised since the server process started.\n",
    "\n",
    "Asserts are relatively rare, and for that reason, we want to keep an eye on these counters.\n",
    "\n",
    "Because when they start going up, they're signaling that something has gone wrong."
   ]
  },
  {
   "cell_type": "markdown",
   "id": "ecb3e238",
   "metadata": {},
   "source": [
    "<img src=\"img/18.png\">"
   ]
  },
  {
   "cell_type": "raw",
   "id": "099e5969",
   "metadata": {},
   "source": [
    "The server is counting both internal asserts and user asserts.\n",
    "\n",
    "We have three internal asserts-- regular, warning, and msg, or message, all of which are internal to the server process.\n",
    "\n",
    "Operations that can raise asserts like these are insert conflicts and back-off operations.\n",
    "\n",
    "All of these assert operations get noted in the server logs as well.\n",
    "\n",
    "User asserts are the ones that we'll be focusing on in more detail.\n",
    "\n",
    "These asserts are caused by a system configuration or application-driven operation.\n",
    "\n",
    "This can capture a lot.\n",
    "\n",
    "If we try to insert a document with a duplicate key and a unique index, it goes up by one.\n",
    "\n",
    "If the instance runs out of disk space, It also goes up by one.\n",
    "\n",
    "In this example, if we try to insert two different documents with the same underscore ID, we get a duplicate key error.\n",
    "\n",
    "As you can see, the server increments the user asserts counter."
   ]
  },
  {
   "cell_type": "markdown",
   "id": "4724a34d",
   "metadata": {},
   "source": [
    "<img src=\"img/19.png\">"
   ]
  },
  {
   "cell_type": "raw",
   "id": "375e3ff2",
   "metadata": {},
   "source": [
    "These counters will be important when we want to analyze provisioning and configuration issues of both the application and your MongoDB cluster.\n",
    "\n",
    "Locks is a relatively large document, although not too large."
   ]
  },
  {
   "cell_type": "markdown",
   "id": "c0221e5f",
   "metadata": {},
   "source": [
    "<img src=\"img/20.png\">"
   ]
  },
  {
   "cell_type": "raw",
   "id": "0be55367",
   "metadata": {},
   "source": [
    "It shows the different locks on the database.\n",
    "\n",
    "Now, there are a few different granularities for the locks-- global, database, collection, metadata, and oplog.\n",
    "\n",
    "And these logs can be of different types.\n",
    "\n",
    "Big R and big W are for shared lock and exclusive lock, respectively, while little r and little w are intent shared lock and intent exclusive lock, respectively.\n",
    "\n",
    "The r and w come from the days before WiredTiger when we didn't have the currency protocols at all.\n",
    "\n",
    "Right locks were exclusive, while read locks were shared, hence the r and w notations.\n",
    "\n",
    "If all of this is new to you, don't worry.\n",
    "\n",
    "We'll dive into more detail on the impact and causes for locks later on.\n",
    "\n",
    "Server status also provides the operation counters."
   ]
  },
  {
   "cell_type": "markdown",
   "id": "db461459",
   "metadata": {},
   "source": [
    "<img src=\"img/21.png\">"
   ]
  },
  {
   "cell_type": "raw",
   "id": "c0f25b9a",
   "metadata": {},
   "source": [
    "Opcounters gives us the information regarding the number of inserts, queries, updates, deletes, getMores, and commands acknowledged by the instance."
   ]
  },
  {
   "cell_type": "markdown",
   "id": "b4c22852",
   "metadata": {},
   "source": [
    "<img src=\"img/22.png\">"
   ]
  },
  {
   "cell_type": "raw",
   "id": "38522621",
   "metadata": {},
   "source": [
    "Opcounters.repl will give us the same types of counters, but as a result of the replication process."
   ]
  },
  {
   "cell_type": "markdown",
   "id": "73844490",
   "metadata": {},
   "source": [
    "<img src=\"img/23.png\">"
   ]
  },
  {
   "cell_type": "raw",
   "id": "0a99d745",
   "metadata": {},
   "source": [
    "Op latencies provide information on operation latencies for the instance globally in microseconds.\n",
    "\n",
    "So once you hit seven digits, that's one second total."
   ]
  },
  {
   "cell_type": "markdown",
   "id": "0292ff99",
   "metadata": {},
   "source": [
    "---"
   ]
  },
  {
   "cell_type": "raw",
   "id": "c64a602e",
   "metadata": {},
   "source": [
    "db.serverStatus().wiredTiger"
   ]
  },
  {
   "cell_type": "markdown",
   "id": "2634f1bb",
   "metadata": {},
   "source": [
    "---"
   ]
  },
  {
   "cell_type": "raw",
   "id": "d8752839",
   "metadata": {},
   "source": [
    "The WiredTiger information is a huge document.\n",
    "\n",
    "Most of these statistics are only relevant for MongoDB internal utilization of the storage engine, so we don't care about most of them.\n",
    "\n",
    "But there are a few interesting ones worth mentioning.\n",
    "\n",
    "Scrolling through, we have this cache field, and within that, maximum bytes configured.\n",
    "\n",
    "This is a value that indicates the size of the WiredTiger cache."
   ]
  },
  {
   "cell_type": "markdown",
   "id": "7a62685f",
   "metadata": {},
   "source": [
    "<img src=\"img/24.png\">"
   ]
  },
  {
   "cell_type": "raw",
   "id": "bd8a7e3f",
   "metadata": {},
   "source": [
    "\"Bytes currently in the cache\" is an interesting one that tracks what we've got in the cache currently."
   ]
  },
  {
   "cell_type": "markdown",
   "id": "7eeb1285",
   "metadata": {},
   "source": [
    "<img src=\"img/25.png\">"
   ]
  },
  {
   "cell_type": "raw",
   "id": "8f031ac2",
   "metadata": {},
   "source": [
    "Cache.EvectionCallsToGetaPage and cache.EvictionCa llsToGetaPageFoundQueueEmpty are an interesting pair."
   ]
  },
  {
   "cell_type": "markdown",
   "id": "a6f89437",
   "metadata": {},
   "source": [
    "<img src=\"img/26.png\">"
   ]
  },
  {
   "cell_type": "raw",
   "id": "332e88c0",
   "metadata": {},
   "source": [
    "These give us an idea of how much work WiredTiger is doing to find pages, and to find pages to evict from the cache.\n",
    "\n",
    "I just restarted this server, so the numbers are zero currently.\n",
    "\n",
    "When these numbers start going up fast, you know that your working set is outgrowing your cache.\n",
    "\n",
    "It might be time to look at optimizing your schema, scaling up, or possibly scaling out.\n",
    "\n",
    "I haven't been hammering this server very hard, so they're still at zero."
   ]
  },
  {
   "cell_type": "markdown",
   "id": "b2c0dff8",
   "metadata": {},
   "source": [
    "<img src=\"img/27.png\">"
   ]
  },
  {
   "cell_type": "raw",
   "id": "2f0f77e7",
   "metadata": {},
   "source": [
    "The memory section, mem, allows us to understand what the current memory utilization of the server is.\n",
    "\n",
    "We'll get information on the bit architecture, the amount of allocated, resident, and virtual memory, and in the case of using mmapv1, will get the amount of mapped and mapped with journal memory.\n",
    "\n",
    "These don't apply if you're using the default storage engine, so they'll stay at zero on this server.\n",
    "\n",
    "Metrics is another big one.\n",
    "\n",
    "It gives us a lot of statistics that'll tell us relevant information for debugging.\n",
    "\n",
    "One interesting field it has is the breakdown of the types of commands received by the instance, such as cursors and document counters."
   ]
  },
  {
   "cell_type": "markdown",
   "id": "9a55a6c7",
   "metadata": {},
   "source": [
    "<img src=\"img/28.png\">"
   ]
  },
  {
   "cell_type": "raw",
   "id": "7db755fc",
   "metadata": {},
   "source": [
    "Here we can see the number of finds, getLog, getMore, et cetera.\n",
    "\n",
    "Here we have metrics.documents and op counters.\n",
    "\n",
    "Let's talk about what they mean, and what the difference between them is."
   ]
  },
  {
   "cell_type": "markdown",
   "id": "ed474040",
   "metadata": {},
   "source": [
    "<img src=\"img/29.png\">"
   ]
  },
  {
   "cell_type": "raw",
   "id": "f246a3ef",
   "metadata": {},
   "source": [
    "Opcounters accounts for the number of operations, regardless of the number of documents affected, but metrics.documents keeps track of the actual documents affected by those operations.\n",
    "\n",
    "A simple example would be an update of many documents.\n",
    "\n",
    "This will be counted as a single update operation, but the number of documents updated would be the number of affected documents.\n",
    "\n",
    "When I insert documents, my opcounters' insert counter goes up by one per document.\n",
    "\n",
    "I inserted five documents, it went up by five.\n",
    "\n",
    "Metrics.document.inserted Inserted went up by five.\n",
    "\n",
    "This is because each insert is one command."
   ]
  },
  {
   "cell_type": "markdown",
   "id": "735986da",
   "metadata": {},
   "source": [
    "<img src=\"img/30.png\">"
   ]
  },
  {
   "cell_type": "raw",
   "id": "1ac1d185",
   "metadata": {},
   "source": [
    "On the other hand, when it comes to updates, opcounters only go up one per update command, while the metrics.document.updated goes up by one per document affected."
   ]
  },
  {
   "cell_type": "markdown",
   "id": "d5c1c69a",
   "metadata": {},
   "source": [
    "<img src=\"img/31.png\">"
   ]
  },
  {
   "cell_type": "raw",
   "id": "0f33bbe1",
   "metadata": {},
   "source": [
    "OK, so that's a quick overview of server status.\n",
    "\n",
    "We'll be making use of all of this information going forward.\n",
    "\n",
    "But for now, you should have a sense of the range of what's available, and how to find it."
   ]
  },
  {
   "cell_type": "markdown",
   "id": "030688ff",
   "metadata": {},
   "source": [
    "### 範例01"
   ]
  },
  {
   "cell_type": "raw",
   "id": "03629a60",
   "metadata": {},
   "source": [
    "Can I suppress information from the serverStatus command output?"
   ]
  },
  {
   "cell_type": "raw",
   "id": "35b40ae8",
   "metadata": {},
   "source": [
    "The correct answer is:\n",
    "\n",
    "I can, by specifying in the command syntax which output document fields to omit."
   ]
  },
  {
   "cell_type": "code",
   "execution_count": null,
   "id": "3f77ff5c",
   "metadata": {},
   "outputs": [],
   "source": [
    "db.runCommand({ \"serverStatus\": 1, \"repl\": 0, \"locks\": 1})"
   ]
  },
  {
   "cell_type": "raw",
   "id": "bb86892b",
   "metadata": {},
   "source": [
    "Neither of the others are correct. As shown in the video for Part 1, you can explicitly include or omit fields from serverStatus in the command. Adding repl: 0, for example, omits it."
   ]
  },
  {
   "cell_type": "markdown",
   "id": "164f4337",
   "metadata": {},
   "source": [
    "# Introducing the Profiler"
   ]
  },
  {
   "cell_type": "raw",
   "id": "3a8af721",
   "metadata": {},
   "source": [
    "Let's take a look at a marvelous tool that many databases including MongoDB have built in-- the profiler.\n",
    "\n",
    "Technically, the profiler isn't so much of a tool as it is a mode that your MongoDB database can be running in and when in this mode the server will store every operation that it sees coming in into that database.\n",
    "\n",
    "These operations will be written into the system.profile collection, a capped collection.\n",
    "\n",
    "Its size is 1 megabyte by default, and it will store one document per operation.\n",
    "\n",
    "The profiler is off by default because having it on can be quite expensive.\n",
    "\n",
    "It turns every read into a read plus insert, and every write query into a write plus insert.\n",
    "\n",
    "Unless your production server is very overpowered for its workload, you should be very cautious about turning the profiler on as it can quickly overpower your server with writes, helping to saturate your I/O.\n",
    "\n",
    "So don't leave it on.\n",
    "\n",
    "That said, it can be very useful for a limited time in order to figure out what's going on.\n",
    "\n",
    "We'll go into the administrative shell to see this.\n",
    "\n",
    "This is a command to tell us what profiling level we're at."
   ]
  },
  {
   "cell_type": "markdown",
   "id": "9e94314a",
   "metadata": {},
   "source": [
    "---"
   ]
  },
  {
   "cell_type": "code",
   "execution_count": null,
   "id": "5971eef2",
   "metadata": {},
   "outputs": [],
   "source": [
    "db.getProfilingLevel()"
   ]
  },
  {
   "cell_type": "markdown",
   "id": "f8737988",
   "metadata": {},
   "source": [
    "---"
   ]
  },
  {
   "cell_type": "raw",
   "id": "588e576e",
   "metadata": {},
   "source": [
    "Right now, we're at zero, which means that the profiler is not capturing any queries.\n",
    "\n",
    "At level 1, we would capture any queries that take longer than 100 milliseconds.\n",
    "\n",
    "That's useful, but keep in mind that we already capture some information on those queries in the server logs.\n",
    "\n",
    "At level 2, however, we capture every query.\n",
    "\n",
    "This can be quite useful.\n",
    "\n",
    "We can find out the actual load we've got coming in, for example.\n",
    "\n",
    "Keep in mind that as of MongoDB 3.4, Mongo replay is another way to capture those queries.\n",
    "\n",
    "But for now, let's check out the profiler in action.\n",
    "\n",
    "So my profiler is now set to level 2."
   ]
  },
  {
   "cell_type": "markdown",
   "id": "5fd16fb3",
   "metadata": {},
   "source": [
    "---"
   ]
  },
  {
   "cell_type": "code",
   "execution_count": null,
   "id": "d9a70eed",
   "metadata": {},
   "outputs": [],
   "source": [
    "db.setProfilingLevel(2)"
   ]
  },
  {
   "cell_type": "markdown",
   "id": "f35e174a",
   "metadata": {},
   "source": [
    "---"
   ]
  },
  {
   "cell_type": "raw",
   "id": "b395a54c",
   "metadata": {},
   "source": [
    "If this were a production server, it would now be writing massive amounts of inserts-- one per query it gets.\n",
    "\n",
    "Now let's exit and create a small workload for it.\n",
    "\n",
    "Here's a script I wrote to do just that.\n",
    "\n",
    "It builds an index and then performs this loop 100 times.\n",
    "\n",
    "Each time, it performs several operations-- inserting, reading, updating, and deleting.\n",
    "\n",
    "This isn't a very realistic workload simulator, but it's just to illustrate what we're doing.\n",
    "\n",
    "Not all of the queries will find a document, by the way.\n",
    "\n",
    "They may look for a document that we've deleted.\n",
    "\n",
    "OK.\n",
    "\n",
    "Let's run it."
   ]
  },
  {
   "cell_type": "markdown",
   "id": "28caaa57",
   "metadata": {},
   "source": [
    "---"
   ]
  },
  {
   "cell_type": "raw",
   "id": "027fcd75",
   "metadata": {},
   "source": [
    "db.sampleWorkload.drop();\n",
    "db.sampleWorkload.createIndex( { firstNumber : 1 } );  // for efficient queries\n",
    "// Insert 2 numbers,\n",
    "for (i=1; i<=100; i++) {\n",
    "    db.sampleWorkload.insertOne( { firstNumber : (2*i-1), secondNumber : (2*i-1) } );\n",
    "    db.sampleWorkload.insertOne( { firstNumber : (2*i), secondNumber : (2*i) } );\n",
    "    // Generate pseudo-random number from 1 to 2*i\n",
    "    numToFind = Math.floor(Math.random() * 2 * i + 1);\n",
    "    db.sampleWorkload.findOne( { firstNumber : numToFind } );  // efficient\n",
    "    db.sampleWorkload.findOne( { secondNumber : ((numToFind + 5) % (2*i)) } );  // slow\n",
    "    db.sampleWorkload.updateOne( { firstNumber : ((numToFind + 10) % (2*i)) },\n",
    "                                 { $set : { stringField : \"string\" } } );\n",
    "    db.sampleWorkload.deleteOne( { firstNumber : ((numToFind + 15) % (2*i)) } );\n",
    "};\n",
    "db.sampleWorkload.drop();"
   ]
  },
  {
   "cell_type": "markdown",
   "id": "25b275c2",
   "metadata": {},
   "source": [
    "---"
   ]
  },
  {
   "cell_type": "raw",
   "id": "00827965",
   "metadata": {},
   "source": [
    "And as always, let's be sure to set the profiling level back to zero.\n",
    "\n",
    "OK.\n",
    "\n",
    "Now let's see what we've got.\n",
    "\n",
    "So our 100 loops involved 2 inserts, 2 finds, an update, and a delete each.\n",
    "\n",
    "That gives us 600 documents, and I see 601.\n",
    "\n",
    "Let's see what these entries look like.\n",
    "\n",
    "That's a lot to parse so let's take a look at some of the more important fields.\n",
    "\n",
    "Scrolling up, we see this op field.\n",
    "\n",
    "This one's an insert.\n",
    "\n",
    "Let's look at what we've done by grouping these operations together with the aggregation pipeline and see how many of each we've got.\n",
    "\n",
    "So there are different operations, each of them counted up.\n",
    "\n",
    "There is also a command there."
   ]
  },
  {
   "cell_type": "markdown",
   "id": "e1a9b012",
   "metadata": {},
   "source": [
    "<img src=\"img/32.png\">"
   ]
  },
  {
   "cell_type": "raw",
   "id": "0128e432",
   "metadata": {},
   "source": [
    "Let's see what that was.\n",
    "\n",
    "Ah, this was the drop command that we did when we were done inserting documents and reading.\n",
    "\n",
    "Now if we look just at our queries with op query, we have a number of interesting fields.\n",
    "\n",
    "You can see that we're capturing some execution stats for each query.\n",
    "\n",
    "Our plan summary is another interesting field as this will tell us whether or not we're using an index.\n",
    "\n",
    "This was a collection scan."
   ]
  },
  {
   "cell_type": "markdown",
   "id": "7ca5c98b",
   "metadata": {},
   "source": [
    "<img src=\"img/33.png\">"
   ]
  },
  {
   "cell_type": "raw",
   "id": "cbfefee5",
   "metadata": {},
   "source": [
    "Let's iterate over our documents and see what the plan summary looks like for each.\n",
    "\n",
    "And sure enough, we're alternating between using an index and not using an index."
   ]
  },
  {
   "cell_type": "markdown",
   "id": "f8224636",
   "metadata": {},
   "source": [
    "<img src=\"img/34.png\">\n",
    "<img src=\"img/35.png\">"
   ]
  },
  {
   "cell_type": "raw",
   "id": "bffadc75",
   "metadata": {},
   "source": [
    "We'll go deeper into the profiler later on, but for now, that's how you use it.\n",
    "\n",
    "Also, remember that turning on the profiler will add an insert operation to the capped collection for every read or write.\n",
    "\n",
    "So I've been asked by our support team to remind you to always remember to turn it off in production environments."
   ]
  },
  {
   "cell_type": "markdown",
   "id": "17a05074",
   "metadata": {},
   "source": [
    "### 範例01"
   ]
  },
  {
   "cell_type": "raw",
   "id": "347d3fe4",
   "metadata": {},
   "source": [
    "You have a three-member replica set, capturing time-series data and serving queries. When you turn on the profiler, you find that the application immediately sees high response time on its queries.\n",
    "\n",
    "Why does profiling interact poorly with this high-volume production workload?"
   ]
  },
  {
   "cell_type": "raw",
   "id": "be735d6a",
   "metadata": {},
   "source": [
    "In this quiz, we're being a little silly, but seriously, the profiler is a diagnostic tool, and you should expect it to routinely attenuate performance on a production system.\n",
    "\n",
    "Don't turn it on unless you're willing to accept that, and turn it off when you're done."
   ]
  },
  {
   "cell_type": "markdown",
   "id": "d57ef642",
   "metadata": {},
   "source": [
    "# Introduction to Diagnostic and Debugging Tools"
   ]
  },
  {
   "cell_type": "raw",
   "id": "1e3ac9e6",
   "metadata": {},
   "source": [
    "The MongoDB download comes with a set of different tools, apart from the obvious MongoD and MongoS binaries.\n",
    "\n",
    "I've downloaded the tarball for the distribution into the shared directory.\n",
    "\n",
    "Let's unpack it and see what's there.\n",
    "\n",
    "We can find tools to import and export our data, like mongoimport and mongoexport.\n",
    "\n",
    "We can also have tools like mongodump and mongorestore, which import binary format data files and export them.\n",
    "\n",
    "We've got bsondump, which converts BSON dump files into more human readable JSON, and mongouplog, which allows us to pull a replica set uplog and apply it to a local server.\n",
    "\n",
    "There's also a helper tool for GridFS called mongofiles.\n",
    "\n",
    "But more important for this course, we have server diagnostic tools, mongostat, mongotop, mongoreplay, mongoperf, and mongoldap."
   ]
  },
  {
   "cell_type": "markdown",
   "id": "5aa2bc1c",
   "metadata": {},
   "source": [
    "<img src=\"img/36.png\">"
   ]
  },
  {
   "cell_type": "raw",
   "id": "b897686c",
   "metadata": {},
   "source": [
    "Mongoldap allows us to validate the ldap configuration settings for our MongoD."
   ]
  },
  {
   "cell_type": "markdown",
   "id": "342641d6",
   "metadata": {},
   "source": [
    "<img src=\"img/37.png\">"
   ]
  },
  {
   "cell_type": "raw",
   "id": "8e2fd033",
   "metadata": {},
   "source": [
    "You point it at an LDAP server, either directly or by pointing it to a MongoDB configuration file, so it can test the connectivity and validation of the configuration against a given LDAP server.\n",
    "\n",
    "This tool is used only to validate and diagnose LDAP configuration issues.\n",
    "\n",
    "You can learn more about it in our security course M310, so I won't go into it here."
   ]
  },
  {
   "cell_type": "markdown",
   "id": "7daa42ad",
   "metadata": {},
   "source": [
    "<img src=\"img/38.png\">"
   ]
  },
  {
   "cell_type": "raw",
   "id": "5e98b9a8",
   "metadata": {},
   "source": [
    "Mongoperf is a performance testing tool.\n",
    "\n",
    "This tool tests your server's disk I/O performance.\n",
    "\n",
    "Given a set of conditions reflected in a config file, the tool will subject your server to an I/O test.\n",
    "\n",
    "This tool has limited reach and should be used only for basic I/O assessments of your disk subsystem.\n",
    "\n",
    "Take any results with a grain of salt(持保留態度).\n",
    "\n",
    "This test may show how much I/O per second your disks are capable of doing under a very specific set of conditions.\n",
    "\n",
    "But in real world situations, other operations, like rebalancing indexes, navigating b-trees, and allocating resources to other applications running in your server can affect your disk performance.\n",
    "\n",
    "And mongoperf can't fully measure the effect of those other factors."
   ]
  },
  {
   "cell_type": "markdown",
   "id": "26c14912",
   "metadata": {},
   "source": [
    "<img src=\"img/39.png\">"
   ]
  },
  {
   "cell_type": "raw",
   "id": "ee814f59",
   "metadata": {},
   "source": [
    "Next up is mongoreplay, a network diagnostics and analysis tool.\n",
    "\n",
    "It allows us to do three important things, monitor, record, and playback network traffic for analysis and debugging purposes.\n",
    "\n",
    "This is an excellent tool that allows QA teams to test production traffic and see how it changes in the deployment, like different hardware, different cluster configurations, and different choices of storage engine will affect performance.\n",
    "\n",
    "After the fact analysis of events for debugging purposes, or even fault injection, can be done by capturing traffic and later replaying it to understand the system tolerance to failure.\n",
    "\n",
    "Let's spin up some servers.\n",
    "\n",
    "And mongoreplay is going to need some extra privileges in order to do its job, so we'll sudo this command."
   ]
  },
  {
   "cell_type": "markdown",
   "id": "79dc0db1",
   "metadata": {},
   "source": [
    "<img src=\"img/40.png\">"
   ]
  },
  {
   "cell_type": "markdown",
   "id": "6958b12c",
   "metadata": {},
   "source": [
    "<img src=\"img/41.png\">"
   ]
  },
  {
   "cell_type": "raw",
   "id": "c02db86c",
   "metadata": {},
   "source": [
    "Using mongoreplay, we can see the traffic exchange between our MongoD primary and the other servers in the replica set.\n",
    "\n",
    "We would also see network traffic to a shell or application via a driver.\n",
    "\n",
    "We'll see more about MongoDB replay later in the course.\n",
    "\n",
    "And finally, we have our two classic server diagnostic tools, mongostat and mongotop."
   ]
  },
  {
   "cell_type": "markdown",
   "id": "4cd8ec4b",
   "metadata": {},
   "source": [
    "<img src=\"img/42.png\">"
   ]
  },
  {
   "cell_type": "raw",
   "id": "51b786f1",
   "metadata": {},
   "source": [
    "Here's mongostat.\n",
    "\n",
    "It's a real time statistics tool.\n",
    "\n",
    "The font is big enough that it's wrapping on the stream, but you get the idea.\n",
    "\n",
    "It provides quite an overview of the stats of a currently running MongoD or MongoS per time interval.\n",
    "\n",
    "By default, it's sampling once per second.\n",
    "\n",
    "We have inserts, queries, updates, deletes, and others.\n",
    "\n",
    "It's also capable of providing a global view of the statistics on all servers in a cluster by specifying the minus minus discover flag."
   ]
  },
  {
   "cell_type": "markdown",
   "id": "8237f3a7",
   "metadata": {},
   "source": [
    "<img src=\"img/43.png\">"
   ]
  },
  {
   "cell_type": "raw",
   "id": "8339f10d",
   "metadata": {},
   "source": [
    "The way mongostat works is it connects to the servers it's monitoring, periodically sending the server status command, parsing the results, calculating the difference between the relevant values in the server status documents during each sampling interval, and printing it out for later use to see."
   ]
  },
  {
   "cell_type": "markdown",
   "id": "db6b81cf",
   "metadata": {},
   "source": [
    "<img src=\"img/44.png\">"
   ]
  },
  {
   "cell_type": "raw",
   "id": "be18d573",
   "metadata": {},
   "source": [
    "Mongotop does a very simple analysis of the time consumed per second on different name spaces.\n",
    "\n",
    "This tool measures the amount of time spent reading, writing, and their total aggregate per sampling unit, default one second, on the various different name spaces.\n",
    "\n",
    "It's a nice tool to get a sense of what type of work load is hitting the different databases in collections.\n",
    "\n",
    "Maybe you have some with more reads, some with more rights, et cetera.\n",
    "\n",
    "Right now, I'm not doing anything, so everything is zero.\n",
    "\n",
    "So those are the server tools we use for analysis.\n",
    "\n",
    "No single tool is usually going to be enough to give us a good diagnosis of a problem, so we'll use multiple tools when we look at a problem in order to form hypotheses, and either validate, or reject them as appropriate."
   ]
  },
  {
   "cell_type": "markdown",
   "id": "9303a9ad",
   "metadata": {},
   "source": [
    "### 範例01"
   ]
  },
  {
   "cell_type": "raw",
   "id": "409e5d2d",
   "metadata": {},
   "source": [
    "From the following list, which tool(s) can I use to know, in real time, the number of queries / second occurring in a given replica set?\n",
    "\n",
    "( ) mongoperf\n",
    "(*) mongostat\n",
    "( ) mongotop\n",
    "( ) mongoreplay"
   ]
  },
  {
   "cell_type": "raw",
   "id": "7ae8cceb",
   "metadata": {},
   "source": [
    "Only mongostat has this functionality. mongoreplay can capture the queries, but doesn't let me know how many are coming in each second in real-time. mongotop looks at time spent in each namespace, but doesn't count queries. mongoperf only looks at simulating a disk I/O load, not at monitoring performance at all."
   ]
  },
  {
   "cell_type": "markdown",
   "id": "c1d2d753",
   "metadata": {},
   "source": [
    "# Overview: Mtools"
   ]
  },
  {
   "cell_type": "raw",
   "id": "b90712f9",
   "metadata": {},
   "source": [
    "In this lesson, we'll be talking about a set of tools that you should be aware of when debugging issues with your MongoDB deployment.\n",
    "\n",
    "The set of tools is called the Mtools package.\n",
    "\n",
    "Mtools was developed by our support team, started by our very own Thomas Ryeckstiess to analyze and debug issues with MongoDB deployments in an easy and elegant way.\n",
    "\n",
    "It's use to identify and reproduce issues that arise in customers production deployments.\n",
    "\n",
    "This set of command line tools is made available publicly, but they're not supported by MongoDB Inc.\n",
    "\n",
    "Mtools is not part of our official offering, but it is a set of tools and scripts that we maintain and develop to help individuals analyze and debug issues that they find in MongoDB deployments and it's open source.\n",
    "\n",
    "You're welcome to use them for [INAUDIBLE], generate pull requests if you make improvements to the tool kit."
   ]
  },
  {
   "cell_type": "markdown",
   "id": "128aa5a3",
   "metadata": {},
   "source": [
    "<img src=\"img/45.png\">"
   ]
  },
  {
   "cell_type": "raw",
   "id": "c6da04c4",
   "metadata": {},
   "source": [
    "Mtools is written in Python, so you'll need to have Python installed on your machine to run its associated scripts.\n",
    "\n",
    "The package is available through common Python package management tools, like pip and Easy Install.\n",
    "\n",
    "The course VM will come with them already installed.\n",
    "\n",
    "The set of tools are, first, mlogfilter."
   ]
  },
  {
   "cell_type": "code",
   "execution_count": null,
   "id": "609c716b",
   "metadata": {},
   "outputs": [],
   "source": [
    "# `mloginfo` help\n",
    "mlogfilter --help | less"
   ]
  },
  {
   "cell_type": "raw",
   "id": "0e205858",
   "metadata": {},
   "source": [
    "This tool slices log files by time, combines them, filters for slow queries, finds table scans, shortens log lines, filters by attributes, and converts your log entries into a JSON format."
   ]
  },
  {
   "cell_type": "code",
   "execution_count": null,
   "id": "54574e1f",
   "metadata": {},
   "outputs": [],
   "source": [
    "# `mloginfo` help\n",
    "mloginfo --help | less"
   ]
  },
  {
   "cell_type": "raw",
   "id": "b3cf34fa",
   "metadata": {},
   "source": [
    "Next up is mloginfo, which returns information about log files-- things like start and end times for the log, the MongoDB version, and special sections, like restarts, connections, and distinct accounts of common events found in the logs."
   ]
  },
  {
   "cell_type": "code",
   "execution_count": null,
   "id": "b6c4e6a6",
   "metadata": {},
   "outputs": [],
   "source": [
    "# `mplotqueries` help\n",
    "mplotqueries --help | less"
   ]
  },
  {
   "cell_type": "raw",
   "id": "dcbae888",
   "metadata": {},
   "source": [
    "There's also mplotqueries, queries which we can use to visualize log files with different types of plots.\n",
    "\n",
    "This tool requires that you install additional graphics libraries.\n",
    "\n",
    "These may not be trivial for your system."
   ]
  },
  {
   "cell_type": "code",
   "execution_count": null,
   "id": "0f2827a0",
   "metadata": {},
   "outputs": [],
   "source": [
    "# `mlogvis` help\n",
    "mlogvis --help | less"
   ]
  },
  {
   "cell_type": "raw",
   "id": "17068bce",
   "metadata": {},
   "source": [
    "This is mlogvis, which creates a self-contained(自給自足的、獨立的) HTML file that shows an interactive visualization in a web browser as an alternative to mplot queries.\n",
    "\n",
    "For the course VM, you can send this to the shared folder and access the HTML file on your computer where you can then view it in a web browser.\n",
    "\n",
    "We'll see that later."
   ]
  },
  {
   "cell_type": "code",
   "execution_count": null,
   "id": "dfd76b45",
   "metadata": {},
   "outputs": [],
   "source": [
    "# `mlaunch` help\n",
    "mlaunch --help | less"
   ]
  },
  {
   "cell_type": "raw",
   "id": "793c8ad5",
   "metadata": {},
   "source": [
    "One of my personal favorites is mlaunch, a script to quickly spin up test deployments on your local host, including replica sets and sharded clusters.\n",
    "\n",
    "This requires PyMongo, the Python driver library for MongoDB, which I've also pre-installed on your VM."
   ]
  },
  {
   "cell_type": "code",
   "execution_count": null,
   "id": "6c6ec251",
   "metadata": {},
   "outputs": [],
   "source": [
    "# `mgenerate` help\n",
    "mgenerate --help | less"
   ]
  },
  {
   "cell_type": "raw",
   "id": "1d376cde",
   "metadata": {},
   "source": [
    "One of the really interesting ones from a testing standpoint is mgenerate, which creates data sets with random data based on a template for testing and reproducing issues.\n",
    "\n",
    "All of these tools together will help analyze, simulate, and debug issues with MongoDB deployments.\n",
    "\n",
    "We'll be using these tools throughout the course when looking at concrete use cases.\n",
    "\n",
    "In essence, you can associate each individual tool with a specific feature at a specific point in time in the creation of a scenario.\n",
    "\n",
    "Mlaunch will bring up very quickly clusters and deployments for developing and testing on your local machine."
   ]
  },
  {
   "cell_type": "markdown",
   "id": "cff2321b",
   "metadata": {},
   "source": [
    "<img src=\"img/46.png\">"
   ]
  },
  {
   "cell_type": "markdown",
   "id": "5e512e87",
   "metadata": {},
   "source": [
    "<img src=\"img/48.png\">"
   ]
  },
  {
   "cell_type": "raw",
   "id": "6c260b9b",
   "metadata": {},
   "source": [
    "And mgenerate will allow us to produce server loads in a test environment that will mimic a production load.\n",
    "\n",
    "This will insert one document.\n",
    "\n",
    "By providing a simple JSON document, we can then generate many documents of a given shape to be inserted into a collection.\n",
    "\n",
    "The idea is to produce these data sets in a very simple one-line instruction command with an easily reproducible data set."
   ]
  },
  {
   "cell_type": "markdown",
   "id": "1024fdb7",
   "metadata": {},
   "source": [
    "<img src=\"img/49.png\">"
   ]
  },
  {
   "cell_type": "raw",
   "id": "ace1b9ca",
   "metadata": {},
   "source": [
    "Mlaunch and mgenerate are tools designed to either simulate or get a very close approximation of situations we might want to debug.\n",
    "\n",
    "Think of these two as our debugging tools from the package.\n",
    "\n",
    "On the other side of things, mlogfilter, mloginfo, mplotqueries, and mlogvis will help us to analyze log files.\n",
    "\n",
    "Once we've got a log file, we can filter for relevant information with mlogfilter, plot and visualize the execution of given commands and operations, and retrieve information from the logs on specific events like restarts, connections, and others.\n",
    "\n",
    "These four tools can be seen as diagnostics tools."
   ]
  },
  {
   "cell_type": "markdown",
   "id": "a9b571ec",
   "metadata": {},
   "source": [
    "<img src=\"img/50.png\">"
   ]
  },
  {
   "cell_type": "raw",
   "id": "8d28e48a",
   "metadata": {},
   "source": [
    "We can get general information with mloginfo.\n",
    "\n",
    "Select only a subset of the components to analyze with mlogfilter."
   ]
  },
  {
   "cell_type": "markdown",
   "id": "3d842092",
   "metadata": {},
   "source": [
    "<img src=\"img/51.png\">"
   ]
  },
  {
   "cell_type": "markdown",
   "id": "6c6f30fb",
   "metadata": {},
   "source": [
    "<img src=\"img/52.png\">"
   ]
  },
  {
   "cell_type": "raw",
   "id": "0296616d",
   "metadata": {},
   "source": [
    "Notice that all of these entries now have the replication component.\n",
    "\n",
    "And we can plot and visualize the execution of operations with either mlogvis or mplotqueries.\n",
    "\n",
    "We won't bother to look at that now."
   ]
  },
  {
   "cell_type": "markdown",
   "id": "2fa79d7e",
   "metadata": {},
   "source": [
    "<img src=\"img/53.png\">"
   ]
  },
  {
   "cell_type": "raw",
   "id": "f7e50eea",
   "metadata": {},
   "source": [
    "I haven't done anything interesting yet with a MongoDB.\n",
    "\n",
    "Obviously, since all of these are command line tools, we can also construct pipelines to visualize filter and group outputs from the different tools.\n",
    "\n",
    "In short, the Mtools package is a great set of easy helpers that we will utilize throughout the course.\n",
    "\n",
    "You should definitely have all of them at your fingertips to analyze debug and even reproduce issues detected on your deployments."
   ]
  },
  {
   "cell_type": "markdown",
   "id": "bd4c4953",
   "metadata": {},
   "source": [
    "### 範例01"
   ]
  },
  {
   "cell_type": "raw",
   "id": "3f62fadf",
   "metadata": {},
   "source": [
    "Which of the following are tools included in the mtools package?\n",
    "\n",
    "mplotqueries\n",
    "mongostat\n",
    "mlogvis\n",
    "mgenerate"
   ]
  },
  {
   "cell_type": "raw",
   "id": "1d3bc261",
   "metadata": {},
   "source": [
    "The only incorrect answer is mongostat.\n",
    "In this course, we also cover mongodb server tools, which mongostat is part of, but it's not part of mtools."
   ]
  },
  {
   "cell_type": "markdown",
   "id": "a0a3eb4e",
   "metadata": {},
   "source": [
    "### 範例02-Analyze Log Components"
   ]
  },
  {
   "cell_type": "markdown",
   "id": "b8db1cb2",
   "metadata": {},
   "source": [
    "# Performance Statistics"
   ]
  },
  {
   "cell_type": "raw",
   "id": "d9f8cf46",
   "metadata": {},
   "source": [
    "One of the cool new features of Compass is the ability to see real time performance statistics for the node I'm connected to.\n",
    "\n",
    "And so if I click on the Performance tab up at the top here, what I'll see is I actually get four charts presented back to me in the interface that represent key metrics that are occurring on the MongoDB server right now."
   ]
  },
  {
   "cell_type": "markdown",
   "id": "ed1411d6",
   "metadata": {},
   "source": [
    "<img src=\"img/54.png\">"
   ]
  },
  {
   "cell_type": "raw",
   "id": "f3258b25",
   "metadata": {},
   "source": [
    "And so you can see in the top chart here we actually have an Operations chart.\n",
    "\n",
    "It's made up of inserts, queries, updates, deletes, commands, and get mores.\n",
    "\n",
    "And then we have a chart that represents read and write load on the server plus any network load or memory usage on the machine.\n",
    "\n",
    "On the right-hand side here what we see is two tables.\n",
    "\n",
    "One represents the hottest collections in the server right now, and we'll see for example that actually a MongoDB database and fan club collection is at 0% usage.\n",
    "\n",
    "This is a test box and there's no traffic going on on this machine right now.\n",
    "\n",
    "But if there were you would see a percentage increase of read and write traffic displayed on this bar here.\n",
    "\n",
    "If there are any slow operations going on on the server, they'll be listed here, too.\n",
    "\n",
    "And what we effectively see is the output from db.currentOp(), which is a core server internal command that you can run to get an understanding of any operations that are occurring at that time on the server.\n",
    "\n",
    "And they'll be displayed here in a table form, and you'll be able to see the type of operation, whether it's a query or a insert, and the operation ID, and specifically what the operation is.\n",
    "\n",
    "You'll notice that the data in these charts moves fairly quickly.\n",
    "\n",
    "These charts represent roughly about 30-second window of metric collection.\n",
    "\n",
    "Now it may be that we see a spike that we want to drill into, and we may want to drill into it before we see it disappearing off the window.\n",
    "\n",
    "What we can do is actually hit the Pause button in the top right up here to pause the charts from adding any more data points in before our spike ages out.\n",
    "\n",
    "And when we're ready we can actually hover over and take a look, and you'll notice there's a trend line down between all the charts to indicate that this moment in time was happening.\n",
    "\n",
    "And we can take a look, see if there's anything interesting for us to take a look at there.\n",
    "\n",
    "When we're ready we can go ahead and click Play again, and the charts will simply catch back up to the present time."
   ]
  },
  {
   "cell_type": "markdown",
   "id": "188f8cad",
   "metadata": {},
   "source": [
    "### 範例01"
   ]
  },
  {
   "cell_type": "raw",
   "id": "b911b83f",
   "metadata": {},
   "source": [
    "Which of the following are performance metrics available in MongoDB Compass?"
   ]
  },
  {
   "cell_type": "raw",
   "id": "d564339a",
   "metadata": {},
   "source": [
    "All of the following are performance metrics available in MongoDB Compass:\n",
    "\n",
    "# Number of Operations (Insert, Queries, Updates, etc)\n",
    "# Number of Reads & Writes\n",
    "# Network Activity\n",
    "# Memory Usage\n",
    "\n",
    "Note: While Compass does report the number of \"Reads & Writes,\" it is important to point out that this refers to operational reads & writes. Compass does not display disk reads and writes. An operational read translates into zero or more disk reads, while an operational write translates (usually) into at least 2 disk writes (can be more).\n",
    "\n",
    "# Disk Space Usage is currently not a supported performance metric of MongoDB Compass."
   ]
  },
  {
   "cell_type": "markdown",
   "id": "9112a522",
   "metadata": {},
   "source": [
    "# $indexStats"
   ]
  },
  {
   "cell_type": "raw",
   "id": "d6b287c2",
   "metadata": {},
   "source": [
    "# 新增一些資料"
   ]
  },
  {
   "cell_type": "code",
   "execution_count": null,
   "id": "f728d6b0",
   "metadata": {},
   "outputs": [],
   "source": [
    "db.people.insertOne( { _id : 0, last_name : \"Cross\", first_name : \"Will\" } )\n",
    "db.people.insertOne( { _id : 1, last_name : \"Leite\", first_name : \"Norberto\" } )"
   ]
  },
  {
   "cell_type": "raw",
   "id": "51624e79",
   "metadata": {},
   "source": [
    "# 建立一些 indexes"
   ]
  },
  {
   "cell_type": "code",
   "execution_count": null,
   "id": "6328fdf5",
   "metadata": {},
   "outputs": [],
   "source": [
    "db.people.createIndex( { last_name : 1, first_name : 1 } )\n",
    "db.people.createIndex( { first_name : 1 } )"
   ]
  },
  {
   "cell_type": "markdown",
   "id": "94e1a502",
   "metadata": {},
   "source": [
    "<img src=\"img/55.png\">"
   ]
  },
  {
   "cell_type": "raw",
   "id": "7126810c",
   "metadata": {},
   "source": [
    "# 使用 pipeline 的 $indexStats"
   ]
  },
  {
   "cell_type": "code",
   "execution_count": null,
   "id": "c4c403a8",
   "metadata": {},
   "outputs": [],
   "source": [
    "db.people.aggregate( [ { $indexStats : { } } ] ).pretty()"
   ]
  },
  {
   "cell_type": "markdown",
   "id": "078b6a39",
   "metadata": {},
   "source": [
    "<img src=\"img/56.png\">"
   ]
  },
  {
   "cell_type": "code",
   "execution_count": null,
   "id": "4b2944a4",
   "metadata": {},
   "outputs": [],
   "source": [
    "# 找到一個 document\n",
    "db.people.findOne ( { _id : 0 } )"
   ]
  },
  {
   "cell_type": "code",
   "execution_count": null,
   "id": "ae87d114",
   "metadata": {},
   "outputs": [],
   "source": [
    "db.people.aggregate( [\n",
    "  { $indexStats : { } },\n",
    "  { $project : { key: 1, \"accesses.ops\": 1 } }\n",
    "] ).pretty()"
   ]
  },
  {
   "cell_type": "markdown",
   "id": "07332d69",
   "metadata": {},
   "source": [
    "<img src=\"img/57.png\">"
   ]
  },
  {
   "cell_type": "code",
   "execution_count": null,
   "id": "da6edabd",
   "metadata": {},
   "outputs": [],
   "source": [
    "# 沒有找到任何 document\n",
    "db.people.findOne( { _id : null } ) "
   ]
  },
  {
   "cell_type": "markdown",
   "id": "9e4ff733",
   "metadata": {},
   "source": [
    "<img src=\"img/59.png\">"
   ]
  },
  {
   "cell_type": "code",
   "execution_count": null,
   "id": "bc88f999",
   "metadata": {},
   "outputs": [],
   "source": [
    "# 使用 collectionScan\n",
    "db.people.find() "
   ]
  },
  {
   "cell_type": "code",
   "execution_count": null,
   "id": "c948b9ae",
   "metadata": {},
   "outputs": [],
   "source": [
    "db.people.aggregate( [\n",
    "  { $indexStats : { } },\n",
    "  { $project : { key: 1, \"accesses.ops\": 1 } }\n",
    "] ).pretty()\n"
   ]
  },
  {
   "cell_type": "markdown",
   "id": "93e6605d",
   "metadata": {},
   "source": [
    "<img src=\"img/59.png\">"
   ]
  },
  {
   "cell_type": "code",
   "execution_count": null,
   "id": "fb3db57c",
   "metadata": {},
   "outputs": [],
   "source": [
    "# 看看 Index 是何時建立的\n",
    "db.people.aggregate( [ \n",
    "  { $indexStats : { } },\n",
    "  { $project : { key: 1, \"accesses.ops\": 1, \"accesses.since\": 1 } }\n",
    "] ).pretty()"
   ]
  },
  {
   "cell_type": "markdown",
   "id": "fc36fca3",
   "metadata": {},
   "source": [
    "---"
   ]
  },
  {
   "cell_type": "raw",
   "id": "71d00da5",
   "metadata": {},
   "source": [
    "OK, now that we've seen this for some small queries, let's do it for a whole bunch of queries.\n",
    "\n",
    "Whoops-- ran it too quick.\n",
    "\n",
    "Basically, it finds a single query and runs it 100 times."
   ]
  },
  {
   "cell_type": "markdown",
   "id": "d8587fe5",
   "metadata": {},
   "source": [
    "<img src=\"img/60.png\">"
   ]
  },
  {
   "cell_type": "raw",
   "id": "c2608e6c",
   "metadata": {},
   "source": [
    "We should see the index stat incrementing for each query.\n",
    "\n",
    "And when I look at my index stats, there it is.\n",
    "\n",
    "My last name, first name index was incremented 100 times because we used it for each of those 100 queries."
   ]
  },
  {
   "cell_type": "markdown",
   "id": "9a77cb70",
   "metadata": {},
   "source": [
    "<img src=\"img/61.png\">"
   ]
  },
  {
   "cell_type": "raw",
   "id": "2c636d7d",
   "metadata": {},
   "source": [
    "I also want you to notice that this used last name and first name, and I have an index that's only on first name, which could have been used, but it's not optimal.\n",
    "\n",
    "But MongoDB only used the other index to fulfill the query, so it didn't increment the operations on this first name index.\n",
    "\n",
    "So $indexStats is going to do a good job of telling us which indexes we're using and which ones we're not.\n",
    "\n",
    "By looking at the change in that ops field from one time to the next that we use $indexStats, we can get a pretty good sense of which indexes are never being used, meaning they're good candidates for deletion.\n",
    "\n",
    "Why?\n",
    "\n",
    "Well, recall that indexes will reduce the speed of inserts because you have to insert a document and add an index key for each index in that collection.\n",
    "\n",
    "By the way, it's worth asking the question, when does it increment the field?\n",
    "\n",
    "Notice that, right now, my indexes have a value of 0, 2, and 100."
   ]
  },
  {
   "cell_type": "raw",
   "id": "cb596975",
   "metadata": {},
   "source": [
    "#### Let's insert one more document and see what our index stats look like.####"
   ]
  },
  {
   "cell_type": "raw",
   "id": "93ec30ef",
   "metadata": {},
   "source": [
    "0, 2, and 100.\n",
    "\n",
    "It did not increment any of them from inserting a document.\n",
    "\n",
    "What about an update?"
   ]
  },
  {
   "cell_type": "raw",
   "id": "04cf5a5d",
   "metadata": {},
   "source": [
    "####OK, I performed a single update.####"
   ]
  },
  {
   "cell_type": "raw",
   "id": "1ef2cafd",
   "metadata": {},
   "source": [
    "We matched one document and modified it.\n",
    "\n",
    "Let's look at our index stats-- 0, 2, and 101.\n",
    "\n",
    "OK, it used this last name, first name index to fulfill that update.\n",
    "\n",
    "That's because an update is a combination of a find and a write, and since I used the index to find the document, it's incremented."
   ]
  },
  {
   "cell_type": "raw",
   "id": "110d99a8",
   "metadata": {},
   "source": [
    "####By way, MongoDB will increment the ops field even if I don't update anything.####"
   ]
  },
  {
   "cell_type": "raw",
   "id": "b4b65525",
   "metadata": {},
   "source": [
    "I'll run the same update, setting the same field, but it will recognize that no update is necessary since we're already in the state the update is trying to create.\n",
    "\n",
    "Update one set, address, same field-- matched one document, didn't modify it.\n",
    "\n",
    "But when I look at the index stats, there we go-- incremented the ops field.\n",
    "\n",
    "We had to use the index to find the document even though we didn't write to that document.\n",
    "\n",
    "Any time I use the index to find a document, MongoDB will increment that index counter in the ops field."
   ]
  },
  {
   "cell_type": "markdown",
   "id": "9dfa4f9f",
   "metadata": {},
   "source": [
    "---"
   ]
  },
  {
   "cell_type": "raw",
   "id": "47b1eda2",
   "metadata": {},
   "source": [
    "Now, the nice thing about index stats is that it's free.\n",
    "\n",
    "It's done by the server automatically, and it includes a surprising amount of data about my access patterns.\n",
    "\n",
    "Let's look at that full index stats document again.\n",
    "\n",
    "We'll eliminate our project stage, and there we go."
   ]
  },
  {
   "cell_type": "markdown",
   "id": "1a188bc8",
   "metadata": {},
   "source": [
    "<img src=\"img/62.png\">"
   ]
  },
  {
   "cell_type": "raw",
   "id": "e81cad04",
   "metadata": {},
   "source": [
    "So one of the things you'll notice is that we have this host field here, seems to be the same for all three of my indexes.\n",
    "\n",
    "Why are we putting that in every single document?\n",
    "\n",
    "Well, the problem is that I might have servers go down, and a secondary will become primary."
   ]
  },
  {
   "cell_type": "markdown",
   "id": "3590d69e",
   "metadata": {},
   "source": [
    "---"
   ]
  },
  {
   "cell_type": "markdown",
   "id": "fc764c71",
   "metadata": {},
   "source": [
    "Suddenly, all of our counters start out at some other number, because each server looks at its own ops independently and counts them up."
   ]
  },
  {
   "cell_type": "markdown",
   "id": "f62c6498",
   "metadata": {},
   "source": [
    "---"
   ]
  },
  {
   "cell_type": "raw",
   "id": "bede3296",
   "metadata": {},
   "source": [
    "Let's see this in action.\n",
    "\n",
    "OK, my primary is now a secondary.\n",
    "\n",
    "I happen to know that the server on port 30001 will be stepping up.\n",
    "\n",
    "And sure enough, it's now primary.\n",
    "\n",
    "And I'll look at those index stats, and what do you know, the ops are 0 for each of my three indexes.\n",
    "\n",
    "That's because I haven't performed any queries on this server on port 30001."
   ]
  },
  {
   "cell_type": "markdown",
   "id": "f15c147c",
   "metadata": {},
   "source": [
    "<img src=\"img/63.png\">"
   ]
  },
  {
   "cell_type": "raw",
   "id": "87b10fc6",
   "metadata": {},
   "source": [
    "All right, so that's bad enough for a replica set, but things get really interesting when we're dealing with a sharded cluster.\n",
    "\n",
    "Now that you're familiar with the basics of index stats, let's make it even more interesting.\n",
    "\n",
    "We've stopped our set.\n",
    "\n",
    "Let's blow away our data, and let's create a sharded cluster with four shards, each with three replica sets."
   ]
  },
  {
   "cell_type": "markdown",
   "id": "48d34f44",
   "metadata": {},
   "source": [
    "<img src=\"img/64.png\">"
   ]
  },
  {
   "cell_type": "raw",
   "id": "92e4e126",
   "metadata": {},
   "source": [
    "We'll connect to our MongoS, and let's do some interesting stuff."
   ]
  },
  {
   "cell_type": "markdown",
   "id": "35346b1e",
   "metadata": {},
   "source": [
    "<img src=\"img/65.png\">"
   ]
  },
  {
   "cell_type": "raw",
   "id": "6341532c",
   "metadata": {},
   "source": [
    "We're going to use mgenerate to create some data, and this might take a little while.\n",
    "\n",
    "It's not terribly efficient.\n",
    "\n",
    "I don't want a bunch of chunks moving around on their own very slowly, so let's start by sharding our collection and pre-splitting some of the chunks.\n",
    "\n",
    "We'll create an index and shard that collection.\n",
    "\n",
    "Create the index, shard the collection."
   ]
  },
  {
   "cell_type": "markdown",
   "id": "65acabd5",
   "metadata": {},
   "source": [
    "<img src=\"img/66.png\">"
   ]
  },
  {
   "cell_type": "markdown",
   "id": "0874aed3",
   "metadata": {},
   "source": [
    "<img src=\"img/67.png\">"
   ]
  },
  {
   "cell_type": "raw",
   "id": "31e47532",
   "metadata": {},
   "source": [
    "And I'm going to write a little script to pre-split my data."
   ]
  },
  {
   "cell_type": "markdown",
   "id": "586f117b",
   "metadata": {},
   "source": [
    "<img src=\"img/68.png\">"
   ]
  },
  {
   "cell_type": "raw",
   "id": "58b3eb00",
   "metadata": {},
   "source": [
    "To find a variable I'm going to use, pre-split my data, and when I look at sh.status status, initially, all of my chunks are on one shard.\n",
    "\n",
    "And a few moments later, it started to move around.\n",
    "\n",
    "Several seconds later, they're evenly distributed.\n",
    "\n",
    "Great, let's disconnect and create some data."
   ]
  },
  {
   "cell_type": "markdown",
   "id": "7a27e644",
   "metadata": {},
   "source": [
    "---"
   ]
  },
  {
   "cell_type": "markdown",
   "id": "83f9bff0",
   "metadata": {},
   "source": [
    "<img src=\"img/69.png\">"
   ]
  },
  {
   "cell_type": "markdown",
   "id": "147eb6c3",
   "metadata": {},
   "source": [
    "OK, this mgenerate_userdata.json is going to be passed to mgenerate, and it's going to create some user data based on this document here.\n",
    "\n",
    "Let's make it happen.\n",
    "\n",
    "And wait a few minutes for it to finish.\n",
    "\n",
    "That only took a few seconds."
   ]
  },
  {
   "cell_type": "markdown",
   "id": "706682fa",
   "metadata": {},
   "source": [
    "<img src=\"img/70.png\">"
   ]
  },
  {
   "cell_type": "markdown",
   "id": "6b6c6745",
   "metadata": {},
   "source": [
    "OK, let's connect.\n",
    "\n",
    "OK, I'm in the right database.\n",
    "\n",
    "Let's look at our index stats before we do anything."
   ]
  },
  {
   "cell_type": "markdown",
   "id": "00ff3ace",
   "metadata": {},
   "source": [
    "<img src=\"img/71.png\">"
   ]
  },
  {
   "cell_type": "markdown",
   "id": "032d81a7",
   "metadata": {},
   "source": [
    "OK, so this is a lot of information.\n",
    "\n",
    "We have four shards, and each index is represented on each shard.\n",
    "\n",
    "So even though we only have two indexes on _ID and user.name.last, it's giving us eight documents-- one per index on each server.\n",
    "\n",
    "And we haven't done any queries yet, so the ops field is 0 for each of these 0, 0, 0, 0, 0, 0, 0, 0.\n",
    "\n",
    "Good, let's run a query.\n",
    "\n",
    "We'll find a document using the shard key."
   ]
  },
  {
   "cell_type": "markdown",
   "id": "154e7afc",
   "metadata": {},
   "source": [
    "<img src=\"img/72.png\">"
   ]
  },
  {
   "cell_type": "markdown",
   "id": "a8e20be7",
   "metadata": {},
   "source": [
    "OK, and we'll look at the index stats.\n",
    "\n",
    "OK, so the ops remain 0 for the _id field and 0 for most of the servers.\n",
    "\n",
    "But this server on port 30001 has run the query and touched that index.\n",
    "\n",
    "That was an exact match query, and it hit only one chunk."
   ]
  },
  {
   "cell_type": "markdown",
   "id": "6601b7da",
   "metadata": {},
   "source": [
    "<img src=\"img/73.png\">"
   ]
  },
  {
   "cell_type": "markdown",
   "id": "baaaae7b",
   "metadata": {},
   "source": [
    "And my router knows it's only on one server and routed to the appropriate server, but that won't always be the case.\n",
    "\n",
    "Let's do a range query."
   ]
  },
  {
   "cell_type": "markdown",
   "id": "fa23b74c",
   "metadata": {},
   "source": [
    "<img src=\"img/74.png\">"
   ]
  },
  {
   "cell_type": "markdown",
   "id": "2de30b05",
   "metadata": {},
   "source": [
    "User.name.last is less than or equal to d.\n",
    "\n",
    "Get my results, and we will look at index stats.\n",
    "\n",
    "Once again, our _id ops are still 0 but 1111 for this user.name.last."
   ]
  },
  {
   "cell_type": "markdown",
   "id": "f9f0b947",
   "metadata": {},
   "source": [
    "<img src=\"img/75.png\">"
   ]
  },
  {
   "cell_type": "markdown",
   "id": "03d1af44",
   "metadata": {},
   "source": [
    "What happened was this query actually touched the other three shards that hadn't seen the first query.\n",
    "\n",
    "That's just a coincidence.\n",
    "\n",
    "The important thing is that three servers had chunks that match the query, and all three of those servers incremented their ops counter for that index.\n",
    "\n",
    "A range query like this can touch one, some, or all of your servers depending on what the chunk ranges are."
   ]
  },
  {
   "cell_type": "raw",
   "id": "854ce0ec",
   "metadata": {},
   "source": [
    "By the way, what about a query that doesn't use the shard key.\n",
    "\n",
    "Let's create another index and query on it.\n",
    "\n",
    "We'll create our index on user.phonenumber.\n",
    "\n",
    "We'll do a little query that doesn't use an index and which gives us a phone number initially.\n",
    "\n",
    "We'll run a query that counts the number of users with that phone number.\n",
    "\n",
    "OK, we're going to find a phone number.\n",
    "\n",
    "There we go.\n",
    "\n",
    "OK, so we're going to create an index on user.phonenumber.\n",
    "\n",
    "We're going to find a single phone number.\n",
    "\n",
    "And we're going to count the number of users with that phone number.\n",
    "\n",
    "And it's just the one.\n",
    "\n",
    "All right, let's look at index stats."
   ]
  },
  {
   "cell_type": "markdown",
   "id": "f20f0b2d",
   "metadata": {},
   "source": [
    "<img src=\"img/76.png\">"
   ]
  },
  {
   "cell_type": "raw",
   "id": "b9f23c21",
   "metadata": {},
   "source": [
    "Here, I'm querying just for the phone numbers statistics.\n",
    "\n",
    "And I can see that I have accessed it twice-- one actually in querying that first time to get our phone number, and then a second time for that phone number.\n",
    "\n",
    "You can see these queries hit all of our shards.\n",
    "\n",
    "So even though I only wanted one document which is only on one server, the query hit every single one of my servers, which it has to because this query doesn't use the shard key.\n",
    "\n",
    "It's a scatter gather query.\n",
    "\n",
    "We don't know which shard has the document.\n",
    "\n",
    "So for queries that don't use the shard key, you can just count the number of times they appear on any server.\n",
    "\n",
    "If it hits one, it hits them all.\n",
    "\n",
    "The moral is that if you're using index stats, you need to keep track of servers, even for a replica set because you want to know when your primary steps down.\n",
    "\n",
    "For sharded cluster, it's even more complicated, and you really need to be aware of what it is you're measuring.\n",
    "\n",
    "You have to know, for each query, how many servers it hits.\n",
    "\n",
    "This is simple for exact match queries on a shard key where it hits only one server.\n",
    "\n",
    "And it's also simple for scatter gather queries which have to hit all the servers.\n",
    "\n",
    "Range-based queries on the shard key though can hit one, many, or all servers.\n",
    "\n",
    "OK, what have we learned?"
   ]
  },
  {
   "cell_type": "markdown",
   "id": "9280da3d",
   "metadata": {},
   "source": [
    "<img src=\"img/77.png\">"
   ]
  },
  {
   "cell_type": "raw",
   "id": "c7374117",
   "metadata": {},
   "source": [
    "Well, we've learned how to use index stats and look at the accesses.ops field to see what queries are hitting what indexes.\n",
    "\n",
    "We've also learned how to be careful of the host field for replica sets.\n",
    "\n",
    "And we've learned that for sharded clusters, a query can be executed by one, several, or all servers.\n",
    "\n",
    "And that's how you use index stats."
   ]
  },
  {
   "cell_type": "markdown",
   "id": "d627697a",
   "metadata": {},
   "source": [
    "### 範例01"
   ]
  },
  {
   "cell_type": "raw",
   "id": "0ab59a5f",
   "metadata": {},
   "source": [
    "You have a sharded cluster with 4 shards. The products collection is sharded on { name : 1, dateCreated : 1 }. There are 4 chunks, one on each server, and here is the range of the shard key:"
   ]
  },
  {
   "cell_type": "raw",
   "id": "4a864d41",
   "metadata": {},
   "source": [
    "s1: { name: MinKey, dateCreated: MinKey}  - { name: \"e\", dateCreated: MinKey}\n",
    "s2: { name: \"e\", dateCreated: MinKey}  - { name: \"g\", dateCreated: MinKey}\n",
    "s3: { name: \"g\", dateCreated: MinKey}  - { name: \"m\", dateCreated: MinKey}\n",
    "s4:{ name: \"m\", dateCreated: MinKey}  - { name: MaxKey, dateCreated: MaxKey}"
   ]
  },
  {
   "cell_type": "raw",
   "id": "e45aae97",
   "metadata": {},
   "source": [
    "You have the following indexes:"
   ]
  },
  {
   "cell_type": "raw",
   "id": "2bc68ef8",
   "metadata": {},
   "source": [
    "{ _id: 1 }\n",
    "{ name: 1, dateCreated: 1 }\n",
    "{ price : 1 }\n",
    "{ category: 1 }"
   ]
  },
  {
   "cell_type": "raw",
   "id": "70568748",
   "metadata": {},
   "source": [
    "You perform the following query:"
   ]
  },
  {
   "cell_type": "raw",
   "id": "c0c0f0d2",
   "metadata": {},
   "source": [
    "db.products.find( { name : { $in : [ \"iphone\", \"ipad\", \"apple watch\" ] } } )"
   ]
  },
  {
   "cell_type": "raw",
   "id": "5764c3ba",
   "metadata": {},
   "source": [
    "Which of the shards will increment their value of $indexStats for an index as a result of this query?\n",
    "\n",
    "\n",
    "s1\n",
    "s2\n",
    "s3\n",
    "s4"
   ]
  },
  {
   "cell_type": "raw",
   "id": "cac926b0",
   "metadata": {},
   "source": [
    "The first thing to note is that the query uses the shard key, and that it uses just the index prefix. Next, we note that:\n",
    "\n",
    "\"iPhone\" is in shard s3\n",
    "\"iPad\" is in shard s3\n",
    "\"Apple Watch\" is in shard s1\n",
    "Therefore, it'll be a targeted query, and will hit shards s1 and s3.\n",
    "\n",
    "While it wasn't part of the question, it increments the {name : 1, dateCreated : 1} index on those shards."
   ]
  },
  {
   "cell_type": "markdown",
   "id": "2bed0316",
   "metadata": {},
   "source": [
    "# Intro to Cloud/Ops Manager"
   ]
  },
  {
   "cell_type": "code",
   "execution_count": null,
   "id": "03001134",
   "metadata": {},
   "outputs": [],
   "source": []
  }
 ],
 "metadata": {
  "kernelspec": {
   "display_name": "Python 3",
   "language": "python",
   "name": "python3"
  },
  "language_info": {
   "codemirror_mode": {
    "name": "ipython",
    "version": 3
   },
   "file_extension": ".py",
   "mimetype": "text/x-python",
   "name": "python",
   "nbconvert_exporter": "python",
   "pygments_lexer": "ipython3",
   "version": "3.8.10"
  }
 },
 "nbformat": 4,
 "nbformat_minor": 5
}
