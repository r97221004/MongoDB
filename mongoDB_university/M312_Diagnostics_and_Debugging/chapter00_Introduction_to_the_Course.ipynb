{
 "cells": [
  {
   "cell_type": "markdown",
   "id": "13be597d",
   "metadata": {},
   "source": [
    "# Introduction to the Course"
   ]
  },
  {
   "cell_type": "markdown",
   "id": "b7cf641a",
   "metadata": {},
   "source": [
    "# M312 Format and Dynamics"
   ]
  },
  {
   "cell_type": "raw",
   "id": "75168526",
   "metadata": {},
   "source": [
    "Let's talk a bit about how this course is going to work.\n",
    "\n",
    "In a lot of courses, we would present the material in a way that's very ordered.\n",
    "\n",
    "Each topic is touched upon once, and related topics are touched upon together.\n",
    "\n",
    "In this course, we're going to try something different.\n",
    "\n",
    "We'll introduce a lot of new tools early on, but we won't go very deep.\n",
    "\n",
    "We'll give you a sense of how to use them, and then we'll move on.\n",
    "\n",
    "In later chapters, we'll introduce scenarios where something is going wrong.\n",
    "\n",
    "We'll describe what you're seeing, and when it's appropriate, we'll pull out a tool and show you how to use it to perform a diagnostic test.\n",
    "\n",
    "That is when you'll really see what you want to do with that tool in that particular situation.\n",
    "\n",
    "Maybe the tool will show you something useful, or maybe it will eliminate a hypothesis for what could have caused the issue.\n",
    "\n",
    "During this course, we may touch on an individual tool several times and use it in several different ways.\n",
    "\n",
    "The net result is that the course is going to be structured around issues and diagnostic questions rather than MongoDB features.\n",
    "\n",
    "And that's how we'll structure things for the course."
   ]
  },
  {
   "cell_type": "markdown",
   "id": "04b92c67",
   "metadata": {},
   "source": [
    "# What Problems Look Like in an Application"
   ]
  },
  {
   "cell_type": "raw",
   "id": "2459061e",
   "metadata": {},
   "source": [
    "In this course, we'll focus on problems.\n",
    "\n",
    "This means that after having done a clear review of all the tools and strategies to follow so we can correctly diagnose and debug an issue with the MongoDB deployment, we should get our heads together and think how these tools will be applied to diagnose common issues with the deployment, configuration, provisioning(服務開通、供應), sizing, and application logic.\n",
    "\n",
    "Hopefully, with that in mind, you can quickly relate to your own applications and be aware of how to deal and diagnose correctly with unintended situations.\n",
    "\n",
    "There are a few things that we can perceive from the applications and server hosts of MongoDB.\n",
    "\n",
    "Let's say the symptoms that our subjects may be demonstrating.\n",
    "\n",
    "These generally will drive us to blame the database.\n",
    "\n",
    "That's OK.\n",
    "\n",
    "Everyone does that.\n",
    "\n",
    "But more importantly than who to blame is how to correctly diagnose a situation and perform corrective measures.\n",
    "\n",
    "And there are a great deal of symptoms that we should be looking for.\n",
    "\n",
    "We can have very slow queries.\n",
    "\n",
    "We will look into the tools that will help us identify such offenders and how to correct those.\n",
    "\n",
    "Applications getting slower writing data as time goes by-- we will look into patterns and check the tool that will allow us to identify and monitor a potential solution.\n",
    "\n",
    "Aggregation pipelines aborting for lack of resources-- something to keep in mind.\n",
    "\n",
    "Server incurring a high disk IO-- how to detect it, how to get to the bottom of the problem.\n",
    "\n",
    "Incorrect file system configuration-- these can be very hard to find in development environments, but we will soon get into trouble if we don't attend them in production.\n",
    "\n",
    "Incorrect MongoDB configuration-- these can span from unintended behavior from incorrect configurations of cache sizes, timeouts, flushing intervals, and write concerns.\n",
    "\n",
    "Application driver integration-- how the application makes use of our driver, which commands it senses, and how these can derive in unintended situations.\n",
    "\n",
    "Connectivity issues-- when we inadvertently incorrectly configure our system, that will impact the connectivity of our deployment.\n",
    "\n",
    "And then cluster configuration-- by incorrectly provisioning or using replica sets and shared clusters we might get ourselves into situations that are important to understand and fix.\n",
    "\n",
    "These are some of the aspects that we are going to approach within different chapters of this course and introduce the tools and strategies to detect, diagnose, monitor, and fix these unwanted scenarios."
   ]
  }
 ],
 "metadata": {
  "kernelspec": {
   "display_name": "Python 3",
   "language": "python",
   "name": "python3"
  },
  "language_info": {
   "codemirror_mode": {
    "name": "ipython",
    "version": 3
   },
   "file_extension": ".py",
   "mimetype": "text/x-python",
   "name": "python",
   "nbconvert_exporter": "python",
   "pygments_lexer": "ipython3",
   "version": "3.8.10"
  }
 },
 "nbformat": 4,
 "nbformat_minor": 5
}
