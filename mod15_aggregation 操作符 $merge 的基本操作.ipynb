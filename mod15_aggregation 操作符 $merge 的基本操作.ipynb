{
 "cells": [
  {
   "cell_type": "markdown",
   "id": "907a190c",
   "metadata": {},
   "source": [
    "# $merge的基本操作"
   ]
  },
  {
   "cell_type": "raw",
   "id": "d7887bcb",
   "metadata": {},
   "source": [
    "Writes the results of the aggregation pipeline to a specified collection. The $merge operator must be the last stage in the pipeline.\n",
    "使用操作符 $merge 需要注意以下幾件事情:\n",
    "\n",
    "1. Can output to a collection in the same or different database.\n",
    "2. Creates a new collection if the output collection does not already exist.\n",
    "3. Can incorporate results (insert new documents, merge documents, replace documents, keep existing documents, fail the \n",
    "   operation, process documents with a custom update pipeline) into an existing collection.\n",
    "4. Can output to a sharded collection. Input collection can also be sharded."
   ]
  },
  {
   "cell_type": "raw",
   "id": "0d4cbbe3",
   "metadata": {},
   "source": [
    "$merge has the following syntax:"
   ]
  },
  {
   "cell_type": "raw",
   "id": "771c14c9",
   "metadata": {},
   "source": [
    "# merge 類似 upsert，而 fail 會報錯，discard 是放棄。\n",
    "{ $merge: {\n",
    "     into: <collection> -or- { db: <db>, coll: <collection> },\n",
    "     on: <identifier field> -or- [ <identifier field1>, ...],     // Optional\n",
    "     let: <variables>,                                            // Optional\n",
    "     whenMatched: <replace|keepExisting|merge(d)|fail|pipeline>,  // Optional\n",
    "     whenNotMatched: <insert(d)|discard|fail>                     // Optional\n",
    "} }"
   ]
  },
  {
   "cell_type": "markdown",
   "id": "84b170a7",
   "metadata": {},
   "source": [
    "### 範例01-If the output collection does not exist, the $merge creates the collection."
   ]
  },
  {
   "cell_type": "raw",
   "id": "c9f83277",
   "metadata": {},
   "source": [
    "For example, a collection named salaries in the zoo database is populated with the employee salary and department history:"
   ]
  },
  {
   "cell_type": "raw",
   "id": "ebaa3282",
   "metadata": {},
   "source": [
    "db.getSiblingDB(\"zoo\").salaries.insertMany([\n",
    "   { \"_id\" : 1, employee: \"Ant\", dept: \"A\", salary: 100000, fiscal_year: 2017 },\n",
    "   { \"_id\" : 2, employee: \"Bee\", dept: \"A\", salary: 120000, fiscal_year: 2017 },\n",
    "   { \"_id\" : 3, employee: \"Cat\", dept: \"Z\", salary: 115000, fiscal_year: 2017 },\n",
    "   { \"_id\" : 4, employee: \"Ant\", dept: \"A\", salary: 115000, fiscal_year: 2018 },\n",
    "   { \"_id\" : 5, employee: \"Bee\", dept: \"Z\", salary: 145000, fiscal_year: 2018 },\n",
    "   { \"_id\" : 6, employee: \"Cat\", dept: \"Z\", salary: 135000, fiscal_year: 2018 },\n",
    "   { \"_id\" : 7, employee: \"Gecko\", dept: \"A\", salary: 100000, fiscal_year: 2018 },\n",
    "   { \"_id\" : 8, employee: \"Ant\", dept: \"A\", salary: 125000, fiscal_year: 2019 },\n",
    "   { \"_id\" : 9, employee: \"Bee\", dept: \"Z\", salary: 160000, fiscal_year: 2019 },\n",
    "   { \"_id\" : 10, employee: \"Cat\", dept: \"Z\", salary: 150000, fiscal_year: 2019 }\n",
    "])"
   ]
  },
  {
   "cell_type": "raw",
   "id": "724a4fae",
   "metadata": {},
   "source": [
    "You can use the $group and $merge stages to initially create a collection named budgets (in the reporting database) from the data currently in the salaries collection:"
   ]
  },
  {
   "cell_type": "code",
   "execution_count": null,
   "id": "3145a7d1",
   "metadata": {},
   "outputs": [],
   "source": [
    "db.getSiblingDB(\"zoo\").salaries.aggregate([\n",
    "    {\n",
    "        $group: {\n",
    "            _id: { fiscal_year: \"$fiscal_year\", dept: \"$dept\"},\n",
    "            salaries: { $sum: \"$salary\" }\n",
    "        }\n",
    "    },\n",
    "    {\n",
    "        $merge: {\n",
    "            into: { db: \"reporting\", coll: \"budgets\" },\n",
    "            on: \"_id\",\n",
    "            whenMatched: \"replace\",\n",
    "            whenNotMatched: \"insert\"\n",
    "        }\n",
    "    }\n",
    "])"
   ]
  },
  {
   "cell_type": "raw",
   "id": "a6b0a5dc",
   "metadata": {},
   "source": [
    "The budgets collection contains the following documents:"
   ]
  },
  {
   "cell_type": "raw",
   "id": "c87afa4f",
   "metadata": {},
   "source": [
    "{ \"_id\" : { \"fiscal_year\" : 2017, \"dept\" : \"A\" }, \"salaries\" : 220000 }\n",
    "{ \"_id\" : { \"fiscal_year\" : 2017, \"dept\" : \"Z\" }, \"salaries\" : 115000 }\n",
    "{ \"_id\" : { \"fiscal_year\" : 2018, \"dept\" : \"A\" }, \"salaries\" : 215000 }\n",
    "{ \"_id\" : { \"fiscal_year\" : 2018, \"dept\" : \"Z\" }, \"salaries\" : 280000 }\n",
    "{ \"_id\" : { \"fiscal_year\" : 2019, \"dept\" : \"A\" }, \"salaries\" : 125000 }\n",
    "{ \"_id\" : { \"fiscal_year\" : 2019, \"dept\" : \"Z\" }, \"salaries\" : 310000 }"
   ]
  },
  {
   "cell_type": "markdown",
   "id": "619f1455",
   "metadata": {},
   "source": [
    "### 範例02-延續範例01"
   ]
  },
  {
   "cell_type": "raw",
   "id": "325c4a7d",
   "metadata": {},
   "source": [
    "The example salaries collection contains the employee salary and department history:"
   ]
  },
  {
   "cell_type": "raw",
   "id": "cb8bc2f3",
   "metadata": {},
   "source": [
    "{ \"_id\" : 1, employee: \"Ant\", dept: \"A\", salary: 100000, fiscal_year: 2017 },\n",
    "{ \"_id\" : 2, employee: \"Bee\", dept: \"A\", salary: 120000, fiscal_year: 2017 },\n",
    "{ \"_id\" : 3, employee: \"Cat\", dept: \"Z\", salary: 115000, fiscal_year: 2017 },\n",
    "{ \"_id\" : 4, employee: \"Ant\", dept: \"A\", salary: 115000, fiscal_year: 2018 },\n",
    "{ \"_id\" : 5, employee: \"Bee\", dept: \"Z\", salary: 145000, fiscal_year: 2018 },\n",
    "{ \"_id\" : 6, employee: \"Cat\", dept: \"Z\", salary: 135000, fiscal_year: 2018 },\n",
    "{ \"_id\" : 7, employee: \"Gecko\", dept: \"A\", salary: 100000, fiscal_year: 2018 },\n",
    "{ \"_id\" : 8, employee: \"Ant\", dept: \"A\", salary: 125000, fiscal_year: 2019 },\n",
    "{ \"_id\" : 9, employee: \"Bee\", dept: \"Z\", salary: 160000, fiscal_year: 2019 },\n",
    "{ \"_id\" : 10, employee: \"Cat\", dept: \"Z\", salary: 150000, fiscal_year: 2019 }"
   ]
  },
  {
   "cell_type": "raw",
   "id": "c8da904f",
   "metadata": {},
   "source": [
    "The example budgets collection contains the cumulative yearly budgets:"
   ]
  },
  {
   "cell_type": "raw",
   "id": "28f48bb4",
   "metadata": {},
   "source": [
    "{ \"_id\" : { \"fiscal_year\" : 2017, \"dept\" : \"A\" }, \"salaries\" : 220000 }\n",
    "{ \"_id\" : { \"fiscal_year\" : 2017, \"dept\" : \"Z\" }, \"salaries\" : 115000 }\n",
    "{ \"_id\" : { \"fiscal_year\" : 2018, \"dept\" : \"A\" }, \"salaries\" : 215000 }\n",
    "{ \"_id\" : { \"fiscal_year\" : 2018, \"dept\" : \"Z\" }, \"salaries\" : 280000 }\n",
    "{ \"_id\" : { \"fiscal_year\" : 2019, \"dept\" : \"A\" }, \"salaries\" : 125000 }\n",
    "{ \"_id\" : { \"fiscal_year\" : 2019, \"dept\" : \"Z\" }, \"salaries\" : 310000 }"
   ]
  },
  {
   "cell_type": "raw",
   "id": "682784a0",
   "metadata": {},
   "source": [
    "During the current fiscal year (2019 in this example), new employees are added to the salaries collection and new head counts are pre-allocated for the next year:"
   ]
  },
  {
   "cell_type": "raw",
   "id": "b4144f70",
   "metadata": {},
   "source": [
    "db.getSiblingDB(\"zoo\").salaries.insertMany([\n",
    "   { \"_id\" : 11,  employee: \"Wren\", dept: \"Z\", salary: 100000, fiscal_year: 2019 },\n",
    "   { \"_id\" : 12,  employee: \"Zebra\", dept: \"A\", salary: 150000, fiscal_year: 2019 },\n",
    "   { \"_id\" : 13,  employee: \"headcount1\", dept: \"Z\", salary: 120000, fiscal_year: 2020 },\n",
    "   { \"_id\" : 14,  employee: \"headcount2\", dept: \"Z\", salary: 120000, fiscal_year: 2020 }\n",
    "])"
   ]
  },
  {
   "cell_type": "raw",
   "id": "0fb09112",
   "metadata": {},
   "source": [
    "To update the budgets collection to reflect the new salary information, the following aggregation pipeline uses:"
   ]
  },
  {
   "cell_type": "code",
   "execution_count": null,
   "id": "e8f53adc",
   "metadata": {},
   "outputs": [],
   "source": [
    "db.getSiblingDB(\"zoo\").salaries.aggregate([\n",
    "    {\n",
    "        $match: {\n",
    "            fiscal_year: { $gte: 2019 }\n",
    "        }\n",
    "    },\n",
    "    {\n",
    "        $group: {\n",
    "            _id: { fiscal_year: \"$fiscal_year\", dept: \"$dept\"},\n",
    "            salaries: { $sum: \"$salary\" }\n",
    "        }\n",
    "    },\n",
    "    {\n",
    "        $merge: {\n",
    "            into: { db: \"reporting\", coll: \"budgets\" },\n",
    "            on: \"_id\",\n",
    "            whenMatched: \"replace\",\n",
    "            whenNotMatched: \"insert\"\n",
    "        }\n",
    "    }\n",
    "])"
   ]
  },
  {
   "cell_type": "raw",
   "id": "b8dd6a70",
   "metadata": {},
   "source": [
    "After the aggregation is run, view the documents in the budgets collection:"
   ]
  },
  {
   "cell_type": "raw",
   "id": "a3ae584f",
   "metadata": {},
   "source": [
    "{ \"_id\" : { \"fiscal_year\" : 2017, \"dept\" : \"A\" }, \"salaries\" : 220000 }\n",
    "{ \"_id\" : { \"fiscal_year\" : 2017, \"dept\" : \"Z\" }, \"salaries\" : 115000 }\n",
    "{ \"_id\" : { \"fiscal_year\" : 2018, \"dept\" : \"A\" }, \"salaries\" : 215000 }\n",
    "{ \"_id\" : { \"fiscal_year\" : 2018, \"dept\" : \"Z\" }, \"salaries\" : 280000 }\n",
    "{ \"_id\" : { \"fiscal_year\" : 2019, \"dept\" : \"A\" }, \"salaries\" : 275000 }\n",
    "{ \"_id\" : { \"fiscal_year\" : 2019, \"dept\" : \"Z\" }, \"salaries\" : 410000 }\n",
    "{ \"_id\" : { \"fiscal_year\" : 2020, \"dept\" : \"Z\" }, \"salaries\" : 240000 }"
   ]
  },
  {
   "cell_type": "markdown",
   "id": "99daf994",
   "metadata": {},
   "source": [
    "### 範例03-Only insert new data"
   ]
  },
  {
   "cell_type": "raw",
   "id": "a169aefe",
   "metadata": {},
   "source": [
    "The example salaries collection in the zoo database contains the employee salary and department history:"
   ]
  },
  {
   "cell_type": "raw",
   "id": "c3d8300f",
   "metadata": {},
   "source": [
    "{ \"_id\" : 1, employee: \"Ant\", dept: \"A\", salary: 100000, fiscal_year: 2017 },\n",
    "{ \"_id\" : 2, employee: \"Bee\", dept: \"A\", salary: 120000, fiscal_year: 2017 },\n",
    "{ \"_id\" : 3, employee: \"Cat\", dept: \"Z\", salary: 115000, fiscal_year: 2017 },\n",
    "{ \"_id\" : 4, employee: \"Ant\", dept: \"A\", salary: 115000, fiscal_year: 2018 },\n",
    "{ \"_id\" : 5, employee: \"Bee\", dept: \"Z\", salary: 145000, fiscal_year: 2018 },\n",
    "{ \"_id\" : 6, employee: \"Cat\", dept: \"Z\", salary: 135000, fiscal_year: 2018 },\n",
    "{ \"_id\" : 7, employee: \"Gecko\", dept: \"A\", salary: 100000, fiscal_year: 2018 },\n",
    "{ \"_id\" : 8, employee: \"Ant\", dept: \"A\", salary: 125000, fiscal_year: 2019 },\n",
    "{ \"_id\" : 9, employee: \"Bee\", dept: \"Z\", salary: 160000, fiscal_year: 2019 },\n",
    "{ \"_id\" : 10, employee: \"Cat\", dept: \"Z\", salary: 150000, fiscal_year: 2019 }"
   ]
  },
  {
   "cell_type": "raw",
   "id": "ccf57bd5",
   "metadata": {},
   "source": [
    "A collection orgArchive in the reporting database contains historical departmental organization records for the past fiscal years. Archived records should not be modified."
   ]
  },
  {
   "cell_type": "raw",
   "id": "105d07a2",
   "metadata": {},
   "source": [
    "{ \"_id\" : ObjectId(\"5cd8c68261baa09e9f3622be\"), \"employees\" : [ \"Ant\", \"Gecko\" ], \"dept\" : \"A\", \"fiscal_year\" : 2018 }\n",
    "{ \"_id\" : ObjectId(\"5cd8c68261baa09e9f3622bf\"), \"employees\" : [ \"Ant\", \"Bee\" ], \"dept\" : \"A\", \"fiscal_year\" : 2017 }\n",
    "{ \"_id\" : ObjectId(\"5cd8c68261baa09e9f3622c0\"), \"employees\" : [ \"Bee\", \"Cat\" ], \"dept\" : \"Z\", \"fiscal_year\" : 2018 }\n",
    "{ \"_id\" : ObjectId(\"5cd8c68261baa09e9f3622c1\"), \"employees\" : [ \"Cat\" ], \"dept\" : \"Z\", \"fiscal_year\" : 2017 }"
   ]
  },
  {
   "cell_type": "raw",
   "id": "f8996649",
   "metadata": {},
   "source": [
    "The orgArchive collection has a unique compound index on the fiscal_year and dept fields. Specifically, there should be at most one record for the same fiscal year and department combination:"
   ]
  },
  {
   "cell_type": "raw",
   "id": "a5e50243",
   "metadata": {},
   "source": [
    "db.getSiblingDB(\"reporting\").orgArchive.createIndex ( { fiscal_year: 1, dept: 1 }, { unique: true } )"
   ]
  },
  {
   "cell_type": "raw",
   "id": "4da9cc18",
   "metadata": {},
   "source": [
    "At the end of current fiscal year (2019 in this example), the salaries collection contain the following documents:"
   ]
  },
  {
   "cell_type": "raw",
   "id": "d1b7509e",
   "metadata": {},
   "source": [
    "{ \"_id\" : 1, \"employee\" : \"Ant\", \"dept\" : \"A\", \"salary\" : 100000, \"fiscal_year\" : 2017 }\n",
    "{ \"_id\" : 2, \"employee\" : \"Bee\", \"dept\" : \"A\", \"salary\" : 120000, \"fiscal_year\" : 2017 }\n",
    "{ \"_id\" : 3, \"employee\" : \"Cat\", \"dept\" : \"Z\", \"salary\" : 115000, \"fiscal_year\" : 2017 }\n",
    "{ \"_id\" : 4, \"employee\" : \"Ant\", \"dept\" : \"A\", \"salary\" : 115000, \"fiscal_year\" : 2018 }\n",
    "{ \"_id\" : 5, \"employee\" : \"Bee\", \"dept\" : \"Z\", \"salary\" : 145000, \"fiscal_year\" : 2018 }\n",
    "{ \"_id\" : 6, \"employee\" : \"Cat\", \"dept\" : \"Z\", \"salary\" : 135000, \"fiscal_year\" : 2018 }\n",
    "{ \"_id\" : 7, \"employee\" : \"Gecko\", \"dept\" : \"A\", \"salary\" : 100000, \"fiscal_year\" : 2018 }\n",
    "{ \"_id\" : 8, \"employee\" : \"Ant\", \"dept\" : \"A\", \"salary\" : 125000, \"fiscal_year\" : 2019 }\n",
    "{ \"_id\" : 9, \"employee\" : \"Bee\", \"dept\" : \"Z\", \"salary\" : 160000, \"fiscal_year\" : 2019 }\n",
    "{ \"_id\" : 10, \"employee\" : \"Cat\", \"dept\" : \"Z\", \"salary\" : 150000, \"fiscal_year\" : 2019 }\n",
    "{ \"_id\" : 11, \"employee\" : \"Wren\", \"dept\" : \"Z\", \"salary\" : 100000, \"fiscal_year\" : 2019 }\n",
    "{ \"_id\" : 12, \"employee\" : \"Zebra\", \"dept\" : \"A\", \"salary\" : 150000, \"fiscal_year\" : 2019 }\n",
    "{ \"_id\" : 13, \"employee\" : \"headcount1\", \"dept\" : \"Z\", \"salary\" : 120000, \"fiscal_year\" : 2020 }\n",
    "{ \"_id\" : 14, \"employee\" : \"headcount2\", \"dept\" : \"Z\", \"salary\" : 120000, \"fiscal_year\" : 2020 }"
   ]
  },
  {
   "cell_type": "raw",
   "id": "2a6c8ba5",
   "metadata": {},
   "source": [
    "To update the orgArchive collection to include the fiscal year 2019 that has just ended, the following aggregation pipeline uses:"
   ]
  },
  {
   "cell_type": "code",
   "execution_count": null,
   "id": "00ba2640",
   "metadata": {},
   "outputs": [],
   "source": [
    "db.getSiblingDB(\"zoo\").salaries.aggregate([\n",
    "    {\n",
    "        $match: {\n",
    "            fiscal_year: 2019\n",
    "        }\n",
    "    },\n",
    "    {\n",
    "        $group: {\n",
    "            _id: { fiscal_year: \"$fiscal_year\", dept: \"$dept\" }, \n",
    "            employees: { $push: \"$employee\" } \n",
    "        }\n",
    "    },\n",
    "    {\n",
    "        $project: {\n",
    "            _id: 0, \n",
    "            dept: \"$_id.dept\", \n",
    "            fiscal_year: \"$_id.fiscal_year\", \n",
    "            employees: 1 \n",
    "        }\n",
    "    },\n",
    "    {\n",
    "        $merge: {\n",
    "            into : { db: \"reporting\", coll: \"orgArchive\" }, \n",
    "            on: [ \"dept\", \"fiscal_year\" ], \n",
    "            whenMatched: \"fail\" \n",
    "        }\n",
    "    }\n",
    "])"
   ]
  },
  {
   "cell_type": "raw",
   "id": "fd5b47a2",
   "metadata": {},
   "source": [
    "After the operation, the orgArchive collection contains the following documents:"
   ]
  },
  {
   "cell_type": "raw",
   "id": "f254295c",
   "metadata": {},
   "source": [
    "{ \"_id\" : ObjectId(\"5caccc6a66b22dd8a8cc419f\"), \"employees\" : [ \"Ahn\", \"Bess\" ], \"dept\" : \"A\", \"fiscal_year\" : 2017 }\n",
    "{ \"_id\" : ObjectId(\"5caccc6a66b22dd8a8cc419e\"), \"employees\" : [ \"Ahn\", \"Gee\" ], \"dept\" : \"A\", \"fiscal_year\" : 2018 }\n",
    "{ \"_id\" : ObjectId(\"5caccd0b66b22dd8a8cc438e\"), \"employees\" : [ \"Ahn\", \"Zeb\" ], \"dept\" : \"A\", \"fiscal_year\" : 2019 }\n",
    "{ \"_id\" : ObjectId(\"5caccc6a66b22dd8a8cc41a0\"), \"employees\" : [ \"Carl\" ], \"dept\" : \"Z\", \"fiscal_year\" : 2017 }\n",
    "{ \"_id\" : ObjectId(\"5caccc6a66b22dd8a8cc41a1\"), \"employees\" : [ \"Bess\", \"Carl\" ], \"dept\" : \"Z\", \"fiscal_year\" : 2018 }\n",
    "{ \"_id\" : ObjectId(\"5caccd0b66b22dd8a8cc438d\"), \"employees\" : [ \"Bess\", \"Carl\", \"Wen\" ], \"dept\" : \"Z\", \"fiscal_year\" : 2019 }"
   ]
  },
  {
   "cell_type": "markdown",
   "id": "529f4a05",
   "metadata": {},
   "source": [
    "### 範例04-Merge Results from Multiple Collections"
   ]
  },
  {
   "cell_type": "raw",
   "id": "6211ccc8",
   "metadata": {},
   "source": [
    "An example collection purchaseorders is populated with the purchase order information by quarter and regions:"
   ]
  },
  {
   "cell_type": "raw",
   "id": "cc197b5c",
   "metadata": {},
   "source": [
    "db.purchaseorders.insertMany( [\n",
    "   { _id: 1, quarter: \"2019Q1\", region: \"A\", qty: 200, reportDate: new Date(\"2019-04-01\") },\n",
    "   { _id: 2, quarter: \"2019Q1\", region: \"B\", qty: 300, reportDate: new Date(\"2019-04-01\") },\n",
    "   { _id: 3, quarter: \"2019Q1\", region: \"C\", qty: 700, reportDate: new Date(\"2019-04-01\") },\n",
    "   { _id: 4, quarter: \"2019Q2\", region: \"B\", qty: 300, reportDate: new Date(\"2019-07-01\") },\n",
    "   { _id: 5, quarter: \"2019Q2\", region: \"C\", qty: 1000, reportDate: new Date(\"2019-07-01\") },\n",
    "   { _id: 6, quarter: \"2019Q2\", region: \"A\", qty: 400, reportDate: new Date(\"2019-07-01\") },\n",
    "] )"
   ]
  },
  {
   "cell_type": "raw",
   "id": "76b96fed",
   "metadata": {},
   "source": [
    "Another example collection reportedsales is populated with the reported sales information by quarter and regions:"
   ]
  },
  {
   "cell_type": "raw",
   "id": "b00dd388",
   "metadata": {},
   "source": [
    "db.reportedsales.insertMany( [\n",
    "   { _id: 1, quarter: \"2019Q1\", region: \"A\", qty: 400, reportDate: new Date(\"2019-04-02\") },\n",
    "   { _id: 2, quarter: \"2019Q1\", region: \"B\", qty: 550, reportDate: new Date(\"2019-04-02\") },\n",
    "   { _id: 3, quarter: \"2019Q1\", region: \"C\", qty: 1000, reportDate: new Date(\"2019-04-05\") },\n",
    "   { _id: 4, quarter: \"2019Q2\", region: \"B\", qty: 500, reportDate: new Date(\"2019-07-02\") },\n",
    "] )"
   ]
  },
  {
   "cell_type": "raw",
   "id": "0489e44c",
   "metadata": {},
   "source": [
    "Assume that, for reporting purposes, you want to view the data by quarter in the following format:"
   ]
  },
  {
   "cell_type": "raw",
   "id": "01747d69",
   "metadata": {},
   "source": [
    "{ \"_id\" : \"2019Q1\", \"sales\" : 1950, \"purchased\" : 1200 }\n",
    "{ \"_id\" : \"2019Q2\", \"sales\" : 500, \"purchased\" : 1700 }"
   ]
  },
  {
   "cell_type": "raw",
   "id": "97926bc7",
   "metadata": {},
   "source": [
    "第一步:"
   ]
  },
  {
   "cell_type": "code",
   "execution_count": null,
   "id": "80de4527",
   "metadata": {},
   "outputs": [],
   "source": [
    "db.purchaseorders.aggregate([\n",
    "    {\n",
    "        $group: {\n",
    "            _id: \"$quarter\", \n",
    "            purchased: { $sum: \"$qty\" }\n",
    "        }\n",
    "    },\n",
    "    {\n",
    "        $merge: {\n",
    "            into: \"quarterlyreport\",\n",
    "            on: \"_id\",\n",
    "            whenMatched: \"merge\",\n",
    "            whenNotMatched: \"insert\"\n",
    "\n",
    "        }\n",
    "    }\n",
    "])"
   ]
  },
  {
   "cell_type": "raw",
   "id": "bf85503a",
   "metadata": {},
   "source": [
    "第二步:"
   ]
  },
  {
   "cell_type": "code",
   "execution_count": null,
   "id": "f2fdac59",
   "metadata": {},
   "outputs": [],
   "source": [
    "db.reportedsales.aggregate([\n",
    "    {\n",
    "        $group: {\n",
    "            _id: \"$quarter\", \n",
    "            sales: { $sum: \"$qty\" }\n",
    "        }\n",
    "    },\n",
    "    {\n",
    "        $merge: {\n",
    "            into: \"quarterlyreport\",\n",
    "            on: \"_id\",\n",
    "            whenMatched: \"merge\",\n",
    "            whenNotMatched: \"insert\"\n",
    "\n",
    "        }\n",
    "    }\n",
    "])"
   ]
  },
  {
   "cell_type": "raw",
   "id": "bdade64e",
   "metadata": {},
   "source": [
    "最終 quarterlyreport:"
   ]
  },
  {
   "cell_type": "raw",
   "id": "676c4c2a",
   "metadata": {},
   "source": [
    "{ \"_id\" : \"2019Q1\", \"sales\" : 1950, \"purchased\" : 1200 }\n",
    "{ \"_id\" : \"2019Q2\", \"sales\" : 500, \"purchased\" : 1700 }"
   ]
  },
  {
   "cell_type": "markdown",
   "id": "13dbb507",
   "metadata": {},
   "source": [
    "### 範例05-Use the Pipeline to Customize the Merge"
   ]
  },
  {
   "cell_type": "raw",
   "id": "788f9871",
   "metadata": {},
   "source": [
    "The $merge can use a custom update pipeline when documents match. The whenMatched pipeline can have the following stages:\n",
    "\n",
    "$addFields and its alias $set\n",
    "$project and its alias $unset\n",
    "$replaceRoot and its alias $replaceWith"
   ]
  },
  {
   "cell_type": "raw",
   "id": "96d543c1",
   "metadata": {},
   "source": [
    "An example collection votes is populated with the daily vote tally. Create the collection with the following documents:"
   ]
  },
  {
   "cell_type": "raw",
   "id": "f6e13009",
   "metadata": {},
   "source": [
    "db.votes.insertMany( [\n",
    "   { date: new Date(\"2019-05-01\"), \"thumbsup\" : 1, \"thumbsdown\" : 1 },\n",
    "   { date: new Date(\"2019-05-02\"), \"thumbsup\" : 3, \"thumbsdown\" : 1 },\n",
    "   { date: new Date(\"2019-05-03\"), \"thumbsup\" : 1, \"thumbsdown\" : 1 },\n",
    "   { date: new Date(\"2019-05-04\"), \"thumbsup\" : 2, \"thumbsdown\" : 2 },\n",
    "   { date: new Date(\"2019-05-05\"), \"thumbsup\" : 6, \"thumbsdown\" : 10 },\n",
    "   { date: new Date(\"2019-05-06\"), \"thumbsup\" : 13, \"thumbsdown\" : 16 }\n",
    "] )"
   ]
  },
  {
   "cell_type": "raw",
   "id": "8c3c5e4c",
   "metadata": {},
   "source": [
    "Another example collection monthlytotals has the up-to-date monthly vote totals. Create the collection with the following document:"
   ]
  },
  {
   "cell_type": "raw",
   "id": "97cad64a",
   "metadata": {},
   "source": [
    "db.monthlytotals.insertOne(\n",
    "   { \"_id\" : \"2019-05\", \"thumbsup\" : 26, \"thumbsdown\" : 31 }\n",
    ")"
   ]
  },
  {
   "cell_type": "raw",
   "id": "6497e345",
   "metadata": {},
   "source": [
    "At the end of each day, that day's votes is inserted into the votes collection:"
   ]
  },
  {
   "cell_type": "raw",
   "id": "d92819bd",
   "metadata": {},
   "source": [
    "db.votes.insertOne(\n",
    "   { date: new Date(\"2019-05-07\"), \"thumbsup\" : 14, \"thumbsdown\" : 10 }\n",
    ")"
   ]
  },
  {
   "cell_type": "raw",
   "id": "9800a6e9",
   "metadata": {},
   "source": [
    "You can use $merge with an custom pipeline to update the existing document in the collection monthlytotals:"
   ]
  },
  {
   "cell_type": "code",
   "execution_count": null,
   "id": "64797b68",
   "metadata": {},
   "outputs": [],
   "source": [
    "db.votes.aggregate([\n",
    "   { $match: { date: { $gte: new Date(\"2019-05-07\"), $lt: new Date(\"2019-05-08\") } } },\n",
    "   { $project: { _id: { $dateToString: { format: \"%Y-%m\", date: \"$date\" } }, thumbsup: 1, thumbsdown: 1 } },\n",
    "   { $merge: {\n",
    "         into: \"monthlytotals\",\n",
    "         on: \"_id\",\n",
    "         whenMatched:  [\n",
    "            { $addFields: {\n",
    "                thumbsup: { $add:[ \"$thumbsup\", \"$$new.thumbsup\" ] },\n",
    "                thumbsdown: { $add: [ \"$thumbsdown\", \"$$new.thumbsdown\" ] }\n",
    "            } } ],\n",
    "         whenNotMatched: \"insert\"\n",
    "   } }\n",
    "])"
   ]
  },
  {
   "cell_type": "raw",
   "id": "d349f2ee",
   "metadata": {},
   "source": [
    "The collection contains the following document:"
   ]
  },
  {
   "cell_type": "raw",
   "id": "fba5bfc5",
   "metadata": {},
   "source": [
    "{ \"_id\" : \"2019-05\", \"thumbsup\" : 40, \"thumbsdown\" : 41 }"
   ]
  }
 ],
 "metadata": {
  "kernelspec": {
   "display_name": "Python 3",
   "language": "python",
   "name": "python3"
  },
  "language_info": {
   "codemirror_mode": {
    "name": "ipython",
    "version": 3
   },
   "file_extension": ".py",
   "mimetype": "text/x-python",
   "name": "python",
   "nbconvert_exporter": "python",
   "pygments_lexer": "ipython3",
   "version": "3.8.10"
  }
 },
 "nbformat": 4,
 "nbformat_minor": 5
}
