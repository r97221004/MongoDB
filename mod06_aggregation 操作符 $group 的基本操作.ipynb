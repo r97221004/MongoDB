{
 "cells": [
  {
   "cell_type": "markdown",
   "id": "d06f3816",
   "metadata": {},
   "source": [
    "# $group 的基本操作"
   ]
  },
  {
   "cell_type": "code",
   "execution_count": null,
   "id": "b0f4ea9f",
   "metadata": {},
   "outputs": [],
   "source": [
    "# grouping by year and getting a count per year using the { $sum: 1 } pattern\n",
    "db.movies.aggregate([\n",
    "    {\n",
    "        $group: {\n",
    "            _id: \"$year\",\n",
    "            \"numFilmsThisYear\": { $sum: 1 }\n",
    "        }\n",
    "    }\n",
    "]).pretty()"
   ]
  },
  {
   "cell_type": "code",
   "execution_count": null,
   "id": "ed6e7fb9",
   "metadata": {},
   "outputs": [],
   "source": [
    "# grouping as before, then sorting in descending order based on the count\n",
    "db.movies.aggregate([\n",
    "    {\n",
    "        $group: {\n",
    "            _id: \"$year\",\n",
    "            \"count\": { $sum: 1 }\n",
    "        }\n",
    "    },\n",
    "    { $sort: { count: -1 }}\n",
    "]).pretty()"
   ]
  },
  {
   "cell_type": "code",
   "execution_count": null,
   "id": "12695ac6",
   "metadata": {},
   "outputs": [],
   "source": [
    "# grouping on the number of directors a film has, demonstrating that we have to\n",
    "# validate types to protect some expressions\n",
    "db.movies.aggregate([\n",
    "    {\n",
    "        $group: {\n",
    "            _id: { \"numDirectors\": { $cond: [ { $isArray: \"$directors\" }, { $size: \"$directors\" }, 0 ] } },\n",
    "            numFilms: { $sum: 1},\n",
    "            averageMetacritic: { $avg: \"$metacritic\" }\n",
    "        }\n",
    "    },\n",
    "    { $sort: { \"_id.numDirectors\": -1 }}\n",
    "]).pretty()"
   ]
  },
  {
   "cell_type": "code",
   "execution_count": null,
   "id": "71d08bf6",
   "metadata": {},
   "outputs": [],
   "source": [
    "# showing how to group all documents together. By convention, we use null or an empty string, \"\"\n",
    "db.movies.aggregate([\n",
    "    {\n",
    "        $group: {\n",
    "            _id: null,\n",
    "            count: { $sum: 1 }\n",
    "        }\n",
    "    }\n",
    "])"
   ]
  },
  {
   "cell_type": "code",
   "execution_count": null,
   "id": "a0c79411",
   "metadata": {},
   "outputs": [],
   "source": [
    "# filtering results to only get documents with a numeric metacritic value\n",
    "db.movies.aggregate([\n",
    "    {\n",
    "        $match: {\n",
    "            metacritic: { $gte: 0 }\n",
    "        }\n",
    "    },\n",
    "    {\n",
    "        $group: {\n",
    "            _id: null,\n",
    "            averageMetacritic: { $avg: \"$metacritic\" }\n",
    "        }\n",
    "    }\n",
    "]).pretty()"
   ]
  },
  {
   "cell_type": "markdown",
   "id": "749a20e0",
   "metadata": {},
   "source": [
    "# Accumulator Expressions 的基本操作"
   ]
  },
  {
   "cell_type": "raw",
   "id": "4a3e175a",
   "metadata": {},
   "source": [
    "注意常見的 accumulator expressions 有 $sum、$avg、$max、$min、$stdDevPop、$stdDevSamp。\n",
    "除了常與操作符 $group 搭配，也可以對 array 進行操作。"
   ]
  },
  {
   "cell_type": "code",
   "execution_count": null,
   "id": "a94aebf6",
   "metadata": {},
   "outputs": [],
   "source": [
    "# using $reduce to get the highest temperature\n",
    "db.icecream_data.aggregate([\n",
    "    {\n",
    "        $project: {\n",
    "            _id: 0,\n",
    "            max_high: {\n",
    "                $reduce: {\n",
    "                    input: \"$trends\",\n",
    "                    initialValue: -Infinity,\n",
    "                    in: { $cond: [ { $gt: [ \"$$this.avg_high_tmp\", \"$$value\" ]}, \"$$this.avg_high_tmp\", \"$$value\" ]}\n",
    "                }\n",
    "            }\n",
    "        }\n",
    "    }\n",
    "])"
   ]
  },
  {
   "cell_type": "code",
   "execution_count": null,
   "id": "08a9418c",
   "metadata": {},
   "outputs": [],
   "source": [
    "# performing the inverse, grabbing the lowest temperature\n",
    "db.icecream_data.aggregate([\n",
    "    {\n",
    "        $project: {\n",
    "            _id: 0,\n",
    "            min_high: {\n",
    "                $reduce: {\n",
    "                    input: \"$trends\",\n",
    "                    initialValue: Infinity,\n",
    "                    in: { $cond: [ { $lt: [ \"$$this.avg_low_tmp\", \"$$value\" ]}, \"$$this.avg_low_tmp\", \"$$value\" ]}\n",
    "                }\n",
    "            }\n",
    "        }\n",
    "    }\n",
    "])"
   ]
  },
  {
   "cell_type": "code",
   "execution_count": null,
   "id": "dc1a6692",
   "metadata": {},
   "outputs": [],
   "source": [
    "# note that these two operations can be done with the following operations can\n",
    "# be done more simply. The following two expressions are functionally identical\n",
    "db.icecream_data.aggregate([\n",
    "    {\n",
    "        $project: {\n",
    "            _id: 0,\n",
    "            max_high: { $max: \"$trends.avg_high_tmp\" }\n",
    "        }\n",
    "    }\n",
    "])\n",
    "\n",
    "db.icecream_data.aggregate([\n",
    "    {\n",
    "        $project: {\n",
    "            _id: 0,\n",
    "            min_high: { $min: \"$trends.avg_low_tmp\" }\n",
    "        }\n",
    "    }\n",
    "])"
   ]
  },
  {
   "cell_type": "code",
   "execution_count": null,
   "id": "19b175d3",
   "metadata": {},
   "outputs": [],
   "source": [
    "# getting the average and standard deviations of the consumer price index\n",
    "db.icecream_data.aggregate([\n",
    "    {\n",
    "        $project: {\n",
    "            _id: 0,\n",
    "            average_cpi: { $avg: \"$trends.icecream_cpi\"},\n",
    "            cpi_deviation: { $stdDevPop: \"$trends.icecream_cpi\" }\n",
    "        }\n",
    "    }\n",
    "])"
   ]
  },
  {
   "cell_type": "code",
   "execution_count": null,
   "id": "fc8f9b1c",
   "metadata": {},
   "outputs": [],
   "source": [
    "# using the $sum expression to get total yearly sales\n",
    "db.icecream_data.aggregate([\n",
    "    {\n",
    "      $project: {\n",
    "        _id: 0,\n",
    "        \"yearly_sales (millions)\": { $sum: \"$trends.icecream_sales_in_millions\" }\n",
    "      }\n",
    "    }\n",
    "  ])"
   ]
  },
  {
   "cell_type": "markdown",
   "id": "477c7f30",
   "metadata": {},
   "source": [
    "### 範例01"
   ]
  },
  {
   "cell_type": "raw",
   "id": "d2ebd761",
   "metadata": {},
   "source": [
    "求出電影的 imdb.votes 最高與最低是多少。\n",
    "# 記得出來的結果是 cursor 物件。"
   ]
  },
  {
   "cell_type": "code",
   "execution_count": null,
   "id": "d5967ef0",
   "metadata": {},
   "outputs": [],
   "source": [
    "db.movies.aggregate([\n",
    "    {\n",
    "        $match: {\n",
    "            \"imdb.votes\": { $gte: 1}\n",
    "        }\n",
    "    },\n",
    "    {\n",
    "        $group: {\n",
    "            _id: null,\n",
    "            maxVotes: { $max: \"$imdb.votes\" },\n",
    "            minVotes: { $min: \"$imdb.votes\" }\n",
    "        }\n",
    "    }\n",
    "])"
   ]
  },
  {
   "cell_type": "markdown",
   "id": "b1c7b1e8",
   "metadata": {},
   "source": [
    "### 範例02"
   ]
  },
  {
   "cell_type": "raw",
   "id": "1a2206d8",
   "metadata": {},
   "source": [
    "db.grades.insertMany([\n",
    "  { _id: 1, quizzes: [ 5, 6, 7 ] },\n",
    "  { _id: 2, quizzes: [ ] },\n",
    "  { _id: 3, quizzes: [ 3, 8, 9 ] }\n",
    "])"
   ]
  },
  {
   "cell_type": "code",
   "execution_count": null,
   "id": "7074f6b3",
   "metadata": {},
   "outputs": [],
   "source": [
    "db.grades.aggregate([\n",
    "    {\n",
    "        $project: {\n",
    "            maxGrade: { $max: \"$quizzes\" }\n",
    "        }\n",
    "    }\n",
    "])"
   ]
  },
  {
   "cell_type": "raw",
   "id": "571d1466",
   "metadata": {},
   "source": [
    "This operation returns the following results:\n",
    "    \n",
    "{ \"_id\" : 1, \"maxGrade\" : 7 }\n",
    "{ \"_id\" : 2, \"maxGrade\" : null }\n",
    "{ \"_id\" : 3, \"maxGrade\" : 9 }"
   ]
  },
  {
   "cell_type": "markdown",
   "id": "8200ca31",
   "metadata": {},
   "source": [
    "### 範例03"
   ]
  },
  {
   "cell_type": "raw",
   "id": "db878465",
   "metadata": {},
   "source": [
    "In the last lab, we calculated a normalized rating that required us to know what the minimum and maximum values for imdb.votes were. These values were found using the $group stage!\n",
    "\n",
    "For all films that won at least 1 Oscar, calculate the standard deviation, highest, lowest, and average imdb.rating. Use the sample standard deviation expression.\n",
    "\n",
    "HINT - All movies in the collection that won an Oscar begin with a string resembling one of the following in their awards field\n",
    "\n",
    "Won 13 Oscars\n",
    "Won 1 Oscar"
   ]
  },
  {
   "cell_type": "code",
   "execution_count": null,
   "id": "7c2221e6",
   "metadata": {},
   "outputs": [],
   "source": [
    "# 參考解答\n",
    "db.movies.aggregate([\n",
    "    {\n",
    "        $match: { \n",
    "            awards: { $exists: true }\n",
    "        }\n",
    "    },\n",
    "    {\n",
    "        $project: {\n",
    "            _id: 0,\n",
    "            title: 1,\n",
    "            awards: { $split: [ \"$awards\", \" \" ]},\n",
    "            imdb_rating: \"$imdb.rating\" \n",
    "        }\n",
    "    },\n",
    "    {\n",
    "        $match: {\n",
    "\n",
    "            \"awards.0\": \"Won\",\n",
    "            \"awards.2\": { $in: [ \"Oscar.\", \"Oscars.\" ]}\n",
    "        }\n",
    "    },\n",
    "    {\n",
    "        $group: {\n",
    "            _id: null,\n",
    "            highest_rating: { $max: \"$imdb_rating\" },\n",
    "            lowest_rating: { $min: \"$imdb_rating\" },\n",
    "            average_rating: { $avg: \"$imdb_rating\" },\n",
    "            deviation: { $stdDevSamp: \"$imdb_rating\" }\n",
    "        }\n",
    "    }\n",
    "]).pretty()"
   ]
  },
  {
   "cell_type": "code",
   "execution_count": null,
   "id": "979ff070",
   "metadata": {},
   "outputs": [],
   "source": [
    "# 參考解答\n",
    "db.movies.aggregate([\n",
    "  {\n",
    "    $match: {\n",
    "      awards: /Won \\d{1,2} Oscars?/\n",
    "    }\n",
    "  },\n",
    "  {\n",
    "    $group: {\n",
    "      _id: null,\n",
    "      highest_rating: { $max: \"$imdb.rating\" },\n",
    "      lowest_rating: { $min: \"$imdb.rating\" },\n",
    "      average_rating: { $avg: \"$imdb.rating\" },\n",
    "      deviation: { $stdDevSamp: \"$imdb.rating\" }\n",
    "    }\n",
    "  }\n",
    "])pretty()"
   ]
  },
  {
   "cell_type": "markdown",
   "id": "8f898232",
   "metadata": {},
   "source": [
    "### 範例04-有時不用 $group 更能增加效能"
   ]
  },
  {
   "cell_type": "code",
   "execution_count": null,
   "id": "74bd033c",
   "metadata": {},
   "outputs": [],
   "source": [
    "# working within the arrays is always better if we want to do analysis within\n",
    "# a document. We get the same results in a slighlty easier to work with format\n",
    "# and didn't incur the cost of a $group stage\n",
    "db.stocks.aggregate([\n",
    "    {\n",
    "        $project: {\n",
    "            buy_actions: {\n",
    "                $size: {\n",
    "                    $filter: {\n",
    "                        input: \"$trades\",\n",
    "                        cond: { $eq: [ \"$$this.action\", \"buy\" ]}\n",
    "                    }\n",
    "                }\n",
    "            },\n",
    "            sell_actions: {\n",
    "                $size: {\n",
    "                    $filter: {\n",
    "                        input: \"$trades\",\n",
    "                        cond: { $eq: [ \"$$this.action\", \"sell\" ]}\n",
    "                    }                       \n",
    "                }\n",
    "            },\n",
    "            total_trades: { $size: \"$trades\" }\n",
    "        }\n",
    "    },\n",
    "    {\n",
    "        $sort: { total_trades: -1 }\n",
    "    }\n",
    "]).pretty()"
   ]
  },
  {
   "cell_type": "markdown",
   "id": "3091a587",
   "metadata": {},
   "source": [
    "### 範例05-有時不用 $group 更能增加效能"
   ]
  },
  {
   "cell_type": "code",
   "execution_count": null,
   "id": "dd2cc904",
   "metadata": {},
   "outputs": [],
   "source": [
    "# remember, expression composition is powerful. Be creative, and things\n",
    "# that can be done inline. Notice that there is no intermediary stage to\n",
    "# filter the trades array first, it's just done as part of the argument to\n",
    "# the reduce expression.\n",
    "db.stocks.aggregate([\n",
    "    {\n",
    "        $project: {\n",
    "            _id: 0,\n",
    "            mdb_only: {\n",
    "                $reduce: {\n",
    "                    input: {\n",
    "                        $filter: {\n",
    "                            input: \"$trades\",\n",
    "                            cond: { \"eq\": [ \"$$this.ticker\", \"MDB\" ]}\n",
    "                        }\n",
    "                    },\n",
    "                    initialValue: {\n",
    "                        buy: { total_count: 0, total_value: 0},\n",
    "                        sell: { total_count: 0, total_value: 0}\n",
    "                    },\n",
    "                    in: {\n",
    "                        $cond: [\n",
    "                            { $eq: [ \"$$this.action\", \"buy\" ]},\n",
    "                            {\n",
    "                                buy: {\n",
    "                                    total_count: { $add: [ \"$$value.buy.total_count\", 1 ]},\n",
    "                                    total_value: { $add: [ \"$$value.buy.total_value\", \"$$this.price\"]}\n",
    "                                },\n",
    "                                sell: \"$$value.sell\"\n",
    "                            },\n",
    "                            {\n",
    "                                sell: {\n",
    "                                    total_count: { $add: [ \"$$value.sell.total_count\", 1 ]},\n",
    "                                    total_value: { $add: [ \"$$value.sell.total_value\", \"$$this.price\"]}\n",
    "                                },\n",
    "                                buy: \"$$value.buy\"\n",
    "                            }\n",
    "                        ]\n",
    "                    }\n",
    "                }\n",
    "            }     \n",
    "        }\n",
    "    }\n",
    "]).pretty()"
   ]
  }
 ],
 "metadata": {
  "kernelspec": {
   "display_name": "Python 3",
   "language": "python",
   "name": "python3"
  },
  "language_info": {
   "codemirror_mode": {
    "name": "ipython",
    "version": 3
   },
   "file_extension": ".py",
   "mimetype": "text/x-python",
   "name": "python",
   "nbconvert_exporter": "python",
   "pygments_lexer": "ipython3",
   "version": "3.8.10"
  }
 },
 "nbformat": 4,
 "nbformat_minor": 5
}
