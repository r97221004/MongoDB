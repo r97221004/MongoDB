{
 "cells": [
  {
   "cell_type": "markdown",
   "id": "f023226c",
   "metadata": {},
   "source": [
    "# $out 的基本操作"
   ]
  },
  {
   "cell_type": "raw",
   "id": "3d0b7fae",
   "metadata": {},
   "source": [
    "Takes the documents returned by the aggregation pipeline and writes them to a specified collection. Starting in MongoDB 4.4, you can specify the output database. The $out stage must be the last stage in the pipeline. The $out operator lets the aggregation framework return result sets of any size.\n",
    "注意如果 collection 已經存在了，會被 overwritten，且應用在上面的 Indexes 會被重建。\n",
    "\n",
    "The $out stage has the following syntax:"
   ]
  },
  {
   "cell_type": "raw",
   "id": "911e003b",
   "metadata": {},
   "source": [
    "{ $out: { db: \"<output-db>\", coll: \"<output-collection>\" } }"
   ]
  },
  {
   "cell_type": "markdown",
   "id": "c02140e8",
   "metadata": {},
   "source": [
    "### 範例01"
   ]
  },
  {
   "cell_type": "raw",
   "id": "54f24c32",
   "metadata": {},
   "source": [
    "In the test database, create a collection books with the following documents:"
   ]
  },
  {
   "cell_type": "raw",
   "id": "78ea4893",
   "metadata": {},
   "source": [
    "db.books.insertMany([\n",
    "   { \"_id\" : 8751, \"title\" : \"The Banquet\", \"author\" : \"Dante\", \"copies\" : 2 },\n",
    "   { \"_id\" : 8752, \"title\" : \"Divine Comedy\", \"author\" : \"Dante\", \"copies\" : 1 },\n",
    "   { \"_id\" : 8645, \"title\" : \"Eclogues\", \"author\" : \"Dante\", \"copies\" : 2 },\n",
    "   { \"_id\" : 7000, \"title\" : \"The Odyssey\", \"author\" : \"Homer\", \"copies\" : 10 },\n",
    "   { \"_id\" : 7020, \"title\" : \"Iliad\", \"author\" : \"Homer\", \"copies\" : 10 }\n",
    "])"
   ]
  },
  {
   "cell_type": "raw",
   "id": "cd83b581",
   "metadata": {},
   "source": [
    "The following aggregation operation pivots the data in the books collection in the test database to have titles grouped by authors and then writes the results to the authors collection, also in the test database."
   ]
  },
  {
   "cell_type": "code",
   "execution_count": null,
   "id": "6402e71b",
   "metadata": {},
   "outputs": [],
   "source": [
    "db.books.aggregate( [\n",
    "    { $group : { _id : \"$author\", books: { $push: \"$title\" } } },\n",
    "    { $out : \"authors\" }\n",
    "] )"
   ]
  },
  {
   "cell_type": "raw",
   "id": "4e4f66bb",
   "metadata": {},
   "source": [
    "The $group stage groups by the authors and uses $push to add the titles to a books array field:"
   ]
  },
  {
   "cell_type": "raw",
   "id": "066658e2",
   "metadata": {},
   "source": [
    "{ \"_id\" : \"Dante\", \"books\" : [ \"The Banquet\", \"Divine Comedy\", \"Eclogues\" ] }\n",
    "{ \"_id\" : \"Homer\", \"books\" : [ \"The Odyssey\", \"Iliad\" ] }"
   ]
  },
  {
   "cell_type": "raw",
   "id": "29cb99fd",
   "metadata": {},
   "source": [
    "The $out stage outputs the documents to the authors collection in the test database."
   ]
  }
 ],
 "metadata": {
  "kernelspec": {
   "display_name": "Python 3",
   "language": "python",
   "name": "python3"
  },
  "language_info": {
   "codemirror_mode": {
    "name": "ipython",
    "version": 3
   },
   "file_extension": ".py",
   "mimetype": "text/x-python",
   "name": "python",
   "nbconvert_exporter": "python",
   "pygments_lexer": "ipython3",
   "version": "3.8.10"
  }
 },
 "nbformat": 4,
 "nbformat_minor": 5
}
