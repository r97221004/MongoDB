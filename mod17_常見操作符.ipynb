{
 "cells": [
  {
   "cell_type": "markdown",
   "id": "3d6a6d5f",
   "metadata": {},
   "source": [
    "# $all"
   ]
  },
  {
   "cell_type": "raw",
   "id": "f4fb5cfa",
   "metadata": {},
   "source": [
    "The $all operator selects the documents where the value of a field is an array that contains all the specified elements. To specify an $all expression, use the following prototype:"
   ]
  },
  {
   "cell_type": "raw",
   "id": "ac035451",
   "metadata": {},
   "source": [
    "{ <field>: { $all: [ <value1> , <value2> ... ] } }"
   ]
  },
  {
   "cell_type": "raw",
   "id": "0e4801cb",
   "metadata": {},
   "source": [
    "# field 要是一個 array 且 包含 value1、value2..."
   ]
  },
  {
   "cell_type": "markdown",
   "id": "3b0de673",
   "metadata": {},
   "source": [
    "# $in"
   ]
  },
  {
   "cell_type": "raw",
   "id": "72b77359",
   "metadata": {},
   "source": [
    "The $in operator selects the documents where the value of a field equals any value in the specified array. To specify an $in expression, use the following prototype:"
   ]
  },
  {
   "cell_type": "raw",
   "id": "6b4d491f",
   "metadata": {},
   "source": [
    "{ field: { $in: [<value1>, <value2>, ... <valueN> ] } }"
   ]
  },
  {
   "cell_type": "raw",
   "id": "f02cf740",
   "metadata": {},
   "source": [
    "If the field holds an array, then the $in operator selects the documents whose field holds an array that contains at least one element that matches a value in the specified array (for example, <value1>, <value2>, and so on)."
   ]
  },
  {
   "cell_type": "raw",
   "id": "2d2f091d",
   "metadata": {},
   "source": [
    "# 假如 field 是一個值，值要落進去指定的元素。\n",
    "# 假如 field 是一個 array，array 中的至少一個值要落進去指定的元素。"
   ]
  },
  {
   "cell_type": "markdown",
   "id": "e51d4d7c",
   "metadata": {},
   "source": [
    "# $nin"
   ]
  },
  {
   "cell_type": "raw",
   "id": "a8ef8c87",
   "metadata": {},
   "source": [
    "$nin selects the documents where:\n",
    "the field value is not in the specified array or\n",
    "the field does not exist."
   ]
  },
  {
   "cell_type": "raw",
   "id": "0f710965",
   "metadata": {},
   "source": [
    "If the field holds an array, then the $nin operator selects the documents whose field holds an array with no element equal to a value in the specified array (for example, <value1>, <value2>, and so on)."
   ]
  },
  {
   "cell_type": "raw",
   "id": "54e0e2ec",
   "metadata": {},
   "source": [
    "Syntax: { field: { $nin: [ <value1>, <value2> ... <valueN> ] } }"
   ]
  },
  {
   "cell_type": "raw",
   "id": "e43de2de",
   "metadata": {},
   "source": [
    "# 假如 field 是一個值，值不能落進去指定的元素。\n",
    "# 假如 field 是一個 array，array 中的全部的值都不能落進去指定的元素。"
   ]
  },
  {
   "cell_type": "markdown",
   "id": "6f58594a",
   "metadata": {},
   "source": [
    "# $not"
   ]
  },
  {
   "cell_type": "raw",
   "id": "99a55576",
   "metadata": {},
   "source": [
    "Syntax: { field: { $not: { <operator-expression> } } }\n",
    "\n",
    "$not performs a logical NOT operation on the specified <operator-expression> and selects the documents that do not match the <operator-expression>. This includes documents that do not contain the field.\n",
    "\n",
    "Consider the following query:"
   ]
  },
  {
   "cell_type": "raw",
   "id": "67af1f9e",
   "metadata": {},
   "source": [
    "db.inventory.find( { price: { $not: { $gt: 1.99 } } } )"
   ]
  },
  {
   "cell_type": "markdown",
   "id": "7c2f1d68",
   "metadata": {},
   "source": [
    "# $split(aggregation)"
   ]
  },
  {
   "cell_type": "raw",
   "id": "8a73d80b",
   "metadata": {},
   "source": [
    "Divides a string into an array of substrings based on a delimiter. $split removes the delimiter and returns the resulting substrings as elements of an array. If the delimiter is not found in the string, $split returns the original string as the only element of an array.\n",
    "\n",
    "$split has the following operator expression syntax:"
   ]
  },
  {
   "cell_type": "raw",
   "id": "fce08d75",
   "metadata": {},
   "source": [
    "{ $split: [ <string expression>, <delimiter> ] }"
   ]
  },
  {
   "cell_type": "markdown",
   "id": "9ded5d0b",
   "metadata": {},
   "source": [
    "# $size"
   ]
  },
  {
   "cell_type": "raw",
   "id": "22cd84fb",
   "metadata": {},
   "source": [
    "The $size operator matches any array with the number of elements specified by the argument. For example:"
   ]
  },
  {
   "cell_type": "raw",
   "id": "cbb5dff9",
   "metadata": {},
   "source": [
    "db.collection.find( { field: { $size: 2 } } )"
   ]
  },
  {
   "cell_type": "markdown",
   "id": "a2d346c8",
   "metadata": {},
   "source": [
    "### 範例01"
   ]
  },
  {
   "cell_type": "raw",
   "id": "6f7e3bd2",
   "metadata": {},
   "source": [
    "db.grades.insertMany([\n",
    "  { _id: 1, quizzes: [ 5, 6, 7 ] },\n",
    "  { _id: 2, quizzes: [ ] },\n",
    "  { _id: 3, quizzes: [ 3, 8, 9 ] }\n",
    "])"
   ]
  },
  {
   "cell_type": "code",
   "execution_count": null,
   "id": "27eef140",
   "metadata": {},
   "outputs": [],
   "source": [
    "db.grades.aggregate([\n",
    "    {\n",
    "        $project: {\n",
    "            size: { $size: \"$quizzes\" }\n",
    "        }\n",
    "    }\n",
    "])"
   ]
  },
  {
   "cell_type": "raw",
   "id": "8d0c3123",
   "metadata": {},
   "source": [
    "This operation returns the following results:"
   ]
  },
  {
   "cell_type": "raw",
   "id": "cbe8c58d",
   "metadata": {},
   "source": [
    "{ \"_id\" : 1, \"size\" : 3 }\n",
    "{ \"_id\" : 2, \"size\" : 0 }\n",
    "{ \"_id\" : 3, \"size\" : 3 }"
   ]
  },
  {
   "cell_type": "markdown",
   "id": "105e16bd",
   "metadata": {},
   "source": [
    "# $type"
   ]
  },
  {
   "cell_type": "raw",
   "id": "81e9a466",
   "metadata": {},
   "source": [
    "$type selects documents where the value of the field is an instance of the specified BSON type(s). Querying by data type is useful when dealing with highly unstructured data where data types are not predictable.\n",
    "\n",
    "A $type expression for a single BSON type has the following syntax:"
   ]
  },
  {
   "cell_type": "raw",
   "id": "4e98504f",
   "metadata": {},
   "source": [
    "{ field: { $type: <BSON type> } }"
   ]
  },
  {
   "cell_type": "markdown",
   "id": "f7546baa",
   "metadata": {},
   "source": [
    "[BSON type](https://www.mongodb.com/docs/manual/reference/operator/query/type/#std-label-document-type-available-types\")"
   ]
  },
  {
   "cell_type": "markdown",
   "id": "98121af6",
   "metadata": {},
   "source": [
    "# $elemMatch (query)"
   ]
  },
  {
   "cell_type": "raw",
   "id": "8a15cdc8",
   "metadata": {},
   "source": [
    "The $elemMatch operator matches documents that contain an array field with at least one element that matches all the specified query criteria."
   ]
  },
  {
   "cell_type": "raw",
   "id": "e79a1731",
   "metadata": {},
   "source": [
    "{ <field>: { $elemMatch: { <query1>, <query2>, ... } } }"
   ]
  },
  {
   "cell_type": "markdown",
   "id": "6216a5b4",
   "metadata": {},
   "source": [
    "### 範例01"
   ]
  },
  {
   "cell_type": "raw",
   "id": "ce0fc8f4",
   "metadata": {},
   "source": [
    "There are times when we want to make sure that the field is an array, and that it is not empty. We can do this within $match"
   ]
  },
  {
   "cell_type": "raw",
   "id": "de45dd79",
   "metadata": {},
   "source": [
    "{ $match: { writers: { $elemMatch: { $exists: true } } }"
   ]
  },
  {
   "cell_type": "markdown",
   "id": "afb38062",
   "metadata": {},
   "source": [
    "# $map(aggregation)"
   ]
  },
  {
   "cell_type": "raw",
   "id": "09ecc7e7",
   "metadata": {},
   "source": [
    "Applies an expression to each item in an array and returns an array with the applied results.\n",
    "The $map expression has the following syntax:"
   ]
  },
  {
   "cell_type": "raw",
   "id": "edbed988",
   "metadata": {},
   "source": [
    "{ $map: { input: <expression>, as: <string>, in: <expression> } }"
   ]
  },
  {
   "cell_type": "raw",
   "id": "e91d4d70",
   "metadata": {},
   "source": [
    "Field         Specification\n",
    "\n",
    "input         An expression that resolves to an array.\n",
    "\n",
    "as            Optional. A name for the variable that represents each individual element of the input array. If no name is                 specified, the variable name defaults to this.\n",
    "\n",
    "in            An expression that is applied to each element of the input array. The expression references each element                   individually with the variable name specified in as."
   ]
  },
  {
   "cell_type": "markdown",
   "id": "e92852ee",
   "metadata": {},
   "source": [
    "### 範例01"
   ]
  },
  {
   "cell_type": "code",
   "execution_count": null,
   "id": "f137754d",
   "metadata": {},
   "outputs": [],
   "source": [
    "db.grades.insertMany([\n",
    "  { _id: 1, quizzes: [ 5, 6, 7 ] },\n",
    "  { _id: 2, quizzes: [ ] },\n",
    "  { _id: 3, quizzes: [ 3, 8, 9 ] }\n",
    "])"
   ]
  },
  {
   "cell_type": "code",
   "execution_count": null,
   "id": "9af0ad52",
   "metadata": {},
   "outputs": [],
   "source": [
    "db.grades.aggregate([\n",
    "    {\n",
    "        $project: {\n",
    "            adjustedGrades: {\n",
    "                $map: {\n",
    "                    input: \"$quizzes\",\n",
    "                    as: \"grade\",\n",
    "                    in: { $add: [\"$$grade\", 2 ]}\n",
    "                }\n",
    "            }\n",
    "        }\n",
    "    }\n",
    "])"
   ]
  },
  {
   "cell_type": "raw",
   "id": "9b4fe1c5",
   "metadata": {},
   "source": [
    "This operation returns the following results:"
   ]
  },
  {
   "cell_type": "raw",
   "id": "fc21d41f",
   "metadata": {},
   "source": [
    "{ \"_id\" : 1, \"adjustedGrades\" : [ 7, 8, 9 ] }\n",
    "{ \"_id\" : 2, \"adjustedGrades\" : [ ] }\n",
    "{ \"_id\" : 3, \"adjustedGrades\" : [ 5, 10, 11 ] }"
   ]
  },
  {
   "cell_type": "markdown",
   "id": "fbdbf76c",
   "metadata": {},
   "source": [
    "# $arrayElemAt (aggregation)"
   ]
  },
  {
   "cell_type": "raw",
   "id": "43fa0336",
   "metadata": {},
   "source": [
    "Returns the element at the specified array index.\n",
    "$arrayElemAt has the following syntax:"
   ]
  },
  {
   "cell_type": "raw",
   "id": "5e7a06a5",
   "metadata": {},
   "source": [
    "{ $arrayElemAt: [ <array>, <idx> ] }"
   ]
  },
  {
   "cell_type": "markdown",
   "id": "4e10e475",
   "metadata": {},
   "source": [
    "### 範例01"
   ]
  },
  {
   "cell_type": "raw",
   "id": "9ac752b1",
   "metadata": {},
   "source": [
    "{ \"_id\" : 1, \"name\" : \"dave123\", favorites: [ \"chocolate\", \"cake\", \"butter\", \"apples\" ] }\n",
    "{ \"_id\" : 2, \"name\" : \"li\", favorites: [ \"apples\", \"pudding\", \"pie\" ] }\n",
    "{ \"_id\" : 3, \"name\" : \"ahn\", favorites: [ \"pears\", \"pecans\", \"chocolate\", \"cherries\" ] }\n",
    "{ \"_id\" : 4, \"name\" : \"ty\", favorites: [ \"ice cream\" ] }"
   ]
  },
  {
   "cell_type": "code",
   "execution_count": null,
   "id": "51efd4b8",
   "metadata": {},
   "outputs": [],
   "source": [
    "db.users.aggregate([\n",
    "   {\n",
    "     $project:\n",
    "      {\n",
    "         name: 1,\n",
    "         first: { $arrayElemAt: [ \"$favorites\", 0 ] },\n",
    "         last: { $arrayElemAt: [ \"$favorites\", -1 ] }\n",
    "      }\n",
    "   }\n",
    "])"
   ]
  },
  {
   "cell_type": "raw",
   "id": "96fa7d5a",
   "metadata": {},
   "source": [
    "The operation returns the following results:"
   ]
  },
  {
   "cell_type": "raw",
   "id": "66a7b7b3",
   "metadata": {},
   "source": [
    "{ \"_id\" : 1, \"name\" : \"dave123\", \"first\" : \"chocolate\", \"last\" : \"apples\" }\n",
    "{ \"_id\" : 2, \"name\" : \"li\", \"first\" : \"apples\", \"last\" : \"pie\" }\n",
    "{ \"_id\" : 3, \"name\" : \"ahn\", \"first\" : \"pears\", \"last\" : \"cherries\" }\n",
    "{ \"_id\" : 4, \"name\" : \"ty\", \"first\" : \"ice cream\", \"last\" : \"ice cream\" }"
   ]
  },
  {
   "cell_type": "markdown",
   "id": "94584813",
   "metadata": {},
   "source": [
    "# $setIntersection (aggregation)"
   ]
  },
  {
   "cell_type": "raw",
   "id": "bccbb2a4",
   "metadata": {},
   "source": [
    "Takes two or more arrays and returns an array that contains the elements that appear in every input array.\n",
    "$setIntersection has the following syntax:"
   ]
  },
  {
   "cell_type": "raw",
   "id": "28ebfbae",
   "metadata": {},
   "source": [
    "{ $setIntersection: [ <array1>, <array2>, ... ] }"
   ]
  },
  {
   "cell_type": "markdown",
   "id": "af0249c7",
   "metadata": {},
   "source": [
    "# $cond (aggregation)"
   ]
  },
  {
   "cell_type": "raw",
   "id": "89123582",
   "metadata": {},
   "source": [
    "Evaluates a boolean expression to return one of the two specified return expressions.\n",
    "The $cond expression has one of two syntaxes:"
   ]
  },
  {
   "cell_type": "raw",
   "id": "cdaf3699",
   "metadata": {},
   "source": [
    "{ $cond: [ <boolean-expression>, <true-case>, <false-case> ] }"
   ]
  },
  {
   "cell_type": "markdown",
   "id": "098c431c",
   "metadata": {},
   "source": [
    "# $isArray (aggregation)"
   ]
  },
  {
   "cell_type": "raw",
   "id": "ab9a0bef",
   "metadata": {},
   "source": [
    "Determines if the operand is an array. Returns a boolean.\n",
    "$isArray has the following syntax:"
   ]
  },
  {
   "cell_type": "raw",
   "id": "0a1b23f9",
   "metadata": {},
   "source": [
    "{ $isArray: [ <expression> ] }"
   ]
  },
  {
   "cell_type": "markdown",
   "id": "30a30edf",
   "metadata": {},
   "source": [
    "# $reduce (aggregation)"
   ]
  },
  {
   "cell_type": "raw",
   "id": "28926b2e",
   "metadata": {},
   "source": [
    "Applies an expression to each element in an array and combines them into a single value.\n",
    "$reduce has the following syntax:"
   ]
  },
  {
   "cell_type": "raw",
   "id": "b6fd91a2",
   "metadata": {},
   "source": [
    "{\n",
    "    $reduce: {\n",
    "        input: <array>,\n",
    "        initialValue: <expression>,\n",
    "        in: <expression>\n",
    "    }\n",
    "}"
   ]
  },
  {
   "cell_type": "markdown",
   "id": "f35c1129",
   "metadata": {},
   "source": [
    "### 範例01"
   ]
  },
  {
   "cell_type": "code",
   "execution_count": null,
   "id": "01e9e3a1",
   "metadata": {},
   "outputs": [],
   "source": [
    " {\n",
    "    $reduce: {\n",
    "       input: [\"a\", \"b\", \"c\"],\n",
    "       initialValue: \"\",\n",
    "       in: { $concat : [\"$$value\", \"$$this\"] }\n",
    "     }\n",
    " }"
   ]
  },
  {
   "cell_type": "raw",
   "id": "d7e494d6",
   "metadata": {},
   "source": [
    "The operation returns the following results:"
   ]
  },
  {
   "cell_type": "raw",
   "id": "bd565bda",
   "metadata": {},
   "source": [
    "\"abc\""
   ]
  },
  {
   "cell_type": "markdown",
   "id": "a9a078ee",
   "metadata": {},
   "source": [
    "# $regex 的操作"
   ]
  },
  {
   "cell_type": "raw",
   "id": "81c67dca",
   "metadata": {},
   "source": [
    "Provides regular expression capabilities for pattern matching strings in queries. MongoDB uses Perl compatible regular expressions (i.e. \"PCRE\" ) version 8.42 with UTF-8 support.\n",
    "To use $regex, use one of the following syntaxes:"
   ]
  },
  {
   "cell_type": "raw",
   "id": "96f678bb",
   "metadata": {},
   "source": [
    "{ <field>: { $regex: /pattern/, $options: '<options>' } }\n",
    "{ <field>: { $regex: 'pattern', $options: '<options>' } }\n",
    "{ <field>: { $regex: /pattern/<options> } }"
   ]
  },
  {
   "cell_type": "raw",
   "id": "deb5a162",
   "metadata": {},
   "source": [
    "In MongoDB, you can also use regular expression objects (i.e. /pattern/) to specify regular expressions:"
   ]
  },
  {
   "cell_type": "raw",
   "id": "67f8b89c",
   "metadata": {},
   "source": [
    "{ <field>: /pattern/<options> }"
   ]
  },
  {
   "cell_type": "markdown",
   "id": "a08d7fe2",
   "metadata": {},
   "source": [
    "# $trunc (aggregation)"
   ]
  },
  {
   "cell_type": "raw",
   "id": "ae955784",
   "metadata": {},
   "source": [
    "$trunc truncates a number to a whole integer or to a specified decimal place.\n",
    "MongoDB 4.2 adds the following syntax for $trunc:"
   ]
  },
  {
   "cell_type": "raw",
   "id": "5e67107b",
   "metadata": {},
   "source": [
    "{ $trunc : [ <number>, <place> ] }"
   ]
  },
  {
   "cell_type": "raw",
   "id": "b9ac2a01",
   "metadata": {},
   "source": [
    "Prior to MongoDB 4.2, $trunc truncated the input value to the whole integer. MongoDB 4.2 continues supporting the pre-4.2 syntax and behavior:"
   ]
  },
  {
   "cell_type": "raw",
   "id": "1404e81b",
   "metadata": {},
   "source": [
    "{ $trunc: <number> }"
   ]
  },
  {
   "cell_type": "raw",
   "id": "ad112ff7",
   "metadata": {},
   "source": [
    "The <number> expression can be any valid expression as long as it resolves to a number. For more information on expressions, see Expressions."
   ]
  },
  {
   "cell_type": "markdown",
   "id": "99e22a7a",
   "metadata": {},
   "source": [
    "# $addToSet (aggregation)"
   ]
  },
  {
   "cell_type": "raw",
   "id": "81839075",
   "metadata": {},
   "source": [
    "Returns an array of all unique values that results from applying an expression to each document in a group of documents that share the same group by key. Order of the elements in the output array is unspecified.\n",
    "$addToSet is only available in the $group stage.\n",
    "$addToSet has the following syntax:"
   ]
  },
  {
   "cell_type": "raw",
   "id": "c5408321",
   "metadata": {},
   "source": [
    "{ $addToSet: <expression> }"
   ]
  },
  {
   "cell_type": "markdown",
   "id": "723cc1d6",
   "metadata": {},
   "source": [
    "# $push (aggregation)"
   ]
  },
  {
   "cell_type": "raw",
   "id": "e5c34517",
   "metadata": {},
   "source": [
    "Returns an array of all values that result from applying an expression to each document in a group of documents that share the same group by key.\n",
    "\n",
    "$push is only available in the $group stage.\n",
    "$push has the following syntax:"
   ]
  },
  {
   "cell_type": "raw",
   "id": "b0733e70",
   "metadata": {},
   "source": [
    "{ $push: <expression> }"
   ]
  },
  {
   "cell_type": "markdown",
   "id": "ba2c825b",
   "metadata": {},
   "source": [
    "# $concat (aggregation)"
   ]
  },
  {
   "cell_type": "raw",
   "id": "579e1cd5",
   "metadata": {},
   "source": [
    "Concatenates strings and returns the concatenated string.\n",
    "$concat has the following syntax:"
   ]
  },
  {
   "cell_type": "raw",
   "id": "a4adc9e4",
   "metadata": {},
   "source": [
    "{ $concat: [ <expression1>, <expression2>, ... ] }"
   ]
  },
  {
   "cell_type": "raw",
   "id": "97f1e759",
   "metadata": {},
   "source": [
    "The arguments can be any valid expression as long as they resolve to strings. For more information on expressions, see Expressions."
   ]
  },
  {
   "cell_type": "markdown",
   "id": "d4d0b228",
   "metadata": {},
   "source": [
    "# $substr (aggregation)"
   ]
  },
  {
   "cell_type": "markdown",
   "id": "316ae019",
   "metadata": {},
   "source": [
    "Deprecated since version 3.4: $substr is now an alias for $substrBytes.\n",
    "Returns a substring of a string, starting at a specified index position and including the specified number of characters. The index is zero-based.\n",
    "\n",
    "$substr has the following syntax:"
   ]
  },
  {
   "cell_type": "raw",
   "id": "27b0a470",
   "metadata": {},
   "source": [
    "{ $substr: [ <string>, <start>, <length> ] }"
   ]
  },
  {
   "cell_type": "markdown",
   "id": "7672b97a",
   "metadata": {},
   "source": [
    "# $replaceWith (aggregation)"
   ]
  },
  {
   "cell_type": "raw",
   "id": "1a43348e",
   "metadata": {},
   "source": [
    "Replaces the input document with the specified document. The operation replaces all existing fields in the input document, including the _id field. With $replaceWith, you can promote an embedded document to the top-level. You can also specify a new document as the replacement.\n",
    "\n",
    "The $replaceWith is an alias for $replaceRoot.\n",
    "The $replaceWith stage has the following form:"
   ]
  },
  {
   "cell_type": "raw",
   "id": "0b420aa9",
   "metadata": {},
   "source": [
    "{ $replaceWith: <replacementDocument> }"
   ]
  },
  {
   "cell_type": "markdown",
   "id": "a165da1d",
   "metadata": {},
   "source": [
    "### 範例01"
   ]
  },
  {
   "cell_type": "raw",
   "id": "45523137",
   "metadata": {},
   "source": [
    "db.students.insertMany([\n",
    "   {\n",
    "      \"_id\" : 1,\n",
    "      \"grades\" : [\n",
    "         { \"test\": 1, \"grade\" : 80, \"mean\" : 75, \"std\" : 6 },\n",
    "         { \"test\": 2, \"grade\" : 85, \"mean\" : 90, \"std\" : 4 },\n",
    "         { \"test\": 3, \"grade\" : 95, \"mean\" : 85, \"std\" : 6 }\n",
    "      ]\n",
    "   },\n",
    "   {\n",
    "      \"_id\" : 2,\n",
    "      \"grades\" : [\n",
    "         { \"test\": 1, \"grade\" : 90, \"mean\" : 75, \"std\" : 6 },\n",
    "         { \"test\": 2, \"grade\" : 87, \"mean\" : 90, \"std\" : 3 },\n",
    "         { \"test\": 3, \"grade\" : 91, \"mean\" : 85, \"std\" : 4 }\n",
    "      ]\n",
    "   }\n",
    "])"
   ]
  },
  {
   "cell_type": "code",
   "execution_count": null,
   "id": "643b4804",
   "metadata": {},
   "outputs": [],
   "source": [
    "db.students.aggregate( [\n",
    "   { $unwind: \"$grades\" },\n",
    "   { $match: { \"grades.grade\" : { $gte: 90 } } },\n",
    "   { $replaceWith: \"$grades\" }\n",
    "] )"
   ]
  },
  {
   "cell_type": "raw",
   "id": "0e69121a",
   "metadata": {},
   "source": [
    "{ \"test\" : 3, \"grade\" : 95, \"mean\" : 85, \"std\" : 6 }\n",
    "{ \"test\" : 1, \"grade\" : 90, \"mean\" : 75, \"std\" : 6 }\n",
    "{ \"test\" : 3, \"grade\" : 91, \"mean\" : 85, \"std\" : 4 }"
   ]
  },
  {
   "cell_type": "markdown",
   "id": "2d2662c8",
   "metadata": {},
   "source": [
    "### 範例02"
   ]
  },
  {
   "cell_type": "raw",
   "id": "0444ca94",
   "metadata": {},
   "source": [
    "db.people.insertMany([\n",
    "   { \"_id\" : 1, \"name\" : \"Arlene\", \"age\" : 34, \"pets\" : { \"dogs\" : 2, \"cats\" : 1 } },\n",
    "   { \"_id\" : 2, \"name\" : \"Sam\", \"age\" : 41, \"pets\" : { \"cats\" : 1, \"fish\" : 3 } },\n",
    "   { \"_id\" : 3, \"name\" : \"Maria\", \"age\" : 25 }\n",
    "])"
   ]
  },
  {
   "cell_type": "raw",
   "id": "e07765ee",
   "metadata": {},
   "source": [
    "The following operation uses the $replaceWith stage to replace each input document with the result of a $mergeObjects operation. The $mergeObjects expression merges the specified default document with the pets document."
   ]
  },
  {
   "cell_type": "code",
   "execution_count": null,
   "id": "5981b6df",
   "metadata": {},
   "outputs": [],
   "source": [
    "db.people.aggregate( [\n",
    "   { $replaceWith: { $mergeObjects:  [ { dogs: 0, cats: 0, birds: 0, fish: 0 }, \"$pets\" ] } }\n",
    "] )"
   ]
  },
  {
   "cell_type": "raw",
   "id": "f93cf557",
   "metadata": {},
   "source": [
    "{ \"dogs\" : 2, \"cats\" : 1, \"birds\" : 0, \"fish\" : 0 }\n",
    "{ \"dogs\" : 0, \"cats\" : 1, \"birds\" : 0, \"fish\" : 3 }\n",
    "{ \"dogs\" : 0, \"cats\" : 0, \"birds\" : 0, \"fish\" : 0 }"
   ]
  },
  {
   "cell_type": "markdown",
   "id": "cb475125",
   "metadata": {},
   "source": [
    "# $replaceRoot (aggregation)"
   ]
  },
  {
   "cell_type": "raw",
   "id": "335c657f",
   "metadata": {},
   "source": [
    "Replaces the input document with the specified document. The operation replaces all existing fields in the input document, including the _id field. You can promote an existing embedded document to the top level, or create a new document for promotion.\n",
    "\n",
    "The $replaceRoot stage has the following form:"
   ]
  },
  {
   "cell_type": "raw",
   "id": "e0f8164a",
   "metadata": {},
   "source": [
    "{ $replaceRoot: { newRoot: <replacementDocument> } }"
   ]
  },
  {
   "cell_type": "markdown",
   "id": "fefd4233",
   "metadata": {},
   "source": [
    "### 範例01"
   ]
  },
  {
   "cell_type": "raw",
   "id": "aabd1cde",
   "metadata": {},
   "source": [
    "{ \"_id\" : 1, \"name\" : \"Arlene\", \"age\" : 34, \"pets\" : { \"dogs\" : 2, \"cats\" : 1 } }\n",
    "{ \"_id\" : 2, \"name\" : \"Sam\", \"age\" : 41, \"pets\" : { \"cats\" : 1, \"fish\" : 3 } }\n",
    "{ \"_id\" : 3, \"name\" : \"Maria\", \"age\" : 25 }"
   ]
  },
  {
   "cell_type": "code",
   "execution_count": null,
   "id": "6108f99e",
   "metadata": {},
   "outputs": [],
   "source": [
    "db.people.aggregate( [\n",
    "   { $replaceRoot: { newRoot: { $mergeObjects:  [ { dogs: 0, cats: 0, birds: 0, fish: 0 }, \"$pets\" ] }} }\n",
    "] )"
   ]
  },
  {
   "cell_type": "raw",
   "id": "c21fc80a",
   "metadata": {},
   "source": [
    "{ \"dogs\" : 2, \"cats\" : 1, \"birds\" : 0, \"fish\" : 0 }\n",
    "{ \"dogs\" : 0, \"cats\" : 1, \"birds\" : 0, \"fish\" : 3 }\n",
    "{ \"dogs\" : 0, \"cats\" : 0, \"birds\" : 0, \"fish\" : 0 }"
   ]
  },
  {
   "cell_type": "markdown",
   "id": "9ab58213",
   "metadata": {},
   "source": [
    "# $$ROOT 的意思"
   ]
  },
  {
   "cell_type": "raw",
   "id": "b295bcd1",
   "metadata": {},
   "source": [
    "{\n",
    "    \"_id\" : ObjectId(\"b9\"),\n",
    "    \"key\" : 1,\n",
    "    \"value\" : 20,\n",
    "    \"history\" : ISODate(\"2020-05-16T00:00:00Z\")\n",
    "},\n",
    "{\n",
    "    \"_id\" : ObjectId(\"ba\"),\n",
    "    \"key\" : 1,\n",
    "    \"value\" : 10,\n",
    "    \"history\" : ISODate(\"2020-05-13T00:00:00Z\")\n",
    "},\n",
    "{\n",
    "    \"_id\" : ObjectId(\"bb\"),\n",
    "    \"key\" : 3,\n",
    "    \"value\" : 50,\n",
    "    \"history\" : ISODate(\"2020-05-12T00:00:00Z\")\n",
    "},\n",
    "{\n",
    "    \"_id\" : ObjectId(\"bc\"),\n",
    "    \"key\" : 2,\n",
    "    \"value\" : 0,\n",
    "    \"history\" : ISODate(\"2020-05-13T00:00:00Z\")\n",
    "},\n",
    "{\n",
    "    \"_id\" : ObjectId(\"bd\"),\n",
    "    \"key\" : 2,\n",
    "    \"value\" : 10,\n",
    "    \"history\" : ISODate(\"2020-05-16T00:00:00Z\")\n",
    "}"
   ]
  },
  {
   "cell_type": "raw",
   "id": "4d76301e",
   "metadata": {},
   "source": [
    "Now based on the history field you want to group and insert the whole documents in to an array field 'items'. Here $$ROOT variable will be helpful.\n",
    "\n",
    "So, the aggregation query to achieve the above will be:"
   ]
  },
  {
   "cell_type": "code",
   "execution_count": null,
   "id": "97e9c3ff",
   "metadata": {},
   "outputs": [],
   "source": [
    "db.collection.aggregate([{\n",
    "    $group: {\n",
    "        _id: '$history',\n",
    "        items: {$push: '$$ROOT'}\n",
    "    }\n",
    "}])"
   ]
  },
  {
   "cell_type": "raw",
   "id": "3361bbcd",
   "metadata": {},
   "source": [
    "{\n",
    "    \"_id\" : ISODate(\"2020-05-12T00:00:00Z\"),\n",
    "    \"items\" : [\n",
    "        {\n",
    "            \"_id\" : ObjectId(\"bb\"),\n",
    "            \"key\" : 3,\n",
    "            \"value\" : 50,\n",
    "            \"history\" : ISODate(\"2020-05-12T00:00:00Z\")\n",
    "        }\n",
    "    ]\n",
    "},\n",
    "{\n",
    "    \"_id\" : ISODate(\"2020-05-13T00:00:00Z\"),\n",
    "    \"items\" : [\n",
    "        {\n",
    "            \"_id\" : ObjectId(\"ba\"),\n",
    "            \"key\" : 1,\n",
    "            \"value\" : 10,\n",
    "            \"history\" : ISODate(\"2020-05-13T00:00:00Z\")\n",
    "        },\n",
    "        {\n",
    "            \"_id\" : ObjectId(\"bc\"),\n",
    "            \"key\" : 2,\n",
    "            \"value\" : 0,\n",
    "            \"history\" : ISODate(\"2020-05-13T00:00:00Z\")\n",
    "        }\n",
    "    ]\n",
    "},\n",
    "{\n",
    "    \"_id\" : ISODate(\"2020-05-16T00:00:00Z\"),\n",
    "    \"items\" : [\n",
    "        {\n",
    "            \"_id\" : ObjectId(\"b9\"),\n",
    "            \"key\" : 1,\n",
    "            \"value\" : 20,\n",
    "            \"history\" : ISODate(\"2020-05-16T00:00:00Z\")\n",
    "        },\n",
    "        {\n",
    "            \"_id\" : ObjectId(\"bd\"),\n",
    "            \"key\" : 2,\n",
    "            \"value\" : 10,\n",
    "            \"history\" : ISODate(\"2020-05-16T00:00:00Z\")\n",
    "        }\n",
    "    ]\n",
    "}"
   ]
  },
  {
   "cell_type": "markdown",
   "id": "a3c02023",
   "metadata": {},
   "source": [
    "# $indexStats (aggregation)"
   ]
  },
  {
   "cell_type": "raw",
   "id": "55c0d881",
   "metadata": {},
   "source": [
    "Returns statistics regarding the use of each index for the collection. If running with access control, the user must have privileges that include indexStats action.\n",
    "\n",
    "The $indexStats stage takes an empty document and has the following syntax:"
   ]
  },
  {
   "cell_type": "raw",
   "id": "ec1ab2c5",
   "metadata": {},
   "source": [
    "{ $indexStats: { } }"
   ]
  },
  {
   "cell_type": "raw",
   "id": "8ad39475",
   "metadata": {},
   "source": [
    "# $indexStats must be the first stage in an aggregation pipeline."
   ]
  },
  {
   "cell_type": "markdown",
   "id": "c2d4532e",
   "metadata": {},
   "source": [
    "# $strLenCP (aggregation)"
   ]
  },
  {
   "cell_type": "raw",
   "id": "32ffb1d3",
   "metadata": {},
   "source": [
    "Returns the number of UTF-8 code points in the specified string.\n",
    "\n",
    "$strLenCP has the following operator expression syntax:"
   ]
  },
  {
   "cell_type": "raw",
   "id": "ab43a655",
   "metadata": {},
   "source": [
    "{ $strLenCP: <string expression> }"
   ]
  },
  {
   "cell_type": "markdown",
   "id": "57e609f8",
   "metadata": {},
   "source": [
    "### 範例01"
   ]
  },
  {
   "cell_type": "raw",
   "id": "74e885a7",
   "metadata": {},
   "source": [
    "{ \"_id\" : 1, \"name\" : \"apple\" }\n",
    "{ \"_id\" : 2, \"name\" : \"banana\" }\n",
    "{ \"_id\" : 3, \"name\" : \"éclair\" }\n",
    "{ \"_id\" : 4, \"name\" : \"hamburger\" }\n",
    "{ \"_id\" : 5, \"name\" : \"jalapeño\" }\n",
    "{ \"_id\" : 6, \"name\" : \"pizza\" }\n",
    "{ \"_id\" : 7, \"name\" : \"tacos\" }\n",
    "{ \"_id\" : 8, \"name\" : \"寿司\" }"
   ]
  },
  {
   "cell_type": "code",
   "execution_count": null,
   "id": "7ed0670f",
   "metadata": {},
   "outputs": [],
   "source": [
    "db.food.aggregate(\n",
    "  [\n",
    "    {\n",
    "      $project: {\n",
    "        \"name\": 1,\n",
    "        \"length\": { $strLenCP: \"$name\" }\n",
    "      }\n",
    "    }\n",
    "  ]\n",
    ")"
   ]
  },
  {
   "cell_type": "raw",
   "id": "48e9a3fa",
   "metadata": {},
   "source": [
    "{ \"_id\" : 1, \"name\" : \"apple\", \"length\" : 5 }\n",
    "{ \"_id\" : 2, \"name\" : \"banana\", \"length\" : 6 }\n",
    "{ \"_id\" : 3, \"name\" : \"éclair\", \"length\" : 6 }\n",
    "{ \"_id\" : 4, \"name\" : \"hamburger\", \"length\" : 9 }\n",
    "{ \"_id\" : 5, \"name\" : \"jalapeño\", \"length\" : 8 }\n",
    "{ \"_id\" : 6, \"name\" : \"pizza\", \"length\" : 5 }\n",
    "{ \"_id\" : 7, \"name\" : \"tacos\", \"length\" : 5 }\n",
    "{ \"_id\" : 8, \"name\" : \"寿司\", \"length\" : 2 }"
   ]
  },
  {
   "cell_type": "markdown",
   "id": "9399fd89",
   "metadata": {},
   "source": [
    "# $toUpper (aggregation)"
   ]
  },
  {
   "cell_type": "raw",
   "id": "8a952977",
   "metadata": {},
   "source": [
    "Converts a string to uppercase, returning the result.\n",
    "\n",
    "$toUpper has the following syntax:"
   ]
  },
  {
   "cell_type": "raw",
   "id": "b26116c0",
   "metadata": {},
   "source": [
    "{ $toUpper: <expression> }"
   ]
  },
  {
   "cell_type": "markdown",
   "id": "21939b6f",
   "metadata": {},
   "source": [
    "# $filter (aggregation)"
   ]
  },
  {
   "cell_type": "raw",
   "id": "7a8d5f42",
   "metadata": {},
   "source": [
    "Selects a subset of an array to return based on the specified condition. Returns an array with only those elements that match the condition. The returned elements are in the original order.\n",
    "\n",
    "$filter has the following syntax:"
   ]
  },
  {
   "cell_type": "raw",
   "id": "743a446e",
   "metadata": {},
   "source": [
    "{ $filter: { input: <array>, as: <string>, cond: <expression> } }"
   ]
  },
  {
   "cell_type": "markdown",
   "id": "97583e4b",
   "metadata": {},
   "source": [
    "### 範例01"
   ]
  },
  {
   "cell_type": "raw",
   "id": "deec8cbe",
   "metadata": {},
   "source": [
    "{\n",
    "   _id: 0,\n",
    "   items: [\n",
    "     { item_id: 43, quantity: 2, price: 10 },\n",
    "     { item_id: 2, quantity: 1, price: 240 }\n",
    "   ]\n",
    "}\n",
    "{\n",
    "   _id: 1,\n",
    "   items: [\n",
    "     { item_id: 23, quantity: 3, price: 110 },\n",
    "     { item_id: 103, quantity: 4, price: 5 },\n",
    "     { item_id: 38, quantity: 1, price: 300 }\n",
    "   ]\n",
    "}\n",
    "{\n",
    "    _id: 2,\n",
    "    items: [\n",
    "       { item_id: 4, quantity: 1, price: 23 }\n",
    "    ]\n",
    "}"
   ]
  },
  {
   "cell_type": "code",
   "execution_count": null,
   "id": "4255b251",
   "metadata": {},
   "outputs": [],
   "source": [
    "db.sales.aggregate([\n",
    "   {\n",
    "      $project: {\n",
    "         items: {\n",
    "            $filter: {\n",
    "               input: \"$items\",\n",
    "               as: \"item\",\n",
    "               cond: { $gte: [ \"$$item.price\", 100 ] }\n",
    "            }\n",
    "         }\n",
    "      }\n",
    "   }\n",
    "])"
   ]
  },
  {
   "cell_type": "raw",
   "id": "5509c8ee",
   "metadata": {},
   "source": [
    "The operation produces the following results:"
   ]
  },
  {
   "cell_type": "raw",
   "id": "337023a0",
   "metadata": {},
   "source": [
    "{\n",
    "   \"_id\" : 0,\n",
    "   \"items\" : [\n",
    "      { \"item_id\" : 2, \"quantity\" : 1, \"price\" : 240 }\n",
    "   ]\n",
    "}\n",
    "{\n",
    "   \"_id\" : 1,\n",
    "   \"items\" : [\n",
    "      { \"item_id\" : 23, \"quantity\" : 3, \"price\" : 110 },\n",
    "      { \"item_id\" : 38, \"quantity\" : 1, \"price\" : 300 }\n",
    "   ]\n",
    "}\n",
    "{ \"_id\" : 2, \"items\" : [ ] }"
   ]
  },
  {
   "cell_type": "markdown",
   "id": "0ab3f0d7",
   "metadata": {},
   "source": [
    "# $slice (projection)"
   ]
  },
  {
   "cell_type": "raw",
   "id": "ed4df31a",
   "metadata": {},
   "source": [
    "The $slice projection operator specifies the number of elements in an array to return in the query result."
   ]
  },
  {
   "cell_type": "raw",
   "id": "c2140db5",
   "metadata": {},
   "source": [
    "Syntax: \n",
    "The $slice has one of the following syntax forms:"
   ]
  },
  {
   "cell_type": "code",
   "execution_count": null,
   "id": "ef41d8bc",
   "metadata": {},
   "outputs": [],
   "source": [
    "db.collection.find(\n",
    "   <query>,\n",
    "   { <arrayField>: { $slice: <number> } }\n",
    ")"
   ]
  },
  {
   "cell_type": "raw",
   "id": "4df8a2ca",
   "metadata": {},
   "source": [
    "or"
   ]
  },
  {
   "cell_type": "code",
   "execution_count": null,
   "id": "3cd6f375",
   "metadata": {},
   "outputs": [],
   "source": [
    "db.collection.find(\n",
    "   <query>,\n",
    "   { <arrayField>: { $slice: [ <number to skip>, <number to return> ] } }\n",
    ")"
   ]
  }
 ],
 "metadata": {
  "kernelspec": {
   "display_name": "Python 3",
   "language": "python",
   "name": "python3"
  },
  "language_info": {
   "codemirror_mode": {
    "name": "ipython",
    "version": 3
   },
   "file_extension": ".py",
   "mimetype": "text/x-python",
   "name": "python",
   "nbconvert_exporter": "python",
   "pygments_lexer": "ipython3",
   "version": "3.8.10"
  }
 },
 "nbformat": 4,
 "nbformat_minor": 5
}
