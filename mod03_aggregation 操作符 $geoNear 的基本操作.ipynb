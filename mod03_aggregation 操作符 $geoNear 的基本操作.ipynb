{
 "cells": [
  {
   "cell_type": "markdown",
   "id": "15b7d64a",
   "metadata": {},
   "source": [
    "# $geoNear 的基本操作"
   ]
  },
  {
   "cell_type": "raw",
   "id": "ae06edf4",
   "metadata": {},
   "source": [
    "以下幾點我們應該注意:\n",
    "\n",
    "1. Outputs documents in order of nearest to farthest from a specified point.\n",
    "2. You can only use $geoNear as the first stage of a pipeline.\n",
    "3. 記得還有其他 Fields 可以使用，有需要可以再去查詢。"
   ]
  },
  {
   "cell_type": "code",
   "execution_count": null,
   "id": "6fc229ed",
   "metadata": {},
   "outputs": [],
   "source": [
    "# using ``$geoNear`` stage\n",
    "db.nycFacilities.aggregate([\n",
    "    {\n",
    "        $geoNear: {\n",
    "            near: {\n",
    "                type: \"Point\",\n",
    "                \"coordinates\": [-73.98769766092299, 40.757345233626594]\n",
    "            },\n",
    "            distanceField: \"distanceFromMongoDB\",\n",
    "            spherical: true\n",
    "        }\n",
    "    }\n",
    "]).pretty()"
   ]
  },
  {
   "cell_type": "code",
   "execution_count": null,
   "id": "238b115f",
   "metadata": {},
   "outputs": [],
   "source": [
    "# 加入更多 Fields\n",
    "# 離 mongoDB 總部最近的五間醫院\n",
    "db.nycFacilities.aggregate([\n",
    "    {\n",
    "        $geoNear: {\n",
    "            near: {\n",
    "                type: \"Point\",\n",
    "                \"coordinates\": [-73.98769766092299, 40.757345233626594]\n",
    "            },\n",
    "            distanceField: \"distanceFromMongoDB\",\n",
    "            spherical: true,\n",
    "            query: { type: \"Hospital\" },\n",
    "        }\n",
    "    },\n",
    "    {\n",
    "        $limit: 5\n",
    "    }\n",
    "]).pretty()"
   ]
  }
 ],
 "metadata": {
  "kernelspec": {
   "display_name": "Python 3",
   "language": "python",
   "name": "python3"
  },
  "language_info": {
   "codemirror_mode": {
    "name": "ipython",
    "version": 3
   },
   "file_extension": ".py",
   "mimetype": "text/x-python",
   "name": "python",
   "nbconvert_exporter": "python",
   "pygments_lexer": "ipython3",
   "version": "3.8.10"
  }
 },
 "nbformat": 4,
 "nbformat_minor": 5
}
