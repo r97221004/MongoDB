{
 "cells": [
  {
   "cell_type": "markdown",
   "id": "8deebd4c",
   "metadata": {},
   "source": [
    "# $bucket 的基本操作"
   ]
  },
  {
   "cell_type": "raw",
   "id": "208ab3b0",
   "metadata": {},
   "source": [
    "注意使用操作符 $bucket 時有以下幾點事情需要注意:\n",
    "    \n",
    "1. boundaries 裡面的點資料型態是要一致的，且出來的桶子包含左邊不包含右邊。\n",
    "2. 如果有 documents 不包含在任一個桶子，會報錯，除非我們加入了 default 這個 field。\n",
    "3. 輸出的型態可有 output 這個 field 進行修改。"
   ]
  },
  {
   "cell_type": "code",
   "execution_count": null,
   "id": "f80d5701",
   "metadata": {},
   "outputs": [],
   "source": [
    "# create manual buckets using $ bucket\n",
    "db.companies.aggregate([\n",
    "    {\n",
    "        $match: {\n",
    "            founded_year: { $gt: 1980 },\n",
    "            number_of_employees: { $ne: null }\n",
    "        }\n",
    "    },\n",
    "    {\n",
    "        $bucket: {\n",
    "            groupBy: \"$number_of_employees\",\n",
    "            boundaries: [ 0, 20, 50, 100, 500, 1000, Infinity]\n",
    "        }\n",
    "    }\n",
    "])"
   ]
  },
  {
   "cell_type": "code",
   "execution_count": null,
   "id": "801c936d",
   "metadata": {},
   "outputs": [],
   "source": [
    "# reproduce error message for non matching documents\n",
    "db.coll.insert({ x: \"a\" });\n",
    "db.coll.aggregate([{ $bucket: {groupBy: \"$x\", boundaries: [0, 50, 100]}}])"
   ]
  },
  {
   "cell_type": "code",
   "execution_count": null,
   "id": "f91c4a6c",
   "metadata": {},
   "outputs": [],
   "source": [
    "# set `default` option to collect documents that do not match boundaries\n",
    "db.companies.aggregate([\n",
    "    {\n",
    "        $match: {\n",
    "            founded_year: { $gt: 1980 }\n",
    "        }\n",
    "    },\n",
    "    {\n",
    "        $bucket: {\n",
    "            groupBy: \"$number_of_employees\",\n",
    "            boundaries: [ 0, 20, 50, 100, 500, 1000, Infinity],\n",
    "            default: \"Other\"\n",
    "        }\n",
    "    }\n",
    "])"
   ]
  },
  {
   "cell_type": "code",
   "execution_count": null,
   "id": "1cd3dc00",
   "metadata": {},
   "outputs": [],
   "source": [
    "# reproduce error message for inconsitent boundaries datatype\n",
    "db.coll.aggregate([{ $bucket: {groupBy: \"$x\", boundaries: [\"a\", \"b\", 100]}}])"
   ]
  },
  {
   "cell_type": "code",
   "execution_count": null,
   "id": "99cd0c49",
   "metadata": {},
   "outputs": [],
   "source": [
    "# set `output` option for $bucket stage\n",
    "db.companies.aggregate([\n",
    "    {\n",
    "        $match: {\n",
    "            founded_year: { $gt: 1980 }\n",
    "        }\n",
    "    },\n",
    "    {\n",
    "        $bucket: {\n",
    "            groupBy: \"$number_of_employees\",\n",
    "            boundaries: [ 0, 20, 50, 100, 500, 1000, Infinity],\n",
    "            default: \"Other\",\n",
    "            output: {\n",
    "                total: { $sum: 1},\n",
    "                average: { $avg: \"$number_of_employees\" },\n",
    "                categories: { $addToSet: \"$category_code\" }\n",
    "            }\n",
    "        }\n",
    "    }\n",
    "]).pretty()"
   ]
  },
  {
   "cell_type": "code",
   "execution_count": null,
   "id": "4eb80762",
   "metadata": {},
   "outputs": [],
   "source": []
  }
 ],
 "metadata": {
  "kernelspec": {
   "display_name": "Python 3",
   "language": "python",
   "name": "python3"
  },
  "language_info": {
   "codemirror_mode": {
    "name": "ipython",
    "version": 3
   },
   "file_extension": ".py",
   "mimetype": "text/x-python",
   "name": "python",
   "nbconvert_exporter": "python",
   "pygments_lexer": "ipython3",
   "version": "3.8.10"
  }
 },
 "nbformat": 4,
 "nbformat_minor": 5
}
