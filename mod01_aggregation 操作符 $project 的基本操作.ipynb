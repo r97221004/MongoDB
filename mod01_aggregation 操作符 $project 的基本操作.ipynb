{
 "cells": [
  {
   "cell_type": "markdown",
   "id": "20106d19",
   "metadata": {},
   "source": [
    "# $project 的基本操作"
   ]
  },
  {
   "cell_type": "code",
   "execution_count": null,
   "id": "88c89ef7",
   "metadata": {},
   "outputs": [],
   "source": [
    "# project ``name`` and remove ``_id``\n",
    "db.solarSystem.aggregate([\n",
    "    {\n",
    "        $project: {\n",
    "            _id: 0,\n",
    "            name: 1\n",
    "        }\n",
    "    }\n",
    "]).pretty()"
   ]
  },
  {
   "cell_type": "code",
   "execution_count": null,
   "id": "b8795c6f",
   "metadata": {},
   "outputs": [],
   "source": [
    "# project ``name`` and ``gravity`` fields, including default ``_id``\n",
    "db.solarSystem.aggregate([\n",
    "    {\n",
    "        $project: {\n",
    "            name: 1,\n",
    "            gravity: 1\n",
    "        }\n",
    "    }\n",
    "]).pretty()"
   ]
  },
  {
   "cell_type": "code",
   "execution_count": null,
   "id": "ad495b4b",
   "metadata": {},
   "outputs": [],
   "source": [
    "# reassing ``gravity`` field with value from ``gravity.value`` embeded field\n",
    "db.solarSystem.aggregate([\n",
    "    {\n",
    "        $project: {\n",
    "            _id: 0,\n",
    "            name: 1,\n",
    "            gravity: \"$gravity.value\"\n",
    "        }\n",
    "    }\n",
    "])"
   ]
  },
  {
   "cell_type": "code",
   "execution_count": null,
   "id": "0c5c57fe",
   "metadata": {},
   "outputs": [],
   "source": [
    "# creating a document new field ``surfaceGravity``\n",
    "db.solarSystem.aggregate([\n",
    "    {\n",
    "        $project: {\n",
    "            _id: 0,\n",
    "            name: 1,\n",
    "            surfaceGravity: \"$gravity.value\"\n",
    "        }\n",
    "    }\n",
    "])"
   ]
  },
  {
   "cell_type": "code",
   "execution_count": null,
   "id": "b29db75c",
   "metadata": {},
   "outputs": [],
   "source": [
    "# creating a new field ``myWeight`` using expressions\n",
    "db.solarSystem.aggregate([\n",
    "    {\n",
    "        $project: {\n",
    "            _id: 0,\n",
    "            name: 1,\n",
    "            myWeight: { $multiply: [ { $divide: [ \"$gravity.value\", 9.8 ] }, 72 ] }\n",
    "        }\n",
    "    }\n",
    "]).pretty()"
   ]
  },
  {
   "cell_type": "markdown",
   "id": "31400cee",
   "metadata": {},
   "source": [
    "### 範例01"
   ]
  },
  {
   "cell_type": "raw",
   "id": "0572d4b9",
   "metadata": {},
   "source": [
    "Our first movie night was a success. Unfortunately, our ISP called to let us know we're close to our bandwidth quota, but we need another movie recommendation!\n",
    "\n",
    "Using the same $match stage from the previous lab, add a $project stage to only display the title and film rating (title and rated fields)."
   ]
  },
  {
   "cell_type": "code",
   "execution_count": null,
   "id": "7d6bcc04",
   "metadata": {},
   "outputs": [],
   "source": [
    "var pipeline = [\n",
    "    {\n",
    "        $match: {\n",
    "            \"imdb.rating\": { $gte: 7 },\n",
    "            genres: { $nin: [ \"Crime\", \"Horror\" ]},\n",
    "            rated: { $in: [ \"PG\", \"G\" ]},\n",
    "            languages: { $all: [ \"English\", \"Japanese\" ]}\n",
    "        }\n",
    "    },\n",
    "    {\n",
    "        $project: {\n",
    "            _id: 0,\n",
    "            title: 1,\n",
    "            rated: 1\n",
    "        }\n",
    "    }\n",
    "]\n",
    "\n",
    "db.movies.aggregate(pipeline).pretty()"
   ]
  },
  {
   "cell_type": "markdown",
   "id": "e679278b",
   "metadata": {},
   "source": [
    "### 範例02"
   ]
  },
  {
   "cell_type": "raw",
   "id": "097ae810",
   "metadata": {},
   "source": [
    "Our movies dataset has a lot of different documents, some with more convoluted titles than others. If we'd like to analyze our collection to find movie titles that are composed of only one word, we could fetch all the movies in the dataset and do some processing in a client application, but the Aggregation Framework allows us to do this on the server!\n",
    "\n",
    "Using the Aggregation Framework, find a count of the number of movies that have a title composed of one word. To clarify, \"Cinderella\" and \"3-25\" should count, where as \"Cast Away\" would not.\n",
    "\n",
    "Make sure you look into the $split String expression and the $size Array expression\n",
    "\n",
    "To get the count, you can append itcount() to the end of your pipeline"
   ]
  },
  {
   "cell_type": "code",
   "execution_count": null,
   "id": "384a25ff",
   "metadata": {},
   "outputs": [],
   "source": [
    "# 應該先要考慮到 title 的值是不是字串\n",
    "db.movies.aggregate([\n",
    "  {\n",
    "    $match: {\n",
    "      title: {\n",
    "        $type: \"string\"\n",
    "      }\n",
    "    }\n",
    "  },\n",
    "  {\n",
    "    $project: {\n",
    "      title: { $split: [\"$title\", \" \"] },\n",
    "      _id: 0\n",
    "    }\n",
    "  },\n",
    "  {\n",
    "    $match: {\n",
    "      title: { $size: 1 }\n",
    "    }\n",
    "  }\n",
    "]).itcount()"
   ]
  },
  {
   "cell_type": "markdown",
   "id": "0a30c398",
   "metadata": {},
   "source": [
    "### 範例03"
   ]
  },
  {
   "cell_type": "raw",
   "id": "56f1680f",
   "metadata": {},
   "source": [
    "Let's find how many movies in our movies collection are a \"labor of love\", where the same person appears in cast, directors, and writers\n",
    "\n",
    "Hint: You will need to use $setIntersection operator in the aggregation pipeline to find out the result.\n",
    "Note that your dataset may have duplicate entries for some films. You do not need to count the duplicate entries."
   ]
  },
  {
   "cell_type": "code",
   "execution_count": null,
   "id": "8d88bb97",
   "metadata": {},
   "outputs": [],
   "source": [
    "# 參考解答\n",
    "db.movies.aggregate([\n",
    "    {\n",
    "        $match: {\n",
    "            cast: { $elemMatch: { $exists: true}},\n",
    "            directors: { $elemMatch: { $exists: true}},\n",
    "            writers: { $elemMatch: { $exists: true}}\n",
    "        }\n",
    "    },\n",
    "    {\n",
    "        $project: {\n",
    "            _id: 0,\n",
    "            cast: 1,\n",
    "            directors: 1,\n",
    "            writers: { $map: {\n",
    "                input: \"$writers\",\n",
    "                as: \"writer\",\n",
    "                in: { $arrayElemAt: [{ $split: [ \"$$writer\", \" (\" ]}, 0 ]}\n",
    "            }}\n",
    "        }\n",
    "    },\n",
    "    {\n",
    "        $project: {\n",
    "            \"samePerson\": { $setIntersection: [ \"$cast\", \"$directors\", \"$writers\" ]}\n",
    "        }\n",
    "    },\n",
    "    {\n",
    "        $match: {\n",
    "            \"samePerson\": { $elemMatch: { $exists: true }}\n",
    "        }\n",
    "    }\n",
    "]).itcount()"
   ]
  },
  {
   "cell_type": "code",
   "execution_count": null,
   "id": "586b5331",
   "metadata": {},
   "outputs": [],
   "source": [
    "# 參考解答\n",
    "db.movies.aggregate([\n",
    "  {\n",
    "    $match: {\n",
    "      cast: { $elemMatch: { $exists: true } },\n",
    "      directors: { $elemMatch: { $exists: true } },\n",
    "      writers: { $elemMatch: { $exists: true } }\n",
    "    }\n",
    "  },\n",
    "  {\n",
    "    $project: {\n",
    "      _id: 0,\n",
    "      cast: 1,\n",
    "      directors: 1,\n",
    "      writers: {\n",
    "        $map: {\n",
    "          input: \"$writers\",\n",
    "          as: \"writer\",\n",
    "          in: {\n",
    "            $arrayElemAt: [\n",
    "              {\n",
    "                $split: [\"$$writer\", \" (\"]\n",
    "              },\n",
    "              0\n",
    "            ]\n",
    "          }\n",
    "        }\n",
    "      }\n",
    "    }\n",
    "  },\n",
    "  {\n",
    "    $project: {\n",
    "      labor_of_love: {\n",
    "        $gt: [\n",
    "          { $size: { $setIntersection: [\"$cast\", \"$directors\", \"$writers\"] } },\n",
    "          0\n",
    "        ]\n",
    "      }\n",
    "    }\n",
    "  },\n",
    "  {\n",
    "    $match: { labor_of_love: true }\n",
    "  },\n",
    "  {\n",
    "    $count: \"labors of love\"\n",
    "  }\n",
    "])"
   ]
  }
 ],
 "metadata": {
  "kernelspec": {
   "display_name": "Python 3",
   "language": "python",
   "name": "python3"
  },
  "language_info": {
   "codemirror_mode": {
    "name": "ipython",
    "version": 3
   },
   "file_extension": ".py",
   "mimetype": "text/x-python",
   "name": "python",
   "nbconvert_exporter": "python",
   "pygments_lexer": "ipython3",
   "version": "3.8.10"
  }
 },
 "nbformat": 4,
 "nbformat_minor": 5
}
