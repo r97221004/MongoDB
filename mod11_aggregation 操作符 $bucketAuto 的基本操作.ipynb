{
 "cells": [
  {
   "cell_type": "markdown",
   "id": "4650a082",
   "metadata": {},
   "source": [
    "# $bucketAuto 的基本操作"
   ]
  },
  {
   "cell_type": "raw",
   "id": "b4aeed8d",
   "metadata": {},
   "source": [
    "注意操作符 $bucketAuto 會盡量的讓每個桶子的 documents 一致。除非加入 granularity 這個 field，這會讓桶子的 boundries 盡量\n",
    "符合某種數列的 pattern。"
   ]
  },
  {
   "cell_type": "code",
   "execution_count": null,
   "id": "31741619",
   "metadata": {},
   "outputs": [],
   "source": [
    "# generate buckets automatically with $bucktAuto stage\n",
    "db.companies.aggregate([\n",
    "    {\n",
    "        $match: {\n",
    "            \"offices.city\": \"New York\"\n",
    "        }\n",
    "    },\n",
    "    {\n",
    "        $bucketAuto: {\n",
    "            groupBy: \"$founded_year\",\n",
    "            buckets: 5\n",
    "        }\n",
    "\n",
    "    }\n",
    "])"
   ]
  },
  {
   "cell_type": "code",
   "execution_count": null,
   "id": "2cff248a",
   "metadata": {},
   "outputs": [],
   "source": [
    "# set `output` option for $bucketAuto\n",
    "db.companies.aggregate([\n",
    "    {\n",
    "        $match: {\n",
    "            \"offices.city\": \"New York\"\n",
    "        }\n",
    "    },\n",
    "    {\n",
    "        $bucketAuto: {\n",
    "            groupBy: \"$founded_year\",\n",
    "            buckets: 5,\n",
    "            output: {\n",
    "                total: { $sum: 1},\n",
    "                average: { $avg : \"$number_of_employees\" } \n",
    "            }\n",
    "        }\n",
    "\n",
    "    }\n",
    "])"
   ]
  },
  {
   "cell_type": "code",
   "execution_count": null,
   "id": "8975e0ba",
   "metadata": {},
   "outputs": [],
   "source": [
    "# default $buckeAuto behaviour\n",
    "for(i=1; i <= 1000; i++) {  db.series.insert( {_id: i}  ) };\n",
    "\n",
    "db.series.aggregate([\n",
    "    {\n",
    "        $bucketAuto: {\n",
    "            groupBy: \"$_id\",\n",
    "            buckets: 5\n",
    "        }\n",
    "    }\n",
    "])"
   ]
  },
  {
   "cell_type": "code",
   "execution_count": null,
   "id": "a13c6c55",
   "metadata": {},
   "outputs": [],
   "source": [
    "# generate automatic buckets using granularity numerical series R20\n",
    "db.series.aggregate([\n",
    "    {\n",
    "        $bucketAuto: {\n",
    "            groupBy: \"$_id\",\n",
    "            buckets: 5,\n",
    "            granularity: \"R20\"\n",
    "        }\n",
    "    }\n",
    "])"
   ]
  }
 ],
 "metadata": {
  "kernelspec": {
   "display_name": "Python 3",
   "language": "python",
   "name": "python3"
  },
  "language_info": {
   "codemirror_mode": {
    "name": "ipython",
    "version": 3
   },
   "file_extension": ".py",
   "mimetype": "text/x-python",
   "name": "python",
   "nbconvert_exporter": "python",
   "pygments_lexer": "ipython3",
   "version": "3.8.10"
  }
 },
 "nbformat": 4,
 "nbformat_minor": 5
}
