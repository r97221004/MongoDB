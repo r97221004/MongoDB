{
 "cells": [
  {
   "cell_type": "markdown",
   "id": "03182d57",
   "metadata": {},
   "source": [
    "# $redact 的基本操作"
   ]
  },
  {
   "cell_type": "code",
   "execution_count": null,
   "id": "f9ae53c6",
   "metadata": {},
   "outputs": [],
   "source": [
    "# creating a variable to refer against\n",
    "var userAccess = \"Management\"\n",
    "\n",
    "# comparing whether the value/s in the userAccess variable are in the array\n",
    "# referenced by the $acl field path\n",
    "db.employees.aggregate([\n",
    "    {\n",
    "        $redact: {\n",
    "            $cond: [{ $in: [ userAccess, \"$acl\"] }, \"$$DESCEND\", \"$$PRUNE\"]\n",
    "        }\n",
    "    }\n",
    "]).pretty()"
   ]
  }
 ],
 "metadata": {
  "kernelspec": {
   "display_name": "Python 3",
   "language": "python",
   "name": "python3"
  },
  "language_info": {
   "codemirror_mode": {
    "name": "ipython",
    "version": 3
   },
   "file_extension": ".py",
   "mimetype": "text/x-python",
   "name": "python",
   "nbconvert_exporter": "python",
   "pygments_lexer": "ipython3",
   "version": "3.8.10"
  }
 },
 "nbformat": 4,
 "nbformat_minor": 5
}
