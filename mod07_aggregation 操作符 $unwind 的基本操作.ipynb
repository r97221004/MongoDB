{
 "cells": [
  {
   "cell_type": "markdown",
   "id": "82495ca8",
   "metadata": {},
   "source": [
    "# $unwind 的基本操作"
   ]
  },
  {
   "cell_type": "raw",
   "id": "0a1e4105",
   "metadata": {},
   "source": [
    "注意使用操作符 $unwind 需要記得的幾件事:\n",
    "\n",
    "1. 要使用在 array 上\n",
    "2. 有 short term 與 long term 兩種寫法，有需要可以再去更深入研究\n",
    "3. 遇到大樣本可能會有 performance 上的問題，超過 100 ram 等等需要注意。"
   ]
  },
  {
   "cell_type": "code",
   "execution_count": null,
   "id": "db9d1180",
   "metadata": {},
   "outputs": [],
   "source": [
    "# finding the top rated genres per year from 2010 to 2015...\n",
    "db.movies.aggregate([\n",
    "    {\n",
    "        $match: {\n",
    "            \"imdb.rating\": { $gt: 0},\n",
    "            year: { $gte: 2010, $lte: 2015},\n",
    "            runtime: { $gte: 90 }\n",
    "        }\n",
    "    },\n",
    "    { $unwind: \"$genres\" },\n",
    "    {\n",
    "        $group: {\n",
    "            _id: { year: \"$year\", genre: \"$genres\" },\n",
    "            average_rating: { $avg: \"$imdb.rating\" }\n",
    "        }\n",
    "    },\n",
    "    { $sort: { \"_id.year\": -1, average_rating: -1 }}\n",
    "\n",
    "]).pretty()"
   ]
  },
  {
   "cell_type": "code",
   "execution_count": null,
   "id": "33bc8b3f",
   "metadata": {},
   "outputs": [],
   "source": [
    "# unfortunately we got too many results per year back. Rather than peform some\n",
    "# other complex grouping and matching, we just append a simple group and sort\n",
    "# stage, taking advantage of the fact the documents are in the order we want\n",
    "db.movies.aggregate([\n",
    "    {\n",
    "        $match: {\n",
    "            \"imdb.rating\": { $gt: 0 },\n",
    "            year: { $gte: 2010, $lte: 2015 },\n",
    "            runtime: { $gte: 90 }\n",
    "        }\n",
    "    },\n",
    "    { $unwind: \"$genres\" },\n",
    "    {\n",
    "        $group: {\n",
    "            _id: { year: \"$year\", genre: \"$genres\" },\n",
    "            average_rating: { $avg: \"$imdb.rating\" }\n",
    "        }\n",
    "    },\n",
    "    { $sort: { \"_id.year\": -1, average_rating: -1 }},\n",
    "    {\n",
    "        $group: {\n",
    "            _id: \"$_id.year\",\n",
    "            genre: { $first: \"$_id.genre\" },\n",
    "            average_rating: { $first: \"$average_rating\" }\n",
    "        }\n",
    "    },\n",
    "    { $sort: { _id: -1 }}\n",
    "    \n",
    "]).pretty()"
   ]
  },
  {
   "cell_type": "markdown",
   "id": "5219c9aa",
   "metadata": {},
   "source": [
    "### 範例01"
   ]
  },
  {
   "cell_type": "raw",
   "id": "5616e4c7",
   "metadata": {},
   "source": [
    "Let's use our increasing knowledge of the Aggregation Framework to explore our movies collection in more detail. We'd like to calculate how many movies every cast member has been in and get an average imdb.rating for each cast member.\n",
    "\n",
    "What is the name, number of movies, and average rating (truncated to one decimal) for the cast member that has been in the most number of movies with English as an available language?\n",
    "\n",
    "Provide the input in the following order and format"
   ]
  },
  {
   "cell_type": "code",
   "execution_count": null,
   "id": "bc3375ce",
   "metadata": {},
   "outputs": [],
   "source": [
    "# 參考解答\n",
    "db.movies.aggregate([\n",
    "    {\n",
    "        $match: {\n",
    "            languages: { $in: [ \"English\" ]}\n",
    "        }\n",
    "    },\n",
    "    { $unwind: \"$cast\"},\n",
    "    {\n",
    "        $group: {\n",
    "            _id: \"$cast\",\n",
    "            numFilms: { $sum: 1 },\n",
    "            average: { $avg: \"$imdb.rating\" }\n",
    "        }\n",
    "    },\n",
    "    {\n",
    "        $project: {\n",
    "            _id: 1,\n",
    "            numFilms: 1,\n",
    "            average: { $trunc: [ \"$average\", 1 ]}\n",
    "        }\n",
    "    },\n",
    "    { $sort: { numFilms: -1 }},\n",
    "    { $limit: 1 }\n",
    "])"
   ]
  },
  {
   "cell_type": "code",
   "execution_count": null,
   "id": "14d5554c",
   "metadata": {},
   "outputs": [],
   "source": [
    "# 參考解答\n",
    "db.movies.aggregate([\n",
    "  {\n",
    "    $match: {\n",
    "      languages: \"English\"\n",
    "    }\n",
    "  },\n",
    "  {\n",
    "    $project: { _id: 0, cast: 1, \"imdb.rating\": 1 }\n",
    "  },\n",
    "  {\n",
    "    $unwind: \"$cast\"\n",
    "  },\n",
    "  {\n",
    "    $group: {\n",
    "      _id: \"$cast\",\n",
    "      numFilms: { $sum: 1 },\n",
    "      average: { $avg: \"$imdb.rating\" }\n",
    "    }\n",
    "  },\n",
    "  {\n",
    "    $project: {\n",
    "      numFilms: 1,\n",
    "      average: {\n",
    "        $divide: [{ $trunc: { $multiply: [\"$average\", 10] } }, 10]\n",
    "      }\n",
    "    }\n",
    "  },\n",
    "  {\n",
    "    $sort: { numFilms: -1 }\n",
    "  },\n",
    "  {\n",
    "    $limit: 1\n",
    "  }\n",
    "])"
   ]
  }
 ],
 "metadata": {
  "kernelspec": {
   "display_name": "Python 3",
   "language": "python",
   "name": "python3"
  },
  "language_info": {
   "codemirror_mode": {
    "name": "ipython",
    "version": 3
   },
   "file_extension": ".py",
   "mimetype": "text/x-python",
   "name": "python",
   "nbconvert_exporter": "python",
   "pygments_lexer": "ipython3",
   "version": "3.8.10"
  }
 },
 "nbformat": 4,
 "nbformat_minor": 5
}
