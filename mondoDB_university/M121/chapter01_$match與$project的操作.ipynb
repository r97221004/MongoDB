{
 "cells": [
  {
   "cell_type": "markdown",
   "id": "88ff0de9",
   "metadata": {},
   "source": [
    "# $match 的操作"
   ]
  },
  {
   "cell_type": "raw",
   "id": "cb7be4e6",
   "metadata": {},
   "source": [
    "# $match 使用 operator 的操作，不能使用 expression"
   ]
  },
  {
   "cell_type": "code",
   "execution_count": null,
   "id": "bdea8039",
   "metadata": {},
   "outputs": [],
   "source": [
    "# $match all celestial bodies, not equal to Star\n",
    "db.solarSystem.aggregate([\n",
    "    {\n",
    "        $match: {\n",
    "            type: { $ne: \"Star\" }\n",
    "        }\n",
    "    }\n",
    "]).pretty()"
   ]
  },
  {
   "cell_type": "code",
   "execution_count": null,
   "id": "9ca38e99",
   "metadata": {},
   "outputs": [],
   "source": [
    "# same query using find command\n",
    "db.solarSystem.find({ type: { $ne: \"Star\" }}).pretty()"
   ]
  },
  {
   "cell_type": "code",
   "execution_count": null,
   "id": "4adc6314",
   "metadata": {},
   "outputs": [],
   "source": [
    "# count the number of matching documents\n",
    "db.solarSystem.find({ type: { $ne: \"Star\"}}).count()"
   ]
  },
  {
   "cell_type": "code",
   "execution_count": null,
   "id": "c784a0c0",
   "metadata": {},
   "outputs": [],
   "source": [
    "# using $count\n",
    "db.solarSystem.aggregate([\n",
    "    {\n",
    "        $match: {\n",
    "            type: { $ne: \"Star\"}\n",
    "        }\n",
    "    },\n",
    "    { $count: \"planets\"}\n",
    "])"
   ]
  },
  {
   "cell_type": "code",
   "execution_count": null,
   "id": "2360da0d",
   "metadata": {},
   "outputs": [],
   "source": [
    "# matching on value, and removing ``_id`` from projected document\n",
    "db.solarSystem.find({ name: \"Earth\" }, { \"_id\": 0 }).pretty()"
   ]
  },
  {
   "cell_type": "markdown",
   "id": "bb0da62e",
   "metadata": {},
   "source": [
    "### 範例01"
   ]
  },
  {
   "cell_type": "raw",
   "id": "ff48431e",
   "metadata": {},
   "source": [
    "Help MongoDB pick a movie our next movie night! Based on employee polling, we've decided that potential movies must meet the following criteria.\n",
    "\n",
    "1. imdb.rating is at least 7\n",
    "2. genres does not contain \"Crime\" or \"Horror\"\n",
    "3. rated is either \"PG\" or \"G\"\n",
    "4. languages contains \"English\" and \"Japanese\""
   ]
  },
  {
   "cell_type": "code",
   "execution_count": null,
   "id": "0e960c15",
   "metadata": {},
   "outputs": [],
   "source": [
    "var pipeline = [\n",
    "    {\n",
    "        $match: {\n",
    "            \"imdb.rating\": { $gte: 7 },\n",
    "            genres: { $nin: [ \"Crime\", \"Horror\" ]},\n",
    "            rated: { $in: [ \"PG\", \"G\" ]},\n",
    "            languages: { $all: [ \"English\", \"Japanese\" ]}\n",
    "        }\n",
    "    }\n",
    "]\n",
    "\n",
    "db.movies.aggregate(pipeline).pretty()"
   ]
  },
  {
   "cell_type": "markdown",
   "id": "113c518d",
   "metadata": {},
   "source": [
    "# $project 的操作"
   ]
  },
  {
   "cell_type": "code",
   "execution_count": null,
   "id": "2955d093",
   "metadata": {},
   "outputs": [],
   "source": [
    "# project ``name`` and remove ``_id``\n",
    "db.solarSystem.aggregate([\n",
    "    {\n",
    "        $project: {\n",
    "            _id: 0,\n",
    "            name:1\n",
    "        }\n",
    "    }\n",
    "]).pretty()"
   ]
  },
  {
   "cell_type": "code",
   "execution_count": null,
   "id": "01636248",
   "metadata": {},
   "outputs": [],
   "source": [
    "# project ``name`` and ``gravity`` fields, including default ``_id``\n",
    "db.solarSystem.aggregate([\n",
    "    {\n",
    "        $project: {\n",
    "            name: 1,\n",
    "            gravity: 1\n",
    "        }\n",
    "    }\n",
    "]).pretty()"
   ]
  },
  {
   "cell_type": "code",
   "execution_count": null,
   "id": "c427a9d1",
   "metadata": {},
   "outputs": [],
   "source": [
    "# using dot-notation to express the projection fields\n",
    "db.solarSystem.aggregate([\n",
    "    {\n",
    "        $project: {\n",
    "            _id: 0,\n",
    "            name: 1,\n",
    "            \"gravity.value\": 1\n",
    "        }\n",
    "    }\n",
    "])"
   ]
  },
  {
   "cell_type": "code",
   "execution_count": null,
   "id": "b352c3b9",
   "metadata": {},
   "outputs": [],
   "source": [
    "# reassing ``gravity`` field with value from ``gravity.value`` embeded field\n",
    "db.solarSystem.aggregate([\n",
    "    {\n",
    "        $project: {\n",
    "            _id: 0,\n",
    "            name: 1,\n",
    "            gravity: \"$gravity.value\"\n",
    "        }\n",
    "    }\n",
    "])"
   ]
  },
  {
   "cell_type": "code",
   "execution_count": null,
   "id": "7f8fe11e",
   "metadata": {},
   "outputs": [],
   "source": [
    "# creating a document new field ``surfaceGravity``\n",
    "db.solarSystem.aggregate([\n",
    "    {\n",
    "        $project: {\n",
    "            _id: 0,\n",
    "            name: 1,\n",
    "            surfaceGravity: \"$gravity.value\"\n",
    "        }\n",
    "    }\n",
    "])"
   ]
  },
  {
   "cell_type": "code",
   "execution_count": null,
   "id": "bd01b245",
   "metadata": {},
   "outputs": [],
   "source": [
    "# creating a new field ``myWeight`` using expressions\n",
    "db.solarSystem.aggregate([\n",
    "    {\n",
    "        $project: {\n",
    "            _id: 0,\n",
    "            name: 1,\n",
    "            myWeight: { $multiply: [ { $divide: [ \"$gravity.value\", 9.8 ] }, 72 ] }\n",
    "        }\n",
    "    }\n",
    "]).pretty()"
   ]
  },
  {
   "cell_type": "markdown",
   "id": "ab81d9f0",
   "metadata": {},
   "source": [
    "### 範例02"
   ]
  },
  {
   "cell_type": "raw",
   "id": "466d623f",
   "metadata": {},
   "source": [
    "Our first movie night was a success. Unfortunately, our ISP called to let us know we're close to our bandwidth quota, but we need another movie recommendation!\n",
    "\n",
    "Using the same $match stage from the previous lab, add a $project stage to only display the title and film rating (title and rated fields)."
   ]
  },
  {
   "cell_type": "code",
   "execution_count": null,
   "id": "70eab113",
   "metadata": {},
   "outputs": [],
   "source": [
    "var pipeline = [\n",
    "    {\n",
    "        $match: {\n",
    "            \"imdb.rating\": { $gte: 7 },\n",
    "            genres: { $nin: [ \"Crime\", \"Horror\" ]},\n",
    "            rated: { $in: [ \"PG\", \"G\" ]},\n",
    "            languages: { $all: [ \"English\", \"Japanese\" ]}\n",
    "        }\n",
    "    },\n",
    "    {\n",
    "        $project: {\n",
    "            _id: 0,\n",
    "            title: 1,\n",
    "            rated: 1\n",
    "        }\n",
    "    }\n",
    "]\n",
    "\n",
    "db.movies.aggregate(pipeline).pretty()"
   ]
  },
  {
   "cell_type": "markdown",
   "id": "d6f324bd",
   "metadata": {},
   "source": [
    "### 範例03"
   ]
  },
  {
   "cell_type": "raw",
   "id": "7db57c00",
   "metadata": {},
   "source": [
    "Our movies dataset has a lot of different documents, some with more convoluted titles than others. If we'd like to analyze our collection to find movie titles that are composed of only one word, we could fetch all the movies in the dataset and do some processing in a client application, but the Aggregation Framework allows us to do this on the server!\n",
    "\n",
    "Using the Aggregation Framework, find a count of the number of movies that have a title composed of one word. To clarify, \"Cinderella\" and \"3-25\" should count, where as \"Cast Away\" would not.\n",
    "\n",
    "Make sure you look into the $split String expression and the $size Array expression\n",
    "\n",
    "To get the count, you can append itcount() to the end of your pipeline"
   ]
  },
  {
   "cell_type": "code",
   "execution_count": null,
   "id": "dcfb572d",
   "metadata": {},
   "outputs": [],
   "source": [
    "# 參考01\n",
    "# 應該先要考慮到 title 的直是不是字串\n",
    "db.movies.aggregate([\n",
    "    {\n",
    "        $project:{\n",
    "            titleSplit: { $split: [\"$title\", \" \"] },\n",
    "        }\n",
    "    },\n",
    "    {\n",
    "        $match: {\n",
    "            titleSplit: { $size: 1 }\n",
    "        }\n",
    "    }\n",
    "]).itcount()"
   ]
  },
  {
   "cell_type": "code",
   "execution_count": null,
   "id": "bcb8875d",
   "metadata": {},
   "outputs": [],
   "source": [
    "# 參考02\n",
    "db.movies.aggregate([\n",
    "  {\n",
    "    $match: {\n",
    "      title: {\n",
    "        $type: \"string\"\n",
    "      }\n",
    "    }\n",
    "  },\n",
    "  {\n",
    "    $project: {\n",
    "      title: { $split: [\"$title\", \" \"] },\n",
    "      _id: 0\n",
    "    }\n",
    "  },\n",
    "  {\n",
    "    $match: {\n",
    "      title: { $size: 1 }\n",
    "    }\n",
    "  }\n",
    "]).itcount()"
   ]
  },
  {
   "cell_type": "markdown",
   "id": "eec8c01b",
   "metadata": {},
   "source": [
    "### 範例04"
   ]
  },
  {
   "cell_type": "raw",
   "id": "3acdbdc9",
   "metadata": {},
   "source": [
    "Let's find how many movies in our movies collection are a \"labor of love\", where the same person appears in cast, directors, and writers\n",
    "\n",
    "Hint: You will need to use $setIntersection operator in the aggregation pipeline to find out the result.\n",
    "Note that your dataset may have duplicate entries for some films. You do not need to count the duplicate entries."
   ]
  },
  {
   "cell_type": "code",
   "execution_count": null,
   "id": "e38e94ae",
   "metadata": {},
   "outputs": [],
   "source": [
    "# 參考01\n",
    "db.movies.aggregate([\n",
    "    {\n",
    "        $match: {\n",
    "            cast: { $elemMatch: { $exists: true}},\n",
    "            directors: { $elemMatch: { $exists: true}},\n",
    "            writers: { $elemMatch: { $exists: true}}\n",
    "        }\n",
    "    },\n",
    "    {\n",
    "        $project: {\n",
    "            _id: 0,\n",
    "            cast: 1,\n",
    "            directors: 1,\n",
    "            writers: { $map: {\n",
    "                input: \"$writers\",\n",
    "                as: \"writer\",\n",
    "                in: { $arrayElemAt: [{ $split: [ \"$$writer\", \" (\" ]}, 0 ]}\n",
    "            }}\n",
    "        }\n",
    "    },\n",
    "    {\n",
    "        $project: {\n",
    "            \"samePerson\": { $setIntersection: [ \"$cast\", \"$directors\", \"$writers\" ]}\n",
    "        }\n",
    "    },\n",
    "    {\n",
    "        $match: {\n",
    "            \"samePerson\": { $elemMatch: { $exists: true }}\n",
    "        }\n",
    "    }\n",
    "]).itcount()"
   ]
  },
  {
   "cell_type": "code",
   "execution_count": null,
   "id": "dad7d140",
   "metadata": {},
   "outputs": [],
   "source": [
    "# 參考02\n",
    "db.movies.aggregate([\n",
    "  {\n",
    "    $match: {\n",
    "      cast: { $elemMatch: { $exists: true } },\n",
    "      directors: { $elemMatch: { $exists: true } },\n",
    "      writers: { $elemMatch: { $exists: true } }\n",
    "    }\n",
    "  },\n",
    "  {\n",
    "    $project: {\n",
    "      _id: 0,\n",
    "      cast: 1,\n",
    "      directors: 1,\n",
    "      writers: {\n",
    "        $map: {\n",
    "          input: \"$writers\",\n",
    "          as: \"writer\",\n",
    "          in: {\n",
    "            $arrayElemAt: [\n",
    "              {\n",
    "                $split: [\"$$writer\", \" (\"]\n",
    "              },\n",
    "              0\n",
    "            ]\n",
    "          }\n",
    "        }\n",
    "      }\n",
    "    }\n",
    "  },\n",
    "  {\n",
    "    $project: {\n",
    "      labor_of_love: {\n",
    "        $gt: [\n",
    "          { $size: { $setIntersection: [\"$cast\", \"$directors\", \"$writers\"] } },\n",
    "          0\n",
    "        ]\n",
    "      }\n",
    "    }\n",
    "  },\n",
    "  {\n",
    "    $match: { labor_of_love: true }\n",
    "  },\n",
    "  {\n",
    "    $count: \"labors of love\"\n",
    "  }\n",
    "])"
   ]
  }
 ],
 "metadata": {
  "kernelspec": {
   "display_name": "Python 3",
   "language": "python",
   "name": "python3"
  },
  "language_info": {
   "codemirror_mode": {
    "name": "ipython",
    "version": 3
   },
   "file_extension": ".py",
   "mimetype": "text/x-python",
   "name": "python",
   "nbconvert_exporter": "python",
   "pygments_lexer": "ipython3",
   "version": "3.8.10"
  }
 },
 "nbformat": 4,
 "nbformat_minor": 5
}
