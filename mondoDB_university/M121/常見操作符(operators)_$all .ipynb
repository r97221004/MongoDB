{
 "cells": [
  {
   "cell_type": "markdown",
   "id": "3d6a6d5f",
   "metadata": {},
   "source": [
    "# $all"
   ]
  },
  {
   "cell_type": "raw",
   "id": "f4fb5cfa",
   "metadata": {},
   "source": [
    "The $all operator selects the documents where the value of a field is an array that contains all the specified elements. To specify an $all expression, use the following prototype:"
   ]
  },
  {
   "cell_type": "raw",
   "id": "ac035451",
   "metadata": {},
   "source": [
    "{ <field>: { $all: [ <value1> , <value2> ... ] } }"
   ]
  },
  {
   "cell_type": "raw",
   "id": "0e4801cb",
   "metadata": {},
   "source": [
    "# field 要是一個 array 且 包含 value1、value2..."
   ]
  },
  {
   "cell_type": "markdown",
   "id": "3b0de673",
   "metadata": {},
   "source": [
    "# $in"
   ]
  },
  {
   "cell_type": "raw",
   "id": "72b77359",
   "metadata": {},
   "source": [
    "The $in operator selects the documents where the value of a field equals any value in the specified array. To specify an $in expression, use the following prototype:"
   ]
  },
  {
   "cell_type": "raw",
   "id": "6b4d491f",
   "metadata": {},
   "source": [
    "{ field: { $in: [<value1>, <value2>, ... <valueN> ] } }"
   ]
  },
  {
   "cell_type": "raw",
   "id": "f02cf740",
   "metadata": {},
   "source": [
    "If the field holds an array, then the $in operator selects the documents whose field holds an array that contains at least one element that matches a value in the specified array (for example, <value1>, <value2>, and so on)."
   ]
  },
  {
   "cell_type": "raw",
   "id": "2d2f091d",
   "metadata": {},
   "source": [
    "# 假如 field 是一個值，值要落進去指定的元素。\n",
    "# 假如 field 是一個 array，array 中的至少一個值要落進去指定的元素。"
   ]
  },
  {
   "cell_type": "markdown",
   "id": "e51d4d7c",
   "metadata": {},
   "source": [
    "# $nin"
   ]
  },
  {
   "cell_type": "raw",
   "id": "a8ef8c87",
   "metadata": {},
   "source": [
    "$nin selects the documents where:\n",
    "the field value is not in the specified array or\n",
    "the field does not exist."
   ]
  },
  {
   "cell_type": "raw",
   "id": "0f710965",
   "metadata": {},
   "source": [
    "If the field holds an array, then the $nin operator selects the documents whose field holds an array with no element equal to a value in the specified array (for example, <value1>, <value2>, and so on)."
   ]
  },
  {
   "cell_type": "raw",
   "id": "54e0e2ec",
   "metadata": {},
   "source": [
    "Syntax: { field: { $nin: [ <value1>, <value2> ... <valueN> ] } }"
   ]
  },
  {
   "cell_type": "raw",
   "id": "e43de2de",
   "metadata": {},
   "source": [
    "# 假如 field 是一個值，值不能落進去指定的元素。\n",
    "# 假如 field 是一個 array，array 中的全部的值都不能落進去指定的元素。"
   ]
  },
  {
   "cell_type": "markdown",
   "id": "7c2f1d68",
   "metadata": {},
   "source": [
    "# $split(aggregation)"
   ]
  },
  {
   "cell_type": "raw",
   "id": "8a73d80b",
   "metadata": {},
   "source": [
    "Divides a string into an array of substrings based on a delimiter. $split removes the delimiter and returns the resulting substrings as elements of an array. If the delimiter is not found in the string, $split returns the original string as the only element of an array.\n",
    "\n",
    "$split has the following operator expression syntax:"
   ]
  },
  {
   "cell_type": "raw",
   "id": "fce08d75",
   "metadata": {},
   "source": [
    "{ $split: [ <string expression>, <delimiter> ] }"
   ]
  },
  {
   "cell_type": "markdown",
   "id": "9ded5d0b",
   "metadata": {},
   "source": [
    "# $size"
   ]
  },
  {
   "cell_type": "raw",
   "id": "22cd84fb",
   "metadata": {},
   "source": [
    "The $size operator matches any array with the number of elements specified by the argument. For example:"
   ]
  },
  {
   "cell_type": "raw",
   "id": "cbb5dff9",
   "metadata": {},
   "source": [
    "db.collection.find( { field: { $size: 2 } } )"
   ]
  },
  {
   "cell_type": "markdown",
   "id": "a2d346c8",
   "metadata": {},
   "source": [
    "### 範例01"
   ]
  },
  {
   "cell_type": "raw",
   "id": "6f7e3bd2",
   "metadata": {},
   "source": [
    "db.grades.insertMany([\n",
    "  { _id: 1, quizzes: [ 5, 6, 7 ] },\n",
    "  { _id: 2, quizzes: [ ] },\n",
    "  { _id: 3, quizzes: [ 3, 8, 9 ] }\n",
    "])"
   ]
  },
  {
   "cell_type": "code",
   "execution_count": null,
   "id": "27eef140",
   "metadata": {},
   "outputs": [],
   "source": [
    "db.grades.aggregate([\n",
    "    {\n",
    "        $project: {\n",
    "            size: { $size: \"$quizzes\" }\n",
    "        }\n",
    "    }\n",
    "])"
   ]
  },
  {
   "cell_type": "raw",
   "id": "8d0c3123",
   "metadata": {},
   "source": [
    "This operation returns the following results:"
   ]
  },
  {
   "cell_type": "raw",
   "id": "cbe8c58d",
   "metadata": {},
   "source": [
    "{ \"_id\" : 1, \"size\" : 3 }\n",
    "{ \"_id\" : 2, \"size\" : 0 }\n",
    "{ \"_id\" : 3, \"size\" : 3 }"
   ]
  },
  {
   "cell_type": "markdown",
   "id": "105e16bd",
   "metadata": {},
   "source": [
    "# $type"
   ]
  },
  {
   "cell_type": "raw",
   "id": "81e9a466",
   "metadata": {},
   "source": [
    "$type selects documents where the value of the field is an instance of the specified BSON type(s). Querying by data type is useful when dealing with highly unstructured data where data types are not predictable.\n",
    "\n",
    "A $type expression for a single BSON type has the following syntax:"
   ]
  },
  {
   "cell_type": "raw",
   "id": "4e98504f",
   "metadata": {},
   "source": [
    "{ field: { $type: <BSON type> } }"
   ]
  },
  {
   "cell_type": "markdown",
   "id": "f7546baa",
   "metadata": {},
   "source": [
    "[BSON type](https://www.mongodb.com/docs/manual/reference/operator/query/type/#std-label-document-type-available-types\")"
   ]
  },
  {
   "cell_type": "markdown",
   "id": "98121af6",
   "metadata": {},
   "source": [
    "# $elemMatch (query)"
   ]
  },
  {
   "cell_type": "raw",
   "id": "8a15cdc8",
   "metadata": {},
   "source": [
    "The $elemMatch operator matches documents that contain an array field with at least one element that matches all the specified query criteria."
   ]
  },
  {
   "cell_type": "raw",
   "id": "e79a1731",
   "metadata": {},
   "source": [
    "{ <field>: { $elemMatch: { <query1>, <query2>, ... } } }"
   ]
  },
  {
   "cell_type": "markdown",
   "id": "6216a5b4",
   "metadata": {},
   "source": [
    "### 範例01"
   ]
  },
  {
   "cell_type": "raw",
   "id": "ce0fc8f4",
   "metadata": {},
   "source": [
    "There are times when we want to make sure that the field is an array, and that it is not empty. We can do this within $match"
   ]
  },
  {
   "cell_type": "raw",
   "id": "de45dd79",
   "metadata": {},
   "source": [
    "{ $match: { writers: { $elemMatch: { $exists: true } } }"
   ]
  },
  {
   "cell_type": "markdown",
   "id": "afb38062",
   "metadata": {},
   "source": [
    "# $map(aggregation)"
   ]
  },
  {
   "cell_type": "raw",
   "id": "09ecc7e7",
   "metadata": {},
   "source": [
    "Applies an expression to each item in an array and returns an array with the applied results.\n",
    "The $map expression has the following syntax:"
   ]
  },
  {
   "cell_type": "raw",
   "id": "edbed988",
   "metadata": {},
   "source": [
    "{ $map: { input: <expression>, as: <string>, in: <expression> } }"
   ]
  },
  {
   "cell_type": "raw",
   "id": "e91d4d70",
   "metadata": {},
   "source": [
    "Field         Specification\n",
    "\n",
    "input         An expression that resolves to an array.\n",
    "\n",
    "as            Optional. A name for the variable that represents each individual element of the input array. If no name is                 specified, the variable name defaults to this.\n",
    "\n",
    "in            An expression that is applied to each element of the input array. The expression references each element                   individually with the variable name specified in as."
   ]
  },
  {
   "cell_type": "markdown",
   "id": "e92852ee",
   "metadata": {},
   "source": [
    "### 範例01"
   ]
  },
  {
   "cell_type": "code",
   "execution_count": null,
   "id": "f137754d",
   "metadata": {},
   "outputs": [],
   "source": [
    "db.grades.insertMany([\n",
    "  { _id: 1, quizzes: [ 5, 6, 7 ] },\n",
    "  { _id: 2, quizzes: [ ] },\n",
    "  { _id: 3, quizzes: [ 3, 8, 9 ] }\n",
    "])"
   ]
  },
  {
   "cell_type": "code",
   "execution_count": null,
   "id": "9af0ad52",
   "metadata": {},
   "outputs": [],
   "source": [
    "db.grades.aggregate([\n",
    "    {\n",
    "        $project: {\n",
    "            adjustedGrades: {\n",
    "                $map: {\n",
    "                    input: \"$quizzes\",\n",
    "                    as: \"grade\",\n",
    "                    in: { $add: [\"$$grade\", 2 ]}\n",
    "                }\n",
    "            }\n",
    "        }\n",
    "    }\n",
    "])"
   ]
  },
  {
   "cell_type": "raw",
   "id": "9b4fe1c5",
   "metadata": {},
   "source": [
    "This operation returns the following results:"
   ]
  },
  {
   "cell_type": "raw",
   "id": "fc21d41f",
   "metadata": {},
   "source": [
    "{ \"_id\" : 1, \"adjustedGrades\" : [ 7, 8, 9 ] }\n",
    "{ \"_id\" : 2, \"adjustedGrades\" : [ ] }\n",
    "{ \"_id\" : 3, \"adjustedGrades\" : [ 5, 10, 11 ] }"
   ]
  },
  {
   "cell_type": "markdown",
   "id": "fbdbf76c",
   "metadata": {},
   "source": [
    "# $arrayElemAt (aggregation)"
   ]
  },
  {
   "cell_type": "raw",
   "id": "43fa0336",
   "metadata": {},
   "source": [
    "Returns the element at the specified array index.\n",
    "$arrayElemAt has the following syntax:"
   ]
  },
  {
   "cell_type": "raw",
   "id": "5e7a06a5",
   "metadata": {},
   "source": [
    "{ $arrayElemAt: [ <array>, <idx> ] }"
   ]
  },
  {
   "cell_type": "markdown",
   "id": "4e10e475",
   "metadata": {},
   "source": [
    "### 範例01"
   ]
  },
  {
   "cell_type": "raw",
   "id": "9ac752b1",
   "metadata": {},
   "source": [
    "{ \"_id\" : 1, \"name\" : \"dave123\", favorites: [ \"chocolate\", \"cake\", \"butter\", \"apples\" ] }\n",
    "{ \"_id\" : 2, \"name\" : \"li\", favorites: [ \"apples\", \"pudding\", \"pie\" ] }\n",
    "{ \"_id\" : 3, \"name\" : \"ahn\", favorites: [ \"pears\", \"pecans\", \"chocolate\", \"cherries\" ] }\n",
    "{ \"_id\" : 4, \"name\" : \"ty\", favorites: [ \"ice cream\" ] }"
   ]
  },
  {
   "cell_type": "code",
   "execution_count": null,
   "id": "51efd4b8",
   "metadata": {},
   "outputs": [],
   "source": [
    "db.users.aggregate([\n",
    "   {\n",
    "     $project:\n",
    "      {\n",
    "         name: 1,\n",
    "         first: { $arrayElemAt: [ \"$favorites\", 0 ] },\n",
    "         last: { $arrayElemAt: [ \"$favorites\", -1 ] }\n",
    "      }\n",
    "   }\n",
    "])"
   ]
  },
  {
   "cell_type": "raw",
   "id": "96fa7d5a",
   "metadata": {},
   "source": [
    "The operation returns the following results:"
   ]
  },
  {
   "cell_type": "raw",
   "id": "66a7b7b3",
   "metadata": {},
   "source": [
    "{ \"_id\" : 1, \"name\" : \"dave123\", \"first\" : \"chocolate\", \"last\" : \"apples\" }\n",
    "{ \"_id\" : 2, \"name\" : \"li\", \"first\" : \"apples\", \"last\" : \"pie\" }\n",
    "{ \"_id\" : 3, \"name\" : \"ahn\", \"first\" : \"pears\", \"last\" : \"cherries\" }\n",
    "{ \"_id\" : 4, \"name\" : \"ty\", \"first\" : \"ice cream\", \"last\" : \"ice cream\" }"
   ]
  },
  {
   "cell_type": "markdown",
   "id": "94584813",
   "metadata": {},
   "source": [
    "# $setIntersection (aggregation)"
   ]
  },
  {
   "cell_type": "raw",
   "id": "bccbb2a4",
   "metadata": {},
   "source": [
    "Takes two or more arrays and returns an array that contains the elements that appear in every input array.\n",
    "$setIntersection has the following syntax:"
   ]
  },
  {
   "cell_type": "raw",
   "id": "28ebfbae",
   "metadata": {},
   "source": [
    "{ $setIntersection: [ <array1>, <array2>, ... ] }"
   ]
  }
 ],
 "metadata": {
  "kernelspec": {
   "display_name": "Python 3",
   "language": "python",
   "name": "python3"
  },
  "language_info": {
   "codemirror_mode": {
    "name": "ipython",
    "version": 3
   },
   "file_extension": ".py",
   "mimetype": "text/x-python",
   "name": "python",
   "nbconvert_exporter": "python",
   "pygments_lexer": "ipython3",
   "version": "3.8.10"
  }
 },
 "nbformat": 4,
 "nbformat_minor": 5
}
