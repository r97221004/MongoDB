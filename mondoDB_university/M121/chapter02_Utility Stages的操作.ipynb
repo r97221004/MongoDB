{
 "cells": [
  {
   "cell_type": "markdown",
   "id": "2cb81a3a",
   "metadata": {},
   "source": [
    "# $addFields 的操作"
   ]
  },
  {
   "cell_type": "raw",
   "id": "33e6f1f0",
   "metadata": {},
   "source": [
    "# $addFields 會把已經存在的 Field 給 overwritten"
   ]
  },
  {
   "cell_type": "code",
   "execution_count": null,
   "id": "bc2280ac",
   "metadata": {},
   "outputs": [],
   "source": [
    "# reassign ``gravity`` field value\n",
    "db.solarSystem.aggregate([\n",
    "    {\n",
    "        $project: {\n",
    "            \"gravity\": \"$gravity.value\"\n",
    "        }\n",
    "    }\n",
    "\n",
    "]).pretty()"
   ]
  },
  {
   "cell_type": "code",
   "execution_count": null,
   "id": "ea90ba78",
   "metadata": {},
   "outputs": [],
   "source": [
    "# adding ``name`` and removing ``_id`` from projection\n",
    "db.solarSystem.aggregate([\n",
    "    {\n",
    "        $project: {\n",
    "            _id: 0,\n",
    "            name: 1,\n",
    "            \"gravity\": \"$gravity.value\"\n",
    "        }\n",
    "    }\n",
    "\n",
    "]).pretty()"
   ]
  },
  {
   "cell_type": "code",
   "execution_count": null,
   "id": "de447d5c",
   "metadata": {},
   "outputs": [],
   "source": [
    "# adding more fields to the projected document\n",
    "db.solarSystem.aggregate([\n",
    "    {\n",
    "        $project: {\n",
    "\n",
    "            _id: 0,\n",
    "            name: 1,\n",
    "            gravity: \"$gravity.value\",\n",
    "            meanTemperature: 1,\n",
    "            density: 1,\n",
    "            mass: \"$mass.value\",\n",
    "            radius: \"$radius.value\",\n",
    "            sma: \"$sma.value\"\n",
    "        }\n",
    "    }\n",
    "]).pretty()"
   ]
  },
  {
   "cell_type": "code",
   "execution_count": null,
   "id": "fa6a9e7c",
   "metadata": {},
   "outputs": [],
   "source": [
    "# using ``$addFields`` to generate the new computed field values\n",
    "db.solarSystem.aggregate([\n",
    "    {\n",
    "        $addFields: {\n",
    "            gravity: \"$gravity.value\",\n",
    "            mass: \"$mass.value\",\n",
    "            radius: \"$radius.value\",\n",
    "            sma: \"$sma.value\"\n",
    "        }\n",
    "    }\n",
    "]).pretty()"
   ]
  },
  {
   "cell_type": "code",
   "execution_count": null,
   "id": "1237d916",
   "metadata": {},
   "outputs": [],
   "source": [
    "# combining ``$project`` with ``$addFields``\n",
    "db.solarSystem.aggregate([\n",
    "    {\n",
    "        $project: {\n",
    "            _id: 0,\n",
    "            name: 1,\n",
    "            gravity: 1,\n",
    "            mass: 1,\n",
    "            radius: 1,\n",
    "            sma: 1\n",
    "        }\n",
    "    },\n",
    "    {\n",
    "        $addFields: {\n",
    "\n",
    "            gravity: \"$gravity.value\",\n",
    "            mass: \"$mass.value\",\n",
    "            radius: \"$radius.value\",\n",
    "            sma: \"$sma.value\"\n",
    "        }\n",
    "    }\n",
    "]).pretty()"
   ]
  },
  {
   "cell_type": "markdown",
   "id": "8c99d49f",
   "metadata": {},
   "source": [
    "# $geoNear (aggregation) 的操作"
   ]
  },
  {
   "cell_type": "raw",
   "id": "f2114dc3",
   "metadata": {},
   "source": [
    "Outputs documents in order of nearest to farthest from a specified point."
   ]
  },
  {
   "cell_type": "code",
   "execution_count": null,
   "id": "bc27aa1a",
   "metadata": {},
   "outputs": [],
   "source": [
    "# using ``$geoNear`` stage\n",
    "db.nycFacilities.aggregate([\n",
    "    {\n",
    "        $geoNear: {\n",
    "            near: {\n",
    "                type: \"Point\",\n",
    "                \"coordinates\": [-73.98769766092299, 40.757345233626594]\n",
    "            },\n",
    "            distanceField: \"distanceFromMongoDB\",\n",
    "            spherical: true\n",
    "        }\n",
    "    }\n",
    "]).pretty()"
   ]
  },
  {
   "cell_type": "code",
   "execution_count": null,
   "id": "09f9ee8e",
   "metadata": {},
   "outputs": [],
   "source": [
    "# 加入更多 Fields\n",
    "# 離 mongoDB 總部最近的五間醫院\n",
    "db.nycFacilities.aggregate([\n",
    "    {\n",
    "        $geoNear: {\n",
    "            near: {\n",
    "                type: \"Point\",\n",
    "                \"coordinates\": [-73.98769766092299, 40.757345233626594]\n",
    "            },\n",
    "            distanceField: \"distanceFromMongoDB\",\n",
    "            spherical: true,\n",
    "            query: { type: \"Hospital\" },\n",
    "        }\n",
    "    },\n",
    "    {\n",
    "        $limit: 5\n",
    "    }\n",
    "]).pretty()"
   ]
  },
  {
   "cell_type": "markdown",
   "id": "ade5e7c4",
   "metadata": {},
   "source": [
    "# $limit 的操作"
   ]
  },
  {
   "cell_type": "markdown",
   "id": "a3176050",
   "metadata": {},
   "source": [
    "# $skip 的操作"
   ]
  },
  {
   "cell_type": "markdown",
   "id": "82fc47c7",
   "metadata": {},
   "source": [
    "# $sort 的操作"
   ]
  },
  {
   "cell_type": "raw",
   "id": "421e43d3",
   "metadata": {},
   "source": [
    "# $sort 與 $limit 順序調換還是會得到相同的結果"
   ]
  },
  {
   "cell_type": "code",
   "execution_count": null,
   "id": "81cd8ba0",
   "metadata": {},
   "outputs": [],
   "source": [
    "# project fields ``numberOfMoons`` and ``name``\n",
    "db.solarSystem.find({}, {\"_id\": 0, \"name\": 1, \"numberOfMoons\": 1}).pretty()\n",
    "\n",
    "# count the number of documents\n",
    "db.solarSystem.find({}, {\"_id\": 0, \"name\": 1, \"numberOfMoons\": 1}).count()\n",
    "\n",
    "# skip documents\n",
    "db.solarSystem.find({}, {\"_id\": 0, \"name\": 1, \"numberOfMoons\": 1}).skip(5).pretty()\n",
    "\n",
    "# limit documents\n",
    "db.solarSystem.find({}, {\"_id\": 0, \"name\": 1, \"numberOfMoons\": 1}).limit(5).pretty()\n",
    "\n",
    "# sort documents\n",
    "db.solarSystem.find({}, { \"_id\": 0, \"name\": 1, \"numberOfMoons\": 1 }).sort( {\"numberOfMoons\": -1 } ).pretty()"
   ]
  },
  {
   "cell_type": "code",
   "execution_count": null,
   "id": "bcc633d3",
   "metadata": {},
   "outputs": [],
   "source": [
    "# ``$limit`` stage\n",
    "db.solarSystem.aggregate([\n",
    "    {\n",
    "        $project: {\n",
    "\n",
    "            _id: 0,\n",
    "            name: 1,\n",
    "            numberOfMoons: 1\n",
    "        }\n",
    "    },\n",
    "    { $limit: 5}\n",
    "]).pretty()"
   ]
  },
  {
   "cell_type": "code",
   "execution_count": null,
   "id": "57b88dd0",
   "metadata": {},
   "outputs": [],
   "source": [
    "# ``skip`` stage\n",
    "db.solarSystem.aggregate([\n",
    "    {\n",
    "        $project: {\n",
    "\n",
    "            _id: 0,\n",
    "            name: 1,\n",
    "            numberOfMoons: 1\n",
    "        }\n",
    "    },\n",
    "    { $skip: 1 }\n",
    "]).pretty()"
   ]
  },
  {
   "cell_type": "code",
   "execution_count": null,
   "id": "9034bde4",
   "metadata": {},
   "outputs": [],
   "source": [
    "# ``$count`` stage\n",
    "db.solarSystem.aggregate([\n",
    "    {\n",
    "        $match: {\n",
    "            type: \"Terrestrial planet\"\n",
    "        }\n",
    "    },\n",
    "    {\n",
    "        $project: {\n",
    "            _id: 0,\n",
    "            name: 1,\n",
    "            numberOfMoons: 1\n",
    "        }\n",
    "    },\n",
    "    {\n",
    "        $count: \"terrestrial planets\"\n",
    "    }\n",
    "]).pretty()"
   ]
  },
  {
   "cell_type": "code",
   "execution_count": null,
   "id": "4db407ff",
   "metadata": {},
   "outputs": [],
   "source": [
    "# removing ``$project`` stage since it does not interfere with our count\n",
    "db.solarSystem.aggregate([\n",
    "    {\n",
    "        $match: {\n",
    "            type: \"Terrestrial planet\"\n",
    "        }\n",
    "    },\n",
    "    {\n",
    "        $count: \"terrestrial planets\"\n",
    "    }\n",
    "]).pretty()"
   ]
  },
  {
   "cell_type": "code",
   "execution_count": null,
   "id": "34c9c590",
   "metadata": {},
   "outputs": [],
   "source": [
    "# ``$sort`` stage\n",
    "db.solarSystem.aggregate([\n",
    "    {\n",
    "        $project: {\n",
    "\n",
    "            _id: 0,\n",
    "            name: 1,\n",
    "            numberOfMoons: 1\n",
    "        }\n",
    "    },\n",
    "    { $sort: { numberOfMoons: -1 } }\n",
    "]).pretty()"
   ]
  },
  {
   "cell_type": "code",
   "execution_count": null,
   "id": "09718314",
   "metadata": {},
   "outputs": [],
   "source": [
    "# sorting on more than one field\n",
    "db.solarSystem.aggregate([\n",
    "    {\n",
    "        $project: {\n",
    "\n",
    "            _id: 0,\n",
    "            name: 1,\n",
    "            numberOfMoons: 1,\n",
    "            hasMagneticField: 1\n",
    "        }\n",
    "    },\n",
    "    { $sort: { hasMagneticField: -1, numberOfMoons: -1 } }\n",
    "]).pretty()"
   ]
  },
  {
   "cell_type": "code",
   "execution_count": null,
   "id": "e837a8f5",
   "metadata": {},
   "outputs": [],
   "source": [
    "# setting ``allowDiskUse`` option\n",
    "db.solarSystem.aggregate([\n",
    "    {\n",
    "        $project: {\n",
    "\n",
    "            _id: 0,\n",
    "            name: 1,\n",
    "            numberOfMoons: 1,\n",
    "            hasMagneticField: 1\n",
    "        }\n",
    "    },\n",
    "    { $sort: { hasMagneticField: -1, numberOfMoons: -1 } }\n",
    "], {allowDiskUse: true }).pretty()"
   ]
  },
  {
   "cell_type": "markdown",
   "id": "2dbd30a7",
   "metadata": {},
   "source": [
    "# $sample 的操作"
   ]
  },
  {
   "cell_type": "raw",
   "id": "c39e5fa3",
   "metadata": {},
   "source": [
    "Randomly selects the specified number of documents from the input documents.\n",
    "The $sample stage has the following syntax:"
   ]
  },
  {
   "cell_type": "raw",
   "id": "dd376c5b",
   "metadata": {},
   "source": [
    "{ $sample: { size: <positive integer N> } }"
   ]
  },
  {
   "cell_type": "code",
   "execution_count": null,
   "id": "d99a99b8",
   "metadata": {},
   "outputs": [],
   "source": [
    "# sampling 200 documents of collection ``nycFacilities``\n",
    "db.nycFacilities.aggregate([\n",
    "    {\n",
    "        $sample: { size: 200 }\n",
    "    }\n",
    "]).pretty()"
   ]
  },
  {
   "cell_type": "markdown",
   "id": "76f17eee",
   "metadata": {},
   "source": [
    "### 範例01"
   ]
  },
  {
   "cell_type": "raw",
   "id": "3de17698",
   "metadata": {},
   "source": [
    "MongoDB has another movie night scheduled. This time, we polled employees for their favorite actress or actor, and got these results\n",
    "\n",
    "favorites = [\n",
    "  \"Sandra Bullock\",\n",
    "  \"Tom Hanks\",\n",
    "  \"Julia Roberts\",\n",
    "  \"Kevin Spacey\",\n",
    "  \"George Clooney\"]\n",
    "  \n",
    "For movies released in the USA with a tomatoes.viewer.rating greater than or equal to 3, calculate a new field called num_favs that represets how many favorites appear in the cast field of the movie.\n",
    "Sort your results by num_favs, tomatoes.viewer.rating, and title, all in descending order.\n",
    "What is the title of the 25th film in the aggregation result?"
   ]
  },
  {
   "cell_type": "code",
   "execution_count": null,
   "id": "d9d0886b",
   "metadata": {},
   "outputs": [],
   "source": [
    "var favorites = [\n",
    "    \"Sandra Bullock\",\n",
    "    \"Tom Hanks\",\n",
    "    \"Julia Roberts\",\n",
    "    \"Kevin Spacey\",\n",
    "    \"George Clooney\"]\n",
    "\n",
    "db.movies.aggregate([\n",
    "    {\n",
    "        $match: {\n",
    "            countries: { $in: [ \"USA\" ] },\n",
    "            \"tomatoes.viewer.rating\": { $gte: 3 },\n",
    "            cast: { $in: favorites }\n",
    "        }\n",
    "    },\n",
    "    {\n",
    "        $project: {\n",
    "            _id: 0,\n",
    "            title: 1,\n",
    "            tomatoes: \"$tomatoes.viewer.rating\",\n",
    "            num_favs: { $size: { $setIntersection: [ \"$cast\", favorites ] } }\n",
    "        }\n",
    "    },\n",
    "    {\n",
    "        $sort: {\n",
    "            num_favs: -1,\n",
    "            tomatoes: -1,\n",
    "            title: -1\n",
    "        }\n",
    "    },\n",
    "    { $skip: 24 },\n",
    "    { $limit: 1}\n",
    "]).pretty()"
   ]
  },
  {
   "cell_type": "markdown",
   "id": "84f7f49c",
   "metadata": {},
   "source": [
    "### 範例02"
   ]
  },
  {
   "cell_type": "raw",
   "id": "35d9ac46",
   "metadata": {},
   "source": [
    "Calculate an average rating for each movie in our collection where English is an available language, the minimum imdb.rating is at least 1, the minimum imdb.votes is at least 1, and it was released in 1990 or after. You'll be required to rescale (or normalize) imdb.votes. The formula to rescale imdb.votes and calculate normalized_rating is included as a handout.\n",
    "\n",
    "What film has the lowest normalized_rating?"
   ]
  },
  {
   "cell_type": "code",
   "execution_count": null,
   "id": "680340e7",
   "metadata": {},
   "outputs": [],
   "source": [
    "# 這兩個數字怎麼求，下一章會教\n",
    "x_max = 1521105\n",
    "x_min = 5\n",
    "\n",
    "db.movies.aggregate([\n",
    "    {\n",
    "        $match: {\n",
    "            languages: { $in: [\"English\" ] },\n",
    "            \"imdb.rating\": { $gte: 1 },\n",
    "            \"imdb.votes\": { $gte: 1},\n",
    "            year: { $gte: 1990 }\n",
    "        }\n",
    "    },\n",
    "    {\n",
    "        $project: {\n",
    "            _id: 0,\n",
    "            title: 1,\n",
    "            imdbRating: \"$imdb.rating\",\n",
    "            imdbVotes: { $add: [ 1, { $multiply: [ 9, { $divide: [ { $subtract: [ \"$imdb.votes\", x_min] }, { $subtract: [ x_max, x_min ]  } ] } ] } ]}\n",
    "        }\n",
    "    },\n",
    "    {\n",
    "        $project: {\n",
    "            title: 1,\n",
    "            normalized_rating: { $avg: [ \"$imdbRating\", \"$imdbVotes\" ]}\n",
    "        }\n",
    "    },\n",
    "    { $sort: { normalized_rating: 1 }},\n",
    "    { $limit: 1 }\n",
    "\n",
    "]).pretty()"
   ]
  }
 ],
 "metadata": {
  "kernelspec": {
   "display_name": "Python 3",
   "language": "python",
   "name": "python3"
  },
  "language_info": {
   "codemirror_mode": {
    "name": "ipython",
    "version": 3
   },
   "file_extension": ".py",
   "mimetype": "text/x-python",
   "name": "python",
   "nbconvert_exporter": "python",
   "pygments_lexer": "ipython3",
   "version": "3.8.10"
  }
 },
 "nbformat": 4,
 "nbformat_minor": 5
}
