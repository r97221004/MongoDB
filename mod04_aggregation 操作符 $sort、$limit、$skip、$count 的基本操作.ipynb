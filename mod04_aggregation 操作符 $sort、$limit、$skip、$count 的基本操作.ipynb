{
 "cells": [
  {
   "cell_type": "markdown",
   "id": "dcd908ae",
   "metadata": {},
   "source": [
    " # \\\\$sort、\\\\$limit、\\\\$skip、\\\\$count 的基本操作"
   ]
  },
  {
   "cell_type": "raw",
   "id": "5b1d060a",
   "metadata": {},
   "source": [
    "注意操作符 $sort 與 $limit 的順序調換還是會得到相同的結果。"
   ]
  },
  {
   "cell_type": "code",
   "execution_count": null,
   "id": "7238fe93",
   "metadata": {},
   "outputs": [],
   "source": [
    "# project fields ``numberOfMoons`` and ``name``\n",
    "db.solarSystem.find({}, {\"_id\": 0, \"name\": 1, \"numberOfMoons\": 1}).pretty()\n",
    "\n",
    "# count the number of documents\n",
    "db.solarSystem.find({}, {\"_id\": 0, \"name\": 1, \"numberOfMoons\": 1}).count()\n",
    "\n",
    "# skip documents\n",
    "db.solarSystem.find({}, {\"_id\": 0, \"name\": 1, \"numberOfMoons\": 1}).skip(5).pretty()\n",
    "\n",
    "# limit documents\n",
    "db.solarSystem.find({}, {\"_id\": 0, \"name\": 1, \"numberOfMoons\": 1}).limit(5).pretty()\n",
    "\n",
    "# sort documents\n",
    "db.solarSystem.find({}, { \"_id\": 0, \"name\": 1, \"numberOfMoons\": 1 }).sort( {\"numberOfMoons\": -1 } ).pretty()"
   ]
  },
  {
   "cell_type": "code",
   "execution_count": null,
   "id": "882de05b",
   "metadata": {},
   "outputs": [],
   "source": [
    "# ``$limit`` stage\n",
    "db.solarSystem.aggregate([\n",
    "    {\n",
    "        $project: {\n",
    "\n",
    "            _id: 0,\n",
    "            name: 1,\n",
    "            numberOfMoons: 1\n",
    "        }\n",
    "    },\n",
    "    { $limit: 5}\n",
    "]).pretty()"
   ]
  },
  {
   "cell_type": "code",
   "execution_count": null,
   "id": "994323f7",
   "metadata": {},
   "outputs": [],
   "source": [
    "# ``skip`` stage\n",
    "db.solarSystem.aggregate([\n",
    "    {\n",
    "        $project: {\n",
    "\n",
    "            _id: 0,\n",
    "            name: 1,\n",
    "            numberOfMoons: 1\n",
    "        }\n",
    "    },\n",
    "    { $skip: 1 }\n",
    "]).pretty()"
   ]
  },
  {
   "cell_type": "code",
   "execution_count": null,
   "id": "a32f5699",
   "metadata": {},
   "outputs": [],
   "source": [
    "# ``$count`` stage\n",
    "db.solarSystem.aggregate([\n",
    "    {\n",
    "        $match: {\n",
    "            type: \"Terrestrial planet\"\n",
    "        }\n",
    "    },\n",
    "    {\n",
    "        $project: {\n",
    "            _id: 0,\n",
    "            name: 1,\n",
    "            numberOfMoons: 1\n",
    "        }\n",
    "    },\n",
    "    {\n",
    "        $count: \"terrestrial planets\"\n",
    "    }\n",
    "]).pretty()"
   ]
  },
  {
   "cell_type": "code",
   "execution_count": null,
   "id": "05a04a09",
   "metadata": {},
   "outputs": [],
   "source": [
    "# removing ``$project`` stage since it does not interfere with our count\n",
    "db.solarSystem.aggregate([\n",
    "    {\n",
    "        $match: {\n",
    "            type: \"Terrestrial planet\"\n",
    "        }\n",
    "    },\n",
    "    {\n",
    "        $count: \"terrestrial planets\"\n",
    "    }\n",
    "]).pretty()"
   ]
  },
  {
   "cell_type": "code",
   "execution_count": null,
   "id": "084d8436",
   "metadata": {},
   "outputs": [],
   "source": [
    "# ``$sort`` stage\n",
    "db.solarSystem.aggregate([\n",
    "    {\n",
    "        $project: {\n",
    "\n",
    "            _id: 0,\n",
    "            name: 1,\n",
    "            numberOfMoons: 1\n",
    "        }\n",
    "    },\n",
    "    { $sort: { numberOfMoons: -1 } }\n",
    "]).pretty()"
   ]
  },
  {
   "cell_type": "code",
   "execution_count": null,
   "id": "271078cd",
   "metadata": {},
   "outputs": [],
   "source": [
    "# sorting on more than one field\n",
    "db.solarSystem.aggregate([\n",
    "    {\n",
    "        $project: {\n",
    "\n",
    "            _id: 0,\n",
    "            name: 1,\n",
    "            numberOfMoons: 1,\n",
    "            hasMagneticField: 1\n",
    "        }\n",
    "    },\n",
    "    { $sort: { hasMagneticField: -1, numberOfMoons: -1 } }\n",
    "]).pretty()"
   ]
  },
  {
   "cell_type": "code",
   "execution_count": null,
   "id": "706e789f",
   "metadata": {},
   "outputs": [],
   "source": [
    "# setting ``allowDiskUse`` option\n",
    "# 注意 aggregate RAM 最多使用 100 MB，如果超過就要搭配選項 { allowDiskUse: true } 使用了。 \n",
    "db.solarSystem.aggregate([\n",
    "    {\n",
    "        $project: {\n",
    "\n",
    "            _id: 0,\n",
    "            name: 1,\n",
    "            numberOfMoons: 1,\n",
    "            hasMagneticField: 1\n",
    "        }\n",
    "    },\n",
    "    { $sort: { hasMagneticField: -1, numberOfMoons: -1 } }\n",
    "], {allowDiskUse: true }).pretty()"
   ]
  },
  {
   "cell_type": "markdown",
   "id": "287431f3",
   "metadata": {},
   "source": [
    "### 範例01"
   ]
  },
  {
   "cell_type": "raw",
   "id": "07385b2b",
   "metadata": {},
   "source": [
    "MongoDB has another movie night scheduled. This time, we polled employees for their favorite actress or actor, and got these results\n",
    "\n",
    "favorites = [\n",
    "  \"Sandra Bullock\",\n",
    "  \"Tom Hanks\",\n",
    "  \"Julia Roberts\",\n",
    "  \"Kevin Spacey\",\n",
    "  \"George Clooney\"]\n",
    "  \n",
    "For movies released in the USA with a tomatoes.viewer.rating greater than or equal to 3, calculate a new field called num_favs that represets how many favorites appear in the cast field of the movie.\n",
    "Sort your results by num_favs, tomatoes.viewer.rating, and title, all in descending order.\n",
    "What is the title of the 25th film in the aggregation result?"
   ]
  },
  {
   "cell_type": "code",
   "execution_count": null,
   "id": "76db04b5",
   "metadata": {},
   "outputs": [],
   "source": [
    "var favorites = [\n",
    "    \"Sandra Bullock\",\n",
    "    \"Tom Hanks\",\n",
    "    \"Julia Roberts\",\n",
    "    \"Kevin Spacey\",\n",
    "    \"George Clooney\"]\n",
    "\n",
    "db.movies.aggregate([\n",
    "    {\n",
    "        $match: {\n",
    "            countries: { $in: [ \"USA\" ] },\n",
    "            \"tomatoes.viewer.rating\": { $gte: 3 },\n",
    "            cast: { $in: favorites }\n",
    "        }\n",
    "    },\n",
    "    {\n",
    "        $project: {\n",
    "            _id: 0,\n",
    "            title: 1,\n",
    "            tomatoes: \"$tomatoes.viewer.rating\",\n",
    "            num_favs: { $size: { $setIntersection: [ \"$cast\", favorites ] } }\n",
    "        }\n",
    "    },\n",
    "    {\n",
    "        $sort: {\n",
    "            num_favs: -1,\n",
    "            tomatoes: -1,\n",
    "            title: -1\n",
    "        }\n",
    "    },\n",
    "    { $skip: 24 },\n",
    "    { $limit: 1}\n",
    "]).pretty()"
   ]
  },
  {
   "cell_type": "markdown",
   "id": "3c508bbf",
   "metadata": {},
   "source": [
    "### 範例02"
   ]
  },
  {
   "cell_type": "raw",
   "id": "8434d6d7",
   "metadata": {},
   "source": [
    "Calculate an average rating for each movie in our collection where English is an available language, the minimum imdb.rating is at least 1, the minimum imdb.votes is at least 1, and it was released in 1990 or after. You'll be required to rescale (or normalize) imdb.votes. The formula to rescale imdb.votes and calculate normalized_rating is included as a handout.\n",
    "\n",
    "What film has the lowest normalized_rating?"
   ]
  },
  {
   "cell_type": "code",
   "execution_count": null,
   "id": "9538444a",
   "metadata": {},
   "outputs": [],
   "source": [
    "# 這兩個數字怎麼求，我們使用範例03來處理。\n",
    "x_max = 1521105\n",
    "x_min = 5\n",
    "\n",
    "db.movies.aggregate([\n",
    "    {\n",
    "        $match: {\n",
    "            languages: { $in: [\"English\" ] },\n",
    "            \"imdb.rating\": { $gte: 1 },\n",
    "            \"imdb.votes\": { $gte: 1},\n",
    "            year: { $gte: 1990 }\n",
    "        }\n",
    "    },\n",
    "    {\n",
    "        $project: {\n",
    "            _id: 0,\n",
    "            title: 1,\n",
    "            imdbRating: \"$imdb.rating\",\n",
    "            imdbVotes: { $add: [ 1, { $multiply: [ 9, { $divide: [ { $subtract: [ \"$imdb.votes\", x_min] }, { $subtract: [ x_max, x_min ]  } ] } ] } ]}\n",
    "        }\n",
    "    },\n",
    "    {\n",
    "        $project: {\n",
    "            title: 1,\n",
    "            normalized_rating: { $avg: [ \"$imdbRating\", \"$imdbVotes\" ]}\n",
    "        }\n",
    "    },\n",
    "    { $sort: { normalized_rating: 1 }},\n",
    "    { $limit: 1 }\n",
    "\n",
    "]).pretty()"
   ]
  },
  {
   "cell_type": "markdown",
   "id": "c67f2ce7",
   "metadata": {},
   "source": [
    "### 範例03"
   ]
  },
  {
   "cell_type": "code",
   "execution_count": null,
   "id": "a8073a56",
   "metadata": {},
   "outputs": [],
   "source": [
    "# 要非常注意的是一開始要先進行過濾，排除一些不是數字型態的 documnets。\n",
    "db.movies.aggregate([\n",
    "    {\n",
    "        $match: {\n",
    "            \"imdb.votes\": { \"$type\": \"int\"} \n",
    "        }\n",
    "    },    \n",
    "    {\n",
    "        $group: {\n",
    "            _id: null,\n",
    "            max_votes: { $max: \"$imdb.votes\" },\n",
    "            min_votes: { $min: \"$imdb.votes\" }\n",
    "        }\n",
    "    }\n",
    "]).pretty()"
   ]
  }
 ],
 "metadata": {
  "kernelspec": {
   "display_name": "Python 3",
   "language": "python",
   "name": "python3"
  },
  "language_info": {
   "codemirror_mode": {
    "name": "ipython",
    "version": 3
   },
   "file_extension": ".py",
   "mimetype": "text/x-python",
   "name": "python",
   "nbconvert_exporter": "python",
   "pygments_lexer": "ipython3",
   "version": "3.8.10"
  }
 },
 "nbformat": 4,
 "nbformat_minor": 5
}
