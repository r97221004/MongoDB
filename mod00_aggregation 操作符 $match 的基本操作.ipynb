{
 "cells": [
  {
   "cell_type": "markdown",
   "id": "8196335e",
   "metadata": {},
   "source": [
    "# 簡單的 pipeline 的結構"
   ]
  },
  {
   "cell_type": "raw",
   "id": "c67990fb",
   "metadata": {},
   "source": [
    "我們先從一個簡單的範例來了解 pipeline 的結構。"
   ]
  },
  {
   "cell_type": "markdown",
   "id": "1934aefd",
   "metadata": {},
   "source": [
    "### 範例01"
   ]
  },
  {
   "cell_type": "raw",
   "id": "1b1be37d",
   "metadata": {},
   "source": [
    "1. operators: $match、$project、$in、$gte、$lte、\n",
    "2. expressions: $gt (像是函數一樣，在這代入了兩個參數)\n",
    "3. options: { allowDiskUse: true }"
   ]
  },
  {
   "cell_type": "code",
   "execution_count": null,
   "id": "3bdd2719",
   "metadata": {},
   "outputs": [],
   "source": [
    "db.solarSystem.aggregate([\n",
    "    {\n",
    "        $match: { \n",
    "            atmosphericComposition: { $in: [/O2/] },\n",
    "            meanTemperature: { $gte: -40, $lte: 40 }\n",
    "        }\n",
    "    },\n",
    "    {\n",
    "        $project: {\n",
    "            _id: 0,\n",
    "            name: 1,\n",
    "            hasMoons: { $gt: [\"$numberOfMoons\", 0] }\n",
    "        }\n",
    "    }\n",
    "], { allowDiskUse: true })"
   ]
  },
  {
   "cell_type": "markdown",
   "id": "4a05daae",
   "metadata": {},
   "source": [
    "# $match 的基本操作"
   ]
  },
  {
   "cell_type": "raw",
   "id": "e21b0069",
   "metadata": {},
   "source": [
    "注意 $match 操作符使用 query operator 的操作，不能使用 expression。"
   ]
  },
  {
   "cell_type": "code",
   "execution_count": null,
   "id": "d14213e3",
   "metadata": {},
   "outputs": [],
   "source": [
    "# $match all celestial bodies, not equal to Star\n",
    "db.solarSystem.aggregate([\n",
    "    {\n",
    "        $match: {\n",
    "            type: { $ne: \"Star\" }\n",
    "        }\n",
    "    }\n",
    "]).pretty()"
   ]
  },
  {
   "cell_type": "code",
   "execution_count": null,
   "id": "b974bb54",
   "metadata": {},
   "outputs": [],
   "source": [
    "# same query using find command\n",
    "db.solarSystem.find({ type: { $ne: \"Star\" }}).pretty()"
   ]
  },
  {
   "cell_type": "code",
   "execution_count": null,
   "id": "ce63d6d0",
   "metadata": {},
   "outputs": [],
   "source": [
    "# count the number of matching documents\n",
    "db.solarSystem.find({ type: { $ne: \"Star\"}}).count()"
   ]
  },
  {
   "cell_type": "code",
   "execution_count": null,
   "id": "2acd0136",
   "metadata": {},
   "outputs": [],
   "source": [
    "# using $count\n",
    "db.solarSystem.aggregate([\n",
    "    {\n",
    "        $match: {\n",
    "            type: { $ne: \"Star\"}\n",
    "        }\n",
    "    },\n",
    "    { $count: \"planets\"}\n",
    "])"
   ]
  },
  {
   "cell_type": "code",
   "execution_count": null,
   "id": "e992af93",
   "metadata": {},
   "outputs": [],
   "source": [
    "# matching on value, and removing ``_id`` from projected document\n",
    "db.solarSystem.find({ name: \"Earth\" }, { \"_id\": 0 }).pretty()"
   ]
  },
  {
   "cell_type": "markdown",
   "id": "64e1254f",
   "metadata": {},
   "source": [
    "### 範例01"
   ]
  },
  {
   "cell_type": "raw",
   "id": "27f3e7fd",
   "metadata": {},
   "source": [
    "Help MongoDB pick a movie our next movie night! Based on employee polling, we've decided that potential movies must meet the following criteria.\n",
    "\n",
    "1. imdb.rating is at least 7\n",
    "2. genres does not contain \"Crime\" or \"Horror\"\n",
    "3. rated is either \"PG\" or \"G\"\n",
    "4. languages contains \"English\" and \"Japanese\""
   ]
  },
  {
   "cell_type": "code",
   "execution_count": null,
   "id": "71c8a772",
   "metadata": {},
   "outputs": [],
   "source": [
    "var pipeline = [\n",
    "    {\n",
    "        $match: {\n",
    "            \"imdb.rating\": { $gte: 7 },\n",
    "            genres: { $nin: [ \"Crime\", \"Horror\" ]},\n",
    "            rated: { $in: [ \"PG\", \"G\" ]},\n",
    "            languages: { $all: [ \"English\", \"Japanese\" ]}\n",
    "        }\n",
    "    }\n",
    "]\n",
    "\n",
    "db.movies.aggregate(pipeline).pretty()"
   ]
  }
 ],
 "metadata": {
  "kernelspec": {
   "display_name": "Python 3",
   "language": "python",
   "name": "python3"
  },
  "language_info": {
   "codemirror_mode": {
    "name": "ipython",
    "version": 3
   },
   "file_extension": ".py",
   "mimetype": "text/x-python",
   "name": "python",
   "nbconvert_exporter": "python",
   "pygments_lexer": "ipython3",
   "version": "3.8.10"
  }
 },
 "nbformat": 4,
 "nbformat_minor": 5
}
