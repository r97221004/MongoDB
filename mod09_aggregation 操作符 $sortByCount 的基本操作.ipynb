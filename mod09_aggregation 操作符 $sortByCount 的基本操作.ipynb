{
 "cells": [
  {
   "cell_type": "markdown",
   "id": "0a55bfd1",
   "metadata": {},
   "source": [
    "# $sortByCount 的基本操作"
   ]
  },
  {
   "cell_type": "code",
   "execution_count": null,
   "id": "a53f8d8d",
   "metadata": {},
   "outputs": [],
   "source": [
    "# find one company document\n",
    "db.companies.findOne()\n",
    "\n",
    "# create text index\n",
    "db.companies.createIndex({ description: \"text\", overview: \"text\" })"
   ]
  },
  {
   "cell_type": "code",
   "execution_count": null,
   "id": "5b1d4745",
   "metadata": {},
   "outputs": [],
   "source": [
    "# find companies matching term `networking` using text search\n",
    "db.companies.aggregate([\n",
    "    {\n",
    "        $match: {\n",
    "            $text: { $search: \"network\" }\n",
    "        }\n",
    "    }\n",
    "]).pretty()"
   ]
  },
  {
   "cell_type": "code",
   "execution_count": null,
   "id": "be4b5d67",
   "metadata": {},
   "outputs": [],
   "source": [
    "# $sortByCount single query facet for the previous search\n",
    "# 當然也可以使用操作符 $group。\n",
    "db.companies.aggregate([\n",
    "    {\n",
    "        $match: {\n",
    "            $text: { $search: \"network\" }\n",
    "        }\n",
    "    },\n",
    "    { $sortByCount: \"$category_code\" }\n",
    "]).pretty()"
   ]
  },
  {
   "cell_type": "code",
   "execution_count": null,
   "id": "584adcae",
   "metadata": {},
   "outputs": [],
   "source": [
    "# extend the pipeline for a more elaborate facet\n",
    "db.companies.aggregate([\n",
    "    {\n",
    "        $match: {\n",
    "            $text: { $search: \"network\" }\n",
    "        }\n",
    "    },\n",
    "    {\n",
    "        $unwind: \"$offices\"\n",
    "    },\n",
    "    {\n",
    "        $match: { \"offices.city\": { $ne: \"\" }}\n",
    "    },\n",
    "    {\n",
    "        $sortByCount: \"$offices.city\"\n",
    "    }\n",
    "]).pretty()"
   ]
  },
  {
   "cell_type": "markdown",
   "id": "b3663109",
   "metadata": {},
   "source": [
    "### 範例01"
   ]
  },
  {
   "cell_type": "code",
   "execution_count": null,
   "id": "00cef39d",
   "metadata": {},
   "outputs": [],
   "source": [
    "# performing a group followed by a sort to rank occurence\n",
    "db.movies.aggregate([\n",
    "    {\n",
    "        $group: {\n",
    "            _id: \"$imdb.rating\",\n",
    "            count: { $sum: 1}\n",
    "        }\n",
    "    },\n",
    "    { $sort: { count: -1 }}\n",
    "])"
   ]
  },
  {
   "cell_type": "code",
   "execution_count": null,
   "id": "2e80121e",
   "metadata": {},
   "outputs": [],
   "source": [
    "# sortByCount is equivalent to the above. In fact, if you execute this pipeline\n",
    "# with { explain: true } you will see that it is transformed to the above!\n",
    "db.movies.aggregate([\n",
    "    {\n",
    "        $sortByCount: \"$imdb.rating\"\n",
    "    }\n",
    "])"
   ]
  }
 ],
 "metadata": {
  "kernelspec": {
   "display_name": "Python 3",
   "language": "python",
   "name": "python3"
  },
  "language_info": {
   "codemirror_mode": {
    "name": "ipython",
    "version": 3
   },
   "file_extension": ".py",
   "mimetype": "text/x-python",
   "name": "python",
   "nbconvert_exporter": "python",
   "pygments_lexer": "ipython3",
   "version": "3.8.10"
  }
 },
 "nbformat": 4,
 "nbformat_minor": 5
}
