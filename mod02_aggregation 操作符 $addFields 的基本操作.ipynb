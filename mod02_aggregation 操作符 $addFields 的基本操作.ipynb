{
 "cells": [
  {
   "cell_type": "markdown",
   "id": "381c28be",
   "metadata": {},
   "source": [
    "# $addFields 的基本操作"
   ]
  },
  {
   "cell_type": "raw",
   "id": "35c5609e",
   "metadata": {},
   "source": [
    "注意 $addFields 操作符會把已經存在的 Field 給 overwritten。\n",
    "有時候你只是單單想改某個 key 的值，但如果直接使用操作符 $project 有時會很不方便，因為你還要把其他的 keys 也包含進來。\n",
    "這時候就是需要操作符 $addFields 的時候了。最佳的辦法就是用操作符 $project 選 keys ，再用操作符 $addFields 修改對應的值。"
   ]
  },
  {
   "cell_type": "code",
   "execution_count": null,
   "id": "fbe9a641",
   "metadata": {},
   "outputs": [],
   "source": [
    "# reassign ``gravity`` field value\n",
    "db.solarSystem.aggregate([\n",
    "    {\n",
    "        $project: {\n",
    "            \"gravity\": \"$gravity.value\"\n",
    "        }\n",
    "    }\n",
    "\n",
    "]).pretty()"
   ]
  },
  {
   "cell_type": "code",
   "execution_count": null,
   "id": "4012862f",
   "metadata": {},
   "outputs": [],
   "source": [
    "# adding ``name`` and removing ``_id`` from projection\n",
    "db.solarSystem.aggregate([\n",
    "    {\n",
    "        $project: {\n",
    "            _id: 0,\n",
    "            name: 1,\n",
    "            \"gravity\": \"$gravity.value\"\n",
    "        }\n",
    "    }\n",
    "\n",
    "]).pretty()"
   ]
  },
  {
   "cell_type": "code",
   "execution_count": null,
   "id": "0229238b",
   "metadata": {},
   "outputs": [],
   "source": [
    "# adding more fields to the projected document\n",
    "db.solarSystem.aggregate([\n",
    "    {\n",
    "        $project: {\n",
    "\n",
    "            _id: 0,\n",
    "            name: 1,\n",
    "            gravity: \"$gravity.value\",\n",
    "            meanTemperature: 1,\n",
    "            density: 1,\n",
    "            mass: \"$mass.value\",\n",
    "            radius: \"$radius.value\",\n",
    "            sma: \"$sma.value\"\n",
    "        }\n",
    "    }\n",
    "]).pretty()"
   ]
  },
  {
   "cell_type": "code",
   "execution_count": null,
   "id": "7e6316ed",
   "metadata": {},
   "outputs": [],
   "source": [
    "# using ``$addFields`` to generate the new computed field values\n",
    "db.solarSystem.aggregate([\n",
    "    {\n",
    "        $addFields: {\n",
    "            gravity: \"$gravity.value\",\n",
    "            mass: \"$mass.value\",\n",
    "            radius: \"$radius.value\",\n",
    "            sma: \"$sma.value\"\n",
    "        }\n",
    "    }\n",
    "]).pretty()"
   ]
  },
  {
   "cell_type": "code",
   "execution_count": null,
   "id": "36b27119",
   "metadata": {},
   "outputs": [],
   "source": [
    "# combining ``$project`` with ``$addFields``\n",
    "db.solarSystem.aggregate([\n",
    "    {\n",
    "        $project: {\n",
    "            _id: 0,\n",
    "            name: 1,\n",
    "            gravity: 1,\n",
    "            mass: 1,\n",
    "            radius: 1,\n",
    "            sma: 1\n",
    "        }\n",
    "    },\n",
    "    {\n",
    "        $addFields: {\n",
    "\n",
    "            gravity: \"$gravity.value\",\n",
    "            mass: \"$mass.value\",\n",
    "            radius: \"$radius.value\",\n",
    "            sma: \"$sma.value\"\n",
    "        }\n",
    "    }\n",
    "]).pretty()"
   ]
  }
 ],
 "metadata": {
  "kernelspec": {
   "display_name": "Python 3",
   "language": "python",
   "name": "python3"
  },
  "language_info": {
   "codemirror_mode": {
    "name": "ipython",
    "version": 3
   },
   "file_extension": ".py",
   "mimetype": "text/x-python",
   "name": "python",
   "nbconvert_exporter": "python",
   "pygments_lexer": "ipython3",
   "version": "3.8.10"
  }
 },
 "nbformat": 4,
 "nbformat_minor": 5
}
